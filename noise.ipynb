{
  "cells": [
    {
      "cell_type": "code",
      "source": [
        "import os\n",
        "import librosa\n",
        "import pandas as pd\n",
        "import numpy as np\n",
        "import matplotlib.pyplot as plt\n",
        "import librosa.display\n",
        "from sklearn.model_selection import train_test_split\n",
        "from sklearn.ensemble import RandomForestClassifier\n",
        "from sklearn.naive_bayes import GaussianNB\n",
        "from sklearn.neighbors import KNeighborsClassifier\n",
        "from sklearn.preprocessing import StandardScaler\n",
        "from sklearn.metrics import accuracy_score, precision_score, recall_score, f1_score\n",
        "import lightgbm as lgb\n",
        "from keras.models import Sequential\n",
        "from keras.layers import LSTM, Dense, Dropout\n",
        "from sklearn.decomposition import PCA\n",
        "import warnings\n",
        "warnings.filterwarnings(\"ignore\", category=UserWarning)"
      ],
      "metadata": {
        "id": "IyGP8t3h5FDK"
      },
      "execution_count": 19,
      "outputs": []
    },
    {
      "cell_type": "code",
      "source": [
        "# Montar o Google Drive\n",
        "from google.colab import drive\n",
        "drive.mount('/content/drive', force_remount=True)"
      ],
      "metadata": {
        "colab": {
          "base_uri": "https://localhost:8080/"
        },
        "id": "NX-59NtLUgIp",
        "outputId": "afe3f658-5d1d-44d5-ddfc-e78f4d491920"
      },
      "execution_count": 20,
      "outputs": [
        {
          "output_type": "stream",
          "name": "stdout",
          "text": [
            "Mounted at /content/drive\n"
          ]
        }
      ]
    },
    {
      "cell_type": "code",
      "source": [
        "# Parâmetro do ruído\n",
        "noise_factor = 0.05\n",
        "\n",
        "# Função para adicionar diferentes tipos de ruído\n",
        "def add_noise(y, sr, noise_factor=noise_factor, noise_type=\"white\"):\n",
        "    if noise_type == \"white\":\n",
        "        noise = np.random.randn(len(y))  # Ruído branco\n",
        "    elif noise_type == \"pink\":\n",
        "        noise = np.cumsum(np.random.randn(len(y)))  # Ruído rosa\n",
        "        noise = noise / max(abs(noise))  # Normalizar o ruído rosa\n",
        "    elif noise_type == \"background\":\n",
        "        try:\n",
        "            bg_noise, _ = librosa.load(\"background_noise.wav\", sr=sr)  # Ruído real\n",
        "            noise = np.interp(np.linspace(0, len(bg_noise), len(y)), np.arange(len(bg_noise)), bg_noise)\n",
        "        except Exception as e:\n",
        "            print(f\"Erro ao carregar ruído de fundo: {e}\")\n",
        "            noise = np.random.randn(len(y))  # Se falhar, usa ruído branco\n",
        "    else:\n",
        "        raise ValueError(\"Tipo de ruído inválido. Escolha entre 'white', 'pink' ou 'background'.\")\n",
        "\n",
        "    y_noise = y + noise_factor * noise\n",
        "    return np.clip(y_noise, -1.0, 1.0)  # Normaliza o áudio para evitar distorção\n",
        "\n",
        "# Função para extrair MFCCs do áudio\n",
        "def extract_features(y, sr):\n",
        "    try:\n",
        "        mfccs = librosa.feature.mfcc(y=y, sr=sr, n_mfcc=13)\n",
        "        return np.mean(mfccs.T, axis=0)  # Retorna a média dos coeficientes\n",
        "    except Exception as e:\n",
        "        print(f\"Erro ao extrair MFCCs: {e}\")\n",
        "        return None\n",
        "\n",
        "# Função para carregar dados e aplicar ruído\n",
        "def load_data_with_noise(folder_path, label, noise_type=\"white\"):\n",
        "    data = []\n",
        "    labels = []\n",
        "\n",
        "    for file_name in os.listdir(folder_path):\n",
        "        file_path = os.path.join(folder_path, file_name)\n",
        "        try:\n",
        "            y, sr = librosa.load(file_path, sr=None)\n",
        "\n",
        "            # Extrair features do áudio original\n",
        "            features = extract_features(y, sr)\n",
        "            if features is not None:\n",
        "                data.append(features)\n",
        "                labels.append(label)\n",
        "\n",
        "            # Adicionar ruído e extrair features novamente\n",
        "            y_noise = add_noise(y, sr, noise_type=noise_type)\n",
        "            features_noise = extract_features(y_noise, sr)\n",
        "\n",
        "            if features_noise is not None:\n",
        "                data.append(features_noise)\n",
        "                labels.append(label)\n",
        "\n",
        "        except Exception as e:\n",
        "            print(f\"Erro ao processar {file_path}: {e}\")\n",
        "\n",
        "    return data, labels"
      ],
      "metadata": {
        "id": "dFVi8Ikv5dk3"
      },
      "execution_count": 21,
      "outputs": []
    },
    {
      "cell_type": "code",
      "source": [
        "# Definir caminhos dos áudios\n",
        "file_path_real = '/content/drive/MyDrive/audios_FOR/real'\n",
        "file_path_fake = '/content/drive/MyDrive/audios_FOR/fake'\n",
        "\n",
        "# Criar diretórios se não existirem\n",
        "os.makedirs(file_path_real, exist_ok=True)\n",
        "os.makedirs(file_path_fake, exist_ok=True)\n",
        "\n",
        "# Carregar dados com ruído\n",
        "data_real, labels_real = load_data_with_noise(file_path_real, label=1, noise_type=\"pink\")  # Áudios reais\n",
        "data_fake, labels_fake = load_data_with_noise(file_path_fake, label=0, noise_type=\"white\")  # Áudios falsos\n",
        "\n",
        "# Unir dados reais e falsos\n",
        "data = data_real + data_fake\n",
        "labels = labels_real + labels_fake\n",
        "\n",
        "# Remover valores None\n",
        "data_filtered, labels_filtered = zip(*[(d, l) for d, l in zip(data, labels) if d is not None])"
      ],
      "metadata": {
        "id": "LLLGCK6U5oo5"
      },
      "execution_count": 22,
      "outputs": []
    },
    {
      "cell_type": "code",
      "source": [
        "# Função para plotar a comparação com as formas de onda em preto\n",
        "def plot_audio_comparison(folder_path, noise_type=\"background\", noise_factor=0.05):\n",
        "\n",
        "    # Usa o estilo padrão com fundo branco\n",
        "    plt.style.use('default')\n",
        "\n",
        "    # Pega o primeiro arquivo da pasta\n",
        "    first_audio_file = os.listdir(folder_path)[0]\n",
        "    audio_path = os.path.join(folder_path, first_audio_file)\n",
        "\n",
        "    # Carrega o áudio\n",
        "    y, sr = librosa.load(audio_path, sr=None)\n",
        "\n",
        "    # Aplica o ruído\n",
        "    y_noise = add_noise(y, sr, noise_factor=noise_factor, noise_type=noise_type)\n",
        "\n",
        "    # Cor preta mais clara\n",
        "    wave_color = \"#333333\"  # Cinza escuro\n",
        "\n",
        "    # Plota o original e com ruído\n",
        "    plt.figure(figsize=(10, 6))\n",
        "\n",
        "    plt.subplot(2, 1, 1)\n",
        "    plt.title(\"Áudio Original\", fontsize=14)\n",
        "    librosa.display.waveshow(y, sr=sr, color=wave_color)  # linha preta\n",
        "    plt.xlabel(\"Tempo\")\n",
        "    plt.ylabel(\"Amplitude\")\n",
        "\n",
        "    plt.subplot(2, 1, 2)\n",
        "    plt.title(f\"Áudio com Ruído\", fontsize=14)\n",
        "    librosa.display.waveshow(y_noise, sr=sr, color=wave_color)  # linha preta\n",
        "    plt.xlabel(\"Tempo\")\n",
        "    plt.ylabel(\"Amplitude\")\n",
        "\n",
        "    plt.tight_layout()\n",
        "    plt.show()"
      ],
      "metadata": {
        "id": "60WmDTPNADK9"
      },
      "execution_count": 23,
      "outputs": []
    },
    {
      "cell_type": "code",
      "source": [
        "plot_audio_comparison('/content/drive/MyDrive/audios_FOR/real', noise_factor=0.05)"
      ],
      "metadata": {
        "colab": {
          "base_uri": "https://localhost:8080/",
          "height": 694
        },
        "id": "OP0gIUYlAHjX",
        "outputId": "3d2624da-4c26-4168-c595-d12764af3f48"
      },
      "execution_count": 24,
      "outputs": [
        {
          "output_type": "stream",
          "name": "stderr",
          "text": [
            "/usr/local/lib/python3.11/dist-packages/librosa/core/audio.py:184: FutureWarning: librosa.core.audio.__audioread_load\n",
            "\tDeprecated as of librosa version 0.10.0.\n",
            "\tIt will be removed in librosa version 1.0.\n",
            "  y, sr_native = __audioread_load(path, offset, duration, dtype)\n"
          ]
        },
        {
          "output_type": "stream",
          "name": "stdout",
          "text": [
            "Erro ao carregar ruído de fundo: [Errno 2] No such file or directory: 'background_noise.wav'\n"
          ]
        },
        {
          "output_type": "display_data",
          "data": {
            "text/plain": [
              "<Figure size 1000x600 with 2 Axes>"
            ],
            "image/png": "[encoded data removed]"
          },
          "metadata": {}
        }
      ]
    },
    {
      "cell_type": "code",
      "source": [
        "#np.random.seed(None)  # Remove o seed fixo\n",
        "#np.random.shuffle(labels)  # Bagunça os rótulos de maneira mais imprevisível"
      ],
      "metadata": {
        "id": "NDnu1SkqrRqc"
      },
      "execution_count": 25,
      "outputs": []
    },
    {
      "cell_type": "code",
      "source": [
        "# Criar DataFrame\n",
        "df = pd.DataFrame(data_filtered)\n",
        "df['label'] = labels_filtered"
      ],
      "metadata": {
        "id": "01RZMiPl5RHw"
      },
      "execution_count": 26,
      "outputs": []
    },
    {
      "cell_type": "code",
      "source": [
        "df.shape"
      ],
      "metadata": {
        "colab": {
          "base_uri": "https://localhost:8080/"
        },
        "id": "bgfOfrMd34WB",
        "outputId": "406f2002-a4e5-4b38-b2d7-7dfac7c30db6"
      },
      "execution_count": 28,
      "outputs": [
        {
          "output_type": "execute_result",
          "data": {
            "text/plain": [
              "(1440, 14)"
            ]
          },
          "metadata": {},
          "execution_count": 28
        }
      ]
    },
    {
      "cell_type": "code",
      "source": [
        "# Separar características (X) e rótulos (y)\n",
        "X = df.drop(columns=['label'])\n",
        "y = df['label']"
      ],
      "metadata": {
        "id": "_v0oc81v5Kiq"
      },
      "execution_count": 29,
      "outputs": []
    },
    {
      "cell_type": "code",
      "source": [
        "# Função para calcular e exibir as métricas\n",
        "def print_metrics(y_true, y_pred):\n",
        "    accuracy = accuracy_score(y_true, y_pred)\n",
        "    precision = precision_score(y_true, y_pred)\n",
        "    recall = recall_score(y_true, y_pred)\n",
        "    f1 = f1_score(y_true, y_pred)\n",
        "\n",
        "    print(f\"Acurácia: {accuracy:.2f}\")\n",
        "    print(f\"Precisão: {precision:.2f}\")\n",
        "    print(f\"Recall: {recall:.2f}\")\n",
        "    print(f\"F1-Score: {f1:.2f}\")\n",
        "    print(\"\\n\")"
      ],
      "metadata": {
        "id": "1u1JYEepqFCE"
      },
      "execution_count": 30,
      "outputs": []
    },
    {
      "cell_type": "code",
      "source": [
        "# Dividir em treino e teste\n",
        "X_train_rf_model, X_test_rf_model, y_train_rf_model, y_test_rf_model = train_test_split(X, y, test_size=0.2, random_state=1)\n",
        "\n",
        "# 1. Random Forest\n",
        "rf_model = RandomForestClassifier(n_estimators=1, max_features=1)\n",
        "rf_model.fit(X_train_rf_model, y_train_rf_model)\n",
        "rf_pred = rf_model.predict(X_test_rf_model)\n",
        "print(\"Random Forest:\")\n",
        "print_metrics(y_test_rf_model, rf_pred)"
      ],
      "metadata": {
        "colab": {
          "base_uri": "https://localhost:8080/"
        },
        "id": "xtm8swVeHwzu",
        "outputId": "fba8eaab-00b2-4431-bf26-a6f719d2c749"
      },
      "execution_count": 40,
      "outputs": [
        {
          "output_type": "stream",
          "name": "stdout",
          "text": [
            "Random Forest:\n",
            "Acurácia: 0.87\n",
            "Precisão: 0.94\n",
            "Recall: 0.88\n",
            "F1-Score: 0.91\n",
            "\n",
            "\n"
          ]
        }
      ]
    },
    {
      "cell_type": "code",
      "source": [
        "# Dividir em treino e teste\n",
        "X_train_lgb_model, X_test_lgb_model, y_train_lgb_model, y_test_lgb_model = train_test_split(X, y, test_size=0.2, random_state=2)\n",
        "\n",
        "# 2. LightGBM\n",
        "lgb_model = lgb.LGBMClassifier(verbose=-1, n_estimators=1)\n",
        "lgb_model.fit(X_train_lgb_model, y_train_lgb_model)\n",
        "lgb_pred = lgb_model.predict(X_test_lgb_model)\n",
        "print(\"LightGBM:\")\n",
        "print_metrics(y_test_lgb_model, lgb_pred)"
      ],
      "metadata": {
        "colab": {
          "base_uri": "https://localhost:8080/"
        },
        "id": "AFm9J8zbH1sb",
        "outputId": "e938db0c-1670-45f3-bba4-d81696aa42a1"
      },
      "execution_count": 51,
      "outputs": [
        {
          "output_type": "stream",
          "name": "stdout",
          "text": [
            "LightGBM:\n",
            "Acurácia: 0.72\n",
            "Precisão: 0.72\n",
            "Recall: 1.00\n",
            "F1-Score: 0.83\n",
            "\n",
            "\n"
          ]
        }
      ]
    },
    {
      "cell_type": "code",
      "source": [
        "# Dividir em treino e teste\n",
        "X_train_nb_model, X_test_nb_model, y_train_nb_model, y_test_nb_model = train_test_split(X, y, test_size=0.2, random_state=5)\n",
        "\n",
        "# 3. Naïve Bayes\n",
        "nb_model = GaussianNB()\n",
        "nb_model.fit(X_train_nb_model, y_train_nb_model)\n",
        "nb_pred = nb_model.predict(X_test_nb_model)\n",
        "print(\"Naïve Bayes:\")\n",
        "print_metrics(y_test_nb_model, nb_pred)"
      ],
      "metadata": {
        "colab": {
          "base_uri": "https://localhost:8080/"
        },
        "id": "lrodgnWX9LGV",
        "outputId": "a6005f46-e670-4026-8a2a-e31d602701ed"
      },
      "execution_count": 48,
      "outputs": [
        {
          "output_type": "stream",
          "name": "stdout",
          "text": [
            "Naïve Bayes:\n",
            "Acurácia: 0.89\n",
            "Precisão: 0.89\n",
            "Recall: 0.95\n",
            "F1-Score: 0.92\n",
            "\n",
            "\n"
          ]
        }
      ]
    },
    {
      "cell_type": "code",
      "source": [
        "# Dividir em treino e teste\n",
        "X_train_lstm, X_test_lstm, y_train_lstm, y_test_lstm = train_test_split(X, y, test_size=0.2, random_state=4)\n",
        "\n",
        "# Padronização dos dados para LSTM e KNN\n",
        "scaler = StandardScaler()\n",
        "X_train_scaled_lstm = scaler.fit_transform(X_train_lstm)\n",
        "X_test_scaled_lstm = scaler.transform(X_test_lstm)\n",
        "\n",
        "# 4. LSTM\n",
        "X_train_lstm = X_train_scaled_lstm.reshape(-1, 1, X_train_scaled_lstm.shape[1])\n",
        "X_test_lstm = X_test_scaled_lstm.reshape(-1, 1, X_test_scaled_lstm.shape[1])\n",
        "\n",
        "lstm_model = Sequential()\n",
        "lstm_model.add(LSTM(units=1, input_shape=(X_train_lstm.shape[1], X_train_lstm.shape[2])))\n",
        "lstm_model.add(Dense(units=1, activation='sigmoid'))\n",
        "\n",
        "lstm_model.compile(optimizer='adam', loss='mse')\n",
        "lstm_model.fit(X_train_lstm, y_train_lstm, verbose=0)\n",
        "lstm_pred = (lstm_model.predict(X_test_lstm) > 0.5).astype(\"int64\")\n",
        "print(\"LSTM:\")\n",
        "print_metrics(y_test_lstm, lstm_pred)"
      ],
      "metadata": {
        "colab": {
          "base_uri": "https://localhost:8080/"
        },
        "id": "gbIg7Sp6OC85",
        "outputId": "df7ec942-d92b-4e59-aa53-5bb1a1706f3a"
      },
      "execution_count": 34,
      "outputs": [
        {
          "output_type": "stream",
          "name": "stdout",
          "text": [
            "\u001b[1m9/9\u001b[0m \u001b[32m━━━━━━━━━━━━━━━━━━━━\u001b[0m\u001b[37m\u001b[0m \u001b[1m0s\u001b[0m 3ms/step  \n",
            "LSTM:\n",
            "Acurácia: 0.32\n",
            "Precisão: 0.53\n",
            "Recall: 0.39\n",
            "F1-Score: 0.45\n",
            "\n",
            "\n"
          ]
        }
      ]
    },
    {
      "cell_type": "code",
      "source": [
        "# Dividir em treino e teste\n",
        "X_train_knn_model, X_test_knn_model, y_train_knn_model, y_test_knn_model = train_test_split(X, y, test_size=0.2, random_state=5)\n",
        "\n",
        "# 5. KNN\n",
        "knn_model = KNeighborsClassifier(n_neighbors=100)\n",
        "knn_model.fit(X_train_knn_model, y_train_knn_model)\n",
        "knn_pred = knn_model.predict(X_test_knn_model)\n",
        "print(\"KNN:\")\n",
        "print_metrics(y_test_knn_model, knn_pred)"
      ],
      "metadata": {
        "colab": {
          "base_uri": "https://localhost:8080/"
        },
        "id": "gBNHntIwOOMx",
        "outputId": "5f2cabfb-8e8f-4f3f-c24f-6069987d0a0b"
      },
      "execution_count": 42,
      "outputs": [
        {
          "output_type": "stream",
          "name": "stdout",
          "text": [
            "KNN:\n",
            "Acurácia: 0.89\n",
            "Precisão: 0.86\n",
            "Recall: 1.00\n",
            "F1-Score: 0.93\n",
            "\n",
            "\n"
          ]
        }
      ]
    }
  ],
  "metadata": {
    "colab": {
      "provenance": [],
      "authorship_tag": "ABX9TyPmtCRirebzpSlUbpxVBh9S"
    },
    "kernelspec": {
      "display_name": "Python 3",
      "name": "python3"
    },
    "language_info": {
      "name": "python"
    }
  },
  "nbformat": 4,
  "nbformat_minor": 0
}