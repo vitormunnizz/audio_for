{
  "cells": [
    {
      "cell_type": "code",
      "source": [
        "import os\n",
        "import librosa\n",
        "import pandas as pd\n",
        "import numpy as np\n",
        "import matplotlib.pyplot as plt\n",
        "import librosa.display\n",
        "from sklearn.model_selection import train_test_split\n",
        "from sklearn.ensemble import RandomForestClassifier\n",
        "from sklearn.naive_bayes import GaussianNB\n",
        "from sklearn.neighbors import KNeighborsClassifier\n",
        "from sklearn.preprocessing import StandardScaler\n",
        "from sklearn.metrics import accuracy_score, precision_score, recall_score, f1_score\n",
        "import lightgbm as lgb\n",
        "from keras.models import Sequential\n",
        "from keras.layers import LSTM, Dense, Dropout\n",
        "from sklearn.decomposition import PCA\n",
        "import warnings\n",
        "warnings.filterwarnings(\"ignore\", category=UserWarning)\n",
        "from imblearn.over_sampling import SMOTE\n",
        "from imblearn.under_sampling import RandomUnderSampler\n",
        "from collections import Counter"
      ],
      "metadata": {
        "id": "IyGP8t3h5FDK"
      },
      "execution_count": 63,
      "outputs": []
    },
    {
      "cell_type": "code",
      "source": [
        "# Montar o Google Drive\n",
        "from google.colab import drive\n",
        "drive.mount('/content/drive', force_remount=True)"
      ],
      "metadata": {
        "colab": {
          "base_uri": "https://localhost:8080/"
        },
        "id": "NX-59NtLUgIp",
        "outputId": "d8df3744-50e8-4c84-b025-80a640e90b5e"
      },
      "execution_count": 64,
      "outputs": [
        {
          "output_type": "stream",
          "name": "stdout",
          "text": [
            "Mounted at /content/drive\n"
          ]
        }
      ]
    },
    {
      "cell_type": "code",
      "source": [
        "# Parâmetro do ruído\n",
        "noise_factor = 0.05\n",
        "\n",
        "# Função para adicionar diferentes tipos de ruído\n",
        "def add_noise(y, sr, noise_factor=noise_factor, noise_type=\"white\"):\n",
        "    if noise_type == \"white\":\n",
        "        noise = np.random.randn(len(y))  # Ruído branco\n",
        "    elif noise_type == \"pink\":\n",
        "        noise = np.cumsum(np.random.randn(len(y)))  # Ruído rosa\n",
        "        noise = noise / max(abs(noise))  # Normalizar o ruído rosa\n",
        "    elif noise_type == \"background\":\n",
        "        try:\n",
        "            bg_noise, _ = librosa.load(\"background_noise.wav\", sr=sr)  # Ruído real\n",
        "            noise = np.interp(np.linspace(0, len(bg_noise), len(y)), np.arange(len(bg_noise)), bg_noise)\n",
        "        except Exception as e:\n",
        "            print(f\"Erro ao carregar ruído de fundo: {e}\")\n",
        "            noise = np.random.randn(len(y))  # Se falhar, usa ruído branco\n",
        "    else:\n",
        "        raise ValueError(\"Tipo de ruído inválido. Escolha entre 'white', 'pink' ou 'background'.\")\n",
        "\n",
        "    y_noise = y + noise_factor * noise\n",
        "    return np.clip(y_noise, -1.0, 1.0)  # Normaliza o áudio para evitar distorção\n",
        "\n",
        "# Função para extrair MFCCs do áudio\n",
        "def extract_features(y, sr):\n",
        "    try:\n",
        "        mfccs = librosa.feature.mfcc(y=y, sr=sr, n_mfcc=13)\n",
        "        return np.mean(mfccs.T, axis=0)  # Retorna a média dos coeficientes\n",
        "    except Exception as e:\n",
        "        print(f\"Erro ao extrair MFCCs: {e}\")\n",
        "        return None\n",
        "\n",
        "# Função para carregar dados e aplicar ruído\n",
        "def load_data_with_noise(folder_path, label, noise_type=\"white\"):\n",
        "    data = []\n",
        "    labels = []\n",
        "\n",
        "    for file_name in os.listdir(folder_path):\n",
        "        file_path = os.path.join(folder_path, file_name)\n",
        "        try:\n",
        "            y, sr = librosa.load(file_path, sr=None)\n",
        "\n",
        "            # Extrair features do áudio original\n",
        "            features = extract_features(y, sr)\n",
        "            if features is not None:\n",
        "                data.append(features)\n",
        "                labels.append(label)\n",
        "\n",
        "            # Adicionar ruído e extrair features novamente\n",
        "            y_noise = add_noise(y, sr, noise_type=noise_type)\n",
        "            features_noise = extract_features(y_noise, sr)\n",
        "\n",
        "            if features_noise is not None:\n",
        "                data.append(features_noise)\n",
        "                labels.append(label)\n",
        "\n",
        "        except Exception as e:\n",
        "            print(f\"Erro ao processar {file_path}: {e}\")\n",
        "\n",
        "    return data, labels"
      ],
      "metadata": {
        "id": "dFVi8Ikv5dk3"
      },
      "execution_count": 65,
      "outputs": []
    },
    {
      "cell_type": "code",
      "source": [
        "# Definir caminhos dos áudios\n",
        "file_path_real = '/content/drive/MyDrive/audios_FOR/real'\n",
        "file_path_fake = '/content/drive/MyDrive/audios_FOR/fake'\n",
        "\n",
        "# Criar diretórios se não existirem\n",
        "os.makedirs(file_path_real, exist_ok=True)\n",
        "os.makedirs(file_path_fake, exist_ok=True)\n",
        "\n",
        "# Carregar dados com ruído\n",
        "data_real, labels_real = load_data_with_noise(file_path_real, label=1, noise_type=\"pink\")  # Áudios reais\n",
        "data_fake, labels_fake = load_data_with_noise(file_path_fake, label=0, noise_type=\"white\")  # Áudios falsos\n",
        "\n",
        "# Unir dados reais e falsos\n",
        "data = data_real + data_fake\n",
        "labels = labels_real + labels_fake\n",
        "\n",
        "# Remover valores None\n",
        "data_filtered, labels_filtered = zip(*[(d, l) for d, l in zip(data, labels) if d is not None])"
      ],
      "metadata": {
        "id": "LLLGCK6U5oo5"
      },
      "execution_count": 66,
      "outputs": []
    },
    {
      "cell_type": "code",
      "source": [
        "# Função para plotar a comparação com as formas de onda em preto\n",
        "def plot_audio_comparison(folder_path, noise_type=\"background\", noise_factor=0.05):\n",
        "\n",
        "    # Usa o estilo padrão com fundo branco\n",
        "    plt.style.use('default')\n",
        "\n",
        "    # Pega o primeiro arquivo da pasta\n",
        "    first_audio_file = os.listdir(folder_path)[0]\n",
        "    audio_path = os.path.join(folder_path, first_audio_file)\n",
        "\n",
        "    # Carrega o áudio\n",
        "    y, sr = librosa.load(audio_path, sr=None)\n",
        "\n",
        "    # Aplica o ruído\n",
        "    y_noise = add_noise(y, sr, noise_factor=noise_factor, noise_type=noise_type)\n",
        "\n",
        "    # Cor preta mais clara\n",
        "    wave_color = \"#333333\"  # Cinza escuro\n",
        "\n",
        "    # Plota o original e com ruído\n",
        "    plt.figure(figsize=(10, 6))\n",
        "\n",
        "    plt.subplot(2, 1, 1)\n",
        "    plt.title(\"Áudio Original\", fontsize=14)\n",
        "    librosa.display.waveshow(y, sr=sr, color=wave_color)  # linha preta\n",
        "    plt.xlabel(\"Tempo\")\n",
        "    plt.ylabel(\"Amplitude\")\n",
        "\n",
        "    plt.subplot(2, 1, 2)\n",
        "    plt.title(f\"Áudio com Ruído\", fontsize=14)\n",
        "    librosa.display.waveshow(y_noise, sr=sr, color=wave_color)  # linha preta\n",
        "    plt.xlabel(\"Tempo\")\n",
        "    plt.ylabel(\"Amplitude\")\n",
        "\n",
        "    plt.tight_layout()\n",
        "    plt.show()"
      ],
      "metadata": {
        "id": "60WmDTPNADK9"
      },
      "execution_count": 67,
      "outputs": []
    },
    {
      "cell_type": "code",
      "source": [
        "plot_audio_comparison('/content/drive/MyDrive/audios_FOR/real', noise_factor=0.05)"
      ],
      "metadata": {
        "colab": {
          "base_uri": "https://localhost:8080/",
          "height": 694
        },
        "id": "OP0gIUYlAHjX",
        "outputId": "49f3bf38-681b-4475-c9fb-eb16e09fb04f"
      },
      "execution_count": 68,
      "outputs": [
        {
          "output_type": "stream",
          "name": "stderr",
          "text": [
            "/usr/local/lib/python3.11/dist-packages/librosa/core/audio.py:184: FutureWarning: librosa.core.audio.__audioread_load\n",
            "\tDeprecated as of librosa version 0.10.0.\n",
            "\tIt will be removed in librosa version 1.0.\n",
            "  y, sr_native = __audioread_load(path, offset, duration, dtype)\n"
          ]
        },
        {
          "output_type": "stream",
          "name": "stdout",
          "text": [
            "Erro ao carregar ruído de fundo: [Errno 2] No such file or directory: 'background_noise.wav'\n"
          ]
        },
        {
          "output_type": "display_data",
          "data": {
            "text/plain": [
              "<Figure size 1000x600 with 2 Axes>"
            ],
            "image/png": "[encoded data removed]"
          },
          "metadata": {}
        }
      ]
    },
    {
      "cell_type": "code",
      "source": [
        "#np.random.seed(None)  # Remove o seed fixo\n",
        "#np.random.shuffle(labels)  # Bagunça os rótulos de maneira mais imprevisível"
      ],
      "metadata": {
        "id": "NDnu1SkqrRqc"
      },
      "execution_count": 69,
      "outputs": []
    },
    {
      "cell_type": "code",
      "source": [
        "# Criar DataFrame\n",
        "df = pd.DataFrame(data_filtered)\n",
        "df['label'] = labels_filtered"
      ],
      "metadata": {
        "id": "01RZMiPl5RHw"
      },
      "execution_count": 70,
      "outputs": []
    },
    {
      "cell_type": "code",
      "source": [
        "df.shape"
      ],
      "metadata": {
        "colab": {
          "base_uri": "https://localhost:8080/"
        },
        "id": "bgfOfrMd34WB",
        "outputId": "87bc885e-7fe2-41f8-f7e7-c3f5d2dbc6d2"
      },
      "execution_count": 71,
      "outputs": [
        {
          "output_type": "execute_result",
          "data": {
            "text/plain": [
              "(1440, 14)"
            ]
          },
          "metadata": {},
          "execution_count": 71
        }
      ]
    },
    {
      "cell_type": "code",
      "source": [
        "# Separar características (X) e rótulos (y)\n",
        "X = df.drop(columns=['label'])\n",
        "y = df['label']"
      ],
      "metadata": {
        "id": "_v0oc81v5Kiq"
      },
      "execution_count": 72,
      "outputs": []
    },
    {
      "cell_type": "code",
      "source": [
        "# UNDERSAMPLING\n",
        "under = RandomUnderSampler(random_state=42)\n",
        "X_under, y_under = under.fit_resample(X, y)\n",
        "print(\"Distribuição após undersampling:\", Counter(y_under))"
      ],
      "metadata": {
        "colab": {
          "base_uri": "https://localhost:8080/"
        },
        "id": "ekRlITWco9io",
        "outputId": "1961b330-9cb5-42f3-ac0e-e2280199b6b3"
      },
      "execution_count": 73,
      "outputs": [
        {
          "output_type": "stream",
          "name": "stdout",
          "text": [
            "Distribuição após undersampling: Counter({0: 410, 1: 410})\n"
          ]
        }
      ]
    },
    {
      "cell_type": "code",
      "source": [
        "# OVERSAMPLING (SMOTE)\n",
        "smote = SMOTE(random_state=42)\n",
        "X_over, y_over = smote.fit_resample(X, y)\n",
        "print(\"Distribuição após oversampling:\", Counter(y_over))"
      ],
      "metadata": {
        "colab": {
          "base_uri": "https://localhost:8080/"
        },
        "id": "Opq_hjL5pEln",
        "outputId": "026cce0b-4ff5-4ac5-d415-cc3a3ca4b3c3"
      },
      "execution_count": 74,
      "outputs": [
        {
          "output_type": "stream",
          "name": "stdout",
          "text": [
            "Distribuição após oversampling: Counter({1: 1030, 0: 1030})\n"
          ]
        }
      ]
    },
    {
      "cell_type": "code",
      "source": [
        "# Função para calcular e exibir as métricas\n",
        "def print_metrics(y_true, y_pred):\n",
        "    accuracy = accuracy_score(y_true, y_pred)\n",
        "    precision = precision_score(y_true, y_pred)\n",
        "    recall = recall_score(y_true, y_pred)\n",
        "    f1 = f1_score(y_true, y_pred)\n",
        "\n",
        "    print(f\"Acurácia: {accuracy:.2f}\")\n",
        "    print(f\"Precisão: {precision:.2f}\")\n",
        "    print(f\"Recall: {recall:.2f}\")\n",
        "    print(f\"F1-Score: {f1:.2f}\")\n",
        "    print(\"\\n\")"
      ],
      "metadata": {
        "id": "1u1JYEepqFCE"
      },
      "execution_count": 75,
      "outputs": []
    },
    {
      "cell_type": "markdown",
      "source": [
        "### Random Forest"
      ],
      "metadata": {
        "id": "-GKaHiVdq_PI"
      }
    },
    {
      "cell_type": "code",
      "source": [
        "# Dividir em treino e teste\n",
        "X_train_rf_model, X_test_rf_model, y_train_rf_model, y_test_rf_model = train_test_split(X, y, test_size=0.2, random_state=1)\n",
        "\n",
        "\n",
        "rf_model = RandomForestClassifier(n_estimators=1, max_features=1)\n",
        "rf_model.fit(X_train_rf_model, y_train_rf_model)\n",
        "rf_pred = rf_model.predict(X_test_rf_model)\n",
        "print(\"Random Forest:\")\n",
        "print_metrics(y_test_rf_model, rf_pred)"
      ],
      "metadata": {
        "colab": {
          "base_uri": "https://localhost:8080/"
        },
        "id": "xtm8swVeHwzu",
        "outputId": "88d484a5-c663-4a3e-ec87-d91c1da8c0e9"
      },
      "execution_count": 76,
      "outputs": [
        {
          "output_type": "stream",
          "name": "stdout",
          "text": [
            "Random Forest:\n",
            "Acurácia: 0.89\n",
            "Precisão: 0.91\n",
            "Recall: 0.94\n",
            "F1-Score: 0.92\n",
            "\n",
            "\n"
          ]
        }
      ]
    },
    {
      "cell_type": "code",
      "source": [
        "# Dividir em treino e teste\n",
        "X_train_rf_model_under, X_test_rf_model_under, y_train_rf_model_under, y_test_rf_model_under = train_test_split(X_under, y_under, test_size=0.2, random_state=1)\n",
        "\n",
        "\n",
        "rf_model_under = RandomForestClassifier(n_estimators=1, max_features=1)\n",
        "rf_model_under.fit(X_train_rf_model_under, y_train_rf_model_under)\n",
        "rf_pred_under = rf_model_under.predict(X_test_rf_model_under)\n",
        "print(\"Random Forest (Undersampling):\")\n",
        "print_metrics(y_test_rf_model_under, rf_pred_under)"
      ],
      "metadata": {
        "colab": {
          "base_uri": "https://localhost:8080/"
        },
        "id": "c-_gDON6pMv5",
        "outputId": "60fdc235-5a65-4493-f143-35911c12d5bc"
      },
      "execution_count": 77,
      "outputs": [
        {
          "output_type": "stream",
          "name": "stdout",
          "text": [
            "Random Forest:\n",
            "Acurácia: 0.79\n",
            "Precisão: 0.80\n",
            "Recall: 0.77\n",
            "F1-Score: 0.79\n",
            "\n",
            "\n"
          ]
        }
      ]
    },
    {
      "cell_type": "code",
      "source": [
        "# Dividir em treino e teste\n",
        "X_train_rf_model_over, X_test_rf_model_over, y_train_rf_model_over, y_test_rf_model_over = train_test_split(X_over, y_over, test_size=0.2, random_state=1)\n",
        "\n",
        "\n",
        "rf_model_over = RandomForestClassifier(n_estimators=1, max_features=1)\n",
        "rf_model_over.fit(X_train_rf_model_over, y_train_rf_model_over)\n",
        "rf_pred_over = rf_model_over.predict(X_test_rf_model_over)\n",
        "print(\"Random Forest (Oversampling):\")\n",
        "print_metrics(y_test_rf_model_over, rf_pred_over)"
      ],
      "metadata": {
        "colab": {
          "base_uri": "https://localhost:8080/"
        },
        "id": "0EozJLCspNZy",
        "outputId": "883c5c00-0617-456e-fbed-5d2ebbc7ded5"
      },
      "execution_count": 78,
      "outputs": [
        {
          "output_type": "stream",
          "name": "stdout",
          "text": [
            "Random Forest:\n",
            "Acurácia: 0.89\n",
            "Precisão: 0.88\n",
            "Recall: 0.90\n",
            "F1-Score: 0.89\n",
            "\n",
            "\n"
          ]
        }
      ]
    },
    {
      "cell_type": "markdown",
      "source": [
        "### LightGBM"
      ],
      "metadata": {
        "id": "-ICjIwjvrMoV"
      }
    },
    {
      "cell_type": "code",
      "source": [
        "# Dividir em treino e teste\n",
        "X_train_lgb_model, X_test_lgb_model, y_train_lgb_model, y_test_lgb_model = train_test_split(X, y, test_size=0.2, random_state=2)\n",
        "\n",
        "lgb_model = lgb.LGBMClassifier(verbose=-1, n_estimators=1)\n",
        "lgb_model.fit(X_train_lgb_model, y_train_lgb_model)\n",
        "lgb_pred = lgb_model.predict(X_test_lgb_model)\n",
        "print(\"LightGBM:\")\n",
        "print_metrics(y_test_lgb_model, lgb_pred)"
      ],
      "metadata": {
        "colab": {
          "base_uri": "https://localhost:8080/"
        },
        "id": "AFm9J8zbH1sb",
        "outputId": "7ffb17a9-1b2d-4370-cbcc-7c6c3bc7079e"
      },
      "execution_count": 79,
      "outputs": [
        {
          "output_type": "stream",
          "name": "stdout",
          "text": [
            "LightGBM:\n",
            "Acurácia: 0.72\n",
            "Precisão: 0.72\n",
            "Recall: 1.00\n",
            "F1-Score: 0.83\n",
            "\n",
            "\n"
          ]
        }
      ]
    },
    {
      "cell_type": "code",
      "source": [
        "# LightGBM com undersampling\n",
        "X_train_lgb_model_under, X_test_lgb_model_under, y_train_lgb_model_under, y_test_lgb_model_under = train_test_split(X_under, y_under, test_size=0.2, random_state=2)\n",
        "\n",
        "lgb_model_under = lgb.LGBMClassifier(verbose=-1, n_estimators=1)\n",
        "lgb_model_under.fit(X_train_lgb_model_under, y_train_lgb_model_under)\n",
        "lgb_pred_under = lgb_model_under.predict(X_test_lgb_model_under)\n",
        "print(\"LightGBM (Undersampling):\")\n",
        "print_metrics(y_test_lgb_model_under, lgb_pred_under)"
      ],
      "metadata": {
        "colab": {
          "base_uri": "https://localhost:8080/"
        },
        "id": "gxDAXyXRq41_",
        "outputId": "3e8a527b-e031-4188-f0f3-126da71bf844"
      },
      "execution_count": 81,
      "outputs": [
        {
          "output_type": "stream",
          "name": "stdout",
          "text": [
            "LightGBM (Undersampling):\n",
            "Acurácia: 0.85\n",
            "Precisão: 0.88\n",
            "Recall: 0.81\n",
            "F1-Score: 0.85\n",
            "\n",
            "\n"
          ]
        }
      ]
    },
    {
      "cell_type": "code",
      "source": [
        "# LightGBM com oversampling\n",
        "X_train_lgb_model_over, X_test_lgb_model_over, y_train_lgb_model_over, y_test_lgb_model_over = train_test_split(X_over, y_over, test_size=0.2, random_state=2)\n",
        "\n",
        "lgb_model_over = lgb.LGBMClassifier(verbose=-1, n_estimators=1)\n",
        "lgb_model_over.fit(X_train_lgb_model_over, y_train_lgb_model_over)\n",
        "lgb_pred_over = lgb_model_over.predict(X_test_lgb_model_over)\n",
        "print(\"LightGBM (Oversampling):\")\n",
        "print_metrics(y_test_lgb_model_over, lgb_pred_over)"
      ],
      "metadata": {
        "colab": {
          "base_uri": "https://localhost:8080/"
        },
        "id": "3Fo_4Zjaq1vS",
        "outputId": "7c7888a8-6d65-48bc-9955-1cb42d38b9e7"
      },
      "execution_count": 80,
      "outputs": [
        {
          "output_type": "stream",
          "name": "stdout",
          "text": [
            "LightGBM (Oversampling):\n",
            "Acurácia: 0.90\n",
            "Precisão: 0.90\n",
            "Recall: 0.89\n",
            "F1-Score: 0.90\n",
            "\n",
            "\n"
          ]
        }
      ]
    },
    {
      "cell_type": "markdown",
      "source": [
        "### Naïve Bayes"
      ],
      "metadata": {
        "id": "OyrCT5yyrfR1"
      }
    },
    {
      "cell_type": "code",
      "source": [
        "# Dividir em treino e teste\n",
        "X_train_nb_model, X_test_nb_model, y_train_nb_model, y_test_nb_model = train_test_split(X, y, test_size=0.2, random_state=5)\n",
        "\n",
        "# 3. Naïve Bayes\n",
        "nb_model = GaussianNB()\n",
        "nb_model.fit(X_train_nb_model, y_train_nb_model)\n",
        "nb_pred = nb_model.predict(X_test_nb_model)\n",
        "print(\"Naïve Bayes:\")\n",
        "print_metrics(y_test_nb_model, nb_pred)"
      ],
      "metadata": {
        "colab": {
          "base_uri": "https://localhost:8080/"
        },
        "id": "lrodgnWX9LGV",
        "outputId": "c2b8d28f-9b5e-4008-bd55-2adbb8c72e34"
      },
      "execution_count": 82,
      "outputs": [
        {
          "output_type": "stream",
          "name": "stdout",
          "text": [
            "Naïve Bayes:\n",
            "Acurácia: 0.88\n",
            "Precisão: 0.89\n",
            "Recall: 0.94\n",
            "F1-Score: 0.92\n",
            "\n",
            "\n"
          ]
        }
      ]
    },
    {
      "cell_type": "code",
      "source": [
        "# Naïve Bayes com undersampling\n",
        "X_train_nb_model_under, X_test_nb_model_under, y_train_nb_model_under, y_test_nb_model_under = train_test_split(X_under, y_under, test_size=0.2, random_state=5)\n",
        "\n",
        "nb_model_under = GaussianNB()\n",
        "nb_model_under.fit(X_train_nb_model_under, y_train_nb_model_under)\n",
        "nb_pred_under = nb_model_under.predict(X_test_nb_model_under)\n",
        "print(\"Naïve Bayes (Undersampling):\")\n",
        "print_metrics(y_test_nb_model_under, nb_pred_under)"
      ],
      "metadata": {
        "colab": {
          "base_uri": "https://localhost:8080/"
        },
        "id": "CiDhO4HNrnqp",
        "outputId": "b6bc08e9-28bb-4d13-c7eb-2e2173cf4656"
      },
      "execution_count": 84,
      "outputs": [
        {
          "output_type": "stream",
          "name": "stdout",
          "text": [
            "Naïve Bayes (Undersampling):\n",
            "Acurácia: 0.88\n",
            "Precisão: 0.83\n",
            "Recall: 0.98\n",
            "F1-Score: 0.90\n",
            "\n",
            "\n"
          ]
        }
      ]
    },
    {
      "cell_type": "code",
      "source": [
        "# Naïve Bayes com oversampling\n",
        "X_train_nb_model_over, X_test_nb_model_over, y_train_nb_model_over, y_test_nb_model_over = train_test_split(X_over, y_over, test_size=0.2, random_state=5)\n",
        "\n",
        "nb_model_over = GaussianNB()\n",
        "nb_model_over.fit(X_train_nb_model_over, y_train_nb_model_over)\n",
        "nb_pred_over = nb_model_over.predict(X_test_nb_model_over)\n",
        "print(\"Naïve Bayes (Oversampling):\")\n",
        "print_metrics(y_test_nb_model_over, nb_pred_over)"
      ],
      "metadata": {
        "colab": {
          "base_uri": "https://localhost:8080/"
        },
        "id": "zM828kHBrkF9",
        "outputId": "05e8adca-515a-4206-9cf0-c49bc47f0a96"
      },
      "execution_count": 83,
      "outputs": [
        {
          "output_type": "stream",
          "name": "stdout",
          "text": [
            "Naïve Bayes (Oversampling):\n",
            "Acurácia: 0.88\n",
            "Precisão: 0.85\n",
            "Recall: 0.93\n",
            "F1-Score: 0.89\n",
            "\n",
            "\n"
          ]
        }
      ]
    },
    {
      "cell_type": "markdown",
      "source": [
        "### LSTM"
      ],
      "metadata": {
        "id": "LQF4lmbHrwVE"
      }
    },
    {
      "cell_type": "code",
      "source": [
        "# Dividir em treino e teste\n",
        "X_train_lstm, X_test_lstm, y_train_lstm, y_test_lstm = train_test_split(X, y, test_size=0.2, random_state=4)\n",
        "\n",
        "# Padronização dos dados para LSTM e KNN\n",
        "scaler = StandardScaler()\n",
        "X_train_scaled_lstm = scaler.fit_transform(X_train_lstm)\n",
        "X_test_scaled_lstm = scaler.transform(X_test_lstm)\n",
        "\n",
        "# 4. LSTM\n",
        "X_train_lstm = X_train_scaled_lstm.reshape(-1, 1, X_train_scaled_lstm.shape[1])\n",
        "X_test_lstm = X_test_scaled_lstm.reshape(-1, 1, X_test_scaled_lstm.shape[1])\n",
        "\n",
        "lstm_model = Sequential()\n",
        "lstm_model.add(LSTM(units=1, input_shape=(X_train_lstm.shape[1], X_train_lstm.shape[2])))\n",
        "lstm_model.add(Dense(units=1, activation='sigmoid'))\n",
        "\n",
        "lstm_model.compile(optimizer='adam', loss='mse')\n",
        "lstm_model.fit(X_train_lstm, y_train_lstm, verbose=0)\n",
        "lstm_pred = (lstm_model.predict(X_test_lstm) > 0.5).astype(\"int64\")\n",
        "print(\"LSTM:\")\n",
        "print_metrics(y_test_lstm, lstm_pred)"
      ],
      "metadata": {
        "colab": {
          "base_uri": "https://localhost:8080/"
        },
        "id": "gbIg7Sp6OC85",
        "outputId": "33a010b9-2ae4-4d10-f5a7-cd79af7eefeb"
      },
      "execution_count": 85,
      "outputs": [
        {
          "output_type": "stream",
          "name": "stdout",
          "text": [
            "\u001b[1m9/9\u001b[0m \u001b[32m━━━━━━━━━━━━━━━━━━━━\u001b[0m\u001b[37m\u001b[0m \u001b[1m0s\u001b[0m 3ms/step  \n",
            "LSTM:\n",
            "Acurácia: 0.68\n",
            "Precisão: 0.71\n",
            "Recall: 0.94\n",
            "F1-Score: 0.81\n",
            "\n",
            "\n"
          ]
        }
      ]
    },
    {
      "cell_type": "code",
      "source": [
        "# LSTM com undersampling\n",
        "X_train_lstm_under, X_test_lstm_under, y_train_lstm_under, y_test_lstm_under = train_test_split(X_under, y_under, test_size=0.2, random_state=4)\n",
        "\n",
        "# Padronização\n",
        "scaler_under = StandardScaler()\n",
        "X_train_scaled_lstm_under = scaler_under.fit_transform(X_train_lstm_under)\n",
        "X_test_scaled_lstm_under = scaler_under.transform(X_test_lstm_under)\n",
        "\n",
        "# Remodelar\n",
        "X_train_lstm_under = X_train_scaled_lstm_under.reshape(-1, 1, X_train_scaled_lstm_under.shape[1])\n",
        "X_test_lstm_under = X_test_scaled_lstm_under.reshape(-1, 1, X_test_scaled_lstm_under.shape[1])\n",
        "\n",
        "lstm_model_under = Sequential()\n",
        "lstm_model_under.add(LSTM(units=1, input_shape=(X_train_lstm_under.shape[1], X_train_lstm_under.shape[2])))\n",
        "lstm_model_under.add(Dense(units=1, activation='sigmoid'))\n",
        "\n",
        "lstm_model_under.compile(optimizer='adam', loss='mse')\n",
        "lstm_model_under.fit(X_train_lstm_under, y_train_lstm_under, verbose=0)\n",
        "lstm_pred_under = (lstm_model_under.predict(X_test_lstm_under) > 0.5).astype(\"int64\")\n",
        "print(\"LSTM (Undersampling):\")\n",
        "print_metrics(y_test_lstm_under, lstm_pred_under)"
      ],
      "metadata": {
        "colab": {
          "base_uri": "https://localhost:8080/"
        },
        "id": "1czZ3j2ar9MW",
        "outputId": "725dc0f9-918b-4d07-d84e-0b66a7756a72"
      },
      "execution_count": 87,
      "outputs": [
        {
          "output_type": "stream",
          "name": "stdout",
          "text": [
            "\u001b[1m6/6\u001b[0m \u001b[32m━━━━━━━━━━━━━━━━━━━━\u001b[0m\u001b[37m\u001b[0m \u001b[1m0s\u001b[0m 47ms/step\n",
            "LSTM (Undersampling):\n",
            "Acurácia: 0.68\n",
            "Precisão: 0.70\n",
            "Recall: 0.63\n",
            "F1-Score: 0.67\n",
            "\n",
            "\n"
          ]
        }
      ]
    },
    {
      "cell_type": "code",
      "source": [
        "# LSTM com oversampling\n",
        "X_train_lstm_over, X_test_lstm_over, y_train_lstm_over, y_test_lstm_over = train_test_split(X_over, y_over, test_size=0.2, random_state=4)\n",
        "\n",
        "# Padronização\n",
        "scaler_over = StandardScaler()\n",
        "X_train_scaled_lstm_over = scaler_over.fit_transform(X_train_lstm_over)\n",
        "X_test_scaled_lstm_over = scaler_over.transform(X_test_lstm_over)\n",
        "\n",
        "# Remodelar para 3D (amostras, time steps, features)\n",
        "X_train_lstm_over = X_train_scaled_lstm_over.reshape(-1, 1, X_train_scaled_lstm_over.shape[1])\n",
        "X_test_lstm_over = X_test_scaled_lstm_over.reshape(-1, 1, X_test_scaled_lstm_over.shape[1])\n",
        "\n",
        "lstm_model_over = Sequential()\n",
        "lstm_model_over.add(LSTM(units=1, input_shape=(X_train_lstm_over.shape[1], X_train_lstm_over.shape[2])))\n",
        "lstm_model_over.add(Dense(units=1, activation='sigmoid'))\n",
        "\n",
        "lstm_model_over.compile(optimizer='adam', loss='mse')\n",
        "lstm_model_over.fit(X_train_lstm_over, y_train_lstm_over, verbose=0)\n",
        "lstm_pred_over = (lstm_model_over.predict(X_test_lstm_over) > 0.5).astype(\"int64\")\n",
        "print(\"LSTM (Oversampling):\")\n",
        "print_metrics(y_test_lstm_over, lstm_pred_over)"
      ],
      "metadata": {
        "colab": {
          "base_uri": "https://localhost:8080/"
        },
        "id": "k_fRcZrrr2CM",
        "outputId": "06af8e64-2f49-49cc-f526-2528ba242e36"
      },
      "execution_count": 86,
      "outputs": [
        {
          "output_type": "stream",
          "name": "stdout",
          "text": [
            "\u001b[1m13/13\u001b[0m \u001b[32m━━━━━━━━━━━━━━━━━━━━\u001b[0m\u001b[37m\u001b[0m \u001b[1m0s\u001b[0m 15ms/step\n",
            "LSTM (Oversampling):\n",
            "Acurácia: 0.75\n",
            "Precisão: 0.76\n",
            "Recall: 0.73\n",
            "F1-Score: 0.74\n",
            "\n",
            "\n"
          ]
        }
      ]
    },
    {
      "cell_type": "markdown",
      "source": [
        "### KNN"
      ],
      "metadata": {
        "id": "mxExBHbhsAZN"
      }
    },
    {
      "cell_type": "code",
      "source": [
        "# Dividir em treino e teste\n",
        "X_train_knn_model, X_test_knn_model, y_train_knn_model, y_test_knn_model = train_test_split(X, y, test_size=0.2, random_state=5)\n",
        "\n",
        "# 5. KNN\n",
        "knn_model = KNeighborsClassifier(n_neighbors=100)\n",
        "knn_model.fit(X_train_knn_model, y_train_knn_model)\n",
        "knn_pred = knn_model.predict(X_test_knn_model)\n",
        "print(\"KNN:\")\n",
        "print_metrics(y_test_knn_model, knn_pred)"
      ],
      "metadata": {
        "colab": {
          "base_uri": "https://localhost:8080/"
        },
        "id": "gBNHntIwOOMx",
        "outputId": "e25b8e4f-825b-4e3a-d754-48e89dc31c72"
      },
      "execution_count": 88,
      "outputs": [
        {
          "output_type": "stream",
          "name": "stdout",
          "text": [
            "KNN:\n",
            "Acurácia: 0.89\n",
            "Precisão: 0.86\n",
            "Recall: 1.00\n",
            "F1-Score: 0.93\n",
            "\n",
            "\n"
          ]
        }
      ]
    },
    {
      "cell_type": "code",
      "source": [
        "# KNN com undersampling\n",
        "X_train_knn_model_under, X_test_knn_model_under, y_train_knn_model_under, y_test_knn_model_under = train_test_split(X_under, y_under, test_size=0.2, random_state=5)\n",
        "\n",
        "scaler_knn_under = StandardScaler()\n",
        "X_train_scaled_knn_under = scaler_knn_under.fit_transform(X_train_knn_model_under)\n",
        "X_test_scaled_knn_under = scaler_knn_under.transform(X_test_knn_model_under)\n",
        "\n",
        "knn_model_under = KNeighborsClassifier(n_neighbors=100)\n",
        "knn_model_under.fit(X_train_scaled_knn_under, y_train_knn_model_under)\n",
        "knn_pred_under = knn_model_under.predict(X_test_scaled_knn_under)\n",
        "print(\"KNN (Undersampling):\")\n",
        "print_metrics(y_test_knn_model_under, knn_pred_under)"
      ],
      "metadata": {
        "colab": {
          "base_uri": "https://localhost:8080/"
        },
        "id": "rtlieijosLEU",
        "outputId": "a7db0245-6569-4cfc-fc0d-b62f0d520550"
      },
      "execution_count": 90,
      "outputs": [
        {
          "output_type": "stream",
          "name": "stdout",
          "text": [
            "KNN (Undersampling):\n",
            "Acurácia: 0.88\n",
            "Precisão: 0.84\n",
            "Recall: 0.95\n",
            "F1-Score: 0.89\n",
            "\n",
            "\n"
          ]
        }
      ]
    },
    {
      "cell_type": "code",
      "source": [
        "# KNN com oversampling\n",
        "X_train_knn_model_over, X_test_knn_model_over, y_train_knn_model_over, y_test_knn_model_over = train_test_split(X_over, y_over, test_size=0.2, random_state=5)\n",
        "\n",
        "scaler_knn_over = StandardScaler()\n",
        "X_train_scaled_knn_over = scaler_knn_over.fit_transform(X_train_knn_model_over)\n",
        "X_test_scaled_knn_over = scaler_knn_over.transform(X_test_knn_model_over)\n",
        "\n",
        "knn_model_over = KNeighborsClassifier(n_neighbors=100)\n",
        "knn_model_over.fit(X_train_scaled_knn_over, y_train_knn_model_over)\n",
        "knn_pred_over = knn_model_over.predict(X_test_scaled_knn_over)\n",
        "print(\"KNN (Oversampling):\")\n",
        "print_metrics(y_test_knn_model_over, knn_pred_over)"
      ],
      "metadata": {
        "colab": {
          "base_uri": "https://localhost:8080/"
        },
        "id": "lo7opqDYsG8U",
        "outputId": "fe0eedf5-f65a-4559-898d-0f0b79828422"
      },
      "execution_count": 89,
      "outputs": [
        {
          "output_type": "stream",
          "name": "stdout",
          "text": [
            "KNN (Oversampling):\n",
            "Acurácia: 0.93\n",
            "Precisão: 0.96\n",
            "Recall: 0.89\n",
            "F1-Score: 0.93\n",
            "\n",
            "\n"
          ]
        }
      ]
    }
  ],
  "metadata": {
    "colab": {
      "provenance": [],
      "authorship_tag": "ABX9TyNCfTM+msuckxW9kB7XYp2h"
    },
    "kernelspec": {
      "display_name": "Python 3",
      "name": "python3"
    },
    "language_info": {
      "name": "python"
    }
  },
  "nbformat": 4,
  "nbformat_minor": 0
}