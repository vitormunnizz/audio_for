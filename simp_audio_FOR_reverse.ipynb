{
  "cells": [
    {
      "cell_type": "code",
      "source": [
        "import os\n",
        "import librosa\n",
        "import pandas as pd\n",
        "import numpy as np\n",
        "import random\n",
        "import matplotlib.pyplot as plt\n",
        "\n",
        "from sklearn.model_selection import train_test_split\n",
        "from sklearn.ensemble import RandomForestClassifier\n",
        "from sklearn.neighbors import KNeighborsClassifier\n",
        "from xgboost import XGBClassifier\n",
        "from lightgbm import LGBMClassifier\n",
        "from sklearn.tree import DecisionTreeClassifier\n",
        "from sklearn.metrics import accuracy_score, precision_score, recall_score, f1_score"
      ],
      "metadata": {
        "id": "3qxkt2Y19SwN"
      },
      "execution_count": 27,
      "outputs": []
    },
    {
      "cell_type": "code",
      "source": [
        "# Montar o Google Drive\n",
        "from google.colab import drive\n",
        "drive.mount('/content/drive')"
      ],
      "metadata": {
        "colab": {
          "base_uri": "https://localhost:8080/"
        },
        "id": "6JujyAkw9EsO",
        "outputId": "cd7e4278-8fc7-4fa9-af0f-7da910bfefb5"
      },
      "execution_count": 28,
      "outputs": [
        {
          "output_type": "stream",
          "name": "stdout",
          "text": [
            "Drive already mounted at /content/drive; to attempt to forcibly remount, call drive.mount(\"/content/drive\", force_remount=True).\n"
          ]
        }
      ]
    },
    {
      "cell_type": "code",
      "source": [
        "# Data paths (update these to your actual paths)\n",
        "file_path_real = '/content/drive/MyDrive/audios_FOR/amostra_FOR/real'\n",
        "file_path_fake = '/content/drive/MyDrive/audios_FOR/amostra_FOR/fake'"
      ],
      "metadata": {
        "id": "U0pFdQwB9WSM"
      },
      "execution_count": 29,
      "outputs": []
    },
    {
      "cell_type": "code",
      "source": [
        "# Função para inverter o áudio\n",
        "def reverse_audio(y):\n",
        "    return y[::-1]"
      ],
      "metadata": {
        "id": "NEpuhche9YF3"
      },
      "execution_count": 30,
      "outputs": []
    },
    {
      "cell_type": "code",
      "source": [
        "# Função para extrair MFCCs de um arquivo\n",
        "def extract_features(y, sr):  # Modificado para receber y e sr\n",
        "    mfccs = librosa.feature.mfcc(y=y, sr=sr, n_mfcc=13)\n",
        "    return np.mean(mfccs.T, axis=0)  # Média dos coeficientes\n",
        "\n",
        "# Carregar dados e rótulos\n",
        "data = []\n",
        "labels = []"
      ],
      "metadata": {
        "id": "sJC_UAQh9aVl"
      },
      "execution_count": 31,
      "outputs": []
    },
    {
      "cell_type": "code",
      "source": [
        "def load_data_with_reverse(folder_path, label):\n",
        "    global data, labels\n",
        "    for file_name in os.listdir(folder_path):\n",
        "        file_path = os.path.join(folder_path, file_name)\n",
        "        try:\n",
        "            y, sr = librosa.load(file_path, sr=None)\n",
        "\n",
        "            # Extrair features do áudio original\n",
        "            features = extract_features(y, sr)  # Passar y e sr\n",
        "            data.append(features)\n",
        "            labels.append(label)\n",
        "\n",
        "            # Inverter o áudio e extrair features novamente\n",
        "            y_reversed = reverse_audio(y)\n",
        "            features_reversed = extract_features(y_reversed, sr)  # Passar y_reversed e sr\n",
        "            data.append(features_reversed)\n",
        "            labels.append(label)\n",
        "        except Exception as e:\n",
        "            print(f\"Erro ao processar {file_path}: {e}\")\n",
        "\n",
        "# Criar as pastas 'real' e 'fake' caso não existam\n",
        "if not os.path.exists(file_path_real):\n",
        "    os.makedirs(file_path_real)\n",
        "if not os.path.exists(file_path_fake):\n",
        "    os.makedirs(file_path_fake)\n",
        "\n",
        "# Carregar dados\n",
        "load_data_with_reverse(file_path_fake, 0)  # Rótulo 0 para Fake\n",
        "load_data_with_reverse(file_path_real, 1)  # Rótulo 1 para Real"
      ],
      "metadata": {
        "id": "J37B81RG9eLE"
      },
      "execution_count": 32,
      "outputs": []
    },
    {
      "cell_type": "code",
      "source": [
        "# Converter para DataFrame\n",
        "df = pd.DataFrame(data)\n",
        "df['label'] = labels\n",
        "\n",
        "# Contar as ocorrências de cada label\n",
        "label_counts = df['label'].value_counts()"
      ],
      "metadata": {
        "id": "aGp8M1RQ9jPS"
      },
      "execution_count": 33,
      "outputs": []
    },
    {
      "cell_type": "code",
      "source": [
        "# Plotando o gráfico\n",
        "plt.figure(figsize=(8, 6))\n",
        "plt.bar(label_counts.index, label_counts.values, tick_label=['Fake', 'Real'], color=['#1f77b4', '#ff7f0e'])\n",
        "plt.xlabel('Tipo dos Áudios')\n",
        "plt.ylabel('Quantidade')\n",
        "plt.title('Balanço de Áudios Reais e Fakes')\n",
        "plt.show()"
      ],
      "metadata": {
        "colab": {
          "base_uri": "https://localhost:8080/",
          "height": 569
        },
        "id": "mz4pLlhS9qcp",
        "outputId": "11a1b82b-c551-441e-a272-78c8a8a01a87"
      },
      "execution_count": 34,
      "outputs": [
        {
          "output_type": "display_data",
          "data": {
            "text/plain": [
              "<Figure size 800x600 with 1 Axes>"
            ],
            "image/png": "[encoded data removed]"
          },
          "metadata": {}
        }
      ]
    },
    {
      "cell_type": "code",
      "source": [
        "df.shape"
      ],
      "metadata": {
        "colab": {
          "base_uri": "https://localhost:8080/"
        },
        "id": "YpL9-nTQ9rS4",
        "outputId": "d839018c-b01b-40f8-b114-39e0bf74cf63"
      },
      "execution_count": 35,
      "outputs": [
        {
          "output_type": "execute_result",
          "data": {
            "text/plain": [
              "(1118, 14)"
            ]
          },
          "metadata": {},
          "execution_count": 35
        }
      ]
    },
    {
      "cell_type": "code",
      "source": [
        "# Separar características (X) e rótulos (y)\n",
        "X = df.drop(columns=['label'])\n",
        "y = df['label']\n",
        "\n",
        "# Dividir em treino e teste\n",
        "X_train, X_test, y_train, y_test = train_test_split(X, y, test_size=0.2, random_state=42)"
      ],
      "metadata": {
        "id": "EXdnPmZm9mNN"
      },
      "execution_count": 36,
      "outputs": []
    },
    {
      "cell_type": "code",
      "source": [
        "# Modelos\n",
        "models = {\n",
        "    \"RandomForest\": RandomForestClassifier(),\n",
        "    \"KNeighbors\": KNeighborsClassifier(),\n",
        "    \"XGBoost\": XGBClassifier(),\n",
        "    \"LGBM\": LGBMClassifier(n_estimators=100, learning_rate=0.1, num_leaves=31, verbose=-1),\n",
        "    \"DecisionTree\": DecisionTreeClassifier(criterion='gini', random_state=42)\n",
        "}\n",
        "\n",
        "# Treinar e avaliar modelos\n",
        "for name, model in models.items():\n",
        "    print(f\"Treinando e avaliando {name}:\")\n",
        "    model.fit(X_train, y_train)\n",
        "    y_pred = model.predict(X_test)\n",
        "\n",
        "    accuracy = accuracy_score(y_test, y_pred)\n",
        "    precision = precision_score(y_test, y_pred)\n",
        "    recall = recall_score(y_test, y_pred)\n",
        "    f1 = f1_score(y_test, y_pred)\n",
        "\n",
        "    print(f\"Acurácia: {accuracy:.2f}\")\n",
        "    print(f\"Precisão: {precision:.2f}\")\n",
        "    print(f\"Recall: {recall:.2f}\")\n",
        "    print(f\"F1-Score: {f1:.2f}\")\n",
        "    print(\"-\" * 50)"
      ],
      "metadata": {
        "colab": {
          "base_uri": "https://localhost:8080/"
        },
        "id": "DKbNOPUl81uX",
        "outputId": "7a578d04-7c82-4669-9fb1-69b17cec9973"
      },
      "execution_count": 37,
      "outputs": [
        {
          "output_type": "stream",
          "name": "stdout",
          "text": [
            "Treinando e avaliando RandomForest:\n",
            "Acurácia: 0.97\n",
            "Precisão: 0.97\n",
            "Recall: 1.00\n",
            "F1-Score: 0.98\n",
            "--------------------------------------------------\n",
            "Treinando e avaliando KNeighbors:\n",
            "Acurácia: 0.92\n",
            "Precisão: 0.94\n",
            "Recall: 0.95\n",
            "F1-Score: 0.95\n",
            "--------------------------------------------------\n",
            "Treinando e avaliando XGBoost:\n",
            "Acurácia: 0.96\n",
            "Precisão: 0.97\n",
            "Recall: 0.98\n",
            "F1-Score: 0.97\n",
            "--------------------------------------------------\n",
            "Treinando e avaliando LGBM:\n",
            "Acurácia: 0.99\n",
            "Precisão: 0.99\n",
            "Recall: 1.00\n",
            "F1-Score: 0.99\n",
            "--------------------------------------------------\n",
            "Treinando e avaliando DecisionTree:\n",
            "Acurácia: 0.93\n",
            "Precisão: 0.95\n",
            "Recall: 0.95\n",
            "F1-Score: 0.95\n",
            "--------------------------------------------------\n"
          ]
        }
      ]
    },
    {
      "cell_type": "code",
      "source": [
        "# Balançamento com Replicação\n",
        "def balance_data(X_train, y_train):\n",
        "    \"\"\"Balanceia os dados de treinamento usando replicação.\"\"\"\n",
        "    counts = y_train.value_counts()\n",
        "    major_class = counts.idxmax()\n",
        "    minor_class = counts.idxmin()\n",
        "    diff = counts[major_class] - counts[minor_class]\n",
        "\n",
        "    # Identifica os índices da classe minoritária\n",
        "    minor_indices = y_train[y_train == minor_class].index\n",
        "\n",
        "    # Escolhe índices aleatórios para replicação\n",
        "    add_indices = np.random.choice(minor_indices, size=diff, replace=True)\n",
        "\n",
        "    # Adiciona as amostras replicadas aos dados de treinamento\n",
        "    X_add = X_train.loc[add_indices]\n",
        "    y_add = y_train.loc[add_indices]\n",
        "\n",
        "    X_train_balanced = pd.concat([X_train, X_add])\n",
        "    y_train_balanced = pd.concat([y_train, y_add])\n",
        "\n",
        "    return X_train_balanced, y_train_balanced\n",
        "\n",
        "X_train_balanced, y_train_balanced = balance_data(X_train, y_train)"
      ],
      "metadata": {
        "id": "wijmxQlr9yJu"
      },
      "execution_count": 38,
      "outputs": []
    },
    {
      "cell_type": "code",
      "source": [
        "# Treinar e avaliar modelos com dados balanceados\n",
        "print(\"\\nTreinando e avaliando com dados balanceados:\")\n",
        "print(\"-\" * 50)\n",
        "for name, model in models.items():\n",
        "    print(f\"Treinando e avaliando {name}:\")\n",
        "    model.fit(X_train_balanced, y_train_balanced)\n",
        "    y_pred = model.predict(X_test)\n",
        "\n",
        "    accuracy = accuracy_score(y_test, y_pred)\n",
        "    precision = precision_score(y_test, y_pred)\n",
        "    recall = recall_score(y_test, y_pred)\n",
        "    f1 = f1_score(y_test, y_pred)\n",
        "\n",
        "    print(f\"Acurácia: {accuracy:.2f}\")\n",
        "    print(f\"Precisão: {precision:.2f}\")\n",
        "    print(f\"Recall: {recall:.2f}\")\n",
        "    print(f\"F1-Score: {f1:.2f}\")\n",
        "    print(\"-\" * 50)"
      ],
      "metadata": {
        "colab": {
          "base_uri": "https://localhost:8080/"
        },
        "id": "SYL9-nBT90JS",
        "outputId": "ca4c601e-851c-4ac2-ee36-fc8200ca7488"
      },
      "execution_count": 39,
      "outputs": [
        {
          "output_type": "stream",
          "name": "stdout",
          "text": [
            "\n",
            "Treinando e avaliando com dados balanceados:\n",
            "--------------------------------------------------\n",
            "Treinando e avaliando RandomForest:\n",
            "Acurácia: 0.97\n",
            "Precisão: 0.98\n",
            "Recall: 0.99\n",
            "F1-Score: 0.98\n",
            "--------------------------------------------------\n",
            "Treinando e avaliando KNeighbors:\n",
            "Acurácia: 0.92\n",
            "Precisão: 0.99\n",
            "Recall: 0.91\n",
            "F1-Score: 0.95\n",
            "--------------------------------------------------\n",
            "Treinando e avaliando XGBoost:\n",
            "Acurácia: 0.97\n",
            "Precisão: 0.99\n",
            "Recall: 0.98\n",
            "F1-Score: 0.98\n",
            "--------------------------------------------------\n",
            "Treinando e avaliando LGBM:\n",
            "Acurácia: 0.97\n",
            "Precisão: 0.99\n",
            "Recall: 0.98\n",
            "F1-Score: 0.98\n",
            "--------------------------------------------------\n",
            "Treinando e avaliando DecisionTree:\n",
            "Acurácia: 0.96\n",
            "Precisão: 0.97\n",
            "Recall: 0.98\n",
            "F1-Score: 0.97\n",
            "--------------------------------------------------\n"
          ]
        }
      ]
    }
  ],
  "metadata": {
    "colab": {
      "provenance": [],
      "authorship_tag": "ABX9TyPhz5zE1KVTwC+1GNFwuFer"
    },
    "kernelspec": {
      "display_name": "Python 3",
      "name": "python3"
    },
    "language_info": {
      "name": "python"
    }
  },
  "nbformat": 4,
  "nbformat_minor": 0
}