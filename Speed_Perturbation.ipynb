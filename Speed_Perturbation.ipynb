{
  "cells": [
    {
      "cell_type": "code",
      "source": [
        "import os\n",
        "import librosa\n",
        "import pandas as pd\n",
        "import numpy as np\n",
        "import matplotlib.pyplot as plt\n",
        "from sklearn.model_selection import train_test_split\n",
        "from sklearn.ensemble import RandomForestClassifier\n",
        "from sklearn.naive_bayes import GaussianNB\n",
        "from sklearn.neighbors import KNeighborsClassifier\n",
        "from sklearn.preprocessing import StandardScaler\n",
        "from sklearn.metrics import accuracy_score, precision_score, recall_score, f1_score\n",
        "import lightgbm as lgb\n",
        "from keras.models import Sequential\n",
        "from keras.layers import LSTM, Dense, Dropout\n",
        "from sklearn.decomposition import PCA\n",
        "import warnings\n",
        "warnings.filterwarnings(\"ignore\", category=UserWarning)\n",
        "from imblearn.over_sampling import SMOTE\n",
        "from imblearn.under_sampling import RandomUnderSampler\n",
        "from collections import Counter"
      ],
      "metadata": {
        "id": "oOkJjalR8d9h"
      },
      "execution_count": null,
      "outputs": []
    },
    {
      "cell_type": "code",
      "source": [
        "# Montar o Google Drive\n",
        "from google.colab import drive\n",
        "drive.mount('/content/drive', force_remount=True)"
      ],
      "metadata": {
        "colab": {
          "base_uri": "https://localhost:8080/"
        },
        "id": "NX-59NtLUgIp",
        "outputId": "103e2eb0-132a-4841-d7f2-f46e9eb4f69d"
      },
      "execution_count": null,
      "outputs": [
        {
          "output_type": "stream",
          "name": "stdout",
          "text": [
            "Mounted at /content/drive\n"
          ]
        }
      ]
    },
    {
      "cell_type": "code",
      "source": [
        "# Corrigida: time_stretch funciona com STFT\n",
        "def change_speed(y, sr, rate=1.0):\n",
        "    try:\n",
        "        if len(y) < 2:\n",
        "            raise ValueError(\"Áudio muito curto para alteração de velocidade.\")\n",
        "\n",
        "        y = y.astype(np.float32)\n",
        "\n",
        "        # Converter o sinal para o domínio da frequência\n",
        "        D = librosa.stft(y)\n",
        "\n",
        "        # Aplicar time-stretch no espectrograma\n",
        "        D_stretched = librosa.phase_vocoder(D, rate=rate)\n",
        "\n",
        "        # Converter de volta para o domínio do tempo\n",
        "        y_stretched = librosa.istft(D_stretched)\n",
        "\n",
        "        return y_stretched\n",
        "\n",
        "    except Exception as e:\n",
        "        print(f\"Erro ao alterar velocidade: {e}\")\n",
        "        return y  # Retorna o original em caso de falha\n",
        "\n",
        "\n",
        "# Função para extrair MFCCs do áudio\n",
        "def extract_features(y, sr):\n",
        "    try:\n",
        "        mfccs = librosa.feature.mfcc(y=y, sr=sr, n_mfcc=13)\n",
        "        return np.mean(mfccs.T, axis=0)  # Retorna a média dos coeficientes\n",
        "    except Exception as e:\n",
        "        print(f\"Erro ao extrair MFCCs: {e}\")\n",
        "        return None\n",
        "\n",
        "# Função para carregar dados e aplicar mudança de velocidade\n",
        "def load_data_with_speed_variation(folder_path, label):\n",
        "    data = []\n",
        "    labels = []\n",
        "\n",
        "    for file_name in os.listdir(folder_path):\n",
        "        file_path = os.path.join(folder_path, file_name)\n",
        "        try:\n",
        "            y, sr = librosa.load(file_path, sr=None)\n",
        "\n",
        "            # Extrair features do áudio original\n",
        "            features = extract_features(y, sr)\n",
        "            if features is not None:\n",
        "                data.append(features)\n",
        "                labels.append(label)\n",
        "\n",
        "              # Aplicar uma única variação de velocidade (ex: 0.85)\n",
        "            rate = 0.85\n",
        "            y_speed = change_speed(y, rate)\n",
        "            features_speed = extract_features(y_speed, sr)\n",
        "\n",
        "            if features_speed is not None:\n",
        "                  data.append(features_speed)\n",
        "                  labels.append(label)\n",
        "\n",
        "        except Exception as e:\n",
        "            print(f\"Erro ao processar {file_path}: {e}\")\n",
        "\n",
        "    return data, labels"
      ],
      "metadata": {
        "id": "7qVu8s3W8aFr"
      },
      "execution_count": null,
      "outputs": []
    },
    {
      "cell_type": "code",
      "source": [
        "# Definir caminhos dos áudios\n",
        "file_path_real = '/content/drive/MyDrive/audios_FOR/real'\n",
        "file_path_fake = '/content/drive/MyDrive/audios_FOR/fake'\n",
        "\n",
        "# Criar diretórios se não existirem\n",
        "os.makedirs(file_path_real, exist_ok=True)\n",
        "os.makedirs(file_path_fake, exist_ok=True)\n",
        "\n",
        "# Carregar dados com variação de velocidade\n",
        "data_real, labels_real = load_data_with_speed_variation(file_path_real, label=1)  # Áudios reais\n",
        "data_fake, labels_fake = load_data_with_speed_variation(file_path_fake, label=0)  # Áudios falsos\n",
        "\n",
        "# Unir dados reais e falsos\n",
        "data = data_real + data_fake\n",
        "labels = labels_real + labels_fake\n",
        "\n",
        "# Remover valores None\n",
        "data_filtered, labels_filtered = zip(*[(d, l) for d, l in zip(data, labels) if d is not None])"
      ],
      "metadata": {
        "id": "1ZSmKgfw8kJm"
      },
      "execution_count": null,
      "outputs": []
    },
    {
      "cell_type": "code",
      "source": [
        "def plot_speed_comparison(folder_path, rate=0.85):\n",
        "    import matplotlib.pyplot as plt\n",
        "    import librosa.display\n",
        "    import os\n",
        "\n",
        "    # Usa o estilo padrão com fundo branco\n",
        "    plt.style.use('default')\n",
        "\n",
        "    # Pega o primeiro arquivo da pasta\n",
        "    first_audio_file = os.listdir(folder_path)[0]\n",
        "    audio_path = os.path.join(folder_path, first_audio_file)\n",
        "\n",
        "    # Carrega o áudio\n",
        "    y, sr = librosa.load(audio_path, sr=None)\n",
        "\n",
        "    # Altera a velocidade\n",
        "    y_speed = change_speed(y, sr, rate=rate)\n",
        "\n",
        "    print(f\"Tamanho original: {len(y)} amostras\")\n",
        "    print(f\"Tamanho com velocidade alterada (rate={rate}): {len(y_speed)} amostras\")\n",
        "\n",
        "    # Cor preta mais clara\n",
        "    wave_color = \"#333333\"  # Cinza escuro\n",
        "\n",
        "    # Plota o original e com velocidade alterada\n",
        "    plt.figure(figsize=(12, 6))\n",
        "\n",
        "    plt.subplot(2, 1, 1)\n",
        "    plt.title(\"Áudio Original\", fontsize=14)\n",
        "    librosa.display.waveshow(y, sr=sr, color=wave_color)\n",
        "    plt.xlabel(\"Tempo (s)\")\n",
        "    plt.ylabel(\"Amplitude\")\n",
        "\n",
        "    plt.subplot(2, 1, 2)\n",
        "    plt.title(f\"Áudio com Velocidade Alterada (rate={rate})\", fontsize=14)\n",
        "    librosa.display.waveshow(y_speed, sr=sr, color=wave_color)\n",
        "    plt.xlabel(\"Tempo (s)\")\n",
        "    plt.ylabel(\"Amplitude\")\n",
        "\n",
        "    plt.tight_layout()\n",
        "    plt.show()"
      ],
      "metadata": {
        "id": "60WmDTPNADK9"
      },
      "execution_count": null,
      "outputs": []
    },
    {
      "cell_type": "code",
      "source": [
        "plot_speed_comparison('/content/drive/MyDrive/audios_FOR/real', rate=0.85)"
      ],
      "metadata": {
        "colab": {
          "base_uri": "https://localhost:8080/",
          "height": 642
        },
        "id": "OP0gIUYlAHjX",
        "outputId": "420a9928-7296-45f0-c7ea-d814845f47f2"
      },
      "execution_count": null,
      "outputs": [
        {
          "output_type": "stream",
          "name": "stdout",
          "text": [
            "Tamanho original: 50481 amostras\n",
            "Tamanho com velocidade alterada (rate=0.85): 59392 amostras\n"
          ]
        },
        {
          "output_type": "display_data",
          "data": {
            "text/plain": [
              "<Figure size 1200x600 with 2 Axes>"
            ],
            "image/png": "[encoded data removed]"
          },
          "metadata": {}
        }
      ]
    },
    {
      "cell_type": "code",
      "source": [
        "# Criar DataFrame\n",
        "df = pd.DataFrame(data_filtered)\n",
        "df['label'] = labels_filtered"
      ],
      "metadata": {
        "id": "01RZMiPl5RHw"
      },
      "execution_count": null,
      "outputs": []
    },
    {
      "cell_type": "code",
      "source": [
        "df.shape"
      ],
      "metadata": {
        "colab": {
          "base_uri": "https://localhost:8080/"
        },
        "id": "UrqcDhSpriLz",
        "outputId": "26d20a27-6b2a-4fe6-a867-d15067263ddd"
      },
      "execution_count": null,
      "outputs": [
        {
          "output_type": "execute_result",
          "data": {
            "text/plain": [
              "(1440, 14)"
            ]
          },
          "metadata": {},
          "execution_count": 8
        }
      ]
    },
    {
      "cell_type": "code",
      "source": [
        "# Separar características (X) e rótulos (y)\n",
        "X = df.drop(columns=['label'])\n",
        "y = df['label']"
      ],
      "metadata": {
        "id": "_v0oc81v5Kiq"
      },
      "execution_count": null,
      "outputs": []
    },
    {
      "cell_type": "code",
      "source": [
        "# UNDERSAMPLING\n",
        "under = RandomUnderSampler(random_state=42)\n",
        "X_under, y_under = under.fit_resample(X, y)\n",
        "print(\"Distribuição após undersampling:\", Counter(y_under))"
      ],
      "metadata": {
        "colab": {
          "base_uri": "https://localhost:8080/"
        },
        "id": "ekRlITWco9io",
        "outputId": "f7cf2945-aa38-4207-b2cd-ca347f2066aa"
      },
      "execution_count": null,
      "outputs": [
        {
          "output_type": "stream",
          "name": "stdout",
          "text": [
            "Distribuição após undersampling: Counter({0: 410, 1: 410})\n"
          ]
        }
      ]
    },
    {
      "cell_type": "code",
      "source": [
        "# OVERSAMPLING (SMOTE)\n",
        "smote = SMOTE(random_state=42)\n",
        "X_over, y_over = smote.fit_resample(X, y)\n",
        "print(\"Distribuição após oversampling:\", Counter(y_over))"
      ],
      "metadata": {
        "colab": {
          "base_uri": "https://localhost:8080/"
        },
        "id": "Opq_hjL5pEln",
        "outputId": "0705b318-c5d4-49fb-fd8d-299274965195"
      },
      "execution_count": null,
      "outputs": [
        {
          "output_type": "stream",
          "name": "stdout",
          "text": [
            "Distribuição após oversampling: Counter({1: 1030, 0: 1030})\n"
          ]
        }
      ]
    },
    {
      "cell_type": "code",
      "source": [
        "# Função para calcular e exibir as métricas\n",
        "def print_metrics(y_true, y_pred):\n",
        "    accuracy = accuracy_score(y_true, y_pred)\n",
        "    precision = precision_score(y_true, y_pred)\n",
        "    recall = recall_score(y_true, y_pred)\n",
        "    f1 = f1_score(y_true, y_pred)\n",
        "\n",
        "    print(f\"Acurácia: {accuracy:.2f}\")\n",
        "    print(f\"Precisão: {precision:.2f}\")\n",
        "    print(f\"Recall: {recall:.2f}\")\n",
        "    print(f\"F1-Score: {f1:.2f}\")\n",
        "    print(\"\\n\")"
      ],
      "metadata": {
        "id": "1u1JYEepqFCE"
      },
      "execution_count": null,
      "outputs": []
    },
    {
      "cell_type": "markdown",
      "source": [
        "### Random Forest"
      ],
      "metadata": {
        "id": "-GKaHiVdq_PI"
      }
    },
    {
      "cell_type": "code",
      "source": [
        "# Dividir em treino e teste\n",
        "X_train_rf_model, X_test_rf_model, y_train_rf_model, y_test_rf_model = train_test_split(X, y, test_size=0.2, random_state=1)\n",
        "\n",
        "\n",
        "rf_model = RandomForestClassifier(n_estimators=1, max_features=1)\n",
        "rf_model.fit(X_train_rf_model, y_train_rf_model)\n",
        "rf_pred = rf_model.predict(X_test_rf_model)\n",
        "print(\"Random Forest:\")\n",
        "print_metrics(y_test_rf_model, rf_pred)"
      ],
      "metadata": {
        "colab": {
          "base_uri": "https://localhost:8080/"
        },
        "id": "xtm8swVeHwzu",
        "outputId": "f31b9659-2626-4412-d1dd-c00f808b4c43"
      },
      "execution_count": null,
      "outputs": [
        {
          "output_type": "stream",
          "name": "stdout",
          "text": [
            "Random Forest:\n",
            "Acurácia: 0.89\n",
            "Precisão: 0.91\n",
            "Recall: 0.93\n",
            "F1-Score: 0.92\n",
            "\n",
            "\n"
          ]
        }
      ]
    },
    {
      "cell_type": "code",
      "source": [
        "# Dividir em treino e teste\n",
        "X_train_rf_model_under, X_test_rf_model_under, y_train_rf_model_under, y_test_rf_model_under = train_test_split(X_under, y_under, test_size=0.2, random_state=1)\n",
        "\n",
        "\n",
        "rf_model_under = RandomForestClassifier(n_estimators=1, max_features=1)\n",
        "rf_model_under.fit(X_train_rf_model_under, y_train_rf_model_under)\n",
        "rf_pred_under = rf_model_under.predict(X_test_rf_model_under)\n",
        "print(\"Random Forest (Undersampling):\")\n",
        "print_metrics(y_test_rf_model_under, rf_pred_under)"
      ],
      "metadata": {
        "colab": {
          "base_uri": "https://localhost:8080/"
        },
        "id": "c-_gDON6pMv5",
        "outputId": "439ff4ca-20f9-440e-b927-2f2495c7891c"
      },
      "execution_count": null,
      "outputs": [
        {
          "output_type": "stream",
          "name": "stdout",
          "text": [
            "Random Forest (Undersampling):\n",
            "Acurácia: 0.87\n",
            "Precisão: 0.91\n",
            "Recall: 0.82\n",
            "F1-Score: 0.86\n",
            "\n",
            "\n"
          ]
        }
      ]
    },
    {
      "cell_type": "code",
      "source": [
        "# Dividir em treino e teste\n",
        "X_train_rf_model_over, X_test_rf_model_over, y_train_rf_model_over, y_test_rf_model_over = train_test_split(X_over, y_over, test_size=0.2, random_state=1)\n",
        "\n",
        "\n",
        "rf_model_over = RandomForestClassifier(n_estimators=1, max_features=1)\n",
        "rf_model_over.fit(X_train_rf_model_over, y_train_rf_model_over)\n",
        "rf_pred_over = rf_model_over.predict(X_test_rf_model_over)\n",
        "print(\"Random Forest (Oversampling):\")\n",
        "print_metrics(y_test_rf_model_over, rf_pred_over)"
      ],
      "metadata": {
        "colab": {
          "base_uri": "https://localhost:8080/"
        },
        "id": "0EozJLCspNZy",
        "outputId": "99b86fe7-959a-48d2-ae0f-020238dadd9c"
      },
      "execution_count": null,
      "outputs": [
        {
          "output_type": "stream",
          "name": "stdout",
          "text": [
            "Random Forest (Oversampling):\n",
            "Acurácia: 0.94\n",
            "Precisão: 0.95\n",
            "Recall: 0.93\n",
            "F1-Score: 0.94\n",
            "\n",
            "\n"
          ]
        }
      ]
    },
    {
      "cell_type": "markdown",
      "source": [
        "### LightGBM"
      ],
      "metadata": {
        "id": "-ICjIwjvrMoV"
      }
    },
    {
      "cell_type": "code",
      "source": [
        "# Dividir em treino e teste\n",
        "X_train_lgb_model, X_test_lgb_model, y_train_lgb_model, y_test_lgb_model = train_test_split(X, y, test_size=0.2, random_state=2)\n",
        "\n",
        "lgb_model = lgb.LGBMClassifier(verbose=-1, n_estimators=1)\n",
        "lgb_model.fit(X_train_lgb_model, y_train_lgb_model)\n",
        "lgb_pred = lgb_model.predict(X_test_lgb_model)\n",
        "print(\"LightGBM:\")\n",
        "print_metrics(y_test_lgb_model, lgb_pred)"
      ],
      "metadata": {
        "colab": {
          "base_uri": "https://localhost:8080/"
        },
        "id": "AFm9J8zbH1sb",
        "outputId": "97736a90-500e-499d-8341-0ef7c33a8b25"
      },
      "execution_count": null,
      "outputs": [
        {
          "output_type": "stream",
          "name": "stdout",
          "text": [
            "LightGBM:\n",
            "Acurácia: 0.72\n",
            "Precisão: 0.72\n",
            "Recall: 1.00\n",
            "F1-Score: 0.83\n",
            "\n",
            "\n"
          ]
        }
      ]
    },
    {
      "cell_type": "code",
      "source": [
        "# LightGBM com undersampling\n",
        "X_train_lgb_model_under, X_test_lgb_model_under, y_train_lgb_model_under, y_test_lgb_model_under = train_test_split(X_under, y_under, test_size=0.2, random_state=2)\n",
        "\n",
        "lgb_model_under = lgb.LGBMClassifier(verbose=-1, n_estimators=1)\n",
        "lgb_model_under.fit(X_train_lgb_model_under, y_train_lgb_model_under)\n",
        "lgb_pred_under = lgb_model_under.predict(X_test_lgb_model_under)\n",
        "print(\"LightGBM (Undersampling):\")\n",
        "print_metrics(y_test_lgb_model_under, lgb_pred_under)"
      ],
      "metadata": {
        "colab": {
          "base_uri": "https://localhost:8080/"
        },
        "id": "gxDAXyXRq41_",
        "outputId": "f9d22c3a-d6d3-41b6-e45b-574586d8b623"
      },
      "execution_count": null,
      "outputs": [
        {
          "output_type": "stream",
          "name": "stdout",
          "text": [
            "LightGBM (Undersampling):\n",
            "Acurácia: 0.82\n",
            "Precisão: 0.85\n",
            "Recall: 0.80\n",
            "F1-Score: 0.82\n",
            "\n",
            "\n"
          ]
        }
      ]
    },
    {
      "cell_type": "code",
      "source": [
        "# LightGBM com oversampling\n",
        "X_train_lgb_model_over, X_test_lgb_model_over, y_train_lgb_model_over, y_test_lgb_model_over = train_test_split(X_over, y_over, test_size=0.2, random_state=2)\n",
        "\n",
        "lgb_model_over = lgb.LGBMClassifier(verbose=-1, n_estimators=1)\n",
        "lgb_model_over.fit(X_train_lgb_model_over, y_train_lgb_model_over)\n",
        "lgb_pred_over = lgb_model_over.predict(X_test_lgb_model_over)\n",
        "print(\"LightGBM (Oversampling):\")\n",
        "print_metrics(y_test_lgb_model_over, lgb_pred_over)"
      ],
      "metadata": {
        "colab": {
          "base_uri": "https://localhost:8080/"
        },
        "id": "3Fo_4Zjaq1vS",
        "outputId": "a941c3c3-4dfe-49b5-e4c7-320a000ce7ea"
      },
      "execution_count": null,
      "outputs": [
        {
          "output_type": "stream",
          "name": "stdout",
          "text": [
            "LightGBM (Oversampling):\n",
            "Acurácia: 0.90\n",
            "Precisão: 0.94\n",
            "Recall: 0.86\n",
            "F1-Score: 0.90\n",
            "\n",
            "\n"
          ]
        }
      ]
    },
    {
      "cell_type": "markdown",
      "source": [
        "### Naïve Bayes"
      ],
      "metadata": {
        "id": "OyrCT5yyrfR1"
      }
    },
    {
      "cell_type": "code",
      "source": [
        "# Dividir em treino e teste\n",
        "X_train_nb_model, X_test_nb_model, y_train_nb_model, y_test_nb_model = train_test_split(X, y, test_size=0.2, random_state=5)\n",
        "\n",
        "# 3. Naïve Bayes\n",
        "nb_model = GaussianNB()\n",
        "nb_model.fit(X_train_nb_model, y_train_nb_model)\n",
        "nb_pred = nb_model.predict(X_test_nb_model)\n",
        "print(\"Naïve Bayes:\")\n",
        "print_metrics(y_test_nb_model, nb_pred)"
      ],
      "metadata": {
        "colab": {
          "base_uri": "https://localhost:8080/"
        },
        "id": "lrodgnWX9LGV",
        "outputId": "167e8a9f-9347-4390-887b-8e604731eec4"
      },
      "execution_count": null,
      "outputs": [
        {
          "output_type": "stream",
          "name": "stdout",
          "text": [
            "Naïve Bayes:\n",
            "Acurácia: 0.83\n",
            "Precisão: 0.85\n",
            "Recall: 0.90\n",
            "F1-Score: 0.88\n",
            "\n",
            "\n"
          ]
        }
      ]
    },
    {
      "cell_type": "code",
      "source": [
        "# Naïve Bayes com undersampling\n",
        "X_train_nb_model_under, X_test_nb_model_under, y_train_nb_model_under, y_test_nb_model_under = train_test_split(X_under, y_under, test_size=0.2, random_state=5)\n",
        "\n",
        "nb_model_under = GaussianNB()\n",
        "nb_model_under.fit(X_train_nb_model_under, y_train_nb_model_under)\n",
        "nb_pred_under = nb_model_under.predict(X_test_nb_model_under)\n",
        "print(\"Naïve Bayes (Undersampling):\")\n",
        "print_metrics(y_test_nb_model_under, nb_pred_under)"
      ],
      "metadata": {
        "colab": {
          "base_uri": "https://localhost:8080/"
        },
        "id": "CiDhO4HNrnqp",
        "outputId": "307d81d4-3507-4cb1-a9a4-625766efadbf"
      },
      "execution_count": null,
      "outputs": [
        {
          "output_type": "stream",
          "name": "stdout",
          "text": [
            "Naïve Bayes (Undersampling):\n",
            "Acurácia: 0.81\n",
            "Precisão: 0.82\n",
            "Recall: 0.83\n",
            "F1-Score: 0.82\n",
            "\n",
            "\n"
          ]
        }
      ]
    },
    {
      "cell_type": "code",
      "source": [
        "# Naïve Bayes com oversampling\n",
        "X_train_nb_model_over, X_test_nb_model_over, y_train_nb_model_over, y_test_nb_model_over = train_test_split(X_over, y_over, test_size=0.2, random_state=5)\n",
        "\n",
        "nb_model_over = GaussianNB()\n",
        "nb_model_over.fit(X_train_nb_model_over, y_train_nb_model_over)\n",
        "nb_pred_over = nb_model_over.predict(X_test_nb_model_over)\n",
        "print(\"Naïve Bayes (Oversampling):\")\n",
        "print_metrics(y_test_nb_model_over, nb_pred_over)"
      ],
      "metadata": {
        "colab": {
          "base_uri": "https://localhost:8080/"
        },
        "id": "zM828kHBrkF9",
        "outputId": "7e8e6ee0-c30e-4147-f732-2206c5ea5399"
      },
      "execution_count": null,
      "outputs": [
        {
          "output_type": "stream",
          "name": "stdout",
          "text": [
            "Naïve Bayes (Oversampling):\n",
            "Acurácia: 0.83\n",
            "Precisão: 0.87\n",
            "Recall: 0.79\n",
            "F1-Score: 0.83\n",
            "\n",
            "\n"
          ]
        }
      ]
    },
    {
      "cell_type": "markdown",
      "source": [
        "### LSTM"
      ],
      "metadata": {
        "id": "LQF4lmbHrwVE"
      }
    },
    {
      "cell_type": "code",
      "source": [
        "# Dividir em treino e teste\n",
        "X_train_lstm, X_test_lstm, y_train_lstm, y_test_lstm = train_test_split(X, y, test_size=0.2, random_state=4)\n",
        "\n",
        "# Padronização dos dados para LSTM e KNN\n",
        "scaler = StandardScaler()\n",
        "X_train_scaled_lstm = scaler.fit_transform(X_train_lstm)\n",
        "X_test_scaled_lstm = scaler.transform(X_test_lstm)\n",
        "\n",
        "# 4. LSTM\n",
        "X_train_lstm = X_train_scaled_lstm.reshape(-1, 1, X_train_scaled_lstm.shape[1])\n",
        "X_test_lstm = X_test_scaled_lstm.reshape(-1, 1, X_test_scaled_lstm.shape[1])\n",
        "\n",
        "lstm_model = Sequential()\n",
        "lstm_model.add(LSTM(units=1, input_shape=(X_train_lstm.shape[1], X_train_lstm.shape[2])))\n",
        "lstm_model.add(Dense(units=1, activation='sigmoid'))\n",
        "\n",
        "lstm_model.compile(optimizer='adam', loss='mse')\n",
        "lstm_model.fit(X_train_lstm, y_train_lstm, verbose=0)\n",
        "lstm_pred = (lstm_model.predict(X_test_lstm) > 0.5).astype(\"int64\")\n",
        "print(\"LSTM:\")\n",
        "print_metrics(y_test_lstm, lstm_pred)"
      ],
      "metadata": {
        "colab": {
          "base_uri": "https://localhost:8080/"
        },
        "id": "gbIg7Sp6OC85",
        "outputId": "69e4e1c2-b18d-43f5-98d0-13c8eddf6189"
      },
      "execution_count": null,
      "outputs": [
        {
          "output_type": "stream",
          "name": "stdout",
          "text": [
            "\u001b[1m9/9\u001b[0m \u001b[32m━━━━━━━━━━━━━━━━━━━━\u001b[0m\u001b[37m\u001b[0m \u001b[1m0s\u001b[0m 4ms/step  \n",
            "LSTM:\n",
            "Acurácia: 0.44\n",
            "Precisão: 0.63\n",
            "Recall: 0.52\n",
            "F1-Score: 0.57\n",
            "\n",
            "\n"
          ]
        }
      ]
    },
    {
      "cell_type": "code",
      "source": [
        "# LSTM com undersampling\n",
        "X_train_lstm_under, X_test_lstm_under, y_train_lstm_under, y_test_lstm_under = train_test_split(X_under, y_under, test_size=0.2, random_state=4)\n",
        "\n",
        "# Padronização\n",
        "scaler_under = StandardScaler()\n",
        "X_train_scaled_lstm_under = scaler_under.fit_transform(X_train_lstm_under)\n",
        "X_test_scaled_lstm_under = scaler_under.transform(X_test_lstm_under)\n",
        "\n",
        "# Remodelar\n",
        "X_train_lstm_under = X_train_scaled_lstm_under.reshape(-1, 1, X_train_scaled_lstm_under.shape[1])\n",
        "X_test_lstm_under = X_test_scaled_lstm_under.reshape(-1, 1, X_test_scaled_lstm_under.shape[1])\n",
        "\n",
        "lstm_model_under = Sequential()\n",
        "lstm_model_under.add(LSTM(units=1, input_shape=(X_train_lstm_under.shape[1], X_train_lstm_under.shape[2])))\n",
        "lstm_model_under.add(Dense(units=1, activation='sigmoid'))\n",
        "\n",
        "lstm_model_under.compile(optimizer='adam', loss='mse')\n",
        "lstm_model_under.fit(X_train_lstm_under, y_train_lstm_under, verbose=0)\n",
        "lstm_pred_under = (lstm_model_under.predict(X_test_lstm_under) > 0.5).astype(\"int64\")\n",
        "print(\"LSTM (Undersampling):\")\n",
        "print_metrics(y_test_lstm_under, lstm_pred_under)"
      ],
      "metadata": {
        "colab": {
          "base_uri": "https://localhost:8080/"
        },
        "id": "1czZ3j2ar9MW",
        "outputId": "1120a8f6-f1ec-4704-c453-e3942eba65a4"
      },
      "execution_count": null,
      "outputs": [
        {
          "output_type": "stream",
          "name": "stdout",
          "text": [
            "\u001b[1m6/6\u001b[0m \u001b[32m━━━━━━━━━━━━━━━━━━━━\u001b[0m\u001b[37m\u001b[0m \u001b[1m0s\u001b[0m 37ms/step\n",
            "LSTM (Undersampling):\n",
            "Acurácia: 0.57\n",
            "Precisão: 0.58\n",
            "Recall: 0.54\n",
            "F1-Score: 0.56\n",
            "\n",
            "\n"
          ]
        }
      ]
    },
    {
      "cell_type": "code",
      "source": [
        "# LSTM com oversampling\n",
        "X_train_lstm_over, X_test_lstm_over, y_train_lstm_over, y_test_lstm_over = train_test_split(X_over, y_over, test_size=0.2, random_state=4)\n",
        "\n",
        "# Padronização\n",
        "scaler_over = StandardScaler()\n",
        "X_train_scaled_lstm_over = scaler_over.fit_transform(X_train_lstm_over)\n",
        "X_test_scaled_lstm_over = scaler_over.transform(X_test_lstm_over)\n",
        "\n",
        "# Remodelar para 3D (amostras, time steps, features)\n",
        "X_train_lstm_over = X_train_scaled_lstm_over.reshape(-1, 1, X_train_scaled_lstm_over.shape[1])\n",
        "X_test_lstm_over = X_test_scaled_lstm_over.reshape(-1, 1, X_test_scaled_lstm_over.shape[1])\n",
        "\n",
        "lstm_model_over = Sequential()\n",
        "lstm_model_over.add(LSTM(units=1, input_shape=(X_train_lstm_over.shape[1], X_train_lstm_over.shape[2])))\n",
        "lstm_model_over.add(Dense(units=1, activation='sigmoid'))\n",
        "\n",
        "lstm_model_over.compile(optimizer='adam', loss='mse')\n",
        "lstm_model_over.fit(X_train_lstm_over, y_train_lstm_over, verbose=0)\n",
        "lstm_pred_over = (lstm_model_over.predict(X_test_lstm_over) > 0.5).astype(\"int64\")\n",
        "print(\"LSTM (Oversampling):\")\n",
        "print_metrics(y_test_lstm_over, lstm_pred_over)"
      ],
      "metadata": {
        "colab": {
          "base_uri": "https://localhost:8080/"
        },
        "id": "k_fRcZrrr2CM",
        "outputId": "c66a7806-ef74-42c4-a0e3-a09672a677d1"
      },
      "execution_count": null,
      "outputs": [
        {
          "output_type": "stream",
          "name": "stdout",
          "text": [
            "\u001b[1m13/13\u001b[0m \u001b[32m━━━━━━━━━━━━━━━━━━━━\u001b[0m\u001b[37m\u001b[0m \u001b[1m0s\u001b[0m 18ms/step\n",
            "LSTM (Oversampling):\n",
            "Acurácia: 0.63\n",
            "Precisão: 0.62\n",
            "Recall: 0.69\n",
            "F1-Score: 0.65\n",
            "\n",
            "\n"
          ]
        }
      ]
    },
    {
      "cell_type": "markdown",
      "source": [
        "### KNN"
      ],
      "metadata": {
        "id": "mxExBHbhsAZN"
      }
    },
    {
      "cell_type": "code",
      "source": [
        "# Dividir em treino e teste\n",
        "X_train_knn_model, X_test_knn_model, y_train_knn_model, y_test_knn_model = train_test_split(X, y, test_size=0.2, random_state=5)\n",
        "\n",
        "# 5. KNN\n",
        "knn_model = KNeighborsClassifier(n_neighbors=100)\n",
        "knn_model.fit(X_train_knn_model, y_train_knn_model)\n",
        "knn_pred = knn_model.predict(X_test_knn_model)\n",
        "print(\"KNN:\")\n",
        "print_metrics(y_test_knn_model, knn_pred)"
      ],
      "metadata": {
        "colab": {
          "base_uri": "https://localhost:8080/"
        },
        "id": "gBNHntIwOOMx",
        "outputId": "ed639700-3162-4447-989d-9ac1f55c5ab2"
      },
      "execution_count": null,
      "outputs": [
        {
          "output_type": "stream",
          "name": "stdout",
          "text": [
            "KNN:\n",
            "Acurácia: 0.83\n",
            "Precisão: 0.83\n",
            "Recall: 0.94\n",
            "F1-Score: 0.88\n",
            "\n",
            "\n"
          ]
        }
      ]
    },
    {
      "cell_type": "code",
      "source": [
        "# KNN com undersampling\n",
        "X_train_knn_model_under, X_test_knn_model_under, y_train_knn_model_under, y_test_knn_model_under = train_test_split(X_under, y_under, test_size=0.2, random_state=5)\n",
        "\n",
        "scaler_knn_under = StandardScaler()\n",
        "X_train_scaled_knn_under = scaler_knn_under.fit_transform(X_train_knn_model_under)\n",
        "X_test_scaled_knn_under = scaler_knn_under.transform(X_test_knn_model_under)\n",
        "\n",
        "knn_model_under = KNeighborsClassifier(n_neighbors=100)\n",
        "knn_model_under.fit(X_train_scaled_knn_under, y_train_knn_model_under)\n",
        "knn_pred_under = knn_model_under.predict(X_test_scaled_knn_under)\n",
        "print(\"KNN (Undersampling):\")\n",
        "print_metrics(y_test_knn_model_under, knn_pred_under)"
      ],
      "metadata": {
        "colab": {
          "base_uri": "https://localhost:8080/"
        },
        "id": "rtlieijosLEU",
        "outputId": "eafcc877-7f09-45cd-e4f2-b2fdfaac6651"
      },
      "execution_count": null,
      "outputs": [
        {
          "output_type": "stream",
          "name": "stdout",
          "text": [
            "KNN (Undersampling):\n",
            "Acurácia: 0.83\n",
            "Precisão: 0.88\n",
            "Recall: 0.80\n",
            "F1-Score: 0.83\n",
            "\n",
            "\n"
          ]
        }
      ]
    },
    {
      "cell_type": "code",
      "source": [
        "# KNN com oversampling\n",
        "X_train_knn_model_over, X_test_knn_model_over, y_train_knn_model_over, y_test_knn_model_over = train_test_split(X_over, y_over, test_size=0.2, random_state=5)\n",
        "\n",
        "scaler_knn_over = StandardScaler()\n",
        "X_train_scaled_knn_over = scaler_knn_over.fit_transform(X_train_knn_model_over)\n",
        "X_test_scaled_knn_over = scaler_knn_over.transform(X_test_knn_model_over)\n",
        "\n",
        "knn_model_over = KNeighborsClassifier(n_neighbors=100)\n",
        "knn_model_over.fit(X_train_scaled_knn_over, y_train_knn_model_over)\n",
        "knn_pred_over = knn_model_over.predict(X_test_scaled_knn_over)\n",
        "print(\"KNN (Oversampling):\")\n",
        "print_metrics(y_test_knn_model_over, knn_pred_over)"
      ],
      "metadata": {
        "colab": {
          "base_uri": "https://localhost:8080/"
        },
        "id": "lo7opqDYsG8U",
        "outputId": "6290a7d8-991d-40d7-be99-c5ef921ff04e"
      },
      "execution_count": null,
      "outputs": [
        {
          "output_type": "stream",
          "name": "stdout",
          "text": [
            "KNN (Oversampling):\n",
            "Acurácia: 0.84\n",
            "Precisão: 0.88\n",
            "Recall: 0.79\n",
            "F1-Score: 0.83\n",
            "\n",
            "\n"
          ]
        }
      ]
    }
  ],
  "metadata": {
    "colab": {
      "provenance": [],
      "authorship_tag": "ABX9TyOPW65/EIVJTDqNmAgMQZzf"
    },
    "kernelspec": {
      "display_name": "Python 3",
      "name": "python3"
    },
    "language_info": {
      "name": "python"
    }
  },
  "nbformat": 4,
  "nbformat_minor": 0
}