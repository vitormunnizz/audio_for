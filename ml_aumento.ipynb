{
  "cells": [
    {
      "cell_type": "markdown",
      "metadata": {
        "id": "view-in-github",
        "colab_type": "text"
      },
      "source": [
        "<a href=\"https://colab.research.google.com/github/vitormunnizz/audio_for/blob/main/ml_aumento.ipynb\" target=\"_parent\"><img src=\"https://colab.research.google.com/assets/colab-badge.svg\" alt=\"Open In Colab\"/></a>"
      ]
    },
    {
      "cell_type": "code",
      "execution_count": null,
      "metadata": {
        "id": "TlhRI6QcQdta"
      },
      "outputs": [],
      "source": [
        "import os\n",
        "import librosa\n",
        "import pandas as pd\n",
        "import numpy as np\n",
        "import matplotlib.pyplot as plt\n",
        "from sklearn.model_selection import train_test_split, StratifiedKFold\n",
        "from sklearn.ensemble import RandomForestClassifier\n",
        "from sklearn.naive_bayes import GaussianNB\n",
        "from sklearn.neighbors import KNeighborsClassifier\n",
        "from sklearn.preprocessing import StandardScaler\n",
        "from sklearn.metrics import accuracy_score, precision_score, recall_score, f1_score, classification_report\n",
        "import lightgbm as lgb\n",
        "from keras.models import Sequential\n",
        "from keras.layers import LSTM, Dense, Dropout\n",
        "from sklearn.decomposition import PCA\n",
        "import warnings\n",
        "warnings.filterwarnings(\"ignore\", category=UserWarning)\n",
        "from imblearn.over_sampling import SMOTE\n",
        "from imblearn.under_sampling import RandomUnderSampler\n",
        "from collections import Counter"
      ]
    },
    {
      "cell_type": "code",
      "execution_count": null,
      "metadata": {
        "colab": {
          "base_uri": "https://localhost:8080/"
        },
        "id": "SgdvMsciQlFK",
        "outputId": "3f128441-fd56-4eb6-cb88-62dd92bdcc7e"
      },
      "outputs": [
        {
          "output_type": "stream",
          "name": "stdout",
          "text": [
            "Drive already mounted at /content/drive; to attempt to forcibly remount, call drive.mount(\"/content/drive\", force_remount=True).\n"
          ]
        }
      ],
      "source": [
        "# Montar o Google Drive\n",
        "from google.colab import drive\n",
        "drive.mount('/content/drive')"
      ]
    },
    {
      "cell_type": "code",
      "execution_count": null,
      "metadata": {
        "id": "lGbTzqvTQsR6"
      },
      "outputs": [],
      "source": [
        "# Caminho para os dados no Google Drive\n",
        "file_path_real = '/content/drive/MyDrive/audios_FOR/real_augmented_all'\n",
        "file_path_fake = '/content/drive/MyDrive/audios_FOR/fake_augmented_all'"
      ]
    },
    {
      "cell_type": "code",
      "execution_count": null,
      "metadata": {
        "id": "IomFCwBpQcNa"
      },
      "outputs": [],
      "source": [
        "# Função para extrair MFCCs de um arquivo\n",
        "def extract_features(file_path):\n",
        "    try:\n",
        "        y, sr = librosa.load(file_path, sr=None)\n",
        "        mfccs = librosa.feature.mfcc(y=y, sr=sr, n_mfcc=13)\n",
        "        return np.mean(mfccs.T, axis=0)  # Média dos coeficientes\n",
        "    except Exception as e:\n",
        "        print(f\"Erro ao processar {file_path}: {e}\")\n",
        "        return None\n",
        "\n",
        "# Carregar dados e rótulos\n",
        "data = []\n",
        "labels = []"
      ]
    },
    {
      "cell_type": "code",
      "execution_count": null,
      "metadata": {
        "id": "mEFJHtzmQvzS"
      },
      "outputs": [],
      "source": [
        "def load_data(folder_path, label):\n",
        "    global data, labels\n",
        "    for file_name in os.listdir(folder_path):\n",
        "        file_path = os.path.join(folder_path, file_name)\n",
        "        features = extract_features(file_path)\n",
        "        if features is not None:\n",
        "            data.append(features)\n",
        "            labels.append(label)\n",
        "\n",
        "# Criar as pastas 'real' e 'fake' caso não existam\n",
        "if not os.path.exists(file_path_real):\n",
        "    os.makedirs(file_path_real)\n",
        "if not os.path.exists(file_path_fake):\n",
        "    os.makedirs(file_path_fake)\n",
        "\n",
        "# Processar dados\n",
        "load_data(file_path_fake, 0)  # Rótulo 0 para Fake\n",
        "load_data(file_path_real, 1)  # Rótulo 1 para Real"
      ]
    },
    {
      "cell_type": "code",
      "execution_count": null,
      "metadata": {
        "id": "dXS1WqBsQzlJ"
      },
      "outputs": [],
      "source": [
        "# Remover dados faltantes\n",
        "data_filtered = []\n",
        "labels_filtered = []\n",
        "for i in range(len(data)):\n",
        "    if data[i] is not None:\n",
        "        data_filtered.append(data[i])\n",
        "        labels_filtered.append(labels[i])\n",
        "\n",
        "data = data_filtered\n",
        "labels = labels_filtered"
      ]
    },
    {
      "cell_type": "code",
      "execution_count": null,
      "metadata": {
        "id": "GWl90yvQQ4vS"
      },
      "outputs": [],
      "source": [
        "# Converter para DataFrame\n",
        "df = pd.DataFrame(data)\n",
        "df['label'] = labels\n",
        "\n",
        "# Contar as ocorrências de cada label\n",
        "label_counts = df['label'].value_counts()"
      ]
    },
    {
      "cell_type": "code",
      "execution_count": null,
      "metadata": {
        "colab": {
          "base_uri": "https://localhost:8080/",
          "height": 206
        },
        "id": "-yPCaJmGhEMZ",
        "outputId": "b2d8d208-3f7d-4522-8539-ae52fd61d498"
      },
      "outputs": [
        {
          "output_type": "execute_result",
          "data": {
            "text/plain": [
              "            0          1          2          3         4         5          6  \\\n",
              "0 -310.484985  79.589180  12.035122  21.775892  7.463613 -4.327323   1.702638   \n",
              "1 -326.426239  79.519638  14.534233  20.880121  7.560720 -4.820358  -0.540747   \n",
              "2 -310.484985  79.589180  12.035122  21.775892  7.463613 -4.327323   1.702638   \n",
              "3 -292.760193  85.521347 -18.103905  14.233822 -1.934288 -8.300287 -15.360986   \n",
              "4 -292.760193  85.521347 -18.103905  14.233822 -1.934288 -8.300287 -15.360986   \n",
              "\n",
              "           7          8          9         10         11        12  label  \n",
              "0   5.056441 -11.605008  -8.825641 -12.136454  -8.166679 -7.886450      0  \n",
              "1   4.899628 -12.638927 -10.141902 -13.165885  -9.673970 -8.872346      0  \n",
              "2   5.056441 -11.605008  -8.825641 -12.136454  -8.166679 -7.886450      0  \n",
              "3 -14.333099  -0.524541 -12.453050  -2.744914 -14.212177  0.993812      0  \n",
              "4 -14.333099  -0.524541 -12.453050  -2.744914 -14.212177  0.993812      0  "
            ],
            "text/html": [
              "\n",
              "  <div id=\"df-c6956541-530b-4e73-95c8-93a8ab76e0d5\" class=\"colab-df-container\">\n",
              "    <div>\n",
              "<style scoped>\n",
              "    .dataframe tbody tr th:only-of-type {\n",
              "        vertical-align: middle;\n",
              "    }\n",
              "\n",
              "    .dataframe tbody tr th {\n",
              "        vertical-align: top;\n",
              "    }\n",
              "\n",
              "    .dataframe thead th {\n",
              "        text-align: right;\n",
              "    }\n",
              "</style>\n",
              "<table border=\"1\" class=\"dataframe\">\n",
              "  <thead>\n",
              "    <tr style=\"text-align: right;\">\n",
              "      <th></th>\n",
              "      <th>0</th>\n",
              "      <th>1</th>\n",
              "      <th>2</th>\n",
              "      <th>3</th>\n",
              "      <th>4</th>\n",
              "      <th>5</th>\n",
              "      <th>6</th>\n",
              "      <th>7</th>\n",
              "      <th>8</th>\n",
              "      <th>9</th>\n",
              "      <th>10</th>\n",
              "      <th>11</th>\n",
              "      <th>12</th>\n",
              "      <th>label</th>\n",
              "    </tr>\n",
              "  </thead>\n",
              "  <tbody>\n",
              "    <tr>\n",
              "      <th>0</th>\n",
              "      <td>-310.484985</td>\n",
              "      <td>79.589180</td>\n",
              "      <td>12.035122</td>\n",
              "      <td>21.775892</td>\n",
              "      <td>7.463613</td>\n",
              "      <td>-4.327323</td>\n",
              "      <td>1.702638</td>\n",
              "      <td>5.056441</td>\n",
              "      <td>-11.605008</td>\n",
              "      <td>-8.825641</td>\n",
              "      <td>-12.136454</td>\n",
              "      <td>-8.166679</td>\n",
              "      <td>-7.886450</td>\n",
              "      <td>0</td>\n",
              "    </tr>\n",
              "    <tr>\n",
              "      <th>1</th>\n",
              "      <td>-326.426239</td>\n",
              "      <td>79.519638</td>\n",
              "      <td>14.534233</td>\n",
              "      <td>20.880121</td>\n",
              "      <td>7.560720</td>\n",
              "      <td>-4.820358</td>\n",
              "      <td>-0.540747</td>\n",
              "      <td>4.899628</td>\n",
              "      <td>-12.638927</td>\n",
              "      <td>-10.141902</td>\n",
              "      <td>-13.165885</td>\n",
              "      <td>-9.673970</td>\n",
              "      <td>-8.872346</td>\n",
              "      <td>0</td>\n",
              "    </tr>\n",
              "    <tr>\n",
              "      <th>2</th>\n",
              "      <td>-310.484985</td>\n",
              "      <td>79.589180</td>\n",
              "      <td>12.035122</td>\n",
              "      <td>21.775892</td>\n",
              "      <td>7.463613</td>\n",
              "      <td>-4.327323</td>\n",
              "      <td>1.702638</td>\n",
              "      <td>5.056441</td>\n",
              "      <td>-11.605008</td>\n",
              "      <td>-8.825641</td>\n",
              "      <td>-12.136454</td>\n",
              "      <td>-8.166679</td>\n",
              "      <td>-7.886450</td>\n",
              "      <td>0</td>\n",
              "    </tr>\n",
              "    <tr>\n",
              "      <th>3</th>\n",
              "      <td>-292.760193</td>\n",
              "      <td>85.521347</td>\n",
              "      <td>-18.103905</td>\n",
              "      <td>14.233822</td>\n",
              "      <td>-1.934288</td>\n",
              "      <td>-8.300287</td>\n",
              "      <td>-15.360986</td>\n",
              "      <td>-14.333099</td>\n",
              "      <td>-0.524541</td>\n",
              "      <td>-12.453050</td>\n",
              "      <td>-2.744914</td>\n",
              "      <td>-14.212177</td>\n",
              "      <td>0.993812</td>\n",
              "      <td>0</td>\n",
              "    </tr>\n",
              "    <tr>\n",
              "      <th>4</th>\n",
              "      <td>-292.760193</td>\n",
              "      <td>85.521347</td>\n",
              "      <td>-18.103905</td>\n",
              "      <td>14.233822</td>\n",
              "      <td>-1.934288</td>\n",
              "      <td>-8.300287</td>\n",
              "      <td>-15.360986</td>\n",
              "      <td>-14.333099</td>\n",
              "      <td>-0.524541</td>\n",
              "      <td>-12.453050</td>\n",
              "      <td>-2.744914</td>\n",
              "      <td>-14.212177</td>\n",
              "      <td>0.993812</td>\n",
              "      <td>0</td>\n",
              "    </tr>\n",
              "  </tbody>\n",
              "</table>\n",
              "</div>\n",
              "    <div class=\"colab-df-buttons\">\n",
              "\n",
              "  <div class=\"colab-df-container\">\n",
              "    <button class=\"colab-df-convert\" onclick=\"convertToInteractive('df-c6956541-530b-4e73-95c8-93a8ab76e0d5')\"\n",
              "            title=\"Convert this dataframe to an interactive table.\"\n",
              "            style=\"display:none;\">\n",
              "\n",
              "  <svg xmlns=\"http://www.w3.org/2000/svg\" height=\"24px\" viewBox=\"0 -960 960 960\">\n",
              "    <path d=\"M120-120v-720h720v720H120Zm60-500h600v-160H180v160Zm220 220h160v-160H400v160Zm0 220h160v-160H400v160ZM180-400h160v-160H180v160Zm440 0h160v-160H620v160ZM180-180h160v-160H180v160Zm440 0h160v-160H620v160Z\"/>\n",
              "  </svg>\n",
              "    </button>\n",
              "\n",
              "  <style>\n",
              "    .colab-df-container {\n",
              "      display:flex;\n",
              "      gap: 12px;\n",
              "    }\n",
              "\n",
              "    .colab-df-convert {\n",
              "      background-color: #E8F0FE;\n",
              "      border: none;\n",
              "      border-radius: 50%;\n",
              "      cursor: pointer;\n",
              "      display: none;\n",
              "      fill: #1967D2;\n",
              "      height: 32px;\n",
              "      padding: 0 0 0 0;\n",
              "      width: 32px;\n",
              "    }\n",
              "\n",
              "    .colab-df-convert:hover {\n",
              "      background-color: #E2EBFA;\n",
              "      box-shadow: 0px 1px 2px rgba(60, 64, 67, 0.3), 0px 1px 3px 1px rgba(60, 64, 67, 0.15);\n",
              "      fill: #174EA6;\n",
              "    }\n",
              "\n",
              "    .colab-df-buttons div {\n",
              "      margin-bottom: 4px;\n",
              "    }\n",
              "\n",
              "    [theme=dark] .colab-df-convert {\n",
              "      background-color: #3B4455;\n",
              "      fill: #D2E3FC;\n",
              "    }\n",
              "\n",
              "    [theme=dark] .colab-df-convert:hover {\n",
              "      background-color: #434B5C;\n",
              "      box-shadow: 0px 1px 3px 1px rgba(0, 0, 0, 0.15);\n",
              "      filter: drop-shadow(0px 1px 2px rgba(0, 0, 0, 0.3));\n",
              "      fill: #FFFFFF;\n",
              "    }\n",
              "  </style>\n",
              "\n",
              "    <script>\n",
              "      const buttonEl =\n",
              "        document.querySelector('#df-c6956541-530b-4e73-95c8-93a8ab76e0d5 button.colab-df-convert');\n",
              "      buttonEl.style.display =\n",
              "        google.colab.kernel.accessAllowed ? 'block' : 'none';\n",
              "\n",
              "      async function convertToInteractive(key) {\n",
              "        const element = document.querySelector('#df-c6956541-530b-4e73-95c8-93a8ab76e0d5');\n",
              "        const dataTable =\n",
              "          await google.colab.kernel.invokeFunction('convertToInteractive',\n",
              "                                                    [key], {});\n",
              "        if (!dataTable) return;\n",
              "\n",
              "        const docLinkHtml = 'Like what you see? Visit the ' +\n",
              "          '<a target=\"_blank\" href=https://colab.research.google.com/notebooks/data_table.ipynb>data table notebook</a>'\n",
              "          + ' to learn more about interactive tables.';\n",
              "        element.innerHTML = '';\n",
              "        dataTable['output_type'] = 'display_data';\n",
              "        await google.colab.output.renderOutput(dataTable, element);\n",
              "        const docLink = document.createElement('div');\n",
              "        docLink.innerHTML = docLinkHtml;\n",
              "        element.appendChild(docLink);\n",
              "      }\n",
              "    </script>\n",
              "  </div>\n",
              "\n",
              "\n",
              "    <div id=\"df-b410c985-9d6a-4389-9862-c8020ef151e5\">\n",
              "      <button class=\"colab-df-quickchart\" onclick=\"quickchart('df-b410c985-9d6a-4389-9862-c8020ef151e5')\"\n",
              "                title=\"Suggest charts\"\n",
              "                style=\"display:none;\">\n",
              "\n",
              "<svg xmlns=\"http://www.w3.org/2000/svg\" height=\"24px\"viewBox=\"0 0 24 24\"\n",
              "     width=\"24px\">\n",
              "    <g>\n",
              "        <path d=\"M19 3H5c-1.1 0-2 .9-2 2v14c0 1.1.9 2 2 2h14c1.1 0 2-.9 2-2V5c0-1.1-.9-2-2-2zM9 17H7v-7h2v7zm4 0h-2V7h2v10zm4 0h-2v-4h2v4z\"/>\n",
              "    </g>\n",
              "</svg>\n",
              "      </button>\n",
              "\n",
              "<style>\n",
              "  .colab-df-quickchart {\n",
              "      --bg-color: #E8F0FE;\n",
              "      --fill-color: #1967D2;\n",
              "      --hover-bg-color: #E2EBFA;\n",
              "      --hover-fill-color: #174EA6;\n",
              "      --disabled-fill-color: #AAA;\n",
              "      --disabled-bg-color: #DDD;\n",
              "  }\n",
              "\n",
              "  [theme=dark] .colab-df-quickchart {\n",
              "      --bg-color: #3B4455;\n",
              "      --fill-color: #D2E3FC;\n",
              "      --hover-bg-color: #434B5C;\n",
              "      --hover-fill-color: #FFFFFF;\n",
              "      --disabled-bg-color: #3B4455;\n",
              "      --disabled-fill-color: #666;\n",
              "  }\n",
              "\n",
              "  .colab-df-quickchart {\n",
              "    background-color: var(--bg-color);\n",
              "    border: none;\n",
              "    border-radius: 50%;\n",
              "    cursor: pointer;\n",
              "    display: none;\n",
              "    fill: var(--fill-color);\n",
              "    height: 32px;\n",
              "    padding: 0;\n",
              "    width: 32px;\n",
              "  }\n",
              "\n",
              "  .colab-df-quickchart:hover {\n",
              "    background-color: var(--hover-bg-color);\n",
              "    box-shadow: 0 1px 2px rgba(60, 64, 67, 0.3), 0 1px 3px 1px rgba(60, 64, 67, 0.15);\n",
              "    fill: var(--button-hover-fill-color);\n",
              "  }\n",
              "\n",
              "  .colab-df-quickchart-complete:disabled,\n",
              "  .colab-df-quickchart-complete:disabled:hover {\n",
              "    background-color: var(--disabled-bg-color);\n",
              "    fill: var(--disabled-fill-color);\n",
              "    box-shadow: none;\n",
              "  }\n",
              "\n",
              "  .colab-df-spinner {\n",
              "    border: 2px solid var(--fill-color);\n",
              "    border-color: transparent;\n",
              "    border-bottom-color: var(--fill-color);\n",
              "    animation:\n",
              "      spin 1s steps(1) infinite;\n",
              "  }\n",
              "\n",
              "  @keyframes spin {\n",
              "    0% {\n",
              "      border-color: transparent;\n",
              "      border-bottom-color: var(--fill-color);\n",
              "      border-left-color: var(--fill-color);\n",
              "    }\n",
              "    20% {\n",
              "      border-color: transparent;\n",
              "      border-left-color: var(--fill-color);\n",
              "      border-top-color: var(--fill-color);\n",
              "    }\n",
              "    30% {\n",
              "      border-color: transparent;\n",
              "      border-left-color: var(--fill-color);\n",
              "      border-top-color: var(--fill-color);\n",
              "      border-right-color: var(--fill-color);\n",
              "    }\n",
              "    40% {\n",
              "      border-color: transparent;\n",
              "      border-right-color: var(--fill-color);\n",
              "      border-top-color: var(--fill-color);\n",
              "    }\n",
              "    60% {\n",
              "      border-color: transparent;\n",
              "      border-right-color: var(--fill-color);\n",
              "    }\n",
              "    80% {\n",
              "      border-color: transparent;\n",
              "      border-right-color: var(--fill-color);\n",
              "      border-bottom-color: var(--fill-color);\n",
              "    }\n",
              "    90% {\n",
              "      border-color: transparent;\n",
              "      border-bottom-color: var(--fill-color);\n",
              "    }\n",
              "  }\n",
              "</style>\n",
              "\n",
              "      <script>\n",
              "        async function quickchart(key) {\n",
              "          const quickchartButtonEl =\n",
              "            document.querySelector('#' + key + ' button');\n",
              "          quickchartButtonEl.disabled = true;  // To prevent multiple clicks.\n",
              "          quickchartButtonEl.classList.add('colab-df-spinner');\n",
              "          try {\n",
              "            const charts = await google.colab.kernel.invokeFunction(\n",
              "                'suggestCharts', [key], {});\n",
              "          } catch (error) {\n",
              "            console.error('Error during call to suggestCharts:', error);\n",
              "          }\n",
              "          quickchartButtonEl.classList.remove('colab-df-spinner');\n",
              "          quickchartButtonEl.classList.add('colab-df-quickchart-complete');\n",
              "        }\n",
              "        (() => {\n",
              "          let quickchartButtonEl =\n",
              "            document.querySelector('#df-b410c985-9d6a-4389-9862-c8020ef151e5 button');\n",
              "          quickchartButtonEl.style.display =\n",
              "            google.colab.kernel.accessAllowed ? 'block' : 'none';\n",
              "        })();\n",
              "      </script>\n",
              "    </div>\n",
              "\n",
              "    </div>\n",
              "  </div>\n"
            ],
            "application/vnd.google.colaboratory.intrinsic+json": {
              "type": "dataframe",
              "variable_name": "df",
              "summary": "{\n  \"name\": \"df\",\n  \"rows\": 2445,\n  \"fields\": [\n    {\n      \"column\": 0,\n      \"properties\": {\n        \"dtype\": \"float32\",\n        \"num_unique_values\": 1927,\n        \"samples\": [\n          -376.3916931152344,\n          -391.6864929199219,\n          -254.703369140625\n        ],\n        \"semantic_type\": \"\",\n        \"description\": \"\"\n      }\n    },\n    {\n      \"column\": 1,\n      \"properties\": {\n        \"dtype\": \"float32\",\n        \"num_unique_values\": 1927,\n        \"samples\": [\n          50.6840705871582,\n          92.55542755126953,\n          36.19035339355469\n        ],\n        \"semantic_type\": \"\",\n        \"description\": \"\"\n      }\n    },\n    {\n      \"column\": 2,\n      \"properties\": {\n        \"dtype\": \"float32\",\n        \"num_unique_values\": 1927,\n        \"samples\": [\n          -7.522552013397217,\n          -22.415040969848633,\n          12.621907234191895\n        ],\n        \"semantic_type\": \"\",\n        \"description\": \"\"\n      }\n    },\n    {\n      \"column\": 3,\n      \"properties\": {\n        \"dtype\": \"float32\",\n        \"num_unique_values\": 1926,\n        \"samples\": [\n          17.41156768798828,\n          67.6634292602539,\n          51.93614959716797\n        ],\n        \"semantic_type\": \"\",\n        \"description\": \"\"\n      }\n    },\n    {\n      \"column\": 4,\n      \"properties\": {\n        \"dtype\": \"float32\",\n        \"num_unique_values\": 1927,\n        \"samples\": [\n          1.2078522443771362,\n          -15.9179105758667,\n          -18.147762298583984\n        ],\n        \"semantic_type\": \"\",\n        \"description\": \"\"\n      }\n    },\n    {\n      \"column\": 5,\n      \"properties\": {\n        \"dtype\": \"float32\",\n        \"num_unique_values\": 1927,\n        \"samples\": [\n          1.7183597087860107,\n          24.45452117919922,\n          -3.3789830207824707\n        ],\n        \"semantic_type\": \"\",\n        \"description\": \"\"\n      }\n    },\n    {\n      \"column\": 6,\n      \"properties\": {\n        \"dtype\": \"float32\",\n        \"num_unique_values\": 1927,\n        \"samples\": [\n          -2.497157335281372,\n          -15.425776481628418,\n          -13.734725952148438\n        ],\n        \"semantic_type\": \"\",\n        \"description\": \"\"\n      }\n    },\n    {\n      \"column\": 7,\n      \"properties\": {\n        \"dtype\": \"float32\",\n        \"num_unique_values\": 1927,\n        \"samples\": [\n          1.6599009037017822,\n          2.7222092151641846,\n          -14.89847183227539\n        ],\n        \"semantic_type\": \"\",\n        \"description\": \"\"\n      }\n    },\n    {\n      \"column\": 8,\n      \"properties\": {\n        \"dtype\": \"float32\",\n        \"num_unique_values\": 1927,\n        \"samples\": [\n          -0.32695621252059937,\n          -8.831317901611328,\n          -18.22377586364746\n        ],\n        \"semantic_type\": \"\",\n        \"description\": \"\"\n      }\n    },\n    {\n      \"column\": 9,\n      \"properties\": {\n        \"dtype\": \"float32\",\n        \"num_unique_values\": 1927,\n        \"samples\": [\n          5.532253742218018,\n          1.8235284090042114,\n          -3.627009391784668\n        ],\n        \"semantic_type\": \"\",\n        \"description\": \"\"\n      }\n    },\n    {\n      \"column\": 10,\n      \"properties\": {\n        \"dtype\": \"float32\",\n        \"num_unique_values\": 1927,\n        \"samples\": [\n          -0.3914535939693451,\n          -7.4181718826293945,\n          -18.31694984436035\n        ],\n        \"semantic_type\": \"\",\n        \"description\": \"\"\n      }\n    },\n    {\n      \"column\": 11,\n      \"properties\": {\n        \"dtype\": \"float32\",\n        \"num_unique_values\": 1927,\n        \"samples\": [\n          3.322490692138672,\n          1.8411885499954224,\n          1.3846955299377441\n        ],\n        \"semantic_type\": \"\",\n        \"description\": \"\"\n      }\n    },\n    {\n      \"column\": 12,\n      \"properties\": {\n        \"dtype\": \"float32\",\n        \"num_unique_values\": 1927,\n        \"samples\": [\n          -1.9771411418914795,\n          -8.46678638458252,\n          -11.933998107910156\n        ],\n        \"semantic_type\": \"\",\n        \"description\": \"\"\n      }\n    },\n    {\n      \"column\": \"label\",\n      \"properties\": {\n        \"dtype\": \"number\",\n        \"std\": 0,\n        \"min\": 0,\n        \"max\": 1,\n        \"num_unique_values\": 2,\n        \"samples\": [\n          1,\n          0\n        ],\n        \"semantic_type\": \"\",\n        \"description\": \"\"\n      }\n    }\n  ]\n}"
            }
          },
          "metadata": {},
          "execution_count": 75
        }
      ],
      "source": [
        "df.head()"
      ]
    },
    {
      "cell_type": "code",
      "execution_count": null,
      "metadata": {
        "colab": {
          "base_uri": "https://localhost:8080/"
        },
        "id": "vUPhBS7VS3FK",
        "outputId": "33e680bc-bc4f-4b2a-a058-d8850b2a78f8"
      },
      "outputs": [
        {
          "output_type": "execute_result",
          "data": {
            "text/plain": [
              "(2445, 14)"
            ]
          },
          "metadata": {},
          "execution_count": 76
        }
      ],
      "source": [
        "df.shape"
      ]
    },
    {
      "cell_type": "code",
      "execution_count": null,
      "metadata": {
        "id": "_v0oc81v5Kiq"
      },
      "outputs": [],
      "source": [
        "# Separar características (X) e rótulos (y)\n",
        "X = df.drop(columns=['label'])\n",
        "y = df['label']"
      ]
    },
    {
      "cell_type": "code",
      "execution_count": null,
      "metadata": {
        "colab": {
          "base_uri": "https://localhost:8080/"
        },
        "id": "ekRlITWco9io",
        "outputId": "dc09f90e-45b0-4a3b-e21d-514dd57fbe60"
      },
      "outputs": [
        {
          "output_type": "stream",
          "name": "stdout",
          "text": [
            "Distribuição após undersampling: Counter({0: 695, 1: 695})\n"
          ]
        }
      ],
      "source": [
        "# UNDERSAMPLING\n",
        "under = RandomUnderSampler(random_state=42)\n",
        "X_under, y_under = under.fit_resample(X, y)\n",
        "print(\"Distribuição após undersampling:\", Counter(y_under))"
      ]
    },
    {
      "cell_type": "code",
      "execution_count": null,
      "metadata": {
        "colab": {
          "base_uri": "https://localhost:8080/"
        },
        "id": "Opq_hjL5pEln",
        "outputId": "c4918292-2982-4d72-ce08-75ba7e475abe"
      },
      "outputs": [
        {
          "output_type": "stream",
          "name": "stdout",
          "text": [
            "Distribuição após oversampling: Counter({0: 1750, 1: 1750})\n"
          ]
        }
      ],
      "source": [
        "# OVERSAMPLING (SMOTE)\n",
        "smote = SMOTE(random_state=42)\n",
        "X_over, y_over = smote.fit_resample(X, y)\n",
        "print(\"Distribuição após oversampling:\", Counter(y_over))"
      ]
    },
    {
      "cell_type": "code",
      "execution_count": null,
      "metadata": {
        "id": "1u1JYEepqFCE"
      },
      "outputs": [],
      "source": [
        "# Função para calcular e exibir as métricas\n",
        "def print_metrics(y_true, y_pred):\n",
        "    accuracy = accuracy_score(y_true, y_pred)\n",
        "    precision = precision_score(y_true, y_pred)\n",
        "    recall = recall_score(y_true, y_pred)\n",
        "    f1 = f1_score(y_true, y_pred)\n",
        "\n",
        "    print(f\"Acurácia: {accuracy:.2f}\")\n",
        "    print(f\"Precisão: {precision:.2f}\")\n",
        "    print(f\"Recall: {recall:.2f}\")\n",
        "    print(f\"F1-Score: {f1:.2f}\")\n",
        "    print(\"\\n\")"
      ]
    },
    {
      "cell_type": "markdown",
      "metadata": {
        "id": "-GKaHiVdq_PI"
      },
      "source": [
        "### Random Forest"
      ]
    },
    {
      "cell_type": "code",
      "source": [
        "# Converter para arrays, se necessário\n",
        "X_array = X.values if hasattr(X, \"values\") else np.array(X)\n",
        "y_array = y.values if hasattr(y, \"values\") else np.array(y)\n",
        "\n",
        "# Inicializar K-Fold\n",
        "skf = StratifiedKFold(n_splits=10, shuffle=True, random_state=42)\n",
        "\n",
        "# Listas para armazenar métricas de todos os folds\n",
        "accs, precs, recalls, f1s = [], [], [], []\n",
        "\n",
        "# Loop pelos folds\n",
        "for fold, (train_idx, test_idx) in enumerate(skf.split(X_array, y_array)):\n",
        "    X_train, X_test = X_array[train_idx], X_array[test_idx]\n",
        "    y_train, y_test = y_array[train_idx], y_array[test_idx]\n",
        "\n",
        "    rf_model = RandomForestClassifier(n_estimators=1, max_features=1)\n",
        "    rf_model.fit(X_train, y_train)\n",
        "    y_pred = rf_model.predict(X_test)\n",
        "\n",
        "    acc = accuracy_score(y_test, y_pred)\n",
        "    prec = precision_score(y_test, y_pred)\n",
        "    rec = recall_score(y_test, y_pred)\n",
        "    f1 = f1_score(y_test, y_pred)\n",
        "\n",
        "    accs.append(acc)\n",
        "    precs.append(prec)\n",
        "    recalls.append(rec)\n",
        "    f1s.append(f1)\n",
        "\n",
        "# Mostrar médias e desvios padrão\n",
        "print(\"MÉDIAS FINAIS (± desvio padrão):\")\n",
        "print(f\"Acurácia média: {np.mean(accs):.2f} ± {np.std(accs):.2f}\")\n",
        "print(f\"Precisão média: {np.mean(precs):.2f} ± {np.std(precs):.2f}\")\n",
        "print(f\"Recall médio: {np.mean(recalls):.2f} ± {np.std(recalls):.2f}\")\n",
        "print(f\"F1-Score médio: {np.mean(f1s):.2f} ± {np.std(f1s):.2f}\")"
      ],
      "metadata": {
        "colab": {
          "base_uri": "https://localhost:8080/"
        },
        "id": "Be6bF4M6N0n_",
        "outputId": "273eaf90-537e-45b2-a444-5b803e01af1c"
      },
      "execution_count": null,
      "outputs": [
        {
          "output_type": "stream",
          "name": "stdout",
          "text": [
            "MÉDIAS FINAIS (± desvio padrão):\n",
            "Acurácia média: 0.92 ± 0.02\n",
            "Precisão média: 0.95 ± 0.01\n",
            "Recall médio: 0.95 ± 0.02\n",
            "F1-Score médio: 0.95 ± 0.01\n"
          ]
        }
      ]
    },
    {
      "cell_type": "code",
      "source": [
        "# Converter para arrays, se necessário\n",
        "X_array_under = X_under.values if hasattr(X_under, \"values\") else np.array(X_under)\n",
        "y_array_under = y_under.values if hasattr(y_under, \"values\") else np.array(y_under)\n",
        "\n",
        "# Inicializar K-Fold\n",
        "skf_under = StratifiedKFold(n_splits=10, shuffle=True, random_state=42)\n",
        "\n",
        "# Listas para armazenar métricas de todos os folds\n",
        "accs_under, precs_under, recalls_under, f1s_under = [], [], [], []\n",
        "\n",
        "# Loop pelos folds\n",
        "for fold_under, (train_idx_under, test_idx_under) in enumerate(skf_under.split(X_array_under, y_array_under)):\n",
        "    X_train_under, X_test_under = X_array_under[train_idx_under], X_array_under[test_idx_under]\n",
        "    y_train_under, y_test_under = y_array_under[train_idx_under], y_array_under[test_idx_under]\n",
        "\n",
        "    rf_model_under = RandomForestClassifier(n_estimators=1, max_features=1)\n",
        "    rf_model_under.fit(X_train_under, y_train_under)\n",
        "    y_pred_under = rf_model_under.predict(X_test_under)\n",
        "\n",
        "    acc_under = accuracy_score(y_test_under, y_pred_under)\n",
        "    prec_under = precision_score(y_test_under, y_pred_under)\n",
        "    rec_under = recall_score(y_test_under, y_pred_under)\n",
        "    f1_under = f1_score(y_test_under, y_pred_under)\n",
        "\n",
        "    accs_under.append(acc_under)\n",
        "    precs_under.append(prec_under)\n",
        "    recalls_under.append(rec_under)\n",
        "    f1s_under.append(f1_under)\n",
        "\n",
        "# Mostrar médias e desvios padrão\n",
        "print(\"MÉDIAS FINAIS (± desvio padrão):\")\n",
        "print(f\"Acurácia média: {np.mean(accs_under):.2f} ± {np.std(accs_under):.2f}\")\n",
        "print(f\"Precisão média: {np.mean(precs_under):.2f} ± {np.std(precs_under):.2f}\")\n",
        "print(f\"Recall médio: {np.mean(recalls_under):.2f} ± {np.std(recalls_under):.2f}\")\n",
        "print(f\"F1-Score médio: {np.mean(f1s_under):.2f} ± {np.std(f1s_under):.2f}\")"
      ],
      "metadata": {
        "colab": {
          "base_uri": "https://localhost:8080/"
        },
        "id": "c-_gDON6pMv5",
        "outputId": "dff47637-ce17-4fab-d90d-3a038c6ffa4c"
      },
      "execution_count": null,
      "outputs": [
        {
          "output_type": "stream",
          "name": "stdout",
          "text": [
            "MÉDIAS FINAIS (± desvio padrão):\n",
            "Acurácia média: 0.89 ± 0.03\n",
            "Precisão média: 0.91 ± 0.04\n",
            "Recall médio: 0.86 ± 0.05\n",
            "F1-Score médio: 0.88 ± 0.03\n"
          ]
        }
      ]
    },
    {
      "cell_type": "code",
      "source": [
        "# Converter para arrays, se necessário\n",
        "X_array_over = X_over.values if hasattr(X_over, \"values\") else np.array(X_over)\n",
        "y_array_over = y_over.values if hasattr(y_over, \"values\") else np.array(y_over)\n",
        "\n",
        "# Inicializar K-Fold\n",
        "skf_over = StratifiedKFold(n_splits=10, shuffle=True, random_state=42)\n",
        "\n",
        "# Listas para armazenar métricas de todos os folds\n",
        "accs_over, precs_over, recalls_over, f1s_over = [], [], [], []\n",
        "\n",
        "# Loop pelos folds\n",
        "for fold_over, (train_idx_over, test_idx_over) in enumerate(skf_over.split(X_array_over, y_array_over)):\n",
        "    X_train_over, X_test_over = X_array_over[train_idx_over], X_array_over[test_idx_over]\n",
        "    y_train_over, y_test_over = y_array_over[train_idx_over], y_array_over[test_idx_over]\n",
        "\n",
        "    rf_model_over = RandomForestClassifier(n_estimators=1, max_features=1)\n",
        "    rf_model_over.fit(X_train_over, y_train_over)\n",
        "    y_pred_over = rf_model_over.predict(X_test_over)\n",
        "\n",
        "    acc_over = accuracy_score(y_test_over, y_pred_over)\n",
        "    prec_over = precision_score(y_test_over, y_pred_over)\n",
        "    rec_over = recall_score(y_test_over, y_pred_over)\n",
        "    f1_over = f1_score(y_test_over, y_pred_over)\n",
        "\n",
        "    accs_over.append(acc_over)\n",
        "    precs_over.append(prec_over)\n",
        "    recalls_over.append(rec_over)\n",
        "    f1s_over.append(f1_over)\n",
        "\n",
        "# Mostrar médias e desvios padrão\n",
        "print(\"MÉDIAS FINAIS (± desvio padrão):\")\n",
        "print(f\"Acurácia média: {np.mean(accs_over):.2f} ± {np.std(accs_over):.2f}\")\n",
        "print(f\"Precisão média: {np.mean(precs_over):.2f} ± {np.std(precs_over):.2f}\")\n",
        "print(f\"Recall médio: {np.mean(recalls_over):.2f} ± {np.std(recalls_over):.2f}\")\n",
        "print(f\"F1-Score médio: {np.mean(f1s_over):.2f} ± {np.std(f1s_over):.2f}\")"
      ],
      "metadata": {
        "colab": {
          "base_uri": "https://localhost:8080/"
        },
        "id": "0EozJLCspNZy",
        "outputId": "5de97867-ec18-49bb-d998-3cfc86c53369"
      },
      "execution_count": null,
      "outputs": [
        {
          "output_type": "stream",
          "name": "stdout",
          "text": [
            "MÉDIAS FINAIS (± desvio padrão):\n",
            "Acurácia média: 0.95 ± 0.01\n",
            "Precisão média: 0.95 ± 0.02\n",
            "Recall médio: 0.94 ± 0.03\n",
            "F1-Score médio: 0.95 ± 0.01\n"
          ]
        }
      ]
    },
    {
      "cell_type": "markdown",
      "source": [
        "### LightGBM"
      ],
      "metadata": {
        "id": "-ICjIwjvrMoV"
      }
    },
    {
      "cell_type": "code",
      "source": [
        "# Converter para arrays, se necessário\n",
        "X_array = X.values if hasattr(X, \"values\") else np.array(X)\n",
        "y_array = y.values if hasattr(y, \"values\") else np.array(y)\n",
        "\n",
        "# Inicializar K-Fold\n",
        "skf = StratifiedKFold(n_splits=10, shuffle=True, random_state=42)\n",
        "\n",
        "# Listas para armazenar métricas de todos os folds\n",
        "accs, precs, recalls, f1s = [], [], [], []\n",
        "\n",
        "# Loop pelos folds\n",
        "for fold, (train_idx, test_idx) in enumerate(skf.split(X_array, y_array)):\n",
        "    X_train, X_test = X_array[train_idx], X_array[test_idx]\n",
        "    y_train, y_test = y_array[train_idx], y_array[test_idx]\n",
        "\n",
        "    lgb_model = lgb.LGBMClassifier(verbose=-1, n_estimators=1)\n",
        "    lgb_model.fit(X_train, y_train)\n",
        "    y_pred = lgb_model.predict(X_test)\n",
        "\n",
        "    acc = accuracy_score(y_test, y_pred)\n",
        "    prec = precision_score(y_test, y_pred)\n",
        "    rec = recall_score(y_test, y_pred)\n",
        "    f1 = f1_score(y_test, y_pred)\n",
        "\n",
        "    accs.append(acc)\n",
        "    precs.append(prec)\n",
        "    recalls.append(rec)\n",
        "    f1s.append(f1)\n",
        "\n",
        "# Mostrar médias e desvios padrão\n",
        "print(\"MÉDIAS FINAIS (± desvio padrão):\")\n",
        "print(f\"Acurácia média: {np.mean(accs):.2f} ± {np.std(accs):.2f}\")\n",
        "print(f\"Precisão média: {np.mean(precs):.2f} ± {np.std(precs):.2f}\")\n",
        "print(f\"Recall médio: {np.mean(recalls):.2f} ± {np.std(recalls):.2f}\")\n",
        "print(f\"F1-Score médio: {np.mean(f1s):.2f} ± {np.std(f1s):.2f}\")"
      ],
      "metadata": {
        "colab": {
          "base_uri": "https://localhost:8080/"
        },
        "outputId": "dbdd78f3-5c8f-4672-f8e7-448a1974b911",
        "id": "T1IyHfUGeEwv"
      },
      "execution_count": null,
      "outputs": [
        {
          "output_type": "stream",
          "name": "stdout",
          "text": [
            "MÉDIAS FINAIS (± desvio padrão):\n",
            "Acurácia média: 0.72 ± 0.00\n",
            "Precisão média: 0.72 ± 0.00\n",
            "Recall médio: 1.00 ± 0.00\n",
            "F1-Score médio: 0.83 ± 0.00\n"
          ]
        },
        {
          "output_type": "stream",
          "name": "stderr",
          "text": [
            "/usr/local/lib/python3.11/dist-packages/sklearn/utils/deprecation.py:151: FutureWarning: 'force_all_finite' was renamed to 'ensure_all_finite' in 1.6 and will be removed in 1.8.\n",
            "  warnings.warn(\n",
            "/usr/local/lib/python3.11/dist-packages/sklearn/utils/deprecation.py:151: FutureWarning: 'force_all_finite' was renamed to 'ensure_all_finite' in 1.6 and will be removed in 1.8.\n",
            "  warnings.warn(\n",
            "/usr/local/lib/python3.11/dist-packages/sklearn/utils/deprecation.py:151: FutureWarning: 'force_all_finite' was renamed to 'ensure_all_finite' in 1.6 and will be removed in 1.8.\n",
            "  warnings.warn(\n",
            "/usr/local/lib/python3.11/dist-packages/sklearn/utils/deprecation.py:151: FutureWarning: 'force_all_finite' was renamed to 'ensure_all_finite' in 1.6 and will be removed in 1.8.\n",
            "  warnings.warn(\n",
            "/usr/local/lib/python3.11/dist-packages/sklearn/utils/deprecation.py:151: FutureWarning: 'force_all_finite' was renamed to 'ensure_all_finite' in 1.6 and will be removed in 1.8.\n",
            "  warnings.warn(\n",
            "/usr/local/lib/python3.11/dist-packages/sklearn/utils/deprecation.py:151: FutureWarning: 'force_all_finite' was renamed to 'ensure_all_finite' in 1.6 and will be removed in 1.8.\n",
            "  warnings.warn(\n",
            "/usr/local/lib/python3.11/dist-packages/sklearn/utils/deprecation.py:151: FutureWarning: 'force_all_finite' was renamed to 'ensure_all_finite' in 1.6 and will be removed in 1.8.\n",
            "  warnings.warn(\n",
            "/usr/local/lib/python3.11/dist-packages/sklearn/utils/deprecation.py:151: FutureWarning: 'force_all_finite' was renamed to 'ensure_all_finite' in 1.6 and will be removed in 1.8.\n",
            "  warnings.warn(\n",
            "/usr/local/lib/python3.11/dist-packages/sklearn/utils/deprecation.py:151: FutureWarning: 'force_all_finite' was renamed to 'ensure_all_finite' in 1.6 and will be removed in 1.8.\n",
            "  warnings.warn(\n",
            "/usr/local/lib/python3.11/dist-packages/sklearn/utils/deprecation.py:151: FutureWarning: 'force_all_finite' was renamed to 'ensure_all_finite' in 1.6 and will be removed in 1.8.\n",
            "  warnings.warn(\n",
            "/usr/local/lib/python3.11/dist-packages/sklearn/utils/deprecation.py:151: FutureWarning: 'force_all_finite' was renamed to 'ensure_all_finite' in 1.6 and will be removed in 1.8.\n",
            "  warnings.warn(\n",
            "/usr/local/lib/python3.11/dist-packages/sklearn/utils/deprecation.py:151: FutureWarning: 'force_all_finite' was renamed to 'ensure_all_finite' in 1.6 and will be removed in 1.8.\n",
            "  warnings.warn(\n",
            "/usr/local/lib/python3.11/dist-packages/sklearn/utils/deprecation.py:151: FutureWarning: 'force_all_finite' was renamed to 'ensure_all_finite' in 1.6 and will be removed in 1.8.\n",
            "  warnings.warn(\n",
            "/usr/local/lib/python3.11/dist-packages/sklearn/utils/deprecation.py:151: FutureWarning: 'force_all_finite' was renamed to 'ensure_all_finite' in 1.6 and will be removed in 1.8.\n",
            "  warnings.warn(\n",
            "/usr/local/lib/python3.11/dist-packages/sklearn/utils/deprecation.py:151: FutureWarning: 'force_all_finite' was renamed to 'ensure_all_finite' in 1.6 and will be removed in 1.8.\n",
            "  warnings.warn(\n",
            "/usr/local/lib/python3.11/dist-packages/sklearn/utils/deprecation.py:151: FutureWarning: 'force_all_finite' was renamed to 'ensure_all_finite' in 1.6 and will be removed in 1.8.\n",
            "  warnings.warn(\n",
            "/usr/local/lib/python3.11/dist-packages/sklearn/utils/deprecation.py:151: FutureWarning: 'force_all_finite' was renamed to 'ensure_all_finite' in 1.6 and will be removed in 1.8.\n",
            "  warnings.warn(\n",
            "/usr/local/lib/python3.11/dist-packages/sklearn/utils/deprecation.py:151: FutureWarning: 'force_all_finite' was renamed to 'ensure_all_finite' in 1.6 and will be removed in 1.8.\n",
            "  warnings.warn(\n",
            "/usr/local/lib/python3.11/dist-packages/sklearn/utils/deprecation.py:151: FutureWarning: 'force_all_finite' was renamed to 'ensure_all_finite' in 1.6 and will be removed in 1.8.\n",
            "  warnings.warn(\n",
            "/usr/local/lib/python3.11/dist-packages/sklearn/utils/deprecation.py:151: FutureWarning: 'force_all_finite' was renamed to 'ensure_all_finite' in 1.6 and will be removed in 1.8.\n",
            "  warnings.warn(\n"
          ]
        }
      ]
    },
    {
      "cell_type": "code",
      "source": [
        "# Converter para arrays, se necessário\n",
        "X_array_under = X_under.values if hasattr(X_under, \"values\") else np.array(X_under)\n",
        "y_array_under = y_under.values if hasattr(y_under, \"values\") else np.array(y_under)\n",
        "\n",
        "# Inicializar K-Fold\n",
        "skf_under = StratifiedKFold(n_splits=10, shuffle=True, random_state=42)\n",
        "\n",
        "# Listas para armazenar métricas de todos os folds\n",
        "accs_under, precs_under, recalls_under, f1s_under = [], [], [], []\n",
        "\n",
        "# Loop pelos folds\n",
        "for fold_under, (train_idx_under, test_idx_under) in enumerate(skf_under.split(X_array_under, y_array_under)):\n",
        "    X_train_under, X_test_under = X_array_under[train_idx_under], X_array_under[test_idx_under]\n",
        "    y_train_under, y_test_under = y_array_under[train_idx_under], y_array_under[test_idx_under]\n",
        "\n",
        "    lgb_model_under = lgb.LGBMClassifier(verbose=-1, n_estimators=1)\n",
        "    lgb_model_under.fit(X_train_under, y_train_under)\n",
        "    y_pred_under = lgb_model_under.predict(X_test_under)\n",
        "\n",
        "    acc_under = accuracy_score(y_test_under, y_pred_under)\n",
        "    prec_under = precision_score(y_test_under, y_pred_under)\n",
        "    rec_under = recall_score(y_test_under, y_pred_under)\n",
        "    f1_under = f1_score(y_test_under, y_pred_under)\n",
        "\n",
        "    accs_under.append(acc_under)\n",
        "    precs_under.append(prec_under)\n",
        "    recalls_under.append(rec_under)\n",
        "    f1s_under.append(f1_under)\n",
        "\n",
        "# Mostrar médias e desvios padrão\n",
        "print(\"MÉDIAS FINAIS (± desvio padrão):\")\n",
        "print(f\"Acurácia média: {np.mean(accs_under):.2f} ± {np.std(accs_under):.2f}\")\n",
        "print(f\"Precisão média: {np.mean(precs_under):.2f} ± {np.std(precs_under):.2f}\")\n",
        "print(f\"Recall médio: {np.mean(recalls_under):.2f} ± {np.std(recalls_under):.2f}\")\n",
        "print(f\"F1-Score médio: {np.mean(f1s_under):.2f} ± {np.std(f1s_under):.2f}\")"
      ],
      "metadata": {
        "colab": {
          "base_uri": "https://localhost:8080/"
        },
        "outputId": "6826aff9-f340-46ea-e589-0021fe1a7792",
        "id": "HqXEbNN0eEw0"
      },
      "execution_count": null,
      "outputs": [
        {
          "output_type": "stream",
          "name": "stdout",
          "text": [
            "MÉDIAS FINAIS (± desvio padrão):\n",
            "Acurácia média: 0.84 ± 0.02\n",
            "Precisão média: 0.84 ± 0.04\n",
            "Recall médio: 0.86 ± 0.04\n",
            "F1-Score médio: 0.85 ± 0.02\n"
          ]
        },
        {
          "output_type": "stream",
          "name": "stderr",
          "text": [
            "/usr/local/lib/python3.11/dist-packages/sklearn/utils/deprecation.py:151: FutureWarning: 'force_all_finite' was renamed to 'ensure_all_finite' in 1.6 and will be removed in 1.8.\n",
            "  warnings.warn(\n",
            "/usr/local/lib/python3.11/dist-packages/sklearn/utils/deprecation.py:151: FutureWarning: 'force_all_finite' was renamed to 'ensure_all_finite' in 1.6 and will be removed in 1.8.\n",
            "  warnings.warn(\n",
            "/usr/local/lib/python3.11/dist-packages/sklearn/utils/deprecation.py:151: FutureWarning: 'force_all_finite' was renamed to 'ensure_all_finite' in 1.6 and will be removed in 1.8.\n",
            "  warnings.warn(\n",
            "/usr/local/lib/python3.11/dist-packages/sklearn/utils/deprecation.py:151: FutureWarning: 'force_all_finite' was renamed to 'ensure_all_finite' in 1.6 and will be removed in 1.8.\n",
            "  warnings.warn(\n",
            "/usr/local/lib/python3.11/dist-packages/sklearn/utils/deprecation.py:151: FutureWarning: 'force_all_finite' was renamed to 'ensure_all_finite' in 1.6 and will be removed in 1.8.\n",
            "  warnings.warn(\n",
            "/usr/local/lib/python3.11/dist-packages/sklearn/utils/deprecation.py:151: FutureWarning: 'force_all_finite' was renamed to 'ensure_all_finite' in 1.6 and will be removed in 1.8.\n",
            "  warnings.warn(\n",
            "/usr/local/lib/python3.11/dist-packages/sklearn/utils/deprecation.py:151: FutureWarning: 'force_all_finite' was renamed to 'ensure_all_finite' in 1.6 and will be removed in 1.8.\n",
            "  warnings.warn(\n",
            "/usr/local/lib/python3.11/dist-packages/sklearn/utils/deprecation.py:151: FutureWarning: 'force_all_finite' was renamed to 'ensure_all_finite' in 1.6 and will be removed in 1.8.\n",
            "  warnings.warn(\n",
            "/usr/local/lib/python3.11/dist-packages/sklearn/utils/deprecation.py:151: FutureWarning: 'force_all_finite' was renamed to 'ensure_all_finite' in 1.6 and will be removed in 1.8.\n",
            "  warnings.warn(\n",
            "/usr/local/lib/python3.11/dist-packages/sklearn/utils/deprecation.py:151: FutureWarning: 'force_all_finite' was renamed to 'ensure_all_finite' in 1.6 and will be removed in 1.8.\n",
            "  warnings.warn(\n",
            "/usr/local/lib/python3.11/dist-packages/sklearn/utils/deprecation.py:151: FutureWarning: 'force_all_finite' was renamed to 'ensure_all_finite' in 1.6 and will be removed in 1.8.\n",
            "  warnings.warn(\n",
            "/usr/local/lib/python3.11/dist-packages/sklearn/utils/deprecation.py:151: FutureWarning: 'force_all_finite' was renamed to 'ensure_all_finite' in 1.6 and will be removed in 1.8.\n",
            "  warnings.warn(\n",
            "/usr/local/lib/python3.11/dist-packages/sklearn/utils/deprecation.py:151: FutureWarning: 'force_all_finite' was renamed to 'ensure_all_finite' in 1.6 and will be removed in 1.8.\n",
            "  warnings.warn(\n",
            "/usr/local/lib/python3.11/dist-packages/sklearn/utils/deprecation.py:151: FutureWarning: 'force_all_finite' was renamed to 'ensure_all_finite' in 1.6 and will be removed in 1.8.\n",
            "  warnings.warn(\n",
            "/usr/local/lib/python3.11/dist-packages/sklearn/utils/deprecation.py:151: FutureWarning: 'force_all_finite' was renamed to 'ensure_all_finite' in 1.6 and will be removed in 1.8.\n",
            "  warnings.warn(\n",
            "/usr/local/lib/python3.11/dist-packages/sklearn/utils/deprecation.py:151: FutureWarning: 'force_all_finite' was renamed to 'ensure_all_finite' in 1.6 and will be removed in 1.8.\n",
            "  warnings.warn(\n",
            "/usr/local/lib/python3.11/dist-packages/sklearn/utils/deprecation.py:151: FutureWarning: 'force_all_finite' was renamed to 'ensure_all_finite' in 1.6 and will be removed in 1.8.\n",
            "  warnings.warn(\n",
            "/usr/local/lib/python3.11/dist-packages/sklearn/utils/deprecation.py:151: FutureWarning: 'force_all_finite' was renamed to 'ensure_all_finite' in 1.6 and will be removed in 1.8.\n",
            "  warnings.warn(\n",
            "/usr/local/lib/python3.11/dist-packages/sklearn/utils/deprecation.py:151: FutureWarning: 'force_all_finite' was renamed to 'ensure_all_finite' in 1.6 and will be removed in 1.8.\n",
            "  warnings.warn(\n",
            "/usr/local/lib/python3.11/dist-packages/sklearn/utils/deprecation.py:151: FutureWarning: 'force_all_finite' was renamed to 'ensure_all_finite' in 1.6 and will be removed in 1.8.\n",
            "  warnings.warn(\n"
          ]
        }
      ]
    },
    {
      "cell_type": "code",
      "source": [
        "# Converter para arrays, se necessário\n",
        "X_array_over = X_over.values if hasattr(X_over, \"values\") else np.array(X_over)\n",
        "y_array_over = y_over.values if hasattr(y_over, \"values\") else np.array(y_over)\n",
        "\n",
        "# Inicializar K-Fold\n",
        "skf_over = StratifiedKFold(n_splits=10, shuffle=True, random_state=42)\n",
        "\n",
        "# Listas para armazenar métricas de todos os folds\n",
        "accs_over, precs_over, recalls_over, f1s_over = [], [], [], []\n",
        "\n",
        "# Loop pelos folds\n",
        "for fold_over, (train_idx_over, test_idx_over) in enumerate(skf_over.split(X_array_over, y_array_over)):\n",
        "    X_train_over, X_test_over = X_array_over[train_idx_over], X_array_over[test_idx_over]\n",
        "    y_train_over, y_test_over = y_array_over[train_idx_over], y_array_over[test_idx_over]\n",
        "\n",
        "    lgb_model_over = lgb.LGBMClassifier(verbose=-1, n_estimators=1)\n",
        "    lgb_model_over.fit(X_train_over, y_train_over)\n",
        "    y_pred_over = lgb_model_over.predict(X_test_over)\n",
        "\n",
        "    acc_over = accuracy_score(y_test_over, y_pred_over)\n",
        "    prec_over = precision_score(y_test_over, y_pred_over)\n",
        "    rec_over = recall_score(y_test_over, y_pred_over)\n",
        "    f1_over = f1_score(y_test_over, y_pred_over)\n",
        "\n",
        "    accs_over.append(acc_over)\n",
        "    precs_over.append(prec_over)\n",
        "    recalls_over.append(rec_over)\n",
        "    f1s_over.append(f1_over)\n",
        "\n",
        "# Mostrar médias e desvios padrão\n",
        "print(\"MÉDIAS FINAIS (± desvio padrão):\")\n",
        "print(f\"Acurácia média: {np.mean(accs_over):.2f} ± {np.std(accs_over):.2f}\")\n",
        "print(f\"Precisão média: {np.mean(precs_over):.2f} ± {np.std(precs_over):.2f}\")\n",
        "print(f\"Recall médio: {np.mean(recalls_over):.2f} ± {np.std(recalls_over):.2f}\")\n",
        "print(f\"F1-Score médio: {np.mean(f1s_over):.2f} ± {np.std(f1s_over):.2f}\")"
      ],
      "metadata": {
        "colab": {
          "base_uri": "https://localhost:8080/"
        },
        "outputId": "c16eebf7-f4b3-4b15-c4e7-116eb616eefd",
        "id": "l6zV3NhZeEw2"
      },
      "execution_count": null,
      "outputs": [
        {
          "output_type": "stream",
          "name": "stderr",
          "text": [
            "/usr/local/lib/python3.11/dist-packages/sklearn/utils/deprecation.py:151: FutureWarning: 'force_all_finite' was renamed to 'ensure_all_finite' in 1.6 and will be removed in 1.8.\n",
            "  warnings.warn(\n",
            "/usr/local/lib/python3.11/dist-packages/sklearn/utils/deprecation.py:151: FutureWarning: 'force_all_finite' was renamed to 'ensure_all_finite' in 1.6 and will be removed in 1.8.\n",
            "  warnings.warn(\n",
            "/usr/local/lib/python3.11/dist-packages/sklearn/utils/deprecation.py:151: FutureWarning: 'force_all_finite' was renamed to 'ensure_all_finite' in 1.6 and will be removed in 1.8.\n",
            "  warnings.warn(\n",
            "/usr/local/lib/python3.11/dist-packages/sklearn/utils/deprecation.py:151: FutureWarning: 'force_all_finite' was renamed to 'ensure_all_finite' in 1.6 and will be removed in 1.8.\n",
            "  warnings.warn(\n",
            "/usr/local/lib/python3.11/dist-packages/sklearn/utils/deprecation.py:151: FutureWarning: 'force_all_finite' was renamed to 'ensure_all_finite' in 1.6 and will be removed in 1.8.\n",
            "  warnings.warn(\n",
            "/usr/local/lib/python3.11/dist-packages/sklearn/utils/deprecation.py:151: FutureWarning: 'force_all_finite' was renamed to 'ensure_all_finite' in 1.6 and will be removed in 1.8.\n",
            "  warnings.warn(\n",
            "/usr/local/lib/python3.11/dist-packages/sklearn/utils/deprecation.py:151: FutureWarning: 'force_all_finite' was renamed to 'ensure_all_finite' in 1.6 and will be removed in 1.8.\n",
            "  warnings.warn(\n",
            "/usr/local/lib/python3.11/dist-packages/sklearn/utils/deprecation.py:151: FutureWarning: 'force_all_finite' was renamed to 'ensure_all_finite' in 1.6 and will be removed in 1.8.\n",
            "  warnings.warn(\n",
            "/usr/local/lib/python3.11/dist-packages/sklearn/utils/deprecation.py:151: FutureWarning: 'force_all_finite' was renamed to 'ensure_all_finite' in 1.6 and will be removed in 1.8.\n",
            "  warnings.warn(\n",
            "/usr/local/lib/python3.11/dist-packages/sklearn/utils/deprecation.py:151: FutureWarning: 'force_all_finite' was renamed to 'ensure_all_finite' in 1.6 and will be removed in 1.8.\n",
            "  warnings.warn(\n",
            "/usr/local/lib/python3.11/dist-packages/sklearn/utils/deprecation.py:151: FutureWarning: 'force_all_finite' was renamed to 'ensure_all_finite' in 1.6 and will be removed in 1.8.\n",
            "  warnings.warn(\n",
            "/usr/local/lib/python3.11/dist-packages/sklearn/utils/deprecation.py:151: FutureWarning: 'force_all_finite' was renamed to 'ensure_all_finite' in 1.6 and will be removed in 1.8.\n",
            "  warnings.warn(\n",
            "/usr/local/lib/python3.11/dist-packages/sklearn/utils/deprecation.py:151: FutureWarning: 'force_all_finite' was renamed to 'ensure_all_finite' in 1.6 and will be removed in 1.8.\n",
            "  warnings.warn(\n",
            "/usr/local/lib/python3.11/dist-packages/sklearn/utils/deprecation.py:151: FutureWarning: 'force_all_finite' was renamed to 'ensure_all_finite' in 1.6 and will be removed in 1.8.\n",
            "  warnings.warn(\n",
            "/usr/local/lib/python3.11/dist-packages/sklearn/utils/deprecation.py:151: FutureWarning: 'force_all_finite' was renamed to 'ensure_all_finite' in 1.6 and will be removed in 1.8.\n",
            "  warnings.warn(\n",
            "/usr/local/lib/python3.11/dist-packages/sklearn/utils/deprecation.py:151: FutureWarning: 'force_all_finite' was renamed to 'ensure_all_finite' in 1.6 and will be removed in 1.8.\n",
            "  warnings.warn(\n",
            "/usr/local/lib/python3.11/dist-packages/sklearn/utils/deprecation.py:151: FutureWarning: 'force_all_finite' was renamed to 'ensure_all_finite' in 1.6 and will be removed in 1.8.\n",
            "  warnings.warn(\n",
            "/usr/local/lib/python3.11/dist-packages/sklearn/utils/deprecation.py:151: FutureWarning: 'force_all_finite' was renamed to 'ensure_all_finite' in 1.6 and will be removed in 1.8.\n",
            "  warnings.warn(\n",
            "/usr/local/lib/python3.11/dist-packages/sklearn/utils/deprecation.py:151: FutureWarning: 'force_all_finite' was renamed to 'ensure_all_finite' in 1.6 and will be removed in 1.8.\n",
            "  warnings.warn(\n"
          ]
        },
        {
          "output_type": "stream",
          "name": "stdout",
          "text": [
            "MÉDIAS FINAIS (± desvio padrão):\n",
            "Acurácia média: 0.91 ± 0.01\n",
            "Precisão média: 0.93 ± 0.02\n",
            "Recall médio: 0.89 ± 0.01\n",
            "F1-Score médio: 0.91 ± 0.01\n"
          ]
        },
        {
          "output_type": "stream",
          "name": "stderr",
          "text": [
            "/usr/local/lib/python3.11/dist-packages/sklearn/utils/deprecation.py:151: FutureWarning: 'force_all_finite' was renamed to 'ensure_all_finite' in 1.6 and will be removed in 1.8.\n",
            "  warnings.warn(\n"
          ]
        }
      ]
    },
    {
      "cell_type": "markdown",
      "source": [
        "### Naïve Bayes"
      ],
      "metadata": {
        "id": "OyrCT5yyrfR1"
      }
    },
    {
      "cell_type": "code",
      "source": [
        "# Converter para arrays, se necessário\n",
        "X_array = X.values if hasattr(X, \"values\") else np.array(X)\n",
        "y_array = y.values if hasattr(y, \"values\") else np.array(y)\n",
        "\n",
        "# Inicializar K-Fold\n",
        "skf = StratifiedKFold(n_splits=10, shuffle=True, random_state=42)\n",
        "\n",
        "# Listas para armazenar métricas de todos os folds\n",
        "accs, precs, recalls, f1s = [], [], [], []\n",
        "\n",
        "# Loop pelos folds\n",
        "for fold, (train_idx, test_idx) in enumerate(skf.split(X_array, y_array)):\n",
        "    X_train, X_test = X_array[train_idx], X_array[test_idx]\n",
        "    y_train, y_test = y_array[train_idx], y_array[test_idx]\n",
        "\n",
        "    nb_model = GaussianNB()\n",
        "    nb_model.fit(X_train, y_train)\n",
        "    y_pred = nb_model.predict(X_test)\n",
        "\n",
        "    acc = accuracy_score(y_test, y_pred)\n",
        "    prec = precision_score(y_test, y_pred)\n",
        "    rec = recall_score(y_test, y_pred)\n",
        "    f1 = f1_score(y_test, y_pred)\n",
        "\n",
        "    accs.append(acc)\n",
        "    precs.append(prec)\n",
        "    recalls.append(rec)\n",
        "    f1s.append(f1)\n",
        "\n",
        "# Mostrar médias e desvios padrão\n",
        "print(\"MÉDIAS FINAIS (± desvio padrão):\")\n",
        "print(f\"Acurácia média: {np.mean(accs):.2f} ± {np.std(accs):.2f}\")\n",
        "print(f\"Precisão média: {np.mean(precs):.2f} ± {np.std(precs):.2f}\")\n",
        "print(f\"Recall médio: {np.mean(recalls):.2f} ± {np.std(recalls):.2f}\")\n",
        "print(f\"F1-Score médio: {np.mean(f1s):.2f} ± {np.std(f1s):.2f}\")"
      ],
      "metadata": {
        "colab": {
          "base_uri": "https://localhost:8080/"
        },
        "outputId": "0b8a305d-0b1e-4985-9efe-d30d9bdefec3",
        "id": "hivPcj1wetxf"
      },
      "execution_count": null,
      "outputs": [
        {
          "output_type": "stream",
          "name": "stdout",
          "text": [
            "MÉDIAS FINAIS (± desvio padrão):\n",
            "Acurácia média: 0.85 ± 0.03\n",
            "Precisão média: 0.89 ± 0.03\n",
            "Recall médio: 0.90 ± 0.03\n",
            "F1-Score médio: 0.89 ± 0.02\n"
          ]
        }
      ]
    },
    {
      "cell_type": "code",
      "source": [
        "# Converter para arrays, se necessário\n",
        "X_array_under = X_under.values if hasattr(X_under, \"values\") else np.array(X_under)\n",
        "y_array_under = y_under.values if hasattr(y_under, \"values\") else np.array(y_under)\n",
        "\n",
        "# Inicializar K-Fold\n",
        "skf_under = StratifiedKFold(n_splits=10, shuffle=True, random_state=42)\n",
        "\n",
        "# Listas para armazenar métricas de todos os folds\n",
        "accs_under, precs_under, recalls_under, f1s_under = [], [], [], []\n",
        "\n",
        "# Loop pelos folds\n",
        "for fold_under, (train_idx_under, test_idx_under) in enumerate(skf_under.split(X_array_under, y_array_under)):\n",
        "    X_train_under, X_test_under = X_array_under[train_idx_under], X_array_under[test_idx_under]\n",
        "    y_train_under, y_test_under = y_array_under[train_idx_under], y_array_under[test_idx_under]\n",
        "\n",
        "    nb_model_under = GaussianNB()\n",
        "    nb_model_under.fit(X_train_under, y_train_under)\n",
        "    y_pred_under = nb_model_under.predict(X_test_under)\n",
        "\n",
        "    acc_under = accuracy_score(y_test_under, y_pred_under)\n",
        "    prec_under = precision_score(y_test_under, y_pred_under)\n",
        "    rec_under = recall_score(y_test_under, y_pred_under)\n",
        "    f1_under = f1_score(y_test_under, y_pred_under)\n",
        "\n",
        "    accs_under.append(acc_under)\n",
        "    precs_under.append(prec_under)\n",
        "    recalls_under.append(rec_under)\n",
        "    f1s_under.append(f1_under)\n",
        "\n",
        "# Mostrar médias e desvios padrão\n",
        "print(\"MÉDIAS FINAIS (± desvio padrão):\")\n",
        "print(f\"Acurácia média: {np.mean(accs_under):.2f} ± {np.std(accs_under):.2f}\")\n",
        "print(f\"Precisão média: {np.mean(precs_under):.2f} ± {np.std(precs_under):.2f}\")\n",
        "print(f\"Recall médio: {np.mean(recalls_under):.2f} ± {np.std(recalls_under):.2f}\")\n",
        "print(f\"F1-Score médio: {np.mean(f1s_under):.2f} ± {np.std(f1s_under):.2f}\")"
      ],
      "metadata": {
        "colab": {
          "base_uri": "https://localhost:8080/"
        },
        "outputId": "b940fc1e-982e-405d-f3fc-601eeff57dd1",
        "id": "Nq7zxZD-etxk"
      },
      "execution_count": null,
      "outputs": [
        {
          "output_type": "stream",
          "name": "stdout",
          "text": [
            "MÉDIAS FINAIS (± desvio padrão):\n",
            "Acurácia média: 0.83 ± 0.03\n",
            "Precisão média: 0.82 ± 0.04\n",
            "Recall médio: 0.85 ± 0.04\n",
            "F1-Score médio: 0.83 ± 0.03\n"
          ]
        }
      ]
    },
    {
      "cell_type": "code",
      "source": [
        "# Converter para arrays, se necessário\n",
        "X_array_over = X_over.values if hasattr(X_over, \"values\") else np.array(X_over)\n",
        "y_array_over = y_over.values if hasattr(y_over, \"values\") else np.array(y_over)\n",
        "\n",
        "# Inicializar K-Fold\n",
        "skf_over = StratifiedKFold(n_splits=10, shuffle=True, random_state=42)\n",
        "\n",
        "# Listas para armazenar métricas de todos os folds\n",
        "accs_over, precs_over, recalls_over, f1s_over = [], [], [], []\n",
        "\n",
        "# Loop pelos folds\n",
        "for fold_over, (train_idx_over, test_idx_over) in enumerate(skf_over.split(X_array_over, y_array_over)):\n",
        "    X_train_over, X_test_over = X_array_over[train_idx_over], X_array_over[test_idx_over]\n",
        "    y_train_over, y_test_over = y_array_over[train_idx_over], y_array_over[test_idx_over]\n",
        "\n",
        "    nb_model_over = GaussianNB()\n",
        "    nb_model_over.fit(X_train_over, y_train_over)\n",
        "    y_pred_over = nb_model_over.predict(X_test_over)\n",
        "\n",
        "    acc_over = accuracy_score(y_test_over, y_pred_over)\n",
        "    prec_over = precision_score(y_test_over, y_pred_over)\n",
        "    rec_over = recall_score(y_test_over, y_pred_over)\n",
        "    f1_over = f1_score(y_test_over, y_pred_over)\n",
        "\n",
        "    accs_over.append(acc_over)\n",
        "    precs_over.append(prec_over)\n",
        "    recalls_over.append(rec_over)\n",
        "    f1s_over.append(f1_over)\n",
        "\n",
        "# Mostrar médias e desvios padrão\n",
        "print(\"MÉDIAS FINAIS (± desvio padrão):\")\n",
        "print(f\"Acurácia média: {np.mean(accs_over):.2f} ± {np.std(accs_over):.2f}\")\n",
        "print(f\"Precisão média: {np.mean(precs_over):.2f} ± {np.std(precs_over):.2f}\")\n",
        "print(f\"Recall médio: {np.mean(recalls_over):.2f} ± {np.std(recalls_over):.2f}\")\n",
        "print(f\"F1-Score médio: {np.mean(f1s_over):.2f} ± {np.std(f1s_over):.2f}\")"
      ],
      "metadata": {
        "colab": {
          "base_uri": "https://localhost:8080/"
        },
        "outputId": "02dbf639-32a6-4c0e-8cb7-7402ed128af1",
        "id": "49VkQxLFetxn"
      },
      "execution_count": null,
      "outputs": [
        {
          "output_type": "stream",
          "name": "stdout",
          "text": [
            "MÉDIAS FINAIS (± desvio padrão):\n",
            "Acurácia média: 0.85 ± 0.02\n",
            "Precisão média: 0.83 ± 0.03\n",
            "Recall médio: 0.86 ± 0.04\n",
            "F1-Score médio: 0.85 ± 0.02\n"
          ]
        }
      ]
    },
    {
      "cell_type": "markdown",
      "source": [
        "### LSTM"
      ],
      "metadata": {
        "id": "LQF4lmbHrwVE"
      }
    },
    {
      "cell_type": "code",
      "source": [
        "# Converter para arrays, se necessário\n",
        "X_array_lstm = X.values if hasattr(X, \"values\") else np.array(X)\n",
        "y_array_lstm = y.values if hasattr(y, \"values\") else np.array(y)\n",
        "\n",
        "# Inicializar o K-Fold\n",
        "skf_lstm = StratifiedKFold(n_splits=10, shuffle=True, random_state=42)\n",
        "\n",
        "# Listas para armazenar as métricas\n",
        "accs_lstm, precs_lstm, recalls_lstm, f1s_lstm = [], [], [], []\n",
        "\n",
        "for fold, (train_idx, test_idx) in enumerate(skf_lstm.split(X_array_lstm, y_array_lstm)):\n",
        "    X_train, X_test = X_array_lstm[train_idx], X_array_lstm[test_idx]\n",
        "    y_train, y_test = y_array_lstm[train_idx], y_array_lstm[test_idx]\n",
        "\n",
        "    # Padronização\n",
        "    scaler = StandardScaler()\n",
        "    X_train_scaled = scaler.fit_transform(X_train)\n",
        "    X_test_scaled = scaler.transform(X_test)\n",
        "\n",
        "    # Remodelar para [samples, timesteps, features]\n",
        "    X_train_lstm = X_train_scaled.reshape(-1, 1, X_train_scaled.shape[1])\n",
        "    X_test_lstm = X_test_scaled.reshape(-1, 1, X_test_scaled.shape[1])\n",
        "\n",
        "    # Criar e treinar o modelo\n",
        "    lstm_model = Sequential()\n",
        "    lstm_model.add(LSTM(units=1, input_shape=(X_train_lstm.shape[1], X_train_lstm.shape[2])))\n",
        "    lstm_model.add(Dense(1, activation='sigmoid'))\n",
        "    lstm_model.compile(optimizer='adam', loss='binary_crossentropy')\n",
        "    lstm_model.fit(X_train_lstm, y_train, epochs=10, verbose=0)\n",
        "\n",
        "    # Previsão\n",
        "    y_pred = (lstm_model.predict(X_test_lstm) > 0.5).astype(\"int64\")\n",
        "\n",
        "    # Métricas\n",
        "    accs.append(accuracy_score(y_test, y_pred))\n",
        "    precs.append(precision_score(y_test, y_pred))\n",
        "    recalls.append(recall_score(y_test, y_pred))\n",
        "    f1s.append(f1_score(y_test, y_pred))\n",
        "\n",
        "# Mostrar médias e desvios padrão\n",
        "print(\"MÉDIAS FINAIS (± desvio padrão):\")\n",
        "print(f\"Acurácia média: {np.mean(accs):.2f} ± {np.std(accs):.2f}\")\n",
        "print(f\"Precisão média: {np.mean(precs):.2f} ± {np.std(precs):.2f}\")\n",
        "print(f\"Recall médio: {np.mean(recalls):.2f} ± {np.std(recalls):.2f}\")\n",
        "print(f\"F1-Score médio: {np.mean(f1s):.2f} ± {np.std(f1s):.2f}\")"
      ],
      "metadata": {
        "colab": {
          "base_uri": "https://localhost:8080/"
        },
        "id": "gbIg7Sp6OC85",
        "outputId": "7c293b7b-aac7-4f35-c44a-04486d36ea66"
      },
      "execution_count": null,
      "outputs": [
        {
          "output_type": "stream",
          "name": "stdout",
          "text": [
            "\u001b[1m8/8\u001b[0m \u001b[32m━━━━━━━━━━━━━━━━━━━━\u001b[0m\u001b[37m\u001b[0m \u001b[1m1s\u001b[0m 34ms/step\n",
            "\u001b[1m8/8\u001b[0m \u001b[32m━━━━━━━━━━━━━━━━━━━━\u001b[0m\u001b[37m\u001b[0m \u001b[1m0s\u001b[0m 28ms/step\n",
            "\u001b[1m8/8\u001b[0m \u001b[32m━━━━━━━━━━━━━━━━━━━━\u001b[0m\u001b[37m\u001b[0m \u001b[1m0s\u001b[0m 27ms/step\n",
            "\u001b[1m8/8\u001b[0m \u001b[32m━━━━━━━━━━━━━━━━━━━━\u001b[0m\u001b[37m\u001b[0m \u001b[1m0s\u001b[0m 25ms/step\n",
            "\u001b[1m8/8\u001b[0m \u001b[32m━━━━━━━━━━━━━━━━━━━━\u001b[0m\u001b[37m\u001b[0m \u001b[1m0s\u001b[0m 26ms/step\n",
            "\u001b[1m8/8\u001b[0m \u001b[32m━━━━━━━━━━━━━━━━━━━━\u001b[0m\u001b[37m\u001b[0m \u001b[1m1s\u001b[0m 39ms/step\n",
            "\u001b[1m8/8\u001b[0m \u001b[32m━━━━━━━━━━━━━━━━━━━━\u001b[0m\u001b[37m\u001b[0m \u001b[1m0s\u001b[0m 27ms/step\n",
            "\u001b[1m8/8\u001b[0m \u001b[32m━━━━━━━━━━━━━━━━━━━━\u001b[0m\u001b[37m\u001b[0m \u001b[1m0s\u001b[0m 26ms/step\n",
            "\u001b[1m8/8\u001b[0m \u001b[32m━━━━━━━━━━━━━━━━━━━━\u001b[0m\u001b[37m\u001b[0m \u001b[1m0s\u001b[0m 31ms/step\n",
            "\u001b[1m8/8\u001b[0m \u001b[32m━━━━━━━━━━━━━━━━━━━━\u001b[0m\u001b[37m\u001b[0m \u001b[1m0s\u001b[0m 27ms/step\n",
            "MÉDIAS FINAIS (± desvio padrão):\n",
            "Acurácia média: 0.83 ± 0.04\n",
            "Precisão média: 0.85 ± 0.05\n",
            "Recall médio: 0.94 ± 0.05\n",
            "F1-Score médio: 0.89 ± 0.02\n"
          ]
        }
      ]
    },
    {
      "cell_type": "code",
      "source": [
        "# Converter para arrays\n",
        "X_array_under = X_under.values if hasattr(X_under, \"values\") else np.array(X_under)\n",
        "y_array_under = y_under.values if hasattr(y_under, \"values\") else np.array(y_under)\n",
        "\n",
        "# Inicializar o K-Fold\n",
        "skf_under = StratifiedKFold(n_splits=10, shuffle=True, random_state=42)\n",
        "\n",
        "# Métricas\n",
        "accs_under, precs_under, recalls_under, f1s_under = [], [], [], []\n",
        "\n",
        "for fold, (train_idx, test_idx) in enumerate(skf_under.split(X_array_under, y_array_under)):\n",
        "    X_train_under, X_test_under = X_array_under[train_idx], X_array_under[test_idx]\n",
        "    y_train_under, y_test_under = y_array_under[train_idx], y_array_under[test_idx]\n",
        "\n",
        "    # Padronização\n",
        "    scaler_under = StandardScaler()\n",
        "    X_train_scaled_under = scaler_under.fit_transform(X_train_under)\n",
        "    X_test_scaled_under = scaler_under.transform(X_test_under)\n",
        "\n",
        "    # Remodelar para [samples, timesteps, features]\n",
        "    X_train_under = X_train_scaled_under.reshape(-1, 1, X_train_scaled_under.shape[1])\n",
        "    X_test_under = X_test_scaled_under.reshape(-1, 1, X_test_scaled_under.shape[1])\n",
        "\n",
        "    # Modelo LSTM\n",
        "    lstm_model_under = Sequential()\n",
        "    lstm_model_under.add(LSTM(units=1, input_shape=(X_train_under.shape[1], X_train_under.shape[2])))\n",
        "    lstm_model_under.add(Dense(1, activation='sigmoid'))\n",
        "    lstm_model_under.compile(optimizer='adam', loss='binary_crossentropy')\n",
        "    lstm_model_under.fit(X_train_under, y_train_under, epochs=10, verbose=0)\n",
        "\n",
        "    # Previsão\n",
        "    y_pred_under = (lstm_model_under.predict(X_test_under) > 0.5).astype(\"int64\")\n",
        "\n",
        "    # Métricas\n",
        "    accs_under.append(accuracy_score(y_test_under, y_pred_under))\n",
        "    precs_under.append(precision_score(y_test_under, y_pred_under))\n",
        "    recalls_under.append(recall_score(y_test_under, y_pred_under))\n",
        "    f1s_under.append(f1_score(y_test_under, y_pred_under))\n",
        "\n",
        "# Mostrar médias e desvios padrão\n",
        "print(\"MÉDIAS FINAIS (± desvio padrão):\")\n",
        "print(f\"Acurácia média: {np.mean(accs_under):.2f} ± {np.std(accs_under):.2f}\")\n",
        "print(f\"Precisão média: {np.mean(precs_under):.2f} ± {np.std(precs_under):.2f}\")\n",
        "print(f\"Recall médio: {np.mean(recalls_under):.2f} ± {np.std(recalls_under):.2f}\")\n",
        "print(f\"F1-Score médio: {np.mean(f1s_under):.2f} ± {np.std(f1s_under):.2f}\")"
      ],
      "metadata": {
        "colab": {
          "base_uri": "https://localhost:8080/"
        },
        "id": "1czZ3j2ar9MW",
        "outputId": "c88d2b6e-fdfe-4840-d1ca-6765c16b9087"
      },
      "execution_count": null,
      "outputs": [
        {
          "output_type": "stream",
          "name": "stdout",
          "text": [
            "\u001b[1m5/5\u001b[0m \u001b[32m━━━━━━━━━━━━━━━━━━━━\u001b[0m\u001b[37m\u001b[0m \u001b[1m0s\u001b[0m 44ms/step\n",
            "\u001b[1m5/5\u001b[0m \u001b[32m━━━━━━━━━━━━━━━━━━━━\u001b[0m\u001b[37m\u001b[0m \u001b[1m0s\u001b[0m 43ms/step\n",
            "\u001b[1m5/5\u001b[0m \u001b[32m━━━━━━━━━━━━━━━━━━━━\u001b[0m\u001b[37m\u001b[0m \u001b[1m0s\u001b[0m 44ms/step\n",
            "\u001b[1m5/5\u001b[0m \u001b[32m━━━━━━━━━━━━━━━━━━━━\u001b[0m\u001b[37m\u001b[0m \u001b[1m0s\u001b[0m 44ms/step\n",
            "\u001b[1m5/5\u001b[0m \u001b[32m━━━━━━━━━━━━━━━━━━━━\u001b[0m\u001b[37m\u001b[0m \u001b[1m1s\u001b[0m 57ms/step\n",
            "\u001b[1m5/5\u001b[0m \u001b[32m━━━━━━━━━━━━━━━━━━━━\u001b[0m\u001b[37m\u001b[0m \u001b[1m0s\u001b[0m 51ms/step\n",
            "\u001b[1m5/5\u001b[0m \u001b[32m━━━━━━━━━━━━━━━━━━━━\u001b[0m\u001b[37m\u001b[0m \u001b[1m0s\u001b[0m 47ms/step\n",
            "\u001b[1m5/5\u001b[0m \u001b[32m━━━━━━━━━━━━━━━━━━━━\u001b[0m\u001b[37m\u001b[0m \u001b[1m1s\u001b[0m 68ms/step\n",
            "\u001b[1m5/5\u001b[0m \u001b[32m━━━━━━━━━━━━━━━━━━━━\u001b[0m\u001b[37m\u001b[0m \u001b[1m0s\u001b[0m 45ms/step\n",
            "\u001b[1m5/5\u001b[0m \u001b[32m━━━━━━━━━━━━━━━━━━━━\u001b[0m\u001b[37m\u001b[0m \u001b[1m0s\u001b[0m 47ms/step\n",
            "MÉDIAS FINAIS (± desvio padrão):\n",
            "Acurácia média: 0.69 ± 0.08\n",
            "Precisão média: 0.70 ± 0.10\n",
            "Recall médio: 0.67 ± 0.08\n",
            "F1-Score médio: 0.69 ± 0.07\n"
          ]
        }
      ]
    },
    {
      "cell_type": "code",
      "source": [
        "# Converter para arrays\n",
        "X_array_over = X_over.values if hasattr(X_over, \"values\") else np.array(X_over)\n",
        "y_array_over = y_over.values if hasattr(y_over, \"values\") else np.array(y_over)\n",
        "\n",
        "# Inicializar o K-Fold\n",
        "skf_over = StratifiedKFold(n_splits=10, shuffle=True, random_state=42)\n",
        "\n",
        "# Métricas\n",
        "accs_over, precs_over, recalls_over, f1s_over = [], [], [], []\n",
        "\n",
        "for fold, (train_idx, test_idx) in enumerate(skf_over.split(X_array_over, y_array_over)):\n",
        "    X_train_over, X_test_over = X_array_over[train_idx], X_array_over[test_idx]\n",
        "    y_train_over, y_test_over = y_array_over[train_idx], y_array_over[test_idx]\n",
        "\n",
        "    # Padronização\n",
        "    scaler_over = StandardScaler()\n",
        "    X_train_scaled_over = scaler_over.fit_transform(X_train_over)\n",
        "    X_test_scaled_over = scaler_over.transform(X_test_over)\n",
        "\n",
        "    # Remodelar para [samples, timesteps, features]\n",
        "    X_train_over = X_train_scaled_over.reshape(-1, 1, X_train_scaled_over.shape[1])\n",
        "    X_test_over = X_test_scaled_over.reshape(-1, 1, X_test_scaled_over.shape[1])\n",
        "\n",
        "    # Modelo LSTM\n",
        "    lstm_model_over = Sequential()\n",
        "    lstm_model_over.add(LSTM(units=1, input_shape=(X_train_over.shape[1], X_train_over.shape[2])))\n",
        "    lstm_model_over.add(Dense(1, activation='sigmoid'))\n",
        "    lstm_model_over.compile(optimizer='adam', loss='binary_crossentropy')\n",
        "    lstm_model_over.fit(X_train_over, y_train_over, epochs=10, verbose=0)\n",
        "\n",
        "    # Previsão\n",
        "    y_pred_over = (lstm_model_over.predict(X_test_over) > 0.5).astype(\"int64\")\n",
        "\n",
        "    # Métricas\n",
        "    accs_over.append(accuracy_score(y_test_over, y_pred_over))\n",
        "    precs_over.append(precision_score(y_test_over, y_pred_over))\n",
        "    recalls_over.append(recall_score(y_test_over, y_pred_over))\n",
        "    f1s_over.append(f1_score(y_test_over, y_pred_over))\n",
        "\n",
        "# Mostrar médias e desvios padrão\n",
        "print(\"MÉDIAS FINAIS (± desvio padrão):\")\n",
        "print(f\"Acurácia média: {np.mean(accs_over):.2f} ± {np.std(accs_over):.2f}\")\n",
        "print(f\"Precisão média: {np.mean(precs_over):.2f} ± {np.std(precs_over):.2f}\")\n",
        "print(f\"Recall médio: {np.mean(recalls_over):.2f} ± {np.std(recalls_over):.2f}\")\n",
        "print(f\"F1-Score médio: {np.mean(f1s_over):.2f} ± {np.std(f1s_over):.2f}\")"
      ],
      "metadata": {
        "colab": {
          "base_uri": "https://localhost:8080/"
        },
        "id": "k_fRcZrrr2CM",
        "outputId": "380f68c1-a178-4c11-c1f3-3be6cca23648"
      },
      "execution_count": null,
      "outputs": [
        {
          "output_type": "stream",
          "name": "stdout",
          "text": [
            "\u001b[1m11/11\u001b[0m \u001b[32m━━━━━━━━━━━━━━━━━━━━\u001b[0m\u001b[37m\u001b[0m \u001b[1m0s\u001b[0m 21ms/step\n",
            "\u001b[1m11/11\u001b[0m \u001b[32m━━━━━━━━━━━━━━━━━━━━\u001b[0m\u001b[37m\u001b[0m \u001b[1m0s\u001b[0m 20ms/step\n",
            "\u001b[1m11/11\u001b[0m \u001b[32m━━━━━━━━━━━━━━━━━━━━\u001b[0m\u001b[37m\u001b[0m \u001b[1m0s\u001b[0m 19ms/step\n",
            "\u001b[1m11/11\u001b[0m \u001b[32m━━━━━━━━━━━━━━━━━━━━\u001b[0m\u001b[37m\u001b[0m \u001b[1m0s\u001b[0m 19ms/step\n",
            "\u001b[1m11/11\u001b[0m \u001b[32m━━━━━━━━━━━━━━━━━━━━\u001b[0m\u001b[37m\u001b[0m \u001b[1m1s\u001b[0m 28ms/step\n",
            "\u001b[1m11/11\u001b[0m \u001b[32m━━━━━━━━━━━━━━━━━━━━\u001b[0m\u001b[37m\u001b[0m \u001b[1m0s\u001b[0m 19ms/step\n",
            "\u001b[1m11/11\u001b[0m \u001b[32m━━━━━━━━━━━━━━━━━━━━\u001b[0m\u001b[37m\u001b[0m \u001b[1m0s\u001b[0m 20ms/step\n",
            "\u001b[1m11/11\u001b[0m \u001b[32m━━━━━━━━━━━━━━━━━━━━\u001b[0m\u001b[37m\u001b[0m \u001b[1m0s\u001b[0m 19ms/step\n",
            "\u001b[1m11/11\u001b[0m \u001b[32m━━━━━━━━━━━━━━━━━━━━\u001b[0m\u001b[37m\u001b[0m \u001b[1m0s\u001b[0m 18ms/step\n",
            "\u001b[1m11/11\u001b[0m \u001b[32m━━━━━━━━━━━━━━━━━━━━\u001b[0m\u001b[37m\u001b[0m \u001b[1m0s\u001b[0m 18ms/step\n",
            "MÉDIAS FINAIS (± desvio padrão):\n",
            "Acurácia média: 0.83 ± 0.03\n",
            "Precisão média: 0.84 ± 0.06\n",
            "Recall médio: 0.84 ± 0.07\n",
            "F1-Score médio: 0.83 ± 0.03\n"
          ]
        }
      ]
    },
    {
      "cell_type": "markdown",
      "source": [
        "### KNN"
      ],
      "metadata": {
        "id": "mxExBHbhsAZN"
      }
    },
    {
      "cell_type": "code",
      "source": [
        "# Converter para arrays, se necessário\n",
        "X_array = X.values if hasattr(X, \"values\") else np.array(X)\n",
        "y_array = y.values if hasattr(y, \"values\") else np.array(y)\n",
        "\n",
        "# Inicializar K-Fold\n",
        "skf = StratifiedKFold(n_splits=10, shuffle=True, random_state=42)\n",
        "\n",
        "# Listas para armazenar métricas de todos os folds\n",
        "accs, precs, recalls, f1s = [], [], [], []\n",
        "\n",
        "# Loop pelos folds\n",
        "for fold, (train_idx, test_idx) in enumerate(skf.split(X_array, y_array)):\n",
        "    X_train, X_test = X_array[train_idx], X_array[test_idx]\n",
        "    y_train, y_test = y_array[train_idx], y_array[test_idx]\n",
        "\n",
        "    knn_model = KNeighborsClassifier(n_neighbors=100)\n",
        "    knn_model.fit(X_train, y_train)\n",
        "    y_pred = knn_model.predict(X_test)\n",
        "\n",
        "    acc = accuracy_score(y_test, y_pred)\n",
        "    prec = precision_score(y_test, y_pred)\n",
        "    rec = recall_score(y_test, y_pred)\n",
        "    f1 = f1_score(y_test, y_pred)\n",
        "\n",
        "    accs.append(acc)\n",
        "    precs.append(prec)\n",
        "    recalls.append(rec)\n",
        "    f1s.append(f1)\n",
        "\n",
        "# Mostrar médias e desvios padrão\n",
        "print(\"MÉDIAS FINAIS (± desvio padrão):\")\n",
        "print(f\"Acurácia média: {np.mean(accs):.2f} ± {np.std(accs):.2f}\")\n",
        "print(f\"Precisão média: {np.mean(precs):.2f} ± {np.std(precs):.2f}\")\n",
        "print(f\"Recall médio: {np.mean(recalls):.2f} ± {np.std(recalls):.2f}\")\n",
        "print(f\"F1-Score médio: {np.mean(f1s):.2f} ± {np.std(f1s):.2f}\")"
      ],
      "metadata": {
        "colab": {
          "base_uri": "https://localhost:8080/"
        },
        "outputId": "3d04b90c-ed94-4b39-b452-c10989ded854",
        "id": "s9xIdIs6e167"
      },
      "execution_count": null,
      "outputs": [
        {
          "output_type": "stream",
          "name": "stdout",
          "text": [
            "MÉDIAS FINAIS (± desvio padrão):\n",
            "Acurácia média: 0.88 ± 0.03\n",
            "Precisão média: 0.88 ± 0.02\n",
            "Recall médio: 0.96 ± 0.02\n",
            "F1-Score médio: 0.92 ± 0.02\n"
          ]
        }
      ]
    },
    {
      "cell_type": "code",
      "source": [
        "# Converter para arrays, se necessário\n",
        "X_array_under = X_under.values if hasattr(X_under, \"values\") else np.array(X_under)\n",
        "y_array_under = y_under.values if hasattr(y_under, \"values\") else np.array(y_under)\n",
        "\n",
        "# Inicializar K-Fold\n",
        "skf_under = StratifiedKFold(n_splits=10, shuffle=True, random_state=42)\n",
        "\n",
        "# Listas para armazenar métricas de todos os folds\n",
        "accs_under, precs_under, recalls_under, f1s_under = [], [], [], []\n",
        "\n",
        "# Loop pelos folds\n",
        "for fold_under, (train_idx_under, test_idx_under) in enumerate(skf_under.split(X_array_under, y_array_under)):\n",
        "    X_train_under, X_test_under = X_array_under[train_idx_under], X_array_under[test_idx_under]\n",
        "    y_train_under, y_test_under = y_array_under[train_idx_under], y_array_under[test_idx_under]\n",
        "\n",
        "    knn_model_under = KNeighborsClassifier(n_neighbors=100)\n",
        "    knn_model_under.fit(X_train_under, y_train_under)\n",
        "    y_pred_under = knn_model_under.predict(X_test_under)\n",
        "\n",
        "    acc_under = accuracy_score(y_test_under, y_pred_under)\n",
        "    prec_under = precision_score(y_test_under, y_pred_under)\n",
        "    rec_under = recall_score(y_test_under, y_pred_under)\n",
        "    f1_under = f1_score(y_test_under, y_pred_under)\n",
        "\n",
        "    accs_under.append(acc_under)\n",
        "    precs_under.append(prec_under)\n",
        "    recalls_under.append(rec_under)\n",
        "    f1s_under.append(f1_under)\n",
        "\n",
        "# Mostrar médias e desvios padrão\n",
        "print(\"MÉDIAS FINAIS (± desvio padrão):\")\n",
        "print(f\"Acurácia média: {np.mean(accs_under):.2f} ± {np.std(accs_under):.2f}\")\n",
        "print(f\"Precisão média: {np.mean(precs_under):.2f} ± {np.std(precs_under):.2f}\")\n",
        "print(f\"Recall médio: {np.mean(recalls_under):.2f} ± {np.std(recalls_under):.2f}\")\n",
        "print(f\"F1-Score médio: {np.mean(f1s_under):.2f} ± {np.std(f1s_under):.2f}\")"
      ],
      "metadata": {
        "colab": {
          "base_uri": "https://localhost:8080/"
        },
        "outputId": "185b8357-11b4-4fef-a7cd-305941c2ca63",
        "id": "DvYOOarFe169"
      },
      "execution_count": null,
      "outputs": [
        {
          "output_type": "stream",
          "name": "stdout",
          "text": [
            "MÉDIAS FINAIS (± desvio padrão):\n",
            "Acurácia média: 0.84 ± 0.05\n",
            "Precisão média: 0.88 ± 0.04\n",
            "Recall médio: 0.80 ± 0.08\n",
            "F1-Score médio: 0.83 ± 0.06\n"
          ]
        }
      ]
    },
    {
      "cell_type": "code",
      "source": [
        "# Converter para arrays, se necessário\n",
        "X_array_over = X_over.values if hasattr(X_over, \"values\") else np.array(X_over)\n",
        "y_array_over = y_over.values if hasattr(y_over, \"values\") else np.array(y_over)\n",
        "\n",
        "# Inicializar K-Fold\n",
        "skf_over = StratifiedKFold(n_splits=10, shuffle=True, random_state=42)\n",
        "\n",
        "# Listas para armazenar métricas de todos os folds\n",
        "accs_over, precs_over, recalls_over, f1s_over = [], [], [], []\n",
        "\n",
        "# Loop pelos folds\n",
        "for fold_over, (train_idx_over, test_idx_over) in enumerate(skf_over.split(X_array_over, y_array_over)):\n",
        "    X_train_over, X_test_over = X_array_over[train_idx_over], X_array_over[test_idx_over]\n",
        "    y_train_over, y_test_over = y_array_over[train_idx_over], y_array_over[test_idx_over]\n",
        "\n",
        "    knn_model_over = KNeighborsClassifier(n_neighbors=100)\n",
        "    knn_model_over.fit(X_train_over, y_train_over)\n",
        "    y_pred_over = knn_model_over.predict(X_test_over)\n",
        "\n",
        "    acc_over = accuracy_score(y_test_over, y_pred_over)\n",
        "    prec_over = precision_score(y_test_over, y_pred_over)\n",
        "    rec_over = recall_score(y_test_over, y_pred_over)\n",
        "    f1_over = f1_score(y_test_over, y_pred_over)\n",
        "\n",
        "    accs_over.append(acc_over)\n",
        "    precs_over.append(prec_over)\n",
        "    recalls_over.append(rec_over)\n",
        "    f1s_over.append(f1_over)\n",
        "\n",
        "# Mostrar médias e desvios padrão\n",
        "print(\"MÉDIAS FINAIS (± desvio padrão):\")\n",
        "print(f\"Acurácia média: {np.mean(accs_over):.2f} ± {np.std(accs_over):.2f}\")\n",
        "print(f\"Precisão média: {np.mean(precs_over):.2f} ± {np.std(precs_over):.2f}\")\n",
        "print(f\"Recall médio: {np.mean(recalls_over):.2f} ± {np.std(recalls_over):.2f}\")\n",
        "print(f\"F1-Score médio: {np.mean(f1s_over):.2f} ± {np.std(f1s_over):.2f}\")"
      ],
      "metadata": {
        "colab": {
          "base_uri": "https://localhost:8080/"
        },
        "outputId": "799fe89f-7879-42a2-fc28-db6a50128fc6",
        "id": "df8M9wjRe16_"
      },
      "execution_count": null,
      "outputs": [
        {
          "output_type": "stream",
          "name": "stdout",
          "text": [
            "MÉDIAS FINAIS (± desvio padrão):\n",
            "Acurácia média: 0.87 ± 0.02\n",
            "Precisão média: 0.90 ± 0.03\n",
            "Recall médio: 0.85 ± 0.04\n",
            "F1-Score médio: 0.87 ± 0.02\n"
          ]
        }
      ]
    }
  ],
  "metadata": {
    "colab": {
      "provenance": [],
      "authorship_tag": "ABX9TyOtHGSmytTIU6lsqMMhBMfp",
      "include_colab_link": true
    },
    "kernelspec": {
      "display_name": "Python 3",
      "name": "python3"
    },
    "language_info": {
      "name": "python"
    }
  },
  "nbformat": 4,
  "nbformat_minor": 0
}