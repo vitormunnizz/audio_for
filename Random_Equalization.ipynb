{
  "cells": [
    {
      "cell_type": "code",
      "source": [
        "import os\n",
        "import librosa\n",
        "import pandas as pd\n",
        "import numpy as np\n",
        "import matplotlib.pyplot as plt\n",
        "from sklearn.model_selection import train_test_split\n",
        "from sklearn.ensemble import RandomForestClassifier\n",
        "from sklearn.naive_bayes import GaussianNB\n",
        "from sklearn.neighbors import KNeighborsClassifier\n",
        "from sklearn.preprocessing import StandardScaler\n",
        "from sklearn.metrics import accuracy_score, precision_score, recall_score, f1_score\n",
        "import lightgbm as lgb\n",
        "from keras.models import Sequential\n",
        "from keras.layers import LSTM, Dense, Dropout\n",
        "from sklearn.decomposition import PCA\n",
        "import warnings\n",
        "warnings.filterwarnings(\"ignore\", category=UserWarning)\n",
        "from imblearn.over_sampling import SMOTE\n",
        "from imblearn.under_sampling import RandomUnderSampler\n",
        "from collections import Counter"
      ],
      "metadata": {
        "id": "IyGP8t3h5FDK"
      },
      "execution_count": null,
      "outputs": []
    },
    {
      "cell_type": "code",
      "source": [
        "# Montar o Google Drive\n",
        "from google.colab import drive\n",
        "drive.mount('/content/drive', force_remount=True)"
      ],
      "metadata": {
        "colab": {
          "base_uri": "https://localhost:8080/"
        },
        "id": "NX-59NtLUgIp",
        "outputId": "7f9dc7c6-d93a-4a4d-fa57-c71d34906740"
      },
      "execution_count": null,
      "outputs": [
        {
          "output_type": "stream",
          "name": "stdout",
          "text": [
            "Mounted at /content/drive\n"
          ]
        }
      ]
    },
    {
      "cell_type": "code",
      "source": [
        "# Função para aplicar equalização aleatória\n",
        "def random_equalization(y, sr, n_bands=5, max_gain_db=12):\n",
        "    # Cria um filtro de equalização aleatório\n",
        "    frequencies = np.linspace(0, sr // 2, n_bands + 2)\n",
        "    gains_db = np.random.uniform(-max_gain_db, max_gain_db, n_bands + 2)\n",
        "    gains_linear = 10 ** (gains_db / 20)\n",
        "\n",
        "    # Aplica o filtro\n",
        "    y_eq = np.zeros_like(y)\n",
        "    for i in range(len(frequencies) - 1):\n",
        "        y_band = librosa.effects.preemphasis(y, coef=gains_linear[i])\n",
        "        y_eq += y_band\n",
        "\n",
        "    return y_eq\n",
        "\n",
        "# Função para extrair MFCCs do áudio\n",
        "def extract_features(y, sr):\n",
        "    try:\n",
        "        mfccs = librosa.feature.mfcc(y=y, sr=sr, n_mfcc=13)\n",
        "        return np.mean(mfccs.T, axis=0)  # Retorna a média dos coeficientes\n",
        "    except Exception as e:\n",
        "        print(f\"Erro ao extrair MFCCs: {e}\")\n",
        "        return None\n",
        "\n",
        "# Função para carregar dados e aplicar equalização aleatória\n",
        "def load_data_with_random_equalization(folder_path, label):\n",
        "    data = []\n",
        "    labels = []\n",
        "\n",
        "    for file_name in os.listdir(folder_path):\n",
        "        file_path = os.path.join(folder_path, file_name)\n",
        "        try:\n",
        "            y, sr = librosa.load(file_path, sr=None)\n",
        "\n",
        "            # Extrair features do áudio original\n",
        "            features = extract_features(y, sr)\n",
        "            if features is not None:\n",
        "                data.append(features)\n",
        "                labels.append(label)\n",
        "\n",
        "            # Aplicar equalização aleatória\n",
        "            y_eq = random_equalization(y, sr)\n",
        "            features_eq = extract_features(y_eq, sr)\n",
        "\n",
        "            if features_eq is not None:\n",
        "                data.append(features_eq)\n",
        "                labels.append(label)\n",
        "\n",
        "        except Exception as e:\n",
        "            print(f\"Erro ao processar {file_path}: {e}\")\n",
        "\n",
        "    return data, labels"
      ],
      "metadata": {
        "id": "dFVi8Ikv5dk3"
      },
      "execution_count": null,
      "outputs": []
    },
    {
      "cell_type": "code",
      "source": [
        "# Definir caminhos dos áudios\n",
        "file_path_real = '/content/drive/MyDrive/audios_FOR/real'\n",
        "file_path_fake = '/content/drive/MyDrive/audios_FOR/fake'\n",
        "\n",
        "# Criar diretórios se não existirem\n",
        "os.makedirs(file_path_real, exist_ok=True)\n",
        "os.makedirs(file_path_fake, exist_ok=True)\n",
        "\n",
        "# Carregar dados com ruído\n",
        "data_real, labels_real = load_data_with_random_equalization(file_path_real, label=1)  # Áudios reais\n",
        "data_fake, labels_fake = load_data_with_random_equalization(file_path_fake, label=0)  # Áudios falsos\n",
        "\n",
        "# Unir dados reais e falsos\n",
        "data = data_real + data_fake\n",
        "labels = labels_real + labels_fake\n",
        "\n",
        "# Remover valores None\n",
        "data_filtered, labels_filtered = zip(*[(d, l) for d, l in zip(data, labels) if d is not None])"
      ],
      "metadata": {
        "id": "LLLGCK6U5oo5"
      },
      "execution_count": null,
      "outputs": []
    },
    {
      "cell_type": "code",
      "source": [
        "def plot_equalization_comparison(folder_path):\n",
        "    import matplotlib.pyplot as plt\n",
        "    import librosa.display\n",
        "    import os\n",
        "    import librosa\n",
        "    import numpy as np\n",
        "\n",
        "    # Define o estilo padrão (fundo branco, sem grid)\n",
        "    plt.style.use('default')\n",
        "\n",
        "    # Carrega o primeiro áudio da pasta\n",
        "    first_audio_file = os.listdir(folder_path)[0]\n",
        "    audio_path = os.path.join(folder_path, first_audio_file)\n",
        "    y, sr = librosa.load(audio_path, sr=None)\n",
        "\n",
        "    # Aplica equalização aleatória\n",
        "    y_eq = random_equalization(y, sr)\n",
        "\n",
        "    # Define cor de onda (cinza escuro)\n",
        "    wave_color = \"#333333\"\n",
        "\n",
        "    # Cria o gráfico comparativo\n",
        "    plt.figure(figsize=(10, 6))\n",
        "\n",
        "    plt.subplot(2, 1, 1)\n",
        "    plt.title(\"Áudio Original\", fontsize=14)\n",
        "    librosa.display.waveshow(y, sr=sr, color=wave_color)\n",
        "    plt.xlabel(\"Tempo\")\n",
        "    plt.ylabel(\"Amplitude\")\n",
        "\n",
        "    plt.subplot(2, 1, 2)\n",
        "    plt.title(\"Áudio com Equalização Aleatória\", fontsize=14)\n",
        "    librosa.display.waveshow(y_eq, sr=sr, color=wave_color)\n",
        "    plt.xlabel(\"Tempo\")\n",
        "    plt.ylabel(\"Amplitude\")\n",
        "\n",
        "    plt.tight_layout()\n",
        "    plt.show()"
      ],
      "metadata": {
        "id": "60WmDTPNADK9"
      },
      "execution_count": null,
      "outputs": []
    },
    {
      "cell_type": "code",
      "source": [
        "plot_equalization_comparison('/content/drive/MyDrive/audios_FOR/real')"
      ],
      "metadata": {
        "colab": {
          "base_uri": "https://localhost:8080/",
          "height": 607
        },
        "id": "OP0gIUYlAHjX",
        "outputId": "a31bf688-c44d-499e-f058-1a778512a440"
      },
      "execution_count": null,
      "outputs": [
        {
          "output_type": "display_data",
          "data": {
            "text/plain": [
              "<Figure size 1000x600 with 2 Axes>"
            ],
            "image/png": "[encoded data removed]"
          },
          "metadata": {}
        }
      ]
    },
    {
      "cell_type": "code",
      "source": [
        "# Criar DataFrame\n",
        "df = pd.DataFrame(data_filtered)\n",
        "df['label'] = labels_filtered"
      ],
      "metadata": {
        "id": "01RZMiPl5RHw"
      },
      "execution_count": null,
      "outputs": []
    },
    {
      "cell_type": "code",
      "source": [
        "df.shape"
      ],
      "metadata": {
        "colab": {
          "base_uri": "https://localhost:8080/"
        },
        "id": "UrqcDhSpriLz",
        "outputId": "fd6f9e62-b04d-4e7d-87b6-7b602531c0c8"
      },
      "execution_count": null,
      "outputs": [
        {
          "output_type": "execute_result",
          "data": {
            "text/plain": [
              "(1440, 14)"
            ]
          },
          "metadata": {},
          "execution_count": 37
        }
      ]
    },
    {
      "cell_type": "code",
      "source": [
        "# Separar características (X) e rótulos (y)\n",
        "X = df.drop(columns=['label'])\n",
        "y = df['label']"
      ],
      "metadata": {
        "id": "_v0oc81v5Kiq"
      },
      "execution_count": null,
      "outputs": []
    },
    {
      "cell_type": "code",
      "source": [
        "# UNDERSAMPLING\n",
        "under = RandomUnderSampler(random_state=42)\n",
        "X_under, y_under = under.fit_resample(X, y)\n",
        "print(\"Distribuição após undersampling:\", Counter(y_under))"
      ],
      "metadata": {
        "colab": {
          "base_uri": "https://localhost:8080/"
        },
        "id": "ekRlITWco9io",
        "outputId": "dda86c8c-ffff-48bd-856f-171e98cf5478"
      },
      "execution_count": null,
      "outputs": [
        {
          "output_type": "stream",
          "name": "stdout",
          "text": [
            "Distribuição após undersampling: Counter({0: 410, 1: 410})\n"
          ]
        }
      ]
    },
    {
      "cell_type": "code",
      "source": [
        "# OVERSAMPLING (SMOTE)\n",
        "smote = SMOTE(random_state=42)\n",
        "X_over, y_over = smote.fit_resample(X, y)\n",
        "print(\"Distribuição após oversampling:\", Counter(y_over))"
      ],
      "metadata": {
        "colab": {
          "base_uri": "https://localhost:8080/"
        },
        "id": "Opq_hjL5pEln",
        "outputId": "8fc81e8c-7781-4f2a-9163-73ecbce327bd"
      },
      "execution_count": null,
      "outputs": [
        {
          "output_type": "stream",
          "name": "stdout",
          "text": [
            "Distribuição após oversampling: Counter({1: 1030, 0: 1030})\n"
          ]
        }
      ]
    },
    {
      "cell_type": "code",
      "source": [
        "# Função para calcular e exibir as métricas\n",
        "def print_metrics(y_true, y_pred):\n",
        "    accuracy = accuracy_score(y_true, y_pred)\n",
        "    precision = precision_score(y_true, y_pred)\n",
        "    recall = recall_score(y_true, y_pred)\n",
        "    f1 = f1_score(y_true, y_pred)\n",
        "\n",
        "    print(f\"Acurácia: {accuracy:.2f}\")\n",
        "    print(f\"Precisão: {precision:.2f}\")\n",
        "    print(f\"Recall: {recall:.2f}\")\n",
        "    print(f\"F1-Score: {f1:.2f}\")\n",
        "    print(\"\\n\")"
      ],
      "metadata": {
        "id": "1u1JYEepqFCE"
      },
      "execution_count": null,
      "outputs": []
    },
    {
      "cell_type": "markdown",
      "source": [
        "### Random Forest"
      ],
      "metadata": {
        "id": "-GKaHiVdq_PI"
      }
    },
    {
      "cell_type": "code",
      "source": [
        "# Dividir em treino e teste\n",
        "X_train_rf_model, X_test_rf_model, y_train_rf_model, y_test_rf_model = train_test_split(X, y, test_size=0.2, random_state=1)\n",
        "\n",
        "\n",
        "rf_model = RandomForestClassifier(n_estimators=1, max_features=1)\n",
        "rf_model.fit(X_train_rf_model, y_train_rf_model)\n",
        "rf_pred = rf_model.predict(X_test_rf_model)\n",
        "print(\"Random Forest:\")\n",
        "print_metrics(y_test_rf_model, rf_pred)"
      ],
      "metadata": {
        "colab": {
          "base_uri": "https://localhost:8080/"
        },
        "id": "xtm8swVeHwzu",
        "outputId": "04e7e04b-91b5-4bc3-8d02-1de9b9abf8ce"
      },
      "execution_count": null,
      "outputs": [
        {
          "output_type": "stream",
          "name": "stdout",
          "text": [
            "Random Forest:\n",
            "Acurácia: 0.80\n",
            "Precisão: 0.88\n",
            "Recall: 0.84\n",
            "F1-Score: 0.86\n",
            "\n",
            "\n"
          ]
        }
      ]
    },
    {
      "cell_type": "code",
      "source": [
        "# Dividir em treino e teste\n",
        "X_train_rf_model_under, X_test_rf_model_under, y_train_rf_model_under, y_test_rf_model_under = train_test_split(X_under, y_under, test_size=0.2, random_state=1)\n",
        "\n",
        "\n",
        "rf_model_under = RandomForestClassifier(n_estimators=1, max_features=1)\n",
        "rf_model_under.fit(X_train_rf_model_under, y_train_rf_model_under)\n",
        "rf_pred_under = rf_model_under.predict(X_test_rf_model_under)\n",
        "print(\"Random Forest (Undersampling):\")\n",
        "print_metrics(y_test_rf_model_under, rf_pred_under)"
      ],
      "metadata": {
        "colab": {
          "base_uri": "https://localhost:8080/"
        },
        "id": "c-_gDON6pMv5",
        "outputId": "8d119e32-83f0-4484-e244-fe7c9cd7a181"
      },
      "execution_count": null,
      "outputs": [
        {
          "output_type": "stream",
          "name": "stdout",
          "text": [
            "Random Forest (Undersampling):\n",
            "Acurácia: 0.74\n",
            "Precisão: 0.76\n",
            "Recall: 0.73\n",
            "F1-Score: 0.74\n",
            "\n",
            "\n"
          ]
        }
      ]
    },
    {
      "cell_type": "code",
      "source": [
        "# Dividir em treino e teste\n",
        "X_train_rf_model_over, X_test_rf_model_over, y_train_rf_model_over, y_test_rf_model_over = train_test_split(X_over, y_over, test_size=0.2, random_state=1)\n",
        "\n",
        "\n",
        "rf_model_over = RandomForestClassifier(n_estimators=1, max_features=1)\n",
        "rf_model_over.fit(X_train_rf_model_over, y_train_rf_model_over)\n",
        "rf_pred_over = rf_model_over.predict(X_test_rf_model_over)\n",
        "print(\"Random Forest (Oversampling):\")\n",
        "print_metrics(y_test_rf_model_over, rf_pred_over)"
      ],
      "metadata": {
        "colab": {
          "base_uri": "https://localhost:8080/"
        },
        "id": "0EozJLCspNZy",
        "outputId": "14f6024b-bac6-436b-e9a2-614f2404ccf3"
      },
      "execution_count": null,
      "outputs": [
        {
          "output_type": "stream",
          "name": "stdout",
          "text": [
            "Random Forest (Oversampling):\n",
            "Acurácia: 0.86\n",
            "Precisão: 0.88\n",
            "Recall: 0.83\n",
            "F1-Score: 0.85\n",
            "\n",
            "\n"
          ]
        }
      ]
    },
    {
      "cell_type": "markdown",
      "source": [
        "### LightGBM"
      ],
      "metadata": {
        "id": "-ICjIwjvrMoV"
      }
    },
    {
      "cell_type": "code",
      "source": [
        "# Dividir em treino e teste\n",
        "X_train_lgb_model, X_test_lgb_model, y_train_lgb_model, y_test_lgb_model = train_test_split(X, y, test_size=0.2, random_state=2)\n",
        "\n",
        "lgb_model = lgb.LGBMClassifier(verbose=-1, n_estimators=1)\n",
        "lgb_model.fit(X_train_lgb_model, y_train_lgb_model)\n",
        "lgb_pred = lgb_model.predict(X_test_lgb_model)\n",
        "print(\"LightGBM:\")\n",
        "print_metrics(y_test_lgb_model, lgb_pred)"
      ],
      "metadata": {
        "colab": {
          "base_uri": "https://localhost:8080/"
        },
        "id": "AFm9J8zbH1sb",
        "outputId": "61e56c4c-51c5-43e7-ddbc-35cbbe339d75"
      },
      "execution_count": null,
      "outputs": [
        {
          "output_type": "stream",
          "name": "stdout",
          "text": [
            "LightGBM:\n",
            "Acurácia: 0.72\n",
            "Precisão: 0.72\n",
            "Recall: 1.00\n",
            "F1-Score: 0.83\n",
            "\n",
            "\n"
          ]
        }
      ]
    },
    {
      "cell_type": "code",
      "source": [
        "# LightGBM com undersampling\n",
        "X_train_lgb_model_under, X_test_lgb_model_under, y_train_lgb_model_under, y_test_lgb_model_under = train_test_split(X_under, y_under, test_size=0.2, random_state=2)\n",
        "\n",
        "lgb_model_under = lgb.LGBMClassifier(verbose=-1, n_estimators=1)\n",
        "lgb_model_under.fit(X_train_lgb_model_under, y_train_lgb_model_under)\n",
        "lgb_pred_under = lgb_model_under.predict(X_test_lgb_model_under)\n",
        "print(\"LightGBM (Undersampling):\")\n",
        "print_metrics(y_test_lgb_model_under, lgb_pred_under)"
      ],
      "metadata": {
        "colab": {
          "base_uri": "https://localhost:8080/"
        },
        "id": "gxDAXyXRq41_",
        "outputId": "5a78f944-a007-424d-a892-c2e556e7a170"
      },
      "execution_count": null,
      "outputs": [
        {
          "output_type": "stream",
          "name": "stdout",
          "text": [
            "LightGBM (Undersampling):\n",
            "Acurácia: 0.79\n",
            "Precisão: 0.80\n",
            "Recall: 0.79\n",
            "F1-Score: 0.79\n",
            "\n",
            "\n"
          ]
        }
      ]
    },
    {
      "cell_type": "code",
      "source": [
        "# LightGBM com oversampling\n",
        "X_train_lgb_model_over, X_test_lgb_model_over, y_train_lgb_model_over, y_test_lgb_model_over = train_test_split(X_over, y_over, test_size=0.2, random_state=2)\n",
        "\n",
        "lgb_model_over = lgb.LGBMClassifier(verbose=-1, n_estimators=1)\n",
        "lgb_model_over.fit(X_train_lgb_model_over, y_train_lgb_model_over)\n",
        "lgb_pred_over = lgb_model_over.predict(X_test_lgb_model_over)\n",
        "print(\"LightGBM (Oversampling):\")\n",
        "print_metrics(y_test_lgb_model_over, lgb_pred_over)"
      ],
      "metadata": {
        "colab": {
          "base_uri": "https://localhost:8080/"
        },
        "id": "3Fo_4Zjaq1vS",
        "outputId": "d2761ae8-1b91-4b8b-e3bf-206100d40706"
      },
      "execution_count": null,
      "outputs": [
        {
          "output_type": "stream",
          "name": "stdout",
          "text": [
            "LightGBM (Oversampling):\n",
            "Acurácia: 0.84\n",
            "Precisão: 0.85\n",
            "Recall: 0.84\n",
            "F1-Score: 0.84\n",
            "\n",
            "\n"
          ]
        }
      ]
    },
    {
      "cell_type": "markdown",
      "source": [
        "### Naïve Bayes"
      ],
      "metadata": {
        "id": "OyrCT5yyrfR1"
      }
    },
    {
      "cell_type": "code",
      "source": [
        "# Dividir em treino e teste\n",
        "X_train_nb_model, X_test_nb_model, y_train_nb_model, y_test_nb_model = train_test_split(X, y, test_size=0.2, random_state=5)\n",
        "\n",
        "# 3. Naïve Bayes\n",
        "nb_model = GaussianNB()\n",
        "nb_model.fit(X_train_nb_model, y_train_nb_model)\n",
        "nb_pred = nb_model.predict(X_test_nb_model)\n",
        "print(\"Naïve Bayes:\")\n",
        "print_metrics(y_test_nb_model, nb_pred)"
      ],
      "metadata": {
        "colab": {
          "base_uri": "https://localhost:8080/"
        },
        "id": "lrodgnWX9LGV",
        "outputId": "70e53bd6-796f-407a-adf3-97714f9e7777"
      },
      "execution_count": null,
      "outputs": [
        {
          "output_type": "stream",
          "name": "stdout",
          "text": [
            "Naïve Bayes:\n",
            "Acurácia: 0.76\n",
            "Precisão: 0.80\n",
            "Recall: 0.86\n",
            "F1-Score: 0.83\n",
            "\n",
            "\n"
          ]
        }
      ]
    },
    {
      "cell_type": "code",
      "source": [
        "# Naïve Bayes com undersampling\n",
        "X_train_nb_model_under, X_test_nb_model_under, y_train_nb_model_under, y_test_nb_model_under = train_test_split(X_under, y_under, test_size=0.2, random_state=5)\n",
        "\n",
        "nb_model_under = GaussianNB()\n",
        "nb_model_under.fit(X_train_nb_model_under, y_train_nb_model_under)\n",
        "nb_pred_under = nb_model_under.predict(X_test_nb_model_under)\n",
        "print(\"Naïve Bayes (Undersampling):\")\n",
        "print_metrics(y_test_nb_model_under, nb_pred_under)"
      ],
      "metadata": {
        "colab": {
          "base_uri": "https://localhost:8080/"
        },
        "id": "CiDhO4HNrnqp",
        "outputId": "4c0c0d14-b766-42b0-9c8d-7197c6099c8a"
      },
      "execution_count": null,
      "outputs": [
        {
          "output_type": "stream",
          "name": "stdout",
          "text": [
            "Naïve Bayes (Undersampling):\n",
            "Acurácia: 0.76\n",
            "Precisão: 0.79\n",
            "Recall: 0.76\n",
            "F1-Score: 0.77\n",
            "\n",
            "\n"
          ]
        }
      ]
    },
    {
      "cell_type": "code",
      "source": [
        "# Naïve Bayes com oversampling\n",
        "X_train_nb_model_over, X_test_nb_model_over, y_train_nb_model_over, y_test_nb_model_over = train_test_split(X_over, y_over, test_size=0.2, random_state=5)\n",
        "\n",
        "nb_model_over = GaussianNB()\n",
        "nb_model_over.fit(X_train_nb_model_over, y_train_nb_model_over)\n",
        "nb_pred_over = nb_model_over.predict(X_test_nb_model_over)\n",
        "print(\"Naïve Bayes (Oversampling):\")\n",
        "print_metrics(y_test_nb_model_over, nb_pred_over)"
      ],
      "metadata": {
        "colab": {
          "base_uri": "https://localhost:8080/"
        },
        "id": "zM828kHBrkF9",
        "outputId": "93dd16ac-fd75-4232-8bc7-d6e3807f4bcc"
      },
      "execution_count": null,
      "outputs": [
        {
          "output_type": "stream",
          "name": "stdout",
          "text": [
            "Naïve Bayes (Oversampling):\n",
            "Acurácia: 0.80\n",
            "Precisão: 0.85\n",
            "Recall: 0.74\n",
            "F1-Score: 0.79\n",
            "\n",
            "\n"
          ]
        }
      ]
    },
    {
      "cell_type": "markdown",
      "source": [
        "### LSTM"
      ],
      "metadata": {
        "id": "LQF4lmbHrwVE"
      }
    },
    {
      "cell_type": "code",
      "source": [
        "# Dividir em treino e teste\n",
        "X_train_lstm, X_test_lstm, y_train_lstm, y_test_lstm = train_test_split(X, y, test_size=0.2, random_state=4)\n",
        "\n",
        "# Padronização dos dados para LSTM e KNN\n",
        "scaler = StandardScaler()\n",
        "X_train_scaled_lstm = scaler.fit_transform(X_train_lstm)\n",
        "X_test_scaled_lstm = scaler.transform(X_test_lstm)\n",
        "\n",
        "# 4. LSTM\n",
        "X_train_lstm = X_train_scaled_lstm.reshape(-1, 1, X_train_scaled_lstm.shape[1])\n",
        "X_test_lstm = X_test_scaled_lstm.reshape(-1, 1, X_test_scaled_lstm.shape[1])\n",
        "\n",
        "lstm_model = Sequential()\n",
        "lstm_model.add(LSTM(units=1, input_shape=(X_train_lstm.shape[1], X_train_lstm.shape[2])))\n",
        "lstm_model.add(Dense(units=1, activation='sigmoid'))\n",
        "\n",
        "lstm_model.compile(optimizer='adam', loss='mse')\n",
        "lstm_model.fit(X_train_lstm, y_train_lstm, verbose=0)\n",
        "lstm_pred = (lstm_model.predict(X_test_lstm) > 0.5).astype(\"int64\")\n",
        "print(\"LSTM:\")\n",
        "print_metrics(y_test_lstm, lstm_pred)"
      ],
      "metadata": {
        "colab": {
          "base_uri": "https://localhost:8080/"
        },
        "id": "gbIg7Sp6OC85",
        "outputId": "60fbe394-9e58-4f6c-b4c3-050e69c9178b"
      },
      "execution_count": null,
      "outputs": [
        {
          "output_type": "stream",
          "name": "stdout",
          "text": [
            "\u001b[1m9/9\u001b[0m \u001b[32m━━━━━━━━━━━━━━━━━━━━\u001b[0m\u001b[37m\u001b[0m \u001b[1m0s\u001b[0m 4ms/step  \n",
            "LSTM:\n",
            "Acurácia: 0.60\n",
            "Precisão: 0.77\n",
            "Recall: 0.63\n",
            "F1-Score: 0.69\n",
            "\n",
            "\n"
          ]
        }
      ]
    },
    {
      "cell_type": "code",
      "source": [
        "# LSTM com undersampling\n",
        "X_train_lstm_under, X_test_lstm_under, y_train_lstm_under, y_test_lstm_under = train_test_split(X_under, y_under, test_size=0.2, random_state=4)\n",
        "\n",
        "# Padronização\n",
        "scaler_under = StandardScaler()\n",
        "X_train_scaled_lstm_under = scaler_under.fit_transform(X_train_lstm_under)\n",
        "X_test_scaled_lstm_under = scaler_under.transform(X_test_lstm_under)\n",
        "\n",
        "# Remodelar\n",
        "X_train_lstm_under = X_train_scaled_lstm_under.reshape(-1, 1, X_train_scaled_lstm_under.shape[1])\n",
        "X_test_lstm_under = X_test_scaled_lstm_under.reshape(-1, 1, X_test_scaled_lstm_under.shape[1])\n",
        "\n",
        "lstm_model_under = Sequential()\n",
        "lstm_model_under.add(LSTM(units=1, input_shape=(X_train_lstm_under.shape[1], X_train_lstm_under.shape[2])))\n",
        "lstm_model_under.add(Dense(units=1, activation='sigmoid'))\n",
        "\n",
        "lstm_model_under.compile(optimizer='adam', loss='mse')\n",
        "lstm_model_under.fit(X_train_lstm_under, y_train_lstm_under, verbose=0)\n",
        "lstm_pred_under = (lstm_model_under.predict(X_test_lstm_under) > 0.5).astype(\"int64\")\n",
        "print(\"LSTM (Undersampling):\")\n",
        "print_metrics(y_test_lstm_under, lstm_pred_under)"
      ],
      "metadata": {
        "colab": {
          "base_uri": "https://localhost:8080/"
        },
        "id": "1czZ3j2ar9MW",
        "outputId": "87bdd688-8962-4d8c-c40c-0d09048d4a06"
      },
      "execution_count": null,
      "outputs": [
        {
          "output_type": "stream",
          "name": "stdout",
          "text": [
            "\u001b[1m6/6\u001b[0m \u001b[32m━━━━━━━━━━━━━━━━━━━━\u001b[0m\u001b[37m\u001b[0m \u001b[1m1s\u001b[0m 52ms/step\n",
            "LSTM (Undersampling):\n",
            "Acurácia: 0.63\n",
            "Precisão: 0.63\n",
            "Recall: 0.63\n",
            "F1-Score: 0.63\n",
            "\n",
            "\n"
          ]
        }
      ]
    },
    {
      "cell_type": "code",
      "source": [
        "# LSTM com oversampling\n",
        "X_train_lstm_over, X_test_lstm_over, y_train_lstm_over, y_test_lstm_over = train_test_split(X_over, y_over, test_size=0.2, random_state=4)\n",
        "\n",
        "# Padronização\n",
        "scaler_over = StandardScaler()\n",
        "X_train_scaled_lstm_over = scaler_over.fit_transform(X_train_lstm_over)\n",
        "X_test_scaled_lstm_over = scaler_over.transform(X_test_lstm_over)\n",
        "\n",
        "# Remodelar para 3D (amostras, time steps, features)\n",
        "X_train_lstm_over = X_train_scaled_lstm_over.reshape(-1, 1, X_train_scaled_lstm_over.shape[1])\n",
        "X_test_lstm_over = X_test_scaled_lstm_over.reshape(-1, 1, X_test_scaled_lstm_over.shape[1])\n",
        "\n",
        "lstm_model_over = Sequential()\n",
        "lstm_model_over.add(LSTM(units=1, input_shape=(X_train_lstm_over.shape[1], X_train_lstm_over.shape[2])))\n",
        "lstm_model_over.add(Dense(units=1, activation='sigmoid'))\n",
        "\n",
        "lstm_model_over.compile(optimizer='adam', loss='mse')\n",
        "lstm_model_over.fit(X_train_lstm_over, y_train_lstm_over, verbose=0)\n",
        "lstm_pred_over = (lstm_model_over.predict(X_test_lstm_over) > 0.5).astype(\"int64\")\n",
        "print(\"LSTM (Oversampling):\")\n",
        "print_metrics(y_test_lstm_over, lstm_pred_over)"
      ],
      "metadata": {
        "colab": {
          "base_uri": "https://localhost:8080/"
        },
        "id": "k_fRcZrrr2CM",
        "outputId": "79cbe45d-6f5e-4030-ca77-4a22d1eba2ff"
      },
      "execution_count": null,
      "outputs": [
        {
          "output_type": "stream",
          "name": "stdout",
          "text": [
            "\u001b[1m13/13\u001b[0m \u001b[32m━━━━━━━━━━━━━━━━━━━━\u001b[0m\u001b[37m\u001b[0m \u001b[1m0s\u001b[0m 17ms/step\n",
            "LSTM (Oversampling):\n",
            "Acurácia: 0.67\n",
            "Precisão: 0.67\n",
            "Recall: 0.67\n",
            "F1-Score: 0.67\n",
            "\n",
            "\n"
          ]
        }
      ]
    },
    {
      "cell_type": "markdown",
      "source": [
        "### KNN"
      ],
      "metadata": {
        "id": "mxExBHbhsAZN"
      }
    },
    {
      "cell_type": "code",
      "source": [
        "# Dividir em treino e teste\n",
        "X_train_knn_model, X_test_knn_model, y_train_knn_model, y_test_knn_model = train_test_split(X, y, test_size=0.2, random_state=5)\n",
        "\n",
        "# 5. KNN\n",
        "knn_model = KNeighborsClassifier(n_neighbors=100)\n",
        "knn_model.fit(X_train_knn_model, y_train_knn_model)\n",
        "knn_pred = knn_model.predict(X_test_knn_model)\n",
        "print(\"KNN:\")\n",
        "print_metrics(y_test_knn_model, knn_pred)"
      ],
      "metadata": {
        "colab": {
          "base_uri": "https://localhost:8080/"
        },
        "id": "gBNHntIwOOMx",
        "outputId": "6fb89b35-f2c4-4a44-e64a-f1a3066a4086"
      },
      "execution_count": null,
      "outputs": [
        {
          "output_type": "stream",
          "name": "stdout",
          "text": [
            "KNN:\n",
            "Acurácia: 0.72\n",
            "Precisão: 0.72\n",
            "Recall: 0.95\n",
            "F1-Score: 0.82\n",
            "\n",
            "\n"
          ]
        }
      ]
    },
    {
      "cell_type": "code",
      "source": [
        "# KNN com undersampling\n",
        "X_train_knn_model_under, X_test_knn_model_under, y_train_knn_model_under, y_test_knn_model_under = train_test_split(X_under, y_under, test_size=0.2, random_state=5)\n",
        "\n",
        "scaler_knn_under = StandardScaler()\n",
        "X_train_scaled_knn_under = scaler_knn_under.fit_transform(X_train_knn_model_under)\n",
        "X_test_scaled_knn_under = scaler_knn_under.transform(X_test_knn_model_under)\n",
        "\n",
        "knn_model_under = KNeighborsClassifier(n_neighbors=100)\n",
        "knn_model_under.fit(X_train_scaled_knn_under, y_train_knn_model_under)\n",
        "knn_pred_under = knn_model_under.predict(X_test_scaled_knn_under)\n",
        "print(\"KNN (Undersampling):\")\n",
        "print_metrics(y_test_knn_model_under, knn_pred_under)"
      ],
      "metadata": {
        "colab": {
          "base_uri": "https://localhost:8080/"
        },
        "id": "rtlieijosLEU",
        "outputId": "3f0fd011-7be9-486c-9304-797d4d186810"
      },
      "execution_count": null,
      "outputs": [
        {
          "output_type": "stream",
          "name": "stdout",
          "text": [
            "KNN (Undersampling):\n",
            "Acurácia: 0.79\n",
            "Precisão: 0.85\n",
            "Recall: 0.75\n",
            "F1-Score: 0.80\n",
            "\n",
            "\n"
          ]
        }
      ]
    },
    {
      "cell_type": "code",
      "source": [
        "# KNN com oversampling\n",
        "X_train_knn_model_over, X_test_knn_model_over, y_train_knn_model_over, y_test_knn_model_over = train_test_split(X_over, y_over, test_size=0.2, random_state=5)\n",
        "\n",
        "scaler_knn_over = StandardScaler()\n",
        "X_train_scaled_knn_over = scaler_knn_over.fit_transform(X_train_knn_model_over)\n",
        "X_test_scaled_knn_over = scaler_knn_over.transform(X_test_knn_model_over)\n",
        "\n",
        "knn_model_over = KNeighborsClassifier(n_neighbors=100)\n",
        "knn_model_over.fit(X_train_scaled_knn_over, y_train_knn_model_over)\n",
        "knn_pred_over = knn_model_over.predict(X_test_scaled_knn_over)\n",
        "print(\"KNN (Oversampling):\")\n",
        "print_metrics(y_test_knn_model_over, knn_pred_over)"
      ],
      "metadata": {
        "colab": {
          "base_uri": "https://localhost:8080/"
        },
        "id": "lo7opqDYsG8U",
        "outputId": "58f48d45-dfd3-4b6d-ce15-8323c5d21a11"
      },
      "execution_count": null,
      "outputs": [
        {
          "output_type": "stream",
          "name": "stdout",
          "text": [
            "KNN (Oversampling):\n",
            "Acurácia: 0.83\n",
            "Precisão: 0.92\n",
            "Recall: 0.73\n",
            "F1-Score: 0.82\n",
            "\n",
            "\n"
          ]
        }
      ]
    }
  ],
  "metadata": {
    "colab": {
      "provenance": [],
      "authorship_tag": "ABX9TyNUPT3zFFKTi5iP9XSzgL4e"
    },
    "kernelspec": {
      "display_name": "Python 3",
      "name": "python3"
    },
    "language_info": {
      "name": "python"
    }
  },
  "nbformat": 4,
  "nbformat_minor": 0
}