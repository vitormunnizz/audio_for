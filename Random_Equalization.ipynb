{
  "cells": [
    {
      "cell_type": "code",
      "source": [
        "import os\n",
        "import librosa\n",
        "import numpy as np\n",
        "import soundfile as sf\n",
        "import random\n",
        "import matplotlib.pyplot as plt\n",
        "import pandas as pd\n",
        "\n",
        "from sklearn.model_selection import train_test_split\n",
        "from sklearn.ensemble import RandomForestClassifier\n",
        "from sklearn.neighbors import KNeighborsClassifier\n",
        "from xgboost import XGBClassifier\n",
        "from lightgbm import LGBMClassifier\n",
        "from sklearn.tree import DecisionTreeClassifier\n",
        "from sklearn.metrics import accuracy_score, precision_score, recall_score, f1_score"
      ],
      "metadata": {
        "id": "IyGP8t3h5FDK"
      },
      "execution_count": null,
      "outputs": []
    },
    {
      "cell_type": "code",
      "source": [
        "# Montar o Google Drive\n",
        "from google.colab import drive\n",
        "drive.mount('/content/drive', force_remount=True)"
      ],
      "metadata": {
        "colab": {
          "base_uri": "https://localhost:8080/"
        },
        "id": "NX-59NtLUgIp",
        "outputId": "9ca2a4f6-cde3-43b7-f40f-13af7c6d8b1e"
      },
      "execution_count": null,
      "outputs": [
        {
          "output_type": "stream",
          "name": "stdout",
          "text": [
            "Mounted at /content/drive\n"
          ]
        }
      ]
    },
    {
      "cell_type": "code",
      "source": [
        "# Função para aplicar equalização aleatória\n",
        "def random_equalization(y, sr, n_bands=5, max_gain_db=12):\n",
        "    # Cria um filtro de equalização aleatório\n",
        "    frequencies = np.linspace(0, sr // 2, n_bands + 2)\n",
        "    gains_db = np.random.uniform(-max_gain_db, max_gain_db, n_bands + 2)\n",
        "    gains_linear = 10 ** (gains_db / 20)\n",
        "\n",
        "    # Aplica o filtro\n",
        "    y_eq = np.zeros_like(y)\n",
        "    for i in range(len(frequencies) - 1):\n",
        "        y_band = librosa.effects.preemphasis(y, coef=gains_linear[i])\n",
        "        y_eq += y_band\n",
        "\n",
        "    return y_eq\n",
        "\n",
        "# Função para extrair MFCCs do áudio\n",
        "def extract_features(y, sr):\n",
        "    try:\n",
        "        mfccs = librosa.feature.mfcc(y=y, sr=sr, n_mfcc=13)\n",
        "        return np.mean(mfccs.T, axis=0)  # Retorna a média dos coeficientes\n",
        "    except Exception as e:\n",
        "        print(f\"Erro ao extrair MFCCs: {e}\")\n",
        "        return None\n",
        "\n",
        "# Função para carregar dados e aplicar equalização aleatória\n",
        "def load_data_with_random_equalization(folder_path, label):\n",
        "    data = []\n",
        "    labels = []\n",
        "\n",
        "    for file_name in os.listdir(folder_path):\n",
        "        file_path = os.path.join(folder_path, file_name)\n",
        "        try:\n",
        "            y, sr = librosa.load(file_path, sr=None)\n",
        "\n",
        "            # Extrair features do áudio original\n",
        "            features = extract_features(y, sr)\n",
        "            if features is not None:\n",
        "                data.append(features)\n",
        "                labels.append(label)\n",
        "\n",
        "            # Aplicar equalização aleatória\n",
        "            y_eq = random_equalization(y, sr)\n",
        "            features_eq = extract_features(y_eq, sr)\n",
        "\n",
        "            if features_eq is not None:\n",
        "                data.append(features_eq)\n",
        "                labels.append(label)\n",
        "\n",
        "        except Exception as e:\n",
        "            print(f\"Erro ao processar {file_path}: {e}\")\n",
        "\n",
        "    return data, labels"
      ],
      "metadata": {
        "id": "dFVi8Ikv5dk3"
      },
      "execution_count": null,
      "outputs": []
    },
    {
      "cell_type": "code",
      "source": [
        "# Definir caminhos dos áudios\n",
        "file_path_real = '/content/drive/MyDrive/audios_FOR/real'\n",
        "file_path_fake = '/content/drive/MyDrive/audios_FOR/fake'\n",
        "\n",
        "# Criar diretórios se não existirem\n",
        "os.makedirs(file_path_real, exist_ok=True)\n",
        "os.makedirs(file_path_fake, exist_ok=True)\n",
        "\n",
        "# Carregar dados com ruído\n",
        "data_real, labels_real = load_data_with_random_equalization(file_path_real, label=1)  # Áudios reais\n",
        "data_fake, labels_fake = load_data_with_random_equalization(file_path_fake, label=0)  # Áudios falsos\n",
        "\n",
        "# Unir dados reais e falsos\n",
        "data = data_real + data_fake\n",
        "labels = labels_real + labels_fake\n",
        "\n",
        "# Remover valores None\n",
        "data_filtered, labels_filtered = zip(*[(d, l) for d, l in zip(data, labels) if d is not None])"
      ],
      "metadata": {
        "id": "LLLGCK6U5oo5"
      },
      "execution_count": null,
      "outputs": []
    },
    {
      "cell_type": "code",
      "source": [
        "# Criar DataFrame\n",
        "df = pd.DataFrame(data_filtered)\n",
        "df['label'] = labels_filtered"
      ],
      "metadata": {
        "id": "01RZMiPl5RHw"
      },
      "execution_count": null,
      "outputs": []
    },
    {
      "cell_type": "code",
      "source": [
        "df.shape"
      ],
      "metadata": {
        "colab": {
          "base_uri": "https://localhost:8080/"
        },
        "id": "2OTfVw0A6Tv_",
        "outputId": "673abd1b-c5d0-4681-b791-91c0f3f51765"
      },
      "execution_count": null,
      "outputs": [
        {
          "output_type": "execute_result",
          "data": {
            "text/plain": [
              "(2630, 14)"
            ]
          },
          "metadata": {},
          "execution_count": 12
        }
      ]
    },
    {
      "cell_type": "code",
      "source": [
        "df['label'].unique()"
      ],
      "metadata": {
        "colab": {
          "base_uri": "https://localhost:8080/"
        },
        "id": "7y89uMm0_WHl",
        "outputId": "c46c33be-a9e7-4cbe-fba7-0c41f8740243"
      },
      "execution_count": null,
      "outputs": [
        {
          "output_type": "execute_result",
          "data": {
            "text/plain": [
              "array([1, 0])"
            ]
          },
          "metadata": {},
          "execution_count": 13
        }
      ]
    },
    {
      "cell_type": "code",
      "source": [
        "# Visualizar distribuição dos rótulos\n",
        "plt.figure(figsize=(8, 6))\n",
        "plt.bar(df['label'].value_counts().index, df['label'].value_counts().values, tick_label=['Real', 'Fake'], color=['#1f77b4', '#ff7f0e'])\n",
        "plt.xlabel('Tipo dos Áudios')\n",
        "plt.ylabel('Quantidade')\n",
        "plt.title('Distribuição de Áudios Reais e Falsos')\n",
        "plt.show()"
      ],
      "metadata": {
        "colab": {
          "base_uri": "https://localhost:8080/",
          "height": 569
        },
        "id": "MwmY4ZeX5PHm",
        "outputId": "2442e299-21a1-43b4-afa0-0661eb517ac1"
      },
      "execution_count": null,
      "outputs": [
        {
          "output_type": "display_data",
          "data": {
            "text/plain": [
              "<Figure size 800x600 with 1 Axes>"
            ],
            "image/png": "[encoded data removed]"
          },
          "metadata": {}
        }
      ]
    },
    {
      "cell_type": "code",
      "source": [
        "# Separar características (X) e rótulos (y)\n",
        "X = df.drop(columns=['label'])\n",
        "y = df['label']\n",
        "\n",
        "# Dividir em treino e teste\n",
        "X_train, X_test, y_train, y_test = train_test_split(X, y, test_size=0.2, random_state=42)"
      ],
      "metadata": {
        "id": "_v0oc81v5Kiq"
      },
      "execution_count": null,
      "outputs": []
    },
    {
      "cell_type": "code",
      "source": [
        "# Modelos\n",
        "models = {\n",
        "    \"XGBoost\": XGBClassifier(n_estimators=2, verbose=-1),\n",
        "    \"LGBM\": LGBMClassifier(n_estimators=2, verbose=-1),\n",
        "    \"RandomForest\": RandomForestClassifier(n_estimators=2, max_depth=2),\n",
        "    \"SVM\": SVC(kernel='linear', probability=False)\n",
        "}\n",
        "\n",
        "# Treinar e avaliar modelos clássicos\n",
        "for name, model in models.items():\n",
        "    print(f\"Treinando e avaliando {name}:\")\n",
        "    model.fit(X_train, y_train)\n",
        "    y_pred = model.predict(X_test)\n",
        "\n",
        "    accuracy = accuracy_score(y_test, y_pred)\n",
        "    precision = precision_score(y_test, y_pred, zero_division=0)\n",
        "    recall = recall_score(y_test, y_pred, zero_division=0)\n",
        "    f1 = f1_score(y_test, y_pred, zero_division=0)\n",
        "\n",
        "    print(f\"Acurácia: {accuracy:.2f}\")\n",
        "    print(f\"Precisão: {precision:.2f}\")\n",
        "    print(f\"Recall: {recall:.2f}\")\n",
        "    print(f\"F1-Score: {f1:.2f}\")\n",
        "    print(\"-\" * 30)"
      ],
      "metadata": {
        "colab": {
          "base_uri": "https://localhost:8080/"
        },
        "id": "eng5Qxz-5HNr",
        "outputId": "0c0fb08c-8106-4296-db09-ae81fd3c17be"
      },
      "execution_count": null,
      "outputs": [
        {
          "output_type": "stream",
          "name": "stdout",
          "text": [
            "Treinando e avaliando RandomForest:\n",
            "Acurácia: 0.92\n",
            "Precisão: 0.91\n",
            "Recall: 0.97\n",
            "F1-Score: 0.94\n",
            "--------------------------------------------------\n",
            "Treinando e avaliando KNeighbors:\n",
            "Acurácia: 0.88\n",
            "Precisão: 0.92\n",
            "Recall: 0.89\n",
            "F1-Score: 0.91\n",
            "--------------------------------------------------\n",
            "Treinando e avaliando XGBoost:\n",
            "Acurácia: 0.93\n",
            "Precisão: 0.93\n",
            "Recall: 0.97\n",
            "F1-Score: 0.95\n",
            "--------------------------------------------------\n",
            "Treinando e avaliando LGBM:\n",
            "Acurácia: 0.94\n",
            "Precisão: 0.93\n",
            "Recall: 0.97\n",
            "F1-Score: 0.95\n",
            "--------------------------------------------------\n",
            "Treinando e avaliando DecisionTree:\n",
            "Acurácia: 0.85\n",
            "Precisão: 0.88\n",
            "Recall: 0.91\n",
            "F1-Score: 0.89\n",
            "--------------------------------------------------\n"
          ]
        }
      ]
    },
    {
      "cell_type": "code",
      "source": [
        "# Modelo CNN simplificado\n",
        "cnn_model = Sequential([\n",
        "    Conv1D(32, kernel_size=3, activation='relu', input_shape=(13, 1)),\n",
        "    Flatten(),\n",
        "    Dense(16, activation='relu'),\n",
        "    Dense(1, activation='sigmoid')\n",
        "])\n",
        "\n",
        "# Compilando o modelo\n",
        "cnn_model.compile(optimizer=Adam(learning_rate=0.001), loss='binary_crossentropy', metrics=['accuracy'])\n",
        "\n",
        "# Ajustando os dados para a CNN\n",
        "X_train_cnn = np.expand_dims(X_train, axis=-1)\n",
        "X_test_cnn = np.expand_dims(X_test, axis=-1)\n",
        "\n",
        "# Treinamento\n",
        "cnn_model.fit(X_train_cnn, y_train, epochs=2, batch_size=3, verbose=1)\n",
        "\n",
        "# Avaliação do modelo\n",
        "y_pred_cnn = (cnn_model.predict(X_test_cnn) > 0.5).astype(int).flatten()\n",
        "\n",
        "accuracy = accuracy_score(y_test, y_pred_cnn)\n",
        "precision = precision_score(y_test, y_pred_cnn, zero_division=0)\n",
        "recall = recall_score(y_test, y_pred_cnn, zero_division=0)\n",
        "f1 = f1_score(y_test, y_pred_cnn, zero_division=0)\n",
        "\n",
        "print(\"Treinando e avaliando CNN Simplificada:\")\n",
        "print(f\"Acurácia: {accuracy:.2f}\")\n",
        "print(f\"Precisão: {precision:.2f}\")\n",
        "print(f\"Recall: {recall:.2f}\")\n",
        "print(f\"F1-Score: {f1:.2f}\")\n",
        "print(\"-\" * 30)"
      ],
      "metadata": {
        "id": "mdcvIF3Xv-DI"
      },
      "execution_count": null,
      "outputs": []
    }
  ],
  "metadata": {
    "colab": {
      "provenance": [],
      "authorship_tag": "ABX9TyOZz2w6BPFRSooYqk3hmfo1"
    },
    "kernelspec": {
      "display_name": "Python 3",
      "name": "python3"
    },
    "language_info": {
      "name": "python"
    }
  },
  "nbformat": 4,
  "nbformat_minor": 0
}