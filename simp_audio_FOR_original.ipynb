{
  "cells": [
    {
      "cell_type": "code",
      "source": [
        "import os\n",
        "import librosa\n",
        "import pandas as pd\n",
        "import numpy as np\n",
        "import matplotlib.pyplot as plt\n",
        "\n",
        "from sklearn.model_selection import train_test_split\n",
        "from sklearn.ensemble import RandomForestClassifier\n",
        "from sklearn.neighbors import KNeighborsClassifier\n",
        "from xgboost import XGBClassifier\n",
        "from lightgbm import LGBMClassifier\n",
        "from sklearn.tree import DecisionTreeClassifier\n",
        "from sklearn.metrics import accuracy_score, precision_score, recall_score, f1_score"
      ],
      "metadata": {
        "id": "TlhRI6QcQdta"
      },
      "execution_count": null,
      "outputs": []
    },
    {
      "cell_type": "code",
      "source": [
        "# Montar o Google Drive\n",
        "from google.colab import drive\n",
        "drive.mount('/content/drive')"
      ],
      "metadata": {
        "colab": {
          "base_uri": "https://localhost:8080/"
        },
        "id": "SgdvMsciQlFK",
        "outputId": "d499d3c4-b705-41de-e1a4-4424220d483c"
      },
      "execution_count": null,
      "outputs": [
        {
          "output_type": "stream",
          "name": "stdout",
          "text": [
            "Drive already mounted at /content/drive; to attempt to forcibly remount, call drive.mount(\"/content/drive\", force_remount=True).\n"
          ]
        }
      ]
    },
    {
      "cell_type": "code",
      "source": [
        "# Caminho para os dados no Google Drive\n",
        "file_path_real = '/content/drive/MyDrive/audios_FOR/amostra_FOR/real'\n",
        "file_path_fake = '/content/drive/MyDrive/audios_FOR/amostra_FOR/fake'"
      ],
      "metadata": {
        "id": "lGbTzqvTQsR6"
      },
      "execution_count": null,
      "outputs": []
    },
    {
      "cell_type": "code",
      "source": [
        "# Função para extrair MFCCs de um arquivo\n",
        "def extract_features(file_path):\n",
        "    try:\n",
        "        y, sr = librosa.load(file_path, sr=None)\n",
        "        mfccs = librosa.feature.mfcc(y=y, sr=sr, n_mfcc=13)\n",
        "        return np.mean(mfccs.T, axis=0)  # Média dos coeficientes\n",
        "    except Exception as e:\n",
        "        print(f\"Erro ao processar {file_path}: {e}\")\n",
        "        return None\n",
        "\n",
        "# Carregar dados e rótulos\n",
        "data = []\n",
        "labels = []"
      ],
      "metadata": {
        "id": "IomFCwBpQcNa"
      },
      "execution_count": null,
      "outputs": []
    },
    {
      "cell_type": "code",
      "source": [
        "def load_data(folder_path, label):\n",
        "    global data, labels\n",
        "    for file_name in os.listdir(folder_path):\n",
        "        file_path = os.path.join(folder_path, file_name)\n",
        "        features = extract_features(file_path)\n",
        "        if features is not None:\n",
        "            data.append(features)\n",
        "            labels.append(label)\n",
        "\n",
        "# Criar as pastas 'real' e 'fake' caso não existam\n",
        "if not os.path.exists(file_path_real):\n",
        "    os.makedirs(file_path_real)\n",
        "if not os.path.exists(file_path_fake):\n",
        "    os.makedirs(file_path_fake)\n",
        "\n",
        "# Processar dados\n",
        "load_data(file_path_fake, 0)  # Rótulo 0 para Fake\n",
        "load_data(file_path_real, 1)  # Rótulo 1 para Real"
      ],
      "metadata": {
        "id": "mEFJHtzmQvzS"
      },
      "execution_count": null,
      "outputs": []
    },
    {
      "cell_type": "code",
      "source": [
        "# Remover dados faltantes\n",
        "data_filtered = []\n",
        "labels_filtered = []\n",
        "for i in range(len(data)):\n",
        "    if data[i] is not None:\n",
        "        data_filtered.append(data[i])\n",
        "        labels_filtered.append(labels[i])\n",
        "\n",
        "data = data_filtered\n",
        "labels = labels_filtered"
      ],
      "metadata": {
        "id": "dXS1WqBsQzlJ"
      },
      "execution_count": null,
      "outputs": []
    },
    {
      "cell_type": "code",
      "source": [
        "# Converter para DataFrame\n",
        "df = pd.DataFrame(data)\n",
        "df['label'] = labels\n",
        "\n",
        "# Contar as ocorrências de cada label\n",
        "label_counts = df['label'].value_counts()"
      ],
      "metadata": {
        "id": "GWl90yvQQ4vS"
      },
      "execution_count": null,
      "outputs": []
    },
    {
      "cell_type": "code",
      "source": [
        "# Plotando o gráfico\n",
        "plt.figure(figsize=(8, 6))\n",
        "plt.bar(label_counts.index, label_counts.values, tick_label=['Fake', 'Real'], color=['#1f77b4', '#ff7f0e'])\n",
        "plt.xlabel('Tipo dos Áudios')\n",
        "plt.ylabel('Quantidade')\n",
        "plt.title('Balanço de Áudios Reais e Fakes')\n",
        "plt.show()"
      ],
      "metadata": {
        "colab": {
          "base_uri": "https://localhost:8080/",
          "height": 569
        },
        "id": "FG6F4zMlQ856",
        "outputId": "58f888fd-2894-40b7-e312-5326afc95884"
      },
      "execution_count": null,
      "outputs": [
        {
          "output_type": "display_data",
          "data": {
            "text/plain": [
              "<Figure size 800x600 with 1 Axes>"
            ],
            "image/png": "[encoded data removed]"
          },
          "metadata": {}
        }
      ]
    },
    {
      "cell_type": "code",
      "source": [
        "df.shape"
      ],
      "metadata": {
        "colab": {
          "base_uri": "https://localhost:8080/"
        },
        "id": "vUPhBS7VS3FK",
        "outputId": "529b1ae0-caa6-494a-af3e-529e33b6f579"
      },
      "execution_count": null,
      "outputs": [
        {
          "output_type": "execute_result",
          "data": {
            "text/plain": [
              "(559, 14)"
            ]
          },
          "metadata": {},
          "execution_count": 24
        }
      ]
    },
    {
      "cell_type": "code",
      "source": [
        "# Separar características (X) e rótulos (y)\n",
        "X = df.drop(columns=['label'])\n",
        "y = df['label']\n",
        "\n",
        "# Dividir em treino e teste\n",
        "X_train, X_test, y_train, y_test = train_test_split(X, y, test_size=0.2, random_state=42)"
      ],
      "metadata": {
        "id": "NhEmhBLeQ_oi"
      },
      "execution_count": null,
      "outputs": []
    },
    {
      "cell_type": "code",
      "source": [
        "# Modelos\n",
        "models = {\n",
        "    \"RandomForest\": RandomForestClassifier(),\n",
        "    \"KNeighbors\": KNeighborsClassifier(),\n",
        "    \"XGBoost\": XGBClassifier(),\n",
        "    \"LGBM\": LGBMClassifier(n_estimators=100, learning_rate=0.1, num_leaves=31, verbose=-1),\n",
        "    \"DecisionTree\": DecisionTreeClassifier(criterion='gini', random_state=42)\n",
        "}\n",
        "\n",
        "# Treinar e avaliar modelos\n",
        "for name, model in models.items():\n",
        "    print(f\"Treinando e avaliando {name}:\")\n",
        "    model.fit(X_train, y_train)\n",
        "    y_pred = model.predict(X_test)\n",
        "\n",
        "    accuracy = accuracy_score(y_test, y_pred)\n",
        "    precision = precision_score(y_test, y_pred)\n",
        "    recall = recall_score(y_test, y_pred)\n",
        "    f1 = f1_score(y_test, y_pred)\n",
        "\n",
        "    print(f\"Acurácia: {accuracy:.2f}\")\n",
        "    print(f\"Precisão: {precision:.2f}\")\n",
        "    print(f\"Recall: {recall:.2f}\")\n",
        "    print(f\"F1-Score: {f1:.2f}\")\n",
        "    print(\"-\" * 30)"
      ],
      "metadata": {
        "colab": {
          "base_uri": "https://localhost:8080/"
        },
        "id": "K-EK1dbPRCu6",
        "outputId": "9831d438-7b8a-4aee-8997-b9b60d86cb0e"
      },
      "execution_count": null,
      "outputs": [
        {
          "output_type": "stream",
          "name": "stdout",
          "text": [
            "Treinando e avaliando RandomForest:\n",
            "Acurácia: 0.88\n",
            "Precisão: 0.86\n",
            "Recall: 1.00\n",
            "F1-Score: 0.93\n",
            "------------------------------\n",
            "Treinando e avaliando KNeighbors:\n",
            "Acurácia: 0.90\n",
            "Precisão: 0.90\n",
            "Recall: 0.98\n",
            "F1-Score: 0.93\n",
            "------------------------------\n",
            "Treinando e avaliando XGBoost:\n",
            "Acurácia: 0.88\n",
            "Precisão: 0.88\n",
            "Recall: 0.96\n",
            "F1-Score: 0.92\n",
            "------------------------------\n",
            "Treinando e avaliando LGBM:\n",
            "Acurácia: 0.92\n",
            "Precisão: 0.92\n",
            "Recall: 0.98\n",
            "F1-Score: 0.95\n",
            "------------------------------\n",
            "Treinando e avaliando DecisionTree:\n",
            "Acurácia: 0.88\n",
            "Precisão: 0.87\n",
            "Recall: 0.98\n",
            "F1-Score: 0.92\n",
            "------------------------------\n"
          ]
        }
      ]
    }
  ],
  "metadata": {
    "colab": {
      "provenance": [],
      "authorship_tag": "ABX9TyPBTbc4CSP5yDvIqkWUQbvf"
    },
    "kernelspec": {
      "display_name": "Python 3",
      "name": "python3"
    },
    "language_info": {
      "name": "python"
    }
  },
  "nbformat": 4,
  "nbformat_minor": 0
}