{
  "cells": [
    {
      "cell_type": "code",
      "execution_count": null,
      "metadata": {
        "id": "dbI4Hery0Pvo"
      },
      "outputs": [],
      "source": [
        "import os\n",
        "import librosa\n",
        "import librosa.display\n",
        "import pandas as pd\n",
        "import numpy as np\n",
        "import random\n",
        "\n",
        "import seaborn as sns\n",
        "import matplotlib.pyplot as plt\n",
        "from scipy.io.wavfile import write\n",
        "import shutil\n",
        "import soundfile as sf\n",
        "\n",
        "from sklearn.model_selection import train_test_split\n",
        "from sklearn.ensemble import RandomForestClassifier\n",
        "from sklearn.svm import SVC\n",
        "import tensorflow as tf\n",
        "from sklearn.neighbors import KNeighborsClassifier\n",
        "from xgboost import XGBClassifier\n",
        "from lightgbm import LGBMClassifier\n",
        "from sklearn.tree import DecisionTreeClassifier\n",
        "from sklearn.metrics import mean_absolute_error, confusion_matrix, accuracy_score, precision_score, recall_score, f1_score"
      ]
    },
    {
      "cell_type": "code",
      "execution_count": null,
      "metadata": {
        "colab": {
          "base_uri": "https://localhost:8080/"
        },
        "id": "nMpxzzJl0MHB",
        "outputId": "08fab761-74fd-4816-9392-b0fb7d544175"
      },
      "outputs": [
        {
          "output_type": "stream",
          "name": "stdout",
          "text": [
            "Drive already mounted at /content/drive; to attempt to forcibly remount, call drive.mount(\"/content/drive\", force_remount=True).\n"
          ]
        }
      ],
      "source": [
        "# Montar o Google Drive\n",
        "from google.colab import drive\n",
        "drive.mount('/content/drive')"
      ]
    },
    {
      "cell_type": "code",
      "execution_count": null,
      "metadata": {
        "id": "xRC00p5K0Tyi"
      },
      "outputs": [],
      "source": [
        "# Caminho para os dados no Google Drive\n",
        "file_path_real = '/content/drive/MyDrive/audios_FOR/amostra_FOR/real'\n",
        "file_path_fake = '/content/drive/MyDrive/audios_FOR/amostra_FOR/fake'"
      ]
    },
    {
      "cell_type": "code",
      "execution_count": null,
      "metadata": {
        "colab": {
          "base_uri": "https://localhost:8080/"
        },
        "id": "HBjFS9TD1646",
        "outputId": "b0d9c789-86fb-4076-8d5b-63478159225c"
      },
      "outputs": [
        {
          "output_type": "stream",
          "name": "stdout",
          "text": [
            "['file1061.wav', 'file1059.wav', 'file1143.wav', 'file1115.wav', 'file1147.wav', 'file1135.wav', 'file1139.wav', 'file154.wav', 'file155.wav', 'file10.wav', 'file1.wav', 'file1047.wav', 'file1046.wav', 'file1048.wav', 'file1050.wav', 'file1049.wav', 'file1052.wav', 'file1053.wav', 'file1055.wav', 'file1054.wav', 'file1056.wav', 'file1057.wav', 'file1058.wav', 'file1060.wav', 'file1063.wav', 'file1065.wav', 'file1064.wav', 'file1067.wav', 'file1068.wav', 'file1069.wav', 'file1070.wav', 'file10735.wav', 'file10728.wav', 'file10737.wav', 'file10727.wav', 'file1072.wav', 'file10732.wav', 'file10734.wav', 'file1071.wav', 'file10736.wav', 'file1073.wav', 'file10746.wav', 'file10762.wav', 'file10741.wav', 'file10755.wav', 'file10750.wav', 'file10738.wav', 'file10740.wav', 'file10758.wav', 'file10744.wav', 'file10739.wav', 'file10754.wav', 'file10757.wav', 'file10743.wav', 'file10742.wav', 'file10759.wav', 'file10760.wav', 'file10745.wav', 'file10747.wav', 'file10763.wav', 'file10826.wav', 'file10824.wav', 'file10828.wav', 'file10825.wav', 'file10831.wav', 'file10830.wav', 'file10829.wav', 'file10870.wav', 'file10866.wav', 'file10863.wav', 'file10865.wav', 'file10868.wav', 'file10867.wav', 'file10864.wav', 'file10888.wav', 'file10894.wav', 'file10873.wav', 'file10895.wav', 'file10875.wav', 'file10874.wav', 'file10872.wav', 'file10883.wav', 'file10889.wav', 'file10878.wav', 'file10892.wav', 'file10881.wav', 'file10896.wav', 'file10882.wav', 'file10884.wav', 'file10893.wav', 'file10891.wav', 'file10876.wav', 'file10886.wav', 'file10887.wav', 'file10879.wav', 'file10890.wav', 'file10871.wav', 'file10918.wav', 'file10905.wav', 'file10910.wav', 'file10907.wav', 'file10914.wav', 'file10904.wav', 'file10919.wav', 'file10908.wav', 'file10909.wav', 'file10912.wav', 'file10911.wav', 'file10903.wav', 'file10897.wav', 'file10913.wav', 'file10900.wav', 'file10901.wav', 'file10916.wav', 'file10898.wav', 'file10932.wav', 'file10943.wav', 'file10930.wav', 'file10941.wav', 'file10937.wav', 'file10928.wav', 'file10920.wav', 'file10933.wav', 'file10939.wav', 'file10945.wav', 'file10935.wav', 'file10925.wav', 'file10944.wav', 'file10931.wav', 'file10929.wav', 'file10938.wav', 'file10921.wav', 'file10924.wav', 'file10948.wav', 'file10949.wav', 'file10953.wav', 'file10965.wav', 'file10947.wav', 'file10967.wav', 'file10952.wav', 'file10974.wav', 'file10966.wav', 'file10971.wav', 'file10946.wav', 'file10969.wav', 'file10976.wav', 'file10977.wav', 'file10957.wav', 'file10964.wav', 'file10970.wav', 'file10954.wav', 'file10960.wav', 'file10951.wav', 'file10955.wav', 'file10990.wav', 'file10984.wav', 'file10994.wav', 'file10980.wav', 'file1099.wav', 'file10987.wav', 'file10999.wav', 'file10992.wav', 'file10996.wav', 'file10985.wav', 'file11003.wav', 'file1100.wav', 'file10993.wav', 'file10988.wav', 'file11000.wav', 'file10979.wav', 'file10998.wav', 'file10978.wav', 'file10989.wav', 'file10983.wav', 'file10995.wav', 'file11.wav', 'file11004.wav', 'file11001.wav', 'file11023.wav', 'file11016.wav', 'file1103.wav', 'file11015.wav', 'file11027.wav', 'file11037.wav', 'file11024.wav', 'file11011.wav', 'file11009.wav', 'file11019.wav', 'file11014.wav', 'file11006.wav', 'file11032.wav', 'file11005.wav', 'file11007.wav', 'file11028.wav', 'file1102.wav', 'file11031.wav', 'file11008.wav', 'file11030.wav', 'file1101.wav', 'file11017.wav', 'file11012.wav', 'file11033.wav', 'file11038.wav', 'file11013.wav', 'file1104.wav', 'file1106.wav', 'file1105.wav', 'file1108.wav', 'file1109.wav', 'file1110.wav', 'file1111.wav', 'file112.wav', 'file113.wav', 'file1132.wav', 'file1133.wav', 'file1134.wav', 'file1138.wav', 'file1136.wav', 'file1137.wav', 'file1141.wav', 'file1140.wav', 'file1142.wav', 'file1146.wav', 'file1144.wav', 'file1149.wav', 'file1151.wav', 'file115.wav', 'file1152.wav', 'file1154.wav', 'file1153.wav', 'file1155.wav', 'file1157.wav', 'file1159.wav', 'file116.wav', 'file1160.wav', 'file1162.wav', 'file1161.wav', 'file1163.wav', 'file1164.wav', 'file1165.wav', 'file1167.wav', 'file1168.wav', 'file1166.wav', 'file1169.wav', 'file117.wav', 'file1172.wav', 'file1173.wav', 'file1171.wav', 'file1174.wav', 'file1178.wav', 'file1177.wav', 'file1181.wav', 'file1182.wav', 'file1180.wav', 'file118.wav', 'file1184.wav', 'file1185.wav', 'file1183.wav', 'file1186.wav', 'file1189.wav', 'file119.wav', 'file1190.wav', 'file1191.wav', 'file120.wav', 'file121.wav', 'file122.wav', 'file123.wav', 'file125.wav', 'file127.wav', 'file128.wav', 'file129.wav', 'file130.wav', 'file132.wav', 'file133.wav', 'file134.wav', 'file135.wav', 'file136.wav', 'file137.wav', 'file138.wav', 'file139.wav', 'file140.wav', 'file142.wav', 'file143.wav', 'file144.wav', 'file145.wav', 'file146.wav', 'file147.wav', 'file148.wav', 'file149.wav', 'file150.wav', 'file151.wav', 'file152.wav', 'file153.wav', 'file156.wav', 'file158.wav', 'file159.wav', 'file160.wav', 'file17783.wav', 'file17766.wav', 'file17765.wav', 'file17779.wav', 'file17781.wav', 'file17782.wav', 'file17768.wav', 'file17813.wav', 'file17811.wav', 'file17786.wav', 'file17790.wav', 'file17812.wav', 'file17785.wav', 'file17814.wav', 'file17788.wav', 'file17784.wav', 'file17822.wav', 'file17818.wav', 'file17819.wav', 'file17817.wav', 'file17820.wav', 'file17815.wav', 'file17821.wav', 'file17823.wav', 'file2.wav', 'file25474.wav', 'file25475.wav', 'file25478.wav', 'file25504.wav', 'file25503.wav', 'file25537.wav', 'file25519.wav', 'file25538.wav', 'file25534.wav', 'file25526.wav', 'file25521.wav', 'file25523.wav', 'file25524.wav', 'file25525.wav', 'file25539.wav', 'file25522.wav', 'file25520.wav', 'file25527.wav', 'file25536.wav', 'file25535.wav', 'file25529.wav', 'file25528.wav', 'file25568.wav', 'file25564.wav', 'file25553.wav', 'file25550.wav', 'file25563.wav', 'file25540.wav', 'file25559.wav', 'file25554.wav', 'file25551.wav', 'file25560.wav', 'file25562.wav', 'file25548.wav', 'file25558.wav', 'file25566.wav', 'file25545.wav', 'file25544.wav', 'file25555.wav', 'file25543.wav', 'file25547.wav', 'file25541.wav', 'file25565.wav', 'file25556.wav', 'file3.wav', 'file6.wav', 'file7.wav', 'file9.wav', 'file1051.wav', 'file1062.wav', 'file10752.wav', 'file10731.wav', 'file10730.wav', 'file10733.wav', 'file1066.wav', 'file10749.wav', 'file10748.wav', 'file10753.wav', 'file10764.wav', 'file10906.wav', 'file10899.wav', 'file10765.wav', 'file10761.wav', 'file10756.wav', 'file10923.wav', 'file10915.wav', 'file10959.wav', 'file10926.wav', 'file10975.wav', 'file10936.wav', 'file10917.wav', 'file10972.wav', 'file10940.wav', 'file10973.wav', 'file10956.wav', 'file10963.wav', 'file10962.wav', 'file10927.wav', 'file10950.wav', 'file11018.wav', 'file11025.wav', 'file11002.wav', 'file11026.wav', 'file11022.wav', 'file10982.wav', 'file11021.wav', 'file10991.wav', 'file11020.wav', 'file11034.wav', 'file10997.wav', 'file10986.wav', 'file1107.wav', 'file11036.wav', 'file1145.wav', 'file114.wav', 'file1150.wav', 'file1148.wav', 'file1156.wav', 'file1158.wav', 'file1175.wav', 'file1170.wav', 'file1176.wav', 'file1179.wav', 'file1187.wav', 'file1188.wav', 'file124.wav', 'file126.wav', 'file131.wav', 'file141.wav', 'file157.wav', 'file17816.wav', 'file17791.wav', 'file17767.wav', 'file17787.wav', 'file25502.wav', 'file25557.wav', 'file25531.wav', 'file25533.wav', 'file25552.wav', 'file25530.wav', 'file25549.wav', 'file25561.wav', 'file25567.wav', 'file4.wav', 'file5.wav', 'file8.wav']\n",
            "['file1.wav', 'file10.wav', 'file11.wav', 'file13.wav', 'file1335.wav', 'file1310.wav', 'file1327.wav', 'file1307.wav', 'file1328.wav', 'file1337.wav', 'file1309.wav', 'file1336.wav', 'file1338.wav', 'file1308.wav', 'file1306.wav', 'file14.wav', 'file15.wav', 'file17.wav', 'file18.wav', 'file19.wav', 'file2.wav', 'file20.wav', 'file21.wav', 'file22.wav', 'file3.wav', 'file4.wav', 'file5.wav', 'file6.wav', 'file8.wav', 'file9.wav', 'file11.mp3', 'file12.wav', 'file13.mp3', 'file1310.mp3', 'file1309.mp3', 'file1306.mp3', 'file1308.mp3', 'file1307.mp3', 'file1335.mp3', 'file1336.mp3', 'file1328.mp3', 'file1329.mp3', 'file1338.mp3', 'file14.mp3', 'file15.mp3', 'file16.wav', 'file17.mp3', 'file18.mp3', 'file20.mp3', 'file21.mp3', 'file22.mp3', 'file24479.mp3', 'file24502.wav', 'file24481.mp3', 'file24482.mp3', 'file24501.mp3', 'file24483.mp3', 'file24484.mp3', 'file24491.mp3', 'file24487.mp3', 'file24493.mp3', 'file24494.mp3', 'file24488.mp3', 'file24480.wav', 'file24477.wav', 'file24486.mp3', 'file24476.wav', 'file24497.wav', 'file24489.mp3', 'file24478.mp3', 'file24490.mp3', 'file24495.mp3', 'file24500.mp3', 'file3.mp3', 'file32424.mp3', 'file32422.wav', 'file32421.mp3', 'file32389.mp3', 'file32387.mp3', 'file32423.mp3', 'file4.mp3', 'file5865.mp3', 'file5878.mp3', 'file5861.mp3', 'file5864.mp3', 'file5868.mp3', 'file5874.mp3', 'file5862.mp3', 'file5866.mp3', 'file5863.mp3', 'file5870.mp3', 'file5869.mp3', 'file5872.mp3', 'file5873.mp3', 'file5875.mp3', 'file5877.mp3', 'file6.mp3', 'file7.wav', 'file8.mp3', 'file9.mp3', 'file1.mp3', 'file1337.mp3', 'file19.mp3', 'file24499.mp3', 'file24485.mp3', 'file5.mp3', 'file5876.mp3', 'file5867.mp3', 'file5860.mp3', 'file5871.mp3', 'file5859.mp3']\n"
          ]
        }
      ],
      "source": [
        "# Listar os arquivos e subpastas\n",
        "print(os.listdir(file_path_real))\n",
        "print(os.listdir(file_path_fake))"
      ]
    },
    {
      "cell_type": "code",
      "execution_count": null,
      "metadata": {
        "id": "EbARq6hJ1kVI"
      },
      "outputs": [],
      "source": [
        "# Função para processar os áudios em uma pasta\n",
        "def process_audio_files(folder_path):\n",
        "\n",
        "    for audio_file in os.listdir(folder_path):\n",
        "        audio_path = os.path.join(folder_path, audio_file)\n",
        "\n",
        "        # Carregar o áudio\n",
        "        y, sr = librosa.load(audio_path, sr=None)\n",
        "\n",
        "        # Mostrar informações do áudio\n",
        "        print(f\"Arquivo: {audio_file}, Duração: {len(y) / sr:.2f}s, Taxa de amostragem: {sr}Hz\")\n",
        "\n",
        "        # Plotar waveform\n",
        "        plt.figure(figsize=(10, 4))\n",
        "        librosa.display.waveshow(y, sr=sr)\n",
        "        plt.title(f\"Waveform de {audio_file}\")\n",
        "        plt.xlabel(\"Tempo (s)\")\n",
        "        plt.ylabel(\"Amplitude\")\n",
        "        plt.show()"
      ]
    },
    {
      "cell_type": "code",
      "execution_count": null,
      "metadata": {
        "id": "HL6Vs3Qj2sbd"
      },
      "outputs": [],
      "source": [
        "# Processar áudios Real\n",
        "#process_audio_files(file_path_real)"
      ]
    },
    {
      "cell_type": "code",
      "execution_count": null,
      "metadata": {
        "id": "EHH3xW_P2uSj"
      },
      "outputs": [],
      "source": [
        "# Processar áudios Fake\n",
        "#process_audio_files(file_path_fake)"
      ]
    },
    {
      "cell_type": "code",
      "execution_count": null,
      "metadata": {
        "id": "NJG7ZzKW36m8"
      },
      "outputs": [],
      "source": [
        "# Função para extrair MFCCs de um arquivo\n",
        "def extract_features(file_path):\n",
        "    y, sr = librosa.load(file_path, sr=None)\n",
        "    mfccs = librosa.feature.mfcc(y=y, sr=sr, n_mfcc=13)\n",
        "    return np.mean(mfccs.T, axis=0)  # Média dos coeficientes\n",
        "\n",
        "# Carregar dados e rótulos\n",
        "data = []\n",
        "labels = []\n",
        "\n",
        "# Processar Fake\n",
        "for file_name in os.listdir(file_path_fake):\n",
        "    file_path = os.path.join(file_path_fake, file_name)\n",
        "    features = extract_features(file_path)\n",
        "    data.append(features)\n",
        "    labels.append(0)  # Rótulo 0 para Fake\n",
        "\n",
        "# Processar Real\n",
        "for file_name in os.listdir(file_path_real):\n",
        "    file_path = os.path.join(file_path_real, file_name)\n",
        "    features = extract_features(file_path)\n",
        "    data.append(features)\n",
        "    labels.append(1)  # Rótulo 1 para Real"
      ]
    },
    {
      "cell_type": "code",
      "execution_count": null,
      "metadata": {
        "id": "ztAXi3G552yT"
      },
      "outputs": [],
      "source": [
        "# Converter para DataFrame\n",
        "df = pd.DataFrame(data)\n",
        "df['label'] = labels"
      ]
    },
    {
      "cell_type": "code",
      "execution_count": null,
      "metadata": {
        "colab": {
          "base_uri": "https://localhost:8080/",
          "height": 444
        },
        "id": "KRcDRZRx6jga",
        "outputId": "dc27a09a-fa93-4643-b0c9-d2a5259d3032"
      },
      "outputs": [
        {
          "output_type": "execute_result",
          "data": {
            "text/plain": [
              "              0           1          2          3          4          5  \\\n",
              "0   -310.484985   79.589180  12.035122  21.775892   7.463613  -4.327323   \n",
              "1   -292.760193   85.521347 -18.103905  14.233822  -1.934288  -8.300287   \n",
              "2   -266.020477  106.608009 -11.326435  17.970966 -11.344944   1.250991   \n",
              "3   -260.005402  122.213196 -19.668991   8.698288 -10.487801  -3.308214   \n",
              "4   -270.677155  111.855637 -19.062414   5.179912 -16.694443  -4.503492   \n",
              "..          ...         ...        ...        ...        ...        ...   \n",
              "554 -296.089111   90.251648  49.353138  40.109879  13.949716  15.968038   \n",
              "555 -334.378174   76.736237   1.568514  22.846909 -14.486498 -16.314674   \n",
              "556 -323.235352   69.085464   4.084009  22.119936 -11.278208 -25.925304   \n",
              "557 -312.793549   82.430946   3.129900  14.186769 -18.484079 -25.799473   \n",
              "558 -432.503387   52.231987  24.130854  24.908005   5.230207  10.177417   \n",
              "\n",
              "             6          7          8          9         10         11  \\\n",
              "0     1.702638   5.056441 -11.605008  -8.825641 -12.136454  -8.166679   \n",
              "1   -15.360986 -14.333099  -0.524541 -12.453050  -2.744914 -14.212177   \n",
              "2    -5.587977  -6.984388  -5.437147 -10.668830   6.232262 -13.461805   \n",
              "3    -5.397858 -11.390374  -4.951897 -11.585847   5.326418 -15.468590   \n",
              "4   -10.268575 -12.212496  -1.401393 -12.573609   5.653296 -16.340860   \n",
              "..         ...        ...        ...        ...        ...        ...   \n",
              "554 -11.017990   1.806876  -6.369140   3.860376  -8.479083  -1.914927   \n",
              "555 -15.556476 -21.469236 -20.530735  -1.497289 -14.830498  -3.666535   \n",
              "556 -23.227936 -21.648048  -9.808347  -1.174033 -23.784948   1.368763   \n",
              "557 -17.645624 -17.211958 -12.702026  -4.227543 -22.298204   0.184280   \n",
              "558   1.667769  11.312072  14.200116  13.155353   9.546826  18.923155   \n",
              "\n",
              "            12  label  \n",
              "0    -7.886450      0  \n",
              "1     0.993812      0  \n",
              "2     6.319636      0  \n",
              "3     5.036489      0  \n",
              "4     3.830790      0  \n",
              "..         ...    ...  \n",
              "554 -10.282051      1  \n",
              "555 -10.663058      1  \n",
              "556 -17.619230      1  \n",
              "557 -17.449095      1  \n",
              "558   7.199302      1  \n",
              "\n",
              "[559 rows x 14 columns]"
            ],
            "text/html": [
              "\n",
              "  <div id=\"df-9f9b3074-c3d1-426e-84e3-0aedd9f64926\" class=\"colab-df-container\">\n",
              "    <div>\n",
              "<style scoped>\n",
              "    .dataframe tbody tr th:only-of-type {\n",
              "        vertical-align: middle;\n",
              "    }\n",
              "\n",
              "    .dataframe tbody tr th {\n",
              "        vertical-align: top;\n",
              "    }\n",
              "\n",
              "    .dataframe thead th {\n",
              "        text-align: right;\n",
              "    }\n",
              "</style>\n",
              "<table border=\"1\" class=\"dataframe\">\n",
              "  <thead>\n",
              "    <tr style=\"text-align: right;\">\n",
              "      <th></th>\n",
              "      <th>0</th>\n",
              "      <th>1</th>\n",
              "      <th>2</th>\n",
              "      <th>3</th>\n",
              "      <th>4</th>\n",
              "      <th>5</th>\n",
              "      <th>6</th>\n",
              "      <th>7</th>\n",
              "      <th>8</th>\n",
              "      <th>9</th>\n",
              "      <th>10</th>\n",
              "      <th>11</th>\n",
              "      <th>12</th>\n",
              "      <th>label</th>\n",
              "    </tr>\n",
              "  </thead>\n",
              "  <tbody>\n",
              "    <tr>\n",
              "      <th>0</th>\n",
              "      <td>-310.484985</td>\n",
              "      <td>79.589180</td>\n",
              "      <td>12.035122</td>\n",
              "      <td>21.775892</td>\n",
              "      <td>7.463613</td>\n",
              "      <td>-4.327323</td>\n",
              "      <td>1.702638</td>\n",
              "      <td>5.056441</td>\n",
              "      <td>-11.605008</td>\n",
              "      <td>-8.825641</td>\n",
              "      <td>-12.136454</td>\n",
              "      <td>-8.166679</td>\n",
              "      <td>-7.886450</td>\n",
              "      <td>0</td>\n",
              "    </tr>\n",
              "    <tr>\n",
              "      <th>1</th>\n",
              "      <td>-292.760193</td>\n",
              "      <td>85.521347</td>\n",
              "      <td>-18.103905</td>\n",
              "      <td>14.233822</td>\n",
              "      <td>-1.934288</td>\n",
              "      <td>-8.300287</td>\n",
              "      <td>-15.360986</td>\n",
              "      <td>-14.333099</td>\n",
              "      <td>-0.524541</td>\n",
              "      <td>-12.453050</td>\n",
              "      <td>-2.744914</td>\n",
              "      <td>-14.212177</td>\n",
              "      <td>0.993812</td>\n",
              "      <td>0</td>\n",
              "    </tr>\n",
              "    <tr>\n",
              "      <th>2</th>\n",
              "      <td>-266.020477</td>\n",
              "      <td>106.608009</td>\n",
              "      <td>-11.326435</td>\n",
              "      <td>17.970966</td>\n",
              "      <td>-11.344944</td>\n",
              "      <td>1.250991</td>\n",
              "      <td>-5.587977</td>\n",
              "      <td>-6.984388</td>\n",
              "      <td>-5.437147</td>\n",
              "      <td>-10.668830</td>\n",
              "      <td>6.232262</td>\n",
              "      <td>-13.461805</td>\n",
              "      <td>6.319636</td>\n",
              "      <td>0</td>\n",
              "    </tr>\n",
              "    <tr>\n",
              "      <th>3</th>\n",
              "      <td>-260.005402</td>\n",
              "      <td>122.213196</td>\n",
              "      <td>-19.668991</td>\n",
              "      <td>8.698288</td>\n",
              "      <td>-10.487801</td>\n",
              "      <td>-3.308214</td>\n",
              "      <td>-5.397858</td>\n",
              "      <td>-11.390374</td>\n",
              "      <td>-4.951897</td>\n",
              "      <td>-11.585847</td>\n",
              "      <td>5.326418</td>\n",
              "      <td>-15.468590</td>\n",
              "      <td>5.036489</td>\n",
              "      <td>0</td>\n",
              "    </tr>\n",
              "    <tr>\n",
              "      <th>4</th>\n",
              "      <td>-270.677155</td>\n",
              "      <td>111.855637</td>\n",
              "      <td>-19.062414</td>\n",
              "      <td>5.179912</td>\n",
              "      <td>-16.694443</td>\n",
              "      <td>-4.503492</td>\n",
              "      <td>-10.268575</td>\n",
              "      <td>-12.212496</td>\n",
              "      <td>-1.401393</td>\n",
              "      <td>-12.573609</td>\n",
              "      <td>5.653296</td>\n",
              "      <td>-16.340860</td>\n",
              "      <td>3.830790</td>\n",
              "      <td>0</td>\n",
              "    </tr>\n",
              "    <tr>\n",
              "      <th>...</th>\n",
              "      <td>...</td>\n",
              "      <td>...</td>\n",
              "      <td>...</td>\n",
              "      <td>...</td>\n",
              "      <td>...</td>\n",
              "      <td>...</td>\n",
              "      <td>...</td>\n",
              "      <td>...</td>\n",
              "      <td>...</td>\n",
              "      <td>...</td>\n",
              "      <td>...</td>\n",
              "      <td>...</td>\n",
              "      <td>...</td>\n",
              "      <td>...</td>\n",
              "    </tr>\n",
              "    <tr>\n",
              "      <th>554</th>\n",
              "      <td>-296.089111</td>\n",
              "      <td>90.251648</td>\n",
              "      <td>49.353138</td>\n",
              "      <td>40.109879</td>\n",
              "      <td>13.949716</td>\n",
              "      <td>15.968038</td>\n",
              "      <td>-11.017990</td>\n",
              "      <td>1.806876</td>\n",
              "      <td>-6.369140</td>\n",
              "      <td>3.860376</td>\n",
              "      <td>-8.479083</td>\n",
              "      <td>-1.914927</td>\n",
              "      <td>-10.282051</td>\n",
              "      <td>1</td>\n",
              "    </tr>\n",
              "    <tr>\n",
              "      <th>555</th>\n",
              "      <td>-334.378174</td>\n",
              "      <td>76.736237</td>\n",
              "      <td>1.568514</td>\n",
              "      <td>22.846909</td>\n",
              "      <td>-14.486498</td>\n",
              "      <td>-16.314674</td>\n",
              "      <td>-15.556476</td>\n",
              "      <td>-21.469236</td>\n",
              "      <td>-20.530735</td>\n",
              "      <td>-1.497289</td>\n",
              "      <td>-14.830498</td>\n",
              "      <td>-3.666535</td>\n",
              "      <td>-10.663058</td>\n",
              "      <td>1</td>\n",
              "    </tr>\n",
              "    <tr>\n",
              "      <th>556</th>\n",
              "      <td>-323.235352</td>\n",
              "      <td>69.085464</td>\n",
              "      <td>4.084009</td>\n",
              "      <td>22.119936</td>\n",
              "      <td>-11.278208</td>\n",
              "      <td>-25.925304</td>\n",
              "      <td>-23.227936</td>\n",
              "      <td>-21.648048</td>\n",
              "      <td>-9.808347</td>\n",
              "      <td>-1.174033</td>\n",
              "      <td>-23.784948</td>\n",
              "      <td>1.368763</td>\n",
              "      <td>-17.619230</td>\n",
              "      <td>1</td>\n",
              "    </tr>\n",
              "    <tr>\n",
              "      <th>557</th>\n",
              "      <td>-312.793549</td>\n",
              "      <td>82.430946</td>\n",
              "      <td>3.129900</td>\n",
              "      <td>14.186769</td>\n",
              "      <td>-18.484079</td>\n",
              "      <td>-25.799473</td>\n",
              "      <td>-17.645624</td>\n",
              "      <td>-17.211958</td>\n",
              "      <td>-12.702026</td>\n",
              "      <td>-4.227543</td>\n",
              "      <td>-22.298204</td>\n",
              "      <td>0.184280</td>\n",
              "      <td>-17.449095</td>\n",
              "      <td>1</td>\n",
              "    </tr>\n",
              "    <tr>\n",
              "      <th>558</th>\n",
              "      <td>-432.503387</td>\n",
              "      <td>52.231987</td>\n",
              "      <td>24.130854</td>\n",
              "      <td>24.908005</td>\n",
              "      <td>5.230207</td>\n",
              "      <td>10.177417</td>\n",
              "      <td>1.667769</td>\n",
              "      <td>11.312072</td>\n",
              "      <td>14.200116</td>\n",
              "      <td>13.155353</td>\n",
              "      <td>9.546826</td>\n",
              "      <td>18.923155</td>\n",
              "      <td>7.199302</td>\n",
              "      <td>1</td>\n",
              "    </tr>\n",
              "  </tbody>\n",
              "</table>\n",
              "<p>559 rows × 14 columns</p>\n",
              "</div>\n",
              "    <div class=\"colab-df-buttons\">\n",
              "\n",
              "  <div class=\"colab-df-container\">\n",
              "    <button class=\"colab-df-convert\" onclick=\"convertToInteractive('df-9f9b3074-c3d1-426e-84e3-0aedd9f64926')\"\n",
              "            title=\"Convert this dataframe to an interactive table.\"\n",
              "            style=\"display:none;\">\n",
              "\n",
              "  <svg xmlns=\"http://www.w3.org/2000/svg\" height=\"24px\" viewBox=\"0 -960 960 960\">\n",
              "    <path d=\"M120-120v-720h720v720H120Zm60-500h600v-160H180v160Zm220 220h160v-160H400v160Zm0 220h160v-160H400v160ZM180-400h160v-160H180v160Zm440 0h160v-160H620v160ZM180-180h160v-160H180v160Zm440 0h160v-160H620v160Z\"/>\n",
              "  </svg>\n",
              "    </button>\n",
              "\n",
              "  <style>\n",
              "    .colab-df-container {\n",
              "      display:flex;\n",
              "      gap: 12px;\n",
              "    }\n",
              "\n",
              "    .colab-df-convert {\n",
              "      background-color: #E8F0FE;\n",
              "      border: none;\n",
              "      border-radius: 50%;\n",
              "      cursor: pointer;\n",
              "      display: none;\n",
              "      fill: #1967D2;\n",
              "      height: 32px;\n",
              "      padding: 0 0 0 0;\n",
              "      width: 32px;\n",
              "    }\n",
              "\n",
              "    .colab-df-convert:hover {\n",
              "      background-color: #E2EBFA;\n",
              "      box-shadow: 0px 1px 2px rgba(60, 64, 67, 0.3), 0px 1px 3px 1px rgba(60, 64, 67, 0.15);\n",
              "      fill: #174EA6;\n",
              "    }\n",
              "\n",
              "    .colab-df-buttons div {\n",
              "      margin-bottom: 4px;\n",
              "    }\n",
              "\n",
              "    [theme=dark] .colab-df-convert {\n",
              "      background-color: #3B4455;\n",
              "      fill: #D2E3FC;\n",
              "    }\n",
              "\n",
              "    [theme=dark] .colab-df-convert:hover {\n",
              "      background-color: #434B5C;\n",
              "      box-shadow: 0px 1px 3px 1px rgba(0, 0, 0, 0.15);\n",
              "      filter: drop-shadow(0px 1px 2px rgba(0, 0, 0, 0.3));\n",
              "      fill: #FFFFFF;\n",
              "    }\n",
              "  </style>\n",
              "\n",
              "    <script>\n",
              "      const buttonEl =\n",
              "        document.querySelector('#df-9f9b3074-c3d1-426e-84e3-0aedd9f64926 button.colab-df-convert');\n",
              "      buttonEl.style.display =\n",
              "        google.colab.kernel.accessAllowed ? 'block' : 'none';\n",
              "\n",
              "      async function convertToInteractive(key) {\n",
              "        const element = document.querySelector('#df-9f9b3074-c3d1-426e-84e3-0aedd9f64926');\n",
              "        const dataTable =\n",
              "          await google.colab.kernel.invokeFunction('convertToInteractive',\n",
              "                                                    [key], {});\n",
              "        if (!dataTable) return;\n",
              "\n",
              "        const docLinkHtml = 'Like what you see? Visit the ' +\n",
              "          '<a target=\"_blank\" href=https://colab.research.google.com/notebooks/data_table.ipynb>data table notebook</a>'\n",
              "          + ' to learn more about interactive tables.';\n",
              "        element.innerHTML = '';\n",
              "        dataTable['output_type'] = 'display_data';\n",
              "        await google.colab.output.renderOutput(dataTable, element);\n",
              "        const docLink = document.createElement('div');\n",
              "        docLink.innerHTML = docLinkHtml;\n",
              "        element.appendChild(docLink);\n",
              "      }\n",
              "    </script>\n",
              "  </div>\n",
              "\n",
              "\n",
              "<div id=\"df-ea0c6365-e181-40dd-ab27-227be178a6f7\">\n",
              "  <button class=\"colab-df-quickchart\" onclick=\"quickchart('df-ea0c6365-e181-40dd-ab27-227be178a6f7')\"\n",
              "            title=\"Suggest charts\"\n",
              "            style=\"display:none;\">\n",
              "\n",
              "<svg xmlns=\"http://www.w3.org/2000/svg\" height=\"24px\"viewBox=\"0 0 24 24\"\n",
              "     width=\"24px\">\n",
              "    <g>\n",
              "        <path d=\"M19 3H5c-1.1 0-2 .9-2 2v14c0 1.1.9 2 2 2h14c1.1 0 2-.9 2-2V5c0-1.1-.9-2-2-2zM9 17H7v-7h2v7zm4 0h-2V7h2v10zm4 0h-2v-4h2v4z\"/>\n",
              "    </g>\n",
              "</svg>\n",
              "  </button>\n",
              "\n",
              "<style>\n",
              "  .colab-df-quickchart {\n",
              "      --bg-color: #E8F0FE;\n",
              "      --fill-color: #1967D2;\n",
              "      --hover-bg-color: #E2EBFA;\n",
              "      --hover-fill-color: #174EA6;\n",
              "      --disabled-fill-color: #AAA;\n",
              "      --disabled-bg-color: #DDD;\n",
              "  }\n",
              "\n",
              "  [theme=dark] .colab-df-quickchart {\n",
              "      --bg-color: #3B4455;\n",
              "      --fill-color: #D2E3FC;\n",
              "      --hover-bg-color: #434B5C;\n",
              "      --hover-fill-color: #FFFFFF;\n",
              "      --disabled-bg-color: #3B4455;\n",
              "      --disabled-fill-color: #666;\n",
              "  }\n",
              "\n",
              "  .colab-df-quickchart {\n",
              "    background-color: var(--bg-color);\n",
              "    border: none;\n",
              "    border-radius: 50%;\n",
              "    cursor: pointer;\n",
              "    display: none;\n",
              "    fill: var(--fill-color);\n",
              "    height: 32px;\n",
              "    padding: 0;\n",
              "    width: 32px;\n",
              "  }\n",
              "\n",
              "  .colab-df-quickchart:hover {\n",
              "    background-color: var(--hover-bg-color);\n",
              "    box-shadow: 0 1px 2px rgba(60, 64, 67, 0.3), 0 1px 3px 1px rgba(60, 64, 67, 0.15);\n",
              "    fill: var(--button-hover-fill-color);\n",
              "  }\n",
              "\n",
              "  .colab-df-quickchart-complete:disabled,\n",
              "  .colab-df-quickchart-complete:disabled:hover {\n",
              "    background-color: var(--disabled-bg-color);\n",
              "    fill: var(--disabled-fill-color);\n",
              "    box-shadow: none;\n",
              "  }\n",
              "\n",
              "  .colab-df-spinner {\n",
              "    border: 2px solid var(--fill-color);\n",
              "    border-color: transparent;\n",
              "    border-bottom-color: var(--fill-color);\n",
              "    animation:\n",
              "      spin 1s steps(1) infinite;\n",
              "  }\n",
              "\n",
              "  @keyframes spin {\n",
              "    0% {\n",
              "      border-color: transparent;\n",
              "      border-bottom-color: var(--fill-color);\n",
              "      border-left-color: var(--fill-color);\n",
              "    }\n",
              "    20% {\n",
              "      border-color: transparent;\n",
              "      border-left-color: var(--fill-color);\n",
              "      border-top-color: var(--fill-color);\n",
              "    }\n",
              "    30% {\n",
              "      border-color: transparent;\n",
              "      border-left-color: var(--fill-color);\n",
              "      border-top-color: var(--fill-color);\n",
              "      border-right-color: var(--fill-color);\n",
              "    }\n",
              "    40% {\n",
              "      border-color: transparent;\n",
              "      border-right-color: var(--fill-color);\n",
              "      border-top-color: var(--fill-color);\n",
              "    }\n",
              "    60% {\n",
              "      border-color: transparent;\n",
              "      border-right-color: var(--fill-color);\n",
              "    }\n",
              "    80% {\n",
              "      border-color: transparent;\n",
              "      border-right-color: var(--fill-color);\n",
              "      border-bottom-color: var(--fill-color);\n",
              "    }\n",
              "    90% {\n",
              "      border-color: transparent;\n",
              "      border-bottom-color: var(--fill-color);\n",
              "    }\n",
              "  }\n",
              "</style>\n",
              "\n",
              "  <script>\n",
              "    async function quickchart(key) {\n",
              "      const quickchartButtonEl =\n",
              "        document.querySelector('#' + key + ' button');\n",
              "      quickchartButtonEl.disabled = true;  // To prevent multiple clicks.\n",
              "      quickchartButtonEl.classList.add('colab-df-spinner');\n",
              "      try {\n",
              "        const charts = await google.colab.kernel.invokeFunction(\n",
              "            'suggestCharts', [key], {});\n",
              "      } catch (error) {\n",
              "        console.error('Error during call to suggestCharts:', error);\n",
              "      }\n",
              "      quickchartButtonEl.classList.remove('colab-df-spinner');\n",
              "      quickchartButtonEl.classList.add('colab-df-quickchart-complete');\n",
              "    }\n",
              "    (() => {\n",
              "      let quickchartButtonEl =\n",
              "        document.querySelector('#df-ea0c6365-e181-40dd-ab27-227be178a6f7 button');\n",
              "      quickchartButtonEl.style.display =\n",
              "        google.colab.kernel.accessAllowed ? 'block' : 'none';\n",
              "    })();\n",
              "  </script>\n",
              "</div>\n",
              "\n",
              "  <div id=\"id_5931169b-d129-4646-a974-a61b13005e78\">\n",
              "    <style>\n",
              "      .colab-df-generate {\n",
              "        background-color: #E8F0FE;\n",
              "        border: none;\n",
              "        border-radius: 50%;\n",
              "        cursor: pointer;\n",
              "        display: none;\n",
              "        fill: #1967D2;\n",
              "        height: 32px;\n",
              "        padding: 0 0 0 0;\n",
              "        width: 32px;\n",
              "      }\n",
              "\n",
              "      .colab-df-generate:hover {\n",
              "        background-color: #E2EBFA;\n",
              "        box-shadow: 0px 1px 2px rgba(60, 64, 67, 0.3), 0px 1px 3px 1px rgba(60, 64, 67, 0.15);\n",
              "        fill: #174EA6;\n",
              "      }\n",
              "\n",
              "      [theme=dark] .colab-df-generate {\n",
              "        background-color: #3B4455;\n",
              "        fill: #D2E3FC;\n",
              "      }\n",
              "\n",
              "      [theme=dark] .colab-df-generate:hover {\n",
              "        background-color: #434B5C;\n",
              "        box-shadow: 0px 1px 3px 1px rgba(0, 0, 0, 0.15);\n",
              "        filter: drop-shadow(0px 1px 2px rgba(0, 0, 0, 0.3));\n",
              "        fill: #FFFFFF;\n",
              "      }\n",
              "    </style>\n",
              "    <button class=\"colab-df-generate\" onclick=\"generateWithVariable('df')\"\n",
              "            title=\"Generate code using this dataframe.\"\n",
              "            style=\"display:none;\">\n",
              "\n",
              "  <svg xmlns=\"http://www.w3.org/2000/svg\" height=\"24px\"viewBox=\"0 0 24 24\"\n",
              "       width=\"24px\">\n",
              "    <path d=\"M7,19H8.4L18.45,9,17,7.55,7,17.6ZM5,21V16.75L18.45,3.32a2,2,0,0,1,2.83,0l1.4,1.43a1.91,1.91,0,0,1,.58,1.4,1.91,1.91,0,0,1-.58,1.4L9.25,21ZM18.45,9,17,7.55Zm-12,3A5.31,5.31,0,0,0,4.9,8.1,5.31,5.31,0,0,0,1,6.5,5.31,5.31,0,0,0,4.9,4.9,5.31,5.31,0,0,0,6.5,1,5.31,5.31,0,0,0,8.1,4.9,5.31,5.31,0,0,0,12,6.5,5.46,5.46,0,0,0,6.5,12Z\"/>\n",
              "  </svg>\n",
              "    </button>\n",
              "    <script>\n",
              "      (() => {\n",
              "      const buttonEl =\n",
              "        document.querySelector('#id_5931169b-d129-4646-a974-a61b13005e78 button.colab-df-generate');\n",
              "      buttonEl.style.display =\n",
              "        google.colab.kernel.accessAllowed ? 'block' : 'none';\n",
              "\n",
              "      buttonEl.onclick = () => {\n",
              "        google.colab.notebook.generateWithVariable('df');\n",
              "      }\n",
              "      })();\n",
              "    </script>\n",
              "  </div>\n",
              "\n",
              "    </div>\n",
              "  </div>\n"
            ],
            "application/vnd.google.colaboratory.intrinsic+json": {
              "type": "dataframe",
              "variable_name": "df",
              "summary": "{\n  \"name\": \"df\",\n  \"rows\": 559,\n  \"fields\": [\n    {\n      \"column\": 0,\n      \"properties\": {\n        \"dtype\": \"float32\",\n        \"num_unique_values\": 559,\n        \"samples\": [\n          -303.66534423828125,\n          -200.74349975585938,\n          -341.0849609375\n        ],\n        \"semantic_type\": \"\",\n        \"description\": \"\"\n      }\n    },\n    {\n      \"column\": 1,\n      \"properties\": {\n        \"dtype\": \"float32\",\n        \"num_unique_values\": 559,\n        \"samples\": [\n          165.3446044921875,\n          83.8864517211914,\n          47.19906234741211\n        ],\n        \"semantic_type\": \"\",\n        \"description\": \"\"\n      }\n    },\n    {\n      \"column\": 2,\n      \"properties\": {\n        \"dtype\": \"float32\",\n        \"num_unique_values\": 559,\n        \"samples\": [\n          -4.111262321472168,\n          1.4497567415237427,\n          -9.682025909423828\n        ],\n        \"semantic_type\": \"\",\n        \"description\": \"\"\n      }\n    },\n    {\n      \"column\": 3,\n      \"properties\": {\n        \"dtype\": \"float32\",\n        \"num_unique_values\": 559,\n        \"samples\": [\n          28.791431427001953,\n          37.84858322143555,\n          20.207778930664062\n        ],\n        \"semantic_type\": \"\",\n        \"description\": \"\"\n      }\n    },\n    {\n      \"column\": 4,\n      \"properties\": {\n        \"dtype\": \"float32\",\n        \"num_unique_values\": 559,\n        \"samples\": [\n          7.2431559562683105,\n          6.561042308807373,\n          -5.3386616706848145\n        ],\n        \"semantic_type\": \"\",\n        \"description\": \"\"\n      }\n    },\n    {\n      \"column\": 5,\n      \"properties\": {\n        \"dtype\": \"float32\",\n        \"num_unique_values\": 559,\n        \"samples\": [\n          8.527423858642578,\n          -5.423165798187256,\n          3.7413489818573\n        ],\n        \"semantic_type\": \"\",\n        \"description\": \"\"\n      }\n    },\n    {\n      \"column\": 6,\n      \"properties\": {\n        \"dtype\": \"float32\",\n        \"num_unique_values\": 559,\n        \"samples\": [\n          -0.3570402264595032,\n          -13.699455261230469,\n          -16.991252899169922\n        ],\n        \"semantic_type\": \"\",\n        \"description\": \"\"\n      }\n    },\n    {\n      \"column\": 7,\n      \"properties\": {\n        \"dtype\": \"float32\",\n        \"num_unique_values\": 559,\n        \"samples\": [\n          -16.122112274169922,\n          -9.753549575805664,\n          -10.463788986206055\n        ],\n        \"semantic_type\": \"\",\n        \"description\": \"\"\n      }\n    },\n    {\n      \"column\": 8,\n      \"properties\": {\n        \"dtype\": \"float32\",\n        \"num_unique_values\": 559,\n        \"samples\": [\n          0.8459163904190063,\n          -13.677352905273438,\n          -13.56824779510498\n        ],\n        \"semantic_type\": \"\",\n        \"description\": \"\"\n      }\n    },\n    {\n      \"column\": 9,\n      \"properties\": {\n        \"dtype\": \"float32\",\n        \"num_unique_values\": 559,\n        \"samples\": [\n          -4.227232456207275,\n          10.73301887512207,\n          -7.134695529937744\n        ],\n        \"semantic_type\": \"\",\n        \"description\": \"\"\n      }\n    },\n    {\n      \"column\": 10,\n      \"properties\": {\n        \"dtype\": \"float32\",\n        \"num_unique_values\": 559,\n        \"samples\": [\n          -4.431952476501465,\n          -16.059240341186523,\n          -16.136253356933594\n        ],\n        \"semantic_type\": \"\",\n        \"description\": \"\"\n      }\n    },\n    {\n      \"column\": 11,\n      \"properties\": {\n        \"dtype\": \"float32\",\n        \"num_unique_values\": 559,\n        \"samples\": [\n          -7.60046911239624,\n          4.951775074005127,\n          0.013407567515969276\n        ],\n        \"semantic_type\": \"\",\n        \"description\": \"\"\n      }\n    },\n    {\n      \"column\": 12,\n      \"properties\": {\n        \"dtype\": \"float32\",\n        \"num_unique_values\": 559,\n        \"samples\": [\n          -3.0194082260131836,\n          -5.606936931610107,\n          -13.39730167388916\n        ],\n        \"semantic_type\": \"\",\n        \"description\": \"\"\n      }\n    },\n    {\n      \"column\": \"label\",\n      \"properties\": {\n        \"dtype\": \"number\",\n        \"std\": 0,\n        \"min\": 0,\n        \"max\": 1,\n        \"num_unique_values\": 2,\n        \"samples\": [\n          1,\n          0\n        ],\n        \"semantic_type\": \"\",\n        \"description\": \"\"\n      }\n    }\n  ]\n}"
            }
          },
          "metadata": {},
          "execution_count": 129
        }
      ],
      "source": [
        "df"
      ]
    },
    {
      "cell_type": "code",
      "execution_count": null,
      "metadata": {
        "colab": {
          "base_uri": "https://localhost:8080/",
          "height": 569
        },
        "id": "nxcuXL4y-ER6",
        "outputId": "e4d6927d-2166-45c3-c191-c9f6232aebe6"
      },
      "outputs": [
        {
          "output_type": "display_data",
          "data": {
            "text/plain": [
              "<Figure size 1000x600 with 1 Axes>"
            ],
            "image/png": "[encoded data removed]"
          },
          "metadata": {}
        }
      ],
      "source": [
        "# Contar as ocorrências de cada label\n",
        "label_counts = [labels.count(0), labels.count(1)]\n",
        "\n",
        "# Plotando o gráfico\n",
        "plt.figure(figsize=(10, 6))  # Ajuste do tamanho do gráfico\n",
        "plt.bar([0, 1], label_counts, tick_label=['Fake', 'Real'], color=['#1f77b4', '#ff7f0e'])\n",
        "\n",
        "# Adicionando rótulos e título\n",
        "plt.xlabel('Tipo dos Áudios')\n",
        "plt.ylabel('Quantidade')\n",
        "plt.title('Balanço de Áudios Reais e Fakes')\n",
        "plt.show()"
      ]
    },
    {
      "cell_type": "code",
      "execution_count": null,
      "metadata": {
        "id": "NYPUG5sh5gRQ"
      },
      "outputs": [],
      "source": [
        "# Separar características (X) e rótulos (y)\n",
        "X = df.drop(columns=['label'])\n",
        "y = df['label']\n",
        "\n",
        "# Dividir em treino e teste\n",
        "X_train, X_test, y_train, y_test = train_test_split(X, y, test_size=0.2, random_state=42)"
      ]
    },
    {
      "cell_type": "code",
      "execution_count": null,
      "metadata": {
        "colab": {
          "base_uri": "https://localhost:8080/"
        },
        "id": "1ITtKvNwKz7Z",
        "outputId": "0aadeedb-cee7-4fac-ab17-f3bff9e61ad8"
      },
      "outputs": [
        {
          "output_type": "stream",
          "name": "stdout",
          "text": [
            "Epoch 1/10\n"
          ]
        },
        {
          "output_type": "stream",
          "name": "stderr",
          "text": [
            "/usr/local/lib/python3.11/dist-packages/keras/src/layers/core/dense.py:87: UserWarning: Do not pass an `input_shape`/`input_dim` argument to a layer. When using Sequential models, prefer using an `Input(shape)` object as the first layer in the model instead.\n",
            "  super().__init__(activity_regularizer=activity_regularizer, **kwargs)\n"
          ]
        },
        {
          "output_type": "stream",
          "name": "stdout",
          "text": [
            "\u001b[1m14/14\u001b[0m \u001b[32m━━━━━━━━━━━━━━━━━━━━\u001b[0m\u001b[37m\u001b[0m \u001b[1m1s\u001b[0m 2ms/step - accuracy: 0.7944 - loss: 12.9844\n",
            "Epoch 2/10\n",
            "\u001b[1m14/14\u001b[0m \u001b[32m━━━━━━━━━━━━━━━━━━━━\u001b[0m\u001b[37m\u001b[0m \u001b[1m0s\u001b[0m 2ms/step - accuracy: 0.7340 - loss: 2.9669 \n",
            "Epoch 3/10\n",
            "\u001b[1m14/14\u001b[0m \u001b[32m━━━━━━━━━━━━━━━━━━━━\u001b[0m\u001b[37m\u001b[0m \u001b[1m0s\u001b[0m 1ms/step - accuracy: 0.7586 - loss: 2.6573 \n",
            "Epoch 4/10\n",
            "\u001b[1m14/14\u001b[0m \u001b[32m━━━━━━━━━━━━━━━━━━━━\u001b[0m\u001b[37m\u001b[0m \u001b[1m0s\u001b[0m 2ms/step - accuracy: 0.7112 - loss: 1.8046 \n",
            "Epoch 5/10\n",
            "\u001b[1m14/14\u001b[0m \u001b[32m━━━━━━━━━━━━━━━━━━━━\u001b[0m\u001b[37m\u001b[0m \u001b[1m0s\u001b[0m 2ms/step - accuracy: 0.7627 - loss: 1.4302 \n",
            "Epoch 6/10\n",
            "\u001b[1m14/14\u001b[0m \u001b[32m━━━━━━━━━━━━━━━━━━━━\u001b[0m\u001b[37m\u001b[0m \u001b[1m0s\u001b[0m 2ms/step - accuracy: 0.8226 - loss: 0.7652 \n",
            "Epoch 7/10\n",
            "\u001b[1m14/14\u001b[0m \u001b[32m━━━━━━━━━━━━━━━━━━━━\u001b[0m\u001b[37m\u001b[0m \u001b[1m0s\u001b[0m 1ms/step - accuracy: 0.8118 - loss: 0.6120 \n",
            "Epoch 8/10\n",
            "\u001b[1m14/14\u001b[0m \u001b[32m━━━━━━━━━━━━━━━━━━━━\u001b[0m\u001b[37m\u001b[0m \u001b[1m0s\u001b[0m 2ms/step - accuracy: 0.8137 - loss: 0.4712 \n",
            "Epoch 9/10\n",
            "\u001b[1m14/14\u001b[0m \u001b[32m━━━━━━━━━━━━━━━━━━━━\u001b[0m\u001b[37m\u001b[0m \u001b[1m0s\u001b[0m 2ms/step - accuracy: 0.8320 - loss: 0.4322 \n",
            "Epoch 10/10\n",
            "\u001b[1m14/14\u001b[0m \u001b[32m━━━━━━━━━━━━━━━━━━━━\u001b[0m\u001b[37m\u001b[0m \u001b[1m0s\u001b[0m 2ms/step - accuracy: 0.8482 - loss: 0.4169 \n",
            "\u001b[1m4/4\u001b[0m \u001b[32m━━━━━━━━━━━━━━━━━━━━\u001b[0m\u001b[37m\u001b[0m \u001b[1m0s\u001b[0m 10ms/step\n"
          ]
        }
      ],
      "source": [
        "# Definição do modelo DNN\n",
        "model = tf.keras.Sequential([\n",
        "    tf.keras.layers.Dense(64, activation='relu', input_shape=(X_train.shape[1],)),\n",
        "    tf.keras.layers.Dense(1, activation='sigmoid')\n",
        "])\n",
        "\n",
        "# Compilação e treinamento do modelo\n",
        "model.compile(optimizer='adam', loss='binary_crossentropy', metrics=['accuracy'])\n",
        "model.fit(X_train, y_train, epochs=10, batch_size=32)\n",
        "\n",
        "# Predições e métricas\n",
        "y_pred_proba = model.predict(X_test)  # Predições de probabilidade\n",
        "y_pred = (y_pred_proba > 0.5).astype(int)  # Converter para rótulos binários"
      ]
    },
    {
      "cell_type": "code",
      "execution_count": null,
      "metadata": {
        "colab": {
          "base_uri": "https://localhost:8080/"
        },
        "id": "IggGETGfKz7b",
        "outputId": "215752c9-6a9f-46d8-8c67-fee43ef5579b"
      },
      "outputs": [
        {
          "output_type": "stream",
          "name": "stdout",
          "text": [
            "Acurácia: 0.78\n",
            "Precisão: 0.83\n",
            "Recall: 0.88\n",
            "F1-Score: 0.85\n"
          ]
        }
      ],
      "source": [
        "# Calculando as métricas de classificação\n",
        "accuracy = accuracy_score(y_test, y_pred)\n",
        "precision = precision_score(y_test, y_pred)\n",
        "recall = recall_score(y_test, y_pred)\n",
        "f1 = f1_score(y_test, y_pred)\n",
        "\n",
        "# Exibindo as métricas\n",
        "print(f\"Acurácia: {accuracy:.2f}\")\n",
        "print(f\"Precisão: {precision:.2f}\")\n",
        "print(f\"Recall: {recall:.2f}\")\n",
        "print(f\"F1-Score: {f1:.2f}\")"
      ]
    },
    {
      "cell_type": "code",
      "execution_count": null,
      "metadata": {
        "id": "L1bbRPNvwRJ6"
      },
      "outputs": [],
      "source": [
        "# Treinando um modelo de regressão linear\n",
        "model = RandomForestClassifier()\n",
        "rfc = model.fit(X_train, y_train)\n",
        "\n",
        "# Fazendo previsões no conjunto de teste\n",
        "y_pred = rfc.predict(X_test)"
      ]
    },
    {
      "cell_type": "code",
      "execution_count": null,
      "metadata": {
        "colab": {
          "base_uri": "https://localhost:8080/"
        },
        "id": "IOOsY7qXKz7c",
        "outputId": "44f71e70-19ef-41f6-9be8-847853884b25"
      },
      "outputs": [
        {
          "output_type": "stream",
          "name": "stdout",
          "text": [
            "Acurácia: 0.88\n",
            "Precisão: 0.86\n",
            "Recall: 0.99\n",
            "F1-Score: 0.92\n"
          ]
        }
      ],
      "source": [
        "# Calculando as métricas de classificação\n",
        "accuracy = accuracy_score(y_test, y_pred)\n",
        "precision = precision_score(y_test, y_pred)\n",
        "recall = recall_score(y_test, y_pred)\n",
        "f1 = f1_score(y_test, y_pred)\n",
        "\n",
        "# Exibindo as métricas\n",
        "print(f\"Acurácia: {accuracy:.2f}\")\n",
        "print(f\"Precisão: {precision:.2f}\")\n",
        "print(f\"Recall: {recall:.2f}\")\n",
        "print(f\"F1-Score: {f1:.2f}\")"
      ]
    },
    {
      "cell_type": "code",
      "execution_count": null,
      "metadata": {
        "id": "m3k2nBOvKz7d"
      },
      "outputs": [],
      "source": [
        "# Treinando um modelo knc\n",
        "model = KNeighborsClassifier()\n",
        "knc = model.fit(X_train,y_train)\n",
        "\n",
        "# Fazendo previsões no conjunto de teste\n",
        "y_pred = knc.predict(X_test)"
      ]
    },
    {
      "cell_type": "code",
      "execution_count": null,
      "metadata": {
        "colab": {
          "base_uri": "https://localhost:8080/"
        },
        "id": "DfboHBtiKz7d",
        "outputId": "d3d8899d-77f4-4854-ad6b-558f0fac1126"
      },
      "outputs": [
        {
          "output_type": "stream",
          "name": "stdout",
          "text": [
            "Acurácia: 0.90\n",
            "Precisão: 0.90\n",
            "Recall: 0.98\n",
            "F1-Score: 0.93\n"
          ]
        }
      ],
      "source": [
        "# Calculando as métricas de classificação\n",
        "accuracy = accuracy_score(y_test, y_pred)\n",
        "precision = precision_score(y_test, y_pred)\n",
        "recall = recall_score(y_test, y_pred)\n",
        "f1 = f1_score(y_test, y_pred)\n",
        "\n",
        "# Exibindo as métricas\n",
        "print(f\"Acurácia: {accuracy:.2f}\")\n",
        "print(f\"Precisão: {precision:.2f}\")\n",
        "print(f\"Recall: {recall:.2f}\")\n",
        "print(f\"F1-Score: {f1:.2f}\")"
      ]
    },
    {
      "cell_type": "code",
      "execution_count": null,
      "metadata": {
        "id": "ET6wm_8EKz7d"
      },
      "outputs": [],
      "source": [
        "model = XGBClassifier()\n",
        "xgb = model.fit(X_train, y_train)\n",
        "\n",
        "# Fazendo previsões no conjunto de teste\n",
        "y_pred = xgb.predict(X_test)"
      ]
    },
    {
      "cell_type": "code",
      "execution_count": null,
      "metadata": {
        "colab": {
          "base_uri": "https://localhost:8080/"
        },
        "id": "sqG8yETsKz7e",
        "outputId": "bdce9308-f607-4dd8-873d-fb4707bab3c1"
      },
      "outputs": [
        {
          "output_type": "stream",
          "name": "stdout",
          "text": [
            "Acurácia: 0.88\n",
            "Precisão: 0.88\n",
            "Recall: 0.96\n",
            "F1-Score: 0.92\n"
          ]
        }
      ],
      "source": [
        "# Calculando as métricas de classificação\n",
        "accuracy = accuracy_score(y_test, y_pred)\n",
        "precision = precision_score(y_test, y_pred)\n",
        "recall = recall_score(y_test, y_pred)\n",
        "f1 = f1_score(y_test, y_pred)\n",
        "\n",
        "# Exibindo as métricas\n",
        "print(f\"Acurácia: {accuracy:.2f}\")\n",
        "print(f\"Precisão: {precision:.2f}\")\n",
        "print(f\"Recall: {recall:.2f}\")\n",
        "print(f\"F1-Score: {f1:.2f}\")"
      ]
    },
    {
      "cell_type": "code",
      "execution_count": null,
      "metadata": {
        "id": "c7a9QHTMKz7e",
        "colab": {
          "base_uri": "https://localhost:8080/"
        },
        "outputId": "abb1aabc-f9eb-4c72-c2f3-0e0748b0a84e"
      },
      "outputs": [
        {
          "output_type": "stream",
          "name": "stdout",
          "text": [
            "[LightGBM] [Info] Number of positive: 367, number of negative: 80\n",
            "[LightGBM] [Info] Auto-choosing col-wise multi-threading, the overhead of testing was 0.000168 seconds.\n",
            "You can set `force_col_wise=true` to remove the overhead.\n",
            "[LightGBM] [Info] Total Bins 1948\n",
            "[LightGBM] [Info] Number of data points in the train set: 447, number of used features: 13\n",
            "[LightGBM] [Info] [binary:BoostFromScore]: pavg=0.821029 -> initscore=1.523335\n",
            "[LightGBM] [Info] Start training from score 1.523335\n",
            "[LightGBM] [Warning] No further splits with positive gain, best gain: -inf\n",
            "[LightGBM] [Warning] No further splits with positive gain, best gain: -inf\n",
            "[LightGBM] [Warning] No further splits with positive gain, best gain: -inf\n",
            "[LightGBM] [Warning] No further splits with positive gain, best gain: -inf\n",
            "[LightGBM] [Warning] No further splits with positive gain, best gain: -inf\n",
            "[LightGBM] [Warning] No further splits with positive gain, best gain: -inf\n",
            "[LightGBM] [Warning] No further splits with positive gain, best gain: -inf\n",
            "[LightGBM] [Warning] No further splits with positive gain, best gain: -inf\n",
            "[LightGBM] [Warning] No further splits with positive gain, best gain: -inf\n",
            "[LightGBM] [Warning] No further splits with positive gain, best gain: -inf\n",
            "[LightGBM] [Warning] No further splits with positive gain, best gain: -inf\n",
            "[LightGBM] [Warning] No further splits with positive gain, best gain: -inf\n",
            "[LightGBM] [Warning] No further splits with positive gain, best gain: -inf\n",
            "[LightGBM] [Warning] No further splits with positive gain, best gain: -inf\n",
            "[LightGBM] [Warning] No further splits with positive gain, best gain: -inf\n",
            "[LightGBM] [Warning] No further splits with positive gain, best gain: -inf\n",
            "[LightGBM] [Warning] No further splits with positive gain, best gain: -inf\n",
            "[LightGBM] [Warning] No further splits with positive gain, best gain: -inf\n",
            "[LightGBM] [Warning] No further splits with positive gain, best gain: -inf\n",
            "[LightGBM] [Warning] No further splits with positive gain, best gain: -inf\n",
            "[LightGBM] [Warning] No further splits with positive gain, best gain: -inf\n",
            "[LightGBM] [Warning] No further splits with positive gain, best gain: -inf\n",
            "[LightGBM] [Warning] No further splits with positive gain, best gain: -inf\n",
            "[LightGBM] [Warning] No further splits with positive gain, best gain: -inf\n",
            "[LightGBM] [Warning] No further splits with positive gain, best gain: -inf\n",
            "[LightGBM] [Warning] No further splits with positive gain, best gain: -inf\n",
            "[LightGBM] [Warning] No further splits with positive gain, best gain: -inf\n",
            "[LightGBM] [Warning] No further splits with positive gain, best gain: -inf\n",
            "[LightGBM] [Warning] No further splits with positive gain, best gain: -inf\n",
            "[LightGBM] [Warning] No further splits with positive gain, best gain: -inf\n",
            "[LightGBM] [Warning] No further splits with positive gain, best gain: -inf\n",
            "[LightGBM] [Warning] No further splits with positive gain, best gain: -inf\n",
            "[LightGBM] [Warning] No further splits with positive gain, best gain: -inf\n",
            "[LightGBM] [Warning] No further splits with positive gain, best gain: -inf\n",
            "[LightGBM] [Warning] No further splits with positive gain, best gain: -inf\n",
            "[LightGBM] [Warning] No further splits with positive gain, best gain: -inf\n",
            "[LightGBM] [Warning] No further splits with positive gain, best gain: -inf\n",
            "[LightGBM] [Warning] No further splits with positive gain, best gain: -inf\n",
            "[LightGBM] [Warning] No further splits with positive gain, best gain: -inf\n",
            "[LightGBM] [Warning] No further splits with positive gain, best gain: -inf\n",
            "[LightGBM] [Warning] No further splits with positive gain, best gain: -inf\n",
            "[LightGBM] [Warning] No further splits with positive gain, best gain: -inf\n",
            "[LightGBM] [Warning] No further splits with positive gain, best gain: -inf\n",
            "[LightGBM] [Warning] No further splits with positive gain, best gain: -inf\n",
            "[LightGBM] [Warning] No further splits with positive gain, best gain: -inf\n",
            "[LightGBM] [Warning] No further splits with positive gain, best gain: -inf\n",
            "[LightGBM] [Warning] No further splits with positive gain, best gain: -inf\n",
            "[LightGBM] [Warning] No further splits with positive gain, best gain: -inf\n",
            "[LightGBM] [Warning] No further splits with positive gain, best gain: -inf\n",
            "[LightGBM] [Warning] No further splits with positive gain, best gain: -inf\n",
            "[LightGBM] [Warning] No further splits with positive gain, best gain: -inf\n",
            "[LightGBM] [Warning] No further splits with positive gain, best gain: -inf\n",
            "[LightGBM] [Warning] No further splits with positive gain, best gain: -inf\n",
            "[LightGBM] [Warning] No further splits with positive gain, best gain: -inf\n",
            "[LightGBM] [Warning] No further splits with positive gain, best gain: -inf\n",
            "[LightGBM] [Warning] No further splits with positive gain, best gain: -inf\n",
            "[LightGBM] [Warning] No further splits with positive gain, best gain: -inf\n",
            "[LightGBM] [Warning] No further splits with positive gain, best gain: -inf\n",
            "[LightGBM] [Warning] No further splits with positive gain, best gain: -inf\n",
            "[LightGBM] [Warning] No further splits with positive gain, best gain: -inf\n",
            "[LightGBM] [Warning] No further splits with positive gain, best gain: -inf\n",
            "[LightGBM] [Warning] No further splits with positive gain, best gain: -inf\n",
            "[LightGBM] [Warning] No further splits with positive gain, best gain: -inf\n",
            "[LightGBM] [Warning] No further splits with positive gain, best gain: -inf\n",
            "[LightGBM] [Warning] No further splits with positive gain, best gain: -inf\n",
            "[LightGBM] [Warning] No further splits with positive gain, best gain: -inf\n",
            "[LightGBM] [Warning] No further splits with positive gain, best gain: -inf\n",
            "[LightGBM] [Warning] No further splits with positive gain, best gain: -inf\n",
            "[LightGBM] [Warning] No further splits with positive gain, best gain: -inf\n",
            "[LightGBM] [Warning] No further splits with positive gain, best gain: -inf\n",
            "[LightGBM] [Warning] No further splits with positive gain, best gain: -inf\n",
            "[LightGBM] [Warning] No further splits with positive gain, best gain: -inf\n",
            "[LightGBM] [Warning] No further splits with positive gain, best gain: -inf\n",
            "[LightGBM] [Warning] No further splits with positive gain, best gain: -inf\n",
            "[LightGBM] [Warning] No further splits with positive gain, best gain: -inf\n",
            "[LightGBM] [Warning] No further splits with positive gain, best gain: -inf\n",
            "[LightGBM] [Warning] No further splits with positive gain, best gain: -inf\n",
            "[LightGBM] [Warning] No further splits with positive gain, best gain: -inf\n",
            "[LightGBM] [Warning] No further splits with positive gain, best gain: -inf\n",
            "[LightGBM] [Warning] No further splits with positive gain, best gain: -inf\n",
            "[LightGBM] [Warning] No further splits with positive gain, best gain: -inf\n",
            "[LightGBM] [Warning] No further splits with positive gain, best gain: -inf\n",
            "[LightGBM] [Warning] No further splits with positive gain, best gain: -inf\n",
            "[LightGBM] [Warning] No further splits with positive gain, best gain: -inf\n",
            "[LightGBM] [Warning] No further splits with positive gain, best gain: -inf\n",
            "[LightGBM] [Warning] No further splits with positive gain, best gain: -inf\n",
            "[LightGBM] [Warning] No further splits with positive gain, best gain: -inf\n",
            "[LightGBM] [Warning] No further splits with positive gain, best gain: -inf\n",
            "[LightGBM] [Warning] No further splits with positive gain, best gain: -inf\n",
            "[LightGBM] [Warning] No further splits with positive gain, best gain: -inf\n",
            "[LightGBM] [Warning] No further splits with positive gain, best gain: -inf\n",
            "[LightGBM] [Warning] No further splits with positive gain, best gain: -inf\n",
            "[LightGBM] [Warning] No further splits with positive gain, best gain: -inf\n",
            "[LightGBM] [Warning] No further splits with positive gain, best gain: -inf\n",
            "[LightGBM] [Warning] No further splits with positive gain, best gain: -inf\n",
            "[LightGBM] [Warning] No further splits with positive gain, best gain: -inf\n",
            "[LightGBM] [Warning] No further splits with positive gain, best gain: -inf\n",
            "[LightGBM] [Warning] No further splits with positive gain, best gain: -inf\n",
            "[LightGBM] [Warning] No further splits with positive gain, best gain: -inf\n",
            "[LightGBM] [Warning] No further splits with positive gain, best gain: -inf\n"
          ]
        }
      ],
      "source": [
        "model = LGBMClassifier(n_estimators=100, learning_rate=0.1, num_leaves=31)\n",
        "LGBMC = model.fit(X_train, y_train)\n",
        "\n",
        "y_pred = LGBMC.predict(X_test)"
      ]
    },
    {
      "cell_type": "code",
      "execution_count": null,
      "metadata": {
        "id": "rXTztqY_Kz7e",
        "colab": {
          "base_uri": "https://localhost:8080/"
        },
        "outputId": "308c8ea9-7f0c-4445-aed4-464fc4cc1c23"
      },
      "outputs": [
        {
          "output_type": "stream",
          "name": "stdout",
          "text": [
            "Acurácia: 0.92\n",
            "Precisão: 0.92\n",
            "Recall: 0.98\n",
            "F1-Score: 0.95\n"
          ]
        }
      ],
      "source": [
        "# Calculando as métricas de classificação\n",
        "accuracy = accuracy_score(y_test, y_pred)\n",
        "precision = precision_score(y_test, y_pred)\n",
        "recall = recall_score(y_test, y_pred)\n",
        "f1 = f1_score(y_test, y_pred)\n",
        "\n",
        "# Exibindo as métricas\n",
        "print(f\"Acurácia: {accuracy:.2f}\")\n",
        "print(f\"Precisão: {precision:.2f}\")\n",
        "print(f\"Recall: {recall:.2f}\")\n",
        "print(f\"F1-Score: {f1:.2f}\")"
      ]
    },
    {
      "cell_type": "code",
      "execution_count": null,
      "metadata": {
        "id": "RgQ0Q0zpKz7f",
        "colab": {
          "base_uri": "https://localhost:8080/"
        },
        "outputId": "810f3af5-4e01-4171-a0aa-3815e8d5cf51"
      },
      "outputs": [
        {
          "output_type": "stream",
          "name": "stdout",
          "text": [
            "Epoch 1/10\n"
          ]
        },
        {
          "output_type": "stream",
          "name": "stderr",
          "text": [
            "/usr/local/lib/python3.11/dist-packages/keras/src/layers/core/dense.py:87: UserWarning: Do not pass an `input_shape`/`input_dim` argument to a layer. When using Sequential models, prefer using an `Input(shape)` object as the first layer in the model instead.\n",
            "  super().__init__(activity_regularizer=activity_regularizer, **kwargs)\n"
          ]
        },
        {
          "output_type": "stream",
          "name": "stdout",
          "text": [
            "\u001b[1m14/14\u001b[0m \u001b[32m━━━━━━━━━━━━━━━━━━━━\u001b[0m\u001b[37m\u001b[0m \u001b[1m1s\u001b[0m 2ms/step - accuracy: 0.4663 - loss: 7.4811 \n",
            "Epoch 2/10\n",
            "\u001b[1m14/14\u001b[0m \u001b[32m━━━━━━━━━━━━━━━━━━━━\u001b[0m\u001b[37m\u001b[0m \u001b[1m0s\u001b[0m 1ms/step - accuracy: 0.8269 - loss: 3.3956 \n",
            "Epoch 3/10\n",
            "\u001b[1m14/14\u001b[0m \u001b[32m━━━━━━━━━━━━━━━━━━━━\u001b[0m\u001b[37m\u001b[0m \u001b[1m0s\u001b[0m 2ms/step - accuracy: 0.8065 - loss: 1.2966 \n",
            "Epoch 4/10\n",
            "\u001b[1m14/14\u001b[0m \u001b[32m━━━━━━━━━━━━━━━━━━━━\u001b[0m\u001b[37m\u001b[0m \u001b[1m0s\u001b[0m 2ms/step - accuracy: 0.7900 - loss: 1.2577 \n",
            "Epoch 5/10\n",
            "\u001b[1m14/14\u001b[0m \u001b[32m━━━━━━━━━━━━━━━━━━━━\u001b[0m\u001b[37m\u001b[0m \u001b[1m0s\u001b[0m 1ms/step - accuracy: 0.7977 - loss: 1.0245 \n",
            "Epoch 6/10\n",
            "\u001b[1m14/14\u001b[0m \u001b[32m━━━━━━━━━━━━━━━━━━━━\u001b[0m\u001b[37m\u001b[0m \u001b[1m0s\u001b[0m 1ms/step - accuracy: 0.8615 - loss: 0.5642 \n",
            "Epoch 7/10\n",
            "\u001b[1m14/14\u001b[0m \u001b[32m━━━━━━━━━━━━━━━━━━━━\u001b[0m\u001b[37m\u001b[0m \u001b[1m0s\u001b[0m 1ms/step - accuracy: 0.8496 - loss: 0.5805 \n",
            "Epoch 8/10\n",
            "\u001b[1m14/14\u001b[0m \u001b[32m━━━━━━━━━━━━━━━━━━━━\u001b[0m\u001b[37m\u001b[0m \u001b[1m0s\u001b[0m 2ms/step - accuracy: 0.8537 - loss: 0.4820 \n",
            "Epoch 9/10\n",
            "\u001b[1m14/14\u001b[0m \u001b[32m━━━━━━━━━━━━━━━━━━━━\u001b[0m\u001b[37m\u001b[0m \u001b[1m0s\u001b[0m 1ms/step - accuracy: 0.8628 - loss: 0.4711 \n",
            "Epoch 10/10\n",
            "\u001b[1m14/14\u001b[0m \u001b[32m━━━━━━━━━━━━━━━━━━━━\u001b[0m\u001b[37m\u001b[0m \u001b[1m0s\u001b[0m 2ms/step - accuracy: 0.8755 - loss: 0.4017 \n",
            "\u001b[1m4/4\u001b[0m \u001b[32m━━━━━━━━━━━━━━━━━━━━\u001b[0m\u001b[37m\u001b[0m \u001b[1m0s\u001b[0m 10ms/step\n"
          ]
        }
      ],
      "source": [
        "# Definição do modelo\n",
        "input_shape = (X_train.shape[1],)  # Número de colunas do conjunto de treino\n",
        "model = tf.keras.Sequential([\n",
        "    tf.keras.layers.Dense(64, activation='relu', input_shape=input_shape),\n",
        "    tf.keras.layers.Dense(1, activation='sigmoid')\n",
        "])\n",
        "\n",
        "# Compilação e treinamento\n",
        "model.compile(optimizer='adam', loss='binary_crossentropy', metrics=['accuracy'])\n",
        "model.fit(X_train, y_train, epochs=10, batch_size=32)\n",
        "\n",
        "# Predições e métricas\n",
        "y_pred_proba = model.predict(X_test)  # Predições de probabilidade\n",
        "y_pred = (y_pred_proba > 0.5).astype(int)  # Converter para rótulos binários"
      ]
    },
    {
      "cell_type": "code",
      "execution_count": null,
      "metadata": {
        "id": "3ODggnseKz7f",
        "colab": {
          "base_uri": "https://localhost:8080/"
        },
        "outputId": "b8c5b11e-d789-47a4-8555-526e0030c6da"
      },
      "outputs": [
        {
          "output_type": "stream",
          "name": "stdout",
          "text": [
            "Acurácia: 0.87\n",
            "Precisão: 0.86\n",
            "Recall: 0.98\n",
            "F1-Score: 0.91\n"
          ]
        }
      ],
      "source": [
        "# Calculando as métricas de classificação\n",
        "accuracy = accuracy_score(y_test, y_pred)\n",
        "precision = precision_score(y_test, y_pred)\n",
        "recall = recall_score(y_test, y_pred)\n",
        "f1 = f1_score(y_test, y_pred)\n",
        "\n",
        "# Exibindo as métricas\n",
        "print(f\"Acurácia: {accuracy:.2f}\")\n",
        "print(f\"Precisão: {precision:.2f}\")\n",
        "print(f\"Recall: {recall:.2f}\")\n",
        "print(f\"F1-Score: {f1:.2f}\")"
      ]
    },
    {
      "cell_type": "code",
      "execution_count": null,
      "metadata": {
        "id": "J9qd_KVIKz7g"
      },
      "outputs": [],
      "source": [
        "model = DecisionTreeClassifier(criterion='gini', random_state=42)\n",
        "DTC = model.fit(X_train, y_train)\n",
        "\n",
        "y_pred = DTC.predict(X_test)"
      ]
    },
    {
      "cell_type": "code",
      "execution_count": null,
      "metadata": {
        "id": "Gh6hVlw9Kz7g",
        "colab": {
          "base_uri": "https://localhost:8080/"
        },
        "outputId": "3bbcb94a-ed52-4b5a-e351-a514c60e2c8f"
      },
      "outputs": [
        {
          "output_type": "stream",
          "name": "stdout",
          "text": [
            "Acurácia: 0.88\n",
            "Precisão: 0.87\n",
            "Recall: 0.98\n",
            "F1-Score: 0.92\n"
          ]
        }
      ],
      "source": [
        "# Calculando as métricas de classificação\n",
        "accuracy = accuracy_score(y_test, y_pred)\n",
        "precision = precision_score(y_test, y_pred)\n",
        "recall = recall_score(y_test, y_pred)\n",
        "f1 = f1_score(y_test, y_pred)\n",
        "\n",
        "# Exibindo as métricas\n",
        "print(f\"Acurácia: {accuracy:.2f}\")\n",
        "print(f\"Precisão: {precision:.2f}\")\n",
        "print(f\"Recall: {recall:.2f}\")\n",
        "print(f\"F1-Score: {f1:.2f}\")"
      ]
    },
    {
      "cell_type": "code",
      "execution_count": null,
      "metadata": {
        "id": "gMFxlasFKz7g",
        "colab": {
          "base_uri": "https://localhost:8080/"
        },
        "outputId": "c15af1d9-c582-4bbf-e580-07c9bc7fed3b"
      },
      "outputs": [
        {
          "output_type": "stream",
          "name": "stdout",
          "text": [
            "Epoch 1/10\n"
          ]
        },
        {
          "output_type": "stream",
          "name": "stderr",
          "text": [
            "/usr/local/lib/python3.11/dist-packages/keras/src/layers/convolutional/base_conv.py:107: UserWarning: Do not pass an `input_shape`/`input_dim` argument to a layer. When using Sequential models, prefer using an `Input(shape)` object as the first layer in the model instead.\n",
            "  super().__init__(activity_regularizer=activity_regularizer, **kwargs)\n"
          ]
        },
        {
          "output_type": "stream",
          "name": "stdout",
          "text": [
            "\u001b[1m14/14\u001b[0m \u001b[32m━━━━━━━━━━━━━━━━━━━━\u001b[0m\u001b[37m\u001b[0m \u001b[1m1s\u001b[0m 2ms/step - accuracy: 0.7682 - loss: 2.2887\n",
            "Epoch 2/10\n",
            "\u001b[1m14/14\u001b[0m \u001b[32m━━━━━━━━━━━━━━━━━━━━\u001b[0m\u001b[37m\u001b[0m \u001b[1m0s\u001b[0m 2ms/step - accuracy: 0.7638 - loss: 0.8544 \n",
            "Epoch 3/10\n",
            "\u001b[1m14/14\u001b[0m \u001b[32m━━━━━━━━━━━━━━━━━━━━\u001b[0m\u001b[37m\u001b[0m \u001b[1m0s\u001b[0m 1ms/step - accuracy: 0.7849 - loss: 0.6638 \n",
            "Epoch 4/10\n",
            "\u001b[1m14/14\u001b[0m \u001b[32m━━━━━━━━━━━━━━━━━━━━\u001b[0m\u001b[37m\u001b[0m \u001b[1m0s\u001b[0m 2ms/step - accuracy: 0.7868 - loss: 0.5233 \n",
            "Epoch 5/10\n",
            "\u001b[1m14/14\u001b[0m \u001b[32m━━━━━━━━━━━━━━━━━━━━\u001b[0m\u001b[37m\u001b[0m \u001b[1m0s\u001b[0m 2ms/step - accuracy: 0.8246 - loss: 0.4251 \n",
            "Epoch 6/10\n",
            "\u001b[1m14/14\u001b[0m \u001b[32m━━━━━━━━━━━━━━━━━━━━\u001b[0m\u001b[37m\u001b[0m \u001b[1m0s\u001b[0m 2ms/step - accuracy: 0.8401 - loss: 0.3734 \n",
            "Epoch 7/10\n",
            "\u001b[1m14/14\u001b[0m \u001b[32m━━━━━━━━━━━━━━━━━━━━\u001b[0m\u001b[37m\u001b[0m \u001b[1m0s\u001b[0m 2ms/step - accuracy: 0.8358 - loss: 0.3691 \n",
            "Epoch 8/10\n",
            "\u001b[1m14/14\u001b[0m \u001b[32m━━━━━━━━━━━━━━━━━━━━\u001b[0m\u001b[37m\u001b[0m \u001b[1m0s\u001b[0m 2ms/step - accuracy: 0.8779 - loss: 0.3165 \n",
            "Epoch 9/10\n",
            "\u001b[1m14/14\u001b[0m \u001b[32m━━━━━━━━━━━━━━━━━━━━\u001b[0m\u001b[37m\u001b[0m \u001b[1m0s\u001b[0m 2ms/step - accuracy: 0.8525 - loss: 0.3495 \n",
            "Epoch 10/10\n",
            "\u001b[1m14/14\u001b[0m \u001b[32m━━━━━━━━━━━━━━━━━━━━\u001b[0m\u001b[37m\u001b[0m \u001b[1m0s\u001b[0m 2ms/step - accuracy: 0.8540 - loss: 0.3309 \n",
            "\u001b[1m4/4\u001b[0m \u001b[32m━━━━━━━━━━━━━━━━━━━━\u001b[0m\u001b[37m\u001b[0m \u001b[1m0s\u001b[0m 26ms/step\n"
          ]
        }
      ],
      "source": [
        "# Definição do modelo Conv1D\n",
        "input_shape = (X_train.shape[1], 1)  # Número de características e 1 canal\n",
        "model = tf.keras.Sequential([\n",
        "    tf.keras.layers.Conv1D(32, kernel_size=3, activation='relu', input_shape=input_shape),\n",
        "    tf.keras.layers.Flatten(),\n",
        "    tf.keras.layers.Dense(1, activation='sigmoid')\n",
        "])\n",
        "\n",
        "# Compilação e treinamento do modelo\n",
        "model.compile(optimizer='adam', loss='binary_crossentropy', metrics=['accuracy'])\n",
        "model.fit(X_train, y_train, epochs=10, batch_size=32)\n",
        "\n",
        "# Predições e métricas\n",
        "y_pred_proba = model.predict(X_test)  # Predições de probabilidade\n",
        "y_pred = (y_pred_proba > 0.5).astype(int)  # Converter para rótulos binários"
      ]
    },
    {
      "cell_type": "code",
      "execution_count": null,
      "metadata": {
        "id": "MQ95zjrFKz7g",
        "colab": {
          "base_uri": "https://localhost:8080/"
        },
        "outputId": "6526a12f-27fb-46e2-fa1c-00dd19da7466"
      },
      "outputs": [
        {
          "output_type": "stream",
          "name": "stdout",
          "text": [
            "Acurácia: 0.87\n",
            "Precisão: 0.86\n",
            "Recall: 0.98\n",
            "F1-Score: 0.91\n"
          ]
        }
      ],
      "source": [
        "# Calculando as métricas de classificação\n",
        "accuracy = accuracy_score(y_test, y_pred)\n",
        "precision = precision_score(y_test, y_pred)\n",
        "recall = recall_score(y_test, y_pred)\n",
        "f1 = f1_score(y_test, y_pred)\n",
        "\n",
        "# Exibindo as métricas\n",
        "print(f\"Acurácia: {accuracy:.2f}\")\n",
        "print(f\"Precisão: {precision:.2f}\")\n",
        "print(f\"Recall: {recall:.2f}\")\n",
        "print(f\"F1-Score: {f1:.2f}\")"
      ]
    },
    {
      "cell_type": "code",
      "execution_count": null,
      "metadata": {
        "id": "8V8opD863OR-"
      },
      "outputs": [],
      "source": [
        "def reverse_audio(y):\n",
        "    return y[::-1]"
      ]
    },
    {
      "cell_type": "code",
      "execution_count": null,
      "metadata": {
        "id": "-Y9T3DRZ6qqI"
      },
      "outputs": [],
      "source": [
        "# Caminho para os dados no Google Drive\n",
        "output_path = '/content/drive/MyDrive/audios_FOR/amostra_FOR_invertido'\n",
        "\n",
        "# Criação das pastas de destino se não existirem\n",
        "os.makedirs(os.path.join(output_path, 'real'), exist_ok=True)\n",
        "os.makedirs(os.path.join(output_path, 'fake'), exist_ok=True)\n",
        "\n",
        "# Listas para armazenar as características e rótulos com inversão temporal\n",
        "data_reverse = []  # Dados com inversão temporal\n",
        "labels_reverse = []  # Rótulos com inversão temporal\n",
        "\n",
        "# Processar Fake\n",
        "for file_name in os.listdir(file_path_fake):\n",
        "    file_path = os.path.join(file_path_fake, file_name)\n",
        "    y, sr = librosa.load(file_path, sr=None)\n",
        "\n",
        "    # Versão original\n",
        "    features = np.mean(librosa.feature.mfcc(y=y, sr=sr, n_mfcc=13).T, axis=0)\n",
        "    data_reverse.append(features)\n",
        "    labels_reverse.append(0)  # Rótulo \"fake\"\n",
        "\n",
        "    # Aplicar inversão temporal\n",
        "    y_reversed = reverse_audio(y)  # Inversão temporal\n",
        "    features_reversed = np.mean(librosa.feature.mfcc(y=y_reversed, sr=sr, n_mfcc=13).T, axis=0)\n",
        "    data_reverse.append(features_reversed)\n",
        "    labels_reverse.append(0)  # Rótulo \"fake\"\n",
        "\n",
        "    # Salvar áudio original na pasta 'fake'\n",
        "    output_file_path = os.path.join(output_path, 'fake', file_name)\n",
        "    sf.write(output_file_path, y, sr)  # Salvando a versão original\n",
        "\n",
        "    # Salvar áudio com inversão temporal na pasta 'fake' (com sufixo \"_reversed\")\n",
        "    output_file_path_reversed = os.path.join(output_path, 'fake', file_name.replace('.wav', '_reversed.wav'))\n",
        "    sf.write(output_file_path_reversed, y_reversed, sr)  # Salvando a versão com inversão temporal\n",
        "\n",
        "# Processar Real\n",
        "for file_name in os.listdir(file_path_real):\n",
        "    file_path = os.path.join(file_path_real, file_name)\n",
        "    y, sr = librosa.load(file_path, sr=None)\n",
        "\n",
        "    # Versão original\n",
        "    features = np.mean(librosa.feature.mfcc(y=y, sr=sr, n_mfcc=13).T, axis=0)\n",
        "    data_reverse.append(features)\n",
        "    labels_reverse.append(1)  # Rótulo \"real\"\n",
        "\n",
        "    # Aplicar inversão temporal\n",
        "    y_reversed = reverse_audio(y)  # Inversão temporal\n",
        "    features_reversed = np.mean(librosa.feature.mfcc(y=y_reversed, sr=sr, n_mfcc=13).T, axis=0)\n",
        "    data_reverse.append(features_reversed)\n",
        "    labels_reverse.append(1)  # Rótulo \"real\"\n",
        "\n",
        "    # Salvar áudio original na pasta 'real'\n",
        "    output_file_path = os.path.join(output_path, 'real', file_name)\n",
        "    sf.write(output_file_path, y, sr)  # Salvando a versão original\n",
        "\n",
        "    # Salvar áudio com inversão temporal na pasta 'real' (com sufixo \"_reversed\")\n",
        "    output_file_path_reversed = os.path.join(output_path, 'real', file_name.replace('.wav', '_reversed.wav'))\n",
        "    sf.write(output_file_path_reversed, y_reversed, sr)  # Salvando a versão com inversão temporal"
      ]
    },
    {
      "cell_type": "code",
      "execution_count": null,
      "metadata": {
        "id": "Sruad_hr6yd-"
      },
      "outputs": [],
      "source": [
        "# Converter para DataFrame\n",
        "df_reverse = pd.DataFrame(data_reverse)\n",
        "df_reverse['label'] = labels_reverse"
      ]
    },
    {
      "cell_type": "code",
      "execution_count": null,
      "metadata": {
        "id": "zGdeQq3V6yd_",
        "colab": {
          "base_uri": "https://localhost:8080/"
        },
        "outputId": "87955e67-69e2-4e89-e2a5-723fc381344e"
      },
      "outputs": [
        {
          "output_type": "execute_result",
          "data": {
            "text/plain": [
              "               0           1          2          3          4          5  \\\n",
              "0    -310.484985   79.589180  12.035122  21.775892   7.463613  -4.327323   \n",
              "1    -310.286621   79.604019  12.228198  21.525486   7.665128  -4.211032   \n",
              "2    -292.760193   85.521347 -18.103905  14.233822  -1.934288  -8.300287   \n",
              "3    -293.466736   85.523239 -17.968140  14.533060  -1.766421  -8.089673   \n",
              "4    -266.020477  106.608009 -11.326435  17.970966 -11.344944   1.250991   \n",
              "...          ...         ...        ...        ...        ...        ...   \n",
              "1113 -323.835510   68.766266   4.067491  22.298380 -11.132624 -25.871218   \n",
              "1114 -312.793549   82.430946   3.129900  14.186769 -18.484079 -25.799473   \n",
              "1115 -313.387054   81.966675   3.320900  13.971745 -18.315617 -25.690226   \n",
              "1116 -432.503387   52.231987  24.130854  24.908005   5.230207  10.177417   \n",
              "1117 -432.628448   52.007023  24.240030  24.882080   5.257833  10.276168   \n",
              "\n",
              "              6          7          8          9         10         11  \\\n",
              "0      1.702638   5.056441 -11.605008  -8.825641 -12.136454  -8.166679   \n",
              "1      1.810101   5.094695 -11.634615  -8.634542 -11.995722  -8.216214   \n",
              "2    -15.360986 -14.333099  -0.524541 -12.453050  -2.744914 -14.212177   \n",
              "3    -15.009739 -14.136434  -0.515667 -12.503580  -2.912647 -14.359088   \n",
              "4     -5.587977  -6.984388  -5.437147 -10.668830   6.232262 -13.461805   \n",
              "...         ...        ...        ...        ...        ...        ...   \n",
              "1113 -23.193249 -21.572203  -9.854215  -1.073646 -23.760683   1.365065   \n",
              "1114 -17.645624 -17.211958 -12.702026  -4.227543 -22.298204   0.184280   \n",
              "1115 -17.615883 -17.059967 -12.659113  -4.083637 -22.139357   0.052236   \n",
              "1116   1.667769  11.312072  14.200116  13.155353   9.546826  18.923155   \n",
              "1117   1.710761  11.365218  14.181542  13.194204   9.546244  18.923372   \n",
              "\n",
              "             12  label  \n",
              "0     -7.886450      0  \n",
              "1     -7.915312      0  \n",
              "2      0.993812      0  \n",
              "3      0.926545      0  \n",
              "4      6.319636      0  \n",
              "...         ...    ...  \n",
              "1113 -17.567112      1  \n",
              "1114 -17.449095      1  \n",
              "1115 -17.240023      1  \n",
              "1116   7.199302      1  \n",
              "1117   7.173491      1  \n",
              "\n",
              "[1118 rows x 14 columns]"
            ],
            "text/html": [
              "\n",
              "  <div id=\"df-0bd60df1-cc85-4e8a-9dec-e74a727b3dee\" class=\"colab-df-container\">\n",
              "    <div>\n",
              "<style scoped>\n",
              "    .dataframe tbody tr th:only-of-type {\n",
              "        vertical-align: middle;\n",
              "    }\n",
              "\n",
              "    .dataframe tbody tr th {\n",
              "        vertical-align: top;\n",
              "    }\n",
              "\n",
              "    .dataframe thead th {\n",
              "        text-align: right;\n",
              "    }\n",
              "</style>\n",
              "<table border=\"1\" class=\"dataframe\">\n",
              "  <thead>\n",
              "    <tr style=\"text-align: right;\">\n",
              "      <th></th>\n",
              "      <th>0</th>\n",
              "      <th>1</th>\n",
              "      <th>2</th>\n",
              "      <th>3</th>\n",
              "      <th>4</th>\n",
              "      <th>5</th>\n",
              "      <th>6</th>\n",
              "      <th>7</th>\n",
              "      <th>8</th>\n",
              "      <th>9</th>\n",
              "      <th>10</th>\n",
              "      <th>11</th>\n",
              "      <th>12</th>\n",
              "      <th>label</th>\n",
              "    </tr>\n",
              "  </thead>\n",
              "  <tbody>\n",
              "    <tr>\n",
              "      <th>0</th>\n",
              "      <td>-310.484985</td>\n",
              "      <td>79.589180</td>\n",
              "      <td>12.035122</td>\n",
              "      <td>21.775892</td>\n",
              "      <td>7.463613</td>\n",
              "      <td>-4.327323</td>\n",
              "      <td>1.702638</td>\n",
              "      <td>5.056441</td>\n",
              "      <td>-11.605008</td>\n",
              "      <td>-8.825641</td>\n",
              "      <td>-12.136454</td>\n",
              "      <td>-8.166679</td>\n",
              "      <td>-7.886450</td>\n",
              "      <td>0</td>\n",
              "    </tr>\n",
              "    <tr>\n",
              "      <th>1</th>\n",
              "      <td>-310.286621</td>\n",
              "      <td>79.604019</td>\n",
              "      <td>12.228198</td>\n",
              "      <td>21.525486</td>\n",
              "      <td>7.665128</td>\n",
              "      <td>-4.211032</td>\n",
              "      <td>1.810101</td>\n",
              "      <td>5.094695</td>\n",
              "      <td>-11.634615</td>\n",
              "      <td>-8.634542</td>\n",
              "      <td>-11.995722</td>\n",
              "      <td>-8.216214</td>\n",
              "      <td>-7.915312</td>\n",
              "      <td>0</td>\n",
              "    </tr>\n",
              "    <tr>\n",
              "      <th>2</th>\n",
              "      <td>-292.760193</td>\n",
              "      <td>85.521347</td>\n",
              "      <td>-18.103905</td>\n",
              "      <td>14.233822</td>\n",
              "      <td>-1.934288</td>\n",
              "      <td>-8.300287</td>\n",
              "      <td>-15.360986</td>\n",
              "      <td>-14.333099</td>\n",
              "      <td>-0.524541</td>\n",
              "      <td>-12.453050</td>\n",
              "      <td>-2.744914</td>\n",
              "      <td>-14.212177</td>\n",
              "      <td>0.993812</td>\n",
              "      <td>0</td>\n",
              "    </tr>\n",
              "    <tr>\n",
              "      <th>3</th>\n",
              "      <td>-293.466736</td>\n",
              "      <td>85.523239</td>\n",
              "      <td>-17.968140</td>\n",
              "      <td>14.533060</td>\n",
              "      <td>-1.766421</td>\n",
              "      <td>-8.089673</td>\n",
              "      <td>-15.009739</td>\n",
              "      <td>-14.136434</td>\n",
              "      <td>-0.515667</td>\n",
              "      <td>-12.503580</td>\n",
              "      <td>-2.912647</td>\n",
              "      <td>-14.359088</td>\n",
              "      <td>0.926545</td>\n",
              "      <td>0</td>\n",
              "    </tr>\n",
              "    <tr>\n",
              "      <th>4</th>\n",
              "      <td>-266.020477</td>\n",
              "      <td>106.608009</td>\n",
              "      <td>-11.326435</td>\n",
              "      <td>17.970966</td>\n",
              "      <td>-11.344944</td>\n",
              "      <td>1.250991</td>\n",
              "      <td>-5.587977</td>\n",
              "      <td>-6.984388</td>\n",
              "      <td>-5.437147</td>\n",
              "      <td>-10.668830</td>\n",
              "      <td>6.232262</td>\n",
              "      <td>-13.461805</td>\n",
              "      <td>6.319636</td>\n",
              "      <td>0</td>\n",
              "    </tr>\n",
              "    <tr>\n",
              "      <th>...</th>\n",
              "      <td>...</td>\n",
              "      <td>...</td>\n",
              "      <td>...</td>\n",
              "      <td>...</td>\n",
              "      <td>...</td>\n",
              "      <td>...</td>\n",
              "      <td>...</td>\n",
              "      <td>...</td>\n",
              "      <td>...</td>\n",
              "      <td>...</td>\n",
              "      <td>...</td>\n",
              "      <td>...</td>\n",
              "      <td>...</td>\n",
              "      <td>...</td>\n",
              "    </tr>\n",
              "    <tr>\n",
              "      <th>1113</th>\n",
              "      <td>-323.835510</td>\n",
              "      <td>68.766266</td>\n",
              "      <td>4.067491</td>\n",
              "      <td>22.298380</td>\n",
              "      <td>-11.132624</td>\n",
              "      <td>-25.871218</td>\n",
              "      <td>-23.193249</td>\n",
              "      <td>-21.572203</td>\n",
              "      <td>-9.854215</td>\n",
              "      <td>-1.073646</td>\n",
              "      <td>-23.760683</td>\n",
              "      <td>1.365065</td>\n",
              "      <td>-17.567112</td>\n",
              "      <td>1</td>\n",
              "    </tr>\n",
              "    <tr>\n",
              "      <th>1114</th>\n",
              "      <td>-312.793549</td>\n",
              "      <td>82.430946</td>\n",
              "      <td>3.129900</td>\n",
              "      <td>14.186769</td>\n",
              "      <td>-18.484079</td>\n",
              "      <td>-25.799473</td>\n",
              "      <td>-17.645624</td>\n",
              "      <td>-17.211958</td>\n",
              "      <td>-12.702026</td>\n",
              "      <td>-4.227543</td>\n",
              "      <td>-22.298204</td>\n",
              "      <td>0.184280</td>\n",
              "      <td>-17.449095</td>\n",
              "      <td>1</td>\n",
              "    </tr>\n",
              "    <tr>\n",
              "      <th>1115</th>\n",
              "      <td>-313.387054</td>\n",
              "      <td>81.966675</td>\n",
              "      <td>3.320900</td>\n",
              "      <td>13.971745</td>\n",
              "      <td>-18.315617</td>\n",
              "      <td>-25.690226</td>\n",
              "      <td>-17.615883</td>\n",
              "      <td>-17.059967</td>\n",
              "      <td>-12.659113</td>\n",
              "      <td>-4.083637</td>\n",
              "      <td>-22.139357</td>\n",
              "      <td>0.052236</td>\n",
              "      <td>-17.240023</td>\n",
              "      <td>1</td>\n",
              "    </tr>\n",
              "    <tr>\n",
              "      <th>1116</th>\n",
              "      <td>-432.503387</td>\n",
              "      <td>52.231987</td>\n",
              "      <td>24.130854</td>\n",
              "      <td>24.908005</td>\n",
              "      <td>5.230207</td>\n",
              "      <td>10.177417</td>\n",
              "      <td>1.667769</td>\n",
              "      <td>11.312072</td>\n",
              "      <td>14.200116</td>\n",
              "      <td>13.155353</td>\n",
              "      <td>9.546826</td>\n",
              "      <td>18.923155</td>\n",
              "      <td>7.199302</td>\n",
              "      <td>1</td>\n",
              "    </tr>\n",
              "    <tr>\n",
              "      <th>1117</th>\n",
              "      <td>-432.628448</td>\n",
              "      <td>52.007023</td>\n",
              "      <td>24.240030</td>\n",
              "      <td>24.882080</td>\n",
              "      <td>5.257833</td>\n",
              "      <td>10.276168</td>\n",
              "      <td>1.710761</td>\n",
              "      <td>11.365218</td>\n",
              "      <td>14.181542</td>\n",
              "      <td>13.194204</td>\n",
              "      <td>9.546244</td>\n",
              "      <td>18.923372</td>\n",
              "      <td>7.173491</td>\n",
              "      <td>1</td>\n",
              "    </tr>\n",
              "  </tbody>\n",
              "</table>\n",
              "<p>1118 rows × 14 columns</p>\n",
              "</div>\n",
              "    <div class=\"colab-df-buttons\">\n",
              "\n",
              "  <div class=\"colab-df-container\">\n",
              "    <button class=\"colab-df-convert\" onclick=\"convertToInteractive('df-0bd60df1-cc85-4e8a-9dec-e74a727b3dee')\"\n",
              "            title=\"Convert this dataframe to an interactive table.\"\n",
              "            style=\"display:none;\">\n",
              "\n",
              "  <svg xmlns=\"http://www.w3.org/2000/svg\" height=\"24px\" viewBox=\"0 -960 960 960\">\n",
              "    <path d=\"M120-120v-720h720v720H120Zm60-500h600v-160H180v160Zm220 220h160v-160H400v160Zm0 220h160v-160H400v160ZM180-400h160v-160H180v160Zm440 0h160v-160H620v160ZM180-180h160v-160H180v160Zm440 0h160v-160H620v160Z\"/>\n",
              "  </svg>\n",
              "    </button>\n",
              "\n",
              "  <style>\n",
              "    .colab-df-container {\n",
              "      display:flex;\n",
              "      gap: 12px;\n",
              "    }\n",
              "\n",
              "    .colab-df-convert {\n",
              "      background-color: #E8F0FE;\n",
              "      border: none;\n",
              "      border-radius: 50%;\n",
              "      cursor: pointer;\n",
              "      display: none;\n",
              "      fill: #1967D2;\n",
              "      height: 32px;\n",
              "      padding: 0 0 0 0;\n",
              "      width: 32px;\n",
              "    }\n",
              "\n",
              "    .colab-df-convert:hover {\n",
              "      background-color: #E2EBFA;\n",
              "      box-shadow: 0px 1px 2px rgba(60, 64, 67, 0.3), 0px 1px 3px 1px rgba(60, 64, 67, 0.15);\n",
              "      fill: #174EA6;\n",
              "    }\n",
              "\n",
              "    .colab-df-buttons div {\n",
              "      margin-bottom: 4px;\n",
              "    }\n",
              "\n",
              "    [theme=dark] .colab-df-convert {\n",
              "      background-color: #3B4455;\n",
              "      fill: #D2E3FC;\n",
              "    }\n",
              "\n",
              "    [theme=dark] .colab-df-convert:hover {\n",
              "      background-color: #434B5C;\n",
              "      box-shadow: 0px 1px 3px 1px rgba(0, 0, 0, 0.15);\n",
              "      filter: drop-shadow(0px 1px 2px rgba(0, 0, 0, 0.3));\n",
              "      fill: #FFFFFF;\n",
              "    }\n",
              "  </style>\n",
              "\n",
              "    <script>\n",
              "      const buttonEl =\n",
              "        document.querySelector('#df-0bd60df1-cc85-4e8a-9dec-e74a727b3dee button.colab-df-convert');\n",
              "      buttonEl.style.display =\n",
              "        google.colab.kernel.accessAllowed ? 'block' : 'none';\n",
              "\n",
              "      async function convertToInteractive(key) {\n",
              "        const element = document.querySelector('#df-0bd60df1-cc85-4e8a-9dec-e74a727b3dee');\n",
              "        const dataTable =\n",
              "          await google.colab.kernel.invokeFunction('convertToInteractive',\n",
              "                                                    [key], {});\n",
              "        if (!dataTable) return;\n",
              "\n",
              "        const docLinkHtml = 'Like what you see? Visit the ' +\n",
              "          '<a target=\"_blank\" href=https://colab.research.google.com/notebooks/data_table.ipynb>data table notebook</a>'\n",
              "          + ' to learn more about interactive tables.';\n",
              "        element.innerHTML = '';\n",
              "        dataTable['output_type'] = 'display_data';\n",
              "        await google.colab.output.renderOutput(dataTable, element);\n",
              "        const docLink = document.createElement('div');\n",
              "        docLink.innerHTML = docLinkHtml;\n",
              "        element.appendChild(docLink);\n",
              "      }\n",
              "    </script>\n",
              "  </div>\n",
              "\n",
              "\n",
              "<div id=\"df-9e633e4d-95f3-4d07-9ab9-4114335adfd3\">\n",
              "  <button class=\"colab-df-quickchart\" onclick=\"quickchart('df-9e633e4d-95f3-4d07-9ab9-4114335adfd3')\"\n",
              "            title=\"Suggest charts\"\n",
              "            style=\"display:none;\">\n",
              "\n",
              "<svg xmlns=\"http://www.w3.org/2000/svg\" height=\"24px\"viewBox=\"0 0 24 24\"\n",
              "     width=\"24px\">\n",
              "    <g>\n",
              "        <path d=\"M19 3H5c-1.1 0-2 .9-2 2v14c0 1.1.9 2 2 2h14c1.1 0 2-.9 2-2V5c0-1.1-.9-2-2-2zM9 17H7v-7h2v7zm4 0h-2V7h2v10zm4 0h-2v-4h2v4z\"/>\n",
              "    </g>\n",
              "</svg>\n",
              "  </button>\n",
              "\n",
              "<style>\n",
              "  .colab-df-quickchart {\n",
              "      --bg-color: #E8F0FE;\n",
              "      --fill-color: #1967D2;\n",
              "      --hover-bg-color: #E2EBFA;\n",
              "      --hover-fill-color: #174EA6;\n",
              "      --disabled-fill-color: #AAA;\n",
              "      --disabled-bg-color: #DDD;\n",
              "  }\n",
              "\n",
              "  [theme=dark] .colab-df-quickchart {\n",
              "      --bg-color: #3B4455;\n",
              "      --fill-color: #D2E3FC;\n",
              "      --hover-bg-color: #434B5C;\n",
              "      --hover-fill-color: #FFFFFF;\n",
              "      --disabled-bg-color: #3B4455;\n",
              "      --disabled-fill-color: #666;\n",
              "  }\n",
              "\n",
              "  .colab-df-quickchart {\n",
              "    background-color: var(--bg-color);\n",
              "    border: none;\n",
              "    border-radius: 50%;\n",
              "    cursor: pointer;\n",
              "    display: none;\n",
              "    fill: var(--fill-color);\n",
              "    height: 32px;\n",
              "    padding: 0;\n",
              "    width: 32px;\n",
              "  }\n",
              "\n",
              "  .colab-df-quickchart:hover {\n",
              "    background-color: var(--hover-bg-color);\n",
              "    box-shadow: 0 1px 2px rgba(60, 64, 67, 0.3), 0 1px 3px 1px rgba(60, 64, 67, 0.15);\n",
              "    fill: var(--button-hover-fill-color);\n",
              "  }\n",
              "\n",
              "  .colab-df-quickchart-complete:disabled,\n",
              "  .colab-df-quickchart-complete:disabled:hover {\n",
              "    background-color: var(--disabled-bg-color);\n",
              "    fill: var(--disabled-fill-color);\n",
              "    box-shadow: none;\n",
              "  }\n",
              "\n",
              "  .colab-df-spinner {\n",
              "    border: 2px solid var(--fill-color);\n",
              "    border-color: transparent;\n",
              "    border-bottom-color: var(--fill-color);\n",
              "    animation:\n",
              "      spin 1s steps(1) infinite;\n",
              "  }\n",
              "\n",
              "  @keyframes spin {\n",
              "    0% {\n",
              "      border-color: transparent;\n",
              "      border-bottom-color: var(--fill-color);\n",
              "      border-left-color: var(--fill-color);\n",
              "    }\n",
              "    20% {\n",
              "      border-color: transparent;\n",
              "      border-left-color: var(--fill-color);\n",
              "      border-top-color: var(--fill-color);\n",
              "    }\n",
              "    30% {\n",
              "      border-color: transparent;\n",
              "      border-left-color: var(--fill-color);\n",
              "      border-top-color: var(--fill-color);\n",
              "      border-right-color: var(--fill-color);\n",
              "    }\n",
              "    40% {\n",
              "      border-color: transparent;\n",
              "      border-right-color: var(--fill-color);\n",
              "      border-top-color: var(--fill-color);\n",
              "    }\n",
              "    60% {\n",
              "      border-color: transparent;\n",
              "      border-right-color: var(--fill-color);\n",
              "    }\n",
              "    80% {\n",
              "      border-color: transparent;\n",
              "      border-right-color: var(--fill-color);\n",
              "      border-bottom-color: var(--fill-color);\n",
              "    }\n",
              "    90% {\n",
              "      border-color: transparent;\n",
              "      border-bottom-color: var(--fill-color);\n",
              "    }\n",
              "  }\n",
              "</style>\n",
              "\n",
              "  <script>\n",
              "    async function quickchart(key) {\n",
              "      const quickchartButtonEl =\n",
              "        document.querySelector('#' + key + ' button');\n",
              "      quickchartButtonEl.disabled = true;  // To prevent multiple clicks.\n",
              "      quickchartButtonEl.classList.add('colab-df-spinner');\n",
              "      try {\n",
              "        const charts = await google.colab.kernel.invokeFunction(\n",
              "            'suggestCharts', [key], {});\n",
              "      } catch (error) {\n",
              "        console.error('Error during call to suggestCharts:', error);\n",
              "      }\n",
              "      quickchartButtonEl.classList.remove('colab-df-spinner');\n",
              "      quickchartButtonEl.classList.add('colab-df-quickchart-complete');\n",
              "    }\n",
              "    (() => {\n",
              "      let quickchartButtonEl =\n",
              "        document.querySelector('#df-9e633e4d-95f3-4d07-9ab9-4114335adfd3 button');\n",
              "      quickchartButtonEl.style.display =\n",
              "        google.colab.kernel.accessAllowed ? 'block' : 'none';\n",
              "    })();\n",
              "  </script>\n",
              "</div>\n",
              "\n",
              "  <div id=\"id_fbd9e58a-55cf-4bc7-a42f-ee152af7fc02\">\n",
              "    <style>\n",
              "      .colab-df-generate {\n",
              "        background-color: #E8F0FE;\n",
              "        border: none;\n",
              "        border-radius: 50%;\n",
              "        cursor: pointer;\n",
              "        display: none;\n",
              "        fill: #1967D2;\n",
              "        height: 32px;\n",
              "        padding: 0 0 0 0;\n",
              "        width: 32px;\n",
              "      }\n",
              "\n",
              "      .colab-df-generate:hover {\n",
              "        background-color: #E2EBFA;\n",
              "        box-shadow: 0px 1px 2px rgba(60, 64, 67, 0.3), 0px 1px 3px 1px rgba(60, 64, 67, 0.15);\n",
              "        fill: #174EA6;\n",
              "      }\n",
              "\n",
              "      [theme=dark] .colab-df-generate {\n",
              "        background-color: #3B4455;\n",
              "        fill: #D2E3FC;\n",
              "      }\n",
              "\n",
              "      [theme=dark] .colab-df-generate:hover {\n",
              "        background-color: #434B5C;\n",
              "        box-shadow: 0px 1px 3px 1px rgba(0, 0, 0, 0.15);\n",
              "        filter: drop-shadow(0px 1px 2px rgba(0, 0, 0, 0.3));\n",
              "        fill: #FFFFFF;\n",
              "      }\n",
              "    </style>\n",
              "    <button class=\"colab-df-generate\" onclick=\"generateWithVariable('df_reverse')\"\n",
              "            title=\"Generate code using this dataframe.\"\n",
              "            style=\"display:none;\">\n",
              "\n",
              "  <svg xmlns=\"http://www.w3.org/2000/svg\" height=\"24px\"viewBox=\"0 0 24 24\"\n",
              "       width=\"24px\">\n",
              "    <path d=\"M7,19H8.4L18.45,9,17,7.55,7,17.6ZM5,21V16.75L18.45,3.32a2,2,0,0,1,2.83,0l1.4,1.43a1.91,1.91,0,0,1,.58,1.4,1.91,1.91,0,0,1-.58,1.4L9.25,21ZM18.45,9,17,7.55Zm-12,3A5.31,5.31,0,0,0,4.9,8.1,5.31,5.31,0,0,0,1,6.5,5.31,5.31,0,0,0,4.9,4.9,5.31,5.31,0,0,0,6.5,1,5.31,5.31,0,0,0,8.1,4.9,5.31,5.31,0,0,0,12,6.5,5.46,5.46,0,0,0,6.5,12Z\"/>\n",
              "  </svg>\n",
              "    </button>\n",
              "    <script>\n",
              "      (() => {\n",
              "      const buttonEl =\n",
              "        document.querySelector('#id_fbd9e58a-55cf-4bc7-a42f-ee152af7fc02 button.colab-df-generate');\n",
              "      buttonEl.style.display =\n",
              "        google.colab.kernel.accessAllowed ? 'block' : 'none';\n",
              "\n",
              "      buttonEl.onclick = () => {\n",
              "        google.colab.notebook.generateWithVariable('df_reverse');\n",
              "      }\n",
              "      })();\n",
              "    </script>\n",
              "  </div>\n",
              "\n",
              "    </div>\n",
              "  </div>\n"
            ],
            "application/vnd.google.colaboratory.intrinsic+json": {
              "type": "dataframe",
              "variable_name": "df_reverse",
              "summary": "{\n  \"name\": \"df_reverse\",\n  \"rows\": 1118,\n  \"fields\": [\n    {\n      \"column\": 0,\n      \"properties\": {\n        \"dtype\": \"float32\",\n        \"num_unique_values\": 1117,\n        \"samples\": [\n          -298.41522216796875,\n          -440.5819091796875,\n          -307.13262939453125\n        ],\n        \"semantic_type\": \"\",\n        \"description\": \"\"\n      }\n    },\n    {\n      \"column\": 1,\n      \"properties\": {\n        \"dtype\": \"float32\",\n        \"num_unique_values\": 1116,\n        \"samples\": [\n          105.52471923828125,\n          58.81452560424805,\n          79.54441833496094\n        ],\n        \"semantic_type\": \"\",\n        \"description\": \"\"\n      }\n    },\n    {\n      \"column\": 2,\n      \"properties\": {\n        \"dtype\": \"float32\",\n        \"num_unique_values\": 1118,\n        \"samples\": [\n          28.55781364440918,\n          16.05328369140625,\n          -13.983827590942383\n        ],\n        \"semantic_type\": \"\",\n        \"description\": \"\"\n      }\n    },\n    {\n      \"column\": 3,\n      \"properties\": {\n        \"dtype\": \"float32\",\n        \"num_unique_values\": 1117,\n        \"samples\": [\n          39.221435546875,\n          30.7591495513916,\n          22.973648071289062\n        ],\n        \"semantic_type\": \"\",\n        \"description\": \"\"\n      }\n    },\n    {\n      \"column\": 4,\n      \"properties\": {\n        \"dtype\": \"float32\",\n        \"num_unique_values\": 1117,\n        \"samples\": [\n          1.4431376457214355,\n          4.036442756652832,\n          -22.853727340698242\n        ],\n        \"semantic_type\": \"\",\n        \"description\": \"\"\n      }\n    },\n    {\n      \"column\": 5,\n      \"properties\": {\n        \"dtype\": \"float32\",\n        \"num_unique_values\": 1118,\n        \"samples\": [\n          9.617497444152832,\n          2.425623655319214,\n          -16.439733505249023\n        ],\n        \"semantic_type\": \"\",\n        \"description\": \"\"\n      }\n    },\n    {\n      \"column\": 6,\n      \"properties\": {\n        \"dtype\": \"float32\",\n        \"num_unique_values\": 1118,\n        \"samples\": [\n          -9.376884460449219,\n          0.5575907826423645,\n          -15.124075889587402\n        ],\n        \"semantic_type\": \"\",\n        \"description\": \"\"\n      }\n    },\n    {\n      \"column\": 7,\n      \"properties\": {\n        \"dtype\": \"float32\",\n        \"num_unique_values\": 1117,\n        \"samples\": [\n          19.814668655395508,\n          1.9007967710494995,\n          -32.77073287963867\n        ],\n        \"semantic_type\": \"\",\n        \"description\": \"\"\n      }\n    },\n    {\n      \"column\": 8,\n      \"properties\": {\n        \"dtype\": \"float32\",\n        \"num_unique_values\": 1117,\n        \"samples\": [\n          -1.9463460445404053,\n          -8.942717552185059,\n          -18.236812591552734\n        ],\n        \"semantic_type\": \"\",\n        \"description\": \"\"\n      }\n    },\n    {\n      \"column\": 9,\n      \"properties\": {\n        \"dtype\": \"float32\",\n        \"num_unique_values\": 1116,\n        \"samples\": [\n          10.57196044921875,\n          3.2968709468841553,\n          -2.74056339263916\n        ],\n        \"semantic_type\": \"\",\n        \"description\": \"\"\n      }\n    },\n    {\n      \"column\": 10,\n      \"properties\": {\n        \"dtype\": \"float32\",\n        \"num_unique_values\": 1117,\n        \"samples\": [\n          -5.02798318862915,\n          -5.42944860458374,\n          -23.119354248046875\n        ],\n        \"semantic_type\": \"\",\n        \"description\": \"\"\n      }\n    },\n    {\n      \"column\": 11,\n      \"properties\": {\n        \"dtype\": \"float32\",\n        \"num_unique_values\": 1117,\n        \"samples\": [\n          9.525798797607422,\n          5.417632579803467,\n          -5.88610315322876\n        ],\n        \"semantic_type\": \"\",\n        \"description\": \"\"\n      }\n    },\n    {\n      \"column\": 12,\n      \"properties\": {\n        \"dtype\": \"float32\",\n        \"num_unique_values\": 1116,\n        \"samples\": [\n          4.522226333618164,\n          -12.192927360534668,\n          -20.08979034423828\n        ],\n        \"semantic_type\": \"\",\n        \"description\": \"\"\n      }\n    },\n    {\n      \"column\": \"label\",\n      \"properties\": {\n        \"dtype\": \"number\",\n        \"std\": 0,\n        \"min\": 0,\n        \"max\": 1,\n        \"num_unique_values\": 2,\n        \"samples\": [\n          1,\n          0\n        ],\n        \"semantic_type\": \"\",\n        \"description\": \"\"\n      }\n    }\n  ]\n}"
            }
          },
          "metadata": {},
          "execution_count": 151
        }
      ],
      "source": [
        "df_reverse"
      ]
    },
    {
      "cell_type": "code",
      "execution_count": null,
      "metadata": {
        "id": "4pi2eq9q__8T",
        "colab": {
          "base_uri": "https://localhost:8080/",
          "height": 569
        },
        "outputId": "72d4ae83-b1b2-4ec2-cff3-b4acc005e8a5"
      },
      "outputs": [
        {
          "output_type": "display_data",
          "data": {
            "text/plain": [
              "<Figure size 1000x600 with 1 Axes>"
            ],
            "image/png": "[encoded data removed]"
          },
          "metadata": {}
        }
      ],
      "source": [
        "# Contar as ocorrências de cada label\n",
        "label_counts = [labels_reverse.count(0), labels_reverse.count(1)]\n",
        "\n",
        "# Plotando o gráfico\n",
        "plt.figure(figsize=(10, 6))  # Ajuste do tamanho do gráfico\n",
        "plt.bar([0, 1], label_counts, tick_label=['Fake', 'Real'], color=['#1f77b4', '#ff7f0e'])\n",
        "\n",
        "# Adicionando rótulos e título\n",
        "plt.xlabel('Tipo dos Áudios')\n",
        "plt.ylabel('Quantidade')\n",
        "plt.title('Balanço de Áudios Reais e Fakes')\n",
        "plt.show()"
      ]
    },
    {
      "cell_type": "code",
      "execution_count": null,
      "metadata": {
        "id": "DlDDROFa6yeA"
      },
      "outputs": [],
      "source": [
        "# Separar características (X) e rótulos (y)\n",
        "X = df_reverse.drop(columns=['label'])\n",
        "y = df_reverse['label']\n",
        "\n",
        "# Dividir em treino e teste\n",
        "X_train, X_test, y_train, y_test = train_test_split(X, y, test_size=0.2, random_state=42)"
      ]
    },
    {
      "cell_type": "code",
      "execution_count": null,
      "metadata": {
        "id": "nb9_cq7CK7JU",
        "colab": {
          "base_uri": "https://localhost:8080/"
        },
        "outputId": "0f046660-4626-4a94-a3d7-718d42199369"
      },
      "outputs": [
        {
          "output_type": "stream",
          "name": "stdout",
          "text": [
            "Epoch 1/10\n"
          ]
        },
        {
          "output_type": "stream",
          "name": "stderr",
          "text": [
            "/usr/local/lib/python3.11/dist-packages/keras/src/layers/core/dense.py:87: UserWarning: Do not pass an `input_shape`/`input_dim` argument to a layer. When using Sequential models, prefer using an `Input(shape)` object as the first layer in the model instead.\n",
            "  super().__init__(activity_regularizer=activity_regularizer, **kwargs)\n"
          ]
        },
        {
          "output_type": "stream",
          "name": "stdout",
          "text": [
            "\u001b[1m28/28\u001b[0m \u001b[32m━━━━━━━━━━━━━━━━━━━━\u001b[0m\u001b[37m\u001b[0m \u001b[1m2s\u001b[0m 2ms/step - accuracy: 0.4441 - loss: 10.6166\n",
            "Epoch 2/10\n",
            "\u001b[1m28/28\u001b[0m \u001b[32m━━━━━━━━━━━━━━━━━━━━\u001b[0m\u001b[37m\u001b[0m \u001b[1m0s\u001b[0m 2ms/step - accuracy: 0.7586 - loss: 2.9196\n",
            "Epoch 3/10\n",
            "\u001b[1m28/28\u001b[0m \u001b[32m━━━━━━━━━━━━━━━━━━━━\u001b[0m\u001b[37m\u001b[0m \u001b[1m0s\u001b[0m 2ms/step - accuracy: 0.7640 - loss: 1.6418 \n",
            "Epoch 4/10\n",
            "\u001b[1m28/28\u001b[0m \u001b[32m━━━━━━━━━━━━━━━━━━━━\u001b[0m\u001b[37m\u001b[0m \u001b[1m0s\u001b[0m 2ms/step - accuracy: 0.7656 - loss: 1.1676\n",
            "Epoch 5/10\n",
            "\u001b[1m28/28\u001b[0m \u001b[32m━━━━━━━━━━━━━━━━━━━━\u001b[0m\u001b[37m\u001b[0m \u001b[1m0s\u001b[0m 3ms/step - accuracy: 0.7991 - loss: 0.8644\n",
            "Epoch 6/10\n",
            "\u001b[1m28/28\u001b[0m \u001b[32m━━━━━━━━━━━━━━━━━━━━\u001b[0m\u001b[37m\u001b[0m \u001b[1m0s\u001b[0m 2ms/step - accuracy: 0.8152 - loss: 0.6535\n",
            "Epoch 7/10\n",
            "\u001b[1m28/28\u001b[0m \u001b[32m━━━━━━━━━━━━━━━━━━━━\u001b[0m\u001b[37m\u001b[0m \u001b[1m0s\u001b[0m 2ms/step - accuracy: 0.8161 - loss: 0.5106\n",
            "Epoch 8/10\n",
            "\u001b[1m28/28\u001b[0m \u001b[32m━━━━━━━━━━━━━━━━━━━━\u001b[0m\u001b[37m\u001b[0m \u001b[1m0s\u001b[0m 2ms/step - accuracy: 0.8399 - loss: 0.3883\n",
            "Epoch 9/10\n",
            "\u001b[1m28/28\u001b[0m \u001b[32m━━━━━━━━━━━━━━━━━━━━\u001b[0m\u001b[37m\u001b[0m \u001b[1m0s\u001b[0m 2ms/step - accuracy: 0.8409 - loss: 0.4082\n",
            "Epoch 10/10\n",
            "\u001b[1m28/28\u001b[0m \u001b[32m━━━━━━━━━━━━━━━━━━━━\u001b[0m\u001b[37m\u001b[0m \u001b[1m0s\u001b[0m 3ms/step - accuracy: 0.8452 - loss: 0.3383\n",
            "\u001b[1m7/7\u001b[0m \u001b[32m━━━━━━━━━━━━━━━━━━━━\u001b[0m\u001b[37m\u001b[0m \u001b[1m0s\u001b[0m 3ms/step \n"
          ]
        }
      ],
      "source": [
        "# Definição do modelo DNN\n",
        "model = tf.keras.Sequential([\n",
        "    tf.keras.layers.Dense(64, activation='relu', input_shape=(X_train.shape[1],)),\n",
        "    tf.keras.layers.Dense(1, activation='sigmoid')\n",
        "])\n",
        "\n",
        "# Compilação e treinamento do modelo\n",
        "model.compile(optimizer='adam', loss='binary_crossentropy', metrics=['accuracy'])\n",
        "model.fit(X_train, y_train, epochs=10, batch_size=32)\n",
        "\n",
        "# Predições e métricas\n",
        "y_pred_proba = model.predict(X_test)  # Predições de probabilidade\n",
        "y_pred = (y_pred_proba > 0.5).astype(int)  # Converter para rótulos binários"
      ]
    },
    {
      "cell_type": "code",
      "execution_count": null,
      "metadata": {
        "id": "TFxYBkO2K7JW",
        "colab": {
          "base_uri": "https://localhost:8080/"
        },
        "outputId": "4f7798a1-2621-48c4-a58e-d0bf9e0d8ae2"
      },
      "outputs": [
        {
          "output_type": "stream",
          "name": "stdout",
          "text": [
            "Acurácia: 0.85\n",
            "Precisão: 0.85\n",
            "Recall: 0.98\n",
            "F1-Score: 0.91\n"
          ]
        }
      ],
      "source": [
        "# Calculando as métricas de classificação\n",
        "accuracy = accuracy_score(y_test, y_pred)\n",
        "precision = precision_score(y_test, y_pred)\n",
        "recall = recall_score(y_test, y_pred)\n",
        "f1 = f1_score(y_test, y_pred)\n",
        "\n",
        "# Exibindo as métricas\n",
        "print(f\"Acurácia: {accuracy:.2f}\")\n",
        "print(f\"Precisão: {precision:.2f}\")\n",
        "print(f\"Recall: {recall:.2f}\")\n",
        "print(f\"F1-Score: {f1:.2f}\")"
      ]
    },
    {
      "cell_type": "code",
      "execution_count": null,
      "metadata": {
        "id": "wnRoc06SK7JZ"
      },
      "outputs": [],
      "source": [
        "# Treinando um modelo de regressão linear\n",
        "model = RandomForestClassifier()\n",
        "rfc = model.fit(X_train, y_train)\n",
        "\n",
        "# Fazendo previsões no conjunto de teste\n",
        "y_pred = rfc.predict(X_test)"
      ]
    },
    {
      "cell_type": "code",
      "execution_count": null,
      "metadata": {
        "id": "faYiPaiIK7Ja",
        "colab": {
          "base_uri": "https://localhost:8080/"
        },
        "outputId": "099af5cb-6413-4584-e71e-39d43d40fcd3"
      },
      "outputs": [
        {
          "output_type": "stream",
          "name": "stdout",
          "text": [
            "Acurácia: 0.97\n",
            "Precisão: 0.97\n",
            "Recall: 1.00\n",
            "F1-Score: 0.98\n"
          ]
        }
      ],
      "source": [
        "# Calculando as métricas de classificação\n",
        "accuracy = accuracy_score(y_test, y_pred)\n",
        "precision = precision_score(y_test, y_pred)\n",
        "recall = recall_score(y_test, y_pred)\n",
        "f1 = f1_score(y_test, y_pred)\n",
        "\n",
        "# Exibindo as métricas\n",
        "print(f\"Acurácia: {accuracy:.2f}\")\n",
        "print(f\"Precisão: {precision:.2f}\")\n",
        "print(f\"Recall: {recall:.2f}\")\n",
        "print(f\"F1-Score: {f1:.2f}\")"
      ]
    },
    {
      "cell_type": "code",
      "execution_count": null,
      "metadata": {
        "id": "p84SGwVzK7Jb"
      },
      "outputs": [],
      "source": [
        "# Treinando um modelo knc\n",
        "model = KNeighborsClassifier()\n",
        "knc = model.fit(X_train,y_train)\n",
        "\n",
        "# Fazendo previsões no conjunto de teste\n",
        "y_pred = knc.predict(X_test)"
      ]
    },
    {
      "cell_type": "code",
      "execution_count": null,
      "metadata": {
        "id": "vWezsn_iK7Jc",
        "colab": {
          "base_uri": "https://localhost:8080/"
        },
        "outputId": "2771a468-627e-4c1e-db5b-8231e3ca29cc"
      },
      "outputs": [
        {
          "output_type": "stream",
          "name": "stdout",
          "text": [
            "Acurácia: 0.92\n",
            "Precisão: 0.94\n",
            "Recall: 0.95\n",
            "F1-Score: 0.95\n"
          ]
        }
      ],
      "source": [
        "# Calculando as métricas de classificação\n",
        "accuracy = accuracy_score(y_test, y_pred)\n",
        "precision = precision_score(y_test, y_pred)\n",
        "recall = recall_score(y_test, y_pred)\n",
        "f1 = f1_score(y_test, y_pred)\n",
        "\n",
        "# Exibindo as métricas\n",
        "print(f\"Acurácia: {accuracy:.2f}\")\n",
        "print(f\"Precisão: {precision:.2f}\")\n",
        "print(f\"Recall: {recall:.2f}\")\n",
        "print(f\"F1-Score: {f1:.2f}\")"
      ]
    },
    {
      "cell_type": "code",
      "execution_count": null,
      "metadata": {
        "id": "yPRrKGRpK7Jd"
      },
      "outputs": [],
      "source": [
        "model = XGBClassifier()\n",
        "xgb = model.fit(X_train, y_train)\n",
        "\n",
        "# Fazendo previsões no conjunto de teste\n",
        "y_pred = xgb.predict(X_test)"
      ]
    },
    {
      "cell_type": "code",
      "execution_count": null,
      "metadata": {
        "id": "MoHQuYJMK7Je",
        "colab": {
          "base_uri": "https://localhost:8080/"
        },
        "outputId": "4d9e226c-b1af-4741-9989-47e7fbdb1f5d"
      },
      "outputs": [
        {
          "output_type": "stream",
          "name": "stdout",
          "text": [
            "Acurácia: 0.96\n",
            "Precisão: 0.97\n",
            "Recall: 0.98\n",
            "F1-Score: 0.97\n"
          ]
        }
      ],
      "source": [
        "# Calculando as métricas de classificação\n",
        "accuracy = accuracy_score(y_test, y_pred)\n",
        "precision = precision_score(y_test, y_pred)\n",
        "recall = recall_score(y_test, y_pred)\n",
        "f1 = f1_score(y_test, y_pred)\n",
        "\n",
        "# Exibindo as métricas\n",
        "print(f\"Acurácia: {accuracy:.2f}\")\n",
        "print(f\"Precisão: {precision:.2f}\")\n",
        "print(f\"Recall: {recall:.2f}\")\n",
        "print(f\"F1-Score: {f1:.2f}\")"
      ]
    },
    {
      "cell_type": "code",
      "execution_count": null,
      "metadata": {
        "id": "wPnmT-KsK7Je",
        "colab": {
          "base_uri": "https://localhost:8080/"
        },
        "outputId": "ae2c409b-96f0-4f56-ddfa-f063b75dbfff"
      },
      "outputs": [
        {
          "output_type": "stream",
          "name": "stdout",
          "text": [
            "[LightGBM] [Info] Number of positive: 720, number of negative: 174\n",
            "[LightGBM] [Info] Auto-choosing col-wise multi-threading, the overhead of testing was 0.000326 seconds.\n",
            "You can set `force_col_wise=true` to remove the overhead.\n",
            "[LightGBM] [Info] Total Bins 3315\n",
            "[LightGBM] [Info] Number of data points in the train set: 894, number of used features: 13\n",
            "[LightGBM] [Info] [binary:BoostFromScore]: pavg=0.805369 -> initscore=1.420196\n",
            "[LightGBM] [Info] Start training from score 1.420196\n",
            "[LightGBM] [Warning] No further splits with positive gain, best gain: -inf\n",
            "[LightGBM] [Warning] No further splits with positive gain, best gain: -inf\n",
            "[LightGBM] [Warning] No further splits with positive gain, best gain: -inf\n",
            "[LightGBM] [Warning] No further splits with positive gain, best gain: -inf\n",
            "[LightGBM] [Warning] No further splits with positive gain, best gain: -inf\n"
          ]
        }
      ],
      "source": [
        "model = LGBMClassifier(n_estimators=100, learning_rate=0.1, num_leaves=31)\n",
        "LGBMC = model.fit(X_train, y_train)\n",
        "\n",
        "y_pred = LGBMC.predict(X_test)"
      ]
    },
    {
      "cell_type": "code",
      "execution_count": null,
      "metadata": {
        "id": "SxWv-5ldK7Jf",
        "colab": {
          "base_uri": "https://localhost:8080/"
        },
        "outputId": "55c3dd1f-3a29-4f6b-db40-d99b3b9927b9"
      },
      "outputs": [
        {
          "output_type": "stream",
          "name": "stdout",
          "text": [
            "Acurácia: 0.99\n",
            "Precisão: 0.99\n",
            "Recall: 1.00\n",
            "F1-Score: 0.99\n"
          ]
        }
      ],
      "source": [
        "# Calculando as métricas de classificação\n",
        "accuracy = accuracy_score(y_test, y_pred)\n",
        "precision = precision_score(y_test, y_pred)\n",
        "recall = recall_score(y_test, y_pred)\n",
        "f1 = f1_score(y_test, y_pred)\n",
        "\n",
        "# Exibindo as métricas\n",
        "print(f\"Acurácia: {accuracy:.2f}\")\n",
        "print(f\"Precisão: {precision:.2f}\")\n",
        "print(f\"Recall: {recall:.2f}\")\n",
        "print(f\"F1-Score: {f1:.2f}\")"
      ]
    },
    {
      "cell_type": "code",
      "execution_count": null,
      "metadata": {
        "id": "IC13IKNtK7Jg",
        "colab": {
          "base_uri": "https://localhost:8080/"
        },
        "outputId": "2ccb30be-6964-4ae2-ecda-c3d2fc61bf35"
      },
      "outputs": [
        {
          "output_type": "stream",
          "name": "stdout",
          "text": [
            "Epoch 1/10\n"
          ]
        },
        {
          "output_type": "stream",
          "name": "stderr",
          "text": [
            "/usr/local/lib/python3.11/dist-packages/keras/src/layers/core/dense.py:87: UserWarning: Do not pass an `input_shape`/`input_dim` argument to a layer. When using Sequential models, prefer using an `Input(shape)` object as the first layer in the model instead.\n",
            "  super().__init__(activity_regularizer=activity_regularizer, **kwargs)\n"
          ]
        },
        {
          "output_type": "stream",
          "name": "stdout",
          "text": [
            "\u001b[1m28/28\u001b[0m \u001b[32m━━━━━━━━━━━━━━━━━━━━\u001b[0m\u001b[37m\u001b[0m \u001b[1m1s\u001b[0m 2ms/step - accuracy: 0.3268 - loss: 24.0243\n",
            "Epoch 2/10\n",
            "\u001b[1m28/28\u001b[0m \u001b[32m━━━━━━━━━━━━━━━━━━━━\u001b[0m\u001b[37m\u001b[0m \u001b[1m0s\u001b[0m 1ms/step - accuracy: 0.7733 - loss: 4.8575 \n",
            "Epoch 3/10\n",
            "\u001b[1m28/28\u001b[0m \u001b[32m━━━━━━━━━━━━━━━━━━━━\u001b[0m\u001b[37m\u001b[0m \u001b[1m0s\u001b[0m 1ms/step - accuracy: 0.7193 - loss: 2.0139 \n",
            "Epoch 4/10\n",
            "\u001b[1m28/28\u001b[0m \u001b[32m━━━━━━━━━━━━━━━━━━━━\u001b[0m\u001b[37m\u001b[0m \u001b[1m0s\u001b[0m 2ms/step - accuracy: 0.8145 - loss: 1.1503 \n",
            "Epoch 5/10\n",
            "\u001b[1m28/28\u001b[0m \u001b[32m━━━━━━━━━━━━━━━━━━━━\u001b[0m\u001b[37m\u001b[0m \u001b[1m0s\u001b[0m 1ms/step - accuracy: 0.7892 - loss: 0.9829 \n",
            "Epoch 6/10\n",
            "\u001b[1m28/28\u001b[0m \u001b[32m━━━━━━━━━━━━━━━━━━━━\u001b[0m\u001b[37m\u001b[0m \u001b[1m0s\u001b[0m 1ms/step - accuracy: 0.8275 - loss: 0.5515 \n",
            "Epoch 7/10\n",
            "\u001b[1m28/28\u001b[0m \u001b[32m━━━━━━━━━━━━━━━━━━━━\u001b[0m\u001b[37m\u001b[0m \u001b[1m0s\u001b[0m 1ms/step - accuracy: 0.8469 - loss: 0.4358 \n",
            "Epoch 8/10\n",
            "\u001b[1m28/28\u001b[0m \u001b[32m━━━━━━━━━━━━━━━━━━━━\u001b[0m\u001b[37m\u001b[0m \u001b[1m0s\u001b[0m 1ms/step - accuracy: 0.8431 - loss: 0.4085  \n",
            "Epoch 9/10\n",
            "\u001b[1m28/28\u001b[0m \u001b[32m━━━━━━━━━━━━━━━━━━━━\u001b[0m\u001b[37m\u001b[0m \u001b[1m0s\u001b[0m 1ms/step - accuracy: 0.8634 - loss: 0.4243 \n",
            "Epoch 10/10\n",
            "\u001b[1m28/28\u001b[0m \u001b[32m━━━━━━━━━━━━━━━━━━━━\u001b[0m\u001b[37m\u001b[0m \u001b[1m0s\u001b[0m 1ms/step - accuracy: 0.8760 - loss: 0.3603 \n",
            "\u001b[1m7/7\u001b[0m \u001b[32m━━━━━━━━━━━━━━━━━━━━\u001b[0m\u001b[37m\u001b[0m \u001b[1m0s\u001b[0m 2ms/step \n"
          ]
        }
      ],
      "source": [
        "# Definição do modelo\n",
        "input_shape = (X_train.shape[1],)  # Número de colunas do conjunto de treino\n",
        "model = tf.keras.Sequential([\n",
        "    tf.keras.layers.Dense(64, activation='relu', input_shape=input_shape),\n",
        "    tf.keras.layers.Dense(1, activation='sigmoid')\n",
        "])\n",
        "\n",
        "# Compilação e treinamento\n",
        "model.compile(optimizer='adam', loss='binary_crossentropy', metrics=['accuracy'])\n",
        "model.fit(X_train, y_train, epochs=10, batch_size=32)\n",
        "\n",
        "# Predições e métricas\n",
        "y_pred_proba = model.predict(X_test)  # Predições de probabilidade\n",
        "y_pred = (y_pred_proba > 0.5).astype(int)  # Converter para rótulos binários"
      ]
    },
    {
      "cell_type": "code",
      "execution_count": null,
      "metadata": {
        "id": "hHnycylYK7Jh",
        "colab": {
          "base_uri": "https://localhost:8080/"
        },
        "outputId": "77a51d50-b9fe-4559-dcd6-f983cff50328"
      },
      "outputs": [
        {
          "output_type": "stream",
          "name": "stdout",
          "text": [
            "Acurácia: 0.87\n",
            "Precisão: 0.87\n",
            "Recall: 0.97\n",
            "F1-Score: 0.92\n"
          ]
        }
      ],
      "source": [
        "# Calculando as métricas de classificação\n",
        "accuracy = accuracy_score(y_test, y_pred)\n",
        "precision = precision_score(y_test, y_pred)\n",
        "recall = recall_score(y_test, y_pred)\n",
        "f1 = f1_score(y_test, y_pred)\n",
        "\n",
        "# Exibindo as métricas\n",
        "print(f\"Acurácia: {accuracy:.2f}\")\n",
        "print(f\"Precisão: {precision:.2f}\")\n",
        "print(f\"Recall: {recall:.2f}\")\n",
        "print(f\"F1-Score: {f1:.2f}\")"
      ]
    },
    {
      "cell_type": "code",
      "execution_count": null,
      "metadata": {
        "id": "AG6nO4f-K7Ji"
      },
      "outputs": [],
      "source": [
        "model = DecisionTreeClassifier(criterion='gini', random_state=42)\n",
        "DTC = model.fit(X_train, y_train)\n",
        "\n",
        "y_pred = DTC.predict(X_test)"
      ]
    },
    {
      "cell_type": "code",
      "execution_count": null,
      "metadata": {
        "id": "LCsHvp4VK7Jj",
        "colab": {
          "base_uri": "https://localhost:8080/"
        },
        "outputId": "49ac2da8-6a97-44f5-a5f8-b125c42de6ca"
      },
      "outputs": [
        {
          "output_type": "stream",
          "name": "stdout",
          "text": [
            "Acurácia: 0.93\n",
            "Precisão: 0.95\n",
            "Recall: 0.95\n",
            "F1-Score: 0.95\n"
          ]
        }
      ],
      "source": [
        "# Calculando as métricas de classificação\n",
        "accuracy = accuracy_score(y_test, y_pred)\n",
        "precision = precision_score(y_test, y_pred)\n",
        "recall = recall_score(y_test, y_pred)\n",
        "f1 = f1_score(y_test, y_pred)\n",
        "\n",
        "# Exibindo as métricas\n",
        "print(f\"Acurácia: {accuracy:.2f}\")\n",
        "print(f\"Precisão: {precision:.2f}\")\n",
        "print(f\"Recall: {recall:.2f}\")\n",
        "print(f\"F1-Score: {f1:.2f}\")"
      ]
    },
    {
      "cell_type": "code",
      "execution_count": null,
      "metadata": {
        "id": "R8UBPIp8K7Jk",
        "colab": {
          "base_uri": "https://localhost:8080/"
        },
        "outputId": "8555f185-58bf-451b-f65f-b73c6cdace2d"
      },
      "outputs": [
        {
          "output_type": "stream",
          "name": "stdout",
          "text": [
            "Epoch 1/10\n"
          ]
        },
        {
          "output_type": "stream",
          "name": "stderr",
          "text": [
            "/usr/local/lib/python3.11/dist-packages/keras/src/layers/convolutional/base_conv.py:107: UserWarning: Do not pass an `input_shape`/`input_dim` argument to a layer. When using Sequential models, prefer using an `Input(shape)` object as the first layer in the model instead.\n",
            "  super().__init__(activity_regularizer=activity_regularizer, **kwargs)\n"
          ]
        },
        {
          "output_type": "stream",
          "name": "stdout",
          "text": [
            "\u001b[1m28/28\u001b[0m \u001b[32m━━━━━━━━━━━━━━━━━━━━\u001b[0m\u001b[37m\u001b[0m \u001b[1m1s\u001b[0m 1ms/step - accuracy: 0.7706 - loss: 1.1997\n",
            "Epoch 2/10\n",
            "\u001b[1m28/28\u001b[0m \u001b[32m━━━━━━━━━━━━━━━━━━━━\u001b[0m\u001b[37m\u001b[0m \u001b[1m0s\u001b[0m 2ms/step - accuracy: 0.8090 - loss: 0.5080 \n",
            "Epoch 3/10\n",
            "\u001b[1m28/28\u001b[0m \u001b[32m━━━━━━━━━━━━━━━━━━━━\u001b[0m\u001b[37m\u001b[0m \u001b[1m0s\u001b[0m 1ms/step - accuracy: 0.8542 - loss: 0.3372 \n",
            "Epoch 4/10\n",
            "\u001b[1m28/28\u001b[0m \u001b[32m━━━━━━━━━━━━━━━━━━━━\u001b[0m\u001b[37m\u001b[0m \u001b[1m0s\u001b[0m 1ms/step - accuracy: 0.8740 - loss: 0.3118 \n",
            "Epoch 5/10\n",
            "\u001b[1m28/28\u001b[0m \u001b[32m━━━━━━━━━━━━━━━━━━━━\u001b[0m\u001b[37m\u001b[0m \u001b[1m0s\u001b[0m 1ms/step - accuracy: 0.8712 - loss: 0.3151 \n",
            "Epoch 6/10\n",
            "\u001b[1m28/28\u001b[0m \u001b[32m━━━━━━━━━━━━━━━━━━━━\u001b[0m\u001b[37m\u001b[0m \u001b[1m0s\u001b[0m 1ms/step - accuracy: 0.8955 - loss: 0.2931 \n",
            "Epoch 7/10\n",
            "\u001b[1m28/28\u001b[0m \u001b[32m━━━━━━━━━━━━━━━━━━━━\u001b[0m\u001b[37m\u001b[0m \u001b[1m0s\u001b[0m 1ms/step - accuracy: 0.8909 - loss: 0.2999  \n",
            "Epoch 8/10\n",
            "\u001b[1m28/28\u001b[0m \u001b[32m━━━━━━━━━━━━━━━━━━━━\u001b[0m\u001b[37m\u001b[0m \u001b[1m0s\u001b[0m 1ms/step - accuracy: 0.9104 - loss: 0.2362 \n",
            "Epoch 9/10\n",
            "\u001b[1m28/28\u001b[0m \u001b[32m━━━━━━━━━━━━━━━━━━━━\u001b[0m\u001b[37m\u001b[0m \u001b[1m0s\u001b[0m 1ms/step - accuracy: 0.9190 - loss: 0.2412 \n",
            "Epoch 10/10\n",
            "\u001b[1m28/28\u001b[0m \u001b[32m━━━━━━━━━━━━━━━━━━━━\u001b[0m\u001b[37m\u001b[0m \u001b[1m0s\u001b[0m 2ms/step - accuracy: 0.9273 - loss: 0.2055 \n",
            "\u001b[1m7/7\u001b[0m \u001b[32m━━━━━━━━━━━━━━━━━━━━\u001b[0m\u001b[37m\u001b[0m \u001b[1m0s\u001b[0m 3ms/step \n"
          ]
        }
      ],
      "source": [
        "# Definição do modelo Conv1D\n",
        "input_shape = (X_train.shape[1], 1)  # Número de características e 1 canal\n",
        "model = tf.keras.Sequential([\n",
        "    tf.keras.layers.Conv1D(32, kernel_size=3, activation='relu', input_shape=input_shape),\n",
        "    tf.keras.layers.Flatten(),\n",
        "    tf.keras.layers.Dense(1, activation='sigmoid')\n",
        "])\n",
        "\n",
        "# Compilação e treinamento do modelo\n",
        "model.compile(optimizer='adam', loss='binary_crossentropy', metrics=['accuracy'])\n",
        "model.fit(X_train, y_train, epochs=10, batch_size=32)\n",
        "\n",
        "# Predições e métricas\n",
        "y_pred_proba = model.predict(X_test)  # Predições de probabilidade\n",
        "y_pred = (y_pred_proba > 0.5).astype(int)  # Converter para rótulos binários"
      ]
    },
    {
      "cell_type": "code",
      "execution_count": null,
      "metadata": {
        "id": "Apo2GLdSK7Jl",
        "colab": {
          "base_uri": "https://localhost:8080/"
        },
        "outputId": "a9eacc62-5dde-4a2b-f234-eeba1e817c9c"
      },
      "outputs": [
        {
          "output_type": "stream",
          "name": "stdout",
          "text": [
            "Acurácia: 0.89\n",
            "Precisão: 0.96\n",
            "Recall: 0.90\n",
            "F1-Score: 0.93\n"
          ]
        }
      ],
      "source": [
        "# Calculando as métricas de classificação\n",
        "accuracy = accuracy_score(y_test, y_pred)\n",
        "precision = precision_score(y_test, y_pred)\n",
        "recall = recall_score(y_test, y_pred)\n",
        "f1 = f1_score(y_test, y_pred)\n",
        "\n",
        "# Exibindo as métricas\n",
        "print(f\"Acurácia: {accuracy:.2f}\")\n",
        "print(f\"Precisão: {precision:.2f}\")\n",
        "print(f\"Recall: {recall:.2f}\")\n",
        "print(f\"F1-Score: {f1:.2f}\")"
      ]
    },
    {
      "cell_type": "code",
      "execution_count": null,
      "metadata": {
        "id": "RO4armdq1c7h"
      },
      "outputs": [],
      "source": [
        "output_path = '/content/drive/MyDrive/audios_FOR/amostra_FOR_invertido_balanced'\n",
        "\n",
        "# Criação das pastas de destino se não existirem\n",
        "os.makedirs(os.path.join(output_path, 'real'), exist_ok=True)\n",
        "os.makedirs(os.path.join(output_path, 'fake'), exist_ok=True)\n",
        "\n",
        "# Listas para armazenar as características e rótulos com inversão temporal balanceada\n",
        "data_reverse_balanced = []  # Dados com inversão temporal balanceada\n",
        "labels_reverse_balanced = []  # Rótulos com inversão temporal balanceada\n",
        "\n",
        "# Função para balancear os dados usando replicação simples\n",
        "def balance_data(real_files, fake_files):\n",
        "    \"\"\"Balanceia os dados replicando aleatoriamente as amostras da classe minoritária.\"\"\"\n",
        "    len_real = len(real_files)\n",
        "    len_fake = len(fake_files)\n",
        "\n",
        "    # Verificar qual classe tem menos amostras\n",
        "    if len_real > len_fake:\n",
        "        # Replicar os arquivos 'fake' até igualar o número\n",
        "        fake_files += random.choices(fake_files, k=len_real - len_fake)\n",
        "    elif len_fake > len_real:\n",
        "        # Replicar os arquivos 'real' até igualar o número\n",
        "        real_files += random.choices(real_files, k=len_fake - len_real)\n",
        "\n",
        "    return real_files, fake_files\n",
        "\n",
        "# Obter listas de arquivos reais e fakes\n",
        "real_files = os.listdir(file_path_real)\n",
        "fake_files = os.listdir(file_path_fake)\n",
        "\n",
        "# Balancear os arquivos\n",
        "real_files, fake_files = balance_data(real_files, fake_files)\n",
        "\n",
        "# Processar Fake\n",
        "for file_name in fake_files:\n",
        "    file_path = os.path.join(file_path_fake, file_name)\n",
        "    y, sr = librosa.load(file_path, sr=None)\n",
        "\n",
        "    # Versão original\n",
        "    features = np.mean(librosa.feature.mfcc(y=y, sr=sr, n_mfcc=13).T, axis=0)\n",
        "    data_reverse_balanced.append(features)\n",
        "    labels_reverse_balanced.append(0)  # Rótulo \"fake\"\n",
        "\n",
        "    # Aplicar inversão temporal\n",
        "    y_reversed = reverse_audio(y)  # Inversão temporal\n",
        "    features_reversed = np.mean(librosa.feature.mfcc(y=y_reversed, sr=sr, n_mfcc=13).T, axis=0)\n",
        "    data_reverse_balanced.append(features_reversed)\n",
        "    labels_reverse_balanced.append(0)  # Rótulo \"fake\"\n",
        "\n",
        "    # Salvar áudio original na pasta 'fake'\n",
        "    output_file_path = os.path.join(output_path, 'fake', file_name)\n",
        "    sf.write(output_file_path, y, sr)  # Salvando a versão original\n",
        "\n",
        "    # Salvar áudio com inversão temporal na pasta 'fake' (com sufixo \"_reversed\")\n",
        "    output_file_path_reversed = os.path.join(output_path, 'fake', file_name.replace('.wav', '_reversed.wav'))\n",
        "    sf.write(output_file_path_reversed, y_reversed, sr)  # Salvando a versão com inversão temporal\n",
        "\n",
        "# Processar Real\n",
        "for file_name in real_files:\n",
        "    file_path = os.path.join(file_path_real, file_name)\n",
        "    y, sr = librosa.load(file_path, sr=None)\n",
        "\n",
        "    # Versão original\n",
        "    features = np.mean(librosa.feature.mfcc(y=y, sr=sr, n_mfcc=13).T, axis=0)\n",
        "    data_reverse_balanced.append(features)\n",
        "    labels_reverse_balanced.append(1)  # Rótulo \"real\"\n",
        "\n",
        "    # Aplicar inversão temporal\n",
        "    y_reversed = reverse_audio(y)  # Inversão temporal\n",
        "    features_reversed = np.mean(librosa.feature.mfcc(y=y_reversed, sr=sr, n_mfcc=13).T, axis=0)\n",
        "    data_reverse_balanced.append(features_reversed)\n",
        "    labels_reverse_balanced.append(1)  # Rótulo \"real\"\n",
        "\n",
        "    # Salvar áudio original na pasta 'real'\n",
        "    output_file_path = os.path.join(output_path, 'real', file_name)\n",
        "    sf.write(output_file_path, y, sr)  # Salvando a versão original\n",
        "\n",
        "    # Salvar áudio com inversão temporal na pasta 'real' (com sufixo \"_reversed\")\n",
        "    output_file_path_reversed = os.path.join(output_path, 'real', file_name.replace('.wav', '_reversed.wav'))\n",
        "    sf.write(output_file_path_reversed, y_reversed, sr)  # Salvando a versão com inversão temporal"
      ]
    },
    {
      "cell_type": "code",
      "execution_count": null,
      "metadata": {
        "id": "ZLWjvr1Iv4S-"
      },
      "outputs": [],
      "source": [
        "# Converter para DataFrame\n",
        "data_reverse_balanced = pd.DataFrame(data_reverse_balanced)\n",
        "data_reverse_balanced['label'] = labels_reverse_balanced"
      ]
    },
    {
      "cell_type": "code",
      "execution_count": null,
      "metadata": {
        "colab": {
          "base_uri": "https://localhost:8080/"
        },
        "id": "36GWt-Hmv4TA",
        "outputId": "71d282fb-30fc-4c77-a3dc-6288c17a4ba3"
      },
      "outputs": [
        {
          "output_type": "execute_result",
          "data": {
            "text/plain": [
              "               0           1          2          3          4          5  \\\n",
              "0    -310.484985   79.589180  12.035122  21.775892   7.463613  -4.327323   \n",
              "1    -310.286621   79.604019  12.228198  21.525486   7.665128  -4.211032   \n",
              "2    -292.760193   85.521347 -18.103905  14.233822  -1.934288  -8.300287   \n",
              "3    -293.466736   85.523239 -17.968140  14.533060  -1.766421  -8.089673   \n",
              "4    -266.020477  106.608009 -11.326435  17.970966 -11.344944   1.250991   \n",
              "...          ...         ...        ...        ...        ...        ...   \n",
              "1787 -323.835510   68.766266   4.067491  22.298380 -11.132624 -25.871218   \n",
              "1788 -312.793549   82.430946   3.129900  14.186769 -18.484079 -25.799473   \n",
              "1789 -313.387054   81.966675   3.320900  13.971745 -18.315617 -25.690226   \n",
              "1790 -432.503387   52.231987  24.130854  24.908005   5.230207  10.177417   \n",
              "1791 -432.628448   52.007023  24.240030  24.882080   5.257833  10.276168   \n",
              "\n",
              "              6          7          8          9         10         11  \\\n",
              "0      1.702638   5.056441 -11.605008  -8.825641 -12.136454  -8.166679   \n",
              "1      1.810101   5.094695 -11.634615  -8.634542 -11.995722  -8.216214   \n",
              "2    -15.360986 -14.333099  -0.524541 -12.453050  -2.744914 -14.212177   \n",
              "3    -15.009739 -14.136434  -0.515667 -12.503580  -2.912647 -14.359088   \n",
              "4     -5.587977  -6.984388  -5.437147 -10.668830   6.232262 -13.461805   \n",
              "...         ...        ...        ...        ...        ...        ...   \n",
              "1787 -23.193249 -21.572203  -9.854215  -1.073646 -23.760683   1.365065   \n",
              "1788 -17.645624 -17.211958 -12.702026  -4.227543 -22.298204   0.184280   \n",
              "1789 -17.615883 -17.059967 -12.659113  -4.083637 -22.139357   0.052236   \n",
              "1790   1.667769  11.312072  14.200116  13.155353   9.546826  18.923155   \n",
              "1791   1.710761  11.365218  14.181542  13.194204   9.546244  18.923372   \n",
              "\n",
              "             12  label  \n",
              "0     -7.886450      0  \n",
              "1     -7.915312      0  \n",
              "2      0.993812      0  \n",
              "3      0.926545      0  \n",
              "4      6.319636      0  \n",
              "...         ...    ...  \n",
              "1787 -17.567112      1  \n",
              "1788 -17.449095      1  \n",
              "1789 -17.240023      1  \n",
              "1790   7.199302      1  \n",
              "1791   7.173491      1  \n",
              "\n",
              "[1792 rows x 14 columns]"
            ],
            "text/html": [
              "\n",
              "  <div id=\"df-4e68115c-aa8a-4fd0-af0f-fd3cee7871a0\" class=\"colab-df-container\">\n",
              "    <div>\n",
              "<style scoped>\n",
              "    .dataframe tbody tr th:only-of-type {\n",
              "        vertical-align: middle;\n",
              "    }\n",
              "\n",
              "    .dataframe tbody tr th {\n",
              "        vertical-align: top;\n",
              "    }\n",
              "\n",
              "    .dataframe thead th {\n",
              "        text-align: right;\n",
              "    }\n",
              "</style>\n",
              "<table border=\"1\" class=\"dataframe\">\n",
              "  <thead>\n",
              "    <tr style=\"text-align: right;\">\n",
              "      <th></th>\n",
              "      <th>0</th>\n",
              "      <th>1</th>\n",
              "      <th>2</th>\n",
              "      <th>3</th>\n",
              "      <th>4</th>\n",
              "      <th>5</th>\n",
              "      <th>6</th>\n",
              "      <th>7</th>\n",
              "      <th>8</th>\n",
              "      <th>9</th>\n",
              "      <th>10</th>\n",
              "      <th>11</th>\n",
              "      <th>12</th>\n",
              "      <th>label</th>\n",
              "    </tr>\n",
              "  </thead>\n",
              "  <tbody>\n",
              "    <tr>\n",
              "      <th>0</th>\n",
              "      <td>-310.484985</td>\n",
              "      <td>79.589180</td>\n",
              "      <td>12.035122</td>\n",
              "      <td>21.775892</td>\n",
              "      <td>7.463613</td>\n",
              "      <td>-4.327323</td>\n",
              "      <td>1.702638</td>\n",
              "      <td>5.056441</td>\n",
              "      <td>-11.605008</td>\n",
              "      <td>-8.825641</td>\n",
              "      <td>-12.136454</td>\n",
              "      <td>-8.166679</td>\n",
              "      <td>-7.886450</td>\n",
              "      <td>0</td>\n",
              "    </tr>\n",
              "    <tr>\n",
              "      <th>1</th>\n",
              "      <td>-310.286621</td>\n",
              "      <td>79.604019</td>\n",
              "      <td>12.228198</td>\n",
              "      <td>21.525486</td>\n",
              "      <td>7.665128</td>\n",
              "      <td>-4.211032</td>\n",
              "      <td>1.810101</td>\n",
              "      <td>5.094695</td>\n",
              "      <td>-11.634615</td>\n",
              "      <td>-8.634542</td>\n",
              "      <td>-11.995722</td>\n",
              "      <td>-8.216214</td>\n",
              "      <td>-7.915312</td>\n",
              "      <td>0</td>\n",
              "    </tr>\n",
              "    <tr>\n",
              "      <th>2</th>\n",
              "      <td>-292.760193</td>\n",
              "      <td>85.521347</td>\n",
              "      <td>-18.103905</td>\n",
              "      <td>14.233822</td>\n",
              "      <td>-1.934288</td>\n",
              "      <td>-8.300287</td>\n",
              "      <td>-15.360986</td>\n",
              "      <td>-14.333099</td>\n",
              "      <td>-0.524541</td>\n",
              "      <td>-12.453050</td>\n",
              "      <td>-2.744914</td>\n",
              "      <td>-14.212177</td>\n",
              "      <td>0.993812</td>\n",
              "      <td>0</td>\n",
              "    </tr>\n",
              "    <tr>\n",
              "      <th>3</th>\n",
              "      <td>-293.466736</td>\n",
              "      <td>85.523239</td>\n",
              "      <td>-17.968140</td>\n",
              "      <td>14.533060</td>\n",
              "      <td>-1.766421</td>\n",
              "      <td>-8.089673</td>\n",
              "      <td>-15.009739</td>\n",
              "      <td>-14.136434</td>\n",
              "      <td>-0.515667</td>\n",
              "      <td>-12.503580</td>\n",
              "      <td>-2.912647</td>\n",
              "      <td>-14.359088</td>\n",
              "      <td>0.926545</td>\n",
              "      <td>0</td>\n",
              "    </tr>\n",
              "    <tr>\n",
              "      <th>4</th>\n",
              "      <td>-266.020477</td>\n",
              "      <td>106.608009</td>\n",
              "      <td>-11.326435</td>\n",
              "      <td>17.970966</td>\n",
              "      <td>-11.344944</td>\n",
              "      <td>1.250991</td>\n",
              "      <td>-5.587977</td>\n",
              "      <td>-6.984388</td>\n",
              "      <td>-5.437147</td>\n",
              "      <td>-10.668830</td>\n",
              "      <td>6.232262</td>\n",
              "      <td>-13.461805</td>\n",
              "      <td>6.319636</td>\n",
              "      <td>0</td>\n",
              "    </tr>\n",
              "    <tr>\n",
              "      <th>...</th>\n",
              "      <td>...</td>\n",
              "      <td>...</td>\n",
              "      <td>...</td>\n",
              "      <td>...</td>\n",
              "      <td>...</td>\n",
              "      <td>...</td>\n",
              "      <td>...</td>\n",
              "      <td>...</td>\n",
              "      <td>...</td>\n",
              "      <td>...</td>\n",
              "      <td>...</td>\n",
              "      <td>...</td>\n",
              "      <td>...</td>\n",
              "      <td>...</td>\n",
              "    </tr>\n",
              "    <tr>\n",
              "      <th>1787</th>\n",
              "      <td>-323.835510</td>\n",
              "      <td>68.766266</td>\n",
              "      <td>4.067491</td>\n",
              "      <td>22.298380</td>\n",
              "      <td>-11.132624</td>\n",
              "      <td>-25.871218</td>\n",
              "      <td>-23.193249</td>\n",
              "      <td>-21.572203</td>\n",
              "      <td>-9.854215</td>\n",
              "      <td>-1.073646</td>\n",
              "      <td>-23.760683</td>\n",
              "      <td>1.365065</td>\n",
              "      <td>-17.567112</td>\n",
              "      <td>1</td>\n",
              "    </tr>\n",
              "    <tr>\n",
              "      <th>1788</th>\n",
              "      <td>-312.793549</td>\n",
              "      <td>82.430946</td>\n",
              "      <td>3.129900</td>\n",
              "      <td>14.186769</td>\n",
              "      <td>-18.484079</td>\n",
              "      <td>-25.799473</td>\n",
              "      <td>-17.645624</td>\n",
              "      <td>-17.211958</td>\n",
              "      <td>-12.702026</td>\n",
              "      <td>-4.227543</td>\n",
              "      <td>-22.298204</td>\n",
              "      <td>0.184280</td>\n",
              "      <td>-17.449095</td>\n",
              "      <td>1</td>\n",
              "    </tr>\n",
              "    <tr>\n",
              "      <th>1789</th>\n",
              "      <td>-313.387054</td>\n",
              "      <td>81.966675</td>\n",
              "      <td>3.320900</td>\n",
              "      <td>13.971745</td>\n",
              "      <td>-18.315617</td>\n",
              "      <td>-25.690226</td>\n",
              "      <td>-17.615883</td>\n",
              "      <td>-17.059967</td>\n",
              "      <td>-12.659113</td>\n",
              "      <td>-4.083637</td>\n",
              "      <td>-22.139357</td>\n",
              "      <td>0.052236</td>\n",
              "      <td>-17.240023</td>\n",
              "      <td>1</td>\n",
              "    </tr>\n",
              "    <tr>\n",
              "      <th>1790</th>\n",
              "      <td>-432.503387</td>\n",
              "      <td>52.231987</td>\n",
              "      <td>24.130854</td>\n",
              "      <td>24.908005</td>\n",
              "      <td>5.230207</td>\n",
              "      <td>10.177417</td>\n",
              "      <td>1.667769</td>\n",
              "      <td>11.312072</td>\n",
              "      <td>14.200116</td>\n",
              "      <td>13.155353</td>\n",
              "      <td>9.546826</td>\n",
              "      <td>18.923155</td>\n",
              "      <td>7.199302</td>\n",
              "      <td>1</td>\n",
              "    </tr>\n",
              "    <tr>\n",
              "      <th>1791</th>\n",
              "      <td>-432.628448</td>\n",
              "      <td>52.007023</td>\n",
              "      <td>24.240030</td>\n",
              "      <td>24.882080</td>\n",
              "      <td>5.257833</td>\n",
              "      <td>10.276168</td>\n",
              "      <td>1.710761</td>\n",
              "      <td>11.365218</td>\n",
              "      <td>14.181542</td>\n",
              "      <td>13.194204</td>\n",
              "      <td>9.546244</td>\n",
              "      <td>18.923372</td>\n",
              "      <td>7.173491</td>\n",
              "      <td>1</td>\n",
              "    </tr>\n",
              "  </tbody>\n",
              "</table>\n",
              "<p>1792 rows × 14 columns</p>\n",
              "</div>\n",
              "    <div class=\"colab-df-buttons\">\n",
              "\n",
              "  <div class=\"colab-df-container\">\n",
              "    <button class=\"colab-df-convert\" onclick=\"convertToInteractive('df-4e68115c-aa8a-4fd0-af0f-fd3cee7871a0')\"\n",
              "            title=\"Convert this dataframe to an interactive table.\"\n",
              "            style=\"display:none;\">\n",
              "\n",
              "  <svg xmlns=\"http://www.w3.org/2000/svg\" height=\"24px\" viewBox=\"0 -960 960 960\">\n",
              "    <path d=\"M120-120v-720h720v720H120Zm60-500h600v-160H180v160Zm220 220h160v-160H400v160Zm0 220h160v-160H400v160ZM180-400h160v-160H180v160Zm440 0h160v-160H620v160ZM180-180h160v-160H180v160Zm440 0h160v-160H620v160Z\"/>\n",
              "  </svg>\n",
              "    </button>\n",
              "\n",
              "  <style>\n",
              "    .colab-df-container {\n",
              "      display:flex;\n",
              "      gap: 12px;\n",
              "    }\n",
              "\n",
              "    .colab-df-convert {\n",
              "      background-color: #E8F0FE;\n",
              "      border: none;\n",
              "      border-radius: 50%;\n",
              "      cursor: pointer;\n",
              "      display: none;\n",
              "      fill: #1967D2;\n",
              "      height: 32px;\n",
              "      padding: 0 0 0 0;\n",
              "      width: 32px;\n",
              "    }\n",
              "\n",
              "    .colab-df-convert:hover {\n",
              "      background-color: #E2EBFA;\n",
              "      box-shadow: 0px 1px 2px rgba(60, 64, 67, 0.3), 0px 1px 3px 1px rgba(60, 64, 67, 0.15);\n",
              "      fill: #174EA6;\n",
              "    }\n",
              "\n",
              "    .colab-df-buttons div {\n",
              "      margin-bottom: 4px;\n",
              "    }\n",
              "\n",
              "    [theme=dark] .colab-df-convert {\n",
              "      background-color: #3B4455;\n",
              "      fill: #D2E3FC;\n",
              "    }\n",
              "\n",
              "    [theme=dark] .colab-df-convert:hover {\n",
              "      background-color: #434B5C;\n",
              "      box-shadow: 0px 1px 3px 1px rgba(0, 0, 0, 0.15);\n",
              "      filter: drop-shadow(0px 1px 2px rgba(0, 0, 0, 0.3));\n",
              "      fill: #FFFFFF;\n",
              "    }\n",
              "  </style>\n",
              "\n",
              "    <script>\n",
              "      const buttonEl =\n",
              "        document.querySelector('#df-4e68115c-aa8a-4fd0-af0f-fd3cee7871a0 button.colab-df-convert');\n",
              "      buttonEl.style.display =\n",
              "        google.colab.kernel.accessAllowed ? 'block' : 'none';\n",
              "\n",
              "      async function convertToInteractive(key) {\n",
              "        const element = document.querySelector('#df-4e68115c-aa8a-4fd0-af0f-fd3cee7871a0');\n",
              "        const dataTable =\n",
              "          await google.colab.kernel.invokeFunction('convertToInteractive',\n",
              "                                                    [key], {});\n",
              "        if (!dataTable) return;\n",
              "\n",
              "        const docLinkHtml = 'Like what you see? Visit the ' +\n",
              "          '<a target=\"_blank\" href=https://colab.research.google.com/notebooks/data_table.ipynb>data table notebook</a>'\n",
              "          + ' to learn more about interactive tables.';\n",
              "        element.innerHTML = '';\n",
              "        dataTable['output_type'] = 'display_data';\n",
              "        await google.colab.output.renderOutput(dataTable, element);\n",
              "        const docLink = document.createElement('div');\n",
              "        docLink.innerHTML = docLinkHtml;\n",
              "        element.appendChild(docLink);\n",
              "      }\n",
              "    </script>\n",
              "  </div>\n",
              "\n",
              "\n",
              "<div id=\"df-15223cdc-9851-4ed5-87cd-90dd98d11d5c\">\n",
              "  <button class=\"colab-df-quickchart\" onclick=\"quickchart('df-15223cdc-9851-4ed5-87cd-90dd98d11d5c')\"\n",
              "            title=\"Suggest charts\"\n",
              "            style=\"display:none;\">\n",
              "\n",
              "<svg xmlns=\"http://www.w3.org/2000/svg\" height=\"24px\"viewBox=\"0 0 24 24\"\n",
              "     width=\"24px\">\n",
              "    <g>\n",
              "        <path d=\"M19 3H5c-1.1 0-2 .9-2 2v14c0 1.1.9 2 2 2h14c1.1 0 2-.9 2-2V5c0-1.1-.9-2-2-2zM9 17H7v-7h2v7zm4 0h-2V7h2v10zm4 0h-2v-4h2v4z\"/>\n",
              "    </g>\n",
              "</svg>\n",
              "  </button>\n",
              "\n",
              "<style>\n",
              "  .colab-df-quickchart {\n",
              "      --bg-color: #E8F0FE;\n",
              "      --fill-color: #1967D2;\n",
              "      --hover-bg-color: #E2EBFA;\n",
              "      --hover-fill-color: #174EA6;\n",
              "      --disabled-fill-color: #AAA;\n",
              "      --disabled-bg-color: #DDD;\n",
              "  }\n",
              "\n",
              "  [theme=dark] .colab-df-quickchart {\n",
              "      --bg-color: #3B4455;\n",
              "      --fill-color: #D2E3FC;\n",
              "      --hover-bg-color: #434B5C;\n",
              "      --hover-fill-color: #FFFFFF;\n",
              "      --disabled-bg-color: #3B4455;\n",
              "      --disabled-fill-color: #666;\n",
              "  }\n",
              "\n",
              "  .colab-df-quickchart {\n",
              "    background-color: var(--bg-color);\n",
              "    border: none;\n",
              "    border-radius: 50%;\n",
              "    cursor: pointer;\n",
              "    display: none;\n",
              "    fill: var(--fill-color);\n",
              "    height: 32px;\n",
              "    padding: 0;\n",
              "    width: 32px;\n",
              "  }\n",
              "\n",
              "  .colab-df-quickchart:hover {\n",
              "    background-color: var(--hover-bg-color);\n",
              "    box-shadow: 0 1px 2px rgba(60, 64, 67, 0.3), 0 1px 3px 1px rgba(60, 64, 67, 0.15);\n",
              "    fill: var(--button-hover-fill-color);\n",
              "  }\n",
              "\n",
              "  .colab-df-quickchart-complete:disabled,\n",
              "  .colab-df-quickchart-complete:disabled:hover {\n",
              "    background-color: var(--disabled-bg-color);\n",
              "    fill: var(--disabled-fill-color);\n",
              "    box-shadow: none;\n",
              "  }\n",
              "\n",
              "  .colab-df-spinner {\n",
              "    border: 2px solid var(--fill-color);\n",
              "    border-color: transparent;\n",
              "    border-bottom-color: var(--fill-color);\n",
              "    animation:\n",
              "      spin 1s steps(1) infinite;\n",
              "  }\n",
              "\n",
              "  @keyframes spin {\n",
              "    0% {\n",
              "      border-color: transparent;\n",
              "      border-bottom-color: var(--fill-color);\n",
              "      border-left-color: var(--fill-color);\n",
              "    }\n",
              "    20% {\n",
              "      border-color: transparent;\n",
              "      border-left-color: var(--fill-color);\n",
              "      border-top-color: var(--fill-color);\n",
              "    }\n",
              "    30% {\n",
              "      border-color: transparent;\n",
              "      border-left-color: var(--fill-color);\n",
              "      border-top-color: var(--fill-color);\n",
              "      border-right-color: var(--fill-color);\n",
              "    }\n",
              "    40% {\n",
              "      border-color: transparent;\n",
              "      border-right-color: var(--fill-color);\n",
              "      border-top-color: var(--fill-color);\n",
              "    }\n",
              "    60% {\n",
              "      border-color: transparent;\n",
              "      border-right-color: var(--fill-color);\n",
              "    }\n",
              "    80% {\n",
              "      border-color: transparent;\n",
              "      border-right-color: var(--fill-color);\n",
              "      border-bottom-color: var(--fill-color);\n",
              "    }\n",
              "    90% {\n",
              "      border-color: transparent;\n",
              "      border-bottom-color: var(--fill-color);\n",
              "    }\n",
              "  }\n",
              "</style>\n",
              "\n",
              "  <script>\n",
              "    async function quickchart(key) {\n",
              "      const quickchartButtonEl =\n",
              "        document.querySelector('#' + key + ' button');\n",
              "      quickchartButtonEl.disabled = true;  // To prevent multiple clicks.\n",
              "      quickchartButtonEl.classList.add('colab-df-spinner');\n",
              "      try {\n",
              "        const charts = await google.colab.kernel.invokeFunction(\n",
              "            'suggestCharts', [key], {});\n",
              "      } catch (error) {\n",
              "        console.error('Error during call to suggestCharts:', error);\n",
              "      }\n",
              "      quickchartButtonEl.classList.remove('colab-df-spinner');\n",
              "      quickchartButtonEl.classList.add('colab-df-quickchart-complete');\n",
              "    }\n",
              "    (() => {\n",
              "      let quickchartButtonEl =\n",
              "        document.querySelector('#df-15223cdc-9851-4ed5-87cd-90dd98d11d5c button');\n",
              "      quickchartButtonEl.style.display =\n",
              "        google.colab.kernel.accessAllowed ? 'block' : 'none';\n",
              "    })();\n",
              "  </script>\n",
              "</div>\n",
              "\n",
              "  <div id=\"id_fc63e30f-41cd-4f89-a001-b20700a199a5\">\n",
              "    <style>\n",
              "      .colab-df-generate {\n",
              "        background-color: #E8F0FE;\n",
              "        border: none;\n",
              "        border-radius: 50%;\n",
              "        cursor: pointer;\n",
              "        display: none;\n",
              "        fill: #1967D2;\n",
              "        height: 32px;\n",
              "        padding: 0 0 0 0;\n",
              "        width: 32px;\n",
              "      }\n",
              "\n",
              "      .colab-df-generate:hover {\n",
              "        background-color: #E2EBFA;\n",
              "        box-shadow: 0px 1px 2px rgba(60, 64, 67, 0.3), 0px 1px 3px 1px rgba(60, 64, 67, 0.15);\n",
              "        fill: #174EA6;\n",
              "      }\n",
              "\n",
              "      [theme=dark] .colab-df-generate {\n",
              "        background-color: #3B4455;\n",
              "        fill: #D2E3FC;\n",
              "      }\n",
              "\n",
              "      [theme=dark] .colab-df-generate:hover {\n",
              "        background-color: #434B5C;\n",
              "        box-shadow: 0px 1px 3px 1px rgba(0, 0, 0, 0.15);\n",
              "        filter: drop-shadow(0px 1px 2px rgba(0, 0, 0, 0.3));\n",
              "        fill: #FFFFFF;\n",
              "      }\n",
              "    </style>\n",
              "    <button class=\"colab-df-generate\" onclick=\"generateWithVariable('data_reverse_balanced')\"\n",
              "            title=\"Generate code using this dataframe.\"\n",
              "            style=\"display:none;\">\n",
              "\n",
              "  <svg xmlns=\"http://www.w3.org/2000/svg\" height=\"24px\"viewBox=\"0 0 24 24\"\n",
              "       width=\"24px\">\n",
              "    <path d=\"M7,19H8.4L18.45,9,17,7.55,7,17.6ZM5,21V16.75L18.45,3.32a2,2,0,0,1,2.83,0l1.4,1.43a1.91,1.91,0,0,1,.58,1.4,1.91,1.91,0,0,1-.58,1.4L9.25,21ZM18.45,9,17,7.55Zm-12,3A5.31,5.31,0,0,0,4.9,8.1,5.31,5.31,0,0,0,1,6.5,5.31,5.31,0,0,0,4.9,4.9,5.31,5.31,0,0,0,6.5,1,5.31,5.31,0,0,0,8.1,4.9,5.31,5.31,0,0,0,12,6.5,5.46,5.46,0,0,0,6.5,12Z\"/>\n",
              "  </svg>\n",
              "    </button>\n",
              "    <script>\n",
              "      (() => {\n",
              "      const buttonEl =\n",
              "        document.querySelector('#id_fc63e30f-41cd-4f89-a001-b20700a199a5 button.colab-df-generate');\n",
              "      buttonEl.style.display =\n",
              "        google.colab.kernel.accessAllowed ? 'block' : 'none';\n",
              "\n",
              "      buttonEl.onclick = () => {\n",
              "        google.colab.notebook.generateWithVariable('data_reverse_balanced');\n",
              "      }\n",
              "      })();\n",
              "    </script>\n",
              "  </div>\n",
              "\n",
              "    </div>\n",
              "  </div>\n"
            ],
            "application/vnd.google.colaboratory.intrinsic+json": {
              "type": "dataframe",
              "variable_name": "data_reverse_balanced",
              "summary": "{\n  \"name\": \"data_reverse_balanced\",\n  \"rows\": 1792,\n  \"fields\": [\n    {\n      \"column\": 0,\n      \"properties\": {\n        \"dtype\": \"float32\",\n        \"num_unique_values\": 1117,\n        \"samples\": [\n          -298.41522216796875,\n          -440.5819091796875,\n          -307.13262939453125\n        ],\n        \"semantic_type\": \"\",\n        \"description\": \"\"\n      }\n    },\n    {\n      \"column\": 1,\n      \"properties\": {\n        \"dtype\": \"float32\",\n        \"num_unique_values\": 1116,\n        \"samples\": [\n          105.52471923828125,\n          58.81452560424805,\n          79.54441833496094\n        ],\n        \"semantic_type\": \"\",\n        \"description\": \"\"\n      }\n    },\n    {\n      \"column\": 2,\n      \"properties\": {\n        \"dtype\": \"float32\",\n        \"num_unique_values\": 1118,\n        \"samples\": [\n          28.55781364440918,\n          16.05328369140625,\n          -13.983827590942383\n        ],\n        \"semantic_type\": \"\",\n        \"description\": \"\"\n      }\n    },\n    {\n      \"column\": 3,\n      \"properties\": {\n        \"dtype\": \"float32\",\n        \"num_unique_values\": 1117,\n        \"samples\": [\n          39.221435546875,\n          30.7591495513916,\n          22.973648071289062\n        ],\n        \"semantic_type\": \"\",\n        \"description\": \"\"\n      }\n    },\n    {\n      \"column\": 4,\n      \"properties\": {\n        \"dtype\": \"float32\",\n        \"num_unique_values\": 1117,\n        \"samples\": [\n          1.4431376457214355,\n          4.036442756652832,\n          -22.853727340698242\n        ],\n        \"semantic_type\": \"\",\n        \"description\": \"\"\n      }\n    },\n    {\n      \"column\": 5,\n      \"properties\": {\n        \"dtype\": \"float32\",\n        \"num_unique_values\": 1118,\n        \"samples\": [\n          9.617497444152832,\n          2.425623655319214,\n          -16.439733505249023\n        ],\n        \"semantic_type\": \"\",\n        \"description\": \"\"\n      }\n    },\n    {\n      \"column\": 6,\n      \"properties\": {\n        \"dtype\": \"float32\",\n        \"num_unique_values\": 1118,\n        \"samples\": [\n          -9.376884460449219,\n          0.5575907826423645,\n          -15.124075889587402\n        ],\n        \"semantic_type\": \"\",\n        \"description\": \"\"\n      }\n    },\n    {\n      \"column\": 7,\n      \"properties\": {\n        \"dtype\": \"float32\",\n        \"num_unique_values\": 1117,\n        \"samples\": [\n          19.814668655395508,\n          1.9007967710494995,\n          -32.77073287963867\n        ],\n        \"semantic_type\": \"\",\n        \"description\": \"\"\n      }\n    },\n    {\n      \"column\": 8,\n      \"properties\": {\n        \"dtype\": \"float32\",\n        \"num_unique_values\": 1117,\n        \"samples\": [\n          -1.9463460445404053,\n          -8.942717552185059,\n          -18.236812591552734\n        ],\n        \"semantic_type\": \"\",\n        \"description\": \"\"\n      }\n    },\n    {\n      \"column\": 9,\n      \"properties\": {\n        \"dtype\": \"float32\",\n        \"num_unique_values\": 1116,\n        \"samples\": [\n          10.57196044921875,\n          3.2968709468841553,\n          -2.74056339263916\n        ],\n        \"semantic_type\": \"\",\n        \"description\": \"\"\n      }\n    },\n    {\n      \"column\": 10,\n      \"properties\": {\n        \"dtype\": \"float32\",\n        \"num_unique_values\": 1117,\n        \"samples\": [\n          -5.02798318862915,\n          -5.42944860458374,\n          -23.119354248046875\n        ],\n        \"semantic_type\": \"\",\n        \"description\": \"\"\n      }\n    },\n    {\n      \"column\": 11,\n      \"properties\": {\n        \"dtype\": \"float32\",\n        \"num_unique_values\": 1117,\n        \"samples\": [\n          9.525798797607422,\n          5.417632579803467,\n          -5.88610315322876\n        ],\n        \"semantic_type\": \"\",\n        \"description\": \"\"\n      }\n    },\n    {\n      \"column\": 12,\n      \"properties\": {\n        \"dtype\": \"float32\",\n        \"num_unique_values\": 1116,\n        \"samples\": [\n          4.522226333618164,\n          -12.192927360534668,\n          -20.08979034423828\n        ],\n        \"semantic_type\": \"\",\n        \"description\": \"\"\n      }\n    },\n    {\n      \"column\": \"label\",\n      \"properties\": {\n        \"dtype\": \"number\",\n        \"std\": 0,\n        \"min\": 0,\n        \"max\": 1,\n        \"num_unique_values\": 2,\n        \"samples\": [\n          1,\n          0\n        ],\n        \"semantic_type\": \"\",\n        \"description\": \"\"\n      }\n    }\n  ]\n}"
            }
          },
          "metadata": {},
          "execution_count": 172
        }
      ],
      "source": [
        "data_reverse_balanced"
      ]
    },
    {
      "cell_type": "code",
      "execution_count": null,
      "metadata": {
        "colab": {
          "base_uri": "https://localhost:8080/"
        },
        "id": "qNmlhpj1v4TC",
        "outputId": "1714d3e6-b70c-44e1-bb4e-4b1cee2c76c5"
      },
      "outputs": [
        {
          "output_type": "display_data",
          "data": {
            "text/plain": [
              "<Figure size 1000x600 with 1 Axes>"
            ],
            "image/png": "[encoded data removed]"
          },
          "metadata": {}
        }
      ],
      "source": [
        "# Contar as ocorrências de cada label\n",
        "label_counts = [labels_reverse_balanced.count(0), labels_reverse_balanced.count(1)]\n",
        "\n",
        "# Plotando o gráfico\n",
        "plt.figure(figsize=(10, 6))  # Ajuste do tamanho do gráfico\n",
        "plt.bar([0, 1], label_counts, tick_label=['Fake', 'Real'], color=['#1f77b4', '#ff7f0e'])\n",
        "\n",
        "# Adicionando rótulos e título\n",
        "plt.xlabel('Tipo dos Áudios')\n",
        "plt.ylabel('Quantidade')\n",
        "plt.title('Balanço de Áudios Reais e Fakes')\n",
        "plt.show()"
      ]
    },
    {
      "cell_type": "code",
      "execution_count": null,
      "metadata": {
        "id": "f6zX6sknv4TD"
      },
      "outputs": [],
      "source": [
        "# Separar características (X) e rótulos (y)\n",
        "X = data_reverse_balanced.drop(columns=['label'])\n",
        "y = data_reverse_balanced['label']\n",
        "\n",
        "# Dividir em treino e teste\n",
        "X_train, X_test, y_train, y_test = train_test_split(X, y, test_size=0.2, random_state=42)"
      ]
    },
    {
      "cell_type": "code",
      "execution_count": null,
      "metadata": {
        "id": "aYqFxuXjvyAC",
        "colab": {
          "base_uri": "https://localhost:8080/"
        },
        "outputId": "3c73447d-202f-40be-a585-5228fa2401e3"
      },
      "outputs": [
        {
          "output_type": "stream",
          "name": "stdout",
          "text": [
            "Epoch 1/10\n"
          ]
        },
        {
          "output_type": "stream",
          "name": "stderr",
          "text": [
            "/usr/local/lib/python3.11/dist-packages/keras/src/layers/core/dense.py:87: UserWarning: Do not pass an `input_shape`/`input_dim` argument to a layer. When using Sequential models, prefer using an `Input(shape)` object as the first layer in the model instead.\n",
            "  super().__init__(activity_regularizer=activity_regularizer, **kwargs)\n"
          ]
        },
        {
          "output_type": "stream",
          "name": "stdout",
          "text": [
            "\u001b[1m45/45\u001b[0m \u001b[32m━━━━━━━━━━━━━━━━━━━━\u001b[0m\u001b[37m\u001b[0m \u001b[1m2s\u001b[0m 1ms/step - accuracy: 0.5631 - loss: 3.6945\n",
            "Epoch 2/10\n",
            "\u001b[1m45/45\u001b[0m \u001b[32m━━━━━━━━━━━━━━━━━━━━\u001b[0m\u001b[37m\u001b[0m \u001b[1m0s\u001b[0m 1ms/step - accuracy: 0.6961 - loss: 0.7047\n",
            "Epoch 3/10\n",
            "\u001b[1m45/45\u001b[0m \u001b[32m━━━━━━━━━━━━━━━━━━━━\u001b[0m\u001b[37m\u001b[0m \u001b[1m0s\u001b[0m 1ms/step - accuracy: 0.7841 - loss: 0.4862\n",
            "Epoch 4/10\n",
            "\u001b[1m45/45\u001b[0m \u001b[32m━━━━━━━━━━━━━━━━━━━━\u001b[0m\u001b[37m\u001b[0m \u001b[1m0s\u001b[0m 1ms/step - accuracy: 0.8001 - loss: 0.4603\n",
            "Epoch 5/10\n",
            "\u001b[1m45/45\u001b[0m \u001b[32m━━━━━━━━━━━━━━━━━━━━\u001b[0m\u001b[37m\u001b[0m \u001b[1m0s\u001b[0m 1ms/step - accuracy: 0.8631 - loss: 0.3364\n",
            "Epoch 6/10\n",
            "\u001b[1m45/45\u001b[0m \u001b[32m━━━━━━━━━━━━━━━━━━━━\u001b[0m\u001b[37m\u001b[0m \u001b[1m0s\u001b[0m 1ms/step - accuracy: 0.8587 - loss: 0.3487\n",
            "Epoch 7/10\n",
            "\u001b[1m45/45\u001b[0m \u001b[32m━━━━━━━━━━━━━━━━━━━━\u001b[0m\u001b[37m\u001b[0m \u001b[1m0s\u001b[0m 1ms/step - accuracy: 0.8844 - loss: 0.3041\n",
            "Epoch 8/10\n",
            "\u001b[1m45/45\u001b[0m \u001b[32m━━━━━━━━━━━━━━━━━━━━\u001b[0m\u001b[37m\u001b[0m \u001b[1m0s\u001b[0m 1ms/step - accuracy: 0.8699 - loss: 0.3402\n",
            "Epoch 9/10\n",
            "\u001b[1m45/45\u001b[0m \u001b[32m━━━━━━━━━━━━━━━━━━━━\u001b[0m\u001b[37m\u001b[0m \u001b[1m0s\u001b[0m 1ms/step - accuracy: 0.8827 - loss: 0.2877\n",
            "Epoch 10/10\n",
            "\u001b[1m45/45\u001b[0m \u001b[32m━━━━━━━━━━━━━━━━━━━━\u001b[0m\u001b[37m\u001b[0m \u001b[1m0s\u001b[0m 1ms/step - accuracy: 0.9055 - loss: 0.2470\n",
            "\u001b[1m12/12\u001b[0m \u001b[32m━━━━━━━━━━━━━━━━━━━━\u001b[0m\u001b[37m\u001b[0m \u001b[1m0s\u001b[0m 4ms/step \n"
          ]
        }
      ],
      "source": [
        "# Definição do modelo DNN\n",
        "model = tf.keras.Sequential([\n",
        "    tf.keras.layers.Dense(64, activation='relu', input_shape=(X_train.shape[1],)),\n",
        "    tf.keras.layers.Dense(1, activation='sigmoid')\n",
        "])\n",
        "\n",
        "# Compilação e treinamento do modelo\n",
        "model.compile(optimizer='adam', loss='binary_crossentropy', metrics=['accuracy'])\n",
        "model.fit(X_train, y_train, epochs=10, batch_size=32)\n",
        "\n",
        "# Predições e métricas\n",
        "y_pred_proba = model.predict(X_test)  # Predições de probabilidade\n",
        "y_pred = (y_pred_proba > 0.5).astype(int)  # Converter para rótulos binários"
      ]
    },
    {
      "cell_type": "code",
      "execution_count": null,
      "metadata": {
        "id": "w2lwQlfv0Qri",
        "colab": {
          "base_uri": "https://localhost:8080/"
        },
        "outputId": "6c06a583-5562-4584-cf98-919fbfd5a468"
      },
      "outputs": [
        {
          "output_type": "stream",
          "name": "stdout",
          "text": [
            "Acurácia: 0.89\n",
            "Precisão: 0.87\n",
            "Recall: 0.93\n",
            "F1-Score: 0.90\n"
          ]
        }
      ],
      "source": [
        "# Calculando as métricas de classificação\n",
        "accuracy = accuracy_score(y_test, y_pred)\n",
        "precision = precision_score(y_test, y_pred)\n",
        "recall = recall_score(y_test, y_pred)\n",
        "f1 = f1_score(y_test, y_pred)\n",
        "\n",
        "# Exibindo as métricas\n",
        "print(f\"Acurácia: {accuracy:.2f}\")\n",
        "print(f\"Precisão: {precision:.2f}\")\n",
        "print(f\"Recall: {recall:.2f}\")\n",
        "print(f\"F1-Score: {f1:.2f}\")"
      ]
    },
    {
      "cell_type": "code",
      "execution_count": null,
      "metadata": {
        "id": "v3MkWeW9KuIt"
      },
      "outputs": [],
      "source": [
        "# Treinando um modelo de regressão linear\n",
        "model = RandomForestClassifier()\n",
        "rfc = model.fit(X_train, y_train)\n",
        "\n",
        "# Fazendo previsões no conjunto de teste\n",
        "y_pred = rfc.predict(X_test)"
      ]
    },
    {
      "cell_type": "code",
      "execution_count": null,
      "metadata": {
        "id": "pJ0LHz2ORhH-",
        "colab": {
          "base_uri": "https://localhost:8080/"
        },
        "outputId": "62cbcacc-0828-4bdf-9c3a-a90db8d306b7"
      },
      "outputs": [
        {
          "output_type": "stream",
          "name": "stdout",
          "text": [
            "Acurácia: 1.00\n",
            "Precisão: 1.00\n",
            "Recall: 1.00\n",
            "F1-Score: 1.00\n"
          ]
        }
      ],
      "source": [
        "# Calculando as métricas de classificação\n",
        "accuracy = accuracy_score(y_test, y_pred)\n",
        "precision = precision_score(y_test, y_pred)\n",
        "recall = recall_score(y_test, y_pred)\n",
        "f1 = f1_score(y_test, y_pred)\n",
        "\n",
        "# Exibindo as métricas\n",
        "print(f\"Acurácia: {accuracy:.2f}\")\n",
        "print(f\"Precisão: {precision:.2f}\")\n",
        "print(f\"Recall: {recall:.2f}\")\n",
        "print(f\"F1-Score: {f1:.2f}\")"
      ]
    },
    {
      "cell_type": "code",
      "execution_count": null,
      "metadata": {
        "id": "22xAFv68q4eN"
      },
      "outputs": [],
      "source": [
        "# Treinando um modelo knc\n",
        "model = KNeighborsClassifier()\n",
        "knc = model.fit(X_train,y_train)\n",
        "\n",
        "# Fazendo previsões no conjunto de teste\n",
        "y_pred = knc.predict(X_test)"
      ]
    },
    {
      "cell_type": "code",
      "execution_count": null,
      "metadata": {
        "id": "K6FL0XLrrcv8",
        "colab": {
          "base_uri": "https://localhost:8080/"
        },
        "outputId": "c7fcfdf2-82ee-4afb-8283-5883436aaa99"
      },
      "outputs": [
        {
          "output_type": "stream",
          "name": "stdout",
          "text": [
            "Acurácia: 0.96\n",
            "Precisão: 1.00\n",
            "Recall: 0.93\n",
            "F1-Score: 0.96\n"
          ]
        }
      ],
      "source": [
        "# Calculando as métricas de classificação\n",
        "accuracy = accuracy_score(y_test, y_pred)\n",
        "precision = precision_score(y_test, y_pred)\n",
        "recall = recall_score(y_test, y_pred)\n",
        "f1 = f1_score(y_test, y_pred)\n",
        "\n",
        "# Exibindo as métricas\n",
        "print(f\"Acurácia: {accuracy:.2f}\")\n",
        "print(f\"Precisão: {precision:.2f}\")\n",
        "print(f\"Recall: {recall:.2f}\")\n",
        "print(f\"F1-Score: {f1:.2f}\")"
      ]
    },
    {
      "cell_type": "code",
      "execution_count": null,
      "metadata": {
        "id": "bGPRdTIRuhi1"
      },
      "outputs": [],
      "source": [
        "model = XGBClassifier()\n",
        "xgb = model.fit(X_train, y_train)\n",
        "\n",
        "# Fazendo previsões no conjunto de teste\n",
        "y_pred = xgb.predict(X_test)"
      ]
    },
    {
      "cell_type": "code",
      "execution_count": null,
      "metadata": {
        "id": "LjP4ohEVwSJu",
        "colab": {
          "base_uri": "https://localhost:8080/"
        },
        "outputId": "5b8e6c0f-47eb-428f-c211-200edf73f7b4"
      },
      "outputs": [
        {
          "output_type": "stream",
          "name": "stdout",
          "text": [
            "Acurácia: 0.99\n",
            "Precisão: 1.00\n",
            "Recall: 0.99\n",
            "F1-Score: 0.99\n"
          ]
        }
      ],
      "source": [
        "# Calculando as métricas de classificação\n",
        "accuracy = accuracy_score(y_test, y_pred)\n",
        "precision = precision_score(y_test, y_pred)\n",
        "recall = recall_score(y_test, y_pred)\n",
        "f1 = f1_score(y_test, y_pred)\n",
        "\n",
        "# Exibindo as métricas\n",
        "print(f\"Acurácia: {accuracy:.2f}\")\n",
        "print(f\"Precisão: {precision:.2f}\")\n",
        "print(f\"Recall: {recall:.2f}\")\n",
        "print(f\"F1-Score: {f1:.2f}\")"
      ]
    },
    {
      "cell_type": "code",
      "execution_count": null,
      "metadata": {
        "id": "1NroFHv-wWpb",
        "colab": {
          "base_uri": "https://localhost:8080/"
        },
        "outputId": "c0c0bfd5-5ccb-4ee4-ea95-ecf4bf5dddf3"
      },
      "outputs": [
        {
          "output_type": "stream",
          "name": "stdout",
          "text": [
            "[LightGBM] [Info] Number of positive: 716, number of negative: 717\n",
            "[LightGBM] [Info] Auto-choosing col-wise multi-threading, the overhead of testing was 0.004454 seconds.\n",
            "You can set `force_col_wise=true` to remove the overhead.\n",
            "[LightGBM] [Info] Total Bins 3315\n",
            "[LightGBM] [Info] Number of data points in the train set: 1433, number of used features: 13\n",
            "[LightGBM] [Info] [binary:BoostFromScore]: pavg=0.499651 -> initscore=-0.001396\n",
            "[LightGBM] [Info] Start training from score -0.001396\n"
          ]
        }
      ],
      "source": [
        "model = LGBMClassifier(n_estimators=100, learning_rate=0.1, num_leaves=31)\n",
        "LGBMC = model.fit(X_train, y_train)\n",
        "\n",
        "y_pred = LGBMC.predict(X_test)"
      ]
    },
    {
      "cell_type": "code",
      "execution_count": null,
      "metadata": {
        "id": "T59Ic6lQwjRh",
        "colab": {
          "base_uri": "https://localhost:8080/"
        },
        "outputId": "86527b08-2873-495a-87ae-6b4266f2e56e"
      },
      "outputs": [
        {
          "output_type": "stream",
          "name": "stdout",
          "text": [
            "Acurácia: 1.00\n",
            "Precisão: 1.00\n",
            "Recall: 1.00\n",
            "F1-Score: 1.00\n"
          ]
        }
      ],
      "source": [
        "# Calculando as métricas de classificação\n",
        "accuracy = accuracy_score(y_test, y_pred)\n",
        "precision = precision_score(y_test, y_pred)\n",
        "recall = recall_score(y_test, y_pred)\n",
        "f1 = f1_score(y_test, y_pred)\n",
        "\n",
        "# Exibindo as métricas\n",
        "print(f\"Acurácia: {accuracy:.2f}\")\n",
        "print(f\"Precisão: {precision:.2f}\")\n",
        "print(f\"Recall: {recall:.2f}\")\n",
        "print(f\"F1-Score: {f1:.2f}\")"
      ]
    },
    {
      "cell_type": "code",
      "execution_count": null,
      "metadata": {
        "id": "RhJL0hg7xBoC",
        "colab": {
          "base_uri": "https://localhost:8080/"
        },
        "outputId": "27251de2-1aac-4bba-dbec-0e8e3873be92"
      },
      "outputs": [
        {
          "output_type": "stream",
          "name": "stdout",
          "text": [
            "Epoch 1/10\n"
          ]
        },
        {
          "output_type": "stream",
          "name": "stderr",
          "text": [
            "/usr/local/lib/python3.11/dist-packages/keras/src/layers/core/dense.py:87: UserWarning: Do not pass an `input_shape`/`input_dim` argument to a layer. When using Sequential models, prefer using an `Input(shape)` object as the first layer in the model instead.\n",
            "  super().__init__(activity_regularizer=activity_regularizer, **kwargs)\n"
          ]
        },
        {
          "output_type": "stream",
          "name": "stdout",
          "text": [
            "\u001b[1m45/45\u001b[0m \u001b[32m━━━━━━━━━━━━━━━━━━━━\u001b[0m\u001b[37m\u001b[0m \u001b[1m1s\u001b[0m 2ms/step - accuracy: 0.5390 - loss: 10.2247\n",
            "Epoch 2/10\n",
            "\u001b[1m45/45\u001b[0m \u001b[32m━━━━━━━━━━━━━━━━━━━━\u001b[0m\u001b[37m\u001b[0m \u001b[1m0s\u001b[0m 2ms/step - accuracy: 0.6718 - loss: 1.1324\n",
            "Epoch 3/10\n",
            "\u001b[1m45/45\u001b[0m \u001b[32m━━━━━━━━━━━━━━━━━━━━\u001b[0m\u001b[37m\u001b[0m \u001b[1m0s\u001b[0m 2ms/step - accuracy: 0.7436 - loss: 0.5245\n",
            "Epoch 4/10\n",
            "\u001b[1m45/45\u001b[0m \u001b[32m━━━━━━━━━━━━━━━━━━━━\u001b[0m\u001b[37m\u001b[0m \u001b[1m0s\u001b[0m 2ms/step - accuracy: 0.7816 - loss: 0.4659\n",
            "Epoch 5/10\n",
            "\u001b[1m45/45\u001b[0m \u001b[32m━━━━━━━━━━━━━━━━━━━━\u001b[0m\u001b[37m\u001b[0m \u001b[1m0s\u001b[0m 2ms/step - accuracy: 0.7832 - loss: 0.4537\n",
            "Epoch 6/10\n",
            "\u001b[1m45/45\u001b[0m \u001b[32m━━━━━━━━━━━━━━━━━━━━\u001b[0m\u001b[37m\u001b[0m \u001b[1m0s\u001b[0m 2ms/step - accuracy: 0.7974 - loss: 0.4321\n",
            "Epoch 7/10\n",
            "\u001b[1m45/45\u001b[0m \u001b[32m━━━━━━━━━━━━━━━━━━━━\u001b[0m\u001b[37m\u001b[0m \u001b[1m0s\u001b[0m 2ms/step - accuracy: 0.8327 - loss: 0.3678\n",
            "Epoch 8/10\n",
            "\u001b[1m45/45\u001b[0m \u001b[32m━━━━━━━━━━━━━━━━━━━━\u001b[0m\u001b[37m\u001b[0m \u001b[1m0s\u001b[0m 2ms/step - accuracy: 0.8647 - loss: 0.3488\n",
            "Epoch 9/10\n",
            "\u001b[1m45/45\u001b[0m \u001b[32m━━━━━━━━━━━━━━━━━━━━\u001b[0m\u001b[37m\u001b[0m \u001b[1m0s\u001b[0m 2ms/step - accuracy: 0.8306 - loss: 0.3835\n",
            "Epoch 10/10\n",
            "\u001b[1m45/45\u001b[0m \u001b[32m━━━━━━━━━━━━━━━━━━━━\u001b[0m\u001b[37m\u001b[0m \u001b[1m0s\u001b[0m 2ms/step - accuracy: 0.8630 - loss: 0.3294\n",
            "\u001b[1m12/12\u001b[0m \u001b[32m━━━━━━━━━━━━━━━━━━━━\u001b[0m\u001b[37m\u001b[0m \u001b[1m0s\u001b[0m 6ms/step\n"
          ]
        }
      ],
      "source": [
        "# Definição do modelo\n",
        "input_shape = (X_train.shape[1],)  # Número de colunas do conjunto de treino\n",
        "model = tf.keras.Sequential([\n",
        "    tf.keras.layers.Dense(64, activation='relu', input_shape=input_shape),\n",
        "    tf.keras.layers.Dense(1, activation='sigmoid')\n",
        "])\n",
        "\n",
        "# Compilação e treinamento\n",
        "model.compile(optimizer='adam', loss='binary_crossentropy', metrics=['accuracy'])\n",
        "model.fit(X_train, y_train, epochs=10, batch_size=32)\n",
        "\n",
        "# Predições e métricas\n",
        "y_pred_proba = model.predict(X_test)  # Predições de probabilidade\n",
        "y_pred = (y_pred_proba > 0.5).astype(int)  # Converter para rótulos binários"
      ]
    },
    {
      "cell_type": "code",
      "execution_count": null,
      "metadata": {
        "id": "z-fPqWyKxE2H",
        "colab": {
          "base_uri": "https://localhost:8080/"
        },
        "outputId": "f0c62893-c8a2-4b02-d860-ba0e26bd7862"
      },
      "outputs": [
        {
          "output_type": "stream",
          "name": "stdout",
          "text": [
            "Acurácia: 0.86\n",
            "Precisão: 0.96\n",
            "Recall: 0.75\n",
            "F1-Score: 0.84\n"
          ]
        }
      ],
      "source": [
        "# Calculando as métricas de classificação\n",
        "accuracy = accuracy_score(y_test, y_pred)\n",
        "precision = precision_score(y_test, y_pred)\n",
        "recall = recall_score(y_test, y_pred)\n",
        "f1 = f1_score(y_test, y_pred)\n",
        "\n",
        "# Exibindo as métricas\n",
        "print(f\"Acurácia: {accuracy:.2f}\")\n",
        "print(f\"Precisão: {precision:.2f}\")\n",
        "print(f\"Recall: {recall:.2f}\")\n",
        "print(f\"F1-Score: {f1:.2f}\")"
      ]
    },
    {
      "cell_type": "code",
      "execution_count": null,
      "metadata": {
        "id": "PaAvjd4NwzUb"
      },
      "outputs": [],
      "source": [
        "model = DecisionTreeClassifier(criterion='gini', random_state=42)\n",
        "DTC = model.fit(X_train, y_train)\n",
        "\n",
        "y_pred = DTC.predict(X_test)"
      ]
    },
    {
      "cell_type": "code",
      "execution_count": null,
      "metadata": {
        "id": "V0yq3DxGw0oE",
        "colab": {
          "base_uri": "https://localhost:8080/"
        },
        "outputId": "255a6098-b35c-42d9-f440-123d9f77b55e"
      },
      "outputs": [
        {
          "output_type": "stream",
          "name": "stdout",
          "text": [
            "Acurácia: 0.99\n",
            "Precisão: 1.00\n",
            "Recall: 0.98\n",
            "F1-Score: 0.99\n"
          ]
        }
      ],
      "source": [
        "# Calculando as métricas de classificação\n",
        "accuracy = accuracy_score(y_test, y_pred)\n",
        "precision = precision_score(y_test, y_pred)\n",
        "recall = recall_score(y_test, y_pred)\n",
        "f1 = f1_score(y_test, y_pred)\n",
        "\n",
        "# Exibindo as métricas\n",
        "print(f\"Acurácia: {accuracy:.2f}\")\n",
        "print(f\"Precisão: {precision:.2f}\")\n",
        "print(f\"Recall: {recall:.2f}\")\n",
        "print(f\"F1-Score: {f1:.2f}\")"
      ]
    },
    {
      "cell_type": "code",
      "execution_count": null,
      "metadata": {
        "id": "LOVzSRHqxMwP",
        "colab": {
          "base_uri": "https://localhost:8080/"
        },
        "outputId": "b7cf4aa7-ff5c-4a78-f5eb-42986d9f449f"
      },
      "outputs": [
        {
          "output_type": "stream",
          "name": "stdout",
          "text": [
            "Epoch 1/10\n"
          ]
        },
        {
          "output_type": "stream",
          "name": "stderr",
          "text": [
            "/usr/local/lib/python3.11/dist-packages/keras/src/layers/convolutional/base_conv.py:107: UserWarning: Do not pass an `input_shape`/`input_dim` argument to a layer. When using Sequential models, prefer using an `Input(shape)` object as the first layer in the model instead.\n",
            "  super().__init__(activity_regularizer=activity_regularizer, **kwargs)\n"
          ]
        },
        {
          "output_type": "stream",
          "name": "stdout",
          "text": [
            "\u001b[1m45/45\u001b[0m \u001b[32m━━━━━━━━━━━━━━━━━━━━\u001b[0m\u001b[37m\u001b[0m \u001b[1m2s\u001b[0m 2ms/step - accuracy: 0.4442 - loss: 1.2857\n",
            "Epoch 2/10\n",
            "\u001b[1m45/45\u001b[0m \u001b[32m━━━━━━━━━━━━━━━━━━━━\u001b[0m\u001b[37m\u001b[0m \u001b[1m0s\u001b[0m 2ms/step - accuracy: 0.7285 - loss: 0.5925\n",
            "Epoch 3/10\n",
            "\u001b[1m45/45\u001b[0m \u001b[32m━━━━━━━━━━━━━━━━━━━━\u001b[0m\u001b[37m\u001b[0m \u001b[1m0s\u001b[0m 2ms/step - accuracy: 0.7943 - loss: 0.4497\n",
            "Epoch 4/10\n",
            "\u001b[1m45/45\u001b[0m \u001b[32m━━━━━━━━━━━━━━━━━━━━\u001b[0m\u001b[37m\u001b[0m \u001b[1m0s\u001b[0m 3ms/step - accuracy: 0.8272 - loss: 0.4055\n",
            "Epoch 5/10\n",
            "\u001b[1m45/45\u001b[0m \u001b[32m━━━━━━━━━━━━━━━━━━━━\u001b[0m\u001b[37m\u001b[0m \u001b[1m0s\u001b[0m 1ms/step - accuracy: 0.8433 - loss: 0.3726\n",
            "Epoch 6/10\n",
            "\u001b[1m45/45\u001b[0m \u001b[32m━━━━━━━━━━━━━━━━━━━━\u001b[0m\u001b[37m\u001b[0m \u001b[1m0s\u001b[0m 1ms/step - accuracy: 0.8375 - loss: 0.3495\n",
            "Epoch 7/10\n",
            "\u001b[1m45/45\u001b[0m \u001b[32m━━━━━━━━━━━━━━━━━━━━\u001b[0m\u001b[37m\u001b[0m \u001b[1m0s\u001b[0m 1ms/step - accuracy: 0.8435 - loss: 0.3309\n",
            "Epoch 8/10\n",
            "\u001b[1m45/45\u001b[0m \u001b[32m━━━━━━━━━━━━━━━━━━━━\u001b[0m\u001b[37m\u001b[0m \u001b[1m0s\u001b[0m 2ms/step - accuracy: 0.8506 - loss: 0.3320\n",
            "Epoch 9/10\n",
            "\u001b[1m45/45\u001b[0m \u001b[32m━━━━━━━━━━━━━━━━━━━━\u001b[0m\u001b[37m\u001b[0m \u001b[1m0s\u001b[0m 2ms/step - accuracy: 0.8465 - loss: 0.3409\n",
            "Epoch 10/10\n",
            "\u001b[1m45/45\u001b[0m \u001b[32m━━━━━━━━━━━━━━━━━━━━\u001b[0m\u001b[37m\u001b[0m \u001b[1m0s\u001b[0m 1ms/step - accuracy: 0.8593 - loss: 0.3021\n",
            "\u001b[1m12/12\u001b[0m \u001b[32m━━━━━━━━━━━━━━━━━━━━\u001b[0m\u001b[37m\u001b[0m \u001b[1m0s\u001b[0m 5ms/step\n"
          ]
        }
      ],
      "source": [
        "# Definição do modelo Conv1D\n",
        "input_shape = (X_train.shape[1], 1)  # Número de características e 1 canal\n",
        "model = tf.keras.Sequential([\n",
        "    tf.keras.layers.Conv1D(32, kernel_size=3, activation='relu', input_shape=input_shape),\n",
        "    tf.keras.layers.Flatten(),\n",
        "    tf.keras.layers.Dense(1, activation='sigmoid')\n",
        "])\n",
        "\n",
        "# Compilação e treinamento do modelo\n",
        "model.compile(optimizer='adam', loss='binary_crossentropy', metrics=['accuracy'])\n",
        "model.fit(X_train, y_train, epochs=10, batch_size=32)\n",
        "\n",
        "# Predições e métricas\n",
        "y_pred_proba = model.predict(X_test)  # Predições de probabilidade\n",
        "y_pred = (y_pred_proba > 0.5).astype(int)  # Converter para rótulos binários"
      ]
    },
    {
      "cell_type": "code",
      "execution_count": null,
      "metadata": {
        "id": "BiZQ_V9txPtx",
        "colab": {
          "base_uri": "https://localhost:8080/"
        },
        "outputId": "b7135a36-edbb-4de4-e02e-0e1b6fe4ba86"
      },
      "outputs": [
        {
          "output_type": "stream",
          "name": "stdout",
          "text": [
            "Acurácia: 0.90\n",
            "Precisão: 0.96\n",
            "Recall: 0.84\n",
            "F1-Score: 0.90\n"
          ]
        }
      ],
      "source": [
        "# Calculando as métricas de classificação\n",
        "accuracy = accuracy_score(y_test, y_pred)\n",
        "precision = precision_score(y_test, y_pred)\n",
        "recall = recall_score(y_test, y_pred)\n",
        "f1 = f1_score(y_test, y_pred)\n",
        "\n",
        "# Exibindo as métricas\n",
        "print(f\"Acurácia: {accuracy:.2f}\")\n",
        "print(f\"Precisão: {precision:.2f}\")\n",
        "print(f\"Recall: {recall:.2f}\")\n",
        "print(f\"F1-Score: {f1:.2f}\")"
      ]
    }
  ],
  "metadata": {
    "colab": {
      "provenance": [],
      "authorship_tag": "ABX9TyNIzM+Jeb1hNP5gKgjRU8AC"
    },
    "kernelspec": {
      "display_name": "Python 3",
      "name": "python3"
    },
    "language_info": {
      "name": "python"
    }
  },
  "nbformat": 4,
  "nbformat_minor": 0
}