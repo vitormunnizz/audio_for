{
  "cells": [
    {
      "cell_type": "code",
      "source": [
        "import os\n",
        "import librosa\n",
        "import numpy as np\n",
        "import soundfile as sf\n",
        "import random\n",
        "import matplotlib.pyplot as plt\n",
        "import pandas as pd\n",
        "\n",
        "from sklearn.model_selection import train_test_split\n",
        "from sklearn.ensemble import RandomForestClassifier\n",
        "from sklearn.neighbors import KNeighborsClassifier\n",
        "from xgboost import XGBClassifier\n",
        "from lightgbm import LGBMClassifier\n",
        "from sklearn.tree import DecisionTreeClassifier\n",
        "from sklearn.metrics import accuracy_score, precision_score, recall_score, f1_score"
      ],
      "metadata": {
        "id": "IyGP8t3h5FDK"
      },
      "execution_count": null,
      "outputs": []
    },
    {
      "cell_type": "code",
      "source": [
        "# Montar o Google Drive\n",
        "from google.colab import drive\n",
        "drive.mount('/content/drive', force_remount=True)"
      ],
      "metadata": {
        "colab": {
          "base_uri": "https://localhost:8080/"
        },
        "id": "NX-59NtLUgIp",
        "outputId": "aaa364a8-41e5-4b7d-d8f5-78f038393863"
      },
      "execution_count": null,
      "outputs": [
        {
          "output_type": "stream",
          "name": "stdout",
          "text": [
            "Mounted at /content/drive\n"
          ]
        }
      ]
    },
    {
      "cell_type": "code",
      "source": [
        "# Função para aplicar SpecAugment\n",
        "def spec_augment(mfccs, time_mask_param=10, freq_mask_param=5):\n",
        "    # Máscara de tempo\n",
        "    time_mask = np.random.randint(0, time_mask_param)\n",
        "    mfccs[:, time_mask:time_mask + np.random.randint(0, time_mask_param)] = 0\n",
        "\n",
        "    # Máscara de frequência\n",
        "    freq_mask = np.random.randint(0, freq_mask_param)\n",
        "    mfccs[freq_mask:freq_mask + np.random.randint(0, freq_mask_param), :] = 0\n",
        "\n",
        "    return mfccs\n",
        "\n",
        "# Função para extrair MFCCs do áudio\n",
        "def extract_features(y, sr):\n",
        "    try:\n",
        "        mfccs = librosa.feature.mfcc(y=y, sr=sr, n_mfcc=13)\n",
        "        return np.mean(mfccs.T, axis=0)  # Retorna a média dos coeficientes\n",
        "    except Exception as e:\n",
        "        print(f\"Erro ao extrair MFCCs: {e}\")\n",
        "        return None\n",
        "\n",
        "# Função para carregar dados e aplicar SpecAugment\n",
        "def load_data_with_spec_augment(folder_path, label):\n",
        "    data = []\n",
        "    labels = []\n",
        "\n",
        "    for file_name in os.listdir(folder_path):\n",
        "        file_path = os.path.join(folder_path, file_name)\n",
        "        try:\n",
        "            y, sr = librosa.load(file_path, sr=None)\n",
        "\n",
        "            # Extrair features do áudio original\n",
        "            features = extract_features(y, sr)\n",
        "            if features is not None:\n",
        "                data.append(features)\n",
        "                labels.append(label)\n",
        "\n",
        "            # Aplicar SpecAugment\n",
        "            mfccs = librosa.feature.mfcc(y=y, sr=sr, n_mfcc=13)\n",
        "            mfccs_augmented = spec_augment(mfccs)\n",
        "            features_augmented = np.mean(mfccs_augmented.T, axis=0)\n",
        "\n",
        "            if features_augmented is not None:\n",
        "                data.append(features_augmented)\n",
        "                labels.append(label)\n",
        "\n",
        "        except Exception as e:\n",
        "            print(f\"Erro ao processar {file_path}: {e}\")\n",
        "\n",
        "    return data, labels"
      ],
      "metadata": {
        "id": "dFVi8Ikv5dk3"
      },
      "execution_count": null,
      "outputs": []
    },
    {
      "cell_type": "code",
      "source": [
        "# Definir caminhos dos áudios\n",
        "file_path_real = '/content/drive/MyDrive/audios_FOR/real'\n",
        "file_path_fake = '/content/drive/MyDrive/audios_FOR/fake'\n",
        "\n",
        "# Criar diretórios se não existirem\n",
        "os.makedirs(file_path_real, exist_ok=True)\n",
        "os.makedirs(file_path_fake, exist_ok=True)\n",
        "\n",
        "# Carregar dados com ruído\n",
        "data_real, labels_real = load_data_with_spec_augment(file_path_real, label=1)  # Áudios reais\n",
        "data_fake, labels_fake = load_data_with_spec_augment(file_path_fake, label=0)  # Áudios falsos\n",
        "\n",
        "# Unir dados reais e falsos\n",
        "data = data_real + data_fake\n",
        "labels = labels_real + labels_fake\n",
        "\n",
        "# Remover valores None\n",
        "data_filtered, labels_filtered = zip(*[(d, l) for d, l in zip(data, labels) if d is not None])"
      ],
      "metadata": {
        "id": "LLLGCK6U5oo5"
      },
      "execution_count": null,
      "outputs": []
    },
    {
      "cell_type": "code",
      "source": [
        "# Criar DataFrame\n",
        "df = pd.DataFrame(data_filtered)\n",
        "df['label'] = labels_filtered"
      ],
      "metadata": {
        "id": "01RZMiPl5RHw"
      },
      "execution_count": null,
      "outputs": []
    },
    {
      "cell_type": "code",
      "source": [
        "# Visualizar distribuição dos rótulos\n",
        "plt.figure(figsize=(8, 6))\n",
        "plt.bar(df['label'].value_counts().index, df['label'].value_counts().values, tick_label=['Fake', 'Real'], color=['#1f77b4', '#ff7f0e'])\n",
        "plt.xlabel('Tipo dos Áudios')\n",
        "plt.ylabel('Quantidade')\n",
        "plt.title('Distribuição de Áudios Reais e Falsos')\n",
        "plt.show()"
      ],
      "metadata": {
        "colab": {
          "base_uri": "https://localhost:8080/",
          "height": 569
        },
        "id": "MwmY4ZeX5PHm",
        "outputId": "dfd19f38-f567-49f8-b110-a6a50590105d"
      },
      "execution_count": null,
      "outputs": [
        {
          "output_type": "display_data",
          "data": {
            "text/plain": [
              "<Figure size 800x600 with 1 Axes>"
            ],
            "image/png": "[encoded data removed]"
          },
          "metadata": {}
        }
      ]
    },
    {
      "cell_type": "code",
      "source": [
        "# Separar características (X) e rótulos (y)\n",
        "X = df.drop(columns=['label'])\n",
        "y = df['label']\n",
        "\n",
        "# Dividir em treino e teste\n",
        "X_train, X_test, y_train, y_test = train_test_split(X, y, test_size=0.2, random_state=42)"
      ],
      "metadata": {
        "id": "_v0oc81v5Kiq"
      },
      "execution_count": null,
      "outputs": []
    },
    {
      "cell_type": "code",
      "source": [
        "# Modelos para classificação\n",
        "models = {\n",
        "    \"RandomForest\": RandomForestClassifier(),\n",
        "    \"KNeighbors\": KNeighborsClassifier(),\n",
        "    \"XGBoost\": XGBClassifier(),\n",
        "    \"LGBM\": LGBMClassifier(n_estimators=100, learning_rate=0.1, num_leaves=31, verbose=-1),\n",
        "    \"DecisionTree\": DecisionTreeClassifier(criterion='gini', random_state=42)\n",
        "}\n",
        "\n",
        "# Treinar e avaliar modelos\n",
        "for name, model in models.items():\n",
        "    print(f\"Treinando e avaliando {name}:\")\n",
        "    model.fit(X_train, y_train)\n",
        "    y_pred = model.predict(X_test)\n",
        "\n",
        "    print(f\"Acurácia: {accuracy_score(y_test, y_pred):.2f}\")\n",
        "    print(f\"Precisão: {precision_score(y_test, y_pred):.2f}\")\n",
        "    print(f\"Recall: {recall_score(y_test, y_pred):.2f}\")\n",
        "    print(f\"F1-Score: {f1_score(y_test, y_pred):.2f}\")\n",
        "    print(\"-\" * 50)"
      ],
      "metadata": {
        "colab": {
          "base_uri": "https://localhost:8080/"
        },
        "id": "eng5Qxz-5HNr",
        "outputId": "1d7011a2-a2e4-43ed-b314-04940d0f477f"
      },
      "execution_count": null,
      "outputs": [
        {
          "output_type": "stream",
          "name": "stdout",
          "text": [
            "Treinando e avaliando RandomForest:\n",
            "Acurácia: 0.95\n",
            "Precisão: 0.94\n",
            "Recall: 0.99\n",
            "F1-Score: 0.96\n",
            "--------------------------------------------------\n",
            "Treinando e avaliando KNeighbors:\n",
            "Acurácia: 0.91\n",
            "Precisão: 0.93\n",
            "Recall: 0.93\n",
            "F1-Score: 0.93\n",
            "--------------------------------------------------\n",
            "Treinando e avaliando XGBoost:\n",
            "Acurácia: 0.97\n",
            "Precisão: 0.97\n",
            "Recall: 0.98\n",
            "F1-Score: 0.97\n",
            "--------------------------------------------------\n",
            "Treinando e avaliando LGBM:\n",
            "Acurácia: 0.95\n",
            "Precisão: 0.96\n",
            "Recall: 0.98\n",
            "F1-Score: 0.97\n",
            "--------------------------------------------------\n",
            "Treinando e avaliando DecisionTree:\n",
            "Acurácia: 0.89\n",
            "Precisão: 0.91\n",
            "Recall: 0.92\n",
            "F1-Score: 0.92\n",
            "--------------------------------------------------\n"
          ]
        }
      ]
    }
  ],
  "metadata": {
    "colab": {
      "provenance": [],
      "authorship_tag": "ABX9TyO777vPeJOME6pMF4Yg1/4j"
    },
    "kernelspec": {
      "display_name": "Python 3",
      "name": "python3"
    },
    "language_info": {
      "name": "python"
    }
  },
  "nbformat": 4,
  "nbformat_minor": 0
}