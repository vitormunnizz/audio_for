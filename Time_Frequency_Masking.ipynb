{
  "cells": [
    {
      "cell_type": "code",
      "source": [
        "import os\n",
        "import librosa\n",
        "import pandas as pd\n",
        "import numpy as np\n",
        "import matplotlib.pyplot as plt\n",
        "from sklearn.model_selection import train_test_split\n",
        "from sklearn.ensemble import RandomForestClassifier\n",
        "from sklearn.naive_bayes import GaussianNB\n",
        "from sklearn.neighbors import KNeighborsClassifier\n",
        "from sklearn.preprocessing import StandardScaler\n",
        "from sklearn.metrics import accuracy_score, precision_score, recall_score, f1_score\n",
        "import lightgbm as lgb\n",
        "from keras.models import Sequential\n",
        "from keras.layers import LSTM, Dense, Dropout\n",
        "from sklearn.decomposition import PCA\n",
        "import warnings\n",
        "warnings.filterwarnings(\"ignore\", category=UserWarning)\n",
        "from imblearn.over_sampling import SMOTE\n",
        "from imblearn.under_sampling import RandomUnderSampler\n",
        "from collections import Counter"
      ],
      "metadata": {
        "id": "IyGP8t3h5FDK"
      },
      "execution_count": null,
      "outputs": []
    },
    {
      "cell_type": "code",
      "source": [
        "# Montar o Google Drive\n",
        "from google.colab import drive\n",
        "drive.mount('/content/drive', force_remount=True)"
      ],
      "metadata": {
        "colab": {
          "base_uri": "https://localhost:8080/"
        },
        "id": "NX-59NtLUgIp",
        "outputId": "b34d7b45-e816-4097-d5c5-1fd28de62948"
      },
      "execution_count": null,
      "outputs": [
        {
          "output_type": "stream",
          "name": "stdout",
          "text": [
            "Mounted at /content/drive\n"
          ]
        }
      ]
    },
    {
      "cell_type": "code",
      "source": [
        "# Função para aplicar SpecAugment\n",
        "def spec_augment(mfccs, time_mask_param=10, freq_mask_param=5):\n",
        "    # Máscara de tempo\n",
        "    time_mask = np.random.randint(0, time_mask_param)\n",
        "    mfccs[:, time_mask:time_mask + np.random.randint(0, time_mask_param)] = 0\n",
        "\n",
        "    # Máscara de frequência\n",
        "    freq_mask = np.random.randint(0, freq_mask_param)\n",
        "    mfccs[freq_mask:freq_mask + np.random.randint(0, freq_mask_param), :] = 0\n",
        "\n",
        "    return mfccs\n",
        "\n",
        "# Função para extrair MFCCs do áudio\n",
        "def extract_features(y, sr):\n",
        "    try:\n",
        "        mfccs = librosa.feature.mfcc(y=y, sr=sr, n_mfcc=13)\n",
        "        return np.mean(mfccs.T, axis=0)  # Retorna a média dos coeficientes\n",
        "    except Exception as e:\n",
        "        print(f\"Erro ao extrair MFCCs: {e}\")\n",
        "        return None\n",
        "\n",
        "# Função para carregar dados e aplicar SpecAugment\n",
        "def load_data_with_spec_augment(folder_path, label):\n",
        "    data = []\n",
        "    labels = []\n",
        "\n",
        "    for file_name in os.listdir(folder_path):\n",
        "        file_path = os.path.join(folder_path, file_name)\n",
        "        try:\n",
        "            y, sr = librosa.load(file_path, sr=None)\n",
        "\n",
        "            # Extrair features do áudio original\n",
        "            features = extract_features(y, sr)\n",
        "            if features is not None:\n",
        "                data.append(features)\n",
        "                labels.append(label)\n",
        "\n",
        "            # Aplicar SpecAugment\n",
        "            mfccs = librosa.feature.mfcc(y=y, sr=sr, n_mfcc=13)\n",
        "            mfccs_augmented = spec_augment(mfccs)\n",
        "            features_augmented = np.mean(mfccs_augmented.T, axis=0)\n",
        "\n",
        "            if features_augmented is not None:\n",
        "                data.append(features_augmented)\n",
        "                labels.append(label)\n",
        "\n",
        "        except Exception as e:\n",
        "            print(f\"Erro ao processar {file_path}: {e}\")\n",
        "\n",
        "    return data, labels"
      ],
      "metadata": {
        "id": "dFVi8Ikv5dk3"
      },
      "execution_count": null,
      "outputs": []
    },
    {
      "cell_type": "code",
      "source": [
        "# Definir caminhos dos áudios\n",
        "file_path_real = '/content/drive/MyDrive/audios_FOR/real'\n",
        "file_path_fake = '/content/drive/MyDrive/audios_FOR/fake'\n",
        "\n",
        "# Criar diretórios se não existirem\n",
        "os.makedirs(file_path_real, exist_ok=True)\n",
        "os.makedirs(file_path_fake, exist_ok=True)\n",
        "\n",
        "# Carregar dados com ruído\n",
        "data_real, labels_real = load_data_with_spec_augment(file_path_real, label=1)  # Áudios reais\n",
        "data_fake, labels_fake = load_data_with_spec_augment(file_path_fake, label=0)  # Áudios falsos\n",
        "\n",
        "# Unir dados reais e falsos\n",
        "data = data_real + data_fake\n",
        "labels = labels_real + labels_fake\n",
        "\n",
        "# Remover valores None\n",
        "data_filtered, labels_filtered = zip(*[(d, l) for d, l in zip(data, labels) if d is not None])"
      ],
      "metadata": {
        "id": "LLLGCK6U5oo5"
      },
      "execution_count": null,
      "outputs": []
    },
    {
      "cell_type": "code",
      "source": [
        "def plot_spectrogram_comparison(folder_path):\n",
        "    import matplotlib.pyplot as plt\n",
        "    import librosa.display\n",
        "    import os\n",
        "    import librosa\n",
        "    import numpy as np\n",
        "\n",
        "    plt.style.use('default')  # fundo branco\n",
        "\n",
        "    # Pega o primeiro arquivo da pasta\n",
        "    first_audio_file = os.listdir(folder_path)[0]\n",
        "    audio_path = os.path.join(folder_path, first_audio_file)\n",
        "\n",
        "    # Carrega o áudio\n",
        "    y, sr = librosa.load(audio_path, sr=None)\n",
        "\n",
        "    # Gera espectrograma original\n",
        "    S = librosa.feature.melspectrogram(y=y, sr=sr, n_mels=128)\n",
        "    S_db = librosa.power_to_db(S, ref=np.max)\n",
        "\n",
        "    # Função SpecAugment\n",
        "    def spec_augment(mel_spec, time_mask_param=10, freq_mask_param=5):\n",
        "        mel_spec = mel_spec.copy()\n",
        "        time_mask = np.random.randint(0, time_mask_param)\n",
        "        mel_spec[:, time_mask:time_mask + np.random.randint(1, time_mask_param)] = 0\n",
        "        freq_mask = np.random.randint(0, freq_mask_param)\n",
        "        mel_spec[freq_mask:freq_mask + np.random.randint(1, freq_mask_param), :] = 0\n",
        "        return mel_spec\n",
        "\n",
        "    # Aplica augmentação\n",
        "    S_aug = spec_augment(S_db)\n",
        "\n",
        "    # Estilo minimalista\n",
        "    fig, ax = plt.subplots(2, 1, figsize=(10, 5))\n",
        "\n",
        "    img1 = librosa.display.specshow(S_db, sr=sr, x_axis='time', y_axis='mel', cmap='gray_r', ax=ax[0])\n",
        "    ax[0].set_title(\"Espectrograma Original\", fontsize=13)\n",
        "    ax[0].label_outer()\n",
        "\n",
        "    img2 = librosa.display.specshow(S_aug, sr=sr, x_axis='time', y_axis='mel', cmap='gray_r', ax=ax[1])\n",
        "    ax[1].set_title(\"Espectrograma com SpecAugment\", fontsize=13)\n",
        "    ax[1].set_xlabel(\"Tempo\")\n",
        "    ax[1].set_ylabel(\"Frequência (Mel)\")\n",
        "\n",
        "    # Sem bordas pesadas nem grid\n",
        "    for a in ax:\n",
        "        a.set_facecolor('white')\n",
        "\n",
        "    plt.tight_layout()\n",
        "    plt.show()"
      ],
      "metadata": {
        "id": "60WmDTPNADK9"
      },
      "execution_count": null,
      "outputs": []
    },
    {
      "cell_type": "code",
      "source": [
        "plot_spectrogram_comparison(\"/content/drive/MyDrive/audios_FOR/real\")"
      ],
      "metadata": {
        "colab": {
          "base_uri": "https://localhost:8080/",
          "height": 507
        },
        "id": "OP0gIUYlAHjX",
        "outputId": "47550bfd-50d7-4689-b666-d7e0cc8ceba5"
      },
      "execution_count": null,
      "outputs": [
        {
          "output_type": "display_data",
          "data": {
            "text/plain": [
              "<Figure size 1000x500 with 2 Axes>"
            ],
            "image/png": "[encoded data removed]"
          },
          "metadata": {}
        }
      ]
    },
    {
      "cell_type": "code",
      "source": [
        "# Criar DataFrame\n",
        "df = pd.DataFrame(data_filtered)\n",
        "df['label'] = labels_filtered"
      ],
      "metadata": {
        "id": "01RZMiPl5RHw"
      },
      "execution_count": null,
      "outputs": []
    },
    {
      "cell_type": "code",
      "source": [
        "df.shape"
      ],
      "metadata": {
        "colab": {
          "base_uri": "https://localhost:8080/"
        },
        "id": "UrqcDhSpriLz",
        "outputId": "2aa348bc-1e82-4cbe-ceae-5fea7178fe07"
      },
      "execution_count": null,
      "outputs": [
        {
          "output_type": "execute_result",
          "data": {
            "text/plain": [
              "(1440, 14)"
            ]
          },
          "metadata": {},
          "execution_count": 40
        }
      ]
    },
    {
      "cell_type": "code",
      "source": [
        "# Separar características (X) e rótulos (y)\n",
        "X = df.drop(columns=['label'])\n",
        "y = df['label']"
      ],
      "metadata": {
        "id": "_v0oc81v5Kiq"
      },
      "execution_count": null,
      "outputs": []
    },
    {
      "cell_type": "code",
      "source": [
        "# UNDERSAMPLING\n",
        "under = RandomUnderSampler(random_state=42)\n",
        "X_under, y_under = under.fit_resample(X, y)\n",
        "print(\"Distribuição após undersampling:\", Counter(y_under))"
      ],
      "metadata": {
        "colab": {
          "base_uri": "https://localhost:8080/"
        },
        "id": "ekRlITWco9io",
        "outputId": "8b5d8401-4dec-483a-b57b-f04ca698ee27"
      },
      "execution_count": null,
      "outputs": [
        {
          "output_type": "stream",
          "name": "stdout",
          "text": [
            "Distribuição após undersampling: Counter({0: 410, 1: 410})\n"
          ]
        }
      ]
    },
    {
      "cell_type": "code",
      "source": [
        "# OVERSAMPLING (SMOTE)\n",
        "smote = SMOTE(random_state=42)\n",
        "X_over, y_over = smote.fit_resample(X, y)\n",
        "print(\"Distribuição após oversampling:\", Counter(y_over))"
      ],
      "metadata": {
        "colab": {
          "base_uri": "https://localhost:8080/"
        },
        "id": "Opq_hjL5pEln",
        "outputId": "94698acb-1e3c-4d01-a719-bc7ce521ddf6"
      },
      "execution_count": null,
      "outputs": [
        {
          "output_type": "stream",
          "name": "stdout",
          "text": [
            "Distribuição após oversampling: Counter({1: 1030, 0: 1030})\n"
          ]
        }
      ]
    },
    {
      "cell_type": "code",
      "source": [
        "# Função para calcular e exibir as métricas\n",
        "def print_metrics(y_true, y_pred):\n",
        "    accuracy = accuracy_score(y_true, y_pred)\n",
        "    precision = precision_score(y_true, y_pred)\n",
        "    recall = recall_score(y_true, y_pred)\n",
        "    f1 = f1_score(y_true, y_pred)\n",
        "\n",
        "    print(f\"Acurácia: {accuracy:.2f}\")\n",
        "    print(f\"Precisão: {precision:.2f}\")\n",
        "    print(f\"Recall: {recall:.2f}\")\n",
        "    print(f\"F1-Score: {f1:.2f}\")\n",
        "    print(\"\\n\")"
      ],
      "metadata": {
        "id": "1u1JYEepqFCE"
      },
      "execution_count": null,
      "outputs": []
    },
    {
      "cell_type": "markdown",
      "source": [
        "### Random Forest"
      ],
      "metadata": {
        "id": "-GKaHiVdq_PI"
      }
    },
    {
      "cell_type": "code",
      "source": [
        "# Dividir em treino e teste\n",
        "X_train_rf_model, X_test_rf_model, y_train_rf_model, y_test_rf_model = train_test_split(X, y, test_size=0.2, random_state=1)\n",
        "\n",
        "\n",
        "rf_model = RandomForestClassifier(n_estimators=1, max_features=1)\n",
        "rf_model.fit(X_train_rf_model, y_train_rf_model)\n",
        "rf_pred = rf_model.predict(X_test_rf_model)\n",
        "print(\"Random Forest:\")\n",
        "print_metrics(y_test_rf_model, rf_pred)"
      ],
      "metadata": {
        "colab": {
          "base_uri": "https://localhost:8080/"
        },
        "id": "xtm8swVeHwzu",
        "outputId": "704c7ade-e3f4-4908-9120-c28d0ef5d665"
      },
      "execution_count": null,
      "outputs": [
        {
          "output_type": "stream",
          "name": "stdout",
          "text": [
            "Random Forest:\n",
            "Acurácia: 0.83\n",
            "Precisão: 0.90\n",
            "Recall: 0.85\n",
            "F1-Score: 0.88\n",
            "\n",
            "\n"
          ]
        }
      ]
    },
    {
      "cell_type": "code",
      "source": [
        "# Dividir em treino e teste\n",
        "X_train_rf_model_under, X_test_rf_model_under, y_train_rf_model_under, y_test_rf_model_under = train_test_split(X_under, y_under, test_size=0.2, random_state=1)\n",
        "\n",
        "\n",
        "rf_model_under = RandomForestClassifier(n_estimators=1, max_features=1)\n",
        "rf_model_under.fit(X_train_rf_model_under, y_train_rf_model_under)\n",
        "rf_pred_under = rf_model_under.predict(X_test_rf_model_under)\n",
        "print(\"Random Forest (Undersampling):\")\n",
        "print_metrics(y_test_rf_model_under, rf_pred_under)"
      ],
      "metadata": {
        "colab": {
          "base_uri": "https://localhost:8080/"
        },
        "id": "c-_gDON6pMv5",
        "outputId": "18c421f4-dae0-47a7-edbe-e03ed8b05a86"
      },
      "execution_count": null,
      "outputs": [
        {
          "output_type": "stream",
          "name": "stdout",
          "text": [
            "Random Forest (Undersampling):\n",
            "Acurácia: 0.73\n",
            "Precisão: 0.74\n",
            "Recall: 0.71\n",
            "F1-Score: 0.73\n",
            "\n",
            "\n"
          ]
        }
      ]
    },
    {
      "cell_type": "code",
      "source": [
        "# Dividir em treino e teste\n",
        "X_train_rf_model_over, X_test_rf_model_over, y_train_rf_model_over, y_test_rf_model_over = train_test_split(X_over, y_over, test_size=0.2, random_state=1)\n",
        "\n",
        "\n",
        "rf_model_over = RandomForestClassifier(n_estimators=1, max_features=1)\n",
        "rf_model_over.fit(X_train_rf_model_over, y_train_rf_model_over)\n",
        "rf_pred_over = rf_model_over.predict(X_test_rf_model_over)\n",
        "print(\"Random Forest (Oversampling):\")\n",
        "print_metrics(y_test_rf_model_over, rf_pred_over)"
      ],
      "metadata": {
        "colab": {
          "base_uri": "https://localhost:8080/"
        },
        "id": "0EozJLCspNZy",
        "outputId": "db74c010-8f80-4774-a043-c5b3df72572f"
      },
      "execution_count": null,
      "outputs": [
        {
          "output_type": "stream",
          "name": "stdout",
          "text": [
            "Random Forest (Oversampling):\n",
            "Acurácia: 0.84\n",
            "Precisão: 0.85\n",
            "Recall: 0.84\n",
            "F1-Score: 0.84\n",
            "\n",
            "\n"
          ]
        }
      ]
    },
    {
      "cell_type": "markdown",
      "source": [
        "### LightGBM"
      ],
      "metadata": {
        "id": "-ICjIwjvrMoV"
      }
    },
    {
      "cell_type": "code",
      "source": [
        "# Dividir em treino e teste\n",
        "X_train_lgb_model, X_test_lgb_model, y_train_lgb_model, y_test_lgb_model = train_test_split(X, y, test_size=0.2, random_state=2)\n",
        "\n",
        "lgb_model = lgb.LGBMClassifier(verbose=-1, n_estimators=1)\n",
        "lgb_model.fit(X_train_lgb_model, y_train_lgb_model)\n",
        "lgb_pred = lgb_model.predict(X_test_lgb_model)\n",
        "print(\"LightGBM:\")\n",
        "print_metrics(y_test_lgb_model, lgb_pred)"
      ],
      "metadata": {
        "colab": {
          "base_uri": "https://localhost:8080/"
        },
        "id": "AFm9J8zbH1sb",
        "outputId": "9b1a44dd-c62d-47a7-f43d-ce76e9eeeca0"
      },
      "execution_count": null,
      "outputs": [
        {
          "output_type": "stream",
          "name": "stdout",
          "text": [
            "LightGBM:\n",
            "Acurácia: 0.72\n",
            "Precisão: 0.72\n",
            "Recall: 1.00\n",
            "F1-Score: 0.83\n",
            "\n",
            "\n"
          ]
        }
      ]
    },
    {
      "cell_type": "code",
      "source": [
        "# LightGBM com undersampling\n",
        "X_train_lgb_model_under, X_test_lgb_model_under, y_train_lgb_model_under, y_test_lgb_model_under = train_test_split(X_under, y_under, test_size=0.2, random_state=2)\n",
        "\n",
        "lgb_model_under = lgb.LGBMClassifier(verbose=-1, n_estimators=1)\n",
        "lgb_model_under.fit(X_train_lgb_model_under, y_train_lgb_model_under)\n",
        "lgb_pred_under = lgb_model_under.predict(X_test_lgb_model_under)\n",
        "print(\"LightGBM (Undersampling):\")\n",
        "print_metrics(y_test_lgb_model_under, lgb_pred_under)"
      ],
      "metadata": {
        "colab": {
          "base_uri": "https://localhost:8080/"
        },
        "id": "gxDAXyXRq41_",
        "outputId": "2e687ae5-6101-429c-d63a-95fb6c128975"
      },
      "execution_count": null,
      "outputs": [
        {
          "output_type": "stream",
          "name": "stdout",
          "text": [
            "LightGBM (Undersampling):\n",
            "Acurácia: 0.82\n",
            "Precisão: 0.80\n",
            "Recall: 0.87\n",
            "F1-Score: 0.84\n",
            "\n",
            "\n"
          ]
        }
      ]
    },
    {
      "cell_type": "code",
      "source": [
        "# LightGBM com oversampling\n",
        "X_train_lgb_model_over, X_test_lgb_model_over, y_train_lgb_model_over, y_test_lgb_model_over = train_test_split(X_over, y_over, test_size=0.2, random_state=2)\n",
        "\n",
        "lgb_model_over = lgb.LGBMClassifier(verbose=-1, n_estimators=1)\n",
        "lgb_model_over.fit(X_train_lgb_model_over, y_train_lgb_model_over)\n",
        "lgb_pred_over = lgb_model_over.predict(X_test_lgb_model_over)\n",
        "print(\"LightGBM (Oversampling):\")\n",
        "print_metrics(y_test_lgb_model_over, lgb_pred_over)"
      ],
      "metadata": {
        "colab": {
          "base_uri": "https://localhost:8080/"
        },
        "id": "3Fo_4Zjaq1vS",
        "outputId": "41a77dd2-cb18-4d58-87ce-9260d9bac086"
      },
      "execution_count": null,
      "outputs": [
        {
          "output_type": "stream",
          "name": "stdout",
          "text": [
            "LightGBM (Oversampling):\n",
            "Acurácia: 0.85\n",
            "Precisão: 0.85\n",
            "Recall: 0.85\n",
            "F1-Score: 0.85\n",
            "\n",
            "\n"
          ]
        }
      ]
    },
    {
      "cell_type": "markdown",
      "source": [
        "### Naïve Bayes"
      ],
      "metadata": {
        "id": "OyrCT5yyrfR1"
      }
    },
    {
      "cell_type": "code",
      "source": [
        "# Dividir em treino e teste\n",
        "X_train_nb_model, X_test_nb_model, y_train_nb_model, y_test_nb_model = train_test_split(X, y, test_size=0.2, random_state=5)\n",
        "\n",
        "# 3. Naïve Bayes\n",
        "nb_model = GaussianNB()\n",
        "nb_model.fit(X_train_nb_model, y_train_nb_model)\n",
        "nb_pred = nb_model.predict(X_test_nb_model)\n",
        "print(\"Naïve Bayes:\")\n",
        "print_metrics(y_test_nb_model, nb_pred)"
      ],
      "metadata": {
        "colab": {
          "base_uri": "https://localhost:8080/"
        },
        "id": "lrodgnWX9LGV",
        "outputId": "06a7baf4-86e2-44fe-e557-0ab2b56274fd"
      },
      "execution_count": null,
      "outputs": [
        {
          "output_type": "stream",
          "name": "stdout",
          "text": [
            "Naïve Bayes:\n",
            "Acurácia: 0.79\n",
            "Precisão: 0.83\n",
            "Recall: 0.86\n",
            "F1-Score: 0.85\n",
            "\n",
            "\n"
          ]
        }
      ]
    },
    {
      "cell_type": "code",
      "source": [
        "# Naïve Bayes com undersampling\n",
        "X_train_nb_model_under, X_test_nb_model_under, y_train_nb_model_under, y_test_nb_model_under = train_test_split(X_under, y_under, test_size=0.2, random_state=5)\n",
        "\n",
        "nb_model_under = GaussianNB()\n",
        "nb_model_under.fit(X_train_nb_model_under, y_train_nb_model_under)\n",
        "nb_pred_under = nb_model_under.predict(X_test_nb_model_under)\n",
        "print(\"Naïve Bayes (Undersampling):\")\n",
        "print_metrics(y_test_nb_model_under, nb_pred_under)"
      ],
      "metadata": {
        "colab": {
          "base_uri": "https://localhost:8080/"
        },
        "id": "CiDhO4HNrnqp",
        "outputId": "b43df7d0-687e-43fe-c4e7-7fc0b420e1f6"
      },
      "execution_count": null,
      "outputs": [
        {
          "output_type": "stream",
          "name": "stdout",
          "text": [
            "Naïve Bayes (Undersampling):\n",
            "Acurácia: 0.81\n",
            "Precisão: 0.84\n",
            "Recall: 0.80\n",
            "F1-Score: 0.82\n",
            "\n",
            "\n"
          ]
        }
      ]
    },
    {
      "cell_type": "code",
      "source": [
        "# Naïve Bayes com oversampling\n",
        "X_train_nb_model_over, X_test_nb_model_over, y_train_nb_model_over, y_test_nb_model_over = train_test_split(X_over, y_over, test_size=0.2, random_state=5)\n",
        "\n",
        "nb_model_over = GaussianNB()\n",
        "nb_model_over.fit(X_train_nb_model_over, y_train_nb_model_over)\n",
        "nb_pred_over = nb_model_over.predict(X_test_nb_model_over)\n",
        "print(\"Naïve Bayes (Oversampling):\")\n",
        "print_metrics(y_test_nb_model_over, nb_pred_over)"
      ],
      "metadata": {
        "colab": {
          "base_uri": "https://localhost:8080/"
        },
        "id": "zM828kHBrkF9",
        "outputId": "53afab50-c3ec-4984-9198-377cdb73b4a1"
      },
      "execution_count": null,
      "outputs": [
        {
          "output_type": "stream",
          "name": "stdout",
          "text": [
            "Naïve Bayes (Oversampling):\n",
            "Acurácia: 0.81\n",
            "Precisão: 0.87\n",
            "Recall: 0.74\n",
            "F1-Score: 0.80\n",
            "\n",
            "\n"
          ]
        }
      ]
    },
    {
      "cell_type": "markdown",
      "source": [
        "### LSTM"
      ],
      "metadata": {
        "id": "LQF4lmbHrwVE"
      }
    },
    {
      "cell_type": "code",
      "source": [
        "# Dividir em treino e teste\n",
        "X_train_lstm, X_test_lstm, y_train_lstm, y_test_lstm = train_test_split(X, y, test_size=0.2, random_state=4)\n",
        "\n",
        "# Padronização dos dados para LSTM e KNN\n",
        "scaler = StandardScaler()\n",
        "X_train_scaled_lstm = scaler.fit_transform(X_train_lstm)\n",
        "X_test_scaled_lstm = scaler.transform(X_test_lstm)\n",
        "\n",
        "# 4. LSTM\n",
        "X_train_lstm = X_train_scaled_lstm.reshape(-1, 1, X_train_scaled_lstm.shape[1])\n",
        "X_test_lstm = X_test_scaled_lstm.reshape(-1, 1, X_test_scaled_lstm.shape[1])\n",
        "\n",
        "lstm_model = Sequential()\n",
        "lstm_model.add(LSTM(units=1, input_shape=(X_train_lstm.shape[1], X_train_lstm.shape[2])))\n",
        "lstm_model.add(Dense(units=1, activation='sigmoid'))\n",
        "\n",
        "lstm_model.compile(optimizer='adam', loss='mse')\n",
        "lstm_model.fit(X_train_lstm, y_train_lstm, verbose=0)\n",
        "lstm_pred = (lstm_model.predict(X_test_lstm) > 0.5).astype(\"int64\")\n",
        "print(\"LSTM:\")\n",
        "print_metrics(y_test_lstm, lstm_pred)"
      ],
      "metadata": {
        "colab": {
          "base_uri": "https://localhost:8080/"
        },
        "id": "gbIg7Sp6OC85",
        "outputId": "84ebcdd2-0f0b-4f06-98b6-415e8864186a"
      },
      "execution_count": null,
      "outputs": [
        {
          "output_type": "stream",
          "name": "stdout",
          "text": [
            "\u001b[1m9/9\u001b[0m \u001b[32m━━━━━━━━━━━━━━━━━━━━\u001b[0m\u001b[37m\u001b[0m \u001b[1m0s\u001b[0m 7ms/step  \n",
            "LSTM:\n",
            "Acurácia: 0.67\n",
            "Precisão: 0.71\n",
            "Recall: 0.91\n",
            "F1-Score: 0.80\n",
            "\n",
            "\n"
          ]
        }
      ]
    },
    {
      "cell_type": "code",
      "source": [
        "# LSTM com undersampling\n",
        "X_train_lstm_under, X_test_lstm_under, y_train_lstm_under, y_test_lstm_under = train_test_split(X_under, y_under, test_size=0.2, random_state=4)\n",
        "\n",
        "# Padronização\n",
        "scaler_under = StandardScaler()\n",
        "X_train_scaled_lstm_under = scaler_under.fit_transform(X_train_lstm_under)\n",
        "X_test_scaled_lstm_under = scaler_under.transform(X_test_lstm_under)\n",
        "\n",
        "# Remodelar\n",
        "X_train_lstm_under = X_train_scaled_lstm_under.reshape(-1, 1, X_train_scaled_lstm_under.shape[1])\n",
        "X_test_lstm_under = X_test_scaled_lstm_under.reshape(-1, 1, X_test_scaled_lstm_under.shape[1])\n",
        "\n",
        "lstm_model_under = Sequential()\n",
        "lstm_model_under.add(LSTM(units=1, input_shape=(X_train_lstm_under.shape[1], X_train_lstm_under.shape[2])))\n",
        "lstm_model_under.add(Dense(units=1, activation='sigmoid'))\n",
        "\n",
        "lstm_model_under.compile(optimizer='adam', loss='mse')\n",
        "lstm_model_under.fit(X_train_lstm_under, y_train_lstm_under, verbose=0)\n",
        "lstm_pred_under = (lstm_model_under.predict(X_test_lstm_under) > 0.5).astype(\"int64\")\n",
        "print(\"LSTM (Undersampling):\")\n",
        "print_metrics(y_test_lstm_under, lstm_pred_under)"
      ],
      "metadata": {
        "colab": {
          "base_uri": "https://localhost:8080/"
        },
        "id": "1czZ3j2ar9MW",
        "outputId": "70d62f61-1ed2-4cd9-f4d7-05abe9599cd1"
      },
      "execution_count": null,
      "outputs": [
        {
          "output_type": "stream",
          "name": "stdout",
          "text": [
            "\u001b[1m6/6\u001b[0m \u001b[32m━━━━━━━━━━━━━━━━━━━━\u001b[0m\u001b[37m\u001b[0m \u001b[1m0s\u001b[0m 40ms/step\n",
            "LSTM (Undersampling):\n",
            "Acurácia: 0.38\n",
            "Precisão: 0.37\n",
            "Recall: 0.34\n",
            "F1-Score: 0.35\n",
            "\n",
            "\n"
          ]
        }
      ]
    },
    {
      "cell_type": "code",
      "source": [
        "# LSTM com oversampling\n",
        "X_train_lstm_over, X_test_lstm_over, y_train_lstm_over, y_test_lstm_over = train_test_split(X_over, y_over, test_size=0.2, random_state=4)\n",
        "\n",
        "# Padronização\n",
        "scaler_over = StandardScaler()\n",
        "X_train_scaled_lstm_over = scaler_over.fit_transform(X_train_lstm_over)\n",
        "X_test_scaled_lstm_over = scaler_over.transform(X_test_lstm_over)\n",
        "\n",
        "# Remodelar para 3D (amostras, time steps, features)\n",
        "X_train_lstm_over = X_train_scaled_lstm_over.reshape(-1, 1, X_train_scaled_lstm_over.shape[1])\n",
        "X_test_lstm_over = X_test_scaled_lstm_over.reshape(-1, 1, X_test_scaled_lstm_over.shape[1])\n",
        "\n",
        "lstm_model_over = Sequential()\n",
        "lstm_model_over.add(LSTM(units=1, input_shape=(X_train_lstm_over.shape[1], X_train_lstm_over.shape[2])))\n",
        "lstm_model_over.add(Dense(units=1, activation='sigmoid'))\n",
        "\n",
        "lstm_model_over.compile(optimizer='adam', loss='mse')\n",
        "lstm_model_over.fit(X_train_lstm_over, y_train_lstm_over, verbose=0)\n",
        "lstm_pred_over = (lstm_model_over.predict(X_test_lstm_over) > 0.5).astype(\"int64\")\n",
        "print(\"LSTM (Oversampling):\")\n",
        "print_metrics(y_test_lstm_over, lstm_pred_over)"
      ],
      "metadata": {
        "colab": {
          "base_uri": "https://localhost:8080/"
        },
        "id": "k_fRcZrrr2CM",
        "outputId": "c207e79d-9ac7-4dd8-b023-b1760a3a87c8"
      },
      "execution_count": null,
      "outputs": [
        {
          "output_type": "stream",
          "name": "stdout",
          "text": [
            "\u001b[1m13/13\u001b[0m \u001b[32m━━━━━━━━━━━━━━━━━━━━\u001b[0m\u001b[37m\u001b[0m \u001b[1m0s\u001b[0m 19ms/step\n",
            "LSTM (Oversampling):\n",
            "Acurácia: 0.56\n",
            "Precisão: 0.57\n",
            "Recall: 0.53\n",
            "F1-Score: 0.55\n",
            "\n",
            "\n"
          ]
        }
      ]
    },
    {
      "cell_type": "markdown",
      "source": [
        "### KNN"
      ],
      "metadata": {
        "id": "mxExBHbhsAZN"
      }
    },
    {
      "cell_type": "code",
      "source": [
        "# Dividir em treino e teste\n",
        "X_train_knn_model, X_test_knn_model, y_train_knn_model, y_test_knn_model = train_test_split(X, y, test_size=0.2, random_state=5)\n",
        "\n",
        "# 5. KNN\n",
        "knn_model = KNeighborsClassifier(n_neighbors=100)\n",
        "knn_model.fit(X_train_knn_model, y_train_knn_model)\n",
        "knn_pred = knn_model.predict(X_test_knn_model)\n",
        "print(\"KNN:\")\n",
        "print_metrics(y_test_knn_model, knn_pred)"
      ],
      "metadata": {
        "colab": {
          "base_uri": "https://localhost:8080/"
        },
        "id": "gBNHntIwOOMx",
        "outputId": "583bf979-5e93-4433-af36-612684918de8"
      },
      "execution_count": null,
      "outputs": [
        {
          "output_type": "stream",
          "name": "stdout",
          "text": [
            "KNN:\n",
            "Acurácia: 0.77\n",
            "Precisão: 0.77\n",
            "Recall: 0.93\n",
            "F1-Score: 0.84\n",
            "\n",
            "\n"
          ]
        }
      ]
    },
    {
      "cell_type": "code",
      "source": [
        "# KNN com undersampling\n",
        "X_train_knn_model_under, X_test_knn_model_under, y_train_knn_model_under, y_test_knn_model_under = train_test_split(X_under, y_under, test_size=0.2, random_state=5)\n",
        "\n",
        "scaler_knn_under = StandardScaler()\n",
        "X_train_scaled_knn_under = scaler_knn_under.fit_transform(X_train_knn_model_under)\n",
        "X_test_scaled_knn_under = scaler_knn_under.transform(X_test_knn_model_under)\n",
        "\n",
        "knn_model_under = KNeighborsClassifier(n_neighbors=100)\n",
        "knn_model_under.fit(X_train_scaled_knn_under, y_train_knn_model_under)\n",
        "knn_pred_under = knn_model_under.predict(X_test_scaled_knn_under)\n",
        "print(\"KNN (Undersampling):\")\n",
        "print_metrics(y_test_knn_model_under, knn_pred_under)"
      ],
      "metadata": {
        "colab": {
          "base_uri": "https://localhost:8080/"
        },
        "id": "rtlieijosLEU",
        "outputId": "c3b4e5c7-0c02-440d-e5b0-b073881d61a8"
      },
      "execution_count": null,
      "outputs": [
        {
          "output_type": "stream",
          "name": "stdout",
          "text": [
            "KNN (Undersampling):\n",
            "Acurácia: 0.81\n",
            "Precisão: 0.88\n",
            "Recall: 0.75\n",
            "F1-Score: 0.81\n",
            "\n",
            "\n"
          ]
        }
      ]
    },
    {
      "cell_type": "code",
      "source": [
        "# KNN com oversampling\n",
        "X_train_knn_model_over, X_test_knn_model_over, y_train_knn_model_over, y_test_knn_model_over = train_test_split(X_over, y_over, test_size=0.2, random_state=5)\n",
        "\n",
        "scaler_knn_over = StandardScaler()\n",
        "X_train_scaled_knn_over = scaler_knn_over.fit_transform(X_train_knn_model_over)\n",
        "X_test_scaled_knn_over = scaler_knn_over.transform(X_test_knn_model_over)\n",
        "\n",
        "knn_model_over = KNeighborsClassifier(n_neighbors=100)\n",
        "knn_model_over.fit(X_train_scaled_knn_over, y_train_knn_model_over)\n",
        "knn_pred_over = knn_model_over.predict(X_test_scaled_knn_over)\n",
        "print(\"KNN (Oversampling):\")\n",
        "print_metrics(y_test_knn_model_over, knn_pred_over)"
      ],
      "metadata": {
        "colab": {
          "base_uri": "https://localhost:8080/"
        },
        "id": "lo7opqDYsG8U",
        "outputId": "2889112b-34fa-46a4-da9c-5badbd617554"
      },
      "execution_count": null,
      "outputs": [
        {
          "output_type": "stream",
          "name": "stdout",
          "text": [
            "KNN (Oversampling):\n",
            "Acurácia: 0.81\n",
            "Precisão: 0.90\n",
            "Recall: 0.70\n",
            "F1-Score: 0.79\n",
            "\n",
            "\n"
          ]
        }
      ]
    }
  ],
  "metadata": {
    "colab": {
      "provenance": [],
      "authorship_tag": "ABX9TyN2E+hs2IsHHq8YeNmozr9r"
    },
    "kernelspec": {
      "display_name": "Python 3",
      "name": "python3"
    },
    "language_info": {
      "name": "python"
    }
  },
  "nbformat": 4,
  "nbformat_minor": 0
}