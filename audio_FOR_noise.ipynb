{
  "cells": [
    {
      "cell_type": "code",
      "execution_count": null,
      "metadata": {
        "id": "dbI4Hery0Pvo"
      },
      "outputs": [],
      "source": [
        "import os\n",
        "import librosa\n",
        "import librosa.display\n",
        "import pandas as pd\n",
        "import numpy as np\n",
        "import random\n",
        "\n",
        "import seaborn as sns\n",
        "import matplotlib.pyplot as plt\n",
        "from scipy.io.wavfile import write\n",
        "import shutil\n",
        "import soundfile as sf\n",
        "\n",
        "from sklearn.model_selection import train_test_split\n",
        "from sklearn.ensemble import RandomForestClassifier\n",
        "from sklearn.svm import SVC\n",
        "import tensorflow as tf\n",
        "from sklearn.neighbors import KNeighborsClassifier\n",
        "from xgboost import XGBClassifier\n",
        "from lightgbm import LGBMClassifier\n",
        "from sklearn.tree import DecisionTreeClassifier\n",
        "from sklearn.metrics import mean_absolute_error, confusion_matrix, accuracy_score, precision_score, recall_score, f1_score"
      ]
    },
    {
      "cell_type": "code",
      "execution_count": null,
      "metadata": {
        "colab": {
          "base_uri": "https://localhost:8080/"
        },
        "id": "nMpxzzJl0MHB",
        "outputId": "d080a8f3-5017-4749-cd25-49069a1787db"
      },
      "outputs": [
        {
          "output_type": "stream",
          "name": "stdout",
          "text": [
            "Drive already mounted at /content/drive; to attempt to forcibly remount, call drive.mount(\"/content/drive\", force_remount=True).\n"
          ]
        }
      ],
      "source": [
        "# Montar o Google Drive\n",
        "from google.colab import drive\n",
        "drive.mount('/content/drive')"
      ]
    },
    {
      "cell_type": "code",
      "execution_count": null,
      "metadata": {
        "id": "xRC00p5K0Tyi"
      },
      "outputs": [],
      "source": [
        "# Caminho para os dados no Google Drive\n",
        "file_path_real = '/content/drive/MyDrive/audios_FOR/amostra_FOR/real'\n",
        "file_path_fake = '/content/drive/MyDrive/audios_FOR/amostra_FOR/fake'"
      ]
    },
    {
      "cell_type": "code",
      "execution_count": null,
      "metadata": {
        "colab": {
          "base_uri": "https://localhost:8080/"
        },
        "id": "HBjFS9TD1646",
        "outputId": "499ddaef-ef40-4f25-d522-89e1b23648f9"
      },
      "outputs": [
        {
          "output_type": "stream",
          "name": "stdout",
          "text": [
            "['file1061.wav', 'file1059.wav', 'file1143.wav', 'file1115.wav', 'file1147.wav', 'file1135.wav', 'file1139.wav', 'file154.wav', 'file155.wav', 'file10.wav', 'file1.wav', 'file1047.wav', 'file1046.wav', 'file1048.wav', 'file1050.wav', 'file1049.wav', 'file1052.wav', 'file1053.wav', 'file1055.wav', 'file1054.wav', 'file1056.wav', 'file1057.wav', 'file1058.wav', 'file1060.wav', 'file1063.wav', 'file1065.wav', 'file1064.wav', 'file1067.wav', 'file1068.wav', 'file1069.wav', 'file1070.wav', 'file10735.wav', 'file10728.wav', 'file10737.wav', 'file10727.wav', 'file1072.wav', 'file10732.wav', 'file10734.wav', 'file1071.wav', 'file10736.wav', 'file1073.wav', 'file10746.wav', 'file10762.wav', 'file10741.wav', 'file10755.wav', 'file10750.wav', 'file10738.wav', 'file10740.wav', 'file10758.wav', 'file10744.wav', 'file10739.wav', 'file10754.wav', 'file10757.wav', 'file10743.wav', 'file10742.wav', 'file10759.wav', 'file10760.wav', 'file10745.wav', 'file10747.wav', 'file10763.wav', 'file10826.wav', 'file10824.wav', 'file10828.wav', 'file10825.wav', 'file10831.wav', 'file10830.wav', 'file10829.wav', 'file10870.wav', 'file10866.wav', 'file10863.wav', 'file10865.wav', 'file10868.wav', 'file10867.wav', 'file10864.wav', 'file10888.wav', 'file10894.wav', 'file10873.wav', 'file10895.wav', 'file10875.wav', 'file10874.wav', 'file10872.wav', 'file10883.wav', 'file10889.wav', 'file10878.wav', 'file10892.wav', 'file10881.wav', 'file10896.wav', 'file10882.wav', 'file10884.wav', 'file10893.wav', 'file10891.wav', 'file10876.wav', 'file10886.wav', 'file10887.wav', 'file10879.wav', 'file10890.wav', 'file10871.wav', 'file10918.wav', 'file10905.wav', 'file10910.wav', 'file10907.wav', 'file10914.wav', 'file10904.wav', 'file10919.wav', 'file10908.wav', 'file10909.wav', 'file10912.wav', 'file10911.wav', 'file10903.wav', 'file10897.wav', 'file10913.wav', 'file10900.wav', 'file10901.wav', 'file10916.wav', 'file10898.wav', 'file10932.wav', 'file10943.wav', 'file10930.wav', 'file10941.wav', 'file10937.wav', 'file10928.wav', 'file10920.wav', 'file10933.wav', 'file10939.wav', 'file10945.wav', 'file10935.wav', 'file10925.wav', 'file10944.wav', 'file10931.wav', 'file10929.wav', 'file10938.wav', 'file10921.wav', 'file10924.wav', 'file10948.wav', 'file10949.wav', 'file10953.wav', 'file10965.wav', 'file10947.wav', 'file10967.wav', 'file10952.wav', 'file10974.wav', 'file10966.wav', 'file10971.wav', 'file10946.wav', 'file10969.wav', 'file10976.wav', 'file10977.wav', 'file10957.wav', 'file10964.wav', 'file10970.wav', 'file10954.wav', 'file10960.wav', 'file10951.wav', 'file10955.wav', 'file10990.wav', 'file10984.wav', 'file10994.wav', 'file10980.wav', 'file1099.wav', 'file10987.wav', 'file10999.wav', 'file10992.wav', 'file10996.wav', 'file10985.wav', 'file11003.wav', 'file1100.wav', 'file10993.wav', 'file10988.wav', 'file11000.wav', 'file10979.wav', 'file10998.wav', 'file10978.wav', 'file10989.wav', 'file10983.wav', 'file10995.wav', 'file11.wav', 'file11004.wav', 'file11001.wav', 'file11023.wav', 'file11016.wav', 'file1103.wav', 'file11015.wav', 'file11027.wav', 'file11037.wav', 'file11024.wav', 'file11011.wav', 'file11009.wav', 'file11019.wav', 'file11014.wav', 'file11006.wav', 'file11032.wav', 'file11005.wav', 'file11007.wav', 'file11028.wav', 'file1102.wav', 'file11031.wav', 'file11008.wav', 'file11030.wav', 'file1101.wav', 'file11017.wav', 'file11012.wav', 'file11033.wav', 'file11038.wav', 'file11013.wav', 'file1104.wav', 'file1106.wav', 'file1105.wav', 'file1108.wav', 'file1109.wav', 'file1110.wav', 'file1111.wav', 'file112.wav', 'file113.wav', 'file1132.wav', 'file1133.wav', 'file1134.wav', 'file1138.wav', 'file1136.wav', 'file1137.wav', 'file1141.wav', 'file1140.wav', 'file1142.wav', 'file1146.wav', 'file1144.wav', 'file1149.wav', 'file1151.wav', 'file115.wav', 'file1152.wav', 'file1154.wav', 'file1153.wav', 'file1155.wav', 'file1157.wav', 'file1159.wav', 'file116.wav', 'file1160.wav', 'file1162.wav', 'file1161.wav', 'file1163.wav', 'file1164.wav', 'file1165.wav', 'file1167.wav', 'file1168.wav', 'file1166.wav', 'file1169.wav', 'file117.wav', 'file1172.wav', 'file1173.wav', 'file1171.wav', 'file1174.wav', 'file1178.wav', 'file1177.wav', 'file1181.wav', 'file1182.wav', 'file1180.wav', 'file118.wav', 'file1184.wav', 'file1185.wav', 'file1183.wav', 'file1186.wav', 'file1189.wav', 'file119.wav', 'file1190.wav', 'file1191.wav', 'file120.wav', 'file121.wav', 'file122.wav', 'file123.wav', 'file125.wav', 'file127.wav', 'file128.wav', 'file129.wav', 'file130.wav', 'file132.wav', 'file133.wav', 'file134.wav', 'file135.wav', 'file136.wav', 'file137.wav', 'file138.wav', 'file139.wav', 'file140.wav', 'file142.wav', 'file143.wav', 'file144.wav', 'file145.wav', 'file146.wav', 'file147.wav', 'file148.wav', 'file149.wav', 'file150.wav', 'file151.wav', 'file152.wav', 'file153.wav', 'file156.wav', 'file158.wav', 'file159.wav', 'file160.wav', 'file17783.wav', 'file17766.wav', 'file17765.wav', 'file17779.wav', 'file17781.wav', 'file17782.wav', 'file17768.wav', 'file17813.wav', 'file17811.wav', 'file17786.wav', 'file17790.wav', 'file17812.wav', 'file17785.wav', 'file17814.wav', 'file17788.wav', 'file17784.wav', 'file17822.wav', 'file17818.wav', 'file17819.wav', 'file17817.wav', 'file17820.wav', 'file17815.wav', 'file17821.wav', 'file17823.wav', 'file2.wav', 'file25474.wav', 'file25475.wav', 'file25478.wav', 'file25504.wav', 'file25503.wav', 'file25537.wav', 'file25519.wav', 'file25538.wav', 'file25534.wav', 'file25526.wav', 'file25521.wav', 'file25523.wav', 'file25524.wav', 'file25525.wav', 'file25539.wav', 'file25522.wav', 'file25520.wav', 'file25527.wav', 'file25536.wav', 'file25535.wav', 'file25529.wav', 'file25528.wav', 'file25568.wav', 'file25564.wav', 'file25553.wav', 'file25550.wav', 'file25563.wav', 'file25540.wav', 'file25559.wav', 'file25554.wav', 'file25551.wav', 'file25560.wav', 'file25562.wav', 'file25548.wav', 'file25558.wav', 'file25566.wav', 'file25545.wav', 'file25544.wav', 'file25555.wav', 'file25543.wav', 'file25547.wav', 'file25541.wav', 'file25565.wav', 'file25556.wav', 'file3.wav', 'file6.wav', 'file7.wav', 'file9.wav', 'file1051.wav', 'file1062.wav', 'file10752.wav', 'file10731.wav', 'file10730.wav', 'file10733.wav', 'file1066.wav', 'file10749.wav', 'file10748.wav', 'file10753.wav', 'file10764.wav', 'file10906.wav', 'file10899.wav', 'file10765.wav', 'file10761.wav', 'file10756.wav', 'file10923.wav', 'file10915.wav', 'file10959.wav', 'file10926.wav', 'file10975.wav', 'file10936.wav', 'file10917.wav', 'file10972.wav', 'file10940.wav', 'file10973.wav', 'file10956.wav', 'file10963.wav', 'file10962.wav', 'file10927.wav', 'file10950.wav', 'file11018.wav', 'file11025.wav', 'file11002.wav', 'file11026.wav', 'file11022.wav', 'file10982.wav', 'file11021.wav', 'file10991.wav', 'file11020.wav', 'file11034.wav', 'file10997.wav', 'file10986.wav', 'file1107.wav', 'file11036.wav', 'file1145.wav', 'file114.wav', 'file1150.wav', 'file1148.wav', 'file1156.wav', 'file1158.wav', 'file1175.wav', 'file1170.wav', 'file1176.wav', 'file1179.wav', 'file1187.wav', 'file1188.wav', 'file124.wav', 'file126.wav', 'file131.wav', 'file141.wav', 'file157.wav', 'file17816.wav', 'file17791.wav', 'file17767.wav', 'file17787.wav', 'file25502.wav', 'file25557.wav', 'file25531.wav', 'file25533.wav', 'file25552.wav', 'file25530.wav', 'file25549.wav', 'file25561.wav', 'file25567.wav', 'file4.wav', 'file5.wav', 'file8.wav']\n",
            "['file1.wav', 'file10.wav', 'file11.wav', 'file13.wav', 'file1335.wav', 'file1310.wav', 'file1327.wav', 'file1307.wav', 'file1328.wav', 'file1337.wav', 'file1309.wav', 'file1336.wav', 'file1338.wav', 'file1308.wav', 'file1306.wav', 'file14.wav', 'file15.wav', 'file17.wav', 'file18.wav', 'file19.wav', 'file2.wav', 'file20.wav', 'file21.wav', 'file22.wav', 'file3.wav', 'file4.wav', 'file5.wav', 'file6.wav', 'file8.wav', 'file9.wav', 'file11.mp3', 'file12.wav', 'file13.mp3', 'file1310.mp3', 'file1309.mp3', 'file1306.mp3', 'file1308.mp3', 'file1307.mp3', 'file1335.mp3', 'file1336.mp3', 'file1328.mp3', 'file1329.mp3', 'file1338.mp3', 'file14.mp3', 'file15.mp3', 'file16.wav', 'file17.mp3', 'file18.mp3', 'file20.mp3', 'file21.mp3', 'file22.mp3', 'file24479.mp3', 'file24502.wav', 'file24481.mp3', 'file24482.mp3', 'file24501.mp3', 'file24483.mp3', 'file24484.mp3', 'file24491.mp3', 'file24487.mp3', 'file24493.mp3', 'file24494.mp3', 'file24488.mp3', 'file24480.wav', 'file24477.wav', 'file24486.mp3', 'file24476.wav', 'file24497.wav', 'file24489.mp3', 'file24478.mp3', 'file24490.mp3', 'file24495.mp3', 'file24500.mp3', 'file3.mp3', 'file32424.mp3', 'file32422.wav', 'file32421.mp3', 'file32389.mp3', 'file32387.mp3', 'file32423.mp3', 'file4.mp3', 'file5865.mp3', 'file5878.mp3', 'file5861.mp3', 'file5864.mp3', 'file5868.mp3', 'file5874.mp3', 'file5862.mp3', 'file5866.mp3', 'file5863.mp3', 'file5870.mp3', 'file5869.mp3', 'file5872.mp3', 'file5873.mp3', 'file5875.mp3', 'file5877.mp3', 'file6.mp3', 'file7.wav', 'file8.mp3', 'file9.mp3', 'file1.mp3', 'file1337.mp3', 'file19.mp3', 'file24499.mp3', 'file24485.mp3', 'file5.mp3', 'file5876.mp3', 'file5867.mp3', 'file5860.mp3', 'file5871.mp3', 'file5859.mp3']\n"
          ]
        }
      ],
      "source": [
        "# Listar os arquivos e subpastas\n",
        "print(os.listdir(file_path_real))\n",
        "print(os.listdir(file_path_fake))"
      ]
    },
    {
      "cell_type": "code",
      "execution_count": null,
      "metadata": {
        "id": "EbARq6hJ1kVI"
      },
      "outputs": [],
      "source": [
        "# Função para processar os áudios em uma pasta\n",
        "def process_audio_files(folder_path):\n",
        "\n",
        "    for audio_file in os.listdir(folder_path):\n",
        "        audio_path = os.path.join(folder_path, audio_file)\n",
        "\n",
        "        # Carregar o áudio\n",
        "        y, sr = librosa.load(audio_path, sr=None)\n",
        "\n",
        "        # Mostrar informações do áudio\n",
        "        print(f\"Arquivo: {audio_file}, Duração: {len(y) / sr:.2f}s, Taxa de amostragem: {sr}Hz\")\n",
        "\n",
        "        # Plotar waveform\n",
        "        plt.figure(figsize=(10, 4))\n",
        "        librosa.display.waveshow(y, sr=sr)\n",
        "        plt.title(f\"Waveform de {audio_file}\")\n",
        "        plt.xlabel(\"Tempo (s)\")\n",
        "        plt.ylabel(\"Amplitude\")\n",
        "        plt.show()"
      ]
    },
    {
      "cell_type": "code",
      "execution_count": null,
      "metadata": {
        "id": "HL6Vs3Qj2sbd"
      },
      "outputs": [],
      "source": [
        "# Processar áudios Real\n",
        "#process_audio_files(file_path_real)"
      ]
    },
    {
      "cell_type": "code",
      "execution_count": null,
      "metadata": {
        "id": "EHH3xW_P2uSj"
      },
      "outputs": [],
      "source": [
        "# Processar áudios Fake\n",
        "#process_audio_files(file_path_fake)"
      ]
    },
    {
      "cell_type": "code",
      "execution_count": null,
      "metadata": {
        "id": "NJG7ZzKW36m8"
      },
      "outputs": [],
      "source": [
        "# Função para extrair MFCCs de um arquivo\n",
        "def extract_features(file_path):\n",
        "    y, sr = librosa.load(file_path, sr=None)\n",
        "    mfccs = librosa.feature.mfcc(y=y, sr=sr, n_mfcc=13)\n",
        "    return np.mean(mfccs.T, axis=0)  # Média dos coeficientes\n",
        "\n",
        "# Carregar dados e rótulos\n",
        "data = []\n",
        "labels = []\n",
        "\n",
        "# Processar Fake\n",
        "for file_name in os.listdir(file_path_fake):\n",
        "    file_path = os.path.join(file_path_fake, file_name)\n",
        "    features = extract_features(file_path)\n",
        "    data.append(features)\n",
        "    labels.append(0)  # Rótulo 0 para Fake\n",
        "\n",
        "# Processar Real\n",
        "for file_name in os.listdir(file_path_real):\n",
        "    file_path = os.path.join(file_path_real, file_name)\n",
        "    features = extract_features(file_path)\n",
        "    data.append(features)\n",
        "    labels.append(1)  # Rótulo 1 para Real"
      ]
    },
    {
      "cell_type": "code",
      "execution_count": null,
      "metadata": {
        "id": "ztAXi3G552yT"
      },
      "outputs": [],
      "source": [
        "# Converter para DataFrame\n",
        "df = pd.DataFrame(data)\n",
        "df['label'] = labels"
      ]
    },
    {
      "cell_type": "code",
      "execution_count": null,
      "metadata": {
        "colab": {
          "base_uri": "https://localhost:8080/",
          "height": 444
        },
        "id": "KRcDRZRx6jga",
        "outputId": "7c07586f-648b-4e69-a7e7-db5d0f3a6d92"
      },
      "outputs": [
        {
          "output_type": "execute_result",
          "data": {
            "text/plain": [
              "              0           1          2          3          4          5  \\\n",
              "0   -310.484985   79.589180  12.035122  21.775892   7.463613  -4.327323   \n",
              "1   -292.760193   85.521347 -18.103905  14.233822  -1.934288  -8.300287   \n",
              "2   -266.020477  106.608009 -11.326435  17.970966 -11.344944   1.250991   \n",
              "3   -260.005402  122.213196 -19.668991   8.698288 -10.487801  -3.308214   \n",
              "4   -270.677155  111.855637 -19.062414   5.179912 -16.694443  -4.503492   \n",
              "..          ...         ...        ...        ...        ...        ...   \n",
              "554 -296.089111   90.251648  49.353138  40.109879  13.949716  15.968038   \n",
              "555 -334.378174   76.736237   1.568514  22.846909 -14.486498 -16.314674   \n",
              "556 -323.235352   69.085464   4.084009  22.119936 -11.278208 -25.925304   \n",
              "557 -312.793549   82.430946   3.129900  14.186769 -18.484079 -25.799473   \n",
              "558 -432.503387   52.231987  24.130854  24.908005   5.230207  10.177417   \n",
              "\n",
              "             6          7          8          9         10         11  \\\n",
              "0     1.702638   5.056441 -11.605008  -8.825641 -12.136454  -8.166679   \n",
              "1   -15.360986 -14.333099  -0.524541 -12.453050  -2.744914 -14.212177   \n",
              "2    -5.587977  -6.984388  -5.437147 -10.668830   6.232262 -13.461805   \n",
              "3    -5.397858 -11.390374  -4.951897 -11.585847   5.326418 -15.468590   \n",
              "4   -10.268575 -12.212496  -1.401393 -12.573609   5.653296 -16.340860   \n",
              "..         ...        ...        ...        ...        ...        ...   \n",
              "554 -11.017990   1.806876  -6.369140   3.860376  -8.479083  -1.914927   \n",
              "555 -15.556476 -21.469236 -20.530735  -1.497289 -14.830498  -3.666535   \n",
              "556 -23.227936 -21.648048  -9.808347  -1.174033 -23.784948   1.368763   \n",
              "557 -17.645624 -17.211958 -12.702026  -4.227543 -22.298204   0.184280   \n",
              "558   1.667769  11.312072  14.200116  13.155353   9.546826  18.923155   \n",
              "\n",
              "            12  label  \n",
              "0    -7.886450      0  \n",
              "1     0.993812      0  \n",
              "2     6.319636      0  \n",
              "3     5.036489      0  \n",
              "4     3.830790      0  \n",
              "..         ...    ...  \n",
              "554 -10.282051      1  \n",
              "555 -10.663058      1  \n",
              "556 -17.619230      1  \n",
              "557 -17.449095      1  \n",
              "558   7.199302      1  \n",
              "\n",
              "[559 rows x 14 columns]"
            ],
            "text/html": [
              "\n",
              "  <div id=\"df-f6765d6f-23fc-43e5-bff5-25f91cf311ca\" class=\"colab-df-container\">\n",
              "    <div>\n",
              "<style scoped>\n",
              "    .dataframe tbody tr th:only-of-type {\n",
              "        vertical-align: middle;\n",
              "    }\n",
              "\n",
              "    .dataframe tbody tr th {\n",
              "        vertical-align: top;\n",
              "    }\n",
              "\n",
              "    .dataframe thead th {\n",
              "        text-align: right;\n",
              "    }\n",
              "</style>\n",
              "<table border=\"1\" class=\"dataframe\">\n",
              "  <thead>\n",
              "    <tr style=\"text-align: right;\">\n",
              "      <th></th>\n",
              "      <th>0</th>\n",
              "      <th>1</th>\n",
              "      <th>2</th>\n",
              "      <th>3</th>\n",
              "      <th>4</th>\n",
              "      <th>5</th>\n",
              "      <th>6</th>\n",
              "      <th>7</th>\n",
              "      <th>8</th>\n",
              "      <th>9</th>\n",
              "      <th>10</th>\n",
              "      <th>11</th>\n",
              "      <th>12</th>\n",
              "      <th>label</th>\n",
              "    </tr>\n",
              "  </thead>\n",
              "  <tbody>\n",
              "    <tr>\n",
              "      <th>0</th>\n",
              "      <td>-310.484985</td>\n",
              "      <td>79.589180</td>\n",
              "      <td>12.035122</td>\n",
              "      <td>21.775892</td>\n",
              "      <td>7.463613</td>\n",
              "      <td>-4.327323</td>\n",
              "      <td>1.702638</td>\n",
              "      <td>5.056441</td>\n",
              "      <td>-11.605008</td>\n",
              "      <td>-8.825641</td>\n",
              "      <td>-12.136454</td>\n",
              "      <td>-8.166679</td>\n",
              "      <td>-7.886450</td>\n",
              "      <td>0</td>\n",
              "    </tr>\n",
              "    <tr>\n",
              "      <th>1</th>\n",
              "      <td>-292.760193</td>\n",
              "      <td>85.521347</td>\n",
              "      <td>-18.103905</td>\n",
              "      <td>14.233822</td>\n",
              "      <td>-1.934288</td>\n",
              "      <td>-8.300287</td>\n",
              "      <td>-15.360986</td>\n",
              "      <td>-14.333099</td>\n",
              "      <td>-0.524541</td>\n",
              "      <td>-12.453050</td>\n",
              "      <td>-2.744914</td>\n",
              "      <td>-14.212177</td>\n",
              "      <td>0.993812</td>\n",
              "      <td>0</td>\n",
              "    </tr>\n",
              "    <tr>\n",
              "      <th>2</th>\n",
              "      <td>-266.020477</td>\n",
              "      <td>106.608009</td>\n",
              "      <td>-11.326435</td>\n",
              "      <td>17.970966</td>\n",
              "      <td>-11.344944</td>\n",
              "      <td>1.250991</td>\n",
              "      <td>-5.587977</td>\n",
              "      <td>-6.984388</td>\n",
              "      <td>-5.437147</td>\n",
              "      <td>-10.668830</td>\n",
              "      <td>6.232262</td>\n",
              "      <td>-13.461805</td>\n",
              "      <td>6.319636</td>\n",
              "      <td>0</td>\n",
              "    </tr>\n",
              "    <tr>\n",
              "      <th>3</th>\n",
              "      <td>-260.005402</td>\n",
              "      <td>122.213196</td>\n",
              "      <td>-19.668991</td>\n",
              "      <td>8.698288</td>\n",
              "      <td>-10.487801</td>\n",
              "      <td>-3.308214</td>\n",
              "      <td>-5.397858</td>\n",
              "      <td>-11.390374</td>\n",
              "      <td>-4.951897</td>\n",
              "      <td>-11.585847</td>\n",
              "      <td>5.326418</td>\n",
              "      <td>-15.468590</td>\n",
              "      <td>5.036489</td>\n",
              "      <td>0</td>\n",
              "    </tr>\n",
              "    <tr>\n",
              "      <th>4</th>\n",
              "      <td>-270.677155</td>\n",
              "      <td>111.855637</td>\n",
              "      <td>-19.062414</td>\n",
              "      <td>5.179912</td>\n",
              "      <td>-16.694443</td>\n",
              "      <td>-4.503492</td>\n",
              "      <td>-10.268575</td>\n",
              "      <td>-12.212496</td>\n",
              "      <td>-1.401393</td>\n",
              "      <td>-12.573609</td>\n",
              "      <td>5.653296</td>\n",
              "      <td>-16.340860</td>\n",
              "      <td>3.830790</td>\n",
              "      <td>0</td>\n",
              "    </tr>\n",
              "    <tr>\n",
              "      <th>...</th>\n",
              "      <td>...</td>\n",
              "      <td>...</td>\n",
              "      <td>...</td>\n",
              "      <td>...</td>\n",
              "      <td>...</td>\n",
              "      <td>...</td>\n",
              "      <td>...</td>\n",
              "      <td>...</td>\n",
              "      <td>...</td>\n",
              "      <td>...</td>\n",
              "      <td>...</td>\n",
              "      <td>...</td>\n",
              "      <td>...</td>\n",
              "      <td>...</td>\n",
              "    </tr>\n",
              "    <tr>\n",
              "      <th>554</th>\n",
              "      <td>-296.089111</td>\n",
              "      <td>90.251648</td>\n",
              "      <td>49.353138</td>\n",
              "      <td>40.109879</td>\n",
              "      <td>13.949716</td>\n",
              "      <td>15.968038</td>\n",
              "      <td>-11.017990</td>\n",
              "      <td>1.806876</td>\n",
              "      <td>-6.369140</td>\n",
              "      <td>3.860376</td>\n",
              "      <td>-8.479083</td>\n",
              "      <td>-1.914927</td>\n",
              "      <td>-10.282051</td>\n",
              "      <td>1</td>\n",
              "    </tr>\n",
              "    <tr>\n",
              "      <th>555</th>\n",
              "      <td>-334.378174</td>\n",
              "      <td>76.736237</td>\n",
              "      <td>1.568514</td>\n",
              "      <td>22.846909</td>\n",
              "      <td>-14.486498</td>\n",
              "      <td>-16.314674</td>\n",
              "      <td>-15.556476</td>\n",
              "      <td>-21.469236</td>\n",
              "      <td>-20.530735</td>\n",
              "      <td>-1.497289</td>\n",
              "      <td>-14.830498</td>\n",
              "      <td>-3.666535</td>\n",
              "      <td>-10.663058</td>\n",
              "      <td>1</td>\n",
              "    </tr>\n",
              "    <tr>\n",
              "      <th>556</th>\n",
              "      <td>-323.235352</td>\n",
              "      <td>69.085464</td>\n",
              "      <td>4.084009</td>\n",
              "      <td>22.119936</td>\n",
              "      <td>-11.278208</td>\n",
              "      <td>-25.925304</td>\n",
              "      <td>-23.227936</td>\n",
              "      <td>-21.648048</td>\n",
              "      <td>-9.808347</td>\n",
              "      <td>-1.174033</td>\n",
              "      <td>-23.784948</td>\n",
              "      <td>1.368763</td>\n",
              "      <td>-17.619230</td>\n",
              "      <td>1</td>\n",
              "    </tr>\n",
              "    <tr>\n",
              "      <th>557</th>\n",
              "      <td>-312.793549</td>\n",
              "      <td>82.430946</td>\n",
              "      <td>3.129900</td>\n",
              "      <td>14.186769</td>\n",
              "      <td>-18.484079</td>\n",
              "      <td>-25.799473</td>\n",
              "      <td>-17.645624</td>\n",
              "      <td>-17.211958</td>\n",
              "      <td>-12.702026</td>\n",
              "      <td>-4.227543</td>\n",
              "      <td>-22.298204</td>\n",
              "      <td>0.184280</td>\n",
              "      <td>-17.449095</td>\n",
              "      <td>1</td>\n",
              "    </tr>\n",
              "    <tr>\n",
              "      <th>558</th>\n",
              "      <td>-432.503387</td>\n",
              "      <td>52.231987</td>\n",
              "      <td>24.130854</td>\n",
              "      <td>24.908005</td>\n",
              "      <td>5.230207</td>\n",
              "      <td>10.177417</td>\n",
              "      <td>1.667769</td>\n",
              "      <td>11.312072</td>\n",
              "      <td>14.200116</td>\n",
              "      <td>13.155353</td>\n",
              "      <td>9.546826</td>\n",
              "      <td>18.923155</td>\n",
              "      <td>7.199302</td>\n",
              "      <td>1</td>\n",
              "    </tr>\n",
              "  </tbody>\n",
              "</table>\n",
              "<p>559 rows × 14 columns</p>\n",
              "</div>\n",
              "    <div class=\"colab-df-buttons\">\n",
              "\n",
              "  <div class=\"colab-df-container\">\n",
              "    <button class=\"colab-df-convert\" onclick=\"convertToInteractive('df-f6765d6f-23fc-43e5-bff5-25f91cf311ca')\"\n",
              "            title=\"Convert this dataframe to an interactive table.\"\n",
              "            style=\"display:none;\">\n",
              "\n",
              "  <svg xmlns=\"http://www.w3.org/2000/svg\" height=\"24px\" viewBox=\"0 -960 960 960\">\n",
              "    <path d=\"M120-120v-720h720v720H120Zm60-500h600v-160H180v160Zm220 220h160v-160H400v160Zm0 220h160v-160H400v160ZM180-400h160v-160H180v160Zm440 0h160v-160H620v160ZM180-180h160v-160H180v160Zm440 0h160v-160H620v160Z\"/>\n",
              "  </svg>\n",
              "    </button>\n",
              "\n",
              "  <style>\n",
              "    .colab-df-container {\n",
              "      display:flex;\n",
              "      gap: 12px;\n",
              "    }\n",
              "\n",
              "    .colab-df-convert {\n",
              "      background-color: #E8F0FE;\n",
              "      border: none;\n",
              "      border-radius: 50%;\n",
              "      cursor: pointer;\n",
              "      display: none;\n",
              "      fill: #1967D2;\n",
              "      height: 32px;\n",
              "      padding: 0 0 0 0;\n",
              "      width: 32px;\n",
              "    }\n",
              "\n",
              "    .colab-df-convert:hover {\n",
              "      background-color: #E2EBFA;\n",
              "      box-shadow: 0px 1px 2px rgba(60, 64, 67, 0.3), 0px 1px 3px 1px rgba(60, 64, 67, 0.15);\n",
              "      fill: #174EA6;\n",
              "    }\n",
              "\n",
              "    .colab-df-buttons div {\n",
              "      margin-bottom: 4px;\n",
              "    }\n",
              "\n",
              "    [theme=dark] .colab-df-convert {\n",
              "      background-color: #3B4455;\n",
              "      fill: #D2E3FC;\n",
              "    }\n",
              "\n",
              "    [theme=dark] .colab-df-convert:hover {\n",
              "      background-color: #434B5C;\n",
              "      box-shadow: 0px 1px 3px 1px rgba(0, 0, 0, 0.15);\n",
              "      filter: drop-shadow(0px 1px 2px rgba(0, 0, 0, 0.3));\n",
              "      fill: #FFFFFF;\n",
              "    }\n",
              "  </style>\n",
              "\n",
              "    <script>\n",
              "      const buttonEl =\n",
              "        document.querySelector('#df-f6765d6f-23fc-43e5-bff5-25f91cf311ca button.colab-df-convert');\n",
              "      buttonEl.style.display =\n",
              "        google.colab.kernel.accessAllowed ? 'block' : 'none';\n",
              "\n",
              "      async function convertToInteractive(key) {\n",
              "        const element = document.querySelector('#df-f6765d6f-23fc-43e5-bff5-25f91cf311ca');\n",
              "        const dataTable =\n",
              "          await google.colab.kernel.invokeFunction('convertToInteractive',\n",
              "                                                    [key], {});\n",
              "        if (!dataTable) return;\n",
              "\n",
              "        const docLinkHtml = 'Like what you see? Visit the ' +\n",
              "          '<a target=\"_blank\" href=https://colab.research.google.com/notebooks/data_table.ipynb>data table notebook</a>'\n",
              "          + ' to learn more about interactive tables.';\n",
              "        element.innerHTML = '';\n",
              "        dataTable['output_type'] = 'display_data';\n",
              "        await google.colab.output.renderOutput(dataTable, element);\n",
              "        const docLink = document.createElement('div');\n",
              "        docLink.innerHTML = docLinkHtml;\n",
              "        element.appendChild(docLink);\n",
              "      }\n",
              "    </script>\n",
              "  </div>\n",
              "\n",
              "\n",
              "<div id=\"df-e24f48ba-0a3a-4a93-8031-dce658b342c7\">\n",
              "  <button class=\"colab-df-quickchart\" onclick=\"quickchart('df-e24f48ba-0a3a-4a93-8031-dce658b342c7')\"\n",
              "            title=\"Suggest charts\"\n",
              "            style=\"display:none;\">\n",
              "\n",
              "<svg xmlns=\"http://www.w3.org/2000/svg\" height=\"24px\"viewBox=\"0 0 24 24\"\n",
              "     width=\"24px\">\n",
              "    <g>\n",
              "        <path d=\"M19 3H5c-1.1 0-2 .9-2 2v14c0 1.1.9 2 2 2h14c1.1 0 2-.9 2-2V5c0-1.1-.9-2-2-2zM9 17H7v-7h2v7zm4 0h-2V7h2v10zm4 0h-2v-4h2v4z\"/>\n",
              "    </g>\n",
              "</svg>\n",
              "  </button>\n",
              "\n",
              "<style>\n",
              "  .colab-df-quickchart {\n",
              "      --bg-color: #E8F0FE;\n",
              "      --fill-color: #1967D2;\n",
              "      --hover-bg-color: #E2EBFA;\n",
              "      --hover-fill-color: #174EA6;\n",
              "      --disabled-fill-color: #AAA;\n",
              "      --disabled-bg-color: #DDD;\n",
              "  }\n",
              "\n",
              "  [theme=dark] .colab-df-quickchart {\n",
              "      --bg-color: #3B4455;\n",
              "      --fill-color: #D2E3FC;\n",
              "      --hover-bg-color: #434B5C;\n",
              "      --hover-fill-color: #FFFFFF;\n",
              "      --disabled-bg-color: #3B4455;\n",
              "      --disabled-fill-color: #666;\n",
              "  }\n",
              "\n",
              "  .colab-df-quickchart {\n",
              "    background-color: var(--bg-color);\n",
              "    border: none;\n",
              "    border-radius: 50%;\n",
              "    cursor: pointer;\n",
              "    display: none;\n",
              "    fill: var(--fill-color);\n",
              "    height: 32px;\n",
              "    padding: 0;\n",
              "    width: 32px;\n",
              "  }\n",
              "\n",
              "  .colab-df-quickchart:hover {\n",
              "    background-color: var(--hover-bg-color);\n",
              "    box-shadow: 0 1px 2px rgba(60, 64, 67, 0.3), 0 1px 3px 1px rgba(60, 64, 67, 0.15);\n",
              "    fill: var(--button-hover-fill-color);\n",
              "  }\n",
              "\n",
              "  .colab-df-quickchart-complete:disabled,\n",
              "  .colab-df-quickchart-complete:disabled:hover {\n",
              "    background-color: var(--disabled-bg-color);\n",
              "    fill: var(--disabled-fill-color);\n",
              "    box-shadow: none;\n",
              "  }\n",
              "\n",
              "  .colab-df-spinner {\n",
              "    border: 2px solid var(--fill-color);\n",
              "    border-color: transparent;\n",
              "    border-bottom-color: var(--fill-color);\n",
              "    animation:\n",
              "      spin 1s steps(1) infinite;\n",
              "  }\n",
              "\n",
              "  @keyframes spin {\n",
              "    0% {\n",
              "      border-color: transparent;\n",
              "      border-bottom-color: var(--fill-color);\n",
              "      border-left-color: var(--fill-color);\n",
              "    }\n",
              "    20% {\n",
              "      border-color: transparent;\n",
              "      border-left-color: var(--fill-color);\n",
              "      border-top-color: var(--fill-color);\n",
              "    }\n",
              "    30% {\n",
              "      border-color: transparent;\n",
              "      border-left-color: var(--fill-color);\n",
              "      border-top-color: var(--fill-color);\n",
              "      border-right-color: var(--fill-color);\n",
              "    }\n",
              "    40% {\n",
              "      border-color: transparent;\n",
              "      border-right-color: var(--fill-color);\n",
              "      border-top-color: var(--fill-color);\n",
              "    }\n",
              "    60% {\n",
              "      border-color: transparent;\n",
              "      border-right-color: var(--fill-color);\n",
              "    }\n",
              "    80% {\n",
              "      border-color: transparent;\n",
              "      border-right-color: var(--fill-color);\n",
              "      border-bottom-color: var(--fill-color);\n",
              "    }\n",
              "    90% {\n",
              "      border-color: transparent;\n",
              "      border-bottom-color: var(--fill-color);\n",
              "    }\n",
              "  }\n",
              "</style>\n",
              "\n",
              "  <script>\n",
              "    async function quickchart(key) {\n",
              "      const quickchartButtonEl =\n",
              "        document.querySelector('#' + key + ' button');\n",
              "      quickchartButtonEl.disabled = true;  // To prevent multiple clicks.\n",
              "      quickchartButtonEl.classList.add('colab-df-spinner');\n",
              "      try {\n",
              "        const charts = await google.colab.kernel.invokeFunction(\n",
              "            'suggestCharts', [key], {});\n",
              "      } catch (error) {\n",
              "        console.error('Error during call to suggestCharts:', error);\n",
              "      }\n",
              "      quickchartButtonEl.classList.remove('colab-df-spinner');\n",
              "      quickchartButtonEl.classList.add('colab-df-quickchart-complete');\n",
              "    }\n",
              "    (() => {\n",
              "      let quickchartButtonEl =\n",
              "        document.querySelector('#df-e24f48ba-0a3a-4a93-8031-dce658b342c7 button');\n",
              "      quickchartButtonEl.style.display =\n",
              "        google.colab.kernel.accessAllowed ? 'block' : 'none';\n",
              "    })();\n",
              "  </script>\n",
              "</div>\n",
              "\n",
              "  <div id=\"id_b971370e-a1dd-469f-b7be-0a1027bb40f2\">\n",
              "    <style>\n",
              "      .colab-df-generate {\n",
              "        background-color: #E8F0FE;\n",
              "        border: none;\n",
              "        border-radius: 50%;\n",
              "        cursor: pointer;\n",
              "        display: none;\n",
              "        fill: #1967D2;\n",
              "        height: 32px;\n",
              "        padding: 0 0 0 0;\n",
              "        width: 32px;\n",
              "      }\n",
              "\n",
              "      .colab-df-generate:hover {\n",
              "        background-color: #E2EBFA;\n",
              "        box-shadow: 0px 1px 2px rgba(60, 64, 67, 0.3), 0px 1px 3px 1px rgba(60, 64, 67, 0.15);\n",
              "        fill: #174EA6;\n",
              "      }\n",
              "\n",
              "      [theme=dark] .colab-df-generate {\n",
              "        background-color: #3B4455;\n",
              "        fill: #D2E3FC;\n",
              "      }\n",
              "\n",
              "      [theme=dark] .colab-df-generate:hover {\n",
              "        background-color: #434B5C;\n",
              "        box-shadow: 0px 1px 3px 1px rgba(0, 0, 0, 0.15);\n",
              "        filter: drop-shadow(0px 1px 2px rgba(0, 0, 0, 0.3));\n",
              "        fill: #FFFFFF;\n",
              "      }\n",
              "    </style>\n",
              "    <button class=\"colab-df-generate\" onclick=\"generateWithVariable('df')\"\n",
              "            title=\"Generate code using this dataframe.\"\n",
              "            style=\"display:none;\">\n",
              "\n",
              "  <svg xmlns=\"http://www.w3.org/2000/svg\" height=\"24px\"viewBox=\"0 0 24 24\"\n",
              "       width=\"24px\">\n",
              "    <path d=\"M7,19H8.4L18.45,9,17,7.55,7,17.6ZM5,21V16.75L18.45,3.32a2,2,0,0,1,2.83,0l1.4,1.43a1.91,1.91,0,0,1,.58,1.4,1.91,1.91,0,0,1-.58,1.4L9.25,21ZM18.45,9,17,7.55Zm-12,3A5.31,5.31,0,0,0,4.9,8.1,5.31,5.31,0,0,0,1,6.5,5.31,5.31,0,0,0,4.9,4.9,5.31,5.31,0,0,0,6.5,1,5.31,5.31,0,0,0,8.1,4.9,5.31,5.31,0,0,0,12,6.5,5.46,5.46,0,0,0,6.5,12Z\"/>\n",
              "  </svg>\n",
              "    </button>\n",
              "    <script>\n",
              "      (() => {\n",
              "      const buttonEl =\n",
              "        document.querySelector('#id_b971370e-a1dd-469f-b7be-0a1027bb40f2 button.colab-df-generate');\n",
              "      buttonEl.style.display =\n",
              "        google.colab.kernel.accessAllowed ? 'block' : 'none';\n",
              "\n",
              "      buttonEl.onclick = () => {\n",
              "        google.colab.notebook.generateWithVariable('df');\n",
              "      }\n",
              "      })();\n",
              "    </script>\n",
              "  </div>\n",
              "\n",
              "    </div>\n",
              "  </div>\n"
            ],
            "application/vnd.google.colaboratory.intrinsic+json": {
              "type": "dataframe",
              "variable_name": "df",
              "summary": "{\n  \"name\": \"df\",\n  \"rows\": 559,\n  \"fields\": [\n    {\n      \"column\": 0,\n      \"properties\": {\n        \"dtype\": \"float32\",\n        \"num_unique_values\": 559,\n        \"samples\": [\n          -303.66534423828125,\n          -200.74349975585938,\n          -341.0849609375\n        ],\n        \"semantic_type\": \"\",\n        \"description\": \"\"\n      }\n    },\n    {\n      \"column\": 1,\n      \"properties\": {\n        \"dtype\": \"float32\",\n        \"num_unique_values\": 559,\n        \"samples\": [\n          165.3446044921875,\n          83.8864517211914,\n          47.19906234741211\n        ],\n        \"semantic_type\": \"\",\n        \"description\": \"\"\n      }\n    },\n    {\n      \"column\": 2,\n      \"properties\": {\n        \"dtype\": \"float32\",\n        \"num_unique_values\": 559,\n        \"samples\": [\n          -4.111262321472168,\n          1.4497567415237427,\n          -9.682025909423828\n        ],\n        \"semantic_type\": \"\",\n        \"description\": \"\"\n      }\n    },\n    {\n      \"column\": 3,\n      \"properties\": {\n        \"dtype\": \"float32\",\n        \"num_unique_values\": 559,\n        \"samples\": [\n          28.791431427001953,\n          37.84858322143555,\n          20.207778930664062\n        ],\n        \"semantic_type\": \"\",\n        \"description\": \"\"\n      }\n    },\n    {\n      \"column\": 4,\n      \"properties\": {\n        \"dtype\": \"float32\",\n        \"num_unique_values\": 559,\n        \"samples\": [\n          7.2431559562683105,\n          6.561042308807373,\n          -5.3386616706848145\n        ],\n        \"semantic_type\": \"\",\n        \"description\": \"\"\n      }\n    },\n    {\n      \"column\": 5,\n      \"properties\": {\n        \"dtype\": \"float32\",\n        \"num_unique_values\": 559,\n        \"samples\": [\n          8.527423858642578,\n          -5.423165798187256,\n          3.7413489818573\n        ],\n        \"semantic_type\": \"\",\n        \"description\": \"\"\n      }\n    },\n    {\n      \"column\": 6,\n      \"properties\": {\n        \"dtype\": \"float32\",\n        \"num_unique_values\": 559,\n        \"samples\": [\n          -0.3570402264595032,\n          -13.699455261230469,\n          -16.991252899169922\n        ],\n        \"semantic_type\": \"\",\n        \"description\": \"\"\n      }\n    },\n    {\n      \"column\": 7,\n      \"properties\": {\n        \"dtype\": \"float32\",\n        \"num_unique_values\": 559,\n        \"samples\": [\n          -16.122112274169922,\n          -9.753549575805664,\n          -10.463788986206055\n        ],\n        \"semantic_type\": \"\",\n        \"description\": \"\"\n      }\n    },\n    {\n      \"column\": 8,\n      \"properties\": {\n        \"dtype\": \"float32\",\n        \"num_unique_values\": 559,\n        \"samples\": [\n          0.8459163904190063,\n          -13.677352905273438,\n          -13.56824779510498\n        ],\n        \"semantic_type\": \"\",\n        \"description\": \"\"\n      }\n    },\n    {\n      \"column\": 9,\n      \"properties\": {\n        \"dtype\": \"float32\",\n        \"num_unique_values\": 559,\n        \"samples\": [\n          -4.227232456207275,\n          10.73301887512207,\n          -7.134695529937744\n        ],\n        \"semantic_type\": \"\",\n        \"description\": \"\"\n      }\n    },\n    {\n      \"column\": 10,\n      \"properties\": {\n        \"dtype\": \"float32\",\n        \"num_unique_values\": 559,\n        \"samples\": [\n          -4.431952476501465,\n          -16.059240341186523,\n          -16.136253356933594\n        ],\n        \"semantic_type\": \"\",\n        \"description\": \"\"\n      }\n    },\n    {\n      \"column\": 11,\n      \"properties\": {\n        \"dtype\": \"float32\",\n        \"num_unique_values\": 559,\n        \"samples\": [\n          -7.60046911239624,\n          4.951775074005127,\n          0.013407567515969276\n        ],\n        \"semantic_type\": \"\",\n        \"description\": \"\"\n      }\n    },\n    {\n      \"column\": 12,\n      \"properties\": {\n        \"dtype\": \"float32\",\n        \"num_unique_values\": 559,\n        \"samples\": [\n          -3.0194082260131836,\n          -5.606936931610107,\n          -13.39730167388916\n        ],\n        \"semantic_type\": \"\",\n        \"description\": \"\"\n      }\n    },\n    {\n      \"column\": \"label\",\n      \"properties\": {\n        \"dtype\": \"number\",\n        \"std\": 0,\n        \"min\": 0,\n        \"max\": 1,\n        \"num_unique_values\": 2,\n        \"samples\": [\n          1,\n          0\n        ],\n        \"semantic_type\": \"\",\n        \"description\": \"\"\n      }\n    }\n  ]\n}"
            }
          },
          "metadata": {},
          "execution_count": 247
        }
      ],
      "source": [
        "df"
      ]
    },
    {
      "cell_type": "code",
      "execution_count": null,
      "metadata": {
        "colab": {
          "base_uri": "https://localhost:8080/",
          "height": 569
        },
        "id": "nxcuXL4y-ER6",
        "outputId": "6c36fcd3-4b53-4bed-a4f1-1ddc2d54d8b9"
      },
      "outputs": [
        {
          "output_type": "display_data",
          "data": {
            "text/plain": [
              "<Figure size 1000x600 with 1 Axes>"
            ],
            "image/png": "[encoded data removed]"
          },
          "metadata": {}
        }
      ],
      "source": [
        "# Contar as ocorrências de cada label\n",
        "label_counts = [labels.count(0), labels.count(1)]\n",
        "\n",
        "# Plotando o gráfico\n",
        "plt.figure(figsize=(10, 6))  # Ajuste do tamanho do gráfico\n",
        "plt.bar([0, 1], label_counts, tick_label=['Fake', 'Real'], color=['#1f77b4', '#ff7f0e'])\n",
        "\n",
        "# Adicionando rótulos e título\n",
        "plt.xlabel('Tipo dos Áudios')\n",
        "plt.ylabel('Quantidade')\n",
        "plt.title('Balanço de Áudios Reais e Fakes')\n",
        "plt.show()"
      ]
    },
    {
      "cell_type": "code",
      "execution_count": null,
      "metadata": {
        "id": "NYPUG5sh5gRQ"
      },
      "outputs": [],
      "source": [
        "# Separar características (X) e rótulos (y)\n",
        "X = df.drop(columns=['label'])\n",
        "y = df['label']\n",
        "\n",
        "# Dividir em treino e teste\n",
        "X_train, X_test, y_train, y_test = train_test_split(X, y, test_size=0.2, random_state=42)"
      ]
    },
    {
      "cell_type": "code",
      "source": [
        "# Definição do modelo DNN\n",
        "model = tf.keras.Sequential([\n",
        "    tf.keras.layers.Dense(64, activation='relu', input_shape=(X_train.shape[1],)),\n",
        "    tf.keras.layers.Dense(1, activation='sigmoid')\n",
        "])\n",
        "\n",
        "# Compilação e treinamento do modelo\n",
        "model.compile(optimizer='adam', loss='binary_crossentropy', metrics=['accuracy'])\n",
        "model.fit(X_train, y_train, epochs=10, batch_size=32)\n",
        "\n",
        "# Predições e métricas\n",
        "y_pred_proba = model.predict(X_test)  # Predições de probabilidade\n",
        "y_pred = (y_pred_proba > 0.5).astype(int)  # Converter para rótulos binários"
      ],
      "metadata": {
        "colab": {
          "base_uri": "https://localhost:8080/"
        },
        "id": "aYqFxuXjvyAC",
        "outputId": "457ed23b-0cee-40ed-e13a-08122af03de9"
      },
      "execution_count": null,
      "outputs": [
        {
          "output_type": "stream",
          "name": "stdout",
          "text": [
            "Epoch 1/10\n"
          ]
        },
        {
          "output_type": "stream",
          "name": "stderr",
          "text": [
            "/usr/local/lib/python3.11/dist-packages/keras/src/layers/core/dense.py:87: UserWarning: Do not pass an `input_shape`/`input_dim` argument to a layer. When using Sequential models, prefer using an `Input(shape)` object as the first layer in the model instead.\n",
            "  super().__init__(activity_regularizer=activity_regularizer, **kwargs)\n"
          ]
        },
        {
          "output_type": "stream",
          "name": "stdout",
          "text": [
            "\u001b[1m14/14\u001b[0m \u001b[32m━━━━━━━━━━━━━━━━━━━━\u001b[0m\u001b[37m\u001b[0m \u001b[1m1s\u001b[0m 2ms/step - accuracy: 0.1709 - loss: 59.4871\n",
            "Epoch 2/10\n",
            "\u001b[1m14/14\u001b[0m \u001b[32m━━━━━━━━━━━━━━━━━━━━\u001b[0m\u001b[37m\u001b[0m \u001b[1m0s\u001b[0m 2ms/step - accuracy: 0.4157 - loss: 15.6708 \n",
            "Epoch 3/10\n",
            "\u001b[1m14/14\u001b[0m \u001b[32m━━━━━━━━━━━━━━━━━━━━\u001b[0m\u001b[37m\u001b[0m \u001b[1m0s\u001b[0m 2ms/step - accuracy: 0.7047 - loss: 5.3101 \n",
            "Epoch 4/10\n",
            "\u001b[1m14/14\u001b[0m \u001b[32m━━━━━━━━━━━━━━━━━━━━\u001b[0m\u001b[37m\u001b[0m \u001b[1m0s\u001b[0m 2ms/step - accuracy: 0.7672 - loss: 5.2730 \n",
            "Epoch 5/10\n",
            "\u001b[1m14/14\u001b[0m \u001b[32m━━━━━━━━━━━━━━━━━━━━\u001b[0m\u001b[37m\u001b[0m \u001b[1m0s\u001b[0m 2ms/step - accuracy: 0.6788 - loss: 4.3757 \n",
            "Epoch 6/10\n",
            "\u001b[1m14/14\u001b[0m \u001b[32m━━━━━━━━━━━━━━━━━━━━\u001b[0m\u001b[37m\u001b[0m \u001b[1m0s\u001b[0m 2ms/step - accuracy: 0.6704 - loss: 2.6680 \n",
            "Epoch 7/10\n",
            "\u001b[1m14/14\u001b[0m \u001b[32m━━━━━━━━━━━━━━━━━━━━\u001b[0m\u001b[37m\u001b[0m \u001b[1m0s\u001b[0m 2ms/step - accuracy: 0.7120 - loss: 1.8529 \n",
            "Epoch 8/10\n",
            "\u001b[1m14/14\u001b[0m \u001b[32m━━━━━━━━━━━━━━━━━━━━\u001b[0m\u001b[37m\u001b[0m \u001b[1m0s\u001b[0m 2ms/step - accuracy: 0.7467 - loss: 1.2922 \n",
            "Epoch 9/10\n",
            "\u001b[1m14/14\u001b[0m \u001b[32m━━━━━━━━━━━━━━━━━━━━\u001b[0m\u001b[37m\u001b[0m \u001b[1m0s\u001b[0m 3ms/step - accuracy: 0.7836 - loss: 0.7377 \n",
            "Epoch 10/10\n",
            "\u001b[1m14/14\u001b[0m \u001b[32m━━━━━━━━━━━━━━━━━━━━\u001b[0m\u001b[37m\u001b[0m \u001b[1m0s\u001b[0m 2ms/step - accuracy: 0.8214 - loss: 0.4770  \n",
            "\u001b[1m4/4\u001b[0m \u001b[32m━━━━━━━━━━━━━━━━━━━━\u001b[0m\u001b[37m\u001b[0m \u001b[1m0s\u001b[0m 12ms/step\n"
          ]
        }
      ]
    },
    {
      "cell_type": "code",
      "source": [
        "# Calculando as métricas de classificação\n",
        "accuracy = accuracy_score(y_test, y_pred)\n",
        "precision = precision_score(y_test, y_pred)\n",
        "recall = recall_score(y_test, y_pred)\n",
        "f1 = f1_score(y_test, y_pred)\n",
        "\n",
        "# Exibindo as métricas\n",
        "print(f\"Acurácia: {accuracy:.2f}\")\n",
        "print(f\"Precisão: {precision:.2f}\")\n",
        "print(f\"Recall: {recall:.2f}\")\n",
        "print(f\"F1-Score: {f1:.2f}\")"
      ],
      "metadata": {
        "colab": {
          "base_uri": "https://localhost:8080/"
        },
        "id": "w2lwQlfv0Qri",
        "outputId": "dfa41170-4f18-4f67-fa80-78cfb19e607d"
      },
      "execution_count": null,
      "outputs": [
        {
          "output_type": "stream",
          "name": "stdout",
          "text": [
            "Acurácia: 0.80\n",
            "Precisão: 0.80\n",
            "Recall: 0.96\n",
            "F1-Score: 0.88\n"
          ]
        }
      ]
    },
    {
      "cell_type": "code",
      "execution_count": null,
      "metadata": {
        "id": "L1bbRPNvwRJ6"
      },
      "outputs": [],
      "source": [
        "# Treinando um modelo de regressão linear\n",
        "model = RandomForestClassifier()\n",
        "rfc = model.fit(X_train, y_train)\n",
        "\n",
        "# Fazendo previsões no conjunto de teste\n",
        "y_pred = rfc.predict(X_test)"
      ]
    },
    {
      "cell_type": "code",
      "source": [
        "# Calculando as métricas de classificação\n",
        "accuracy = accuracy_score(y_test, y_pred)\n",
        "precision = precision_score(y_test, y_pred)\n",
        "recall = recall_score(y_test, y_pred)\n",
        "f1 = f1_score(y_test, y_pred)\n",
        "\n",
        "# Exibindo as métricas\n",
        "print(f\"Acurácia: {accuracy:.2f}\")\n",
        "print(f\"Precisão: {precision:.2f}\")\n",
        "print(f\"Recall: {recall:.2f}\")\n",
        "print(f\"F1-Score: {f1:.2f}\")"
      ],
      "metadata": {
        "id": "pJ0LHz2ORhH-",
        "colab": {
          "base_uri": "https://localhost:8080/"
        },
        "outputId": "c5345e81-34b6-410d-8047-b67cf2d9c5f2"
      },
      "execution_count": null,
      "outputs": [
        {
          "output_type": "stream",
          "name": "stdout",
          "text": [
            "Acurácia: 0.88\n",
            "Precisão: 0.85\n",
            "Recall: 1.00\n",
            "F1-Score: 0.92\n"
          ]
        }
      ]
    },
    {
      "cell_type": "code",
      "source": [
        "# Treinando um modelo knc\n",
        "model = KNeighborsClassifier()\n",
        "knc = model.fit(X_train,y_train)\n",
        "\n",
        "# Fazendo previsões no conjunto de teste\n",
        "y_pred = knc.predict(X_test)"
      ],
      "metadata": {
        "id": "22xAFv68q4eN"
      },
      "execution_count": null,
      "outputs": []
    },
    {
      "cell_type": "code",
      "source": [
        "# Calculando as métricas de classificação\n",
        "accuracy = accuracy_score(y_test, y_pred)\n",
        "precision = precision_score(y_test, y_pred)\n",
        "recall = recall_score(y_test, y_pred)\n",
        "f1 = f1_score(y_test, y_pred)\n",
        "\n",
        "# Exibindo as métricas\n",
        "print(f\"Acurácia: {accuracy:.2f}\")\n",
        "print(f\"Precisão: {precision:.2f}\")\n",
        "print(f\"Recall: {recall:.2f}\")\n",
        "print(f\"F1-Score: {f1:.2f}\")"
      ],
      "metadata": {
        "colab": {
          "base_uri": "https://localhost:8080/"
        },
        "id": "K6FL0XLrrcv8",
        "outputId": "4c168adf-0992-43b9-dbae-66f469eadfca"
      },
      "execution_count": null,
      "outputs": [
        {
          "output_type": "stream",
          "name": "stdout",
          "text": [
            "Acurácia: 0.90\n",
            "Precisão: 0.90\n",
            "Recall: 0.98\n",
            "F1-Score: 0.93\n"
          ]
        }
      ]
    },
    {
      "cell_type": "code",
      "source": [
        "model = XGBClassifier()\n",
        "xgb = model.fit(X_train, y_train)\n",
        "\n",
        "# Fazendo previsões no conjunto de teste\n",
        "y_pred = xgb.predict(X_test)"
      ],
      "metadata": {
        "id": "bGPRdTIRuhi1"
      },
      "execution_count": null,
      "outputs": []
    },
    {
      "cell_type": "code",
      "source": [
        "# Calculando as métricas de classificação\n",
        "accuracy = accuracy_score(y_test, y_pred)\n",
        "precision = precision_score(y_test, y_pred)\n",
        "recall = recall_score(y_test, y_pred)\n",
        "f1 = f1_score(y_test, y_pred)\n",
        "\n",
        "# Exibindo as métricas\n",
        "print(f\"Acurácia: {accuracy:.2f}\")\n",
        "print(f\"Precisão: {precision:.2f}\")\n",
        "print(f\"Recall: {recall:.2f}\")\n",
        "print(f\"F1-Score: {f1:.2f}\")"
      ],
      "metadata": {
        "colab": {
          "base_uri": "https://localhost:8080/"
        },
        "id": "LjP4ohEVwSJu",
        "outputId": "5d50aee9-d3ab-4ded-93f1-a2949a84f25f"
      },
      "execution_count": null,
      "outputs": [
        {
          "output_type": "stream",
          "name": "stdout",
          "text": [
            "Acurácia: 0.88\n",
            "Precisão: 0.88\n",
            "Recall: 0.96\n",
            "F1-Score: 0.92\n"
          ]
        }
      ]
    },
    {
      "cell_type": "code",
      "source": [
        "model = LGBMClassifier(n_estimators=100, learning_rate=0.1, num_leaves=31)\n",
        "LGBMC = model.fit(X_train, y_train)\n",
        "\n",
        "y_pred = LGBMC.predict(X_test)"
      ],
      "metadata": {
        "colab": {
          "base_uri": "https://localhost:8080/"
        },
        "id": "1NroFHv-wWpb",
        "outputId": "11f370a8-c006-4634-9db4-022f80953615"
      },
      "execution_count": null,
      "outputs": [
        {
          "output_type": "stream",
          "name": "stdout",
          "text": [
            "[LightGBM] [Info] Number of positive: 367, number of negative: 80\n",
            "[LightGBM] [Info] Auto-choosing col-wise multi-threading, the overhead of testing was 0.000174 seconds.\n",
            "You can set `force_col_wise=true` to remove the overhead.\n",
            "[LightGBM] [Info] Total Bins 1948\n",
            "[LightGBM] [Info] Number of data points in the train set: 447, number of used features: 13\n",
            "[LightGBM] [Info] [binary:BoostFromScore]: pavg=0.821029 -> initscore=1.523335\n",
            "[LightGBM] [Info] Start training from score 1.523335\n",
            "[LightGBM] [Warning] No further splits with positive gain, best gain: -inf\n",
            "[LightGBM] [Warning] No further splits with positive gain, best gain: -inf\n",
            "[LightGBM] [Warning] No further splits with positive gain, best gain: -inf\n",
            "[LightGBM] [Warning] No further splits with positive gain, best gain: -inf\n",
            "[LightGBM] [Warning] No further splits with positive gain, best gain: -inf\n",
            "[LightGBM] [Warning] No further splits with positive gain, best gain: -inf\n",
            "[LightGBM] [Warning] No further splits with positive gain, best gain: -inf\n",
            "[LightGBM] [Warning] No further splits with positive gain, best gain: -inf\n",
            "[LightGBM] [Warning] No further splits with positive gain, best gain: -inf\n",
            "[LightGBM] [Warning] No further splits with positive gain, best gain: -inf\n",
            "[LightGBM] [Warning] No further splits with positive gain, best gain: -inf\n",
            "[LightGBM] [Warning] No further splits with positive gain, best gain: -inf\n",
            "[LightGBM] [Warning] No further splits with positive gain, best gain: -inf\n",
            "[LightGBM] [Warning] No further splits with positive gain, best gain: -inf\n",
            "[LightGBM] [Warning] No further splits with positive gain, best gain: -inf\n",
            "[LightGBM] [Warning] No further splits with positive gain, best gain: -inf\n",
            "[LightGBM] [Warning] No further splits with positive gain, best gain: -inf\n",
            "[LightGBM] [Warning] No further splits with positive gain, best gain: -inf\n",
            "[LightGBM] [Warning] No further splits with positive gain, best gain: -inf\n",
            "[LightGBM] [Warning] No further splits with positive gain, best gain: -inf\n",
            "[LightGBM] [Warning] No further splits with positive gain, best gain: -inf\n",
            "[LightGBM] [Warning] No further splits with positive gain, best gain: -inf\n",
            "[LightGBM] [Warning] No further splits with positive gain, best gain: -inf\n",
            "[LightGBM] [Warning] No further splits with positive gain, best gain: -inf\n",
            "[LightGBM] [Warning] No further splits with positive gain, best gain: -inf\n",
            "[LightGBM] [Warning] No further splits with positive gain, best gain: -inf\n",
            "[LightGBM] [Warning] No further splits with positive gain, best gain: -inf\n",
            "[LightGBM] [Warning] No further splits with positive gain, best gain: -inf\n",
            "[LightGBM] [Warning] No further splits with positive gain, best gain: -inf\n",
            "[LightGBM] [Warning] No further splits with positive gain, best gain: -inf\n",
            "[LightGBM] [Warning] No further splits with positive gain, best gain: -inf\n",
            "[LightGBM] [Warning] No further splits with positive gain, best gain: -inf\n",
            "[LightGBM] [Warning] No further splits with positive gain, best gain: -inf\n",
            "[LightGBM] [Warning] No further splits with positive gain, best gain: -inf\n",
            "[LightGBM] [Warning] No further splits with positive gain, best gain: -inf\n",
            "[LightGBM] [Warning] No further splits with positive gain, best gain: -inf\n",
            "[LightGBM] [Warning] No further splits with positive gain, best gain: -inf\n",
            "[LightGBM] [Warning] No further splits with positive gain, best gain: -inf\n",
            "[LightGBM] [Warning] No further splits with positive gain, best gain: -inf\n",
            "[LightGBM] [Warning] No further splits with positive gain, best gain: -inf\n",
            "[LightGBM] [Warning] No further splits with positive gain, best gain: -inf\n",
            "[LightGBM] [Warning] No further splits with positive gain, best gain: -inf\n",
            "[LightGBM] [Warning] No further splits with positive gain, best gain: -inf\n",
            "[LightGBM] [Warning] No further splits with positive gain, best gain: -inf\n",
            "[LightGBM] [Warning] No further splits with positive gain, best gain: -inf\n",
            "[LightGBM] [Warning] No further splits with positive gain, best gain: -inf\n",
            "[LightGBM] [Warning] No further splits with positive gain, best gain: -inf\n",
            "[LightGBM] [Warning] No further splits with positive gain, best gain: -inf\n",
            "[LightGBM] [Warning] No further splits with positive gain, best gain: -inf\n",
            "[LightGBM] [Warning] No further splits with positive gain, best gain: -inf\n",
            "[LightGBM] [Warning] No further splits with positive gain, best gain: -inf\n",
            "[LightGBM] [Warning] No further splits with positive gain, best gain: -inf\n",
            "[LightGBM] [Warning] No further splits with positive gain, best gain: -inf\n",
            "[LightGBM] [Warning] No further splits with positive gain, best gain: -inf\n",
            "[LightGBM] [Warning] No further splits with positive gain, best gain: -inf\n",
            "[LightGBM] [Warning] No further splits with positive gain, best gain: -inf\n",
            "[LightGBM] [Warning] No further splits with positive gain, best gain: -inf\n",
            "[LightGBM] [Warning] No further splits with positive gain, best gain: -inf\n",
            "[LightGBM] [Warning] No further splits with positive gain, best gain: -inf\n",
            "[LightGBM] [Warning] No further splits with positive gain, best gain: -inf\n",
            "[LightGBM] [Warning] No further splits with positive gain, best gain: -inf\n",
            "[LightGBM] [Warning] No further splits with positive gain, best gain: -inf\n",
            "[LightGBM] [Warning] No further splits with positive gain, best gain: -inf\n",
            "[LightGBM] [Warning] No further splits with positive gain, best gain: -inf\n",
            "[LightGBM] [Warning] No further splits with positive gain, best gain: -inf\n",
            "[LightGBM] [Warning] No further splits with positive gain, best gain: -inf\n",
            "[LightGBM] [Warning] No further splits with positive gain, best gain: -inf\n",
            "[LightGBM] [Warning] No further splits with positive gain, best gain: -inf\n",
            "[LightGBM] [Warning] No further splits with positive gain, best gain: -inf\n",
            "[LightGBM] [Warning] No further splits with positive gain, best gain: -inf\n",
            "[LightGBM] [Warning] No further splits with positive gain, best gain: -inf\n",
            "[LightGBM] [Warning] No further splits with positive gain, best gain: -inf\n",
            "[LightGBM] [Warning] No further splits with positive gain, best gain: -inf\n",
            "[LightGBM] [Warning] No further splits with positive gain, best gain: -inf\n",
            "[LightGBM] [Warning] No further splits with positive gain, best gain: -inf\n",
            "[LightGBM] [Warning] No further splits with positive gain, best gain: -inf\n",
            "[LightGBM] [Warning] No further splits with positive gain, best gain: -inf\n",
            "[LightGBM] [Warning] No further splits with positive gain, best gain: -inf\n",
            "[LightGBM] [Warning] No further splits with positive gain, best gain: -inf\n",
            "[LightGBM] [Warning] No further splits with positive gain, best gain: -inf\n",
            "[LightGBM] [Warning] No further splits with positive gain, best gain: -inf\n",
            "[LightGBM] [Warning] No further splits with positive gain, best gain: -inf\n",
            "[LightGBM] [Warning] No further splits with positive gain, best gain: -inf\n",
            "[LightGBM] [Warning] No further splits with positive gain, best gain: -inf\n",
            "[LightGBM] [Warning] No further splits with positive gain, best gain: -inf\n",
            "[LightGBM] [Warning] No further splits with positive gain, best gain: -inf\n",
            "[LightGBM] [Warning] No further splits with positive gain, best gain: -inf\n",
            "[LightGBM] [Warning] No further splits with positive gain, best gain: -inf\n",
            "[LightGBM] [Warning] No further splits with positive gain, best gain: -inf\n",
            "[LightGBM] [Warning] No further splits with positive gain, best gain: -inf\n",
            "[LightGBM] [Warning] No further splits with positive gain, best gain: -inf\n",
            "[LightGBM] [Warning] No further splits with positive gain, best gain: -inf\n",
            "[LightGBM] [Warning] No further splits with positive gain, best gain: -inf\n",
            "[LightGBM] [Warning] No further splits with positive gain, best gain: -inf\n",
            "[LightGBM] [Warning] No further splits with positive gain, best gain: -inf\n",
            "[LightGBM] [Warning] No further splits with positive gain, best gain: -inf\n",
            "[LightGBM] [Warning] No further splits with positive gain, best gain: -inf\n",
            "[LightGBM] [Warning] No further splits with positive gain, best gain: -inf\n",
            "[LightGBM] [Warning] No further splits with positive gain, best gain: -inf\n",
            "[LightGBM] [Warning] No further splits with positive gain, best gain: -inf\n"
          ]
        }
      ]
    },
    {
      "cell_type": "code",
      "source": [
        "# Calculando as métricas de classificação\n",
        "accuracy = accuracy_score(y_test, y_pred)\n",
        "precision = precision_score(y_test, y_pred)\n",
        "recall = recall_score(y_test, y_pred)\n",
        "f1 = f1_score(y_test, y_pred)\n",
        "\n",
        "# Exibindo as métricas\n",
        "print(f\"Acurácia: {accuracy:.2f}\")\n",
        "print(f\"Precisão: {precision:.2f}\")\n",
        "print(f\"Recall: {recall:.2f}\")\n",
        "print(f\"F1-Score: {f1:.2f}\")"
      ],
      "metadata": {
        "colab": {
          "base_uri": "https://localhost:8080/"
        },
        "id": "T59Ic6lQwjRh",
        "outputId": "88276dcf-8b56-4da7-97ef-f375f0a1cff2"
      },
      "execution_count": null,
      "outputs": [
        {
          "output_type": "stream",
          "name": "stdout",
          "text": [
            "Acurácia: 0.92\n",
            "Precisão: 0.92\n",
            "Recall: 0.98\n",
            "F1-Score: 0.95\n"
          ]
        }
      ]
    },
    {
      "cell_type": "code",
      "source": [
        "# Definição do modelo\n",
        "input_shape = (X_train.shape[1],)  # Número de colunas do conjunto de treino\n",
        "model = tf.keras.Sequential([\n",
        "    tf.keras.layers.Dense(64, activation='relu', input_shape=input_shape),\n",
        "    tf.keras.layers.Dense(1, activation='sigmoid')\n",
        "])\n",
        "\n",
        "# Compilação e treinamento\n",
        "model.compile(optimizer='adam', loss='binary_crossentropy', metrics=['accuracy'])\n",
        "model.fit(X_train, y_train, epochs=10, batch_size=32)\n",
        "\n",
        "# Predições e métricas\n",
        "y_pred_proba = model.predict(X_test)  # Predições de probabilidade\n",
        "y_pred = (y_pred_proba > 0.5).astype(int)  # Converter para rótulos binários"
      ],
      "metadata": {
        "colab": {
          "base_uri": "https://localhost:8080/"
        },
        "id": "RhJL0hg7xBoC",
        "outputId": "499be931-7b18-46cc-ff9a-4f16502f98a5"
      },
      "execution_count": null,
      "outputs": [
        {
          "output_type": "stream",
          "name": "stdout",
          "text": [
            "Epoch 1/10\n"
          ]
        },
        {
          "output_type": "stream",
          "name": "stderr",
          "text": [
            "/usr/local/lib/python3.11/dist-packages/keras/src/layers/core/dense.py:87: UserWarning: Do not pass an `input_shape`/`input_dim` argument to a layer. When using Sequential models, prefer using an `Input(shape)` object as the first layer in the model instead.\n",
            "  super().__init__(activity_regularizer=activity_regularizer, **kwargs)\n"
          ]
        },
        {
          "output_type": "stream",
          "name": "stdout",
          "text": [
            "\u001b[1m14/14\u001b[0m \u001b[32m━━━━━━━━━━━━━━━━━━━━\u001b[0m\u001b[37m\u001b[0m \u001b[1m1s\u001b[0m 2ms/step - accuracy: 0.6331 - loss: 3.0695\n",
            "Epoch 2/10\n",
            "\u001b[1m14/14\u001b[0m \u001b[32m━━━━━━━━━━━━━━━━━━━━\u001b[0m\u001b[37m\u001b[0m \u001b[1m0s\u001b[0m 2ms/step - accuracy: 0.7364 - loss: 1.4016 \n",
            "Epoch 3/10\n",
            "\u001b[1m14/14\u001b[0m \u001b[32m━━━━━━━━━━━━━━━━━━━━\u001b[0m\u001b[37m\u001b[0m \u001b[1m0s\u001b[0m 2ms/step - accuracy: 0.7430 - loss: 1.0202 \n",
            "Epoch 4/10\n",
            "\u001b[1m14/14\u001b[0m \u001b[32m━━━━━━━━━━━━━━━━━━━━\u001b[0m\u001b[37m\u001b[0m \u001b[1m0s\u001b[0m 2ms/step - accuracy: 0.7783 - loss: 0.8292 \n",
            "Epoch 5/10\n",
            "\u001b[1m14/14\u001b[0m \u001b[32m━━━━━━━━━━━━━━━━━━━━\u001b[0m\u001b[37m\u001b[0m \u001b[1m0s\u001b[0m 3ms/step - accuracy: 0.7673 - loss: 0.8069 \n",
            "Epoch 6/10\n",
            "\u001b[1m14/14\u001b[0m \u001b[32m━━━━━━━━━━━━━━━━━━━━\u001b[0m\u001b[37m\u001b[0m \u001b[1m0s\u001b[0m 2ms/step - accuracy: 0.8018 - loss: 0.6989 \n",
            "Epoch 7/10\n",
            "\u001b[1m14/14\u001b[0m \u001b[32m━━━━━━━━━━━━━━━━━━━━\u001b[0m\u001b[37m\u001b[0m \u001b[1m0s\u001b[0m 2ms/step - accuracy: 0.8361 - loss: 0.5432 \n",
            "Epoch 8/10\n",
            "\u001b[1m14/14\u001b[0m \u001b[32m━━━━━━━━━━━━━━━━━━━━\u001b[0m\u001b[37m\u001b[0m \u001b[1m0s\u001b[0m 2ms/step - accuracy: 0.8535 - loss: 0.4892 \n",
            "Epoch 9/10\n",
            "\u001b[1m14/14\u001b[0m \u001b[32m━━━━━━━━━━━━━━━━━━━━\u001b[0m\u001b[37m\u001b[0m \u001b[1m0s\u001b[0m 2ms/step - accuracy: 0.8530 - loss: 0.4647 \n",
            "Epoch 10/10\n",
            "\u001b[1m14/14\u001b[0m \u001b[32m━━━━━━━━━━━━━━━━━━━━\u001b[0m\u001b[37m\u001b[0m \u001b[1m0s\u001b[0m 2ms/step - accuracy: 0.8373 - loss: 0.3832 \n",
            "\u001b[1m4/4\u001b[0m \u001b[32m━━━━━━━━━━━━━━━━━━━━\u001b[0m\u001b[37m\u001b[0m \u001b[1m0s\u001b[0m 12ms/step\n"
          ]
        }
      ]
    },
    {
      "cell_type": "code",
      "source": [
        "# Calculando as métricas de classificação\n",
        "accuracy = accuracy_score(y_test, y_pred)\n",
        "precision = precision_score(y_test, y_pred)\n",
        "recall = recall_score(y_test, y_pred)\n",
        "f1 = f1_score(y_test, y_pred)\n",
        "\n",
        "# Exibindo as métricas\n",
        "print(f\"Acurácia: {accuracy:.2f}\")\n",
        "print(f\"Precisão: {precision:.2f}\")\n",
        "print(f\"Recall: {recall:.2f}\")\n",
        "print(f\"F1-Score: {f1:.2f}\")"
      ],
      "metadata": {
        "colab": {
          "base_uri": "https://localhost:8080/"
        },
        "id": "z-fPqWyKxE2H",
        "outputId": "d77f0e9e-2ec2-478b-acf0-03de243a3487"
      },
      "execution_count": null,
      "outputs": [
        {
          "output_type": "stream",
          "name": "stdout",
          "text": [
            "Acurácia: 0.83\n",
            "Precisão: 0.83\n",
            "Recall: 0.96\n",
            "F1-Score: 0.89\n"
          ]
        }
      ]
    },
    {
      "cell_type": "code",
      "source": [
        "model = DecisionTreeClassifier(criterion='gini', random_state=42)\n",
        "DTC = model.fit(X_train, y_train)\n",
        "\n",
        "y_pred = DTC.predict(X_test)"
      ],
      "metadata": {
        "id": "PaAvjd4NwzUb"
      },
      "execution_count": null,
      "outputs": []
    },
    {
      "cell_type": "code",
      "source": [
        "# Calculando as métricas de classificação\n",
        "accuracy = accuracy_score(y_test, y_pred)\n",
        "precision = precision_score(y_test, y_pred)\n",
        "recall = recall_score(y_test, y_pred)\n",
        "f1 = f1_score(y_test, y_pred)\n",
        "\n",
        "# Exibindo as métricas\n",
        "print(f\"Acurácia: {accuracy:.2f}\")\n",
        "print(f\"Precisão: {precision:.2f}\")\n",
        "print(f\"Recall: {recall:.2f}\")\n",
        "print(f\"F1-Score: {f1:.2f}\")"
      ],
      "metadata": {
        "colab": {
          "base_uri": "https://localhost:8080/"
        },
        "id": "V0yq3DxGw0oE",
        "outputId": "4423447f-3654-4d40-f3f9-34feeb675b10"
      },
      "execution_count": null,
      "outputs": [
        {
          "output_type": "stream",
          "name": "stdout",
          "text": [
            "Acurácia: 0.88\n",
            "Precisão: 0.87\n",
            "Recall: 0.98\n",
            "F1-Score: 0.92\n"
          ]
        }
      ]
    },
    {
      "cell_type": "code",
      "source": [
        "# Definição do modelo Conv1D\n",
        "input_shape = (X_train.shape[1], 1)  # Número de características e 1 canal\n",
        "model = tf.keras.Sequential([\n",
        "    tf.keras.layers.Conv1D(32, kernel_size=3, activation='relu', input_shape=input_shape),\n",
        "    tf.keras.layers.Flatten(),\n",
        "    tf.keras.layers.Dense(1, activation='sigmoid')\n",
        "])\n",
        "\n",
        "# Compilação e treinamento do modelo\n",
        "model.compile(optimizer='adam', loss='binary_crossentropy', metrics=['accuracy'])\n",
        "model.fit(X_train, y_train, epochs=10, batch_size=32)\n",
        "\n",
        "# Predições e métricas\n",
        "y_pred_proba = model.predict(X_test)  # Predições de probabilidade\n",
        "y_pred = (y_pred_proba > 0.5).astype(int)  # Converter para rótulos binários"
      ],
      "metadata": {
        "colab": {
          "base_uri": "https://localhost:8080/"
        },
        "id": "LOVzSRHqxMwP",
        "outputId": "86de240d-4a0d-4c13-da2a-7d700841469e"
      },
      "execution_count": null,
      "outputs": [
        {
          "output_type": "stream",
          "name": "stdout",
          "text": [
            "Epoch 1/10\n"
          ]
        },
        {
          "output_type": "stream",
          "name": "stderr",
          "text": [
            "/usr/local/lib/python3.11/dist-packages/keras/src/layers/convolutional/base_conv.py:107: UserWarning: Do not pass an `input_shape`/`input_dim` argument to a layer. When using Sequential models, prefer using an `Input(shape)` object as the first layer in the model instead.\n",
            "  super().__init__(activity_regularizer=activity_regularizer, **kwargs)\n"
          ]
        },
        {
          "output_type": "stream",
          "name": "stdout",
          "text": [
            "\u001b[1m14/14\u001b[0m \u001b[32m━━━━━━━━━━━━━━━━━━━━\u001b[0m\u001b[37m\u001b[0m \u001b[1m1s\u001b[0m 3ms/step - accuracy: 0.2709 - loss: 6.6565 \n",
            "Epoch 2/10\n",
            "\u001b[1m14/14\u001b[0m \u001b[32m━━━━━━━━━━━━━━━━━━━━\u001b[0m\u001b[37m\u001b[0m \u001b[1m0s\u001b[0m 2ms/step - accuracy: 0.8075 - loss: 1.7659 \n",
            "Epoch 3/10\n",
            "\u001b[1m14/14\u001b[0m \u001b[32m━━━━━━━━━━━━━━━━━━━━\u001b[0m\u001b[37m\u001b[0m \u001b[1m0s\u001b[0m 2ms/step - accuracy: 0.8036 - loss: 1.2650 \n",
            "Epoch 4/10\n",
            "\u001b[1m14/14\u001b[0m \u001b[32m━━━━━━━━━━━━━━━━━━━━\u001b[0m\u001b[37m\u001b[0m \u001b[1m0s\u001b[0m 2ms/step - accuracy: 0.7266 - loss: 0.7363 \n",
            "Epoch 5/10\n",
            "\u001b[1m14/14\u001b[0m \u001b[32m━━━━━━━━━━━━━━━━━━━━\u001b[0m\u001b[37m\u001b[0m \u001b[1m0s\u001b[0m 2ms/step - accuracy: 0.7716 - loss: 0.7081 \n",
            "Epoch 6/10\n",
            "\u001b[1m14/14\u001b[0m \u001b[32m━━━━━━━━━━━━━━━━━━━━\u001b[0m\u001b[37m\u001b[0m \u001b[1m0s\u001b[0m 2ms/step - accuracy: 0.8022 - loss: 0.4778 \n",
            "Epoch 7/10\n",
            "\u001b[1m14/14\u001b[0m \u001b[32m━━━━━━━━━━━━━━━━━━━━\u001b[0m\u001b[37m\u001b[0m \u001b[1m0s\u001b[0m 2ms/step - accuracy: 0.8250 - loss: 0.4315 \n",
            "Epoch 8/10\n",
            "\u001b[1m14/14\u001b[0m \u001b[32m━━━━━━━━━━━━━━━━━━━━\u001b[0m\u001b[37m\u001b[0m \u001b[1m0s\u001b[0m 2ms/step - accuracy: 0.8109 - loss: 0.4343 \n",
            "Epoch 9/10\n",
            "\u001b[1m14/14\u001b[0m \u001b[32m━━━━━━━━━━━━━━━━━━━━\u001b[0m\u001b[37m\u001b[0m \u001b[1m0s\u001b[0m 2ms/step - accuracy: 0.8247 - loss: 0.3733 \n",
            "Epoch 10/10\n",
            "\u001b[1m14/14\u001b[0m \u001b[32m━━━━━━━━━━━━━━━━━━━━\u001b[0m\u001b[37m\u001b[0m \u001b[1m0s\u001b[0m 2ms/step - accuracy: 0.8618 - loss: 0.3251 \n",
            "\u001b[1m4/4\u001b[0m \u001b[32m━━━━━━━━━━━━━━━━━━━━\u001b[0m\u001b[37m\u001b[0m \u001b[1m0s\u001b[0m 31ms/step\n"
          ]
        }
      ]
    },
    {
      "cell_type": "code",
      "source": [
        "# Calculando as métricas de classificação\n",
        "accuracy = accuracy_score(y_test, y_pred)\n",
        "precision = precision_score(y_test, y_pred)\n",
        "recall = recall_score(y_test, y_pred)\n",
        "f1 = f1_score(y_test, y_pred)\n",
        "\n",
        "# Exibindo as métricas\n",
        "print(f\"Acurácia: {accuracy:.2f}\")\n",
        "print(f\"Precisão: {precision:.2f}\")\n",
        "print(f\"Recall: {recall:.2f}\")\n",
        "print(f\"F1-Score: {f1:.2f}\")"
      ],
      "metadata": {
        "colab": {
          "base_uri": "https://localhost:8080/"
        },
        "id": "BiZQ_V9txPtx",
        "outputId": "1553072e-973c-4038-a0d0-172cc5b0781a"
      },
      "execution_count": null,
      "outputs": [
        {
          "output_type": "stream",
          "name": "stdout",
          "text": [
            "Acurácia: 0.85\n",
            "Precisão: 0.85\n",
            "Recall: 0.96\n",
            "F1-Score: 0.90\n"
          ]
        }
      ]
    },
    {
      "cell_type": "code",
      "execution_count": null,
      "metadata": {
        "id": "acE6CwW925rn"
      },
      "outputs": [],
      "source": [
        "def add_noise(y, noise_factor=0.005):\n",
        "    noise = np.random.randn(len(y))\n",
        "    y_noise = y + noise_factor * noise\n",
        "    return y_noise"
      ]
    },
    {
      "cell_type": "code",
      "execution_count": null,
      "metadata": {
        "id": "NwHrU7514Ii5"
      },
      "outputs": [],
      "source": [
        "# Caminho para os dados no Google Drive\n",
        "output_path = '/content/drive/MyDrive/audios_FOR/amostra_FOR_ruido'\n",
        "\n",
        "# Criação das pastas de destino se não existirem\n",
        "os.makedirs(os.path.join(output_path, 'real'), exist_ok=True)\n",
        "os.makedirs(os.path.join(output_path, 'fake'), exist_ok=True)\n",
        "\n",
        "# Listas para armazenar as características e rótulos com ruído\n",
        "data_noise = []  # Dados com ruído\n",
        "labels_noise = []  # Rótulos com ruído\n",
        "\n",
        "# Processar Fake\n",
        "for file_name in os.listdir(file_path_fake):\n",
        "    file_path = os.path.join(file_path_fake, file_name)\n",
        "    y, sr = librosa.load(file_path, sr=None)\n",
        "\n",
        "    # Versão original\n",
        "    features = np.mean(librosa.feature.mfcc(y=y, sr=sr, n_mfcc=13).T, axis=0)\n",
        "    data_noise.append(features)\n",
        "    labels_noise.append(0)  # Rótulo \"fake\"\n",
        "\n",
        "    # Adicionando ruído\n",
        "    y_noise = add_noise(y)  # Adicionando ruído\n",
        "    features_noise = np.mean(librosa.feature.mfcc(y=y_noise, sr=sr, n_mfcc=13).T, axis=0)\n",
        "    data_noise.append(features_noise)\n",
        "    labels_noise.append(0)  # Rótulo \"fake\"\n",
        "\n",
        "    # Salvar áudio original na pasta 'fake'\n",
        "    output_file_path = os.path.join(output_path, 'fake', file_name)\n",
        "    sf.write(output_file_path, y, sr)  # Salvando a versão original\n",
        "\n",
        "    # Salvar áudio com ruído na pasta 'fake' (com sufixo \"_ruido\")\n",
        "    output_file_path_ruido = os.path.join(output_path, 'fake', file_name.replace('.wav', '_ruido.wav'))\n",
        "    sf.write(output_file_path_ruido, y_noise, sr)  # Salvando a versão com ruído\n",
        "\n",
        "# Processar Real\n",
        "for file_name in os.listdir(file_path_real):\n",
        "    file_path = os.path.join(file_path_real, file_name)\n",
        "    y, sr = librosa.load(file_path, sr=None)\n",
        "\n",
        "    # Versão original\n",
        "    features = np.mean(librosa.feature.mfcc(y=y, sr=sr, n_mfcc=13).T, axis=0)\n",
        "    data_noise.append(features)\n",
        "    labels_noise.append(1)  # Rótulo \"real\"\n",
        "\n",
        "    # Adicionando ruído\n",
        "    y_noise = add_noise(y)  # Adicionando ruído\n",
        "    features_noise = np.mean(librosa.feature.mfcc(y=y_noise, sr=sr, n_mfcc=13).T, axis=0)\n",
        "    data_noise.append(features_noise)\n",
        "    labels_noise.append(1)  # Rótulo \"real\"\n",
        "\n",
        "    # Salvar áudio original na pasta 'real'\n",
        "    output_file_path = os.path.join(output_path, 'real', file_name)\n",
        "    sf.write(output_file_path, y, sr)  # Salvando a versão original\n",
        "\n",
        "    # Salvar áudio com ruído na pasta 'real' (com sufixo \"_ruido\")\n",
        "    output_file_path_ruido = os.path.join(output_path, 'real', file_name.replace('.wav', '_ruido.wav'))\n",
        "    sf.write(output_file_path_ruido, y_noise, sr)  # Salvando a versão com ruído"
      ]
    },
    {
      "cell_type": "code",
      "execution_count": null,
      "metadata": {
        "id": "GJ6ZNdO54RmQ"
      },
      "outputs": [],
      "source": [
        "# Converter para DataFrame\n",
        "df_noise = pd.DataFrame(data_noise)\n",
        "df_noise['label'] = labels_noise"
      ]
    },
    {
      "cell_type": "code",
      "execution_count": null,
      "metadata": {
        "colab": {
          "base_uri": "https://localhost:8080/",
          "height": 444
        },
        "id": "WMzcaHTW4aha",
        "outputId": "73d58476-53de-4ab6-f11f-c1e2ba3e4d8a"
      },
      "outputs": [
        {
          "output_type": "execute_result",
          "data": {
            "text/plain": [
              "               0           1          2          3          4          5  \\\n",
              "0    -310.484985   79.589180  12.035122  21.775892   7.463613  -4.327323   \n",
              "1    -226.493253   50.876963  18.109996  15.960763   7.133637  -1.813516   \n",
              "2    -292.760193   85.521347 -18.103905  14.233822  -1.934288  -8.300287   \n",
              "3    -209.968600   57.221235  -6.461845   6.053241   0.845262  -7.485686   \n",
              "4    -266.020477  106.608009 -11.326435  17.970966 -11.344944   1.250991   \n",
              "...          ...         ...        ...        ...        ...        ...   \n",
              "1113 -229.467114   31.107734   6.983634  11.330755  -7.389324 -15.537270   \n",
              "1114 -312.793549   82.430946   3.129900  14.186769 -18.484079 -25.799473   \n",
              "1115 -227.655668   42.641709  11.521477   6.574401  -9.096692 -17.925106   \n",
              "1116 -432.503387   52.231987  24.130854  24.908005   5.230207  10.177417   \n",
              "1117 -280.781318   11.631913  10.771608   9.069940   7.039483   5.130541   \n",
              "\n",
              "              6          7          8          9         10         11  \\\n",
              "0      1.702638   5.056441 -11.605008  -8.825641 -12.136454  -8.166679   \n",
              "1      0.641222   3.399988  -8.103005  -9.964034  -8.749639  -7.733733   \n",
              "2    -15.360986 -14.333099  -0.524541 -12.453050  -2.744914 -14.212177   \n",
              "3    -15.322666 -10.757095  -4.761020  -6.900677  -7.568161  -8.183097   \n",
              "4     -5.587977  -6.984388  -5.437147 -10.668830   6.232262 -13.461805   \n",
              "...         ...        ...        ...        ...        ...        ...   \n",
              "1113 -17.156863 -14.316045  -8.486195  -4.112575 -11.461081  -1.635118   \n",
              "1114 -17.645624 -17.211958 -12.702026  -4.227543 -22.298204   0.184280   \n",
              "1115 -15.750295  -9.619601 -10.815373  -6.172114 -10.262457  -3.086372   \n",
              "1116   1.667769  11.312072  14.200116  13.155353   9.546826  18.923155   \n",
              "1117   4.773452   5.997038   7.989094   8.790886   8.977417   9.713269   \n",
              "\n",
              "             12  label  \n",
              "0     -7.886450      0  \n",
              "1     -7.577502      0  \n",
              "2      0.993812      0  \n",
              "3     -3.377895      0  \n",
              "4      6.319636      0  \n",
              "...         ...    ...  \n",
              "1113  -8.066796      1  \n",
              "1114 -17.449095      1  \n",
              "1115  -7.581989      1  \n",
              "1116   7.199302      1  \n",
              "1117   7.236584      1  \n",
              "\n",
              "[1118 rows x 14 columns]"
            ],
            "text/html": [
              "\n",
              "  <div id=\"df-d316e012-67bf-46fd-a6c7-faae7bbf5530\" class=\"colab-df-container\">\n",
              "    <div>\n",
              "<style scoped>\n",
              "    .dataframe tbody tr th:only-of-type {\n",
              "        vertical-align: middle;\n",
              "    }\n",
              "\n",
              "    .dataframe tbody tr th {\n",
              "        vertical-align: top;\n",
              "    }\n",
              "\n",
              "    .dataframe thead th {\n",
              "        text-align: right;\n",
              "    }\n",
              "</style>\n",
              "<table border=\"1\" class=\"dataframe\">\n",
              "  <thead>\n",
              "    <tr style=\"text-align: right;\">\n",
              "      <th></th>\n",
              "      <th>0</th>\n",
              "      <th>1</th>\n",
              "      <th>2</th>\n",
              "      <th>3</th>\n",
              "      <th>4</th>\n",
              "      <th>5</th>\n",
              "      <th>6</th>\n",
              "      <th>7</th>\n",
              "      <th>8</th>\n",
              "      <th>9</th>\n",
              "      <th>10</th>\n",
              "      <th>11</th>\n",
              "      <th>12</th>\n",
              "      <th>label</th>\n",
              "    </tr>\n",
              "  </thead>\n",
              "  <tbody>\n",
              "    <tr>\n",
              "      <th>0</th>\n",
              "      <td>-310.484985</td>\n",
              "      <td>79.589180</td>\n",
              "      <td>12.035122</td>\n",
              "      <td>21.775892</td>\n",
              "      <td>7.463613</td>\n",
              "      <td>-4.327323</td>\n",
              "      <td>1.702638</td>\n",
              "      <td>5.056441</td>\n",
              "      <td>-11.605008</td>\n",
              "      <td>-8.825641</td>\n",
              "      <td>-12.136454</td>\n",
              "      <td>-8.166679</td>\n",
              "      <td>-7.886450</td>\n",
              "      <td>0</td>\n",
              "    </tr>\n",
              "    <tr>\n",
              "      <th>1</th>\n",
              "      <td>-226.493253</td>\n",
              "      <td>50.876963</td>\n",
              "      <td>18.109996</td>\n",
              "      <td>15.960763</td>\n",
              "      <td>7.133637</td>\n",
              "      <td>-1.813516</td>\n",
              "      <td>0.641222</td>\n",
              "      <td>3.399988</td>\n",
              "      <td>-8.103005</td>\n",
              "      <td>-9.964034</td>\n",
              "      <td>-8.749639</td>\n",
              "      <td>-7.733733</td>\n",
              "      <td>-7.577502</td>\n",
              "      <td>0</td>\n",
              "    </tr>\n",
              "    <tr>\n",
              "      <th>2</th>\n",
              "      <td>-292.760193</td>\n",
              "      <td>85.521347</td>\n",
              "      <td>-18.103905</td>\n",
              "      <td>14.233822</td>\n",
              "      <td>-1.934288</td>\n",
              "      <td>-8.300287</td>\n",
              "      <td>-15.360986</td>\n",
              "      <td>-14.333099</td>\n",
              "      <td>-0.524541</td>\n",
              "      <td>-12.453050</td>\n",
              "      <td>-2.744914</td>\n",
              "      <td>-14.212177</td>\n",
              "      <td>0.993812</td>\n",
              "      <td>0</td>\n",
              "    </tr>\n",
              "    <tr>\n",
              "      <th>3</th>\n",
              "      <td>-209.968600</td>\n",
              "      <td>57.221235</td>\n",
              "      <td>-6.461845</td>\n",
              "      <td>6.053241</td>\n",
              "      <td>0.845262</td>\n",
              "      <td>-7.485686</td>\n",
              "      <td>-15.322666</td>\n",
              "      <td>-10.757095</td>\n",
              "      <td>-4.761020</td>\n",
              "      <td>-6.900677</td>\n",
              "      <td>-7.568161</td>\n",
              "      <td>-8.183097</td>\n",
              "      <td>-3.377895</td>\n",
              "      <td>0</td>\n",
              "    </tr>\n",
              "    <tr>\n",
              "      <th>4</th>\n",
              "      <td>-266.020477</td>\n",
              "      <td>106.608009</td>\n",
              "      <td>-11.326435</td>\n",
              "      <td>17.970966</td>\n",
              "      <td>-11.344944</td>\n",
              "      <td>1.250991</td>\n",
              "      <td>-5.587977</td>\n",
              "      <td>-6.984388</td>\n",
              "      <td>-5.437147</td>\n",
              "      <td>-10.668830</td>\n",
              "      <td>6.232262</td>\n",
              "      <td>-13.461805</td>\n",
              "      <td>6.319636</td>\n",
              "      <td>0</td>\n",
              "    </tr>\n",
              "    <tr>\n",
              "      <th>...</th>\n",
              "      <td>...</td>\n",
              "      <td>...</td>\n",
              "      <td>...</td>\n",
              "      <td>...</td>\n",
              "      <td>...</td>\n",
              "      <td>...</td>\n",
              "      <td>...</td>\n",
              "      <td>...</td>\n",
              "      <td>...</td>\n",
              "      <td>...</td>\n",
              "      <td>...</td>\n",
              "      <td>...</td>\n",
              "      <td>...</td>\n",
              "      <td>...</td>\n",
              "    </tr>\n",
              "    <tr>\n",
              "      <th>1113</th>\n",
              "      <td>-229.467114</td>\n",
              "      <td>31.107734</td>\n",
              "      <td>6.983634</td>\n",
              "      <td>11.330755</td>\n",
              "      <td>-7.389324</td>\n",
              "      <td>-15.537270</td>\n",
              "      <td>-17.156863</td>\n",
              "      <td>-14.316045</td>\n",
              "      <td>-8.486195</td>\n",
              "      <td>-4.112575</td>\n",
              "      <td>-11.461081</td>\n",
              "      <td>-1.635118</td>\n",
              "      <td>-8.066796</td>\n",
              "      <td>1</td>\n",
              "    </tr>\n",
              "    <tr>\n",
              "      <th>1114</th>\n",
              "      <td>-312.793549</td>\n",
              "      <td>82.430946</td>\n",
              "      <td>3.129900</td>\n",
              "      <td>14.186769</td>\n",
              "      <td>-18.484079</td>\n",
              "      <td>-25.799473</td>\n",
              "      <td>-17.645624</td>\n",
              "      <td>-17.211958</td>\n",
              "      <td>-12.702026</td>\n",
              "      <td>-4.227543</td>\n",
              "      <td>-22.298204</td>\n",
              "      <td>0.184280</td>\n",
              "      <td>-17.449095</td>\n",
              "      <td>1</td>\n",
              "    </tr>\n",
              "    <tr>\n",
              "      <th>1115</th>\n",
              "      <td>-227.655668</td>\n",
              "      <td>42.641709</td>\n",
              "      <td>11.521477</td>\n",
              "      <td>6.574401</td>\n",
              "      <td>-9.096692</td>\n",
              "      <td>-17.925106</td>\n",
              "      <td>-15.750295</td>\n",
              "      <td>-9.619601</td>\n",
              "      <td>-10.815373</td>\n",
              "      <td>-6.172114</td>\n",
              "      <td>-10.262457</td>\n",
              "      <td>-3.086372</td>\n",
              "      <td>-7.581989</td>\n",
              "      <td>1</td>\n",
              "    </tr>\n",
              "    <tr>\n",
              "      <th>1116</th>\n",
              "      <td>-432.503387</td>\n",
              "      <td>52.231987</td>\n",
              "      <td>24.130854</td>\n",
              "      <td>24.908005</td>\n",
              "      <td>5.230207</td>\n",
              "      <td>10.177417</td>\n",
              "      <td>1.667769</td>\n",
              "      <td>11.312072</td>\n",
              "      <td>14.200116</td>\n",
              "      <td>13.155353</td>\n",
              "      <td>9.546826</td>\n",
              "      <td>18.923155</td>\n",
              "      <td>7.199302</td>\n",
              "      <td>1</td>\n",
              "    </tr>\n",
              "    <tr>\n",
              "      <th>1117</th>\n",
              "      <td>-280.781318</td>\n",
              "      <td>11.631913</td>\n",
              "      <td>10.771608</td>\n",
              "      <td>9.069940</td>\n",
              "      <td>7.039483</td>\n",
              "      <td>5.130541</td>\n",
              "      <td>4.773452</td>\n",
              "      <td>5.997038</td>\n",
              "      <td>7.989094</td>\n",
              "      <td>8.790886</td>\n",
              "      <td>8.977417</td>\n",
              "      <td>9.713269</td>\n",
              "      <td>7.236584</td>\n",
              "      <td>1</td>\n",
              "    </tr>\n",
              "  </tbody>\n",
              "</table>\n",
              "<p>1118 rows × 14 columns</p>\n",
              "</div>\n",
              "    <div class=\"colab-df-buttons\">\n",
              "\n",
              "  <div class=\"colab-df-container\">\n",
              "    <button class=\"colab-df-convert\" onclick=\"convertToInteractive('df-d316e012-67bf-46fd-a6c7-faae7bbf5530')\"\n",
              "            title=\"Convert this dataframe to an interactive table.\"\n",
              "            style=\"display:none;\">\n",
              "\n",
              "  <svg xmlns=\"http://www.w3.org/2000/svg\" height=\"24px\" viewBox=\"0 -960 960 960\">\n",
              "    <path d=\"M120-120v-720h720v720H120Zm60-500h600v-160H180v160Zm220 220h160v-160H400v160Zm0 220h160v-160H400v160ZM180-400h160v-160H180v160Zm440 0h160v-160H620v160ZM180-180h160v-160H180v160Zm440 0h160v-160H620v160Z\"/>\n",
              "  </svg>\n",
              "    </button>\n",
              "\n",
              "  <style>\n",
              "    .colab-df-container {\n",
              "      display:flex;\n",
              "      gap: 12px;\n",
              "    }\n",
              "\n",
              "    .colab-df-convert {\n",
              "      background-color: #E8F0FE;\n",
              "      border: none;\n",
              "      border-radius: 50%;\n",
              "      cursor: pointer;\n",
              "      display: none;\n",
              "      fill: #1967D2;\n",
              "      height: 32px;\n",
              "      padding: 0 0 0 0;\n",
              "      width: 32px;\n",
              "    }\n",
              "\n",
              "    .colab-df-convert:hover {\n",
              "      background-color: #E2EBFA;\n",
              "      box-shadow: 0px 1px 2px rgba(60, 64, 67, 0.3), 0px 1px 3px 1px rgba(60, 64, 67, 0.15);\n",
              "      fill: #174EA6;\n",
              "    }\n",
              "\n",
              "    .colab-df-buttons div {\n",
              "      margin-bottom: 4px;\n",
              "    }\n",
              "\n",
              "    [theme=dark] .colab-df-convert {\n",
              "      background-color: #3B4455;\n",
              "      fill: #D2E3FC;\n",
              "    }\n",
              "\n",
              "    [theme=dark] .colab-df-convert:hover {\n",
              "      background-color: #434B5C;\n",
              "      box-shadow: 0px 1px 3px 1px rgba(0, 0, 0, 0.15);\n",
              "      filter: drop-shadow(0px 1px 2px rgba(0, 0, 0, 0.3));\n",
              "      fill: #FFFFFF;\n",
              "    }\n",
              "  </style>\n",
              "\n",
              "    <script>\n",
              "      const buttonEl =\n",
              "        document.querySelector('#df-d316e012-67bf-46fd-a6c7-faae7bbf5530 button.colab-df-convert');\n",
              "      buttonEl.style.display =\n",
              "        google.colab.kernel.accessAllowed ? 'block' : 'none';\n",
              "\n",
              "      async function convertToInteractive(key) {\n",
              "        const element = document.querySelector('#df-d316e012-67bf-46fd-a6c7-faae7bbf5530');\n",
              "        const dataTable =\n",
              "          await google.colab.kernel.invokeFunction('convertToInteractive',\n",
              "                                                    [key], {});\n",
              "        if (!dataTable) return;\n",
              "\n",
              "        const docLinkHtml = 'Like what you see? Visit the ' +\n",
              "          '<a target=\"_blank\" href=https://colab.research.google.com/notebooks/data_table.ipynb>data table notebook</a>'\n",
              "          + ' to learn more about interactive tables.';\n",
              "        element.innerHTML = '';\n",
              "        dataTable['output_type'] = 'display_data';\n",
              "        await google.colab.output.renderOutput(dataTable, element);\n",
              "        const docLink = document.createElement('div');\n",
              "        docLink.innerHTML = docLinkHtml;\n",
              "        element.appendChild(docLink);\n",
              "      }\n",
              "    </script>\n",
              "  </div>\n",
              "\n",
              "\n",
              "<div id=\"df-90d2a135-05a2-4573-962b-e44428511355\">\n",
              "  <button class=\"colab-df-quickchart\" onclick=\"quickchart('df-90d2a135-05a2-4573-962b-e44428511355')\"\n",
              "            title=\"Suggest charts\"\n",
              "            style=\"display:none;\">\n",
              "\n",
              "<svg xmlns=\"http://www.w3.org/2000/svg\" height=\"24px\"viewBox=\"0 0 24 24\"\n",
              "     width=\"24px\">\n",
              "    <g>\n",
              "        <path d=\"M19 3H5c-1.1 0-2 .9-2 2v14c0 1.1.9 2 2 2h14c1.1 0 2-.9 2-2V5c0-1.1-.9-2-2-2zM9 17H7v-7h2v7zm4 0h-2V7h2v10zm4 0h-2v-4h2v4z\"/>\n",
              "    </g>\n",
              "</svg>\n",
              "  </button>\n",
              "\n",
              "<style>\n",
              "  .colab-df-quickchart {\n",
              "      --bg-color: #E8F0FE;\n",
              "      --fill-color: #1967D2;\n",
              "      --hover-bg-color: #E2EBFA;\n",
              "      --hover-fill-color: #174EA6;\n",
              "      --disabled-fill-color: #AAA;\n",
              "      --disabled-bg-color: #DDD;\n",
              "  }\n",
              "\n",
              "  [theme=dark] .colab-df-quickchart {\n",
              "      --bg-color: #3B4455;\n",
              "      --fill-color: #D2E3FC;\n",
              "      --hover-bg-color: #434B5C;\n",
              "      --hover-fill-color: #FFFFFF;\n",
              "      --disabled-bg-color: #3B4455;\n",
              "      --disabled-fill-color: #666;\n",
              "  }\n",
              "\n",
              "  .colab-df-quickchart {\n",
              "    background-color: var(--bg-color);\n",
              "    border: none;\n",
              "    border-radius: 50%;\n",
              "    cursor: pointer;\n",
              "    display: none;\n",
              "    fill: var(--fill-color);\n",
              "    height: 32px;\n",
              "    padding: 0;\n",
              "    width: 32px;\n",
              "  }\n",
              "\n",
              "  .colab-df-quickchart:hover {\n",
              "    background-color: var(--hover-bg-color);\n",
              "    box-shadow: 0 1px 2px rgba(60, 64, 67, 0.3), 0 1px 3px 1px rgba(60, 64, 67, 0.15);\n",
              "    fill: var(--button-hover-fill-color);\n",
              "  }\n",
              "\n",
              "  .colab-df-quickchart-complete:disabled,\n",
              "  .colab-df-quickchart-complete:disabled:hover {\n",
              "    background-color: var(--disabled-bg-color);\n",
              "    fill: var(--disabled-fill-color);\n",
              "    box-shadow: none;\n",
              "  }\n",
              "\n",
              "  .colab-df-spinner {\n",
              "    border: 2px solid var(--fill-color);\n",
              "    border-color: transparent;\n",
              "    border-bottom-color: var(--fill-color);\n",
              "    animation:\n",
              "      spin 1s steps(1) infinite;\n",
              "  }\n",
              "\n",
              "  @keyframes spin {\n",
              "    0% {\n",
              "      border-color: transparent;\n",
              "      border-bottom-color: var(--fill-color);\n",
              "      border-left-color: var(--fill-color);\n",
              "    }\n",
              "    20% {\n",
              "      border-color: transparent;\n",
              "      border-left-color: var(--fill-color);\n",
              "      border-top-color: var(--fill-color);\n",
              "    }\n",
              "    30% {\n",
              "      border-color: transparent;\n",
              "      border-left-color: var(--fill-color);\n",
              "      border-top-color: var(--fill-color);\n",
              "      border-right-color: var(--fill-color);\n",
              "    }\n",
              "    40% {\n",
              "      border-color: transparent;\n",
              "      border-right-color: var(--fill-color);\n",
              "      border-top-color: var(--fill-color);\n",
              "    }\n",
              "    60% {\n",
              "      border-color: transparent;\n",
              "      border-right-color: var(--fill-color);\n",
              "    }\n",
              "    80% {\n",
              "      border-color: transparent;\n",
              "      border-right-color: var(--fill-color);\n",
              "      border-bottom-color: var(--fill-color);\n",
              "    }\n",
              "    90% {\n",
              "      border-color: transparent;\n",
              "      border-bottom-color: var(--fill-color);\n",
              "    }\n",
              "  }\n",
              "</style>\n",
              "\n",
              "  <script>\n",
              "    async function quickchart(key) {\n",
              "      const quickchartButtonEl =\n",
              "        document.querySelector('#' + key + ' button');\n",
              "      quickchartButtonEl.disabled = true;  // To prevent multiple clicks.\n",
              "      quickchartButtonEl.classList.add('colab-df-spinner');\n",
              "      try {\n",
              "        const charts = await google.colab.kernel.invokeFunction(\n",
              "            'suggestCharts', [key], {});\n",
              "      } catch (error) {\n",
              "        console.error('Error during call to suggestCharts:', error);\n",
              "      }\n",
              "      quickchartButtonEl.classList.remove('colab-df-spinner');\n",
              "      quickchartButtonEl.classList.add('colab-df-quickchart-complete');\n",
              "    }\n",
              "    (() => {\n",
              "      let quickchartButtonEl =\n",
              "        document.querySelector('#df-90d2a135-05a2-4573-962b-e44428511355 button');\n",
              "      quickchartButtonEl.style.display =\n",
              "        google.colab.kernel.accessAllowed ? 'block' : 'none';\n",
              "    })();\n",
              "  </script>\n",
              "</div>\n",
              "\n",
              "  <div id=\"id_1a128f34-d98d-4cd0-8eb0-57def03d2a08\">\n",
              "    <style>\n",
              "      .colab-df-generate {\n",
              "        background-color: #E8F0FE;\n",
              "        border: none;\n",
              "        border-radius: 50%;\n",
              "        cursor: pointer;\n",
              "        display: none;\n",
              "        fill: #1967D2;\n",
              "        height: 32px;\n",
              "        padding: 0 0 0 0;\n",
              "        width: 32px;\n",
              "      }\n",
              "\n",
              "      .colab-df-generate:hover {\n",
              "        background-color: #E2EBFA;\n",
              "        box-shadow: 0px 1px 2px rgba(60, 64, 67, 0.3), 0px 1px 3px 1px rgba(60, 64, 67, 0.15);\n",
              "        fill: #174EA6;\n",
              "      }\n",
              "\n",
              "      [theme=dark] .colab-df-generate {\n",
              "        background-color: #3B4455;\n",
              "        fill: #D2E3FC;\n",
              "      }\n",
              "\n",
              "      [theme=dark] .colab-df-generate:hover {\n",
              "        background-color: #434B5C;\n",
              "        box-shadow: 0px 1px 3px 1px rgba(0, 0, 0, 0.15);\n",
              "        filter: drop-shadow(0px 1px 2px rgba(0, 0, 0, 0.3));\n",
              "        fill: #FFFFFF;\n",
              "      }\n",
              "    </style>\n",
              "    <button class=\"colab-df-generate\" onclick=\"generateWithVariable('df_noise')\"\n",
              "            title=\"Generate code using this dataframe.\"\n",
              "            style=\"display:none;\">\n",
              "\n",
              "  <svg xmlns=\"http://www.w3.org/2000/svg\" height=\"24px\"viewBox=\"0 0 24 24\"\n",
              "       width=\"24px\">\n",
              "    <path d=\"M7,19H8.4L18.45,9,17,7.55,7,17.6ZM5,21V16.75L18.45,3.32a2,2,0,0,1,2.83,0l1.4,1.43a1.91,1.91,0,0,1,.58,1.4,1.91,1.91,0,0,1-.58,1.4L9.25,21ZM18.45,9,17,7.55Zm-12,3A5.31,5.31,0,0,0,4.9,8.1,5.31,5.31,0,0,0,1,6.5,5.31,5.31,0,0,0,4.9,4.9,5.31,5.31,0,0,0,6.5,1,5.31,5.31,0,0,0,8.1,4.9,5.31,5.31,0,0,0,12,6.5,5.46,5.46,0,0,0,6.5,12Z\"/>\n",
              "  </svg>\n",
              "    </button>\n",
              "    <script>\n",
              "      (() => {\n",
              "      const buttonEl =\n",
              "        document.querySelector('#id_1a128f34-d98d-4cd0-8eb0-57def03d2a08 button.colab-df-generate');\n",
              "      buttonEl.style.display =\n",
              "        google.colab.kernel.accessAllowed ? 'block' : 'none';\n",
              "\n",
              "      buttonEl.onclick = () => {\n",
              "        google.colab.notebook.generateWithVariable('df_noise');\n",
              "      }\n",
              "      })();\n",
              "    </script>\n",
              "  </div>\n",
              "\n",
              "    </div>\n",
              "  </div>\n"
            ],
            "application/vnd.google.colaboratory.intrinsic+json": {
              "type": "dataframe",
              "variable_name": "df_noise",
              "summary": "{\n  \"name\": \"df_noise\",\n  \"rows\": 1118,\n  \"fields\": [\n    {\n      \"column\": 0,\n      \"properties\": {\n        \"dtype\": \"number\",\n        \"std\": 67.64687402906243,\n        \"min\": -558.1817016601562,\n        \"max\": -70.22059742941742,\n        \"num_unique_values\": 1118,\n        \"samples\": [\n          -266.94964599609375,\n          -252.56837337009952,\n          -307.13262939453125\n        ],\n        \"semantic_type\": \"\",\n        \"description\": \"\"\n      }\n    },\n    {\n      \"column\": 1,\n      \"properties\": {\n        \"dtype\": \"number\",\n        \"std\": 34.52189539608589,\n        \"min\": -0.4372000543486068,\n        \"max\": 205.62750244140625,\n        \"num_unique_values\": 1118,\n        \"samples\": [\n          130.0872344970703,\n          30.523720425198047,\n          80.1312484741211\n        ],\n        \"semantic_type\": \"\",\n        \"description\": \"\"\n      }\n    },\n    {\n      \"column\": 2,\n      \"properties\": {\n        \"dtype\": \"number\",\n        \"std\": 14.968187230612065,\n        \"min\": -60.62284469604492,\n        \"max\": 49.3531379699707,\n        \"num_unique_values\": 1118,\n        \"samples\": [\n          28.55781364440918,\n          17.275659365556866,\n          -13.983827590942383\n        ],\n        \"semantic_type\": \"\",\n        \"description\": \"\"\n      }\n    },\n    {\n      \"column\": 3,\n      \"properties\": {\n        \"dtype\": \"number\",\n        \"std\": 13.133730723652471,\n        \"min\": -29.8663330078125,\n        \"max\": 63.84720993041992,\n        \"num_unique_values\": 1118,\n        \"samples\": [\n          45.610328674316406,\n          16.858659381031536,\n          22.795984268188477\n        ],\n        \"semantic_type\": \"\",\n        \"description\": \"\"\n      }\n    },\n    {\n      \"column\": 4,\n      \"properties\": {\n        \"dtype\": \"number\",\n        \"std\": 11.231338585842861,\n        \"min\": -41.19926834106445,\n        \"max\": 36.1589241027832,\n        \"num_unique_values\": 1118,\n        \"samples\": [\n          -9.732763290405273,\n          5.5985750832100045,\n          -22.853727340698242\n        ],\n        \"semantic_type\": \"\",\n        \"description\": \"\"\n      }\n    },\n    {\n      \"column\": 5,\n      \"properties\": {\n        \"dtype\": \"number\",\n        \"std\": 12.89868566104116,\n        \"min\": -40.8453254699707,\n        \"max\": 38.709659576416016,\n        \"num_unique_values\": 1118,\n        \"samples\": [\n          9.617497444152832,\n          2.688752251501856,\n          -16.439733505249023\n        ],\n        \"semantic_type\": \"\",\n        \"description\": \"\"\n      }\n    },\n    {\n      \"column\": 6,\n      \"properties\": {\n        \"dtype\": \"number\",\n        \"std\": 9.083851630834989,\n        \"min\": -37.55828094482422,\n        \"max\": 21.747764587402344,\n        \"num_unique_values\": 1118,\n        \"samples\": [\n          -9.376884460449219,\n          1.7780894223993988,\n          -15.124075889587402\n        ],\n        \"semantic_type\": \"\",\n        \"description\": \"\"\n      }\n    },\n    {\n      \"column\": 7,\n      \"properties\": {\n        \"dtype\": \"number\",\n        \"std\": 9.908422841358854,\n        \"min\": -32.98505783081055,\n        \"max\": 28.090473175048828,\n        \"num_unique_values\": 1118,\n        \"samples\": [\n          -2.2623322010040283,\n          -0.4489177751332219,\n          -32.9483642578125\n        ],\n        \"semantic_type\": \"\",\n        \"description\": \"\"\n      }\n    },\n    {\n      \"column\": 8,\n      \"properties\": {\n        \"dtype\": \"number\",\n        \"std\": 7.702793132732776,\n        \"min\": -32.62836456298828,\n        \"max\": 22.207029342651367,\n        \"num_unique_values\": 1118,\n        \"samples\": [\n          -9.358803749084473,\n          -3.8982998451583852,\n          -18.467130661010742\n        ],\n        \"semantic_type\": \"\",\n        \"description\": \"\"\n      }\n    },\n    {\n      \"column\": 9,\n      \"properties\": {\n        \"dtype\": \"number\",\n        \"std\": 6.453338277939304,\n        \"min\": -24.085763931274414,\n        \"max\": 21.142515182495117,\n        \"num_unique_values\": 1118,\n        \"samples\": [\n          1.8508411645889282,\n          -1.714129518152159,\n          -2.739485263824463\n        ],\n        \"semantic_type\": \"\",\n        \"description\": \"\"\n      }\n    },\n    {\n      \"column\": 10,\n      \"properties\": {\n        \"dtype\": \"number\",\n        \"std\": 7.544919380240789,\n        \"min\": -29.801645278930664,\n        \"max\": 14.919790267944336,\n        \"num_unique_values\": 1118,\n        \"samples\": [\n          -1.9942597150802612,\n          -0.8698929774239421,\n          -23.119354248046875\n        ],\n        \"semantic_type\": \"\",\n        \"description\": \"\"\n      }\n    },\n    {\n      \"column\": 11,\n      \"properties\": {\n        \"dtype\": \"number\",\n        \"std\": 5.418810402684321,\n        \"min\": -19.462926864624023,\n        \"max\": 18.923154830932617,\n        \"num_unique_values\": 1118,\n        \"samples\": [\n          3.818005084991455,\n          -1.557210959878625,\n          -5.952442646026611\n        ],\n        \"semantic_type\": \"\",\n        \"description\": \"\"\n      }\n    },\n    {\n      \"column\": 12,\n      \"properties\": {\n        \"dtype\": \"number\",\n        \"std\": 5.970277343806483,\n        \"min\": -24.882259368896484,\n        \"max\": 14.82028579711914,\n        \"num_unique_values\": 1118,\n        \"samples\": [\n          2.559558629989624,\n          -4.6869903475555,\n          -20.161775588989258\n        ],\n        \"semantic_type\": \"\",\n        \"description\": \"\"\n      }\n    },\n    {\n      \"column\": \"label\",\n      \"properties\": {\n        \"dtype\": \"number\",\n        \"std\": 0,\n        \"min\": 0,\n        \"max\": 1,\n        \"num_unique_values\": 2,\n        \"samples\": [\n          1,\n          0\n        ],\n        \"semantic_type\": \"\",\n        \"description\": \"\"\n      }\n    }\n  ]\n}"
            }
          },
          "metadata": {},
          "execution_count": 198
        }
      ],
      "source": [
        "df_noise"
      ]
    },
    {
      "cell_type": "code",
      "execution_count": null,
      "metadata": {
        "colab": {
          "base_uri": "https://localhost:8080/",
          "height": 569
        },
        "id": "bMVCF1yR_yTJ",
        "outputId": "1c0d61b3-f6c6-4d2f-d44b-a182b341b555"
      },
      "outputs": [
        {
          "output_type": "display_data",
          "data": {
            "text/plain": [
              "<Figure size 1000x600 with 1 Axes>"
            ],
            "image/png": "[encoded data removed]"
          },
          "metadata": {}
        }
      ],
      "source": [
        "# Contar as ocorrências de cada label\n",
        "label_counts = [labels_noise.count(0), labels_noise.count(1)]\n",
        "\n",
        "# Plotando o gráfico\n",
        "plt.figure(figsize=(10, 6))  # Ajuste do tamanho do gráfico\n",
        "plt.bar([0, 1], label_counts, tick_label=['Fake', 'Real'], color=['#1f77b4', '#ff7f0e'])\n",
        "\n",
        "# Adicionando rótulos e título\n",
        "plt.xlabel('Tipo dos Áudios')\n",
        "plt.ylabel('Quantidade')\n",
        "plt.title('Balanço de Áudios Reais e Fakes')\n",
        "plt.show()"
      ]
    },
    {
      "cell_type": "code",
      "execution_count": null,
      "metadata": {
        "id": "FstamKLU4n_q"
      },
      "outputs": [],
      "source": [
        "# Separar características (X) e rótulos (y)\n",
        "X = df_noise.drop(columns=['label'])\n",
        "y = df_noise['label']\n",
        "\n",
        "# Dividir em treino e teste\n",
        "X_train, X_test, y_train, y_test = train_test_split(X, y, test_size=0.2, random_state=42)"
      ]
    },
    {
      "cell_type": "code",
      "source": [
        "# Definição do modelo DNN\n",
        "model = tf.keras.Sequential([\n",
        "    tf.keras.layers.Dense(64, activation='relu', input_shape=(X_train.shape[1],)),\n",
        "    tf.keras.layers.Dense(1, activation='sigmoid')\n",
        "])\n",
        "\n",
        "# Compilação e treinamento do modelo\n",
        "model.compile(optimizer='adam', loss='binary_crossentropy', metrics=['accuracy'])\n",
        "model.fit(X_train, y_train, epochs=10, batch_size=32)\n",
        "\n",
        "# Predições e métricas\n",
        "y_pred_proba = model.predict(X_test)  # Predições de probabilidade\n",
        "y_pred = (y_pred_proba > 0.5).astype(int)  # Converter para rótulos binários"
      ],
      "metadata": {
        "colab": {
          "base_uri": "https://localhost:8080/"
        },
        "outputId": "fd1d5b46-d41f-43d2-d539-a74c2863da1e",
        "id": "ECbOqN_158Zo"
      },
      "execution_count": null,
      "outputs": [
        {
          "output_type": "stream",
          "name": "stdout",
          "text": [
            "Epoch 1/10\n"
          ]
        },
        {
          "output_type": "stream",
          "name": "stderr",
          "text": [
            "/usr/local/lib/python3.11/dist-packages/keras/src/layers/core/dense.py:87: UserWarning: Do not pass an `input_shape`/`input_dim` argument to a layer. When using Sequential models, prefer using an `Input(shape)` object as the first layer in the model instead.\n",
            "  super().__init__(activity_regularizer=activity_regularizer, **kwargs)\n"
          ]
        },
        {
          "output_type": "stream",
          "name": "stdout",
          "text": [
            "\u001b[1m28/28\u001b[0m \u001b[32m━━━━━━━━━━━━━━━━━━━━\u001b[0m\u001b[37m\u001b[0m \u001b[1m1s\u001b[0m 1ms/step - accuracy: 0.2232 - loss: 39.2880\n",
            "Epoch 2/10\n",
            "\u001b[1m28/28\u001b[0m \u001b[32m━━━━━━━━━━━━━━━━━━━━\u001b[0m\u001b[37m\u001b[0m \u001b[1m0s\u001b[0m 2ms/step - accuracy: 0.8064 - loss: 4.1290 \n",
            "Epoch 3/10\n",
            "\u001b[1m28/28\u001b[0m \u001b[32m━━━━━━━━━━━━━━━━━━━━\u001b[0m\u001b[37m\u001b[0m \u001b[1m0s\u001b[0m 1ms/step - accuracy: 0.6473 - loss: 1.3338 \n",
            "Epoch 4/10\n",
            "\u001b[1m28/28\u001b[0m \u001b[32m━━━━━━━━━━━━━━━━━━━━\u001b[0m\u001b[37m\u001b[0m \u001b[1m0s\u001b[0m 2ms/step - accuracy: 0.7086 - loss: 0.8702 \n",
            "Epoch 5/10\n",
            "\u001b[1m28/28\u001b[0m \u001b[32m━━━━━━━━━━━━━━━━━━━━\u001b[0m\u001b[37m\u001b[0m \u001b[1m0s\u001b[0m 1ms/step - accuracy: 0.7747 - loss: 0.5728 \n",
            "Epoch 6/10\n",
            "\u001b[1m28/28\u001b[0m \u001b[32m━━━━━━━━━━━━━━━━━━━━\u001b[0m\u001b[37m\u001b[0m \u001b[1m0s\u001b[0m 2ms/step - accuracy: 0.8107 - loss: 0.4735 \n",
            "Epoch 7/10\n",
            "\u001b[1m28/28\u001b[0m \u001b[32m━━━━━━━━━━━━━━━━━━━━\u001b[0m\u001b[37m\u001b[0m \u001b[1m0s\u001b[0m 2ms/step - accuracy: 0.8250 - loss: 0.4709 \n",
            "Epoch 8/10\n",
            "\u001b[1m28/28\u001b[0m \u001b[32m━━━━━━━━━━━━━━━━━━━━\u001b[0m\u001b[37m\u001b[0m \u001b[1m0s\u001b[0m 2ms/step - accuracy: 0.8256 - loss: 0.4391 \n",
            "Epoch 9/10\n",
            "\u001b[1m28/28\u001b[0m \u001b[32m━━━━━━━━━━━━━━━━━━━━\u001b[0m\u001b[37m\u001b[0m \u001b[1m0s\u001b[0m 2ms/step - accuracy: 0.8377 - loss: 0.3997 \n",
            "Epoch 10/10\n",
            "\u001b[1m28/28\u001b[0m \u001b[32m━━━━━━━━━━━━━━━━━━━━\u001b[0m\u001b[37m\u001b[0m \u001b[1m0s\u001b[0m 1ms/step - accuracy: 0.8347 - loss: 0.4134 \n",
            "\u001b[1m7/7\u001b[0m \u001b[32m━━━━━━━━━━━━━━━━━━━━\u001b[0m\u001b[37m\u001b[0m \u001b[1m0s\u001b[0m 2ms/step \n"
          ]
        }
      ]
    },
    {
      "cell_type": "code",
      "source": [
        "# Calculando as métricas de classificação\n",
        "accuracy = accuracy_score(y_test, y_pred)\n",
        "precision = precision_score(y_test, y_pred)\n",
        "recall = recall_score(y_test, y_pred)\n",
        "f1 = f1_score(y_test, y_pred)\n",
        "\n",
        "# Exibindo as métricas\n",
        "print(f\"Acurácia: {accuracy:.2f}\")\n",
        "print(f\"Precisão: {precision:.2f}\")\n",
        "print(f\"Recall: {recall:.2f}\")\n",
        "print(f\"F1-Score: {f1:.2f}\")"
      ],
      "metadata": {
        "colab": {
          "base_uri": "https://localhost:8080/"
        },
        "outputId": "88fda4ec-70d7-49d1-c57d-e8e22b32674d",
        "id": "R6Fa320658Zq"
      },
      "execution_count": null,
      "outputs": [
        {
          "output_type": "stream",
          "name": "stdout",
          "text": [
            "Acurácia: 0.82\n",
            "Precisão: 0.82\n",
            "Recall: 0.98\n",
            "F1-Score: 0.89\n"
          ]
        }
      ]
    },
    {
      "cell_type": "code",
      "execution_count": null,
      "metadata": {
        "id": "PUIPRDaz58Zr"
      },
      "outputs": [],
      "source": [
        "# Treinando um modelo de regressão linear\n",
        "model = RandomForestClassifier()\n",
        "rfc = model.fit(X_train, y_train)\n",
        "\n",
        "# Fazendo previsões no conjunto de teste\n",
        "y_pred = rfc.predict(X_test)"
      ]
    },
    {
      "cell_type": "code",
      "source": [
        "# Calculando as métricas de classificação\n",
        "accuracy = accuracy_score(y_test, y_pred)\n",
        "precision = precision_score(y_test, y_pred)\n",
        "recall = recall_score(y_test, y_pred)\n",
        "f1 = f1_score(y_test, y_pred)\n",
        "\n",
        "# Exibindo as métricas\n",
        "print(f\"Acurácia: {accuracy:.2f}\")\n",
        "print(f\"Precisão: {precision:.2f}\")\n",
        "print(f\"Recall: {recall:.2f}\")\n",
        "print(f\"F1-Score: {f1:.2f}\")"
      ],
      "metadata": {
        "colab": {
          "base_uri": "https://localhost:8080/"
        },
        "outputId": "9813ebb3-3a09-44b6-d541-edd42e8705f9",
        "id": "IiBZknN358Zs"
      },
      "execution_count": null,
      "outputs": [
        {
          "output_type": "stream",
          "name": "stdout",
          "text": [
            "Acurácia: 0.86\n",
            "Precisão: 0.87\n",
            "Recall: 0.97\n",
            "F1-Score: 0.92\n"
          ]
        }
      ]
    },
    {
      "cell_type": "code",
      "source": [
        "# Treinando um modelo knc\n",
        "model = KNeighborsClassifier()\n",
        "knc = model.fit(X_train,y_train)\n",
        "\n",
        "# Fazendo previsões no conjunto de teste\n",
        "y_pred = knc.predict(X_test)"
      ],
      "metadata": {
        "id": "jmymH2x-58Zs"
      },
      "execution_count": null,
      "outputs": []
    },
    {
      "cell_type": "code",
      "source": [
        "# Calculando as métricas de classificação\n",
        "accuracy = accuracy_score(y_test, y_pred)\n",
        "precision = precision_score(y_test, y_pred)\n",
        "recall = recall_score(y_test, y_pred)\n",
        "f1 = f1_score(y_test, y_pred)\n",
        "\n",
        "# Exibindo as métricas\n",
        "print(f\"Acurácia: {accuracy:.2f}\")\n",
        "print(f\"Precisão: {precision:.2f}\")\n",
        "print(f\"Recall: {recall:.2f}\")\n",
        "print(f\"F1-Score: {f1:.2f}\")"
      ],
      "metadata": {
        "colab": {
          "base_uri": "https://localhost:8080/"
        },
        "outputId": "5a233034-fdf9-40b4-e577-570c347e3a83",
        "id": "G8pGP26_58Zt"
      },
      "execution_count": null,
      "outputs": [
        {
          "output_type": "stream",
          "name": "stdout",
          "text": [
            "Acurácia: 0.88\n",
            "Precisão: 0.90\n",
            "Recall: 0.95\n",
            "F1-Score: 0.93\n"
          ]
        }
      ]
    },
    {
      "cell_type": "code",
      "source": [
        "model = XGBClassifier()\n",
        "xgb = model.fit(X_train, y_train)\n",
        "\n",
        "# Fazendo previsões no conjunto de teste\n",
        "y_pred = xgb.predict(X_test)"
      ],
      "metadata": {
        "id": "fO-xjnOB58Zt"
      },
      "execution_count": null,
      "outputs": []
    },
    {
      "cell_type": "code",
      "source": [
        "# Calculando as métricas de classificação\n",
        "accuracy = accuracy_score(y_test, y_pred)\n",
        "precision = precision_score(y_test, y_pred)\n",
        "recall = recall_score(y_test, y_pred)\n",
        "f1 = f1_score(y_test, y_pred)\n",
        "\n",
        "# Exibindo as métricas\n",
        "print(f\"Acurácia: {accuracy:.2f}\")\n",
        "print(f\"Precisão: {precision:.2f}\")\n",
        "print(f\"Recall: {recall:.2f}\")\n",
        "print(f\"F1-Score: {f1:.2f}\")"
      ],
      "metadata": {
        "colab": {
          "base_uri": "https://localhost:8080/"
        },
        "outputId": "f0d2d76c-f01c-4114-fee5-f122c198c9e6",
        "id": "HtJf_aCt58Zu"
      },
      "execution_count": null,
      "outputs": [
        {
          "output_type": "stream",
          "name": "stdout",
          "text": [
            "Acurácia: 0.91\n",
            "Precisão: 0.92\n",
            "Recall: 0.97\n",
            "F1-Score: 0.94\n"
          ]
        }
      ]
    },
    {
      "cell_type": "code",
      "source": [
        "model = LGBMClassifier(n_estimators=100, learning_rate=0.1, num_leaves=31)\n",
        "LGBMC = model.fit(X_train, y_train)\n",
        "\n",
        "y_pred = LGBMC.predict(X_test)"
      ],
      "metadata": {
        "colab": {
          "base_uri": "https://localhost:8080/"
        },
        "outputId": "c8098514-60bd-429a-e014-df1c331f1cd1",
        "id": "MkAZgtlE58Zu"
      },
      "execution_count": null,
      "outputs": [
        {
          "output_type": "stream",
          "name": "stdout",
          "text": [
            "[LightGBM] [Info] Number of positive: 720, number of negative: 174\n",
            "[LightGBM] [Info] Auto-choosing col-wise multi-threading, the overhead of testing was 0.000264 seconds.\n",
            "You can set `force_col_wise=true` to remove the overhead.\n",
            "[LightGBM] [Info] Total Bins 3315\n",
            "[LightGBM] [Info] Number of data points in the train set: 894, number of used features: 13\n",
            "[LightGBM] [Info] [binary:BoostFromScore]: pavg=0.805369 -> initscore=1.420196\n",
            "[LightGBM] [Info] Start training from score 1.420196\n",
            "[LightGBM] [Warning] No further splits with positive gain, best gain: -inf\n",
            "[LightGBM] [Warning] No further splits with positive gain, best gain: -inf\n"
          ]
        }
      ]
    },
    {
      "cell_type": "code",
      "source": [
        "# Calculando as métricas de classificação\n",
        "accuracy = accuracy_score(y_test, y_pred)\n",
        "precision = precision_score(y_test, y_pred)\n",
        "recall = recall_score(y_test, y_pred)\n",
        "f1 = f1_score(y_test, y_pred)\n",
        "\n",
        "# Exibindo as métricas\n",
        "print(f\"Acurácia: {accuracy:.2f}\")\n",
        "print(f\"Precisão: {precision:.2f}\")\n",
        "print(f\"Recall: {recall:.2f}\")\n",
        "print(f\"F1-Score: {f1:.2f}\")"
      ],
      "metadata": {
        "colab": {
          "base_uri": "https://localhost:8080/"
        },
        "outputId": "fb627730-b85c-49c1-cfc0-1359080dd76e",
        "id": "ufp3r-lF58Zv"
      },
      "execution_count": null,
      "outputs": [
        {
          "output_type": "stream",
          "name": "stdout",
          "text": [
            "Acurácia: 0.93\n",
            "Precisão: 0.94\n",
            "Recall: 0.97\n",
            "F1-Score: 0.96\n"
          ]
        }
      ]
    },
    {
      "cell_type": "code",
      "source": [
        "# Definição do modelo\n",
        "input_shape = (X_train.shape[1],)  # Número de colunas do conjunto de treino\n",
        "model = tf.keras.Sequential([\n",
        "    tf.keras.layers.Dense(64, activation='relu', input_shape=input_shape),\n",
        "    tf.keras.layers.Dense(1, activation='sigmoid')\n",
        "])\n",
        "\n",
        "# Compilação e treinamento\n",
        "model.compile(optimizer='adam', loss='binary_crossentropy', metrics=['accuracy'])\n",
        "model.fit(X_train, y_train, epochs=10, batch_size=32)\n",
        "\n",
        "# Predições e métricas\n",
        "y_pred_proba = model.predict(X_test)  # Predições de probabilidade\n",
        "y_pred = (y_pred_proba > 0.5).astype(int)  # Converter para rótulos binários"
      ],
      "metadata": {
        "colab": {
          "base_uri": "https://localhost:8080/"
        },
        "outputId": "71e65f41-f5ff-42e1-9d0a-1e60d9f53ad9",
        "id": "iW2EN1cW58Zv"
      },
      "execution_count": null,
      "outputs": [
        {
          "output_type": "stream",
          "name": "stdout",
          "text": [
            "Epoch 1/10\n"
          ]
        },
        {
          "output_type": "stream",
          "name": "stderr",
          "text": [
            "/usr/local/lib/python3.11/dist-packages/keras/src/layers/core/dense.py:87: UserWarning: Do not pass an `input_shape`/`input_dim` argument to a layer. When using Sequential models, prefer using an `Input(shape)` object as the first layer in the model instead.\n",
            "  super().__init__(activity_regularizer=activity_regularizer, **kwargs)\n"
          ]
        },
        {
          "output_type": "stream",
          "name": "stdout",
          "text": [
            "\u001b[1m28/28\u001b[0m \u001b[32m━━━━━━━━━━━━━━━━━━━━\u001b[0m\u001b[37m\u001b[0m \u001b[1m2s\u001b[0m 3ms/step - accuracy: 0.8217 - loss: 9.3465\n",
            "Epoch 2/10\n",
            "\u001b[1m28/28\u001b[0m \u001b[32m━━━━━━━━━━━━━━━━━━━━\u001b[0m\u001b[37m\u001b[0m \u001b[1m0s\u001b[0m 3ms/step - accuracy: 0.6595 - loss: 1.6980\n",
            "Epoch 3/10\n",
            "\u001b[1m28/28\u001b[0m \u001b[32m━━━━━━━━━━━━━━━━━━━━\u001b[0m\u001b[37m\u001b[0m \u001b[1m0s\u001b[0m 3ms/step - accuracy: 0.7049 - loss: 0.8550\n",
            "Epoch 4/10\n",
            "\u001b[1m28/28\u001b[0m \u001b[32m━━━━━━━━━━━━━━━━━━━━\u001b[0m\u001b[37m\u001b[0m \u001b[1m0s\u001b[0m 3ms/step - accuracy: 0.7877 - loss: 0.5788\n",
            "Epoch 5/10\n",
            "\u001b[1m28/28\u001b[0m \u001b[32m━━━━━━━━━━━━━━━━━━━━\u001b[0m\u001b[37m\u001b[0m \u001b[1m0s\u001b[0m 3ms/step - accuracy: 0.8074 - loss: 0.4914\n",
            "Epoch 6/10\n",
            "\u001b[1m28/28\u001b[0m \u001b[32m━━━━━━━━━━━━━━━━━━━━\u001b[0m\u001b[37m\u001b[0m \u001b[1m0s\u001b[0m 5ms/step - accuracy: 0.8044 - loss: 0.4425\n",
            "Epoch 7/10\n",
            "\u001b[1m28/28\u001b[0m \u001b[32m━━━━━━━━━━━━━━━━━━━━\u001b[0m\u001b[37m\u001b[0m \u001b[1m0s\u001b[0m 2ms/step - accuracy: 0.8467 - loss: 0.3792\n",
            "Epoch 8/10\n",
            "\u001b[1m28/28\u001b[0m \u001b[32m━━━━━━━━━━━━━━━━━━━━\u001b[0m\u001b[37m\u001b[0m \u001b[1m0s\u001b[0m 3ms/step - accuracy: 0.8288 - loss: 0.3937\n",
            "Epoch 9/10\n",
            "\u001b[1m28/28\u001b[0m \u001b[32m━━━━━━━━━━━━━━━━━━━━\u001b[0m\u001b[37m\u001b[0m \u001b[1m0s\u001b[0m 3ms/step - accuracy: 0.8617 - loss: 0.3621\n",
            "Epoch 10/10\n",
            "\u001b[1m28/28\u001b[0m \u001b[32m━━━━━━━━━━━━━━━━━━━━\u001b[0m\u001b[37m\u001b[0m \u001b[1m0s\u001b[0m 3ms/step - accuracy: 0.8632 - loss: 0.3410\n",
            "\u001b[1m7/7\u001b[0m \u001b[32m━━━━━━━━━━━━━━━━━━━━\u001b[0m\u001b[37m\u001b[0m \u001b[1m0s\u001b[0m 3ms/step \n"
          ]
        }
      ]
    },
    {
      "cell_type": "code",
      "source": [
        "# Calculando as métricas de classificação\n",
        "accuracy = accuracy_score(y_test, y_pred)\n",
        "precision = precision_score(y_test, y_pred)\n",
        "recall = recall_score(y_test, y_pred)\n",
        "f1 = f1_score(y_test, y_pred)\n",
        "\n",
        "# Exibindo as métricas\n",
        "print(f\"Acurácia: {accuracy:.2f}\")\n",
        "print(f\"Precisão: {precision:.2f}\")\n",
        "print(f\"Recall: {recall:.2f}\")\n",
        "print(f\"F1-Score: {f1:.2f}\")"
      ],
      "metadata": {
        "colab": {
          "base_uri": "https://localhost:8080/"
        },
        "outputId": "b9a01fbe-f787-4195-bb9b-c039cde00a2d",
        "id": "H19wFfrt58Zw"
      },
      "execution_count": null,
      "outputs": [
        {
          "output_type": "stream",
          "name": "stdout",
          "text": [
            "Acurácia: 0.80\n",
            "Precisão: 0.81\n",
            "Recall: 0.98\n",
            "F1-Score: 0.89\n"
          ]
        }
      ]
    },
    {
      "cell_type": "code",
      "source": [
        "model = DecisionTreeClassifier(criterion='gini', random_state=42)\n",
        "DTC = model.fit(X_train, y_train)\n",
        "\n",
        "y_pred = DTC.predict(X_test)"
      ],
      "metadata": {
        "id": "gskYSM4u58Zx"
      },
      "execution_count": null,
      "outputs": []
    },
    {
      "cell_type": "code",
      "source": [
        "# Calculando as métricas de classificação\n",
        "accuracy = accuracy_score(y_test, y_pred)\n",
        "precision = precision_score(y_test, y_pred)\n",
        "recall = recall_score(y_test, y_pred)\n",
        "f1 = f1_score(y_test, y_pred)\n",
        "\n",
        "# Exibindo as métricas\n",
        "print(f\"Acurácia: {accuracy:.2f}\")\n",
        "print(f\"Precisão: {precision:.2f}\")\n",
        "print(f\"Recall: {recall:.2f}\")\n",
        "print(f\"F1-Score: {f1:.2f}\")"
      ],
      "metadata": {
        "colab": {
          "base_uri": "https://localhost:8080/"
        },
        "outputId": "4db95df2-d0db-4536-a9b8-c562d3501de1",
        "id": "I6I-L2MF58Zx"
      },
      "execution_count": null,
      "outputs": [
        {
          "output_type": "stream",
          "name": "stdout",
          "text": [
            "Acurácia: 0.84\n",
            "Precisão: 0.90\n",
            "Recall: 0.89\n",
            "F1-Score: 0.90\n"
          ]
        }
      ]
    },
    {
      "cell_type": "code",
      "source": [
        "# Definição do modelo Conv1D\n",
        "input_shape = (X_train.shape[1], 1)  # Número de características e 1 canal\n",
        "model = tf.keras.Sequential([\n",
        "    tf.keras.layers.Conv1D(32, kernel_size=3, activation='relu', input_shape=input_shape),\n",
        "    tf.keras.layers.Flatten(),\n",
        "    tf.keras.layers.Dense(1, activation='sigmoid')\n",
        "])\n",
        "\n",
        "# Compilação e treinamento do modelo\n",
        "model.compile(optimizer='adam', loss='binary_crossentropy', metrics=['accuracy'])\n",
        "model.fit(X_train, y_train, epochs=10, batch_size=32)\n",
        "\n",
        "# Predições e métricas\n",
        "y_pred_proba = model.predict(X_test)  # Predições de probabilidade\n",
        "y_pred = (y_pred_proba > 0.5).astype(int)  # Converter para rótulos binários"
      ],
      "metadata": {
        "colab": {
          "base_uri": "https://localhost:8080/"
        },
        "outputId": "4a5b7bdd-ed06-486a-d68e-bdb4c4a2236b",
        "id": "dtWwcWc-58Zy"
      },
      "execution_count": null,
      "outputs": [
        {
          "output_type": "stream",
          "name": "stdout",
          "text": [
            "Epoch 1/10\n"
          ]
        },
        {
          "output_type": "stream",
          "name": "stderr",
          "text": [
            "/usr/local/lib/python3.11/dist-packages/keras/src/layers/convolutional/base_conv.py:107: UserWarning: Do not pass an `input_shape`/`input_dim` argument to a layer. When using Sequential models, prefer using an `Input(shape)` object as the first layer in the model instead.\n",
            "  super().__init__(activity_regularizer=activity_regularizer, **kwargs)\n"
          ]
        },
        {
          "output_type": "stream",
          "name": "stdout",
          "text": [
            "\u001b[1m28/28\u001b[0m \u001b[32m━━━━━━━━━━━━━━━━━━━━\u001b[0m\u001b[37m\u001b[0m \u001b[1m1s\u001b[0m 2ms/step - accuracy: 0.6705 - loss: 2.2509\n",
            "Epoch 2/10\n",
            "\u001b[1m28/28\u001b[0m \u001b[32m━━━━━━━━━━━━━━━━━━━━\u001b[0m\u001b[37m\u001b[0m \u001b[1m0s\u001b[0m 1ms/step - accuracy: 0.7341 - loss: 1.0880 \n",
            "Epoch 3/10\n",
            "\u001b[1m28/28\u001b[0m \u001b[32m━━━━━━━━━━━━━━━━━━━━\u001b[0m\u001b[37m\u001b[0m \u001b[1m0s\u001b[0m 2ms/step - accuracy: 0.7834 - loss: 0.6576 \n",
            "Epoch 4/10\n",
            "\u001b[1m28/28\u001b[0m \u001b[32m━━━━━━━━━━━━━━━━━━━━\u001b[0m\u001b[37m\u001b[0m \u001b[1m0s\u001b[0m 2ms/step - accuracy: 0.8107 - loss: 0.4369 \n",
            "Epoch 5/10\n",
            "\u001b[1m28/28\u001b[0m \u001b[32m━━━━━━━━━━━━━━━━━━━━\u001b[0m\u001b[37m\u001b[0m \u001b[1m0s\u001b[0m 2ms/step - accuracy: 0.8154 - loss: 0.4075 \n",
            "Epoch 6/10\n",
            "\u001b[1m28/28\u001b[0m \u001b[32m━━━━━━━━━━━━━━━━━━━━\u001b[0m\u001b[37m\u001b[0m \u001b[1m0s\u001b[0m 1ms/step - accuracy: 0.8271 - loss: 0.3766 \n",
            "Epoch 7/10\n",
            "\u001b[1m28/28\u001b[0m \u001b[32m━━━━━━━━━━━━━━━━━━━━\u001b[0m\u001b[37m\u001b[0m \u001b[1m0s\u001b[0m 2ms/step - accuracy: 0.8472 - loss: 0.3566  \n",
            "Epoch 8/10\n",
            "\u001b[1m28/28\u001b[0m \u001b[32m━━━━━━━━━━━━━━━━━━━━\u001b[0m\u001b[37m\u001b[0m \u001b[1m0s\u001b[0m 2ms/step - accuracy: 0.8718 - loss: 0.3180 \n",
            "Epoch 9/10\n",
            "\u001b[1m28/28\u001b[0m \u001b[32m━━━━━━━━━━━━━━━━━━━━\u001b[0m\u001b[37m\u001b[0m \u001b[1m0s\u001b[0m 2ms/step - accuracy: 0.8875 - loss: 0.3185\n",
            "Epoch 10/10\n",
            "\u001b[1m28/28\u001b[0m \u001b[32m━━━━━━━━━━━━━━━━━━━━\u001b[0m\u001b[37m\u001b[0m \u001b[1m0s\u001b[0m 2ms/step - accuracy: 0.8771 - loss: 0.3137 \n",
            "\u001b[1m7/7\u001b[0m \u001b[32m━━━━━━━━━━━━━━━━━━━━\u001b[0m\u001b[37m\u001b[0m \u001b[1m0s\u001b[0m 2ms/step \n"
          ]
        }
      ]
    },
    {
      "cell_type": "code",
      "source": [
        "# Calculando as métricas de classificação\n",
        "accuracy = accuracy_score(y_test, y_pred)\n",
        "precision = precision_score(y_test, y_pred)\n",
        "recall = recall_score(y_test, y_pred)\n",
        "f1 = f1_score(y_test, y_pred)\n",
        "\n",
        "# Exibindo as métricas\n",
        "print(f\"Acurácia: {accuracy:.2f}\")\n",
        "print(f\"Precisão: {precision:.2f}\")\n",
        "print(f\"Recall: {recall:.2f}\")\n",
        "print(f\"F1-Score: {f1:.2f}\")"
      ],
      "metadata": {
        "colab": {
          "base_uri": "https://localhost:8080/"
        },
        "outputId": "1b359bea-5fa2-4f13-badf-b49164a8971a",
        "id": "4azv5LFc58Zy"
      },
      "execution_count": null,
      "outputs": [
        {
          "output_type": "stream",
          "name": "stdout",
          "text": [
            "Acurácia: 0.83\n",
            "Precisão: 0.86\n",
            "Recall: 0.94\n",
            "F1-Score: 0.90\n"
          ]
        }
      ]
    },
    {
      "cell_type": "code",
      "execution_count": null,
      "metadata": {
        "id": "KHDgwwXbghup"
      },
      "outputs": [],
      "source": [
        "output_path_balanced = '/content/drive/MyDrive/audios_FOR/amostra_FOR_ruido_balanced'\n",
        "\n",
        "# Criação das pastas de destino se não existirem\n",
        "os.makedirs(os.path.join(output_path_balanced, 'real'), exist_ok=True)\n",
        "os.makedirs(os.path.join(output_path_balanced, 'fake'), exist_ok=True)\n",
        "\n",
        "# Listas para armazenar as características e rótulos com ruído\n",
        "data_noise_balanced = []  # Dados com ruído\n",
        "labels_noise_balanced = []  # Rótulos com ruído\n",
        "\n",
        "# Função para balancear os dados usando replicação simples\n",
        "def balance_data(real_files, fake_files):\n",
        "    \"\"\"Balanceia os dados replicando aleatoriamente as amostras da classe minoritária.\"\"\"\n",
        "    len_real = len(real_files)\n",
        "    len_fake = len(fake_files)\n",
        "\n",
        "    # Verificar qual classe tem menos amostras\n",
        "    if len_real > len_fake:\n",
        "        # Replicar os arquivos 'fake' até igualar o número\n",
        "        fake_files += random.choices(fake_files, k=len_real - len_fake)\n",
        "    elif len_fake > len_real:\n",
        "        # Replicar os arquivos 'real' até igualar o número\n",
        "        real_files += random.choices(real_files, k=len_fake - len_real)\n",
        "\n",
        "    return real_files, fake_files\n",
        "\n",
        "# Obter listas de arquivos reais e fakes\n",
        "real_files = os.listdir(file_path_real)\n",
        "fake_files = os.listdir(file_path_fake)\n",
        "\n",
        "# Balancear os arquivos\n",
        "real_files, fake_files = balance_data(real_files, fake_files)\n",
        "\n",
        "# Processar Fake\n",
        "for file_name in fake_files:\n",
        "    file_path = os.path.join(file_path_fake, file_name)\n",
        "    y, sr = librosa.load(file_path, sr=None)\n",
        "\n",
        "    # Versão original\n",
        "    features = np.mean(librosa.feature.mfcc(y=y, sr=sr, n_mfcc=13).T, axis=0)\n",
        "    data_noise_balanced.append(features)\n",
        "    labels_noise_balanced.append(0)  # Rótulo \"fake\"\n",
        "\n",
        "    # Adicionando ruído\n",
        "    y_noise = add_noise(y)  # Adicionando ruído\n",
        "    features_noise = np.mean(librosa.feature.mfcc(y=y_noise, sr=sr, n_mfcc=13).T, axis=0)\n",
        "    data_noise_balanced.append(features_noise)\n",
        "    labels_noise_balanced.append(0)  # Rótulo \"fake\"\n",
        "\n",
        "    # Salvar áudio original na pasta 'fake'\n",
        "    output_file_path = os.path.join(output_path, 'fake', file_name)\n",
        "    sf.write(output_file_path, y, sr)  # Salvando a versão original\n",
        "\n",
        "    # Salvar áudio com ruído na pasta 'fake' (com sufixo \"_ruido\")\n",
        "    output_file_path_ruido = os.path.join(output_path_balanced, 'fake', file_name.replace('.wav', '_ruido.wav'))\n",
        "    sf.write(output_file_path_ruido, y_noise, sr)  # Salvando a versão com ruído balanceado\n",
        "\n",
        "# Processar Real\n",
        "for file_name in real_files:\n",
        "    file_path = os.path.join(file_path_real, file_name)\n",
        "    y, sr = librosa.load(file_path, sr=None)\n",
        "\n",
        "    # Versão original\n",
        "    features = np.mean(librosa.feature.mfcc(y=y, sr=sr, n_mfcc=13).T, axis=0)\n",
        "    data_noise_balanced.append(features)\n",
        "    labels_noise_balanced.append(1)  # Rótulo \"real\"\n",
        "\n",
        "    # Adicionando ruído\n",
        "    y_noise = add_noise(y)  # Adicionando ruído\n",
        "    features_noise = np.mean(librosa.feature.mfcc(y=y_noise, sr=sr, n_mfcc=13).T, axis=0)\n",
        "    data_noise_balanced.append(features_noise)\n",
        "    labels_noise_balanced.append(1)  # Rótulo \"real\"\n",
        "\n",
        "    # Salvar áudio original na pasta 'real'\n",
        "    output_file_path = os.path.join(output_path, 'real', file_name)\n",
        "    sf.write(output_file_path, y, sr)  # Salvando a versão original\n",
        "\n",
        "    # Salvar áudio com ruído na pasta 'real' (com sufixo \"_ruido\")\n",
        "    output_file_path_ruido = os.path.join(output_path_balanced, 'real', file_name.replace('.wav', '_ruido.wav'))\n",
        "    sf.write(output_file_path_ruido, y_noise, sr)  # Salvando a versão com ruído balanceado"
      ]
    },
    {
      "cell_type": "code",
      "execution_count": null,
      "metadata": {
        "id": "h4FvqhoYgfmX"
      },
      "outputs": [],
      "source": [
        "# Converter para DataFrame\n",
        "df_noise_balanced = pd.DataFrame(data_noise_balanced)\n",
        "df_noise_balanced['label'] = labels_noise_balanced"
      ]
    },
    {
      "cell_type": "code",
      "execution_count": null,
      "metadata": {
        "id": "iYGJBBEUgfmZ",
        "colab": {
          "base_uri": "https://localhost:8080/",
          "height": 444
        },
        "outputId": "952927c8-77b5-481a-fc23-f5539dc5c290"
      },
      "outputs": [
        {
          "output_type": "execute_result",
          "data": {
            "text/plain": [
              "               0           1          2          3          4          5  \\\n",
              "0    -310.484985   79.589180  12.035122  21.775892   7.463613  -4.327323   \n",
              "1    -226.230279   51.245758  18.076954  15.587418   7.817423  -1.736315   \n",
              "2    -292.760193   85.521347 -18.103905  14.233822  -1.934288  -8.300287   \n",
              "3    -209.801008   57.271007  -5.783630   5.993517   0.734956  -7.379201   \n",
              "4    -266.020477  106.608009 -11.326435  17.970966 -11.344944   1.250991   \n",
              "...          ...         ...        ...        ...        ...        ...   \n",
              "1787 -229.994404   30.805363   6.971231  11.794870  -6.811985 -15.166875   \n",
              "1788 -312.793549   82.430946   3.129900  14.186769 -18.484079 -25.799473   \n",
              "1789 -227.619294   42.327820  11.354583   6.251240  -9.517845 -18.449841   \n",
              "1790 -432.503387   52.231987  24.130854  24.908005   5.230207  10.177417   \n",
              "1791 -280.732732   11.730676  10.340460   8.812622   7.243822   5.145257   \n",
              "\n",
              "              6          7          8          9         10         11  \\\n",
              "0      1.702638   5.056441 -11.605008  -8.825641 -12.136454  -8.166679   \n",
              "1      0.046570   2.861965  -9.015771 -10.006898  -8.805674  -7.778575   \n",
              "2    -15.360986 -14.333099  -0.524541 -12.453050  -2.744914 -14.212177   \n",
              "3    -14.861756 -11.294625  -4.934975  -7.535623  -7.869636  -8.242605   \n",
              "4     -5.587977  -6.984388  -5.437147 -10.668830   6.232262 -13.461805   \n",
              "...         ...        ...        ...        ...        ...        ...   \n",
              "1787 -17.540457 -14.625664  -8.848973  -3.793742 -11.095669  -1.735747   \n",
              "1788 -17.645624 -17.211958 -12.702026  -4.227543 -22.298204   0.184280   \n",
              "1789 -15.698469  -9.420115 -10.882242  -6.520479 -10.782418  -3.533291   \n",
              "1790   1.667769  11.312072  14.200116  13.155353   9.546826  18.923155   \n",
              "1791   4.806997   5.985734   7.946565   8.512283   9.122989   9.786597   \n",
              "\n",
              "             12  label  \n",
              "0     -7.886450      0  \n",
              "1     -7.618876      0  \n",
              "2      0.993812      0  \n",
              "3     -3.319850      0  \n",
              "4      6.319636      0  \n",
              "...         ...    ...  \n",
              "1787  -8.533566      1  \n",
              "1788 -17.449095      1  \n",
              "1789  -7.558640      1  \n",
              "1790   7.199302      1  \n",
              "1791   7.494885      1  \n",
              "\n",
              "[1792 rows x 14 columns]"
            ],
            "text/html": [
              "\n",
              "  <div id=\"df-cdbda31b-cf73-4615-b17f-2224a0f42960\" class=\"colab-df-container\">\n",
              "    <div>\n",
              "<style scoped>\n",
              "    .dataframe tbody tr th:only-of-type {\n",
              "        vertical-align: middle;\n",
              "    }\n",
              "\n",
              "    .dataframe tbody tr th {\n",
              "        vertical-align: top;\n",
              "    }\n",
              "\n",
              "    .dataframe thead th {\n",
              "        text-align: right;\n",
              "    }\n",
              "</style>\n",
              "<table border=\"1\" class=\"dataframe\">\n",
              "  <thead>\n",
              "    <tr style=\"text-align: right;\">\n",
              "      <th></th>\n",
              "      <th>0</th>\n",
              "      <th>1</th>\n",
              "      <th>2</th>\n",
              "      <th>3</th>\n",
              "      <th>4</th>\n",
              "      <th>5</th>\n",
              "      <th>6</th>\n",
              "      <th>7</th>\n",
              "      <th>8</th>\n",
              "      <th>9</th>\n",
              "      <th>10</th>\n",
              "      <th>11</th>\n",
              "      <th>12</th>\n",
              "      <th>label</th>\n",
              "    </tr>\n",
              "  </thead>\n",
              "  <tbody>\n",
              "    <tr>\n",
              "      <th>0</th>\n",
              "      <td>-310.484985</td>\n",
              "      <td>79.589180</td>\n",
              "      <td>12.035122</td>\n",
              "      <td>21.775892</td>\n",
              "      <td>7.463613</td>\n",
              "      <td>-4.327323</td>\n",
              "      <td>1.702638</td>\n",
              "      <td>5.056441</td>\n",
              "      <td>-11.605008</td>\n",
              "      <td>-8.825641</td>\n",
              "      <td>-12.136454</td>\n",
              "      <td>-8.166679</td>\n",
              "      <td>-7.886450</td>\n",
              "      <td>0</td>\n",
              "    </tr>\n",
              "    <tr>\n",
              "      <th>1</th>\n",
              "      <td>-226.230279</td>\n",
              "      <td>51.245758</td>\n",
              "      <td>18.076954</td>\n",
              "      <td>15.587418</td>\n",
              "      <td>7.817423</td>\n",
              "      <td>-1.736315</td>\n",
              "      <td>0.046570</td>\n",
              "      <td>2.861965</td>\n",
              "      <td>-9.015771</td>\n",
              "      <td>-10.006898</td>\n",
              "      <td>-8.805674</td>\n",
              "      <td>-7.778575</td>\n",
              "      <td>-7.618876</td>\n",
              "      <td>0</td>\n",
              "    </tr>\n",
              "    <tr>\n",
              "      <th>2</th>\n",
              "      <td>-292.760193</td>\n",
              "      <td>85.521347</td>\n",
              "      <td>-18.103905</td>\n",
              "      <td>14.233822</td>\n",
              "      <td>-1.934288</td>\n",
              "      <td>-8.300287</td>\n",
              "      <td>-15.360986</td>\n",
              "      <td>-14.333099</td>\n",
              "      <td>-0.524541</td>\n",
              "      <td>-12.453050</td>\n",
              "      <td>-2.744914</td>\n",
              "      <td>-14.212177</td>\n",
              "      <td>0.993812</td>\n",
              "      <td>0</td>\n",
              "    </tr>\n",
              "    <tr>\n",
              "      <th>3</th>\n",
              "      <td>-209.801008</td>\n",
              "      <td>57.271007</td>\n",
              "      <td>-5.783630</td>\n",
              "      <td>5.993517</td>\n",
              "      <td>0.734956</td>\n",
              "      <td>-7.379201</td>\n",
              "      <td>-14.861756</td>\n",
              "      <td>-11.294625</td>\n",
              "      <td>-4.934975</td>\n",
              "      <td>-7.535623</td>\n",
              "      <td>-7.869636</td>\n",
              "      <td>-8.242605</td>\n",
              "      <td>-3.319850</td>\n",
              "      <td>0</td>\n",
              "    </tr>\n",
              "    <tr>\n",
              "      <th>4</th>\n",
              "      <td>-266.020477</td>\n",
              "      <td>106.608009</td>\n",
              "      <td>-11.326435</td>\n",
              "      <td>17.970966</td>\n",
              "      <td>-11.344944</td>\n",
              "      <td>1.250991</td>\n",
              "      <td>-5.587977</td>\n",
              "      <td>-6.984388</td>\n",
              "      <td>-5.437147</td>\n",
              "      <td>-10.668830</td>\n",
              "      <td>6.232262</td>\n",
              "      <td>-13.461805</td>\n",
              "      <td>6.319636</td>\n",
              "      <td>0</td>\n",
              "    </tr>\n",
              "    <tr>\n",
              "      <th>...</th>\n",
              "      <td>...</td>\n",
              "      <td>...</td>\n",
              "      <td>...</td>\n",
              "      <td>...</td>\n",
              "      <td>...</td>\n",
              "      <td>...</td>\n",
              "      <td>...</td>\n",
              "      <td>...</td>\n",
              "      <td>...</td>\n",
              "      <td>...</td>\n",
              "      <td>...</td>\n",
              "      <td>...</td>\n",
              "      <td>...</td>\n",
              "      <td>...</td>\n",
              "    </tr>\n",
              "    <tr>\n",
              "      <th>1787</th>\n",
              "      <td>-229.994404</td>\n",
              "      <td>30.805363</td>\n",
              "      <td>6.971231</td>\n",
              "      <td>11.794870</td>\n",
              "      <td>-6.811985</td>\n",
              "      <td>-15.166875</td>\n",
              "      <td>-17.540457</td>\n",
              "      <td>-14.625664</td>\n",
              "      <td>-8.848973</td>\n",
              "      <td>-3.793742</td>\n",
              "      <td>-11.095669</td>\n",
              "      <td>-1.735747</td>\n",
              "      <td>-8.533566</td>\n",
              "      <td>1</td>\n",
              "    </tr>\n",
              "    <tr>\n",
              "      <th>1788</th>\n",
              "      <td>-312.793549</td>\n",
              "      <td>82.430946</td>\n",
              "      <td>3.129900</td>\n",
              "      <td>14.186769</td>\n",
              "      <td>-18.484079</td>\n",
              "      <td>-25.799473</td>\n",
              "      <td>-17.645624</td>\n",
              "      <td>-17.211958</td>\n",
              "      <td>-12.702026</td>\n",
              "      <td>-4.227543</td>\n",
              "      <td>-22.298204</td>\n",
              "      <td>0.184280</td>\n",
              "      <td>-17.449095</td>\n",
              "      <td>1</td>\n",
              "    </tr>\n",
              "    <tr>\n",
              "      <th>1789</th>\n",
              "      <td>-227.619294</td>\n",
              "      <td>42.327820</td>\n",
              "      <td>11.354583</td>\n",
              "      <td>6.251240</td>\n",
              "      <td>-9.517845</td>\n",
              "      <td>-18.449841</td>\n",
              "      <td>-15.698469</td>\n",
              "      <td>-9.420115</td>\n",
              "      <td>-10.882242</td>\n",
              "      <td>-6.520479</td>\n",
              "      <td>-10.782418</td>\n",
              "      <td>-3.533291</td>\n",
              "      <td>-7.558640</td>\n",
              "      <td>1</td>\n",
              "    </tr>\n",
              "    <tr>\n",
              "      <th>1790</th>\n",
              "      <td>-432.503387</td>\n",
              "      <td>52.231987</td>\n",
              "      <td>24.130854</td>\n",
              "      <td>24.908005</td>\n",
              "      <td>5.230207</td>\n",
              "      <td>10.177417</td>\n",
              "      <td>1.667769</td>\n",
              "      <td>11.312072</td>\n",
              "      <td>14.200116</td>\n",
              "      <td>13.155353</td>\n",
              "      <td>9.546826</td>\n",
              "      <td>18.923155</td>\n",
              "      <td>7.199302</td>\n",
              "      <td>1</td>\n",
              "    </tr>\n",
              "    <tr>\n",
              "      <th>1791</th>\n",
              "      <td>-280.732732</td>\n",
              "      <td>11.730676</td>\n",
              "      <td>10.340460</td>\n",
              "      <td>8.812622</td>\n",
              "      <td>7.243822</td>\n",
              "      <td>5.145257</td>\n",
              "      <td>4.806997</td>\n",
              "      <td>5.985734</td>\n",
              "      <td>7.946565</td>\n",
              "      <td>8.512283</td>\n",
              "      <td>9.122989</td>\n",
              "      <td>9.786597</td>\n",
              "      <td>7.494885</td>\n",
              "      <td>1</td>\n",
              "    </tr>\n",
              "  </tbody>\n",
              "</table>\n",
              "<p>1792 rows × 14 columns</p>\n",
              "</div>\n",
              "    <div class=\"colab-df-buttons\">\n",
              "\n",
              "  <div class=\"colab-df-container\">\n",
              "    <button class=\"colab-df-convert\" onclick=\"convertToInteractive('df-cdbda31b-cf73-4615-b17f-2224a0f42960')\"\n",
              "            title=\"Convert this dataframe to an interactive table.\"\n",
              "            style=\"display:none;\">\n",
              "\n",
              "  <svg xmlns=\"http://www.w3.org/2000/svg\" height=\"24px\" viewBox=\"0 -960 960 960\">\n",
              "    <path d=\"M120-120v-720h720v720H120Zm60-500h600v-160H180v160Zm220 220h160v-160H400v160Zm0 220h160v-160H400v160ZM180-400h160v-160H180v160Zm440 0h160v-160H620v160ZM180-180h160v-160H180v160Zm440 0h160v-160H620v160Z\"/>\n",
              "  </svg>\n",
              "    </button>\n",
              "\n",
              "  <style>\n",
              "    .colab-df-container {\n",
              "      display:flex;\n",
              "      gap: 12px;\n",
              "    }\n",
              "\n",
              "    .colab-df-convert {\n",
              "      background-color: #E8F0FE;\n",
              "      border: none;\n",
              "      border-radius: 50%;\n",
              "      cursor: pointer;\n",
              "      display: none;\n",
              "      fill: #1967D2;\n",
              "      height: 32px;\n",
              "      padding: 0 0 0 0;\n",
              "      width: 32px;\n",
              "    }\n",
              "\n",
              "    .colab-df-convert:hover {\n",
              "      background-color: #E2EBFA;\n",
              "      box-shadow: 0px 1px 2px rgba(60, 64, 67, 0.3), 0px 1px 3px 1px rgba(60, 64, 67, 0.15);\n",
              "      fill: #174EA6;\n",
              "    }\n",
              "\n",
              "    .colab-df-buttons div {\n",
              "      margin-bottom: 4px;\n",
              "    }\n",
              "\n",
              "    [theme=dark] .colab-df-convert {\n",
              "      background-color: #3B4455;\n",
              "      fill: #D2E3FC;\n",
              "    }\n",
              "\n",
              "    [theme=dark] .colab-df-convert:hover {\n",
              "      background-color: #434B5C;\n",
              "      box-shadow: 0px 1px 3px 1px rgba(0, 0, 0, 0.15);\n",
              "      filter: drop-shadow(0px 1px 2px rgba(0, 0, 0, 0.3));\n",
              "      fill: #FFFFFF;\n",
              "    }\n",
              "  </style>\n",
              "\n",
              "    <script>\n",
              "      const buttonEl =\n",
              "        document.querySelector('#df-cdbda31b-cf73-4615-b17f-2224a0f42960 button.colab-df-convert');\n",
              "      buttonEl.style.display =\n",
              "        google.colab.kernel.accessAllowed ? 'block' : 'none';\n",
              "\n",
              "      async function convertToInteractive(key) {\n",
              "        const element = document.querySelector('#df-cdbda31b-cf73-4615-b17f-2224a0f42960');\n",
              "        const dataTable =\n",
              "          await google.colab.kernel.invokeFunction('convertToInteractive',\n",
              "                                                    [key], {});\n",
              "        if (!dataTable) return;\n",
              "\n",
              "        const docLinkHtml = 'Like what you see? Visit the ' +\n",
              "          '<a target=\"_blank\" href=https://colab.research.google.com/notebooks/data_table.ipynb>data table notebook</a>'\n",
              "          + ' to learn more about interactive tables.';\n",
              "        element.innerHTML = '';\n",
              "        dataTable['output_type'] = 'display_data';\n",
              "        await google.colab.output.renderOutput(dataTable, element);\n",
              "        const docLink = document.createElement('div');\n",
              "        docLink.innerHTML = docLinkHtml;\n",
              "        element.appendChild(docLink);\n",
              "      }\n",
              "    </script>\n",
              "  </div>\n",
              "\n",
              "\n",
              "<div id=\"df-4643b454-d264-4be6-a772-cf926df4e8ca\">\n",
              "  <button class=\"colab-df-quickchart\" onclick=\"quickchart('df-4643b454-d264-4be6-a772-cf926df4e8ca')\"\n",
              "            title=\"Suggest charts\"\n",
              "            style=\"display:none;\">\n",
              "\n",
              "<svg xmlns=\"http://www.w3.org/2000/svg\" height=\"24px\"viewBox=\"0 0 24 24\"\n",
              "     width=\"24px\">\n",
              "    <g>\n",
              "        <path d=\"M19 3H5c-1.1 0-2 .9-2 2v14c0 1.1.9 2 2 2h14c1.1 0 2-.9 2-2V5c0-1.1-.9-2-2-2zM9 17H7v-7h2v7zm4 0h-2V7h2v10zm4 0h-2v-4h2v4z\"/>\n",
              "    </g>\n",
              "</svg>\n",
              "  </button>\n",
              "\n",
              "<style>\n",
              "  .colab-df-quickchart {\n",
              "      --bg-color: #E8F0FE;\n",
              "      --fill-color: #1967D2;\n",
              "      --hover-bg-color: #E2EBFA;\n",
              "      --hover-fill-color: #174EA6;\n",
              "      --disabled-fill-color: #AAA;\n",
              "      --disabled-bg-color: #DDD;\n",
              "  }\n",
              "\n",
              "  [theme=dark] .colab-df-quickchart {\n",
              "      --bg-color: #3B4455;\n",
              "      --fill-color: #D2E3FC;\n",
              "      --hover-bg-color: #434B5C;\n",
              "      --hover-fill-color: #FFFFFF;\n",
              "      --disabled-bg-color: #3B4455;\n",
              "      --disabled-fill-color: #666;\n",
              "  }\n",
              "\n",
              "  .colab-df-quickchart {\n",
              "    background-color: var(--bg-color);\n",
              "    border: none;\n",
              "    border-radius: 50%;\n",
              "    cursor: pointer;\n",
              "    display: none;\n",
              "    fill: var(--fill-color);\n",
              "    height: 32px;\n",
              "    padding: 0;\n",
              "    width: 32px;\n",
              "  }\n",
              "\n",
              "  .colab-df-quickchart:hover {\n",
              "    background-color: var(--hover-bg-color);\n",
              "    box-shadow: 0 1px 2px rgba(60, 64, 67, 0.3), 0 1px 3px 1px rgba(60, 64, 67, 0.15);\n",
              "    fill: var(--button-hover-fill-color);\n",
              "  }\n",
              "\n",
              "  .colab-df-quickchart-complete:disabled,\n",
              "  .colab-df-quickchart-complete:disabled:hover {\n",
              "    background-color: var(--disabled-bg-color);\n",
              "    fill: var(--disabled-fill-color);\n",
              "    box-shadow: none;\n",
              "  }\n",
              "\n",
              "  .colab-df-spinner {\n",
              "    border: 2px solid var(--fill-color);\n",
              "    border-color: transparent;\n",
              "    border-bottom-color: var(--fill-color);\n",
              "    animation:\n",
              "      spin 1s steps(1) infinite;\n",
              "  }\n",
              "\n",
              "  @keyframes spin {\n",
              "    0% {\n",
              "      border-color: transparent;\n",
              "      border-bottom-color: var(--fill-color);\n",
              "      border-left-color: var(--fill-color);\n",
              "    }\n",
              "    20% {\n",
              "      border-color: transparent;\n",
              "      border-left-color: var(--fill-color);\n",
              "      border-top-color: var(--fill-color);\n",
              "    }\n",
              "    30% {\n",
              "      border-color: transparent;\n",
              "      border-left-color: var(--fill-color);\n",
              "      border-top-color: var(--fill-color);\n",
              "      border-right-color: var(--fill-color);\n",
              "    }\n",
              "    40% {\n",
              "      border-color: transparent;\n",
              "      border-right-color: var(--fill-color);\n",
              "      border-top-color: var(--fill-color);\n",
              "    }\n",
              "    60% {\n",
              "      border-color: transparent;\n",
              "      border-right-color: var(--fill-color);\n",
              "    }\n",
              "    80% {\n",
              "      border-color: transparent;\n",
              "      border-right-color: var(--fill-color);\n",
              "      border-bottom-color: var(--fill-color);\n",
              "    }\n",
              "    90% {\n",
              "      border-color: transparent;\n",
              "      border-bottom-color: var(--fill-color);\n",
              "    }\n",
              "  }\n",
              "</style>\n",
              "\n",
              "  <script>\n",
              "    async function quickchart(key) {\n",
              "      const quickchartButtonEl =\n",
              "        document.querySelector('#' + key + ' button');\n",
              "      quickchartButtonEl.disabled = true;  // To prevent multiple clicks.\n",
              "      quickchartButtonEl.classList.add('colab-df-spinner');\n",
              "      try {\n",
              "        const charts = await google.colab.kernel.invokeFunction(\n",
              "            'suggestCharts', [key], {});\n",
              "      } catch (error) {\n",
              "        console.error('Error during call to suggestCharts:', error);\n",
              "      }\n",
              "      quickchartButtonEl.classList.remove('colab-df-spinner');\n",
              "      quickchartButtonEl.classList.add('colab-df-quickchart-complete');\n",
              "    }\n",
              "    (() => {\n",
              "      let quickchartButtonEl =\n",
              "        document.querySelector('#df-4643b454-d264-4be6-a772-cf926df4e8ca button');\n",
              "      quickchartButtonEl.style.display =\n",
              "        google.colab.kernel.accessAllowed ? 'block' : 'none';\n",
              "    })();\n",
              "  </script>\n",
              "</div>\n",
              "\n",
              "  <div id=\"id_6b78b85b-0c20-4e3b-9bb9-977a98f0c6c3\">\n",
              "    <style>\n",
              "      .colab-df-generate {\n",
              "        background-color: #E8F0FE;\n",
              "        border: none;\n",
              "        border-radius: 50%;\n",
              "        cursor: pointer;\n",
              "        display: none;\n",
              "        fill: #1967D2;\n",
              "        height: 32px;\n",
              "        padding: 0 0 0 0;\n",
              "        width: 32px;\n",
              "      }\n",
              "\n",
              "      .colab-df-generate:hover {\n",
              "        background-color: #E2EBFA;\n",
              "        box-shadow: 0px 1px 2px rgba(60, 64, 67, 0.3), 0px 1px 3px 1px rgba(60, 64, 67, 0.15);\n",
              "        fill: #174EA6;\n",
              "      }\n",
              "\n",
              "      [theme=dark] .colab-df-generate {\n",
              "        background-color: #3B4455;\n",
              "        fill: #D2E3FC;\n",
              "      }\n",
              "\n",
              "      [theme=dark] .colab-df-generate:hover {\n",
              "        background-color: #434B5C;\n",
              "        box-shadow: 0px 1px 3px 1px rgba(0, 0, 0, 0.15);\n",
              "        filter: drop-shadow(0px 1px 2px rgba(0, 0, 0, 0.3));\n",
              "        fill: #FFFFFF;\n",
              "      }\n",
              "    </style>\n",
              "    <button class=\"colab-df-generate\" onclick=\"generateWithVariable('df_noise_balanced')\"\n",
              "            title=\"Generate code using this dataframe.\"\n",
              "            style=\"display:none;\">\n",
              "\n",
              "  <svg xmlns=\"http://www.w3.org/2000/svg\" height=\"24px\"viewBox=\"0 0 24 24\"\n",
              "       width=\"24px\">\n",
              "    <path d=\"M7,19H8.4L18.45,9,17,7.55,7,17.6ZM5,21V16.75L18.45,3.32a2,2,0,0,1,2.83,0l1.4,1.43a1.91,1.91,0,0,1,.58,1.4,1.91,1.91,0,0,1-.58,1.4L9.25,21ZM18.45,9,17,7.55Zm-12,3A5.31,5.31,0,0,0,4.9,8.1,5.31,5.31,0,0,0,1,6.5,5.31,5.31,0,0,0,4.9,4.9,5.31,5.31,0,0,0,6.5,1,5.31,5.31,0,0,0,8.1,4.9,5.31,5.31,0,0,0,12,6.5,5.46,5.46,0,0,0,6.5,12Z\"/>\n",
              "  </svg>\n",
              "    </button>\n",
              "    <script>\n",
              "      (() => {\n",
              "      const buttonEl =\n",
              "        document.querySelector('#id_6b78b85b-0c20-4e3b-9bb9-977a98f0c6c3 button.colab-df-generate');\n",
              "      buttonEl.style.display =\n",
              "        google.colab.kernel.accessAllowed ? 'block' : 'none';\n",
              "\n",
              "      buttonEl.onclick = () => {\n",
              "        google.colab.notebook.generateWithVariable('df_noise_balanced');\n",
              "      }\n",
              "      })();\n",
              "    </script>\n",
              "  </div>\n",
              "\n",
              "    </div>\n",
              "  </div>\n"
            ],
            "application/vnd.google.colaboratory.intrinsic+json": {
              "type": "dataframe",
              "variable_name": "df_noise_balanced",
              "summary": "{\n  \"name\": \"df_noise_balanced\",\n  \"rows\": 1792,\n  \"fields\": [\n    {\n      \"column\": 0,\n      \"properties\": {\n        \"dtype\": \"number\",\n        \"std\": 66.99119079412627,\n        \"min\": -558.1817016601562,\n        \"max\": -70.18999913286581,\n        \"num_unique_values\": 1455,\n        \"samples\": [\n          -185.956731957716,\n          -295.8684997558594,\n          -206.39840940052125\n        ],\n        \"semantic_type\": \"\",\n        \"description\": \"\"\n      }\n    },\n    {\n      \"column\": 1,\n      \"properties\": {\n        \"dtype\": \"number\",\n        \"std\": 33.45669383282672,\n        \"min\": 0.41801389721397464,\n        \"max\": 205.62750244140625,\n        \"num_unique_values\": 1455,\n        \"samples\": [\n          84.31266018854976,\n          75.18844604492188,\n          81.85116924118756\n        ],\n        \"semantic_type\": \"\",\n        \"description\": \"\"\n      }\n    },\n    {\n      \"column\": 2,\n      \"properties\": {\n        \"dtype\": \"number\",\n        \"std\": 14.220179555144114,\n        \"min\": -60.62284469604492,\n        \"max\": 49.3531379699707,\n        \"num_unique_values\": 1455,\n        \"samples\": [\n          3.819074366658537,\n          0.6698737740516663,\n          8.255330259310771\n        ],\n        \"semantic_type\": \"\",\n        \"description\": \"\"\n      }\n    },\n    {\n      \"column\": 3,\n      \"properties\": {\n        \"dtype\": \"number\",\n        \"std\": 12.771354000474183,\n        \"min\": -29.8663330078125,\n        \"max\": 63.84720993041992,\n        \"num_unique_values\": 1455,\n        \"samples\": [\n          1.5847585193273106,\n          4.896746635437012,\n          -4.60195854412509\n        ],\n        \"semantic_type\": \"\",\n        \"description\": \"\"\n      }\n    },\n    {\n      \"column\": 4,\n      \"properties\": {\n        \"dtype\": \"number\",\n        \"std\": 11.201758997857738,\n        \"min\": -41.19926834106445,\n        \"max\": 36.1589241027832,\n        \"num_unique_values\": 1455,\n        \"samples\": [\n          -3.507936815915468,\n          -21.198408126831055,\n          -9.670864134729722\n        ],\n        \"semantic_type\": \"\",\n        \"description\": \"\"\n      }\n    },\n    {\n      \"column\": 5,\n      \"properties\": {\n        \"dtype\": \"number\",\n        \"std\": 11.521531344886391,\n        \"min\": -40.8453254699707,\n        \"max\": 38.709659576416016,\n        \"num_unique_values\": 1455,\n        \"samples\": [\n          -4.519932534260145,\n          -16.19512939453125,\n          -4.4639342328236635\n        ],\n        \"semantic_type\": \"\",\n        \"description\": \"\"\n      }\n    },\n    {\n      \"column\": 6,\n      \"properties\": {\n        \"dtype\": \"number\",\n        \"std\": 8.54544685591417,\n        \"min\": -37.55828094482422,\n        \"max\": 21.747764587402344,\n        \"num_unique_values\": 1455,\n        \"samples\": [\n          -7.569093124989719,\n          -19.830312728881836,\n          4.042430516723188\n        ],\n        \"semantic_type\": \"\",\n        \"description\": \"\"\n      }\n    },\n    {\n      \"column\": 7,\n      \"properties\": {\n        \"dtype\": \"number\",\n        \"std\": 9.208287778461361,\n        \"min\": -32.98505783081055,\n        \"max\": 28.090473175048828,\n        \"num_unique_values\": 1455,\n        \"samples\": [\n          -8.316112176717864,\n          -21.58526611328125,\n          -1.8862826395610766\n        ],\n        \"semantic_type\": \"\",\n        \"description\": \"\"\n      }\n    },\n    {\n      \"column\": 8,\n      \"properties\": {\n        \"dtype\": \"number\",\n        \"std\": 7.010724405288009,\n        \"min\": -32.62836456298828,\n        \"max\": 22.207029342651367,\n        \"num_unique_values\": 1455,\n        \"samples\": [\n          -8.857718214590383,\n          -11.21667766571045,\n          -8.852879588419551\n        ],\n        \"semantic_type\": \"\",\n        \"description\": \"\"\n      }\n    },\n    {\n      \"column\": 9,\n      \"properties\": {\n        \"dtype\": \"number\",\n        \"std\": 6.215432733370208,\n        \"min\": -24.085763931274414,\n        \"max\": 21.142515182495117,\n        \"num_unique_values\": 1455,\n        \"samples\": [\n          -5.622893220634158,\n          8.001025199890137,\n          -9.020788662467544\n        ],\n        \"semantic_type\": \"\",\n        \"description\": \"\"\n      }\n    },\n    {\n      \"column\": 10,\n      \"properties\": {\n        \"dtype\": \"number\",\n        \"std\": 6.898532158131941,\n        \"min\": -29.801645278930664,\n        \"max\": 14.919790267944336,\n        \"num_unique_values\": 1455,\n        \"samples\": [\n          -2.3149758578138715,\n          -21.533273696899414,\n          -7.882010544234166\n        ],\n        \"semantic_type\": \"\",\n        \"description\": \"\"\n      }\n    },\n    {\n      \"column\": 11,\n      \"properties\": {\n        \"dtype\": \"number\",\n        \"std\": 5.440671973012675,\n        \"min\": -19.462926864624023,\n        \"max\": 18.923154830932617,\n        \"num_unique_values\": 1455,\n        \"samples\": [\n          -6.695535879734443,\n          -9.765265464782715,\n          -9.972412366666346\n        ],\n        \"semantic_type\": \"\",\n        \"description\": \"\"\n      }\n    },\n    {\n      \"column\": 12,\n      \"properties\": {\n        \"dtype\": \"number\",\n        \"std\": 5.547445686709592,\n        \"min\": -24.882259368896484,\n        \"max\": 14.82028579711914,\n        \"num_unique_values\": 1455,\n        \"samples\": [\n          -1.8365650282590988,\n          -6.331514358520508,\n          -3.3142509798947994\n        ],\n        \"semantic_type\": \"\",\n        \"description\": \"\"\n      }\n    },\n    {\n      \"column\": \"label\",\n      \"properties\": {\n        \"dtype\": \"number\",\n        \"std\": 0,\n        \"min\": 0,\n        \"max\": 1,\n        \"num_unique_values\": 2,\n        \"samples\": [\n          1,\n          0\n        ],\n        \"semantic_type\": \"\",\n        \"description\": \"\"\n      }\n    }\n  ]\n}"
            }
          },
          "metadata": {},
          "execution_count": 219
        }
      ],
      "source": [
        "df_noise_balanced"
      ]
    },
    {
      "cell_type": "code",
      "execution_count": null,
      "metadata": {
        "id": "ZCAazDOGgfma",
        "colab": {
          "base_uri": "https://localhost:8080/",
          "height": 569
        },
        "outputId": "d8949367-34eb-48b9-8072-40cb3ad257ae"
      },
      "outputs": [
        {
          "output_type": "display_data",
          "data": {
            "text/plain": [
              "<Figure size 1000x600 with 1 Axes>"
            ],
            "image/png": "[encoded data removed]"
          },
          "metadata": {}
        }
      ],
      "source": [
        "# Contar as ocorrências de cada label\n",
        "label_counts = [labels_noise_balanced.count(0), labels_noise_balanced.count(1)]\n",
        "\n",
        "# Plotando o gráfico\n",
        "plt.figure(figsize=(10, 6))  # Ajuste do tamanho do gráfico\n",
        "plt.bar([0, 1], label_counts, tick_label=['Fake', 'Real'], color=['#1f77b4', '#ff7f0e'])\n",
        "\n",
        "# Adicionando rótulos e título\n",
        "plt.xlabel('Tipo dos Áudios')\n",
        "plt.ylabel('Quantidade')\n",
        "plt.title('Balanço de Áudios Reais e Fakes')\n",
        "plt.show()"
      ]
    },
    {
      "cell_type": "code",
      "execution_count": null,
      "metadata": {
        "id": "5pUFnFxlgfmb"
      },
      "outputs": [],
      "source": [
        "# Separar características (X) e rótulos (y)\n",
        "X = df_noise_balanced.drop(columns=['label'])\n",
        "y = df_noise_balanced['label']\n",
        "\n",
        "# Dividir em treino e teste\n",
        "X_train, X_test, y_train, y_test = train_test_split(X, y, test_size=0.2, random_state=42)"
      ]
    },
    {
      "cell_type": "code",
      "source": [
        "# Definição do modelo DNN\n",
        "model = tf.keras.Sequential([\n",
        "    tf.keras.layers.Dense(64, activation='relu', input_shape=(X_train.shape[1],)),\n",
        "    tf.keras.layers.Dense(1, activation='sigmoid')\n",
        "])\n",
        "\n",
        "# Compilação e treinamento do modelo\n",
        "model.compile(optimizer='adam', loss='binary_crossentropy', metrics=['accuracy'])\n",
        "model.fit(X_train, y_train, epochs=10, batch_size=32)\n",
        "\n",
        "# Predições e métricas\n",
        "y_pred_proba = model.predict(X_test)  # Predições de probabilidade\n",
        "y_pred = (y_pred_proba > 0.5).astype(int)  # Converter para rótulos binários"
      ],
      "metadata": {
        "colab": {
          "base_uri": "https://localhost:8080/"
        },
        "outputId": "ed93f082-5a2e-433d-dcb3-c304ca934931",
        "id": "4ShDFMUp6Txl"
      },
      "execution_count": null,
      "outputs": [
        {
          "output_type": "stream",
          "name": "stdout",
          "text": [
            "Epoch 1/10\n"
          ]
        },
        {
          "output_type": "stream",
          "name": "stderr",
          "text": [
            "/usr/local/lib/python3.11/dist-packages/keras/src/layers/core/dense.py:87: UserWarning: Do not pass an `input_shape`/`input_dim` argument to a layer. When using Sequential models, prefer using an `Input(shape)` object as the first layer in the model instead.\n",
            "  super().__init__(activity_regularizer=activity_regularizer, **kwargs)\n"
          ]
        },
        {
          "output_type": "stream",
          "name": "stdout",
          "text": [
            "\u001b[1m45/45\u001b[0m \u001b[32m━━━━━━━━━━━━━━━━━━━━\u001b[0m\u001b[37m\u001b[0m \u001b[1m1s\u001b[0m 2ms/step - accuracy: 0.5342 - loss: 4.1815\n",
            "Epoch 2/10\n",
            "\u001b[1m45/45\u001b[0m \u001b[32m━━━━━━━━━━━━━━━━━━━━\u001b[0m\u001b[37m\u001b[0m \u001b[1m0s\u001b[0m 2ms/step - accuracy: 0.6905 - loss: 0.8295\n",
            "Epoch 3/10\n",
            "\u001b[1m45/45\u001b[0m \u001b[32m━━━━━━━━━━━━━━━━━━━━\u001b[0m\u001b[37m\u001b[0m \u001b[1m0s\u001b[0m 1ms/step - accuracy: 0.7541 - loss: 0.5922\n",
            "Epoch 4/10\n",
            "\u001b[1m45/45\u001b[0m \u001b[32m━━━━━━━━━━━━━━━━━━━━\u001b[0m\u001b[37m\u001b[0m \u001b[1m0s\u001b[0m 2ms/step - accuracy: 0.7545 - loss: 0.5373\n",
            "Epoch 5/10\n",
            "\u001b[1m45/45\u001b[0m \u001b[32m━━━━━━━━━━━━━━━━━━━━\u001b[0m\u001b[37m\u001b[0m \u001b[1m0s\u001b[0m 2ms/step - accuracy: 0.7930 - loss: 0.4624\n",
            "Epoch 6/10\n",
            "\u001b[1m45/45\u001b[0m \u001b[32m━━━━━━━━━━━━━━━━━━━━\u001b[0m\u001b[37m\u001b[0m \u001b[1m0s\u001b[0m 2ms/step - accuracy: 0.7667 - loss: 0.5051\n",
            "Epoch 7/10\n",
            "\u001b[1m45/45\u001b[0m \u001b[32m━━━━━━━━━━━━━━━━━━━━\u001b[0m\u001b[37m\u001b[0m \u001b[1m0s\u001b[0m 1ms/step - accuracy: 0.7997 - loss: 0.4486\n",
            "Epoch 8/10\n",
            "\u001b[1m45/45\u001b[0m \u001b[32m━━━━━━━━━━━━━━━━━━━━\u001b[0m\u001b[37m\u001b[0m \u001b[1m0s\u001b[0m 2ms/step - accuracy: 0.8148 - loss: 0.4126\n",
            "Epoch 9/10\n",
            "\u001b[1m45/45\u001b[0m \u001b[32m━━━━━━━━━━━━━━━━━━━━\u001b[0m\u001b[37m\u001b[0m \u001b[1m0s\u001b[0m 2ms/step - accuracy: 0.8038 - loss: 0.4080\n",
            "Epoch 10/10\n",
            "\u001b[1m45/45\u001b[0m \u001b[32m━━━━━━━━━━━━━━━━━━━━\u001b[0m\u001b[37m\u001b[0m \u001b[1m0s\u001b[0m 2ms/step - accuracy: 0.7901 - loss: 0.4488\n",
            "\u001b[1m12/12\u001b[0m \u001b[32m━━━━━━━━━━━━━━━━━━━━\u001b[0m\u001b[37m\u001b[0m \u001b[1m0s\u001b[0m 4ms/step \n"
          ]
        }
      ]
    },
    {
      "cell_type": "code",
      "source": [
        "# Calculando as métricas de classificação\n",
        "accuracy = accuracy_score(y_test, y_pred)\n",
        "precision = precision_score(y_test, y_pred)\n",
        "recall = recall_score(y_test, y_pred)\n",
        "f1 = f1_score(y_test, y_pred)\n",
        "\n",
        "# Exibindo as métricas\n",
        "print(f\"Acurácia: {accuracy:.2f}\")\n",
        "print(f\"Precisão: {precision:.2f}\")\n",
        "print(f\"Recall: {recall:.2f}\")\n",
        "print(f\"F1-Score: {f1:.2f}\")"
      ],
      "metadata": {
        "colab": {
          "base_uri": "https://localhost:8080/"
        },
        "outputId": "b7457c22-e4d4-4f2b-a294-720ad63d1e49",
        "id": "WyIpkdKa6Txo"
      },
      "execution_count": null,
      "outputs": [
        {
          "output_type": "stream",
          "name": "stdout",
          "text": [
            "Acurácia: 0.84\n",
            "Precisão: 0.90\n",
            "Recall: 0.77\n",
            "F1-Score: 0.83\n"
          ]
        }
      ]
    },
    {
      "cell_type": "code",
      "execution_count": null,
      "metadata": {
        "id": "PFIlVPij6Txq"
      },
      "outputs": [],
      "source": [
        "# Treinando um modelo de regressão linear\n",
        "model = RandomForestClassifier()\n",
        "rfc = model.fit(X_train, y_train)\n",
        "\n",
        "# Fazendo previsões no conjunto de teste\n",
        "y_pred = rfc.predict(X_test)"
      ]
    },
    {
      "cell_type": "code",
      "source": [
        "# Calculando as métricas de classificação\n",
        "accuracy = accuracy_score(y_test, y_pred)\n",
        "precision = precision_score(y_test, y_pred)\n",
        "recall = recall_score(y_test, y_pred)\n",
        "f1 = f1_score(y_test, y_pred)\n",
        "\n",
        "# Exibindo as métricas\n",
        "print(f\"Acurácia: {accuracy:.2f}\")\n",
        "print(f\"Precisão: {precision:.2f}\")\n",
        "print(f\"Recall: {recall:.2f}\")\n",
        "print(f\"F1-Score: {f1:.2f}\")"
      ],
      "metadata": {
        "id": "I-ytElS56Txr",
        "colab": {
          "base_uri": "https://localhost:8080/"
        },
        "outputId": "8699c279-b699-423a-beb3-9f5498939896"
      },
      "execution_count": null,
      "outputs": [
        {
          "output_type": "stream",
          "name": "stdout",
          "text": [
            "Acurácia: 0.98\n",
            "Precisão: 0.99\n",
            "Recall: 0.96\n",
            "F1-Score: 0.98\n"
          ]
        }
      ]
    },
    {
      "cell_type": "code",
      "source": [
        "# Treinando um modelo knc\n",
        "model = KNeighborsClassifier()\n",
        "knc = model.fit(X_train,y_train)\n",
        "\n",
        "# Fazendo previsões no conjunto de teste\n",
        "y_pred = knc.predict(X_test)"
      ],
      "metadata": {
        "id": "r0jbj9rI6Txs"
      },
      "execution_count": null,
      "outputs": []
    },
    {
      "cell_type": "code",
      "source": [
        "# Calculando as métricas de classificação\n",
        "accuracy = accuracy_score(y_test, y_pred)\n",
        "precision = precision_score(y_test, y_pred)\n",
        "recall = recall_score(y_test, y_pred)\n",
        "f1 = f1_score(y_test, y_pred)\n",
        "\n",
        "# Exibindo as métricas\n",
        "print(f\"Acurácia: {accuracy:.2f}\")\n",
        "print(f\"Precisão: {precision:.2f}\")\n",
        "print(f\"Recall: {recall:.2f}\")\n",
        "print(f\"F1-Score: {f1:.2f}\")"
      ],
      "metadata": {
        "id": "LjyJ0yXX6Txt",
        "colab": {
          "base_uri": "https://localhost:8080/"
        },
        "outputId": "35499dd9-2d18-4b07-ae85-e4bdd04f3968"
      },
      "execution_count": null,
      "outputs": [
        {
          "output_type": "stream",
          "name": "stdout",
          "text": [
            "Acurácia: 0.93\n",
            "Precisão: 0.98\n",
            "Recall: 0.88\n",
            "F1-Score: 0.93\n"
          ]
        }
      ]
    },
    {
      "cell_type": "code",
      "source": [
        "model = XGBClassifier()\n",
        "xgb = model.fit(X_train, y_train)\n",
        "\n",
        "# Fazendo previsões no conjunto de teste\n",
        "y_pred = xgb.predict(X_test)"
      ],
      "metadata": {
        "id": "Bh2v_XXz6Txu"
      },
      "execution_count": null,
      "outputs": []
    },
    {
      "cell_type": "code",
      "source": [
        "# Calculando as métricas de classificação\n",
        "accuracy = accuracy_score(y_test, y_pred)\n",
        "precision = precision_score(y_test, y_pred)\n",
        "recall = recall_score(y_test, y_pred)\n",
        "f1 = f1_score(y_test, y_pred)\n",
        "\n",
        "# Exibindo as métricas\n",
        "print(f\"Acurácia: {accuracy:.2f}\")\n",
        "print(f\"Precisão: {precision:.2f}\")\n",
        "print(f\"Recall: {recall:.2f}\")\n",
        "print(f\"F1-Score: {f1:.2f}\")"
      ],
      "metadata": {
        "id": "IG3QhIWo6Txu",
        "colab": {
          "base_uri": "https://localhost:8080/"
        },
        "outputId": "6f046330-f370-4e15-d08f-881edc526d3f"
      },
      "execution_count": null,
      "outputs": [
        {
          "output_type": "stream",
          "name": "stdout",
          "text": [
            "Acurácia: 0.97\n",
            "Precisão: 0.99\n",
            "Recall: 0.96\n",
            "F1-Score: 0.97\n"
          ]
        }
      ]
    },
    {
      "cell_type": "code",
      "source": [
        "model = LGBMClassifier(n_estimators=100, learning_rate=0.1, num_leaves=31)\n",
        "LGBMC = model.fit(X_train, y_train)\n",
        "\n",
        "y_pred = LGBMC.predict(X_test)"
      ],
      "metadata": {
        "id": "ZRkD0bA_6Txv",
        "colab": {
          "base_uri": "https://localhost:8080/"
        },
        "outputId": "6a58a9d0-cd8d-4ff2-eb5d-63e5879ca4eb"
      },
      "execution_count": null,
      "outputs": [
        {
          "output_type": "stream",
          "name": "stdout",
          "text": [
            "[LightGBM] [Info] Number of positive: 716, number of negative: 717\n",
            "[LightGBM] [Info] Auto-choosing col-wise multi-threading, the overhead of testing was 0.000389 seconds.\n",
            "You can set `force_col_wise=true` to remove the overhead.\n",
            "[LightGBM] [Info] Total Bins 3315\n",
            "[LightGBM] [Info] Number of data points in the train set: 1433, number of used features: 13\n",
            "[LightGBM] [Info] [binary:BoostFromScore]: pavg=0.499651 -> initscore=-0.001396\n",
            "[LightGBM] [Info] Start training from score -0.001396\n"
          ]
        }
      ]
    },
    {
      "cell_type": "code",
      "source": [
        "# Calculando as métricas de classificação\n",
        "accuracy = accuracy_score(y_test, y_pred)\n",
        "precision = precision_score(y_test, y_pred)\n",
        "recall = recall_score(y_test, y_pred)\n",
        "f1 = f1_score(y_test, y_pred)\n",
        "\n",
        "# Exibindo as métricas\n",
        "print(f\"Acurácia: {accuracy:.2f}\")\n",
        "print(f\"Precisão: {precision:.2f}\")\n",
        "print(f\"Recall: {recall:.2f}\")\n",
        "print(f\"F1-Score: {f1:.2f}\")"
      ],
      "metadata": {
        "id": "1oSCH5ZV6Txw",
        "colab": {
          "base_uri": "https://localhost:8080/"
        },
        "outputId": "17788c30-8be6-403b-978b-eab35b831dbe"
      },
      "execution_count": null,
      "outputs": [
        {
          "output_type": "stream",
          "name": "stdout",
          "text": [
            "Acurácia: 0.97\n",
            "Precisão: 1.00\n",
            "Recall: 0.95\n",
            "F1-Score: 0.97\n"
          ]
        }
      ]
    },
    {
      "cell_type": "code",
      "source": [
        "# Definição do modelo\n",
        "input_shape = (X_train.shape[1],)  # Número de colunas do conjunto de treino\n",
        "model = tf.keras.Sequential([\n",
        "    tf.keras.layers.Dense(64, activation='relu', input_shape=input_shape),\n",
        "    tf.keras.layers.Dense(1, activation='sigmoid')\n",
        "])\n",
        "\n",
        "# Compilação e treinamento\n",
        "model.compile(optimizer='adam', loss='binary_crossentropy', metrics=['accuracy'])\n",
        "model.fit(X_train, y_train, epochs=10, batch_size=32)\n",
        "\n",
        "# Predições e métricas\n",
        "y_pred_proba = model.predict(X_test)  # Predições de probabilidade\n",
        "y_pred = (y_pred_proba > 0.5).astype(int)  # Converter para rótulos binários"
      ],
      "metadata": {
        "id": "cwyZpSAt6Txx",
        "colab": {
          "base_uri": "https://localhost:8080/"
        },
        "outputId": "febf794b-b3df-46a1-b3b8-b155874afb57"
      },
      "execution_count": null,
      "outputs": [
        {
          "output_type": "stream",
          "name": "stdout",
          "text": [
            "Epoch 1/10\n"
          ]
        },
        {
          "output_type": "stream",
          "name": "stderr",
          "text": [
            "/usr/local/lib/python3.11/dist-packages/keras/src/layers/core/dense.py:87: UserWarning: Do not pass an `input_shape`/`input_dim` argument to a layer. When using Sequential models, prefer using an `Input(shape)` object as the first layer in the model instead.\n",
            "  super().__init__(activity_regularizer=activity_regularizer, **kwargs)\n"
          ]
        },
        {
          "output_type": "stream",
          "name": "stdout",
          "text": [
            "\u001b[1m45/45\u001b[0m \u001b[32m━━━━━━━━━━━━━━━━━━━━\u001b[0m\u001b[37m\u001b[0m \u001b[1m2s\u001b[0m 2ms/step - accuracy: 0.4923 - loss: 13.7066\n",
            "Epoch 2/10\n",
            "\u001b[1m45/45\u001b[0m \u001b[32m━━━━━━━━━━━━━━━━━━━━\u001b[0m\u001b[37m\u001b[0m \u001b[1m0s\u001b[0m 2ms/step - accuracy: 0.5222 - loss: 1.9468\n",
            "Epoch 3/10\n",
            "\u001b[1m45/45\u001b[0m \u001b[32m━━━━━━━━━━━━━━━━━━━━\u001b[0m\u001b[37m\u001b[0m \u001b[1m0s\u001b[0m 2ms/step - accuracy: 0.6423 - loss: 0.8957\n",
            "Epoch 4/10\n",
            "\u001b[1m45/45\u001b[0m \u001b[32m━━━━━━━━━━━━━━━━━━━━\u001b[0m\u001b[37m\u001b[0m \u001b[1m0s\u001b[0m 3ms/step - accuracy: 0.6724 - loss: 0.7074\n",
            "Epoch 5/10\n",
            "\u001b[1m45/45\u001b[0m \u001b[32m━━━━━━━━━━━━━━━━━━━━\u001b[0m\u001b[37m\u001b[0m \u001b[1m0s\u001b[0m 2ms/step - accuracy: 0.7293 - loss: 0.5972\n",
            "Epoch 6/10\n",
            "\u001b[1m45/45\u001b[0m \u001b[32m━━━━━━━━━━━━━━━━━━━━\u001b[0m\u001b[37m\u001b[0m \u001b[1m0s\u001b[0m 2ms/step - accuracy: 0.7519 - loss: 0.5302\n",
            "Epoch 7/10\n",
            "\u001b[1m45/45\u001b[0m \u001b[32m━━━━━━━━━━━━━━━━━━━━\u001b[0m\u001b[37m\u001b[0m \u001b[1m0s\u001b[0m 2ms/step - accuracy: 0.7535 - loss: 0.5136\n",
            "Epoch 8/10\n",
            "\u001b[1m45/45\u001b[0m \u001b[32m━━━━━━━━━━━━━━━━━━━━\u001b[0m\u001b[37m\u001b[0m \u001b[1m0s\u001b[0m 2ms/step - accuracy: 0.7731 - loss: 0.4761\n",
            "Epoch 9/10\n",
            "\u001b[1m45/45\u001b[0m \u001b[32m━━━━━━━━━━━━━━━━━━━━\u001b[0m\u001b[37m\u001b[0m \u001b[1m0s\u001b[0m 2ms/step - accuracy: 0.7828 - loss: 0.4685\n",
            "Epoch 10/10\n",
            "\u001b[1m45/45\u001b[0m \u001b[32m━━━━━━━━━━━━━━━━━━━━\u001b[0m\u001b[37m\u001b[0m \u001b[1m0s\u001b[0m 2ms/step - accuracy: 0.7893 - loss: 0.4621\n",
            "\u001b[1m12/12\u001b[0m \u001b[32m━━━━━━━━━━━━━━━━━━━━\u001b[0m\u001b[37m\u001b[0m \u001b[1m0s\u001b[0m 4ms/step \n"
          ]
        }
      ]
    },
    {
      "cell_type": "code",
      "source": [
        "# Calculando as métricas de classificação\n",
        "accuracy = accuracy_score(y_test, y_pred)\n",
        "precision = precision_score(y_test, y_pred)\n",
        "recall = recall_score(y_test, y_pred)\n",
        "f1 = f1_score(y_test, y_pred)\n",
        "\n",
        "# Exibindo as métricas\n",
        "print(f\"Acurácia: {accuracy:.2f}\")\n",
        "print(f\"Precisão: {precision:.2f}\")\n",
        "print(f\"Recall: {recall:.2f}\")\n",
        "print(f\"F1-Score: {f1:.2f}\")"
      ],
      "metadata": {
        "id": "bPpOgh4C6Txx",
        "colab": {
          "base_uri": "https://localhost:8080/"
        },
        "outputId": "0375db91-edc5-411b-a1e8-95f5a679983b"
      },
      "execution_count": null,
      "outputs": [
        {
          "output_type": "stream",
          "name": "stdout",
          "text": [
            "Acurácia: 0.79\n",
            "Precisão: 0.90\n",
            "Recall: 0.66\n",
            "F1-Score: 0.76\n"
          ]
        }
      ]
    },
    {
      "cell_type": "code",
      "source": [
        "model = DecisionTreeClassifier(criterion='gini', random_state=42)\n",
        "DTC = model.fit(X_train, y_train)\n",
        "\n",
        "y_pred = DTC.predict(X_test)"
      ],
      "metadata": {
        "id": "QIEKYSkA6Txy"
      },
      "execution_count": null,
      "outputs": []
    },
    {
      "cell_type": "code",
      "source": [
        "# Calculando as métricas de classificação\n",
        "accuracy = accuracy_score(y_test, y_pred)\n",
        "precision = precision_score(y_test, y_pred)\n",
        "recall = recall_score(y_test, y_pred)\n",
        "f1 = f1_score(y_test, y_pred)\n",
        "\n",
        "# Exibindo as métricas\n",
        "print(f\"Acurácia: {accuracy:.2f}\")\n",
        "print(f\"Precisão: {precision:.2f}\")\n",
        "print(f\"Recall: {recall:.2f}\")\n",
        "print(f\"F1-Score: {f1:.2f}\")"
      ],
      "metadata": {
        "id": "nDPYluY46Txz",
        "colab": {
          "base_uri": "https://localhost:8080/"
        },
        "outputId": "9b13526d-ceda-448f-f679-d586b42cb053"
      },
      "execution_count": null,
      "outputs": [
        {
          "output_type": "stream",
          "name": "stdout",
          "text": [
            "Acurácia: 0.92\n",
            "Precisão: 0.92\n",
            "Recall: 0.92\n",
            "F1-Score: 0.92\n"
          ]
        }
      ]
    },
    {
      "cell_type": "code",
      "source": [
        "# Definição do modelo Conv1D\n",
        "input_shape = (X_train.shape[1], 1)  # Número de características e 1 canal\n",
        "model = tf.keras.Sequential([\n",
        "    tf.keras.layers.Conv1D(32, kernel_size=3, activation='relu', input_shape=input_shape),\n",
        "    tf.keras.layers.Flatten(),\n",
        "    tf.keras.layers.Dense(1, activation='sigmoid')\n",
        "])\n",
        "\n",
        "# Compilação e treinamento do modelo\n",
        "model.compile(optimizer='adam', loss='binary_crossentropy', metrics=['accuracy'])\n",
        "model.fit(X_train, y_train, epochs=10, batch_size=32)\n",
        "\n",
        "# Predições e métricas\n",
        "y_pred_proba = model.predict(X_test)  # Predições de probabilidade\n",
        "y_pred = (y_pred_proba > 0.5).astype(int)  # Converter para rótulos binários"
      ],
      "metadata": {
        "id": "6bk0XAkg6Tx0",
        "colab": {
          "base_uri": "https://localhost:8080/"
        },
        "outputId": "1212613e-a11a-46e5-c637-32f72eec464d"
      },
      "execution_count": null,
      "outputs": [
        {
          "output_type": "stream",
          "name": "stdout",
          "text": [
            "Epoch 1/10\n"
          ]
        },
        {
          "output_type": "stream",
          "name": "stderr",
          "text": [
            "/usr/local/lib/python3.11/dist-packages/keras/src/layers/convolutional/base_conv.py:107: UserWarning: Do not pass an `input_shape`/`input_dim` argument to a layer. When using Sequential models, prefer using an `Input(shape)` object as the first layer in the model instead.\n",
            "  super().__init__(activity_regularizer=activity_regularizer, **kwargs)\n"
          ]
        },
        {
          "output_type": "stream",
          "name": "stdout",
          "text": [
            "\u001b[1m45/45\u001b[0m \u001b[32m━━━━━━━━━━━━━━━━━━━━\u001b[0m\u001b[37m\u001b[0m \u001b[1m1s\u001b[0m 2ms/step - accuracy: 0.4968 - loss: 5.4328\n",
            "Epoch 2/10\n",
            "\u001b[1m45/45\u001b[0m \u001b[32m━━━━━━━━━━━━━━━━━━━━\u001b[0m\u001b[37m\u001b[0m \u001b[1m0s\u001b[0m 2ms/step - accuracy: 0.6018 - loss: 0.7560\n",
            "Epoch 3/10\n",
            "\u001b[1m45/45\u001b[0m \u001b[32m━━━━━━━━━━━━━━━━━━━━\u001b[0m\u001b[37m\u001b[0m \u001b[1m0s\u001b[0m 2ms/step - accuracy: 0.7165 - loss: 0.5840\n",
            "Epoch 4/10\n",
            "\u001b[1m45/45\u001b[0m \u001b[32m━━━━━━━━━━━━━━━━━━━━\u001b[0m\u001b[37m\u001b[0m \u001b[1m0s\u001b[0m 2ms/step - accuracy: 0.7634 - loss: 0.5008\n",
            "Epoch 5/10\n",
            "\u001b[1m45/45\u001b[0m \u001b[32m━━━━━━━━━━━━━━━━━━━━\u001b[0m\u001b[37m\u001b[0m \u001b[1m0s\u001b[0m 2ms/step - accuracy: 0.8116 - loss: 0.4552\n",
            "Epoch 6/10\n",
            "\u001b[1m45/45\u001b[0m \u001b[32m━━━━━━━━━━━━━━━━━━━━\u001b[0m\u001b[37m\u001b[0m \u001b[1m0s\u001b[0m 2ms/step - accuracy: 0.7922 - loss: 0.4649\n",
            "Epoch 7/10\n",
            "\u001b[1m45/45\u001b[0m \u001b[32m━━━━━━━━━━━━━━━━━━━━\u001b[0m\u001b[37m\u001b[0m \u001b[1m0s\u001b[0m 2ms/step - accuracy: 0.8025 - loss: 0.4478\n",
            "Epoch 8/10\n",
            "\u001b[1m45/45\u001b[0m \u001b[32m━━━━━━━━━━━━━━━━━━━━\u001b[0m\u001b[37m\u001b[0m \u001b[1m0s\u001b[0m 2ms/step - accuracy: 0.8226 - loss: 0.4389\n",
            "Epoch 9/10\n",
            "\u001b[1m45/45\u001b[0m \u001b[32m━━━━━━━━━━━━━━━━━━━━\u001b[0m\u001b[37m\u001b[0m \u001b[1m0s\u001b[0m 7ms/step - accuracy: 0.7969 - loss: 0.4424\n",
            "Epoch 10/10\n",
            "\u001b[1m45/45\u001b[0m \u001b[32m━━━━━━━━━━━━━━━━━━━━\u001b[0m\u001b[37m\u001b[0m \u001b[1m1s\u001b[0m 12ms/step - accuracy: 0.8109 - loss: 0.4197\n",
            "\u001b[1m12/12\u001b[0m \u001b[32m━━━━━━━━━━━━━━━━━━━━\u001b[0m\u001b[37m\u001b[0m \u001b[1m0s\u001b[0m 8ms/step\n"
          ]
        }
      ]
    },
    {
      "cell_type": "code",
      "source": [
        "# Calculando as métricas de classificação\n",
        "accuracy = accuracy_score(y_test, y_pred)\n",
        "precision = precision_score(y_test, y_pred)\n",
        "recall = recall_score(y_test, y_pred)\n",
        "f1 = f1_score(y_test, y_pred)\n",
        "\n",
        "# Exibindo as métricas\n",
        "print(f\"Acurácia: {accuracy:.2f}\")\n",
        "print(f\"Precisão: {precision:.2f}\")\n",
        "print(f\"Recall: {recall:.2f}\")\n",
        "print(f\"F1-Score: {f1:.2f}\")"
      ],
      "metadata": {
        "id": "ZHyeH0UI6Tx1",
        "colab": {
          "base_uri": "https://localhost:8080/"
        },
        "outputId": "9eca1c0f-8819-486c-ed1d-49203b063a5b"
      },
      "execution_count": null,
      "outputs": [
        {
          "output_type": "stream",
          "name": "stdout",
          "text": [
            "Acurácia: 0.83\n",
            "Precisão: 0.86\n",
            "Recall: 0.79\n",
            "F1-Score: 0.82\n"
          ]
        }
      ]
    }
  ],
  "metadata": {
    "colab": {
      "provenance": [],
      "authorship_tag": "ABX9TyMS3y1k70AFcyq+5Trvc6FP"
    },
    "kernelspec": {
      "display_name": "Python 3",
      "name": "python3"
    },
    "language_info": {
      "name": "python"
    }
  },
  "nbformat": 4,
  "nbformat_minor": 0
}