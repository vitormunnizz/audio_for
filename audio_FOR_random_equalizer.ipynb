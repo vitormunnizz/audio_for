{
  "cells": [
    {
      "cell_type": "code",
      "execution_count": null,
      "metadata": {
        "id": "dbI4Hery0Pvo"
      },
      "outputs": [],
      "source": [
        "import os\n",
        "import librosa\n",
        "import librosa.display\n",
        "import pandas as pd\n",
        "import numpy as np\n",
        "import random\n",
        "\n",
        "import seaborn as sns\n",
        "import matplotlib.pyplot as plt\n",
        "from scipy.io.wavfile import write\n",
        "import shutil\n",
        "import soundfile as sf\n",
        "\n",
        "from sklearn.model_selection import train_test_split\n",
        "from sklearn.ensemble import RandomForestClassifier\n",
        "from sklearn.svm import SVC\n",
        "import tensorflow as tf\n",
        "from sklearn.neighbors import KNeighborsClassifier\n",
        "from xgboost import XGBClassifier\n",
        "from lightgbm import LGBMClassifier\n",
        "from sklearn.tree import DecisionTreeClassifier\n",
        "from sklearn.metrics import mean_absolute_error, confusion_matrix, accuracy_score, precision_score, recall_score, f1_score"
      ]
    },
    {
      "cell_type": "code",
      "execution_count": null,
      "metadata": {
        "colab": {
          "base_uri": "https://localhost:8080/"
        },
        "id": "nMpxzzJl0MHB",
        "outputId": "813a263c-a110-433e-9d1d-147184944696"
      },
      "outputs": [
        {
          "output_type": "stream",
          "name": "stdout",
          "text": [
            "Mounted at /content/drive\n"
          ]
        }
      ],
      "source": [
        "# Montar o Google Drive\n",
        "from google.colab import drive\n",
        "drive.mount('/content/drive')"
      ]
    },
    {
      "cell_type": "code",
      "execution_count": null,
      "metadata": {
        "id": "xRC00p5K0Tyi"
      },
      "outputs": [],
      "source": [
        "# Caminho para os dados no Google Drive\n",
        "file_path_real = '/content/drive/MyDrive/audios_FOR/amostra_FOR/real'\n",
        "file_path_fake = '/content/drive/MyDrive/audios_FOR/amostra_FOR/fake'"
      ]
    },
    {
      "cell_type": "code",
      "execution_count": null,
      "metadata": {
        "colab": {
          "base_uri": "https://localhost:8080/"
        },
        "id": "HBjFS9TD1646",
        "outputId": "3f5d24f0-2309-4873-a135-002d461a79a5"
      },
      "outputs": [
        {
          "output_type": "stream",
          "name": "stdout",
          "text": [
            "['file1061.wav', 'file1059.wav', 'file1143.wav', 'file1115.wav', 'file1147.wav', 'file1135.wav', 'file1139.wav', 'file154.wav', 'file155.wav', 'file10.wav', 'file1.wav', 'file1047.wav', 'file1046.wav', 'file1048.wav', 'file1050.wav', 'file1049.wav', 'file1052.wav', 'file1053.wav', 'file1055.wav', 'file1054.wav', 'file1056.wav', 'file1057.wav', 'file1058.wav', 'file1060.wav', 'file1063.wav', 'file1065.wav', 'file1064.wav', 'file1067.wav', 'file1068.wav', 'file1069.wav', 'file1070.wav', 'file10735.wav', 'file10728.wav', 'file10737.wav', 'file10727.wav', 'file1072.wav', 'file10732.wav', 'file10734.wav', 'file1071.wav', 'file10736.wav', 'file1073.wav', 'file10746.wav', 'file10762.wav', 'file10741.wav', 'file10755.wav', 'file10750.wav', 'file10738.wav', 'file10740.wav', 'file10758.wav', 'file10744.wav', 'file10739.wav', 'file10754.wav', 'file10757.wav', 'file10743.wav', 'file10742.wav', 'file10759.wav', 'file10760.wav', 'file10745.wav', 'file10747.wav', 'file10763.wav', 'file10826.wav', 'file10824.wav', 'file10828.wav', 'file10825.wav', 'file10831.wav', 'file10830.wav', 'file10829.wav', 'file10870.wav', 'file10866.wav', 'file10863.wav', 'file10865.wav', 'file10868.wav', 'file10867.wav', 'file10864.wav', 'file10888.wav', 'file10894.wav', 'file10873.wav', 'file10895.wav', 'file10875.wav', 'file10874.wav', 'file10872.wav', 'file10883.wav', 'file10889.wav', 'file10878.wav', 'file10892.wav', 'file10881.wav', 'file10896.wav', 'file10882.wav', 'file10884.wav', 'file10893.wav', 'file10891.wav', 'file10876.wav', 'file10886.wav', 'file10887.wav', 'file10879.wav', 'file10890.wav', 'file10871.wav', 'file10918.wav', 'file10905.wav', 'file10910.wav', 'file10907.wav', 'file10914.wav', 'file10904.wav', 'file10919.wav', 'file10908.wav', 'file10909.wav', 'file10912.wav', 'file10911.wav', 'file10903.wav', 'file10897.wav', 'file10913.wav', 'file10900.wav', 'file10901.wav', 'file10916.wav', 'file10898.wav', 'file10932.wav', 'file10943.wav', 'file10930.wav', 'file10941.wav', 'file10937.wav', 'file10928.wav', 'file10920.wav', 'file10933.wav', 'file10939.wav', 'file10945.wav', 'file10935.wav', 'file10925.wav', 'file10944.wav', 'file10931.wav', 'file10929.wav', 'file10938.wav', 'file10921.wav', 'file10924.wav', 'file10948.wav', 'file10949.wav', 'file10953.wav', 'file10965.wav', 'file10947.wav', 'file10967.wav', 'file10952.wav', 'file10974.wav', 'file10966.wav', 'file10971.wav', 'file10946.wav', 'file10969.wav', 'file10976.wav', 'file10977.wav', 'file10957.wav', 'file10964.wav', 'file10970.wav', 'file10954.wav', 'file10960.wav', 'file10951.wav', 'file10955.wav', 'file10990.wav', 'file10984.wav', 'file10994.wav', 'file10980.wav', 'file1099.wav', 'file10987.wav', 'file10999.wav', 'file10992.wav', 'file10996.wav', 'file10985.wav', 'file11003.wav', 'file1100.wav', 'file10993.wav', 'file10988.wav', 'file11000.wav', 'file10979.wav', 'file10998.wav', 'file10978.wav', 'file10989.wav', 'file10983.wav', 'file10995.wav', 'file11.wav', 'file11004.wav', 'file11001.wav', 'file11023.wav', 'file11016.wav', 'file1103.wav', 'file11015.wav', 'file11027.wav', 'file11037.wav', 'file11024.wav', 'file11011.wav', 'file11009.wav', 'file11019.wav', 'file11014.wav', 'file11006.wav', 'file11032.wav', 'file11005.wav', 'file11007.wav', 'file11028.wav', 'file1102.wav', 'file11031.wav', 'file11008.wav', 'file11030.wav', 'file1101.wav', 'file11017.wav', 'file11012.wav', 'file11033.wav', 'file11038.wav', 'file11013.wav', 'file1104.wav', 'file1106.wav', 'file1105.wav', 'file1108.wav', 'file1109.wav', 'file1110.wav', 'file1111.wav', 'file112.wav', 'file113.wav', 'file1132.wav', 'file1133.wav', 'file1134.wav', 'file1138.wav', 'file1136.wav', 'file1137.wav', 'file1141.wav', 'file1140.wav', 'file1142.wav', 'file1146.wav', 'file1144.wav', 'file1149.wav', 'file1151.wav', 'file115.wav', 'file1152.wav', 'file1154.wav', 'file1153.wav', 'file1155.wav', 'file1157.wav', 'file1159.wav', 'file116.wav', 'file1160.wav', 'file1162.wav', 'file1161.wav', 'file1163.wav', 'file1164.wav', 'file1165.wav', 'file1167.wav', 'file1168.wav', 'file1166.wav', 'file1169.wav', 'file117.wav', 'file1172.wav', 'file1173.wav', 'file1171.wav', 'file1174.wav', 'file1178.wav', 'file1177.wav', 'file1181.wav', 'file1182.wav', 'file1180.wav', 'file118.wav', 'file1184.wav', 'file1185.wav', 'file1183.wav', 'file1186.wav', 'file1189.wav', 'file119.wav', 'file1190.wav', 'file1191.wav', 'file120.wav', 'file121.wav', 'file122.wav', 'file123.wav', 'file125.wav', 'file127.wav', 'file128.wav', 'file129.wav', 'file130.wav', 'file132.wav', 'file133.wav', 'file134.wav', 'file135.wav', 'file136.wav', 'file137.wav', 'file138.wav', 'file139.wav', 'file140.wav', 'file142.wav', 'file143.wav', 'file144.wav', 'file145.wav', 'file146.wav', 'file147.wav', 'file148.wav', 'file149.wav', 'file150.wav', 'file151.wav', 'file152.wav', 'file153.wav', 'file156.wav', 'file158.wav', 'file159.wav', 'file160.wav', 'file17783.wav', 'file17766.wav', 'file17765.wav', 'file17779.wav', 'file17781.wav', 'file17782.wav', 'file17768.wav', 'file17813.wav', 'file17811.wav', 'file17786.wav', 'file17790.wav', 'file17812.wav', 'file17785.wav', 'file17814.wav', 'file17788.wav', 'file17784.wav', 'file17822.wav', 'file17818.wav', 'file17819.wav', 'file17817.wav', 'file17820.wav', 'file17815.wav', 'file17821.wav', 'file17823.wav', 'file2.wav', 'file25474.wav', 'file25475.wav', 'file25478.wav', 'file25504.wav', 'file25503.wav', 'file25537.wav', 'file25519.wav', 'file25538.wav', 'file25534.wav', 'file25526.wav', 'file25521.wav', 'file25523.wav', 'file25524.wav', 'file25525.wav', 'file25539.wav', 'file25522.wav', 'file25520.wav', 'file25527.wav', 'file25536.wav', 'file25535.wav', 'file25529.wav', 'file25528.wav', 'file25568.wav', 'file25564.wav', 'file25553.wav', 'file25550.wav', 'file25563.wav', 'file25540.wav', 'file25559.wav', 'file25554.wav', 'file25551.wav', 'file25560.wav', 'file25562.wav', 'file25548.wav', 'file25558.wav', 'file25566.wav', 'file25545.wav', 'file25544.wav', 'file25555.wav', 'file25543.wav', 'file25547.wav', 'file25541.wav', 'file25565.wav', 'file25556.wav', 'file3.wav', 'file6.wav', 'file7.wav', 'file9.wav', 'file1051.wav', 'file1062.wav', 'file10752.wav', 'file10731.wav', 'file10730.wav', 'file10733.wav', 'file1066.wav', 'file10749.wav', 'file10748.wav', 'file10753.wav', 'file10764.wav', 'file10906.wav', 'file10899.wav', 'file10765.wav', 'file10761.wav', 'file10756.wav', 'file10923.wav', 'file10915.wav', 'file10959.wav', 'file10926.wav', 'file10975.wav', 'file10936.wav', 'file10917.wav', 'file10972.wav', 'file10940.wav', 'file10973.wav', 'file10956.wav', 'file10963.wav', 'file10962.wav', 'file10927.wav', 'file10950.wav', 'file11018.wav', 'file11025.wav', 'file11002.wav', 'file11026.wav', 'file11022.wav', 'file10982.wav', 'file11021.wav', 'file10991.wav', 'file11020.wav', 'file11034.wav', 'file10997.wav', 'file10986.wav', 'file1107.wav', 'file11036.wav', 'file1145.wav', 'file114.wav', 'file1150.wav', 'file1148.wav', 'file1156.wav', 'file1158.wav', 'file1175.wav', 'file1170.wav', 'file1176.wav', 'file1179.wav', 'file1187.wav', 'file1188.wav', 'file124.wav', 'file126.wav', 'file131.wav', 'file141.wav', 'file157.wav', 'file17816.wav', 'file17791.wav', 'file17767.wav', 'file17787.wav', 'file25502.wav', 'file25557.wav', 'file25531.wav', 'file25533.wav', 'file25552.wav', 'file25530.wav', 'file25549.wav', 'file25561.wav', 'file25567.wav', 'file4.wav', 'file5.wav', 'file8.wav']\n",
            "['file1.wav', 'file10.wav', 'file11.wav', 'file13.wav', 'file1335.wav', 'file1310.wav', 'file1327.wav', 'file1307.wav', 'file1328.wav', 'file1337.wav', 'file1309.wav', 'file1336.wav', 'file1338.wav', 'file1308.wav', 'file1306.wav', 'file14.wav', 'file15.wav', 'file17.wav', 'file18.wav', 'file19.wav', 'file2.wav', 'file20.wav', 'file21.wav', 'file22.wav', 'file3.wav', 'file4.wav', 'file5.wav', 'file6.wav', 'file8.wav', 'file9.wav', 'file11.mp3', 'file12.wav', 'file13.mp3', 'file1310.mp3', 'file1309.mp3', 'file1306.mp3', 'file1308.mp3', 'file1307.mp3', 'file1335.mp3', 'file1336.mp3', 'file1328.mp3', 'file1329.mp3', 'file1338.mp3', 'file14.mp3', 'file15.mp3', 'file16.wav', 'file17.mp3', 'file18.mp3', 'file20.mp3', 'file21.mp3', 'file22.mp3', 'file24479.mp3', 'file24502.wav', 'file24481.mp3', 'file24482.mp3', 'file24501.mp3', 'file24483.mp3', 'file24484.mp3', 'file24491.mp3', 'file24487.mp3', 'file24493.mp3', 'file24494.mp3', 'file24488.mp3', 'file24480.wav', 'file24477.wav', 'file24486.mp3', 'file24476.wav', 'file24497.wav', 'file24489.mp3', 'file24478.mp3', 'file24490.mp3', 'file24495.mp3', 'file24500.mp3', 'file3.mp3', 'file32424.mp3', 'file32422.wav', 'file32421.mp3', 'file32389.mp3', 'file32387.mp3', 'file32423.mp3', 'file4.mp3', 'file5865.mp3', 'file5878.mp3', 'file5861.mp3', 'file5864.mp3', 'file5868.mp3', 'file5874.mp3', 'file5862.mp3', 'file5866.mp3', 'file5863.mp3', 'file5870.mp3', 'file5869.mp3', 'file5872.mp3', 'file5873.mp3', 'file5875.mp3', 'file5877.mp3', 'file6.mp3', 'file7.wav', 'file8.mp3', 'file9.mp3', 'file1.mp3', 'file1337.mp3', 'file19.mp3', 'file24499.mp3', 'file24485.mp3', 'file5.mp3', 'file5876.mp3', 'file5867.mp3', 'file5860.mp3', 'file5871.mp3', 'file5859.mp3']\n"
          ]
        }
      ],
      "source": [
        "# Listar os arquivos e subpastas\n",
        "print(os.listdir(file_path_real))\n",
        "print(os.listdir(file_path_fake))"
      ]
    },
    {
      "cell_type": "code",
      "execution_count": null,
      "metadata": {
        "id": "EbARq6hJ1kVI"
      },
      "outputs": [],
      "source": [
        "# Função para processar os áudios em uma pasta\n",
        "def process_audio_files(folder_path):\n",
        "\n",
        "    for audio_file in os.listdir(folder_path):\n",
        "        audio_path = os.path.join(folder_path, audio_file)\n",
        "\n",
        "        # Carregar o áudio\n",
        "        y, sr = librosa.load(audio_path, sr=None)\n",
        "\n",
        "        # Mostrar informações do áudio\n",
        "        print(f\"Arquivo: {audio_file}, Duração: {len(y) / sr:.2f}s, Taxa de amostragem: {sr}Hz\")\n",
        "\n",
        "        # Plotar waveform\n",
        "        plt.figure(figsize=(10, 4))\n",
        "        librosa.display.waveshow(y, sr=sr)\n",
        "        plt.title(f\"Waveform de {audio_file}\")\n",
        "        plt.xlabel(\"Tempo (s)\")\n",
        "        plt.ylabel(\"Amplitude\")\n",
        "        plt.show()"
      ]
    },
    {
      "cell_type": "code",
      "execution_count": null,
      "metadata": {
        "id": "HL6Vs3Qj2sbd"
      },
      "outputs": [],
      "source": [
        "# Processar áudios Real\n",
        "#process_audio_files(file_path_real)"
      ]
    },
    {
      "cell_type": "code",
      "execution_count": null,
      "metadata": {
        "id": "EHH3xW_P2uSj"
      },
      "outputs": [],
      "source": [
        "# Processar áudios Fake\n",
        "#process_audio_files(file_path_fake)"
      ]
    },
    {
      "cell_type": "code",
      "execution_count": null,
      "metadata": {
        "id": "NJG7ZzKW36m8"
      },
      "outputs": [],
      "source": [
        "# Função para extrair MFCCs de um arquivo\n",
        "def extract_features(file_path):\n",
        "    y, sr = librosa.load(file_path, sr=None)\n",
        "    mfccs = librosa.feature.mfcc(y=y, sr=sr, n_mfcc=13)\n",
        "    return np.mean(mfccs.T, axis=0)  # Média dos coeficientes\n",
        "\n",
        "# Carregar dados e rótulos\n",
        "data = []\n",
        "labels = []\n",
        "\n",
        "# Processar Fake\n",
        "for file_name in os.listdir(file_path_fake):\n",
        "    file_path = os.path.join(file_path_fake, file_name)\n",
        "    features = extract_features(file_path)\n",
        "    data.append(features)\n",
        "    labels.append(0)  # Rótulo 0 para Fake\n",
        "\n",
        "# Processar Real\n",
        "for file_name in os.listdir(file_path_real):\n",
        "    file_path = os.path.join(file_path_real, file_name)\n",
        "    features = extract_features(file_path)\n",
        "    data.append(features)\n",
        "    labels.append(1)  # Rótulo 1 para Real"
      ]
    },
    {
      "cell_type": "code",
      "execution_count": null,
      "metadata": {
        "id": "ztAXi3G552yT"
      },
      "outputs": [],
      "source": [
        "# Converter para DataFrame\n",
        "df = pd.DataFrame(data)\n",
        "df['label'] = labels"
      ]
    },
    {
      "cell_type": "code",
      "execution_count": null,
      "metadata": {
        "colab": {
          "base_uri": "https://localhost:8080/",
          "height": 444
        },
        "id": "KRcDRZRx6jga",
        "outputId": "cda9e0a9-28fa-4a9e-aa86-60c34443b791"
      },
      "outputs": [
        {
          "output_type": "execute_result",
          "data": {
            "text/plain": [
              "              0           1          2          3          4          5  \\\n",
              "0   -310.484985   79.589180  12.035122  21.775892   7.463613  -4.327323   \n",
              "1   -292.760193   85.521347 -18.103905  14.233822  -1.934288  -8.300287   \n",
              "2   -266.020477  106.608009 -11.326435  17.970966 -11.344944   1.250991   \n",
              "3   -260.005402  122.213196 -19.668991   8.698288 -10.487801  -3.308214   \n",
              "4   -270.677155  111.855637 -19.062414   5.179912 -16.694443  -4.503492   \n",
              "..          ...         ...        ...        ...        ...        ...   \n",
              "554 -296.089111   90.251648  49.353138  40.109879  13.949716  15.968038   \n",
              "555 -334.378174   76.736237   1.568514  22.846909 -14.486498 -16.314674   \n",
              "556 -323.235352   69.085464   4.084009  22.119936 -11.278208 -25.925304   \n",
              "557 -312.793549   82.430946   3.129900  14.186769 -18.484079 -25.799473   \n",
              "558 -432.503387   52.231987  24.130854  24.908005   5.230207  10.177417   \n",
              "\n",
              "             6          7          8          9         10         11  \\\n",
              "0     1.702638   5.056441 -11.605008  -8.825641 -12.136454  -8.166679   \n",
              "1   -15.360986 -14.333099  -0.524541 -12.453050  -2.744914 -14.212177   \n",
              "2    -5.587977  -6.984388  -5.437147 -10.668830   6.232262 -13.461805   \n",
              "3    -5.397858 -11.390374  -4.951897 -11.585847   5.326418 -15.468590   \n",
              "4   -10.268575 -12.212496  -1.401393 -12.573609   5.653296 -16.340860   \n",
              "..         ...        ...        ...        ...        ...        ...   \n",
              "554 -11.017990   1.806876  -6.369140   3.860376  -8.479083  -1.914927   \n",
              "555 -15.556476 -21.469236 -20.530735  -1.497289 -14.830498  -3.666535   \n",
              "556 -23.227936 -21.648048  -9.808347  -1.174033 -23.784948   1.368763   \n",
              "557 -17.645624 -17.211958 -12.702026  -4.227543 -22.298204   0.184280   \n",
              "558   1.667769  11.312072  14.200116  13.155353   9.546826  18.923155   \n",
              "\n",
              "            12  label  \n",
              "0    -7.886450      0  \n",
              "1     0.993812      0  \n",
              "2     6.319636      0  \n",
              "3     5.036489      0  \n",
              "4     3.830790      0  \n",
              "..         ...    ...  \n",
              "554 -10.282051      1  \n",
              "555 -10.663058      1  \n",
              "556 -17.619230      1  \n",
              "557 -17.449095      1  \n",
              "558   7.199302      1  \n",
              "\n",
              "[559 rows x 14 columns]"
            ],
            "text/html": [
              "\n",
              "  <div id=\"df-00db08a9-21ae-4e57-9f89-4409c13a82da\" class=\"colab-df-container\">\n",
              "    <div>\n",
              "<style scoped>\n",
              "    .dataframe tbody tr th:only-of-type {\n",
              "        vertical-align: middle;\n",
              "    }\n",
              "\n",
              "    .dataframe tbody tr th {\n",
              "        vertical-align: top;\n",
              "    }\n",
              "\n",
              "    .dataframe thead th {\n",
              "        text-align: right;\n",
              "    }\n",
              "</style>\n",
              "<table border=\"1\" class=\"dataframe\">\n",
              "  <thead>\n",
              "    <tr style=\"text-align: right;\">\n",
              "      <th></th>\n",
              "      <th>0</th>\n",
              "      <th>1</th>\n",
              "      <th>2</th>\n",
              "      <th>3</th>\n",
              "      <th>4</th>\n",
              "      <th>5</th>\n",
              "      <th>6</th>\n",
              "      <th>7</th>\n",
              "      <th>8</th>\n",
              "      <th>9</th>\n",
              "      <th>10</th>\n",
              "      <th>11</th>\n",
              "      <th>12</th>\n",
              "      <th>label</th>\n",
              "    </tr>\n",
              "  </thead>\n",
              "  <tbody>\n",
              "    <tr>\n",
              "      <th>0</th>\n",
              "      <td>-310.484985</td>\n",
              "      <td>79.589180</td>\n",
              "      <td>12.035122</td>\n",
              "      <td>21.775892</td>\n",
              "      <td>7.463613</td>\n",
              "      <td>-4.327323</td>\n",
              "      <td>1.702638</td>\n",
              "      <td>5.056441</td>\n",
              "      <td>-11.605008</td>\n",
              "      <td>-8.825641</td>\n",
              "      <td>-12.136454</td>\n",
              "      <td>-8.166679</td>\n",
              "      <td>-7.886450</td>\n",
              "      <td>0</td>\n",
              "    </tr>\n",
              "    <tr>\n",
              "      <th>1</th>\n",
              "      <td>-292.760193</td>\n",
              "      <td>85.521347</td>\n",
              "      <td>-18.103905</td>\n",
              "      <td>14.233822</td>\n",
              "      <td>-1.934288</td>\n",
              "      <td>-8.300287</td>\n",
              "      <td>-15.360986</td>\n",
              "      <td>-14.333099</td>\n",
              "      <td>-0.524541</td>\n",
              "      <td>-12.453050</td>\n",
              "      <td>-2.744914</td>\n",
              "      <td>-14.212177</td>\n",
              "      <td>0.993812</td>\n",
              "      <td>0</td>\n",
              "    </tr>\n",
              "    <tr>\n",
              "      <th>2</th>\n",
              "      <td>-266.020477</td>\n",
              "      <td>106.608009</td>\n",
              "      <td>-11.326435</td>\n",
              "      <td>17.970966</td>\n",
              "      <td>-11.344944</td>\n",
              "      <td>1.250991</td>\n",
              "      <td>-5.587977</td>\n",
              "      <td>-6.984388</td>\n",
              "      <td>-5.437147</td>\n",
              "      <td>-10.668830</td>\n",
              "      <td>6.232262</td>\n",
              "      <td>-13.461805</td>\n",
              "      <td>6.319636</td>\n",
              "      <td>0</td>\n",
              "    </tr>\n",
              "    <tr>\n",
              "      <th>3</th>\n",
              "      <td>-260.005402</td>\n",
              "      <td>122.213196</td>\n",
              "      <td>-19.668991</td>\n",
              "      <td>8.698288</td>\n",
              "      <td>-10.487801</td>\n",
              "      <td>-3.308214</td>\n",
              "      <td>-5.397858</td>\n",
              "      <td>-11.390374</td>\n",
              "      <td>-4.951897</td>\n",
              "      <td>-11.585847</td>\n",
              "      <td>5.326418</td>\n",
              "      <td>-15.468590</td>\n",
              "      <td>5.036489</td>\n",
              "      <td>0</td>\n",
              "    </tr>\n",
              "    <tr>\n",
              "      <th>4</th>\n",
              "      <td>-270.677155</td>\n",
              "      <td>111.855637</td>\n",
              "      <td>-19.062414</td>\n",
              "      <td>5.179912</td>\n",
              "      <td>-16.694443</td>\n",
              "      <td>-4.503492</td>\n",
              "      <td>-10.268575</td>\n",
              "      <td>-12.212496</td>\n",
              "      <td>-1.401393</td>\n",
              "      <td>-12.573609</td>\n",
              "      <td>5.653296</td>\n",
              "      <td>-16.340860</td>\n",
              "      <td>3.830790</td>\n",
              "      <td>0</td>\n",
              "    </tr>\n",
              "    <tr>\n",
              "      <th>...</th>\n",
              "      <td>...</td>\n",
              "      <td>...</td>\n",
              "      <td>...</td>\n",
              "      <td>...</td>\n",
              "      <td>...</td>\n",
              "      <td>...</td>\n",
              "      <td>...</td>\n",
              "      <td>...</td>\n",
              "      <td>...</td>\n",
              "      <td>...</td>\n",
              "      <td>...</td>\n",
              "      <td>...</td>\n",
              "      <td>...</td>\n",
              "      <td>...</td>\n",
              "    </tr>\n",
              "    <tr>\n",
              "      <th>554</th>\n",
              "      <td>-296.089111</td>\n",
              "      <td>90.251648</td>\n",
              "      <td>49.353138</td>\n",
              "      <td>40.109879</td>\n",
              "      <td>13.949716</td>\n",
              "      <td>15.968038</td>\n",
              "      <td>-11.017990</td>\n",
              "      <td>1.806876</td>\n",
              "      <td>-6.369140</td>\n",
              "      <td>3.860376</td>\n",
              "      <td>-8.479083</td>\n",
              "      <td>-1.914927</td>\n",
              "      <td>-10.282051</td>\n",
              "      <td>1</td>\n",
              "    </tr>\n",
              "    <tr>\n",
              "      <th>555</th>\n",
              "      <td>-334.378174</td>\n",
              "      <td>76.736237</td>\n",
              "      <td>1.568514</td>\n",
              "      <td>22.846909</td>\n",
              "      <td>-14.486498</td>\n",
              "      <td>-16.314674</td>\n",
              "      <td>-15.556476</td>\n",
              "      <td>-21.469236</td>\n",
              "      <td>-20.530735</td>\n",
              "      <td>-1.497289</td>\n",
              "      <td>-14.830498</td>\n",
              "      <td>-3.666535</td>\n",
              "      <td>-10.663058</td>\n",
              "      <td>1</td>\n",
              "    </tr>\n",
              "    <tr>\n",
              "      <th>556</th>\n",
              "      <td>-323.235352</td>\n",
              "      <td>69.085464</td>\n",
              "      <td>4.084009</td>\n",
              "      <td>22.119936</td>\n",
              "      <td>-11.278208</td>\n",
              "      <td>-25.925304</td>\n",
              "      <td>-23.227936</td>\n",
              "      <td>-21.648048</td>\n",
              "      <td>-9.808347</td>\n",
              "      <td>-1.174033</td>\n",
              "      <td>-23.784948</td>\n",
              "      <td>1.368763</td>\n",
              "      <td>-17.619230</td>\n",
              "      <td>1</td>\n",
              "    </tr>\n",
              "    <tr>\n",
              "      <th>557</th>\n",
              "      <td>-312.793549</td>\n",
              "      <td>82.430946</td>\n",
              "      <td>3.129900</td>\n",
              "      <td>14.186769</td>\n",
              "      <td>-18.484079</td>\n",
              "      <td>-25.799473</td>\n",
              "      <td>-17.645624</td>\n",
              "      <td>-17.211958</td>\n",
              "      <td>-12.702026</td>\n",
              "      <td>-4.227543</td>\n",
              "      <td>-22.298204</td>\n",
              "      <td>0.184280</td>\n",
              "      <td>-17.449095</td>\n",
              "      <td>1</td>\n",
              "    </tr>\n",
              "    <tr>\n",
              "      <th>558</th>\n",
              "      <td>-432.503387</td>\n",
              "      <td>52.231987</td>\n",
              "      <td>24.130854</td>\n",
              "      <td>24.908005</td>\n",
              "      <td>5.230207</td>\n",
              "      <td>10.177417</td>\n",
              "      <td>1.667769</td>\n",
              "      <td>11.312072</td>\n",
              "      <td>14.200116</td>\n",
              "      <td>13.155353</td>\n",
              "      <td>9.546826</td>\n",
              "      <td>18.923155</td>\n",
              "      <td>7.199302</td>\n",
              "      <td>1</td>\n",
              "    </tr>\n",
              "  </tbody>\n",
              "</table>\n",
              "<p>559 rows × 14 columns</p>\n",
              "</div>\n",
              "    <div class=\"colab-df-buttons\">\n",
              "\n",
              "  <div class=\"colab-df-container\">\n",
              "    <button class=\"colab-df-convert\" onclick=\"convertToInteractive('df-00db08a9-21ae-4e57-9f89-4409c13a82da')\"\n",
              "            title=\"Convert this dataframe to an interactive table.\"\n",
              "            style=\"display:none;\">\n",
              "\n",
              "  <svg xmlns=\"http://www.w3.org/2000/svg\" height=\"24px\" viewBox=\"0 -960 960 960\">\n",
              "    <path d=\"M120-120v-720h720v720H120Zm60-500h600v-160H180v160Zm220 220h160v-160H400v160Zm0 220h160v-160H400v160ZM180-400h160v-160H180v160Zm440 0h160v-160H620v160ZM180-180h160v-160H180v160Zm440 0h160v-160H620v160Z\"/>\n",
              "  </svg>\n",
              "    </button>\n",
              "\n",
              "  <style>\n",
              "    .colab-df-container {\n",
              "      display:flex;\n",
              "      gap: 12px;\n",
              "    }\n",
              "\n",
              "    .colab-df-convert {\n",
              "      background-color: #E8F0FE;\n",
              "      border: none;\n",
              "      border-radius: 50%;\n",
              "      cursor: pointer;\n",
              "      display: none;\n",
              "      fill: #1967D2;\n",
              "      height: 32px;\n",
              "      padding: 0 0 0 0;\n",
              "      width: 32px;\n",
              "    }\n",
              "\n",
              "    .colab-df-convert:hover {\n",
              "      background-color: #E2EBFA;\n",
              "      box-shadow: 0px 1px 2px rgba(60, 64, 67, 0.3), 0px 1px 3px 1px rgba(60, 64, 67, 0.15);\n",
              "      fill: #174EA6;\n",
              "    }\n",
              "\n",
              "    .colab-df-buttons div {\n",
              "      margin-bottom: 4px;\n",
              "    }\n",
              "\n",
              "    [theme=dark] .colab-df-convert {\n",
              "      background-color: #3B4455;\n",
              "      fill: #D2E3FC;\n",
              "    }\n",
              "\n",
              "    [theme=dark] .colab-df-convert:hover {\n",
              "      background-color: #434B5C;\n",
              "      box-shadow: 0px 1px 3px 1px rgba(0, 0, 0, 0.15);\n",
              "      filter: drop-shadow(0px 1px 2px rgba(0, 0, 0, 0.3));\n",
              "      fill: #FFFFFF;\n",
              "    }\n",
              "  </style>\n",
              "\n",
              "    <script>\n",
              "      const buttonEl =\n",
              "        document.querySelector('#df-00db08a9-21ae-4e57-9f89-4409c13a82da button.colab-df-convert');\n",
              "      buttonEl.style.display =\n",
              "        google.colab.kernel.accessAllowed ? 'block' : 'none';\n",
              "\n",
              "      async function convertToInteractive(key) {\n",
              "        const element = document.querySelector('#df-00db08a9-21ae-4e57-9f89-4409c13a82da');\n",
              "        const dataTable =\n",
              "          await google.colab.kernel.invokeFunction('convertToInteractive',\n",
              "                                                    [key], {});\n",
              "        if (!dataTable) return;\n",
              "\n",
              "        const docLinkHtml = 'Like what you see? Visit the ' +\n",
              "          '<a target=\"_blank\" href=https://colab.research.google.com/notebooks/data_table.ipynb>data table notebook</a>'\n",
              "          + ' to learn more about interactive tables.';\n",
              "        element.innerHTML = '';\n",
              "        dataTable['output_type'] = 'display_data';\n",
              "        await google.colab.output.renderOutput(dataTable, element);\n",
              "        const docLink = document.createElement('div');\n",
              "        docLink.innerHTML = docLinkHtml;\n",
              "        element.appendChild(docLink);\n",
              "      }\n",
              "    </script>\n",
              "  </div>\n",
              "\n",
              "\n",
              "<div id=\"df-28e1d4df-2b6c-4028-9eb7-d2abacb12eda\">\n",
              "  <button class=\"colab-df-quickchart\" onclick=\"quickchart('df-28e1d4df-2b6c-4028-9eb7-d2abacb12eda')\"\n",
              "            title=\"Suggest charts\"\n",
              "            style=\"display:none;\">\n",
              "\n",
              "<svg xmlns=\"http://www.w3.org/2000/svg\" height=\"24px\"viewBox=\"0 0 24 24\"\n",
              "     width=\"24px\">\n",
              "    <g>\n",
              "        <path d=\"M19 3H5c-1.1 0-2 .9-2 2v14c0 1.1.9 2 2 2h14c1.1 0 2-.9 2-2V5c0-1.1-.9-2-2-2zM9 17H7v-7h2v7zm4 0h-2V7h2v10zm4 0h-2v-4h2v4z\"/>\n",
              "    </g>\n",
              "</svg>\n",
              "  </button>\n",
              "\n",
              "<style>\n",
              "  .colab-df-quickchart {\n",
              "      --bg-color: #E8F0FE;\n",
              "      --fill-color: #1967D2;\n",
              "      --hover-bg-color: #E2EBFA;\n",
              "      --hover-fill-color: #174EA6;\n",
              "      --disabled-fill-color: #AAA;\n",
              "      --disabled-bg-color: #DDD;\n",
              "  }\n",
              "\n",
              "  [theme=dark] .colab-df-quickchart {\n",
              "      --bg-color: #3B4455;\n",
              "      --fill-color: #D2E3FC;\n",
              "      --hover-bg-color: #434B5C;\n",
              "      --hover-fill-color: #FFFFFF;\n",
              "      --disabled-bg-color: #3B4455;\n",
              "      --disabled-fill-color: #666;\n",
              "  }\n",
              "\n",
              "  .colab-df-quickchart {\n",
              "    background-color: var(--bg-color);\n",
              "    border: none;\n",
              "    border-radius: 50%;\n",
              "    cursor: pointer;\n",
              "    display: none;\n",
              "    fill: var(--fill-color);\n",
              "    height: 32px;\n",
              "    padding: 0;\n",
              "    width: 32px;\n",
              "  }\n",
              "\n",
              "  .colab-df-quickchart:hover {\n",
              "    background-color: var(--hover-bg-color);\n",
              "    box-shadow: 0 1px 2px rgba(60, 64, 67, 0.3), 0 1px 3px 1px rgba(60, 64, 67, 0.15);\n",
              "    fill: var(--button-hover-fill-color);\n",
              "  }\n",
              "\n",
              "  .colab-df-quickchart-complete:disabled,\n",
              "  .colab-df-quickchart-complete:disabled:hover {\n",
              "    background-color: var(--disabled-bg-color);\n",
              "    fill: var(--disabled-fill-color);\n",
              "    box-shadow: none;\n",
              "  }\n",
              "\n",
              "  .colab-df-spinner {\n",
              "    border: 2px solid var(--fill-color);\n",
              "    border-color: transparent;\n",
              "    border-bottom-color: var(--fill-color);\n",
              "    animation:\n",
              "      spin 1s steps(1) infinite;\n",
              "  }\n",
              "\n",
              "  @keyframes spin {\n",
              "    0% {\n",
              "      border-color: transparent;\n",
              "      border-bottom-color: var(--fill-color);\n",
              "      border-left-color: var(--fill-color);\n",
              "    }\n",
              "    20% {\n",
              "      border-color: transparent;\n",
              "      border-left-color: var(--fill-color);\n",
              "      border-top-color: var(--fill-color);\n",
              "    }\n",
              "    30% {\n",
              "      border-color: transparent;\n",
              "      border-left-color: var(--fill-color);\n",
              "      border-top-color: var(--fill-color);\n",
              "      border-right-color: var(--fill-color);\n",
              "    }\n",
              "    40% {\n",
              "      border-color: transparent;\n",
              "      border-right-color: var(--fill-color);\n",
              "      border-top-color: var(--fill-color);\n",
              "    }\n",
              "    60% {\n",
              "      border-color: transparent;\n",
              "      border-right-color: var(--fill-color);\n",
              "    }\n",
              "    80% {\n",
              "      border-color: transparent;\n",
              "      border-right-color: var(--fill-color);\n",
              "      border-bottom-color: var(--fill-color);\n",
              "    }\n",
              "    90% {\n",
              "      border-color: transparent;\n",
              "      border-bottom-color: var(--fill-color);\n",
              "    }\n",
              "  }\n",
              "</style>\n",
              "\n",
              "  <script>\n",
              "    async function quickchart(key) {\n",
              "      const quickchartButtonEl =\n",
              "        document.querySelector('#' + key + ' button');\n",
              "      quickchartButtonEl.disabled = true;  // To prevent multiple clicks.\n",
              "      quickchartButtonEl.classList.add('colab-df-spinner');\n",
              "      try {\n",
              "        const charts = await google.colab.kernel.invokeFunction(\n",
              "            'suggestCharts', [key], {});\n",
              "      } catch (error) {\n",
              "        console.error('Error during call to suggestCharts:', error);\n",
              "      }\n",
              "      quickchartButtonEl.classList.remove('colab-df-spinner');\n",
              "      quickchartButtonEl.classList.add('colab-df-quickchart-complete');\n",
              "    }\n",
              "    (() => {\n",
              "      let quickchartButtonEl =\n",
              "        document.querySelector('#df-28e1d4df-2b6c-4028-9eb7-d2abacb12eda button');\n",
              "      quickchartButtonEl.style.display =\n",
              "        google.colab.kernel.accessAllowed ? 'block' : 'none';\n",
              "    })();\n",
              "  </script>\n",
              "</div>\n",
              "\n",
              "  <div id=\"id_aaeb5a83-3b24-459e-bb1b-e2303a5ea512\">\n",
              "    <style>\n",
              "      .colab-df-generate {\n",
              "        background-color: #E8F0FE;\n",
              "        border: none;\n",
              "        border-radius: 50%;\n",
              "        cursor: pointer;\n",
              "        display: none;\n",
              "        fill: #1967D2;\n",
              "        height: 32px;\n",
              "        padding: 0 0 0 0;\n",
              "        width: 32px;\n",
              "      }\n",
              "\n",
              "      .colab-df-generate:hover {\n",
              "        background-color: #E2EBFA;\n",
              "        box-shadow: 0px 1px 2px rgba(60, 64, 67, 0.3), 0px 1px 3px 1px rgba(60, 64, 67, 0.15);\n",
              "        fill: #174EA6;\n",
              "      }\n",
              "\n",
              "      [theme=dark] .colab-df-generate {\n",
              "        background-color: #3B4455;\n",
              "        fill: #D2E3FC;\n",
              "      }\n",
              "\n",
              "      [theme=dark] .colab-df-generate:hover {\n",
              "        background-color: #434B5C;\n",
              "        box-shadow: 0px 1px 3px 1px rgba(0, 0, 0, 0.15);\n",
              "        filter: drop-shadow(0px 1px 2px rgba(0, 0, 0, 0.3));\n",
              "        fill: #FFFFFF;\n",
              "      }\n",
              "    </style>\n",
              "    <button class=\"colab-df-generate\" onclick=\"generateWithVariable('df')\"\n",
              "            title=\"Generate code using this dataframe.\"\n",
              "            style=\"display:none;\">\n",
              "\n",
              "  <svg xmlns=\"http://www.w3.org/2000/svg\" height=\"24px\"viewBox=\"0 0 24 24\"\n",
              "       width=\"24px\">\n",
              "    <path d=\"M7,19H8.4L18.45,9,17,7.55,7,17.6ZM5,21V16.75L18.45,3.32a2,2,0,0,1,2.83,0l1.4,1.43a1.91,1.91,0,0,1,.58,1.4,1.91,1.91,0,0,1-.58,1.4L9.25,21ZM18.45,9,17,7.55Zm-12,3A5.31,5.31,0,0,0,4.9,8.1,5.31,5.31,0,0,0,1,6.5,5.31,5.31,0,0,0,4.9,4.9,5.31,5.31,0,0,0,6.5,1,5.31,5.31,0,0,0,8.1,4.9,5.31,5.31,0,0,0,12,6.5,5.46,5.46,0,0,0,6.5,12Z\"/>\n",
              "  </svg>\n",
              "    </button>\n",
              "    <script>\n",
              "      (() => {\n",
              "      const buttonEl =\n",
              "        document.querySelector('#id_aaeb5a83-3b24-459e-bb1b-e2303a5ea512 button.colab-df-generate');\n",
              "      buttonEl.style.display =\n",
              "        google.colab.kernel.accessAllowed ? 'block' : 'none';\n",
              "\n",
              "      buttonEl.onclick = () => {\n",
              "        google.colab.notebook.generateWithVariable('df');\n",
              "      }\n",
              "      })();\n",
              "    </script>\n",
              "  </div>\n",
              "\n",
              "    </div>\n",
              "  </div>\n"
            ],
            "application/vnd.google.colaboratory.intrinsic+json": {
              "type": "dataframe",
              "variable_name": "df",
              "summary": "{\n  \"name\": \"df\",\n  \"rows\": 559,\n  \"fields\": [\n    {\n      \"column\": 0,\n      \"properties\": {\n        \"dtype\": \"float32\",\n        \"num_unique_values\": 559,\n        \"samples\": [\n          -303.66534423828125,\n          -200.74349975585938,\n          -341.0849609375\n        ],\n        \"semantic_type\": \"\",\n        \"description\": \"\"\n      }\n    },\n    {\n      \"column\": 1,\n      \"properties\": {\n        \"dtype\": \"float32\",\n        \"num_unique_values\": 559,\n        \"samples\": [\n          165.3446044921875,\n          83.8864517211914,\n          47.19906234741211\n        ],\n        \"semantic_type\": \"\",\n        \"description\": \"\"\n      }\n    },\n    {\n      \"column\": 2,\n      \"properties\": {\n        \"dtype\": \"float32\",\n        \"num_unique_values\": 559,\n        \"samples\": [\n          -4.111262321472168,\n          1.4497567415237427,\n          -9.682025909423828\n        ],\n        \"semantic_type\": \"\",\n        \"description\": \"\"\n      }\n    },\n    {\n      \"column\": 3,\n      \"properties\": {\n        \"dtype\": \"float32\",\n        \"num_unique_values\": 559,\n        \"samples\": [\n          28.791431427001953,\n          37.84858322143555,\n          20.207778930664062\n        ],\n        \"semantic_type\": \"\",\n        \"description\": \"\"\n      }\n    },\n    {\n      \"column\": 4,\n      \"properties\": {\n        \"dtype\": \"float32\",\n        \"num_unique_values\": 559,\n        \"samples\": [\n          7.2431559562683105,\n          6.561042308807373,\n          -5.3386616706848145\n        ],\n        \"semantic_type\": \"\",\n        \"description\": \"\"\n      }\n    },\n    {\n      \"column\": 5,\n      \"properties\": {\n        \"dtype\": \"float32\",\n        \"num_unique_values\": 559,\n        \"samples\": [\n          8.527423858642578,\n          -5.423165798187256,\n          3.7413489818573\n        ],\n        \"semantic_type\": \"\",\n        \"description\": \"\"\n      }\n    },\n    {\n      \"column\": 6,\n      \"properties\": {\n        \"dtype\": \"float32\",\n        \"num_unique_values\": 559,\n        \"samples\": [\n          -0.3570402264595032,\n          -13.699455261230469,\n          -16.991252899169922\n        ],\n        \"semantic_type\": \"\",\n        \"description\": \"\"\n      }\n    },\n    {\n      \"column\": 7,\n      \"properties\": {\n        \"dtype\": \"float32\",\n        \"num_unique_values\": 559,\n        \"samples\": [\n          -16.122112274169922,\n          -9.753549575805664,\n          -10.463788986206055\n        ],\n        \"semantic_type\": \"\",\n        \"description\": \"\"\n      }\n    },\n    {\n      \"column\": 8,\n      \"properties\": {\n        \"dtype\": \"float32\",\n        \"num_unique_values\": 559,\n        \"samples\": [\n          0.8459163904190063,\n          -13.677352905273438,\n          -13.56824779510498\n        ],\n        \"semantic_type\": \"\",\n        \"description\": \"\"\n      }\n    },\n    {\n      \"column\": 9,\n      \"properties\": {\n        \"dtype\": \"float32\",\n        \"num_unique_values\": 559,\n        \"samples\": [\n          -4.227232456207275,\n          10.73301887512207,\n          -7.134695529937744\n        ],\n        \"semantic_type\": \"\",\n        \"description\": \"\"\n      }\n    },\n    {\n      \"column\": 10,\n      \"properties\": {\n        \"dtype\": \"float32\",\n        \"num_unique_values\": 559,\n        \"samples\": [\n          -4.431952476501465,\n          -16.059240341186523,\n          -16.136253356933594\n        ],\n        \"semantic_type\": \"\",\n        \"description\": \"\"\n      }\n    },\n    {\n      \"column\": 11,\n      \"properties\": {\n        \"dtype\": \"float32\",\n        \"num_unique_values\": 559,\n        \"samples\": [\n          -7.60046911239624,\n          4.951775074005127,\n          0.013407567515969276\n        ],\n        \"semantic_type\": \"\",\n        \"description\": \"\"\n      }\n    },\n    {\n      \"column\": 12,\n      \"properties\": {\n        \"dtype\": \"float32\",\n        \"num_unique_values\": 559,\n        \"samples\": [\n          -3.0194082260131836,\n          -5.606936931610107,\n          -13.39730167388916\n        ],\n        \"semantic_type\": \"\",\n        \"description\": \"\"\n      }\n    },\n    {\n      \"column\": \"label\",\n      \"properties\": {\n        \"dtype\": \"number\",\n        \"std\": 0,\n        \"min\": 0,\n        \"max\": 1,\n        \"num_unique_values\": 2,\n        \"samples\": [\n          1,\n          0\n        ],\n        \"semantic_type\": \"\",\n        \"description\": \"\"\n      }\n    }\n  ]\n}"
            }
          },
          "metadata": {},
          "execution_count": 12
        }
      ],
      "source": [
        "df"
      ]
    },
    {
      "cell_type": "code",
      "execution_count": null,
      "metadata": {
        "colab": {
          "base_uri": "https://localhost:8080/",
          "height": 569
        },
        "id": "nxcuXL4y-ER6",
        "outputId": "542307a4-f74f-4b74-f375-b17bbf5db3cc"
      },
      "outputs": [
        {
          "output_type": "display_data",
          "data": {
            "text/plain": [
              "<Figure size 1000x600 with 1 Axes>"
            ],
            "image/png": "[encoded data removed]"
          },
          "metadata": {}
        }
      ],
      "source": [
        "# Contar as ocorrências de cada label\n",
        "label_counts = [labels.count(0), labels.count(1)]\n",
        "\n",
        "# Plotando o gráfico\n",
        "plt.figure(figsize=(10, 6))  # Ajuste do tamanho do gráfico\n",
        "plt.bar([0, 1], label_counts, tick_label=['Fake', 'Real'], color=['#1f77b4', '#ff7f0e'])\n",
        "\n",
        "# Adicionando rótulos e título\n",
        "plt.xlabel('Tipo dos Áudios')\n",
        "plt.ylabel('Quantidade')\n",
        "plt.title('Balanço de Áudios Reais e Fakes')\n",
        "plt.show()"
      ]
    },
    {
      "cell_type": "code",
      "execution_count": null,
      "metadata": {
        "id": "NYPUG5sh5gRQ"
      },
      "outputs": [],
      "source": [
        "# Separar características (X) e rótulos (y)\n",
        "X = df.drop(columns=['label'])\n",
        "y = df['label']\n",
        "\n",
        "# Dividir em treino e teste\n",
        "X_train, X_test, y_train, y_test = train_test_split(X, y, test_size=0.2, random_state=42)"
      ]
    },
    {
      "cell_type": "code",
      "execution_count": null,
      "metadata": {
        "colab": {
          "base_uri": "https://localhost:8080/"
        },
        "id": "aYqFxuXjvyAC",
        "outputId": "5077c7ef-cf17-4132-9763-0f0472e7a186"
      },
      "outputs": [
        {
          "output_type": "stream",
          "name": "stderr",
          "text": [
            "/usr/local/lib/python3.11/dist-packages/keras/src/layers/core/dense.py:87: UserWarning: Do not pass an `input_shape`/`input_dim` argument to a layer. When using Sequential models, prefer using an `Input(shape)` object as the first layer in the model instead.\n",
            "  super().__init__(activity_regularizer=activity_regularizer, **kwargs)\n"
          ]
        },
        {
          "output_type": "stream",
          "name": "stdout",
          "text": [
            "Epoch 1/10\n",
            "\u001b[1m14/14\u001b[0m \u001b[32m━━━━━━━━━━━━━━━━━━━━\u001b[0m\u001b[37m\u001b[0m \u001b[1m2s\u001b[0m 5ms/step - accuracy: 0.7071 - loss: 1.7459\n",
            "Epoch 2/10\n",
            "\u001b[1m14/14\u001b[0m \u001b[32m━━━━━━━━━━━━━━━━━━━━\u001b[0m\u001b[37m\u001b[0m \u001b[1m0s\u001b[0m 4ms/step - accuracy: 0.7350 - loss: 1.0140 \n",
            "Epoch 3/10\n",
            "\u001b[1m14/14\u001b[0m \u001b[32m━━━━━━━━━━━━━━━━━━━━\u001b[0m\u001b[37m\u001b[0m \u001b[1m0s\u001b[0m 4ms/step - accuracy: 0.7682 - loss: 0.7774 \n",
            "Epoch 4/10\n",
            "\u001b[1m14/14\u001b[0m \u001b[32m━━━━━━━━━━━━━━━━━━━━\u001b[0m\u001b[37m\u001b[0m \u001b[1m0s\u001b[0m 4ms/step - accuracy: 0.7968 - loss: 0.5878 \n",
            "Epoch 5/10\n",
            "\u001b[1m14/14\u001b[0m \u001b[32m━━━━━━━━━━━━━━━━━━━━\u001b[0m\u001b[37m\u001b[0m \u001b[1m0s\u001b[0m 4ms/step - accuracy: 0.7782 - loss: 0.5381 \n",
            "Epoch 6/10\n",
            "\u001b[1m14/14\u001b[0m \u001b[32m━━━━━━━━━━━━━━━━━━━━\u001b[0m\u001b[37m\u001b[0m \u001b[1m0s\u001b[0m 4ms/step - accuracy: 0.8317 - loss: 0.4853 \n",
            "Epoch 7/10\n",
            "\u001b[1m14/14\u001b[0m \u001b[32m━━━━━━━━━━━━━━━━━━━━\u001b[0m\u001b[37m\u001b[0m \u001b[1m0s\u001b[0m 4ms/step - accuracy: 0.8026 - loss: 0.6036 \n",
            "Epoch 8/10\n",
            "\u001b[1m14/14\u001b[0m \u001b[32m━━━━━━━━━━━━━━━━━━━━\u001b[0m\u001b[37m\u001b[0m \u001b[1m0s\u001b[0m 5ms/step - accuracy: 0.8741 - loss: 0.3102 \n",
            "Epoch 9/10\n",
            "\u001b[1m14/14\u001b[0m \u001b[32m━━━━━━━━━━━━━━━━━━━━\u001b[0m\u001b[37m\u001b[0m \u001b[1m0s\u001b[0m 4ms/step - accuracy: 0.8421 - loss: 0.3221 \n",
            "Epoch 10/10\n",
            "\u001b[1m14/14\u001b[0m \u001b[32m━━━━━━━━━━━━━━━━━━━━\u001b[0m\u001b[37m\u001b[0m \u001b[1m0s\u001b[0m 4ms/step - accuracy: 0.8236 - loss: 0.3572 \n",
            "\u001b[1m4/4\u001b[0m \u001b[32m━━━━━━━━━━━━━━━━━━━━\u001b[0m\u001b[37m\u001b[0m \u001b[1m0s\u001b[0m 20ms/step\n"
          ]
        }
      ],
      "source": [
        "# Definição do modelo DNN\n",
        "model = tf.keras.Sequential([\n",
        "    tf.keras.layers.Dense(64, activation='relu', input_shape=(X_train.shape[1],)),\n",
        "    tf.keras.layers.Dense(1, activation='sigmoid')\n",
        "])\n",
        "\n",
        "# Compilação e treinamento do modelo\n",
        "model.compile(optimizer='adam', loss='binary_crossentropy', metrics=['accuracy'])\n",
        "model.fit(X_train, y_train, epochs=10, batch_size=32)\n",
        "\n",
        "# Predições e métricas\n",
        "y_pred_proba = model.predict(X_test)  # Predições de probabilidade\n",
        "y_pred = (y_pred_proba > 0.5).astype(int)  # Converter para rótulos binários"
      ]
    },
    {
      "cell_type": "code",
      "execution_count": null,
      "metadata": {
        "colab": {
          "base_uri": "https://localhost:8080/"
        },
        "id": "w2lwQlfv0Qri",
        "outputId": "aacec764-6c28-4262-f0a4-dcaa90970be5"
      },
      "outputs": [
        {
          "output_type": "stream",
          "name": "stdout",
          "text": [
            "Acurácia: 0.87\n",
            "Precisão: 0.86\n",
            "Recall: 0.98\n",
            "F1-Score: 0.91\n"
          ]
        }
      ],
      "source": [
        "# Calculando as métricas de classificação\n",
        "accuracy = accuracy_score(y_test, y_pred)\n",
        "precision = precision_score(y_test, y_pred)\n",
        "recall = recall_score(y_test, y_pred)\n",
        "f1 = f1_score(y_test, y_pred)\n",
        "\n",
        "# Exibindo as métricas\n",
        "print(f\"Acurácia: {accuracy:.2f}\")\n",
        "print(f\"Precisão: {precision:.2f}\")\n",
        "print(f\"Recall: {recall:.2f}\")\n",
        "print(f\"F1-Score: {f1:.2f}\")"
      ]
    },
    {
      "cell_type": "code",
      "execution_count": null,
      "metadata": {
        "id": "L1bbRPNvwRJ6"
      },
      "outputs": [],
      "source": [
        "# Treinando um modelo de regressão linear\n",
        "model = RandomForestClassifier()\n",
        "rfc = model.fit(X_train, y_train)\n",
        "\n",
        "# Fazendo previsões no conjunto de teste\n",
        "y_pred = rfc.predict(X_test)"
      ]
    },
    {
      "cell_type": "code",
      "execution_count": null,
      "metadata": {
        "colab": {
          "base_uri": "https://localhost:8080/"
        },
        "id": "pJ0LHz2ORhH-",
        "outputId": "7b483941-1369-4525-bbc6-7e47a1a44d9b"
      },
      "outputs": [
        {
          "output_type": "stream",
          "name": "stdout",
          "text": [
            "Acurácia: 0.87\n",
            "Precisão: 0.84\n",
            "Recall: 1.00\n",
            "F1-Score: 0.92\n"
          ]
        }
      ],
      "source": [
        "# Calculando as métricas de classificação\n",
        "accuracy = accuracy_score(y_test, y_pred)\n",
        "precision = precision_score(y_test, y_pred)\n",
        "recall = recall_score(y_test, y_pred)\n",
        "f1 = f1_score(y_test, y_pred)\n",
        "\n",
        "# Exibindo as métricas\n",
        "print(f\"Acurácia: {accuracy:.2f}\")\n",
        "print(f\"Precisão: {precision:.2f}\")\n",
        "print(f\"Recall: {recall:.2f}\")\n",
        "print(f\"F1-Score: {f1:.2f}\")"
      ]
    },
    {
      "cell_type": "code",
      "execution_count": null,
      "metadata": {
        "id": "22xAFv68q4eN"
      },
      "outputs": [],
      "source": [
        "# Treinando um modelo knc\n",
        "model = KNeighborsClassifier()\n",
        "knc = model.fit(X_train,y_train)\n",
        "\n",
        "# Fazendo previsões no conjunto de teste\n",
        "y_pred = knc.predict(X_test)"
      ]
    },
    {
      "cell_type": "code",
      "execution_count": null,
      "metadata": {
        "colab": {
          "base_uri": "https://localhost:8080/"
        },
        "id": "K6FL0XLrrcv8",
        "outputId": "b913ca5e-4691-4730-af25-6a4b33bb7b87"
      },
      "outputs": [
        {
          "output_type": "stream",
          "name": "stdout",
          "text": [
            "Acurácia: 0.90\n",
            "Precisão: 0.90\n",
            "Recall: 0.98\n",
            "F1-Score: 0.93\n"
          ]
        }
      ],
      "source": [
        "# Calculando as métricas de classificação\n",
        "accuracy = accuracy_score(y_test, y_pred)\n",
        "precision = precision_score(y_test, y_pred)\n",
        "recall = recall_score(y_test, y_pred)\n",
        "f1 = f1_score(y_test, y_pred)\n",
        "\n",
        "# Exibindo as métricas\n",
        "print(f\"Acurácia: {accuracy:.2f}\")\n",
        "print(f\"Precisão: {precision:.2f}\")\n",
        "print(f\"Recall: {recall:.2f}\")\n",
        "print(f\"F1-Score: {f1:.2f}\")"
      ]
    },
    {
      "cell_type": "code",
      "execution_count": null,
      "metadata": {
        "id": "bGPRdTIRuhi1"
      },
      "outputs": [],
      "source": [
        "model = XGBClassifier()\n",
        "xgb = model.fit(X_train, y_train)\n",
        "\n",
        "# Fazendo previsões no conjunto de teste\n",
        "y_pred = xgb.predict(X_test)"
      ]
    },
    {
      "cell_type": "code",
      "execution_count": null,
      "metadata": {
        "colab": {
          "base_uri": "https://localhost:8080/"
        },
        "id": "LjP4ohEVwSJu",
        "outputId": "e95a0dc7-cece-4e3e-b713-bc62bfb866e8"
      },
      "outputs": [
        {
          "output_type": "stream",
          "name": "stdout",
          "text": [
            "Acurácia: 0.88\n",
            "Precisão: 0.88\n",
            "Recall: 0.96\n",
            "F1-Score: 0.92\n"
          ]
        }
      ],
      "source": [
        "# Calculando as métricas de classificação\n",
        "accuracy = accuracy_score(y_test, y_pred)\n",
        "precision = precision_score(y_test, y_pred)\n",
        "recall = recall_score(y_test, y_pred)\n",
        "f1 = f1_score(y_test, y_pred)\n",
        "\n",
        "# Exibindo as métricas\n",
        "print(f\"Acurácia: {accuracy:.2f}\")\n",
        "print(f\"Precisão: {precision:.2f}\")\n",
        "print(f\"Recall: {recall:.2f}\")\n",
        "print(f\"F1-Score: {f1:.2f}\")"
      ]
    },
    {
      "cell_type": "code",
      "execution_count": null,
      "metadata": {
        "colab": {
          "base_uri": "https://localhost:8080/"
        },
        "id": "1NroFHv-wWpb",
        "outputId": "cb9e0387-0872-49d0-8a56-111941b49c92"
      },
      "outputs": [
        {
          "output_type": "stream",
          "name": "stdout",
          "text": [
            "[LightGBM] [Info] Number of positive: 367, number of negative: 80\n",
            "[LightGBM] [Info] Auto-choosing col-wise multi-threading, the overhead of testing was 0.001109 seconds.\n",
            "You can set `force_col_wise=true` to remove the overhead.\n",
            "[LightGBM] [Info] Total Bins 1948\n",
            "[LightGBM] [Info] Number of data points in the train set: 447, number of used features: 13\n",
            "[LightGBM] [Info] [binary:BoostFromScore]: pavg=0.821029 -> initscore=1.523335\n",
            "[LightGBM] [Info] Start training from score 1.523335\n",
            "[LightGBM] [Warning] No further splits with positive gain, best gain: -inf\n",
            "[LightGBM] [Warning] No further splits with positive gain, best gain: -inf\n",
            "[LightGBM] [Warning] No further splits with positive gain, best gain: -inf\n",
            "[LightGBM] [Warning] No further splits with positive gain, best gain: -inf\n",
            "[LightGBM] [Warning] No further splits with positive gain, best gain: -inf\n",
            "[LightGBM] [Warning] No further splits with positive gain, best gain: -inf\n",
            "[LightGBM] [Warning] No further splits with positive gain, best gain: -inf\n",
            "[LightGBM] [Warning] No further splits with positive gain, best gain: -inf\n",
            "[LightGBM] [Warning] No further splits with positive gain, best gain: -inf\n",
            "[LightGBM] [Warning] No further splits with positive gain, best gain: -inf\n",
            "[LightGBM] [Warning] No further splits with positive gain, best gain: -inf\n",
            "[LightGBM] [Warning] No further splits with positive gain, best gain: -inf\n",
            "[LightGBM] [Warning] No further splits with positive gain, best gain: -inf\n",
            "[LightGBM] [Warning] No further splits with positive gain, best gain: -inf\n",
            "[LightGBM] [Warning] No further splits with positive gain, best gain: -inf\n",
            "[LightGBM] [Warning] No further splits with positive gain, best gain: -inf\n",
            "[LightGBM] [Warning] No further splits with positive gain, best gain: -inf\n",
            "[LightGBM] [Warning] No further splits with positive gain, best gain: -inf\n",
            "[LightGBM] [Warning] No further splits with positive gain, best gain: -inf\n",
            "[LightGBM] [Warning] No further splits with positive gain, best gain: -inf\n",
            "[LightGBM] [Warning] No further splits with positive gain, best gain: -inf\n",
            "[LightGBM] [Warning] No further splits with positive gain, best gain: -inf\n",
            "[LightGBM] [Warning] No further splits with positive gain, best gain: -inf\n",
            "[LightGBM] [Warning] No further splits with positive gain, best gain: -inf\n",
            "[LightGBM] [Warning] No further splits with positive gain, best gain: -inf\n",
            "[LightGBM] [Warning] No further splits with positive gain, best gain: -inf\n",
            "[LightGBM] [Warning] No further splits with positive gain, best gain: -inf\n",
            "[LightGBM] [Warning] No further splits with positive gain, best gain: -inf\n",
            "[LightGBM] [Warning] No further splits with positive gain, best gain: -inf\n",
            "[LightGBM] [Warning] No further splits with positive gain, best gain: -inf\n",
            "[LightGBM] [Warning] No further splits with positive gain, best gain: -inf\n",
            "[LightGBM] [Warning] No further splits with positive gain, best gain: -inf\n",
            "[LightGBM] [Warning] No further splits with positive gain, best gain: -inf\n",
            "[LightGBM] [Warning] No further splits with positive gain, best gain: -inf\n",
            "[LightGBM] [Warning] No further splits with positive gain, best gain: -inf\n",
            "[LightGBM] [Warning] No further splits with positive gain, best gain: -inf\n",
            "[LightGBM] [Warning] No further splits with positive gain, best gain: -inf\n",
            "[LightGBM] [Warning] No further splits with positive gain, best gain: -inf\n",
            "[LightGBM] [Warning] No further splits with positive gain, best gain: -inf\n",
            "[LightGBM] [Warning] No further splits with positive gain, best gain: -inf\n",
            "[LightGBM] [Warning] No further splits with positive gain, best gain: -inf\n",
            "[LightGBM] [Warning] No further splits with positive gain, best gain: -inf\n",
            "[LightGBM] [Warning] No further splits with positive gain, best gain: -inf\n",
            "[LightGBM] [Warning] No further splits with positive gain, best gain: -inf\n",
            "[LightGBM] [Warning] No further splits with positive gain, best gain: -inf\n",
            "[LightGBM] [Warning] No further splits with positive gain, best gain: -inf\n",
            "[LightGBM] [Warning] No further splits with positive gain, best gain: -inf\n",
            "[LightGBM] [Warning] No further splits with positive gain, best gain: -inf\n",
            "[LightGBM] [Warning] No further splits with positive gain, best gain: -inf\n",
            "[LightGBM] [Warning] No further splits with positive gain, best gain: -inf\n",
            "[LightGBM] [Warning] No further splits with positive gain, best gain: -inf\n",
            "[LightGBM] [Warning] No further splits with positive gain, best gain: -inf\n",
            "[LightGBM] [Warning] No further splits with positive gain, best gain: -inf\n",
            "[LightGBM] [Warning] No further splits with positive gain, best gain: -inf\n",
            "[LightGBM] [Warning] No further splits with positive gain, best gain: -inf\n",
            "[LightGBM] [Warning] No further splits with positive gain, best gain: -inf\n",
            "[LightGBM] [Warning] No further splits with positive gain, best gain: -inf\n",
            "[LightGBM] [Warning] No further splits with positive gain, best gain: -inf\n",
            "[LightGBM] [Warning] No further splits with positive gain, best gain: -inf\n",
            "[LightGBM] [Warning] No further splits with positive gain, best gain: -inf\n",
            "[LightGBM] [Warning] No further splits with positive gain, best gain: -inf\n",
            "[LightGBM] [Warning] No further splits with positive gain, best gain: -inf\n",
            "[LightGBM] [Warning] No further splits with positive gain, best gain: -inf\n",
            "[LightGBM] [Warning] No further splits with positive gain, best gain: -inf\n",
            "[LightGBM] [Warning] No further splits with positive gain, best gain: -inf\n",
            "[LightGBM] [Warning] No further splits with positive gain, best gain: -inf\n",
            "[LightGBM] [Warning] No further splits with positive gain, best gain: -inf\n",
            "[LightGBM] [Warning] No further splits with positive gain, best gain: -inf\n",
            "[LightGBM] [Warning] No further splits with positive gain, best gain: -inf\n",
            "[LightGBM] [Warning] No further splits with positive gain, best gain: -inf\n",
            "[LightGBM] [Warning] No further splits with positive gain, best gain: -inf\n",
            "[LightGBM] [Warning] No further splits with positive gain, best gain: -inf\n",
            "[LightGBM] [Warning] No further splits with positive gain, best gain: -inf\n",
            "[LightGBM] [Warning] No further splits with positive gain, best gain: -inf\n",
            "[LightGBM] [Warning] No further splits with positive gain, best gain: -inf\n",
            "[LightGBM] [Warning] No further splits with positive gain, best gain: -inf\n",
            "[LightGBM] [Warning] No further splits with positive gain, best gain: -inf\n",
            "[LightGBM] [Warning] No further splits with positive gain, best gain: -inf\n",
            "[LightGBM] [Warning] No further splits with positive gain, best gain: -inf\n",
            "[LightGBM] [Warning] No further splits with positive gain, best gain: -inf\n",
            "[LightGBM] [Warning] No further splits with positive gain, best gain: -inf\n",
            "[LightGBM] [Warning] No further splits with positive gain, best gain: -inf\n",
            "[LightGBM] [Warning] No further splits with positive gain, best gain: -inf\n",
            "[LightGBM] [Warning] No further splits with positive gain, best gain: -inf\n",
            "[LightGBM] [Warning] No further splits with positive gain, best gain: -inf\n",
            "[LightGBM] [Warning] No further splits with positive gain, best gain: -inf\n",
            "[LightGBM] [Warning] No further splits with positive gain, best gain: -inf\n",
            "[LightGBM] [Warning] No further splits with positive gain, best gain: -inf\n",
            "[LightGBM] [Warning] No further splits with positive gain, best gain: -inf\n",
            "[LightGBM] [Warning] No further splits with positive gain, best gain: -inf\n",
            "[LightGBM] [Warning] No further splits with positive gain, best gain: -inf\n",
            "[LightGBM] [Warning] No further splits with positive gain, best gain: -inf\n",
            "[LightGBM] [Warning] No further splits with positive gain, best gain: -inf\n",
            "[LightGBM] [Warning] No further splits with positive gain, best gain: -inf\n",
            "[LightGBM] [Warning] No further splits with positive gain, best gain: -inf\n",
            "[LightGBM] [Warning] No further splits with positive gain, best gain: -inf\n",
            "[LightGBM] [Warning] No further splits with positive gain, best gain: -inf\n",
            "[LightGBM] [Warning] No further splits with positive gain, best gain: -inf\n",
            "[LightGBM] [Warning] No further splits with positive gain, best gain: -inf\n",
            "[LightGBM] [Warning] No further splits with positive gain, best gain: -inf\n"
          ]
        }
      ],
      "source": [
        "model = LGBMClassifier(n_estimators=100, learning_rate=0.1, num_leaves=31)\n",
        "LGBMC = model.fit(X_train, y_train)\n",
        "\n",
        "y_pred = LGBMC.predict(X_test)"
      ]
    },
    {
      "cell_type": "code",
      "execution_count": null,
      "metadata": {
        "colab": {
          "base_uri": "https://localhost:8080/"
        },
        "id": "T59Ic6lQwjRh",
        "outputId": "697fa516-11ef-4090-e809-f6d96cc86fc9"
      },
      "outputs": [
        {
          "output_type": "stream",
          "name": "stdout",
          "text": [
            "Acurácia: 0.92\n",
            "Precisão: 0.92\n",
            "Recall: 0.98\n",
            "F1-Score: 0.95\n"
          ]
        }
      ],
      "source": [
        "# Calculando as métricas de classificação\n",
        "accuracy = accuracy_score(y_test, y_pred)\n",
        "precision = precision_score(y_test, y_pred)\n",
        "recall = recall_score(y_test, y_pred)\n",
        "f1 = f1_score(y_test, y_pred)\n",
        "\n",
        "# Exibindo as métricas\n",
        "print(f\"Acurácia: {accuracy:.2f}\")\n",
        "print(f\"Precisão: {precision:.2f}\")\n",
        "print(f\"Recall: {recall:.2f}\")\n",
        "print(f\"F1-Score: {f1:.2f}\")"
      ]
    },
    {
      "cell_type": "code",
      "execution_count": null,
      "metadata": {
        "colab": {
          "base_uri": "https://localhost:8080/"
        },
        "id": "RhJL0hg7xBoC",
        "outputId": "e91aad09-cd75-48b5-e623-6747ef116612"
      },
      "outputs": [
        {
          "output_type": "stream",
          "name": "stdout",
          "text": [
            "Epoch 1/10\n"
          ]
        },
        {
          "output_type": "stream",
          "name": "stderr",
          "text": [
            "/usr/local/lib/python3.11/dist-packages/keras/src/layers/core/dense.py:87: UserWarning: Do not pass an `input_shape`/`input_dim` argument to a layer. When using Sequential models, prefer using an `Input(shape)` object as the first layer in the model instead.\n",
            "  super().__init__(activity_regularizer=activity_regularizer, **kwargs)\n"
          ]
        },
        {
          "output_type": "stream",
          "name": "stdout",
          "text": [
            "\u001b[1m14/14\u001b[0m \u001b[32m━━━━━━━━━━━━━━━━━━━━\u001b[0m\u001b[37m\u001b[0m \u001b[1m1s\u001b[0m 4ms/step - accuracy: 0.7041 - loss: 2.3727\n",
            "Epoch 2/10\n",
            "\u001b[1m14/14\u001b[0m \u001b[32m━━━━━━━━━━━━━━━━━━━━\u001b[0m\u001b[37m\u001b[0m \u001b[1m0s\u001b[0m 4ms/step - accuracy: 0.7360 - loss: 1.4961 \n",
            "Epoch 3/10\n",
            "\u001b[1m14/14\u001b[0m \u001b[32m━━━━━━━━━━━━━━━━━━━━\u001b[0m\u001b[37m\u001b[0m \u001b[1m0s\u001b[0m 4ms/step - accuracy: 0.7482 - loss: 1.2451 \n",
            "Epoch 4/10\n",
            "\u001b[1m14/14\u001b[0m \u001b[32m━━━━━━━━━━━━━━━━━━━━\u001b[0m\u001b[37m\u001b[0m \u001b[1m0s\u001b[0m 4ms/step - accuracy: 0.7667 - loss: 0.7030 \n",
            "Epoch 5/10\n",
            "\u001b[1m14/14\u001b[0m \u001b[32m━━━━━━━━━━━━━━━━━━━━\u001b[0m\u001b[37m\u001b[0m \u001b[1m0s\u001b[0m 4ms/step - accuracy: 0.7829 - loss: 0.5734 \n",
            "Epoch 6/10\n",
            "\u001b[1m14/14\u001b[0m \u001b[32m━━━━━━━━━━━━━━━━━━━━\u001b[0m\u001b[37m\u001b[0m \u001b[1m0s\u001b[0m 4ms/step - accuracy: 0.8291 - loss: 0.4259 \n",
            "Epoch 7/10\n",
            "\u001b[1m14/14\u001b[0m \u001b[32m━━━━━━━━━━━━━━━━━━━━\u001b[0m\u001b[37m\u001b[0m \u001b[1m0s\u001b[0m 4ms/step - accuracy: 0.8266 - loss: 0.5102 \n",
            "Epoch 8/10\n",
            "\u001b[1m14/14\u001b[0m \u001b[32m━━━━━━━━━━━━━━━━━━━━\u001b[0m\u001b[37m\u001b[0m \u001b[1m0s\u001b[0m 4ms/step - accuracy: 0.8453 - loss: 0.3800 \n",
            "Epoch 9/10\n",
            "\u001b[1m14/14\u001b[0m \u001b[32m━━━━━━━━━━━━━━━━━━━━\u001b[0m\u001b[37m\u001b[0m \u001b[1m0s\u001b[0m 4ms/step - accuracy: 0.8704 - loss: 0.3383 \n",
            "Epoch 10/10\n",
            "\u001b[1m14/14\u001b[0m \u001b[32m━━━━━━━━━━━━━━━━━━━━\u001b[0m\u001b[37m\u001b[0m \u001b[1m0s\u001b[0m 4ms/step - accuracy: 0.8845 - loss: 0.3150 \n",
            "\u001b[1m4/4\u001b[0m \u001b[32m━━━━━━━━━━━━━━━━━━━━\u001b[0m\u001b[37m\u001b[0m \u001b[1m0s\u001b[0m 19ms/step\n"
          ]
        }
      ],
      "source": [
        "# Definição do modelo\n",
        "input_shape = (X_train.shape[1],)  # Número de colunas do conjunto de treino\n",
        "model = tf.keras.Sequential([\n",
        "    tf.keras.layers.Dense(64, activation='relu', input_shape=input_shape),\n",
        "    tf.keras.layers.Dense(1, activation='sigmoid')\n",
        "])\n",
        "\n",
        "# Compilação e treinamento\n",
        "model.compile(optimizer='adam', loss='binary_crossentropy', metrics=['accuracy'])\n",
        "model.fit(X_train, y_train, epochs=10, batch_size=32)\n",
        "\n",
        "# Predições e métricas\n",
        "y_pred_proba = model.predict(X_test)  # Predições de probabilidade\n",
        "y_pred = (y_pred_proba > 0.5).astype(int)  # Converter para rótulos binários"
      ]
    },
    {
      "cell_type": "code",
      "execution_count": null,
      "metadata": {
        "colab": {
          "base_uri": "https://localhost:8080/"
        },
        "id": "z-fPqWyKxE2H",
        "outputId": "78ba4063-9eb6-4c11-d8aa-6960d5bc83df"
      },
      "outputs": [
        {
          "output_type": "stream",
          "name": "stdout",
          "text": [
            "Acurácia: 0.79\n",
            "Precisão: 0.78\n",
            "Recall: 0.99\n",
            "F1-Score: 0.87\n"
          ]
        }
      ],
      "source": [
        "# Calculando as métricas de classificação\n",
        "accuracy = accuracy_score(y_test, y_pred)\n",
        "precision = precision_score(y_test, y_pred)\n",
        "recall = recall_score(y_test, y_pred)\n",
        "f1 = f1_score(y_test, y_pred)\n",
        "\n",
        "# Exibindo as métricas\n",
        "print(f\"Acurácia: {accuracy:.2f}\")\n",
        "print(f\"Precisão: {precision:.2f}\")\n",
        "print(f\"Recall: {recall:.2f}\")\n",
        "print(f\"F1-Score: {f1:.2f}\")"
      ]
    },
    {
      "cell_type": "code",
      "execution_count": null,
      "metadata": {
        "id": "PaAvjd4NwzUb"
      },
      "outputs": [],
      "source": [
        "model = DecisionTreeClassifier(criterion='gini', random_state=42)\n",
        "DTC = model.fit(X_train, y_train)\n",
        "\n",
        "y_pred = DTC.predict(X_test)"
      ]
    },
    {
      "cell_type": "code",
      "execution_count": null,
      "metadata": {
        "colab": {
          "base_uri": "https://localhost:8080/"
        },
        "id": "V0yq3DxGw0oE",
        "outputId": "bcc9120a-10c0-456c-ad38-4454f640b177"
      },
      "outputs": [
        {
          "output_type": "stream",
          "name": "stdout",
          "text": [
            "Acurácia: 0.88\n",
            "Precisão: 0.87\n",
            "Recall: 0.98\n",
            "F1-Score: 0.92\n"
          ]
        }
      ],
      "source": [
        "# Calculando as métricas de classificação\n",
        "accuracy = accuracy_score(y_test, y_pred)\n",
        "precision = precision_score(y_test, y_pred)\n",
        "recall = recall_score(y_test, y_pred)\n",
        "f1 = f1_score(y_test, y_pred)\n",
        "\n",
        "# Exibindo as métricas\n",
        "print(f\"Acurácia: {accuracy:.2f}\")\n",
        "print(f\"Precisão: {precision:.2f}\")\n",
        "print(f\"Recall: {recall:.2f}\")\n",
        "print(f\"F1-Score: {f1:.2f}\")"
      ]
    },
    {
      "cell_type": "code",
      "execution_count": null,
      "metadata": {
        "colab": {
          "base_uri": "https://localhost:8080/"
        },
        "id": "LOVzSRHqxMwP",
        "outputId": "776be4f0-0210-40e7-a612-50b58706e410"
      },
      "outputs": [
        {
          "output_type": "stream",
          "name": "stdout",
          "text": [
            "Epoch 1/10\n"
          ]
        },
        {
          "output_type": "stream",
          "name": "stderr",
          "text": [
            "/usr/local/lib/python3.11/dist-packages/keras/src/layers/convolutional/base_conv.py:107: UserWarning: Do not pass an `input_shape`/`input_dim` argument to a layer. When using Sequential models, prefer using an `Input(shape)` object as the first layer in the model instead.\n",
            "  super().__init__(activity_regularizer=activity_regularizer, **kwargs)\n"
          ]
        },
        {
          "output_type": "stream",
          "name": "stdout",
          "text": [
            "\u001b[1m14/14\u001b[0m \u001b[32m━━━━━━━━━━━━━━━━━━━━\u001b[0m\u001b[37m\u001b[0m \u001b[1m2s\u001b[0m 7ms/step - accuracy: 0.7826 - loss: 0.8493\n",
            "Epoch 2/10\n",
            "\u001b[1m14/14\u001b[0m \u001b[32m━━━━━━━━━━━━━━━━━━━━\u001b[0m\u001b[37m\u001b[0m \u001b[1m0s\u001b[0m 6ms/step - accuracy: 0.7715 - loss: 0.7399 \n",
            "Epoch 3/10\n",
            "\u001b[1m14/14\u001b[0m \u001b[32m━━━━━━━━━━━━━━━━━━━━\u001b[0m\u001b[37m\u001b[0m \u001b[1m0s\u001b[0m 8ms/step - accuracy: 0.8409 - loss: 0.4002\n",
            "Epoch 4/10\n",
            "\u001b[1m14/14\u001b[0m \u001b[32m━━━━━━━━━━━━━━━━━━━━\u001b[0m\u001b[37m\u001b[0m \u001b[1m0s\u001b[0m 9ms/step - accuracy: 0.8616 - loss: 0.3182 \n",
            "Epoch 5/10\n",
            "\u001b[1m14/14\u001b[0m \u001b[32m━━━━━━━━━━━━━━━━━━━━\u001b[0m\u001b[37m\u001b[0m \u001b[1m0s\u001b[0m 8ms/step - accuracy: 0.8750 - loss: 0.2790\n",
            "Epoch 6/10\n",
            "\u001b[1m14/14\u001b[0m \u001b[32m━━━━━━━━━━━━━━━━━━━━\u001b[0m\u001b[37m\u001b[0m \u001b[1m0s\u001b[0m 10ms/step - accuracy: 0.8841 - loss: 0.2826\n",
            "Epoch 7/10\n",
            "\u001b[1m14/14\u001b[0m \u001b[32m━━━━━━━━━━━━━━━━━━━━\u001b[0m\u001b[37m\u001b[0m \u001b[1m0s\u001b[0m 8ms/step - accuracy: 0.8836 - loss: 0.3094\n",
            "Epoch 8/10\n",
            "\u001b[1m14/14\u001b[0m \u001b[32m━━━━━━━━━━━━━━━━━━━━\u001b[0m\u001b[37m\u001b[0m \u001b[1m0s\u001b[0m 7ms/step - accuracy: 0.8941 - loss: 0.2602\n",
            "Epoch 9/10\n",
            "\u001b[1m14/14\u001b[0m \u001b[32m━━━━━━━━━━━━━━━━━━━━\u001b[0m\u001b[37m\u001b[0m \u001b[1m0s\u001b[0m 9ms/step - accuracy: 0.9187 - loss: 0.2497\n",
            "Epoch 10/10\n",
            "\u001b[1m14/14\u001b[0m \u001b[32m━━━━━━━━━━━━━━━━━━━━\u001b[0m\u001b[37m\u001b[0m \u001b[1m0s\u001b[0m 9ms/step - accuracy: 0.8948 - loss: 0.2464\n"
          ]
        },
        {
          "output_type": "stream",
          "name": "stderr",
          "text": [
            "WARNING:tensorflow:5 out of the last 9 calls to <function TensorFlowTrainer.make_predict_function.<locals>.one_step_on_data_distributed at 0x7d9cfc105620> triggered tf.function retracing. Tracing is expensive and the excessive number of tracings could be due to (1) creating @tf.function repeatedly in a loop, (2) passing tensors with different shapes, (3) passing Python objects instead of tensors. For (1), please define your @tf.function outside of the loop. For (2), @tf.function has reduce_retracing=True option that can avoid unnecessary retracing. For (3), please refer to https://www.tensorflow.org/guide/function#controlling_retracing and https://www.tensorflow.org/api_docs/python/tf/function for  more details.\n"
          ]
        },
        {
          "output_type": "stream",
          "name": "stdout",
          "text": [
            "\r\u001b[1m1/4\u001b[0m \u001b[32m━━━━━\u001b[0m\u001b[37m━━━━━━━━━━━━━━━\u001b[0m \u001b[1m0s\u001b[0m 103ms/step"
          ]
        },
        {
          "output_type": "stream",
          "name": "stderr",
          "text": [
            "WARNING:tensorflow:6 out of the last 12 calls to <function TensorFlowTrainer.make_predict_function.<locals>.one_step_on_data_distributed at 0x7d9cfc105620> triggered tf.function retracing. Tracing is expensive and the excessive number of tracings could be due to (1) creating @tf.function repeatedly in a loop, (2) passing tensors with different shapes, (3) passing Python objects instead of tensors. For (1), please define your @tf.function outside of the loop. For (2), @tf.function has reduce_retracing=True option that can avoid unnecessary retracing. For (3), please refer to https://www.tensorflow.org/guide/function#controlling_retracing and https://www.tensorflow.org/api_docs/python/tf/function for  more details.\n"
          ]
        },
        {
          "output_type": "stream",
          "name": "stdout",
          "text": [
            "\u001b[1m4/4\u001b[0m \u001b[32m━━━━━━━━━━━━━━━━━━━━\u001b[0m\u001b[37m\u001b[0m \u001b[1m0s\u001b[0m 42ms/step\n"
          ]
        }
      ],
      "source": [
        "# Definição do modelo Conv1D\n",
        "input_shape = (X_train.shape[1], 1)  # Número de características e 1 canal\n",
        "model = tf.keras.Sequential([\n",
        "    tf.keras.layers.Conv1D(32, kernel_size=3, activation='relu', input_shape=input_shape),\n",
        "    tf.keras.layers.Flatten(),\n",
        "    tf.keras.layers.Dense(1, activation='sigmoid')\n",
        "])\n",
        "\n",
        "# Compilação e treinamento do modelo\n",
        "model.compile(optimizer='adam', loss='binary_crossentropy', metrics=['accuracy'])\n",
        "model.fit(X_train, y_train, epochs=10, batch_size=32)\n",
        "\n",
        "# Predições e métricas\n",
        "y_pred_proba = model.predict(X_test)  # Predições de probabilidade\n",
        "y_pred = (y_pred_proba > 0.5).astype(int)  # Converter para rótulos binários"
      ]
    },
    {
      "cell_type": "code",
      "execution_count": null,
      "metadata": {
        "colab": {
          "base_uri": "https://localhost:8080/"
        },
        "id": "BiZQ_V9txPtx",
        "outputId": "3ee1247e-aa6c-43de-f27d-02be95b6d1da"
      },
      "outputs": [
        {
          "output_type": "stream",
          "name": "stdout",
          "text": [
            "Acurácia: 0.87\n",
            "Precisão: 0.85\n",
            "Recall: 0.99\n",
            "F1-Score: 0.91\n"
          ]
        }
      ],
      "source": [
        "# Calculando as métricas de classificação\n",
        "accuracy = accuracy_score(y_test, y_pred)\n",
        "precision = precision_score(y_test, y_pred)\n",
        "recall = recall_score(y_test, y_pred)\n",
        "f1 = f1_score(y_test, y_pred)\n",
        "\n",
        "# Exibindo as métricas\n",
        "print(f\"Acurácia: {accuracy:.2f}\")\n",
        "print(f\"Precisão: {precision:.2f}\")\n",
        "print(f\"Recall: {recall:.2f}\")\n",
        "print(f\"F1-Score: {f1:.2f}\")"
      ]
    },
    {
      "cell_type": "code",
      "execution_count": null,
      "metadata": {
        "id": "F8gbkj4O2-NT"
      },
      "outputs": [],
      "source": [
        "def random_equalizer(y):\n",
        "    gain = np.random.uniform(0.5, 2.0)\n",
        "    return y * gain"
      ]
    },
    {
      "cell_type": "code",
      "execution_count": null,
      "metadata": {
        "id": "Fw9eQjVI5m0N"
      },
      "outputs": [],
      "source": [
        "# Caminho para os dados no Google Drive\n",
        "output_path = '/content/drive/MyDrive/audios_FOR/amostra_FOR_equalizado'\n",
        "\n",
        "# Criação das pastas de destino se não existirem\n",
        "os.makedirs(os.path.join(output_path, 'real'), exist_ok=True)\n",
        "os.makedirs(os.path.join(output_path, 'fake'), exist_ok=True)\n",
        "\n",
        "# Listas para armazenar as características e rótulos com equalização aleatória\n",
        "data_random_equalizer = []  # Dados com equalização aleatória\n",
        "labels_random_equalizer = []  # Rótulos com equalização aleatória\n",
        "\n",
        "# Processar Fake\n",
        "for file_name in os.listdir(file_path_fake):\n",
        "    file_path = os.path.join(file_path_fake, file_name)\n",
        "    y, sr = librosa.load(file_path, sr=None)\n",
        "\n",
        "    # Versão original\n",
        "    features = np.mean(librosa.feature.mfcc(y=y, sr=sr, n_mfcc=13).T, axis=0)\n",
        "    data_random_equalizer.append(features)\n",
        "    labels_random_equalizer.append(0)  # Rótulo \"fake\"\n",
        "\n",
        "    # Aplicar equalização aleatória\n",
        "    y_eq = random_equalizer(y)  # Equalização aleatória\n",
        "    features_eq = np.mean(librosa.feature.mfcc(y=y_eq, sr=sr, n_mfcc=13).T, axis=0)\n",
        "    data_random_equalizer.append(features_eq)\n",
        "    labels_random_equalizer.append(0)  # Rótulo \"fake\"\n",
        "\n",
        "    # Salvar áudio original na pasta 'fake'\n",
        "    output_file_path = os.path.join(output_path, 'fake', file_name)\n",
        "    sf.write(output_file_path, y, sr)  # Salvando a versão original\n",
        "\n",
        "    # Salvar áudio com equalização aleatória na pasta 'fake' (com sufixo \"_eq\")\n",
        "    output_file_path_eq = os.path.join(output_path, 'fake', file_name.replace('.wav', '_eq.wav'))\n",
        "    sf.write(output_file_path_eq, y_eq, sr)  # Salvando a versão com equalização aleatória\n",
        "\n",
        "# Processar Real\n",
        "for file_name in os.listdir(file_path_real):\n",
        "    file_path = os.path.join(file_path_real, file_name)\n",
        "    y, sr = librosa.load(file_path, sr=None)\n",
        "\n",
        "    # Versão original\n",
        "    features = np.mean(librosa.feature.mfcc(y=y, sr=sr, n_mfcc=13).T, axis=0)\n",
        "    data_random_equalizer.append(features)\n",
        "    labels_random_equalizer.append(1)  # Rótulo \"real\"\n",
        "\n",
        "    # Aplicar equalização aleatória\n",
        "    y_eq = random_equalizer(y)  # Equalização aleatória\n",
        "    features_eq = np.mean(librosa.feature.mfcc(y=y_eq, sr=sr, n_mfcc=13).T, axis=0)\n",
        "    data_random_equalizer.append(features_eq)\n",
        "    labels_random_equalizer.append(1)  # Rótulo \"real\"\n",
        "\n",
        "    # Salvar áudio original na pasta 'real'\n",
        "    output_file_path = os.path.join(output_path, 'real', file_name)\n",
        "    sf.write(output_file_path, y, sr)  # Salvando a versão original\n",
        "\n",
        "    # Salvar áudio com equalização aleatória na pasta 'real' (com sufixo \"_eq\")\n",
        "    output_file_path_eq = os.path.join(output_path, 'real', file_name.replace('.wav', '_eq.wav'))\n",
        "    sf.write(output_file_path_eq, y_eq, sr)  # Salvando a versão com equalização aleatória"
      ]
    },
    {
      "cell_type": "code",
      "execution_count": null,
      "metadata": {
        "id": "OzYyoWg95zvq"
      },
      "outputs": [],
      "source": [
        "# Converter para DataFrame\n",
        "df_random_equalizer = pd.DataFrame(data_random_equalizer)\n",
        "df_random_equalizer['label'] = labels_random_equalizer"
      ]
    },
    {
      "cell_type": "code",
      "execution_count": null,
      "metadata": {
        "colab": {
          "base_uri": "https://localhost:8080/",
          "height": 444
        },
        "id": "-7aQIYYV5zvr",
        "outputId": "862193bf-d4c2-4f6e-ea41-49b9d3ab1b35"
      },
      "outputs": [
        {
          "output_type": "execute_result",
          "data": {
            "text/plain": [
              "               0           1          2          3          4          5  \\\n",
              "0    -310.484985   79.589180  12.035122  21.775892   7.463613  -4.327323   \n",
              "1    -283.490753   79.589180  12.035122  21.775892   7.463614  -4.327323   \n",
              "2    -292.760193   85.521347 -18.103905  14.233822  -1.934288  -8.300287   \n",
              "3    -257.464691   85.521347 -18.103907  14.233820  -1.934288  -8.300288   \n",
              "4    -266.020477  106.608009 -11.326435  17.970966 -11.344944   1.250991   \n",
              "...          ...         ...        ...        ...        ...        ...   \n",
              "1113 -262.382599   69.085464   4.084009  22.119938 -11.278208 -25.925306   \n",
              "1114 -312.793549   82.430946   3.129900  14.186769 -18.484079 -25.799473   \n",
              "1115 -321.810272   82.430954   3.129897  14.186769 -18.484077 -25.799473   \n",
              "1116 -432.503387   52.231987  24.130854  24.908005   5.230207  10.177417   \n",
              "1117 -383.167389   52.231987  24.130854  24.908005   5.230207  10.177417   \n",
              "\n",
              "              6          7          8          9         10         11  \\\n",
              "0      1.702638   5.056441 -11.605008  -8.825641 -12.136454  -8.166679   \n",
              "1      1.702636   5.056441 -11.605009  -8.825641 -12.136454  -8.166678   \n",
              "2    -15.360986 -14.333099  -0.524541 -12.453050  -2.744914 -14.212177   \n",
              "3    -15.360986 -14.333099  -0.524541 -12.453050  -2.744914 -14.212177   \n",
              "4     -5.587977  -6.984388  -5.437147 -10.668830   6.232262 -13.461805   \n",
              "...         ...        ...        ...        ...        ...        ...   \n",
              "1113 -23.227934 -21.648050  -9.808347  -1.174034 -23.784950   1.368764   \n",
              "1114 -17.645624 -17.211958 -12.702026  -4.227543 -22.298204   0.184280   \n",
              "1115 -17.645622 -17.211958 -12.702025  -4.227544 -22.298206   0.184281   \n",
              "1116   1.667769  11.312072  14.200116  13.155353   9.546826  18.923155   \n",
              "1117   1.667769  11.312070  14.200116  13.155353   9.546827  18.923153   \n",
              "\n",
              "             12  label  \n",
              "0     -7.886450      0  \n",
              "1     -7.886451      0  \n",
              "2      0.993812      0  \n",
              "3      0.993813      0  \n",
              "4      6.319636      0  \n",
              "...         ...    ...  \n",
              "1113 -17.619232      1  \n",
              "1114 -17.449095      1  \n",
              "1115 -17.449099      1  \n",
              "1116   7.199302      1  \n",
              "1117   7.199302      1  \n",
              "\n",
              "[1118 rows x 14 columns]"
            ],
            "text/html": [
              "\n",
              "  <div id=\"df-73ae0880-5786-472f-a935-cf58fff5451b\" class=\"colab-df-container\">\n",
              "    <div>\n",
              "<style scoped>\n",
              "    .dataframe tbody tr th:only-of-type {\n",
              "        vertical-align: middle;\n",
              "    }\n",
              "\n",
              "    .dataframe tbody tr th {\n",
              "        vertical-align: top;\n",
              "    }\n",
              "\n",
              "    .dataframe thead th {\n",
              "        text-align: right;\n",
              "    }\n",
              "</style>\n",
              "<table border=\"1\" class=\"dataframe\">\n",
              "  <thead>\n",
              "    <tr style=\"text-align: right;\">\n",
              "      <th></th>\n",
              "      <th>0</th>\n",
              "      <th>1</th>\n",
              "      <th>2</th>\n",
              "      <th>3</th>\n",
              "      <th>4</th>\n",
              "      <th>5</th>\n",
              "      <th>6</th>\n",
              "      <th>7</th>\n",
              "      <th>8</th>\n",
              "      <th>9</th>\n",
              "      <th>10</th>\n",
              "      <th>11</th>\n",
              "      <th>12</th>\n",
              "      <th>label</th>\n",
              "    </tr>\n",
              "  </thead>\n",
              "  <tbody>\n",
              "    <tr>\n",
              "      <th>0</th>\n",
              "      <td>-310.484985</td>\n",
              "      <td>79.589180</td>\n",
              "      <td>12.035122</td>\n",
              "      <td>21.775892</td>\n",
              "      <td>7.463613</td>\n",
              "      <td>-4.327323</td>\n",
              "      <td>1.702638</td>\n",
              "      <td>5.056441</td>\n",
              "      <td>-11.605008</td>\n",
              "      <td>-8.825641</td>\n",
              "      <td>-12.136454</td>\n",
              "      <td>-8.166679</td>\n",
              "      <td>-7.886450</td>\n",
              "      <td>0</td>\n",
              "    </tr>\n",
              "    <tr>\n",
              "      <th>1</th>\n",
              "      <td>-283.490753</td>\n",
              "      <td>79.589180</td>\n",
              "      <td>12.035122</td>\n",
              "      <td>21.775892</td>\n",
              "      <td>7.463614</td>\n",
              "      <td>-4.327323</td>\n",
              "      <td>1.702636</td>\n",
              "      <td>5.056441</td>\n",
              "      <td>-11.605009</td>\n",
              "      <td>-8.825641</td>\n",
              "      <td>-12.136454</td>\n",
              "      <td>-8.166678</td>\n",
              "      <td>-7.886451</td>\n",
              "      <td>0</td>\n",
              "    </tr>\n",
              "    <tr>\n",
              "      <th>2</th>\n",
              "      <td>-292.760193</td>\n",
              "      <td>85.521347</td>\n",
              "      <td>-18.103905</td>\n",
              "      <td>14.233822</td>\n",
              "      <td>-1.934288</td>\n",
              "      <td>-8.300287</td>\n",
              "      <td>-15.360986</td>\n",
              "      <td>-14.333099</td>\n",
              "      <td>-0.524541</td>\n",
              "      <td>-12.453050</td>\n",
              "      <td>-2.744914</td>\n",
              "      <td>-14.212177</td>\n",
              "      <td>0.993812</td>\n",
              "      <td>0</td>\n",
              "    </tr>\n",
              "    <tr>\n",
              "      <th>3</th>\n",
              "      <td>-257.464691</td>\n",
              "      <td>85.521347</td>\n",
              "      <td>-18.103907</td>\n",
              "      <td>14.233820</td>\n",
              "      <td>-1.934288</td>\n",
              "      <td>-8.300288</td>\n",
              "      <td>-15.360986</td>\n",
              "      <td>-14.333099</td>\n",
              "      <td>-0.524541</td>\n",
              "      <td>-12.453050</td>\n",
              "      <td>-2.744914</td>\n",
              "      <td>-14.212177</td>\n",
              "      <td>0.993813</td>\n",
              "      <td>0</td>\n",
              "    </tr>\n",
              "    <tr>\n",
              "      <th>4</th>\n",
              "      <td>-266.020477</td>\n",
              "      <td>106.608009</td>\n",
              "      <td>-11.326435</td>\n",
              "      <td>17.970966</td>\n",
              "      <td>-11.344944</td>\n",
              "      <td>1.250991</td>\n",
              "      <td>-5.587977</td>\n",
              "      <td>-6.984388</td>\n",
              "      <td>-5.437147</td>\n",
              "      <td>-10.668830</td>\n",
              "      <td>6.232262</td>\n",
              "      <td>-13.461805</td>\n",
              "      <td>6.319636</td>\n",
              "      <td>0</td>\n",
              "    </tr>\n",
              "    <tr>\n",
              "      <th>...</th>\n",
              "      <td>...</td>\n",
              "      <td>...</td>\n",
              "      <td>...</td>\n",
              "      <td>...</td>\n",
              "      <td>...</td>\n",
              "      <td>...</td>\n",
              "      <td>...</td>\n",
              "      <td>...</td>\n",
              "      <td>...</td>\n",
              "      <td>...</td>\n",
              "      <td>...</td>\n",
              "      <td>...</td>\n",
              "      <td>...</td>\n",
              "      <td>...</td>\n",
              "    </tr>\n",
              "    <tr>\n",
              "      <th>1113</th>\n",
              "      <td>-262.382599</td>\n",
              "      <td>69.085464</td>\n",
              "      <td>4.084009</td>\n",
              "      <td>22.119938</td>\n",
              "      <td>-11.278208</td>\n",
              "      <td>-25.925306</td>\n",
              "      <td>-23.227934</td>\n",
              "      <td>-21.648050</td>\n",
              "      <td>-9.808347</td>\n",
              "      <td>-1.174034</td>\n",
              "      <td>-23.784950</td>\n",
              "      <td>1.368764</td>\n",
              "      <td>-17.619232</td>\n",
              "      <td>1</td>\n",
              "    </tr>\n",
              "    <tr>\n",
              "      <th>1114</th>\n",
              "      <td>-312.793549</td>\n",
              "      <td>82.430946</td>\n",
              "      <td>3.129900</td>\n",
              "      <td>14.186769</td>\n",
              "      <td>-18.484079</td>\n",
              "      <td>-25.799473</td>\n",
              "      <td>-17.645624</td>\n",
              "      <td>-17.211958</td>\n",
              "      <td>-12.702026</td>\n",
              "      <td>-4.227543</td>\n",
              "      <td>-22.298204</td>\n",
              "      <td>0.184280</td>\n",
              "      <td>-17.449095</td>\n",
              "      <td>1</td>\n",
              "    </tr>\n",
              "    <tr>\n",
              "      <th>1115</th>\n",
              "      <td>-321.810272</td>\n",
              "      <td>82.430954</td>\n",
              "      <td>3.129897</td>\n",
              "      <td>14.186769</td>\n",
              "      <td>-18.484077</td>\n",
              "      <td>-25.799473</td>\n",
              "      <td>-17.645622</td>\n",
              "      <td>-17.211958</td>\n",
              "      <td>-12.702025</td>\n",
              "      <td>-4.227544</td>\n",
              "      <td>-22.298206</td>\n",
              "      <td>0.184281</td>\n",
              "      <td>-17.449099</td>\n",
              "      <td>1</td>\n",
              "    </tr>\n",
              "    <tr>\n",
              "      <th>1116</th>\n",
              "      <td>-432.503387</td>\n",
              "      <td>52.231987</td>\n",
              "      <td>24.130854</td>\n",
              "      <td>24.908005</td>\n",
              "      <td>5.230207</td>\n",
              "      <td>10.177417</td>\n",
              "      <td>1.667769</td>\n",
              "      <td>11.312072</td>\n",
              "      <td>14.200116</td>\n",
              "      <td>13.155353</td>\n",
              "      <td>9.546826</td>\n",
              "      <td>18.923155</td>\n",
              "      <td>7.199302</td>\n",
              "      <td>1</td>\n",
              "    </tr>\n",
              "    <tr>\n",
              "      <th>1117</th>\n",
              "      <td>-383.167389</td>\n",
              "      <td>52.231987</td>\n",
              "      <td>24.130854</td>\n",
              "      <td>24.908005</td>\n",
              "      <td>5.230207</td>\n",
              "      <td>10.177417</td>\n",
              "      <td>1.667769</td>\n",
              "      <td>11.312070</td>\n",
              "      <td>14.200116</td>\n",
              "      <td>13.155353</td>\n",
              "      <td>9.546827</td>\n",
              "      <td>18.923153</td>\n",
              "      <td>7.199302</td>\n",
              "      <td>1</td>\n",
              "    </tr>\n",
              "  </tbody>\n",
              "</table>\n",
              "<p>1118 rows × 14 columns</p>\n",
              "</div>\n",
              "    <div class=\"colab-df-buttons\">\n",
              "\n",
              "  <div class=\"colab-df-container\">\n",
              "    <button class=\"colab-df-convert\" onclick=\"convertToInteractive('df-73ae0880-5786-472f-a935-cf58fff5451b')\"\n",
              "            title=\"Convert this dataframe to an interactive table.\"\n",
              "            style=\"display:none;\">\n",
              "\n",
              "  <svg xmlns=\"http://www.w3.org/2000/svg\" height=\"24px\" viewBox=\"0 -960 960 960\">\n",
              "    <path d=\"M120-120v-720h720v720H120Zm60-500h600v-160H180v160Zm220 220h160v-160H400v160Zm0 220h160v-160H400v160ZM180-400h160v-160H180v160Zm440 0h160v-160H620v160ZM180-180h160v-160H180v160Zm440 0h160v-160H620v160Z\"/>\n",
              "  </svg>\n",
              "    </button>\n",
              "\n",
              "  <style>\n",
              "    .colab-df-container {\n",
              "      display:flex;\n",
              "      gap: 12px;\n",
              "    }\n",
              "\n",
              "    .colab-df-convert {\n",
              "      background-color: #E8F0FE;\n",
              "      border: none;\n",
              "      border-radius: 50%;\n",
              "      cursor: pointer;\n",
              "      display: none;\n",
              "      fill: #1967D2;\n",
              "      height: 32px;\n",
              "      padding: 0 0 0 0;\n",
              "      width: 32px;\n",
              "    }\n",
              "\n",
              "    .colab-df-convert:hover {\n",
              "      background-color: #E2EBFA;\n",
              "      box-shadow: 0px 1px 2px rgba(60, 64, 67, 0.3), 0px 1px 3px 1px rgba(60, 64, 67, 0.15);\n",
              "      fill: #174EA6;\n",
              "    }\n",
              "\n",
              "    .colab-df-buttons div {\n",
              "      margin-bottom: 4px;\n",
              "    }\n",
              "\n",
              "    [theme=dark] .colab-df-convert {\n",
              "      background-color: #3B4455;\n",
              "      fill: #D2E3FC;\n",
              "    }\n",
              "\n",
              "    [theme=dark] .colab-df-convert:hover {\n",
              "      background-color: #434B5C;\n",
              "      box-shadow: 0px 1px 3px 1px rgba(0, 0, 0, 0.15);\n",
              "      filter: drop-shadow(0px 1px 2px rgba(0, 0, 0, 0.3));\n",
              "      fill: #FFFFFF;\n",
              "    }\n",
              "  </style>\n",
              "\n",
              "    <script>\n",
              "      const buttonEl =\n",
              "        document.querySelector('#df-73ae0880-5786-472f-a935-cf58fff5451b button.colab-df-convert');\n",
              "      buttonEl.style.display =\n",
              "        google.colab.kernel.accessAllowed ? 'block' : 'none';\n",
              "\n",
              "      async function convertToInteractive(key) {\n",
              "        const element = document.querySelector('#df-73ae0880-5786-472f-a935-cf58fff5451b');\n",
              "        const dataTable =\n",
              "          await google.colab.kernel.invokeFunction('convertToInteractive',\n",
              "                                                    [key], {});\n",
              "        if (!dataTable) return;\n",
              "\n",
              "        const docLinkHtml = 'Like what you see? Visit the ' +\n",
              "          '<a target=\"_blank\" href=https://colab.research.google.com/notebooks/data_table.ipynb>data table notebook</a>'\n",
              "          + ' to learn more about interactive tables.';\n",
              "        element.innerHTML = '';\n",
              "        dataTable['output_type'] = 'display_data';\n",
              "        await google.colab.output.renderOutput(dataTable, element);\n",
              "        const docLink = document.createElement('div');\n",
              "        docLink.innerHTML = docLinkHtml;\n",
              "        element.appendChild(docLink);\n",
              "      }\n",
              "    </script>\n",
              "  </div>\n",
              "\n",
              "\n",
              "<div id=\"df-7c3f823f-7496-4ff0-b4eb-d2d066b5641a\">\n",
              "  <button class=\"colab-df-quickchart\" onclick=\"quickchart('df-7c3f823f-7496-4ff0-b4eb-d2d066b5641a')\"\n",
              "            title=\"Suggest charts\"\n",
              "            style=\"display:none;\">\n",
              "\n",
              "<svg xmlns=\"http://www.w3.org/2000/svg\" height=\"24px\"viewBox=\"0 0 24 24\"\n",
              "     width=\"24px\">\n",
              "    <g>\n",
              "        <path d=\"M19 3H5c-1.1 0-2 .9-2 2v14c0 1.1.9 2 2 2h14c1.1 0 2-.9 2-2V5c0-1.1-.9-2-2-2zM9 17H7v-7h2v7zm4 0h-2V7h2v10zm4 0h-2v-4h2v4z\"/>\n",
              "    </g>\n",
              "</svg>\n",
              "  </button>\n",
              "\n",
              "<style>\n",
              "  .colab-df-quickchart {\n",
              "      --bg-color: #E8F0FE;\n",
              "      --fill-color: #1967D2;\n",
              "      --hover-bg-color: #E2EBFA;\n",
              "      --hover-fill-color: #174EA6;\n",
              "      --disabled-fill-color: #AAA;\n",
              "      --disabled-bg-color: #DDD;\n",
              "  }\n",
              "\n",
              "  [theme=dark] .colab-df-quickchart {\n",
              "      --bg-color: #3B4455;\n",
              "      --fill-color: #D2E3FC;\n",
              "      --hover-bg-color: #434B5C;\n",
              "      --hover-fill-color: #FFFFFF;\n",
              "      --disabled-bg-color: #3B4455;\n",
              "      --disabled-fill-color: #666;\n",
              "  }\n",
              "\n",
              "  .colab-df-quickchart {\n",
              "    background-color: var(--bg-color);\n",
              "    border: none;\n",
              "    border-radius: 50%;\n",
              "    cursor: pointer;\n",
              "    display: none;\n",
              "    fill: var(--fill-color);\n",
              "    height: 32px;\n",
              "    padding: 0;\n",
              "    width: 32px;\n",
              "  }\n",
              "\n",
              "  .colab-df-quickchart:hover {\n",
              "    background-color: var(--hover-bg-color);\n",
              "    box-shadow: 0 1px 2px rgba(60, 64, 67, 0.3), 0 1px 3px 1px rgba(60, 64, 67, 0.15);\n",
              "    fill: var(--button-hover-fill-color);\n",
              "  }\n",
              "\n",
              "  .colab-df-quickchart-complete:disabled,\n",
              "  .colab-df-quickchart-complete:disabled:hover {\n",
              "    background-color: var(--disabled-bg-color);\n",
              "    fill: var(--disabled-fill-color);\n",
              "    box-shadow: none;\n",
              "  }\n",
              "\n",
              "  .colab-df-spinner {\n",
              "    border: 2px solid var(--fill-color);\n",
              "    border-color: transparent;\n",
              "    border-bottom-color: var(--fill-color);\n",
              "    animation:\n",
              "      spin 1s steps(1) infinite;\n",
              "  }\n",
              "\n",
              "  @keyframes spin {\n",
              "    0% {\n",
              "      border-color: transparent;\n",
              "      border-bottom-color: var(--fill-color);\n",
              "      border-left-color: var(--fill-color);\n",
              "    }\n",
              "    20% {\n",
              "      border-color: transparent;\n",
              "      border-left-color: var(--fill-color);\n",
              "      border-top-color: var(--fill-color);\n",
              "    }\n",
              "    30% {\n",
              "      border-color: transparent;\n",
              "      border-left-color: var(--fill-color);\n",
              "      border-top-color: var(--fill-color);\n",
              "      border-right-color: var(--fill-color);\n",
              "    }\n",
              "    40% {\n",
              "      border-color: transparent;\n",
              "      border-right-color: var(--fill-color);\n",
              "      border-top-color: var(--fill-color);\n",
              "    }\n",
              "    60% {\n",
              "      border-color: transparent;\n",
              "      border-right-color: var(--fill-color);\n",
              "    }\n",
              "    80% {\n",
              "      border-color: transparent;\n",
              "      border-right-color: var(--fill-color);\n",
              "      border-bottom-color: var(--fill-color);\n",
              "    }\n",
              "    90% {\n",
              "      border-color: transparent;\n",
              "      border-bottom-color: var(--fill-color);\n",
              "    }\n",
              "  }\n",
              "</style>\n",
              "\n",
              "  <script>\n",
              "    async function quickchart(key) {\n",
              "      const quickchartButtonEl =\n",
              "        document.querySelector('#' + key + ' button');\n",
              "      quickchartButtonEl.disabled = true;  // To prevent multiple clicks.\n",
              "      quickchartButtonEl.classList.add('colab-df-spinner');\n",
              "      try {\n",
              "        const charts = await google.colab.kernel.invokeFunction(\n",
              "            'suggestCharts', [key], {});\n",
              "      } catch (error) {\n",
              "        console.error('Error during call to suggestCharts:', error);\n",
              "      }\n",
              "      quickchartButtonEl.classList.remove('colab-df-spinner');\n",
              "      quickchartButtonEl.classList.add('colab-df-quickchart-complete');\n",
              "    }\n",
              "    (() => {\n",
              "      let quickchartButtonEl =\n",
              "        document.querySelector('#df-7c3f823f-7496-4ff0-b4eb-d2d066b5641a button');\n",
              "      quickchartButtonEl.style.display =\n",
              "        google.colab.kernel.accessAllowed ? 'block' : 'none';\n",
              "    })();\n",
              "  </script>\n",
              "</div>\n",
              "\n",
              "  <div id=\"id_14f123e8-1a0b-43aa-b4f8-24324088250d\">\n",
              "    <style>\n",
              "      .colab-df-generate {\n",
              "        background-color: #E8F0FE;\n",
              "        border: none;\n",
              "        border-radius: 50%;\n",
              "        cursor: pointer;\n",
              "        display: none;\n",
              "        fill: #1967D2;\n",
              "        height: 32px;\n",
              "        padding: 0 0 0 0;\n",
              "        width: 32px;\n",
              "      }\n",
              "\n",
              "      .colab-df-generate:hover {\n",
              "        background-color: #E2EBFA;\n",
              "        box-shadow: 0px 1px 2px rgba(60, 64, 67, 0.3), 0px 1px 3px 1px rgba(60, 64, 67, 0.15);\n",
              "        fill: #174EA6;\n",
              "      }\n",
              "\n",
              "      [theme=dark] .colab-df-generate {\n",
              "        background-color: #3B4455;\n",
              "        fill: #D2E3FC;\n",
              "      }\n",
              "\n",
              "      [theme=dark] .colab-df-generate:hover {\n",
              "        background-color: #434B5C;\n",
              "        box-shadow: 0px 1px 3px 1px rgba(0, 0, 0, 0.15);\n",
              "        filter: drop-shadow(0px 1px 2px rgba(0, 0, 0, 0.3));\n",
              "        fill: #FFFFFF;\n",
              "      }\n",
              "    </style>\n",
              "    <button class=\"colab-df-generate\" onclick=\"generateWithVariable('df_random_equalizer')\"\n",
              "            title=\"Generate code using this dataframe.\"\n",
              "            style=\"display:none;\">\n",
              "\n",
              "  <svg xmlns=\"http://www.w3.org/2000/svg\" height=\"24px\"viewBox=\"0 0 24 24\"\n",
              "       width=\"24px\">\n",
              "    <path d=\"M7,19H8.4L18.45,9,17,7.55,7,17.6ZM5,21V16.75L18.45,3.32a2,2,0,0,1,2.83,0l1.4,1.43a1.91,1.91,0,0,1,.58,1.4,1.91,1.91,0,0,1-.58,1.4L9.25,21ZM18.45,9,17,7.55Zm-12,3A5.31,5.31,0,0,0,4.9,8.1,5.31,5.31,0,0,0,1,6.5,5.31,5.31,0,0,0,4.9,4.9,5.31,5.31,0,0,0,6.5,1,5.31,5.31,0,0,0,8.1,4.9,5.31,5.31,0,0,0,12,6.5,5.46,5.46,0,0,0,6.5,12Z\"/>\n",
              "  </svg>\n",
              "    </button>\n",
              "    <script>\n",
              "      (() => {\n",
              "      const buttonEl =\n",
              "        document.querySelector('#id_14f123e8-1a0b-43aa-b4f8-24324088250d button.colab-df-generate');\n",
              "      buttonEl.style.display =\n",
              "        google.colab.kernel.accessAllowed ? 'block' : 'none';\n",
              "\n",
              "      buttonEl.onclick = () => {\n",
              "        google.colab.notebook.generateWithVariable('df_random_equalizer');\n",
              "      }\n",
              "      })();\n",
              "    </script>\n",
              "  </div>\n",
              "\n",
              "    </div>\n",
              "  </div>\n"
            ],
            "application/vnd.google.colaboratory.intrinsic+json": {
              "type": "dataframe",
              "variable_name": "df_random_equalizer",
              "summary": "{\n  \"name\": \"df_random_equalizer\",\n  \"rows\": 1118,\n  \"fields\": [\n    {\n      \"column\": 0,\n      \"properties\": {\n        \"dtype\": \"float32\",\n        \"num_unique_values\": 1118,\n        \"samples\": [\n          -266.94964599609375,\n          -405.89080810546875,\n          -307.13262939453125\n        ],\n        \"semantic_type\": \"\",\n        \"description\": \"\"\n      }\n    },\n    {\n      \"column\": 1,\n      \"properties\": {\n        \"dtype\": \"float32\",\n        \"num_unique_values\": 688,\n        \"samples\": [\n          94.58033752441406,\n          82.61577606201172,\n          85.15384674072266\n        ],\n        \"semantic_type\": \"\",\n        \"description\": \"\"\n      }\n    },\n    {\n      \"column\": 2,\n      \"properties\": {\n        \"dtype\": \"float32\",\n        \"num_unique_values\": 954,\n        \"samples\": [\n          4.631670951843262,\n          -39.03362274169922,\n          46.67317199707031\n        ],\n        \"semantic_type\": \"\",\n        \"description\": \"\"\n      }\n    },\n    {\n      \"column\": 3,\n      \"properties\": {\n        \"dtype\": \"float32\",\n        \"num_unique_values\": 819,\n        \"samples\": [\n          27.42670440673828,\n          36.899105072021484,\n          12.253683090209961\n        ],\n        \"semantic_type\": \"\",\n        \"description\": \"\"\n      }\n    },\n    {\n      \"column\": 4,\n      \"properties\": {\n        \"dtype\": \"float32\",\n        \"num_unique_values\": 890,\n        \"samples\": [\n          -20.178686141967773,\n          7.775293350219727,\n          -10.558148384094238\n        ],\n        \"semantic_type\": \"\",\n        \"description\": \"\"\n      }\n    },\n    {\n      \"column\": 5,\n      \"properties\": {\n        \"dtype\": \"float32\",\n        \"num_unique_values\": 893,\n        \"samples\": [\n          5.140613555908203,\n          -0.20331288874149323,\n          -17.425437927246094\n        ],\n        \"semantic_type\": \"\",\n        \"description\": \"\"\n      }\n    },\n    {\n      \"column\": 6,\n      \"properties\": {\n        \"dtype\": \"float32\",\n        \"num_unique_values\": 870,\n        \"samples\": [\n          -13.91630744934082,\n          3.173553228378296,\n          -19.993602752685547\n        ],\n        \"semantic_type\": \"\",\n        \"description\": \"\"\n      }\n    },\n    {\n      \"column\": 7,\n      \"properties\": {\n        \"dtype\": \"float32\",\n        \"num_unique_values\": 860,\n        \"samples\": [\n          -3.3988096714019775,\n          -11.68162727355957,\n          9.559698104858398\n        ],\n        \"semantic_type\": \"\",\n        \"description\": \"\"\n      }\n    },\n    {\n      \"column\": 8,\n      \"properties\": {\n        \"dtype\": \"float32\",\n        \"num_unique_values\": 907,\n        \"samples\": [\n          9.519734382629395,\n          -6.9534993171691895,\n          1.374901294708252\n        ],\n        \"semantic_type\": \"\",\n        \"description\": \"\"\n      }\n    },\n    {\n      \"column\": 9,\n      \"properties\": {\n        \"dtype\": \"float32\",\n        \"num_unique_values\": 916,\n        \"samples\": [\n          0.49540194869041443,\n          -3.1092958450317383,\n          6.385898590087891\n        ],\n        \"semantic_type\": \"\",\n        \"description\": \"\"\n      }\n    },\n    {\n      \"column\": 10,\n      \"properties\": {\n        \"dtype\": \"float32\",\n        \"num_unique_values\": 869,\n        \"samples\": [\n          -15.442193984985352,\n          -7.0099873542785645,\n          -23.132841110229492\n        ],\n        \"semantic_type\": \"\",\n        \"description\": \"\"\n      }\n    },\n    {\n      \"column\": 11,\n      \"properties\": {\n        \"dtype\": \"float32\",\n        \"num_unique_values\": 956,\n        \"samples\": [\n          -0.41816261410713196,\n          -7.188167572021484,\n          6.010176658630371\n        ],\n        \"semantic_type\": \"\",\n        \"description\": \"\"\n      }\n    },\n    {\n      \"column\": 12,\n      \"properties\": {\n        \"dtype\": \"float32\",\n        \"num_unique_values\": 895,\n        \"samples\": [\n          -3.014298677444458,\n          -7.883921146392822,\n          0.7385722994804382\n        ],\n        \"semantic_type\": \"\",\n        \"description\": \"\"\n      }\n    },\n    {\n      \"column\": \"label\",\n      \"properties\": {\n        \"dtype\": \"number\",\n        \"std\": 0,\n        \"min\": 0,\n        \"max\": 1,\n        \"num_unique_values\": 2,\n        \"samples\": [\n          1,\n          0\n        ],\n        \"semantic_type\": \"\",\n        \"description\": \"\"\n      }\n    }\n  ]\n}"
            }
          },
          "metadata": {},
          "execution_count": 34
        }
      ],
      "source": [
        "df_random_equalizer"
      ]
    },
    {
      "cell_type": "code",
      "execution_count": null,
      "metadata": {
        "colab": {
          "base_uri": "https://localhost:8080/",
          "height": 569
        },
        "id": "cyDxl5y7_71U",
        "outputId": "6ad5ef96-6052-416c-c725-5eee723fbe5a"
      },
      "outputs": [
        {
          "output_type": "display_data",
          "data": {
            "text/plain": [
              "<Figure size 1000x600 with 1 Axes>"
            ],
            "image/png": "[encoded data removed]"
          },
          "metadata": {}
        }
      ],
      "source": [
        "# Contar as ocorrências de cada label\n",
        "label_counts = [labels_random_equalizer.count(0), labels_random_equalizer.count(1)]\n",
        "\n",
        "# Plotando o gráfico\n",
        "plt.figure(figsize=(10, 6))  # Ajuste do tamanho do gráfico\n",
        "plt.bar([0, 1], label_counts, tick_label=['Fake', 'Real'], color=['#1f77b4', '#ff7f0e'])\n",
        "\n",
        "# Adicionando rótulos e título\n",
        "plt.xlabel('Tipo dos Áudios')\n",
        "plt.ylabel('Quantidade')\n",
        "plt.title('Balanço de Áudios Reais e Fakes')\n",
        "plt.show()"
      ]
    },
    {
      "cell_type": "code",
      "execution_count": null,
      "metadata": {
        "id": "ZjD0N7la5zvt"
      },
      "outputs": [],
      "source": [
        "# Separar características (X) e rótulos (y)\n",
        "X = df_random_equalizer.drop(columns=['label'])\n",
        "y = df_random_equalizer['label']\n",
        "\n",
        "# Dividir em treino e teste\n",
        "X_train, X_test, y_train, y_test = train_test_split(X, y, test_size=0.2, random_state=42)"
      ]
    },
    {
      "cell_type": "code",
      "execution_count": null,
      "metadata": {
        "colab": {
          "base_uri": "https://localhost:8080/"
        },
        "id": "w8SAEGYr_YDJ",
        "outputId": "ef1022b6-70ef-40c2-c042-07cc153fb7e4"
      },
      "outputs": [
        {
          "output_type": "stream",
          "name": "stdout",
          "text": [
            "Epoch 1/10\n"
          ]
        },
        {
          "output_type": "stream",
          "name": "stderr",
          "text": [
            "/usr/local/lib/python3.11/dist-packages/keras/src/layers/core/dense.py:87: UserWarning: Do not pass an `input_shape`/`input_dim` argument to a layer. When using Sequential models, prefer using an `Input(shape)` object as the first layer in the model instead.\n",
            "  super().__init__(activity_regularizer=activity_regularizer, **kwargs)\n"
          ]
        },
        {
          "output_type": "stream",
          "name": "stdout",
          "text": [
            "\u001b[1m28/28\u001b[0m \u001b[32m━━━━━━━━━━━━━━━━━━━━\u001b[0m\u001b[37m\u001b[0m \u001b[1m1s\u001b[0m 3ms/step - accuracy: 0.2441 - loss: 31.0194\n",
            "Epoch 2/10\n",
            "\u001b[1m28/28\u001b[0m \u001b[32m━━━━━━━━━━━━━━━━━━━━\u001b[0m\u001b[37m\u001b[0m \u001b[1m0s\u001b[0m 3ms/step - accuracy: 0.8008 - loss: 3.1991\n",
            "Epoch 3/10\n",
            "\u001b[1m28/28\u001b[0m \u001b[32m━━━━━━━━━━━━━━━━━━━━\u001b[0m\u001b[37m\u001b[0m \u001b[1m0s\u001b[0m 3ms/step - accuracy: 0.7590 - loss: 1.2565\n",
            "Epoch 4/10\n",
            "\u001b[1m28/28\u001b[0m \u001b[32m━━━━━━━━━━━━━━━━━━━━\u001b[0m\u001b[37m\u001b[0m \u001b[1m0s\u001b[0m 4ms/step - accuracy: 0.7692 - loss: 0.8365\n",
            "Epoch 5/10\n",
            "\u001b[1m28/28\u001b[0m \u001b[32m━━━━━━━━━━━━━━━━━━━━\u001b[0m\u001b[37m\u001b[0m \u001b[1m0s\u001b[0m 3ms/step - accuracy: 0.8129 - loss: 0.5440\n",
            "Epoch 6/10\n",
            "\u001b[1m28/28\u001b[0m \u001b[32m━━━━━━━━━━━━━━━━━━━━\u001b[0m\u001b[37m\u001b[0m \u001b[1m0s\u001b[0m 3ms/step - accuracy: 0.8316 - loss: 0.4821\n",
            "Epoch 7/10\n",
            "\u001b[1m28/28\u001b[0m \u001b[32m━━━━━━━━━━━━━━━━━━━━\u001b[0m\u001b[37m\u001b[0m \u001b[1m0s\u001b[0m 3ms/step - accuracy: 0.8273 - loss: 0.4042\n",
            "Epoch 8/10\n",
            "\u001b[1m28/28\u001b[0m \u001b[32m━━━━━━━━━━━━━━━━━━━━\u001b[0m\u001b[37m\u001b[0m \u001b[1m0s\u001b[0m 3ms/step - accuracy: 0.8940 - loss: 0.3110\n",
            "Epoch 9/10\n",
            "\u001b[1m28/28\u001b[0m \u001b[32m━━━━━━━━━━━━━━━━━━━━\u001b[0m\u001b[37m\u001b[0m \u001b[1m0s\u001b[0m 3ms/step - accuracy: 0.8695 - loss: 0.3350\n",
            "Epoch 10/10\n",
            "\u001b[1m28/28\u001b[0m \u001b[32m━━━━━━━━━━━━━━━━━━━━\u001b[0m\u001b[37m\u001b[0m \u001b[1m0s\u001b[0m 4ms/step - accuracy: 0.8712 - loss: 0.3211\n",
            "\u001b[1m7/7\u001b[0m \u001b[32m━━━━━━━━━━━━━━━━━━━━\u001b[0m\u001b[37m\u001b[0m \u001b[1m0s\u001b[0m 4ms/step \n"
          ]
        }
      ],
      "source": [
        "# Definição do modelo DNN\n",
        "model = tf.keras.Sequential([\n",
        "    tf.keras.layers.Dense(64, activation='relu', input_shape=(X_train.shape[1],)),\n",
        "    tf.keras.layers.Dense(1, activation='sigmoid')\n",
        "])\n",
        "\n",
        "# Compilação e treinamento do modelo\n",
        "model.compile(optimizer='adam', loss='binary_crossentropy', metrics=['accuracy'])\n",
        "model.fit(X_train, y_train, epochs=10, batch_size=32)\n",
        "\n",
        "# Predições e métricas\n",
        "y_pred_proba = model.predict(X_test)  # Predições de probabilidade\n",
        "y_pred = (y_pred_proba > 0.5).astype(int)  # Converter para rótulos binários"
      ]
    },
    {
      "cell_type": "code",
      "execution_count": null,
      "metadata": {
        "colab": {
          "base_uri": "https://localhost:8080/"
        },
        "id": "SCGlgdbr_YDL",
        "outputId": "f9c0f427-b918-47a1-9d96-9f51d63406bc"
      },
      "outputs": [
        {
          "output_type": "stream",
          "name": "stdout",
          "text": [
            "Acurácia: 0.86\n",
            "Precisão: 0.86\n",
            "Recall: 0.97\n",
            "F1-Score: 0.91\n"
          ]
        }
      ],
      "source": [
        "# Calculando as métricas de classificação\n",
        "accuracy = accuracy_score(y_test, y_pred)\n",
        "precision = precision_score(y_test, y_pred)\n",
        "recall = recall_score(y_test, y_pred)\n",
        "f1 = f1_score(y_test, y_pred)\n",
        "\n",
        "# Exibindo as métricas\n",
        "print(f\"Acurácia: {accuracy:.2f}\")\n",
        "print(f\"Precisão: {precision:.2f}\")\n",
        "print(f\"Recall: {recall:.2f}\")\n",
        "print(f\"F1-Score: {f1:.2f}\")"
      ]
    },
    {
      "cell_type": "code",
      "execution_count": null,
      "metadata": {
        "id": "i4rkAHOR_YDO"
      },
      "outputs": [],
      "source": [
        "# Treinando um modelo de regressão linear\n",
        "model = RandomForestClassifier()\n",
        "rfc = model.fit(X_train, y_train)\n",
        "\n",
        "# Fazendo previsões no conjunto de teste\n",
        "y_pred = rfc.predict(X_test)"
      ]
    },
    {
      "cell_type": "code",
      "execution_count": null,
      "metadata": {
        "colab": {
          "base_uri": "https://localhost:8080/"
        },
        "id": "qnVtBE82_YDP",
        "outputId": "8810d7de-cd53-4b31-e3ae-6656b4492cc6"
      },
      "outputs": [
        {
          "output_type": "stream",
          "name": "stdout",
          "text": [
            "Acurácia: 0.97\n",
            "Precisão: 0.97\n",
            "Recall: 0.99\n",
            "F1-Score: 0.98\n"
          ]
        }
      ],
      "source": [
        "# Calculando as métricas de classificação\n",
        "accuracy = accuracy_score(y_test, y_pred)\n",
        "precision = precision_score(y_test, y_pred)\n",
        "recall = recall_score(y_test, y_pred)\n",
        "f1 = f1_score(y_test, y_pred)\n",
        "\n",
        "# Exibindo as métricas\n",
        "print(f\"Acurácia: {accuracy:.2f}\")\n",
        "print(f\"Precisão: {precision:.2f}\")\n",
        "print(f\"Recall: {recall:.2f}\")\n",
        "print(f\"F1-Score: {f1:.2f}\")"
      ]
    },
    {
      "cell_type": "code",
      "execution_count": null,
      "metadata": {
        "id": "2NkQ4EFp_YDQ"
      },
      "outputs": [],
      "source": [
        "# Treinando um modelo knc\n",
        "model = KNeighborsClassifier()\n",
        "knc = model.fit(X_train,y_train)\n",
        "\n",
        "# Fazendo previsões no conjunto de teste\n",
        "y_pred = knc.predict(X_test)"
      ]
    },
    {
      "cell_type": "code",
      "execution_count": null,
      "metadata": {
        "colab": {
          "base_uri": "https://localhost:8080/"
        },
        "id": "q9rSsvhF_YDQ",
        "outputId": "9c11ff26-41e4-431f-fecd-78b3b397298b"
      },
      "outputs": [
        {
          "output_type": "stream",
          "name": "stdout",
          "text": [
            "Acurácia: 0.89\n",
            "Precisão: 0.92\n",
            "Recall: 0.95\n",
            "F1-Score: 0.93\n"
          ]
        }
      ],
      "source": [
        "# Calculando as métricas de classificação\n",
        "accuracy = accuracy_score(y_test, y_pred)\n",
        "precision = precision_score(y_test, y_pred)\n",
        "recall = recall_score(y_test, y_pred)\n",
        "f1 = f1_score(y_test, y_pred)\n",
        "\n",
        "# Exibindo as métricas\n",
        "print(f\"Acurácia: {accuracy:.2f}\")\n",
        "print(f\"Precisão: {precision:.2f}\")\n",
        "print(f\"Recall: {recall:.2f}\")\n",
        "print(f\"F1-Score: {f1:.2f}\")"
      ]
    },
    {
      "cell_type": "code",
      "execution_count": null,
      "metadata": {
        "id": "deSksuI__YDR"
      },
      "outputs": [],
      "source": [
        "model = XGBClassifier()\n",
        "xgb = model.fit(X_train, y_train)\n",
        "\n",
        "# Fazendo previsões no conjunto de teste\n",
        "y_pred = xgb.predict(X_test)"
      ]
    },
    {
      "cell_type": "code",
      "execution_count": null,
      "metadata": {
        "colab": {
          "base_uri": "https://localhost:8080/"
        },
        "id": "3xYt-T2B_YDS",
        "outputId": "3d48e2b5-2d6c-4055-9b03-d6357174369d"
      },
      "outputs": [
        {
          "output_type": "stream",
          "name": "stdout",
          "text": [
            "Acurácia: 0.98\n",
            "Precisão: 0.99\n",
            "Recall: 0.98\n",
            "F1-Score: 0.99\n"
          ]
        }
      ],
      "source": [
        "# Calculando as métricas de classificação\n",
        "accuracy = accuracy_score(y_test, y_pred)\n",
        "precision = precision_score(y_test, y_pred)\n",
        "recall = recall_score(y_test, y_pred)\n",
        "f1 = f1_score(y_test, y_pred)\n",
        "\n",
        "# Exibindo as métricas\n",
        "print(f\"Acurácia: {accuracy:.2f}\")\n",
        "print(f\"Precisão: {precision:.2f}\")\n",
        "print(f\"Recall: {recall:.2f}\")\n",
        "print(f\"F1-Score: {f1:.2f}\")"
      ]
    },
    {
      "cell_type": "code",
      "execution_count": null,
      "metadata": {
        "colab": {
          "base_uri": "https://localhost:8080/"
        },
        "id": "0WwXz5yJ_YDT",
        "outputId": "9cabc8e1-d944-49f7-ee04-c9974768f9bb"
      },
      "outputs": [
        {
          "output_type": "stream",
          "name": "stdout",
          "text": [
            "[LightGBM] [Info] Number of positive: 720, number of negative: 174\n",
            "[LightGBM] [Info] Auto-choosing col-wise multi-threading, the overhead of testing was 0.000482 seconds.\n",
            "You can set `force_col_wise=true` to remove the overhead.\n",
            "[LightGBM] [Info] Total Bins 3308\n",
            "[LightGBM] [Info] Number of data points in the train set: 894, number of used features: 13\n",
            "[LightGBM] [Info] [binary:BoostFromScore]: pavg=0.805369 -> initscore=1.420196\n",
            "[LightGBM] [Info] Start training from score 1.420196\n",
            "[LightGBM] [Warning] No further splits with positive gain, best gain: -inf\n",
            "[LightGBM] [Warning] No further splits with positive gain, best gain: -inf\n"
          ]
        }
      ],
      "source": [
        "model = LGBMClassifier(n_estimators=100, learning_rate=0.1, num_leaves=31)\n",
        "LGBMC = model.fit(X_train, y_train)\n",
        "\n",
        "y_pred = LGBMC.predict(X_test)"
      ]
    },
    {
      "cell_type": "code",
      "execution_count": null,
      "metadata": {
        "colab": {
          "base_uri": "https://localhost:8080/"
        },
        "id": "lW9eCfze_YDU",
        "outputId": "be648cd7-fbf8-4581-f3ed-c58924c20518"
      },
      "outputs": [
        {
          "output_type": "stream",
          "name": "stdout",
          "text": [
            "Acurácia: 0.97\n",
            "Precisão: 0.99\n",
            "Recall: 0.97\n",
            "F1-Score: 0.98\n"
          ]
        }
      ],
      "source": [
        "# Calculando as métricas de classificação\n",
        "accuracy = accuracy_score(y_test, y_pred)\n",
        "precision = precision_score(y_test, y_pred)\n",
        "recall = recall_score(y_test, y_pred)\n",
        "f1 = f1_score(y_test, y_pred)\n",
        "\n",
        "# Exibindo as métricas\n",
        "print(f\"Acurácia: {accuracy:.2f}\")\n",
        "print(f\"Precisão: {precision:.2f}\")\n",
        "print(f\"Recall: {recall:.2f}\")\n",
        "print(f\"F1-Score: {f1:.2f}\")"
      ]
    },
    {
      "cell_type": "code",
      "execution_count": null,
      "metadata": {
        "colab": {
          "base_uri": "https://localhost:8080/"
        },
        "id": "fQ34EhtM_YDV",
        "outputId": "175cec96-aff5-4291-9a1c-f9e8adf07aba"
      },
      "outputs": [
        {
          "output_type": "stream",
          "name": "stdout",
          "text": [
            "Epoch 1/10\n"
          ]
        },
        {
          "output_type": "stream",
          "name": "stderr",
          "text": [
            "/usr/local/lib/python3.11/dist-packages/keras/src/layers/core/dense.py:87: UserWarning: Do not pass an `input_shape`/`input_dim` argument to a layer. When using Sequential models, prefer using an `Input(shape)` object as the first layer in the model instead.\n",
            "  super().__init__(activity_regularizer=activity_regularizer, **kwargs)\n"
          ]
        },
        {
          "output_type": "stream",
          "name": "stdout",
          "text": [
            "\u001b[1m28/28\u001b[0m \u001b[32m━━━━━━━━━━━━━━━━━━━━\u001b[0m\u001b[37m\u001b[0m \u001b[1m1s\u001b[0m 3ms/step - accuracy: 0.2580 - loss: 30.9557\n",
            "Epoch 2/10\n",
            "\u001b[1m28/28\u001b[0m \u001b[32m━━━━━━━━━━━━━━━━━━━━\u001b[0m\u001b[37m\u001b[0m \u001b[1m0s\u001b[0m 4ms/step - accuracy: 0.7950 - loss: 3.1063\n",
            "Epoch 3/10\n",
            "\u001b[1m28/28\u001b[0m \u001b[32m━━━━━━━━━━━━━━━━━━━━\u001b[0m\u001b[37m\u001b[0m \u001b[1m0s\u001b[0m 4ms/step - accuracy: 0.7696 - loss: 1.0617\n",
            "Epoch 4/10\n",
            "\u001b[1m28/28\u001b[0m \u001b[32m━━━━━━━━━━━━━━━━━━━━\u001b[0m\u001b[37m\u001b[0m \u001b[1m0s\u001b[0m 3ms/step - accuracy: 0.8048 - loss: 0.6798\n",
            "Epoch 5/10\n",
            "\u001b[1m28/28\u001b[0m \u001b[32m━━━━━━━━━━━━━━━━━━━━\u001b[0m\u001b[37m\u001b[0m \u001b[1m0s\u001b[0m 4ms/step - accuracy: 0.8533 - loss: 0.4719\n",
            "Epoch 6/10\n",
            "\u001b[1m28/28\u001b[0m \u001b[32m━━━━━━━━━━━━━━━━━━━━\u001b[0m\u001b[37m\u001b[0m \u001b[1m0s\u001b[0m 3ms/step - accuracy: 0.8426 - loss: 0.4910\n",
            "Epoch 7/10\n",
            "\u001b[1m28/28\u001b[0m \u001b[32m━━━━━━━━━━━━━━━━━━━━\u001b[0m\u001b[37m\u001b[0m \u001b[1m0s\u001b[0m 3ms/step - accuracy: 0.8349 - loss: 0.4400\n",
            "Epoch 8/10\n",
            "\u001b[1m28/28\u001b[0m \u001b[32m━━━━━━━━━━━━━━━━━━━━\u001b[0m\u001b[37m\u001b[0m \u001b[1m0s\u001b[0m 3ms/step - accuracy: 0.8499 - loss: 0.3601\n",
            "Epoch 9/10\n",
            "\u001b[1m28/28\u001b[0m \u001b[32m━━━━━━━━━━━━━━━━━━━━\u001b[0m\u001b[37m\u001b[0m \u001b[1m0s\u001b[0m 3ms/step - accuracy: 0.8444 - loss: 0.3878\n",
            "Epoch 10/10\n",
            "\u001b[1m28/28\u001b[0m \u001b[32m━━━━━━━━━━━━━━━━━━━━\u001b[0m\u001b[37m\u001b[0m \u001b[1m0s\u001b[0m 3ms/step - accuracy: 0.8310 - loss: 0.3943\n",
            "\u001b[1m7/7\u001b[0m \u001b[32m━━━━━━━━━━━━━━━━━━━━\u001b[0m\u001b[37m\u001b[0m \u001b[1m0s\u001b[0m 5ms/step \n"
          ]
        }
      ],
      "source": [
        "# Definição do modelo\n",
        "input_shape = (X_train.shape[1],)  # Número de colunas do conjunto de treino\n",
        "model = tf.keras.Sequential([\n",
        "    tf.keras.layers.Dense(64, activation='relu', input_shape=input_shape),\n",
        "    tf.keras.layers.Dense(1, activation='sigmoid')\n",
        "])\n",
        "\n",
        "# Compilação e treinamento\n",
        "model.compile(optimizer='adam', loss='binary_crossentropy', metrics=['accuracy'])\n",
        "model.fit(X_train, y_train, epochs=10, batch_size=32)\n",
        "\n",
        "# Predições e métricas\n",
        "y_pred_proba = model.predict(X_test)  # Predições de probabilidade\n",
        "y_pred = (y_pred_proba > 0.5).astype(int)  # Converter para rótulos binários"
      ]
    },
    {
      "cell_type": "code",
      "execution_count": null,
      "metadata": {
        "colab": {
          "base_uri": "https://localhost:8080/"
        },
        "id": "Urdvkzn9_YDW",
        "outputId": "d6733fc6-254b-49b8-9e62-70ed9a84ae3d"
      },
      "outputs": [
        {
          "output_type": "stream",
          "name": "stdout",
          "text": [
            "Acurácia: 0.83\n",
            "Precisão: 0.89\n",
            "Recall: 0.90\n",
            "F1-Score: 0.90\n"
          ]
        }
      ],
      "source": [
        "# Calculando as métricas de classificação\n",
        "accuracy = accuracy_score(y_test, y_pred)\n",
        "precision = precision_score(y_test, y_pred)\n",
        "recall = recall_score(y_test, y_pred)\n",
        "f1 = f1_score(y_test, y_pred)\n",
        "\n",
        "# Exibindo as métricas\n",
        "print(f\"Acurácia: {accuracy:.2f}\")\n",
        "print(f\"Precisão: {precision:.2f}\")\n",
        "print(f\"Recall: {recall:.2f}\")\n",
        "print(f\"F1-Score: {f1:.2f}\")"
      ]
    },
    {
      "cell_type": "code",
      "execution_count": null,
      "metadata": {
        "id": "w2-bBogk_YDW"
      },
      "outputs": [],
      "source": [
        "model = DecisionTreeClassifier(criterion='gini', random_state=42)\n",
        "DTC = model.fit(X_train, y_train)\n",
        "\n",
        "y_pred = DTC.predict(X_test)"
      ]
    },
    {
      "cell_type": "code",
      "execution_count": null,
      "metadata": {
        "colab": {
          "base_uri": "https://localhost:8080/"
        },
        "id": "BYTbAv_6_YDX",
        "outputId": "3548659a-cb0f-4adf-e8ae-3987a4c9d7ea"
      },
      "outputs": [
        {
          "output_type": "stream",
          "name": "stdout",
          "text": [
            "Acurácia: 0.96\n",
            "Precisão: 0.99\n",
            "Recall: 0.95\n",
            "F1-Score: 0.97\n"
          ]
        }
      ],
      "source": [
        "# Calculando as métricas de classificação\n",
        "accuracy = accuracy_score(y_test, y_pred)\n",
        "precision = precision_score(y_test, y_pred)\n",
        "recall = recall_score(y_test, y_pred)\n",
        "f1 = f1_score(y_test, y_pred)\n",
        "\n",
        "# Exibindo as métricas\n",
        "print(f\"Acurácia: {accuracy:.2f}\")\n",
        "print(f\"Precisão: {precision:.2f}\")\n",
        "print(f\"Recall: {recall:.2f}\")\n",
        "print(f\"F1-Score: {f1:.2f}\")"
      ]
    },
    {
      "cell_type": "code",
      "execution_count": null,
      "metadata": {
        "colab": {
          "base_uri": "https://localhost:8080/"
        },
        "id": "oW4L123w_YDX",
        "outputId": "cf805621-299b-4715-f834-c985c9457f05"
      },
      "outputs": [
        {
          "output_type": "stream",
          "name": "stdout",
          "text": [
            "Epoch 1/10\n"
          ]
        },
        {
          "output_type": "stream",
          "name": "stderr",
          "text": [
            "/usr/local/lib/python3.11/dist-packages/keras/src/layers/convolutional/base_conv.py:107: UserWarning: Do not pass an `input_shape`/`input_dim` argument to a layer. When using Sequential models, prefer using an `Input(shape)` object as the first layer in the model instead.\n",
            "  super().__init__(activity_regularizer=activity_regularizer, **kwargs)\n"
          ]
        },
        {
          "output_type": "stream",
          "name": "stdout",
          "text": [
            "\u001b[1m28/28\u001b[0m \u001b[32m━━━━━━━━━━━━━━━━━━━━\u001b[0m\u001b[37m\u001b[0m \u001b[1m1s\u001b[0m 4ms/step - accuracy: 0.7557 - loss: 0.6830\n",
            "Epoch 2/10\n",
            "\u001b[1m28/28\u001b[0m \u001b[32m━━━━━━━━━━━━━━━━━━━━\u001b[0m\u001b[37m\u001b[0m \u001b[1m0s\u001b[0m 3ms/step - accuracy: 0.8332 - loss: 0.3852\n",
            "Epoch 3/10\n",
            "\u001b[1m28/28\u001b[0m \u001b[32m━━━━━━━━━━━━━━━━━━━━\u001b[0m\u001b[37m\u001b[0m \u001b[1m0s\u001b[0m 3ms/step - accuracy: 0.8809 - loss: 0.3569\n",
            "Epoch 4/10\n",
            "\u001b[1m28/28\u001b[0m \u001b[32m━━━━━━━━━━━━━━━━━━━━\u001b[0m\u001b[37m\u001b[0m \u001b[1m0s\u001b[0m 4ms/step - accuracy: 0.8925 - loss: 0.3078\n",
            "Epoch 5/10\n",
            "\u001b[1m28/28\u001b[0m \u001b[32m━━━━━━━━━━━━━━━━━━━━\u001b[0m\u001b[37m\u001b[0m \u001b[1m0s\u001b[0m 3ms/step - accuracy: 0.8727 - loss: 0.3336\n",
            "Epoch 6/10\n",
            "\u001b[1m28/28\u001b[0m \u001b[32m━━━━━━━━━━━━━━━━━━━━\u001b[0m\u001b[37m\u001b[0m \u001b[1m0s\u001b[0m 6ms/step - accuracy: 0.9059 - loss: 0.2516\n",
            "Epoch 7/10\n",
            "\u001b[1m28/28\u001b[0m \u001b[32m━━━━━━━━━━━━━━━━━━━━\u001b[0m\u001b[37m\u001b[0m \u001b[1m0s\u001b[0m 5ms/step - accuracy: 0.9171 - loss: 0.2490\n",
            "Epoch 8/10\n",
            "\u001b[1m28/28\u001b[0m \u001b[32m━━━━━━━━━━━━━━━━━━━━\u001b[0m\u001b[37m\u001b[0m \u001b[1m0s\u001b[0m 5ms/step - accuracy: 0.9042 - loss: 0.2187\n",
            "Epoch 9/10\n",
            "\u001b[1m28/28\u001b[0m \u001b[32m━━━━━━━━━━━━━━━━━━━━\u001b[0m\u001b[37m\u001b[0m \u001b[1m0s\u001b[0m 5ms/step - accuracy: 0.9071 - loss: 0.2620\n",
            "Epoch 10/10\n",
            "\u001b[1m28/28\u001b[0m \u001b[32m━━━━━━━━━━━━━━━━━━━━\u001b[0m\u001b[37m\u001b[0m \u001b[1m0s\u001b[0m 5ms/step - accuracy: 0.9141 - loss: 0.2383\n",
            "\u001b[1m7/7\u001b[0m \u001b[32m━━━━━━━━━━━━━━━━━━━━\u001b[0m\u001b[37m\u001b[0m \u001b[1m0s\u001b[0m 7ms/step  \n"
          ]
        }
      ],
      "source": [
        "# Definição do modelo Conv1D\n",
        "input_shape = (X_train.shape[1], 1)  # Número de características e 1 canal\n",
        "model = tf.keras.Sequential([\n",
        "    tf.keras.layers.Conv1D(32, kernel_size=3, activation='relu', input_shape=input_shape),\n",
        "    tf.keras.layers.Flatten(),\n",
        "    tf.keras.layers.Dense(1, activation='sigmoid')\n",
        "])\n",
        "\n",
        "# Compilação e treinamento do modelo\n",
        "model.compile(optimizer='adam', loss='binary_crossentropy', metrics=['accuracy'])\n",
        "model.fit(X_train, y_train, epochs=10, batch_size=32)\n",
        "\n",
        "# Predições e métricas\n",
        "y_pred_proba = model.predict(X_test)  # Predições de probabilidade\n",
        "y_pred = (y_pred_proba > 0.5).astype(int)  # Converter para rótulos binários"
      ]
    },
    {
      "cell_type": "code",
      "execution_count": null,
      "metadata": {
        "colab": {
          "base_uri": "https://localhost:8080/"
        },
        "id": "Z5UlZBkc_YDY",
        "outputId": "263bb043-4644-44a5-ab1f-ffbf319ee0d7"
      },
      "outputs": [
        {
          "output_type": "stream",
          "name": "stdout",
          "text": [
            "Acurácia: 0.88\n",
            "Precisão: 0.88\n",
            "Recall: 0.99\n",
            "F1-Score: 0.93\n"
          ]
        }
      ],
      "source": [
        "# Calculando as métricas de classificação\n",
        "accuracy = accuracy_score(y_test, y_pred)\n",
        "precision = precision_score(y_test, y_pred)\n",
        "recall = recall_score(y_test, y_pred)\n",
        "f1 = f1_score(y_test, y_pred)\n",
        "\n",
        "# Exibindo as métricas\n",
        "print(f\"Acurácia: {accuracy:.2f}\")\n",
        "print(f\"Precisão: {precision:.2f}\")\n",
        "print(f\"Recall: {recall:.2f}\")\n",
        "print(f\"F1-Score: {f1:.2f}\")"
      ]
    },
    {
      "cell_type": "code",
      "execution_count": null,
      "metadata": {
        "id": "9wAtuSlxiHr2"
      },
      "outputs": [],
      "source": [
        "output_path = '/content/drive/MyDrive/audios_FOR/amostra_FOR_equalizado_balanced'\n",
        "\n",
        "# Criação das pastas de destino se não existirem\n",
        "os.makedirs(os.path.join(output_path, 'real'), exist_ok=True)\n",
        "os.makedirs(os.path.join(output_path, 'fake'), exist_ok=True)\n",
        "\n",
        "# Listas para armazenar as características e rótulos com equalização aleatória balanceada\n",
        "data_random_equalizer_balanced = []  # Dados com equalização aleatória balanceada\n",
        "labels_random_equalizer_balanced = []  # Rótulos com equalização aleatória balanceada\n",
        "\n",
        "# Função para balancear os dados usando replicação simples\n",
        "def balance_data(real_files, fake_files):\n",
        "    \"\"\"Balanceia os dados replicando aleatoriamente as amostras da classe minoritária.\"\"\"\n",
        "    len_real = len(real_files)\n",
        "    len_fake = len(fake_files)\n",
        "\n",
        "    # Verificar qual classe tem menos amostras\n",
        "    if len_real > len_fake:\n",
        "        # Replicar os arquivos 'fake' até igualar o número\n",
        "        fake_files += random.choices(fake_files, k=len_real - len_fake)\n",
        "    elif len_fake > len_real:\n",
        "        # Replicar os arquivos 'real' até igualar o número\n",
        "        real_files += random.choices(real_files, k=len_fake - len_real)\n",
        "\n",
        "    return real_files, fake_files\n",
        "\n",
        "# Função para aplicar equalização aleatória no áudio\n",
        "def random_equalizer(y):\n",
        "    \"\"\"Aplica equalização aleatória no áudio.\"\"\"\n",
        "    # Exemplo de equalização aleatória (ajuste conforme necessário)\n",
        "    random_factor = random.uniform(0.5, 1.5)\n",
        "    return y * random_factor\n",
        "\n",
        "# Obter listas de arquivos reais e fakes\n",
        "real_files = os.listdir(file_path_real)\n",
        "fake_files = os.listdir(file_path_fake)\n",
        "\n",
        "# Balancear os arquivos\n",
        "real_files, fake_files = balance_data(real_files, fake_files)\n",
        "\n",
        "# Processar Fake\n",
        "for file_name in fake_files:\n",
        "    file_path = os.path.join(file_path_fake, file_name)\n",
        "    y, sr = librosa.load(file_path, sr=None)\n",
        "\n",
        "    # Versão original\n",
        "    features = np.mean(librosa.feature.mfcc(y=y, sr=sr, n_mfcc=13).T, axis=0)\n",
        "    data_random_equalizer_balanced.append(features)\n",
        "    labels_random_equalizer_balanced.append(0)  # Rótulo \"fake\"\n",
        "\n",
        "    # Aplicar equalização aleatória\n",
        "    y_eq = random_equalizer(y)  # Equalização aleatória\n",
        "    features_eq = np.mean(librosa.feature.mfcc(y=y_eq, sr=sr, n_mfcc=13).T, axis=0)\n",
        "    data_random_equalizer_balanced.append(features_eq)\n",
        "    labels_random_equalizer_balanced.append(0)  # Rótulo \"fake\"\n",
        "\n",
        "    # Salvar áudio original na pasta 'fake'\n",
        "    output_file_path = os.path.join(output_path, 'fake', file_name)\n",
        "    sf.write(output_file_path, y, sr)  # Salvando a versão original\n",
        "\n",
        "    # Salvar áudio com equalização aleatória na pasta 'fake' (com sufixo \"_eq\")\n",
        "    output_file_path_eq = os.path.join(output_path, 'fake', file_name.replace('.wav', '_eq.wav'))\n",
        "    sf.write(output_file_path_eq, y_eq, sr)  # Salvando a versão com equalização aleatória\n",
        "\n",
        "# Processar Real\n",
        "for file_name in real_files:\n",
        "    file_path = os.path.join(file_path_real, file_name)\n",
        "    y, sr = librosa.load(file_path, sr=None)\n",
        "\n",
        "    # Versão original\n",
        "    features = np.mean(librosa.feature.mfcc(y=y, sr=sr, n_mfcc=13).T, axis=0)\n",
        "    data_random_equalizer_balanced.append(features)\n",
        "    labels_random_equalizer_balanced.append(1)  # Rótulo \"real\"\n",
        "\n",
        "    # Aplicar equalização aleatória\n",
        "    y_eq = random_equalizer(y)  # Equalização aleatória\n",
        "    features_eq = np.mean(librosa.feature.mfcc(y=y_eq, sr=sr, n_mfcc=13).T, axis=0)\n",
        "    data_random_equalizer_balanced.append(features_eq)\n",
        "    labels_random_equalizer_balanced.append(1)  # Rótulo \"real\"\n",
        "\n",
        "    # Salvar áudio original na pasta 'real'\n",
        "    output_file_path = os.path.join(output_path, 'real', file_name)\n",
        "    sf.write(output_file_path, y, sr)  # Salvando a versão original\n",
        "\n",
        "    # Salvar áudio com equalização aleatória na pasta 'real' (com sufixo \"_eq\")\n",
        "    output_file_path_eq = os.path.join(output_path, 'real', file_name.replace('.wav', '_eq.wav'))\n",
        "    sf.write(output_file_path_eq, y_eq, sr)  # Salvando a versão com equalização aleatória"
      ]
    },
    {
      "cell_type": "code",
      "execution_count": null,
      "metadata": {
        "id": "wXLLsVj9iCPd"
      },
      "outputs": [],
      "source": [
        "# Converter para DataFrame\n",
        "df_random_equalizer_balanced = pd.DataFrame(data_random_equalizer)\n",
        "df_random_equalizer_balanced['label'] = labels_random_equalizer"
      ]
    },
    {
      "cell_type": "code",
      "execution_count": null,
      "metadata": {
        "colab": {
          "base_uri": "https://localhost:8080/"
        },
        "id": "Bdf2QgRWiCPj",
        "outputId": "91e101f1-9f44-4707-ca57-b1e5f3c0956d"
      },
      "outputs": [
        {
          "output_type": "execute_result",
          "data": {
            "text/plain": [
              "               0           1          2          3          4          5  \\\n",
              "0    -310.484985   79.589180  12.035122  21.775892   7.463613  -4.327323   \n",
              "1    -283.490753   79.589180  12.035122  21.775892   7.463614  -4.327323   \n",
              "2    -292.760193   85.521347 -18.103905  14.233822  -1.934288  -8.300287   \n",
              "3    -257.464691   85.521347 -18.103907  14.233820  -1.934288  -8.300288   \n",
              "4    -266.020477  106.608009 -11.326435  17.970966 -11.344944   1.250991   \n",
              "...          ...         ...        ...        ...        ...        ...   \n",
              "1113 -262.382599   69.085464   4.084009  22.119938 -11.278208 -25.925306   \n",
              "1114 -312.793549   82.430946   3.129900  14.186769 -18.484079 -25.799473   \n",
              "1115 -321.810272   82.430954   3.129897  14.186769 -18.484077 -25.799473   \n",
              "1116 -432.503387   52.231987  24.130854  24.908005   5.230207  10.177417   \n",
              "1117 -383.167389   52.231987  24.130854  24.908005   5.230207  10.177417   \n",
              "\n",
              "              6          7          8          9         10         11  \\\n",
              "0      1.702638   5.056441 -11.605008  -8.825641 -12.136454  -8.166679   \n",
              "1      1.702636   5.056441 -11.605009  -8.825641 -12.136454  -8.166678   \n",
              "2    -15.360986 -14.333099  -0.524541 -12.453050  -2.744914 -14.212177   \n",
              "3    -15.360986 -14.333099  -0.524541 -12.453050  -2.744914 -14.212177   \n",
              "4     -5.587977  -6.984388  -5.437147 -10.668830   6.232262 -13.461805   \n",
              "...         ...        ...        ...        ...        ...        ...   \n",
              "1113 -23.227934 -21.648050  -9.808347  -1.174034 -23.784950   1.368764   \n",
              "1114 -17.645624 -17.211958 -12.702026  -4.227543 -22.298204   0.184280   \n",
              "1115 -17.645622 -17.211958 -12.702025  -4.227544 -22.298206   0.184281   \n",
              "1116   1.667769  11.312072  14.200116  13.155353   9.546826  18.923155   \n",
              "1117   1.667769  11.312070  14.200116  13.155353   9.546827  18.923153   \n",
              "\n",
              "             12  label  \n",
              "0     -7.886450      0  \n",
              "1     -7.886451      0  \n",
              "2      0.993812      0  \n",
              "3      0.993813      0  \n",
              "4      6.319636      0  \n",
              "...         ...    ...  \n",
              "1113 -17.619232      1  \n",
              "1114 -17.449095      1  \n",
              "1115 -17.449099      1  \n",
              "1116   7.199302      1  \n",
              "1117   7.199302      1  \n",
              "\n",
              "[1118 rows x 14 columns]"
            ],
            "text/html": [
              "\n",
              "  <div id=\"df-cfffb6b5-641c-40da-a1cc-5d0917f93db0\" class=\"colab-df-container\">\n",
              "    <div>\n",
              "<style scoped>\n",
              "    .dataframe tbody tr th:only-of-type {\n",
              "        vertical-align: middle;\n",
              "    }\n",
              "\n",
              "    .dataframe tbody tr th {\n",
              "        vertical-align: top;\n",
              "    }\n",
              "\n",
              "    .dataframe thead th {\n",
              "        text-align: right;\n",
              "    }\n",
              "</style>\n",
              "<table border=\"1\" class=\"dataframe\">\n",
              "  <thead>\n",
              "    <tr style=\"text-align: right;\">\n",
              "      <th></th>\n",
              "      <th>0</th>\n",
              "      <th>1</th>\n",
              "      <th>2</th>\n",
              "      <th>3</th>\n",
              "      <th>4</th>\n",
              "      <th>5</th>\n",
              "      <th>6</th>\n",
              "      <th>7</th>\n",
              "      <th>8</th>\n",
              "      <th>9</th>\n",
              "      <th>10</th>\n",
              "      <th>11</th>\n",
              "      <th>12</th>\n",
              "      <th>label</th>\n",
              "    </tr>\n",
              "  </thead>\n",
              "  <tbody>\n",
              "    <tr>\n",
              "      <th>0</th>\n",
              "      <td>-310.484985</td>\n",
              "      <td>79.589180</td>\n",
              "      <td>12.035122</td>\n",
              "      <td>21.775892</td>\n",
              "      <td>7.463613</td>\n",
              "      <td>-4.327323</td>\n",
              "      <td>1.702638</td>\n",
              "      <td>5.056441</td>\n",
              "      <td>-11.605008</td>\n",
              "      <td>-8.825641</td>\n",
              "      <td>-12.136454</td>\n",
              "      <td>-8.166679</td>\n",
              "      <td>-7.886450</td>\n",
              "      <td>0</td>\n",
              "    </tr>\n",
              "    <tr>\n",
              "      <th>1</th>\n",
              "      <td>-283.490753</td>\n",
              "      <td>79.589180</td>\n",
              "      <td>12.035122</td>\n",
              "      <td>21.775892</td>\n",
              "      <td>7.463614</td>\n",
              "      <td>-4.327323</td>\n",
              "      <td>1.702636</td>\n",
              "      <td>5.056441</td>\n",
              "      <td>-11.605009</td>\n",
              "      <td>-8.825641</td>\n",
              "      <td>-12.136454</td>\n",
              "      <td>-8.166678</td>\n",
              "      <td>-7.886451</td>\n",
              "      <td>0</td>\n",
              "    </tr>\n",
              "    <tr>\n",
              "      <th>2</th>\n",
              "      <td>-292.760193</td>\n",
              "      <td>85.521347</td>\n",
              "      <td>-18.103905</td>\n",
              "      <td>14.233822</td>\n",
              "      <td>-1.934288</td>\n",
              "      <td>-8.300287</td>\n",
              "      <td>-15.360986</td>\n",
              "      <td>-14.333099</td>\n",
              "      <td>-0.524541</td>\n",
              "      <td>-12.453050</td>\n",
              "      <td>-2.744914</td>\n",
              "      <td>-14.212177</td>\n",
              "      <td>0.993812</td>\n",
              "      <td>0</td>\n",
              "    </tr>\n",
              "    <tr>\n",
              "      <th>3</th>\n",
              "      <td>-257.464691</td>\n",
              "      <td>85.521347</td>\n",
              "      <td>-18.103907</td>\n",
              "      <td>14.233820</td>\n",
              "      <td>-1.934288</td>\n",
              "      <td>-8.300288</td>\n",
              "      <td>-15.360986</td>\n",
              "      <td>-14.333099</td>\n",
              "      <td>-0.524541</td>\n",
              "      <td>-12.453050</td>\n",
              "      <td>-2.744914</td>\n",
              "      <td>-14.212177</td>\n",
              "      <td>0.993813</td>\n",
              "      <td>0</td>\n",
              "    </tr>\n",
              "    <tr>\n",
              "      <th>4</th>\n",
              "      <td>-266.020477</td>\n",
              "      <td>106.608009</td>\n",
              "      <td>-11.326435</td>\n",
              "      <td>17.970966</td>\n",
              "      <td>-11.344944</td>\n",
              "      <td>1.250991</td>\n",
              "      <td>-5.587977</td>\n",
              "      <td>-6.984388</td>\n",
              "      <td>-5.437147</td>\n",
              "      <td>-10.668830</td>\n",
              "      <td>6.232262</td>\n",
              "      <td>-13.461805</td>\n",
              "      <td>6.319636</td>\n",
              "      <td>0</td>\n",
              "    </tr>\n",
              "    <tr>\n",
              "      <th>...</th>\n",
              "      <td>...</td>\n",
              "      <td>...</td>\n",
              "      <td>...</td>\n",
              "      <td>...</td>\n",
              "      <td>...</td>\n",
              "      <td>...</td>\n",
              "      <td>...</td>\n",
              "      <td>...</td>\n",
              "      <td>...</td>\n",
              "      <td>...</td>\n",
              "      <td>...</td>\n",
              "      <td>...</td>\n",
              "      <td>...</td>\n",
              "      <td>...</td>\n",
              "    </tr>\n",
              "    <tr>\n",
              "      <th>1113</th>\n",
              "      <td>-262.382599</td>\n",
              "      <td>69.085464</td>\n",
              "      <td>4.084009</td>\n",
              "      <td>22.119938</td>\n",
              "      <td>-11.278208</td>\n",
              "      <td>-25.925306</td>\n",
              "      <td>-23.227934</td>\n",
              "      <td>-21.648050</td>\n",
              "      <td>-9.808347</td>\n",
              "      <td>-1.174034</td>\n",
              "      <td>-23.784950</td>\n",
              "      <td>1.368764</td>\n",
              "      <td>-17.619232</td>\n",
              "      <td>1</td>\n",
              "    </tr>\n",
              "    <tr>\n",
              "      <th>1114</th>\n",
              "      <td>-312.793549</td>\n",
              "      <td>82.430946</td>\n",
              "      <td>3.129900</td>\n",
              "      <td>14.186769</td>\n",
              "      <td>-18.484079</td>\n",
              "      <td>-25.799473</td>\n",
              "      <td>-17.645624</td>\n",
              "      <td>-17.211958</td>\n",
              "      <td>-12.702026</td>\n",
              "      <td>-4.227543</td>\n",
              "      <td>-22.298204</td>\n",
              "      <td>0.184280</td>\n",
              "      <td>-17.449095</td>\n",
              "      <td>1</td>\n",
              "    </tr>\n",
              "    <tr>\n",
              "      <th>1115</th>\n",
              "      <td>-321.810272</td>\n",
              "      <td>82.430954</td>\n",
              "      <td>3.129897</td>\n",
              "      <td>14.186769</td>\n",
              "      <td>-18.484077</td>\n",
              "      <td>-25.799473</td>\n",
              "      <td>-17.645622</td>\n",
              "      <td>-17.211958</td>\n",
              "      <td>-12.702025</td>\n",
              "      <td>-4.227544</td>\n",
              "      <td>-22.298206</td>\n",
              "      <td>0.184281</td>\n",
              "      <td>-17.449099</td>\n",
              "      <td>1</td>\n",
              "    </tr>\n",
              "    <tr>\n",
              "      <th>1116</th>\n",
              "      <td>-432.503387</td>\n",
              "      <td>52.231987</td>\n",
              "      <td>24.130854</td>\n",
              "      <td>24.908005</td>\n",
              "      <td>5.230207</td>\n",
              "      <td>10.177417</td>\n",
              "      <td>1.667769</td>\n",
              "      <td>11.312072</td>\n",
              "      <td>14.200116</td>\n",
              "      <td>13.155353</td>\n",
              "      <td>9.546826</td>\n",
              "      <td>18.923155</td>\n",
              "      <td>7.199302</td>\n",
              "      <td>1</td>\n",
              "    </tr>\n",
              "    <tr>\n",
              "      <th>1117</th>\n",
              "      <td>-383.167389</td>\n",
              "      <td>52.231987</td>\n",
              "      <td>24.130854</td>\n",
              "      <td>24.908005</td>\n",
              "      <td>5.230207</td>\n",
              "      <td>10.177417</td>\n",
              "      <td>1.667769</td>\n",
              "      <td>11.312070</td>\n",
              "      <td>14.200116</td>\n",
              "      <td>13.155353</td>\n",
              "      <td>9.546827</td>\n",
              "      <td>18.923153</td>\n",
              "      <td>7.199302</td>\n",
              "      <td>1</td>\n",
              "    </tr>\n",
              "  </tbody>\n",
              "</table>\n",
              "<p>1118 rows × 14 columns</p>\n",
              "</div>\n",
              "    <div class=\"colab-df-buttons\">\n",
              "\n",
              "  <div class=\"colab-df-container\">\n",
              "    <button class=\"colab-df-convert\" onclick=\"convertToInteractive('df-cfffb6b5-641c-40da-a1cc-5d0917f93db0')\"\n",
              "            title=\"Convert this dataframe to an interactive table.\"\n",
              "            style=\"display:none;\">\n",
              "\n",
              "  <svg xmlns=\"http://www.w3.org/2000/svg\" height=\"24px\" viewBox=\"0 -960 960 960\">\n",
              "    <path d=\"M120-120v-720h720v720H120Zm60-500h600v-160H180v160Zm220 220h160v-160H400v160Zm0 220h160v-160H400v160ZM180-400h160v-160H180v160Zm440 0h160v-160H620v160ZM180-180h160v-160H180v160Zm440 0h160v-160H620v160Z\"/>\n",
              "  </svg>\n",
              "    </button>\n",
              "\n",
              "  <style>\n",
              "    .colab-df-container {\n",
              "      display:flex;\n",
              "      gap: 12px;\n",
              "    }\n",
              "\n",
              "    .colab-df-convert {\n",
              "      background-color: #E8F0FE;\n",
              "      border: none;\n",
              "      border-radius: 50%;\n",
              "      cursor: pointer;\n",
              "      display: none;\n",
              "      fill: #1967D2;\n",
              "      height: 32px;\n",
              "      padding: 0 0 0 0;\n",
              "      width: 32px;\n",
              "    }\n",
              "\n",
              "    .colab-df-convert:hover {\n",
              "      background-color: #E2EBFA;\n",
              "      box-shadow: 0px 1px 2px rgba(60, 64, 67, 0.3), 0px 1px 3px 1px rgba(60, 64, 67, 0.15);\n",
              "      fill: #174EA6;\n",
              "    }\n",
              "\n",
              "    .colab-df-buttons div {\n",
              "      margin-bottom: 4px;\n",
              "    }\n",
              "\n",
              "    [theme=dark] .colab-df-convert {\n",
              "      background-color: #3B4455;\n",
              "      fill: #D2E3FC;\n",
              "    }\n",
              "\n",
              "    [theme=dark] .colab-df-convert:hover {\n",
              "      background-color: #434B5C;\n",
              "      box-shadow: 0px 1px 3px 1px rgba(0, 0, 0, 0.15);\n",
              "      filter: drop-shadow(0px 1px 2px rgba(0, 0, 0, 0.3));\n",
              "      fill: #FFFFFF;\n",
              "    }\n",
              "  </style>\n",
              "\n",
              "    <script>\n",
              "      const buttonEl =\n",
              "        document.querySelector('#df-cfffb6b5-641c-40da-a1cc-5d0917f93db0 button.colab-df-convert');\n",
              "      buttonEl.style.display =\n",
              "        google.colab.kernel.accessAllowed ? 'block' : 'none';\n",
              "\n",
              "      async function convertToInteractive(key) {\n",
              "        const element = document.querySelector('#df-cfffb6b5-641c-40da-a1cc-5d0917f93db0');\n",
              "        const dataTable =\n",
              "          await google.colab.kernel.invokeFunction('convertToInteractive',\n",
              "                                                    [key], {});\n",
              "        if (!dataTable) return;\n",
              "\n",
              "        const docLinkHtml = 'Like what you see? Visit the ' +\n",
              "          '<a target=\"_blank\" href=https://colab.research.google.com/notebooks/data_table.ipynb>data table notebook</a>'\n",
              "          + ' to learn more about interactive tables.';\n",
              "        element.innerHTML = '';\n",
              "        dataTable['output_type'] = 'display_data';\n",
              "        await google.colab.output.renderOutput(dataTable, element);\n",
              "        const docLink = document.createElement('div');\n",
              "        docLink.innerHTML = docLinkHtml;\n",
              "        element.appendChild(docLink);\n",
              "      }\n",
              "    </script>\n",
              "  </div>\n",
              "\n",
              "\n",
              "<div id=\"df-8ffd45d4-75f5-41ac-88a3-d9da5e99004e\">\n",
              "  <button class=\"colab-df-quickchart\" onclick=\"quickchart('df-8ffd45d4-75f5-41ac-88a3-d9da5e99004e')\"\n",
              "            title=\"Suggest charts\"\n",
              "            style=\"display:none;\">\n",
              "\n",
              "<svg xmlns=\"http://www.w3.org/2000/svg\" height=\"24px\"viewBox=\"0 0 24 24\"\n",
              "     width=\"24px\">\n",
              "    <g>\n",
              "        <path d=\"M19 3H5c-1.1 0-2 .9-2 2v14c0 1.1.9 2 2 2h14c1.1 0 2-.9 2-2V5c0-1.1-.9-2-2-2zM9 17H7v-7h2v7zm4 0h-2V7h2v10zm4 0h-2v-4h2v4z\"/>\n",
              "    </g>\n",
              "</svg>\n",
              "  </button>\n",
              "\n",
              "<style>\n",
              "  .colab-df-quickchart {\n",
              "      --bg-color: #E8F0FE;\n",
              "      --fill-color: #1967D2;\n",
              "      --hover-bg-color: #E2EBFA;\n",
              "      --hover-fill-color: #174EA6;\n",
              "      --disabled-fill-color: #AAA;\n",
              "      --disabled-bg-color: #DDD;\n",
              "  }\n",
              "\n",
              "  [theme=dark] .colab-df-quickchart {\n",
              "      --bg-color: #3B4455;\n",
              "      --fill-color: #D2E3FC;\n",
              "      --hover-bg-color: #434B5C;\n",
              "      --hover-fill-color: #FFFFFF;\n",
              "      --disabled-bg-color: #3B4455;\n",
              "      --disabled-fill-color: #666;\n",
              "  }\n",
              "\n",
              "  .colab-df-quickchart {\n",
              "    background-color: var(--bg-color);\n",
              "    border: none;\n",
              "    border-radius: 50%;\n",
              "    cursor: pointer;\n",
              "    display: none;\n",
              "    fill: var(--fill-color);\n",
              "    height: 32px;\n",
              "    padding: 0;\n",
              "    width: 32px;\n",
              "  }\n",
              "\n",
              "  .colab-df-quickchart:hover {\n",
              "    background-color: var(--hover-bg-color);\n",
              "    box-shadow: 0 1px 2px rgba(60, 64, 67, 0.3), 0 1px 3px 1px rgba(60, 64, 67, 0.15);\n",
              "    fill: var(--button-hover-fill-color);\n",
              "  }\n",
              "\n",
              "  .colab-df-quickchart-complete:disabled,\n",
              "  .colab-df-quickchart-complete:disabled:hover {\n",
              "    background-color: var(--disabled-bg-color);\n",
              "    fill: var(--disabled-fill-color);\n",
              "    box-shadow: none;\n",
              "  }\n",
              "\n",
              "  .colab-df-spinner {\n",
              "    border: 2px solid var(--fill-color);\n",
              "    border-color: transparent;\n",
              "    border-bottom-color: var(--fill-color);\n",
              "    animation:\n",
              "      spin 1s steps(1) infinite;\n",
              "  }\n",
              "\n",
              "  @keyframes spin {\n",
              "    0% {\n",
              "      border-color: transparent;\n",
              "      border-bottom-color: var(--fill-color);\n",
              "      border-left-color: var(--fill-color);\n",
              "    }\n",
              "    20% {\n",
              "      border-color: transparent;\n",
              "      border-left-color: var(--fill-color);\n",
              "      border-top-color: var(--fill-color);\n",
              "    }\n",
              "    30% {\n",
              "      border-color: transparent;\n",
              "      border-left-color: var(--fill-color);\n",
              "      border-top-color: var(--fill-color);\n",
              "      border-right-color: var(--fill-color);\n",
              "    }\n",
              "    40% {\n",
              "      border-color: transparent;\n",
              "      border-right-color: var(--fill-color);\n",
              "      border-top-color: var(--fill-color);\n",
              "    }\n",
              "    60% {\n",
              "      border-color: transparent;\n",
              "      border-right-color: var(--fill-color);\n",
              "    }\n",
              "    80% {\n",
              "      border-color: transparent;\n",
              "      border-right-color: var(--fill-color);\n",
              "      border-bottom-color: var(--fill-color);\n",
              "    }\n",
              "    90% {\n",
              "      border-color: transparent;\n",
              "      border-bottom-color: var(--fill-color);\n",
              "    }\n",
              "  }\n",
              "</style>\n",
              "\n",
              "  <script>\n",
              "    async function quickchart(key) {\n",
              "      const quickchartButtonEl =\n",
              "        document.querySelector('#' + key + ' button');\n",
              "      quickchartButtonEl.disabled = true;  // To prevent multiple clicks.\n",
              "      quickchartButtonEl.classList.add('colab-df-spinner');\n",
              "      try {\n",
              "        const charts = await google.colab.kernel.invokeFunction(\n",
              "            'suggestCharts', [key], {});\n",
              "      } catch (error) {\n",
              "        console.error('Error during call to suggestCharts:', error);\n",
              "      }\n",
              "      quickchartButtonEl.classList.remove('colab-df-spinner');\n",
              "      quickchartButtonEl.classList.add('colab-df-quickchart-complete');\n",
              "    }\n",
              "    (() => {\n",
              "      let quickchartButtonEl =\n",
              "        document.querySelector('#df-8ffd45d4-75f5-41ac-88a3-d9da5e99004e button');\n",
              "      quickchartButtonEl.style.display =\n",
              "        google.colab.kernel.accessAllowed ? 'block' : 'none';\n",
              "    })();\n",
              "  </script>\n",
              "</div>\n",
              "\n",
              "  <div id=\"id_fbfe7b22-dab8-4e91-97e5-254c89dfca84\">\n",
              "    <style>\n",
              "      .colab-df-generate {\n",
              "        background-color: #E8F0FE;\n",
              "        border: none;\n",
              "        border-radius: 50%;\n",
              "        cursor: pointer;\n",
              "        display: none;\n",
              "        fill: #1967D2;\n",
              "        height: 32px;\n",
              "        padding: 0 0 0 0;\n",
              "        width: 32px;\n",
              "      }\n",
              "\n",
              "      .colab-df-generate:hover {\n",
              "        background-color: #E2EBFA;\n",
              "        box-shadow: 0px 1px 2px rgba(60, 64, 67, 0.3), 0px 1px 3px 1px rgba(60, 64, 67, 0.15);\n",
              "        fill: #174EA6;\n",
              "      }\n",
              "\n",
              "      [theme=dark] .colab-df-generate {\n",
              "        background-color: #3B4455;\n",
              "        fill: #D2E3FC;\n",
              "      }\n",
              "\n",
              "      [theme=dark] .colab-df-generate:hover {\n",
              "        background-color: #434B5C;\n",
              "        box-shadow: 0px 1px 3px 1px rgba(0, 0, 0, 0.15);\n",
              "        filter: drop-shadow(0px 1px 2px rgba(0, 0, 0, 0.3));\n",
              "        fill: #FFFFFF;\n",
              "      }\n",
              "    </style>\n",
              "    <button class=\"colab-df-generate\" onclick=\"generateWithVariable('df_random_equalizer_balanced')\"\n",
              "            title=\"Generate code using this dataframe.\"\n",
              "            style=\"display:none;\">\n",
              "\n",
              "  <svg xmlns=\"http://www.w3.org/2000/svg\" height=\"24px\"viewBox=\"0 0 24 24\"\n",
              "       width=\"24px\">\n",
              "    <path d=\"M7,19H8.4L18.45,9,17,7.55,7,17.6ZM5,21V16.75L18.45,3.32a2,2,0,0,1,2.83,0l1.4,1.43a1.91,1.91,0,0,1,.58,1.4,1.91,1.91,0,0,1-.58,1.4L9.25,21ZM18.45,9,17,7.55Zm-12,3A5.31,5.31,0,0,0,4.9,8.1,5.31,5.31,0,0,0,1,6.5,5.31,5.31,0,0,0,4.9,4.9,5.31,5.31,0,0,0,6.5,1,5.31,5.31,0,0,0,8.1,4.9,5.31,5.31,0,0,0,12,6.5,5.46,5.46,0,0,0,6.5,12Z\"/>\n",
              "  </svg>\n",
              "    </button>\n",
              "    <script>\n",
              "      (() => {\n",
              "      const buttonEl =\n",
              "        document.querySelector('#id_fbfe7b22-dab8-4e91-97e5-254c89dfca84 button.colab-df-generate');\n",
              "      buttonEl.style.display =\n",
              "        google.colab.kernel.accessAllowed ? 'block' : 'none';\n",
              "\n",
              "      buttonEl.onclick = () => {\n",
              "        google.colab.notebook.generateWithVariable('df_random_equalizer_balanced');\n",
              "      }\n",
              "      })();\n",
              "    </script>\n",
              "  </div>\n",
              "\n",
              "    </div>\n",
              "  </div>\n"
            ],
            "application/vnd.google.colaboratory.intrinsic+json": {
              "type": "dataframe",
              "variable_name": "df_random_equalizer_balanced",
              "summary": "{\n  \"name\": \"df_random_equalizer_balanced\",\n  \"rows\": 1118,\n  \"fields\": [\n    {\n      \"column\": 0,\n      \"properties\": {\n        \"dtype\": \"float32\",\n        \"num_unique_values\": 1118,\n        \"samples\": [\n          -266.94964599609375,\n          -405.89080810546875,\n          -307.13262939453125\n        ],\n        \"semantic_type\": \"\",\n        \"description\": \"\"\n      }\n    },\n    {\n      \"column\": 1,\n      \"properties\": {\n        \"dtype\": \"float32\",\n        \"num_unique_values\": 688,\n        \"samples\": [\n          94.58033752441406,\n          82.61577606201172,\n          85.15384674072266\n        ],\n        \"semantic_type\": \"\",\n        \"description\": \"\"\n      }\n    },\n    {\n      \"column\": 2,\n      \"properties\": {\n        \"dtype\": \"float32\",\n        \"num_unique_values\": 954,\n        \"samples\": [\n          4.631670951843262,\n          -39.03362274169922,\n          46.67317199707031\n        ],\n        \"semantic_type\": \"\",\n        \"description\": \"\"\n      }\n    },\n    {\n      \"column\": 3,\n      \"properties\": {\n        \"dtype\": \"float32\",\n        \"num_unique_values\": 819,\n        \"samples\": [\n          27.42670440673828,\n          36.899105072021484,\n          12.253683090209961\n        ],\n        \"semantic_type\": \"\",\n        \"description\": \"\"\n      }\n    },\n    {\n      \"column\": 4,\n      \"properties\": {\n        \"dtype\": \"float32\",\n        \"num_unique_values\": 890,\n        \"samples\": [\n          -20.178686141967773,\n          7.775293350219727,\n          -10.558148384094238\n        ],\n        \"semantic_type\": \"\",\n        \"description\": \"\"\n      }\n    },\n    {\n      \"column\": 5,\n      \"properties\": {\n        \"dtype\": \"float32\",\n        \"num_unique_values\": 893,\n        \"samples\": [\n          5.140613555908203,\n          -0.20331288874149323,\n          -17.425437927246094\n        ],\n        \"semantic_type\": \"\",\n        \"description\": \"\"\n      }\n    },\n    {\n      \"column\": 6,\n      \"properties\": {\n        \"dtype\": \"float32\",\n        \"num_unique_values\": 870,\n        \"samples\": [\n          -13.91630744934082,\n          3.173553228378296,\n          -19.993602752685547\n        ],\n        \"semantic_type\": \"\",\n        \"description\": \"\"\n      }\n    },\n    {\n      \"column\": 7,\n      \"properties\": {\n        \"dtype\": \"float32\",\n        \"num_unique_values\": 860,\n        \"samples\": [\n          -3.3988096714019775,\n          -11.68162727355957,\n          9.559698104858398\n        ],\n        \"semantic_type\": \"\",\n        \"description\": \"\"\n      }\n    },\n    {\n      \"column\": 8,\n      \"properties\": {\n        \"dtype\": \"float32\",\n        \"num_unique_values\": 907,\n        \"samples\": [\n          9.519734382629395,\n          -6.9534993171691895,\n          1.374901294708252\n        ],\n        \"semantic_type\": \"\",\n        \"description\": \"\"\n      }\n    },\n    {\n      \"column\": 9,\n      \"properties\": {\n        \"dtype\": \"float32\",\n        \"num_unique_values\": 916,\n        \"samples\": [\n          0.49540194869041443,\n          -3.1092958450317383,\n          6.385898590087891\n        ],\n        \"semantic_type\": \"\",\n        \"description\": \"\"\n      }\n    },\n    {\n      \"column\": 10,\n      \"properties\": {\n        \"dtype\": \"float32\",\n        \"num_unique_values\": 869,\n        \"samples\": [\n          -15.442193984985352,\n          -7.0099873542785645,\n          -23.132841110229492\n        ],\n        \"semantic_type\": \"\",\n        \"description\": \"\"\n      }\n    },\n    {\n      \"column\": 11,\n      \"properties\": {\n        \"dtype\": \"float32\",\n        \"num_unique_values\": 956,\n        \"samples\": [\n          -0.41816261410713196,\n          -7.188167572021484,\n          6.010176658630371\n        ],\n        \"semantic_type\": \"\",\n        \"description\": \"\"\n      }\n    },\n    {\n      \"column\": 12,\n      \"properties\": {\n        \"dtype\": \"float32\",\n        \"num_unique_values\": 895,\n        \"samples\": [\n          -3.014298677444458,\n          -7.883921146392822,\n          0.7385722994804382\n        ],\n        \"semantic_type\": \"\",\n        \"description\": \"\"\n      }\n    },\n    {\n      \"column\": \"label\",\n      \"properties\": {\n        \"dtype\": \"number\",\n        \"std\": 0,\n        \"min\": 0,\n        \"max\": 1,\n        \"num_unique_values\": 2,\n        \"samples\": [\n          1,\n          0\n        ],\n        \"semantic_type\": \"\",\n        \"description\": \"\"\n      }\n    }\n  ]\n}"
            }
          },
          "metadata": {},
          "execution_count": 55
        }
      ],
      "source": [
        "df_random_equalizer_balanced"
      ]
    },
    {
      "cell_type": "code",
      "execution_count": null,
      "metadata": {
        "colab": {
          "base_uri": "https://localhost:8080/",
          "height": 569
        },
        "id": "cfbBKnY6iCPm",
        "outputId": "f362ad6b-6387-4978-af1c-786bab7486a2"
      },
      "outputs": [
        {
          "output_type": "display_data",
          "data": {
            "text/plain": [
              "<Figure size 1000x600 with 1 Axes>"
            ],
            "image/png": "[encoded data removed]"
          },
          "metadata": {}
        }
      ],
      "source": [
        "# Contar as ocorrências de cada label\n",
        "label_counts = [labels_random_equalizer_balanced.count(0), labels_random_equalizer_balanced.count(1)]\n",
        "\n",
        "# Plotando o gráfico\n",
        "plt.figure(figsize=(10, 6))  # Ajuste do tamanho do gráfico\n",
        "plt.bar([0, 1], label_counts, tick_label=['Fake', 'Real'], color=['#1f77b4', '#ff7f0e'])\n",
        "\n",
        "# Adicionando rótulos e título\n",
        "plt.xlabel('Tipo dos Áudios')\n",
        "plt.ylabel('Quantidade')\n",
        "plt.title('Balanço de Áudios Reais e Fakes')\n",
        "plt.show()"
      ]
    },
    {
      "cell_type": "code",
      "execution_count": null,
      "metadata": {
        "id": "9_P1_w_YiCPo"
      },
      "outputs": [],
      "source": [
        "# Separar características (X) e rótulos (y)\n",
        "X = df_random_equalizer_balanced.drop(columns=['label'])\n",
        "y = df_random_equalizer_balanced['label']\n",
        "\n",
        "# Dividir em treino e teste\n",
        "X_train, X_test, y_train, y_test = train_test_split(X, y, test_size=0.2, random_state=42)"
      ]
    },
    {
      "cell_type": "code",
      "execution_count": null,
      "metadata": {
        "colab": {
          "base_uri": "https://localhost:8080/"
        },
        "id": "gpkMYVaH_b0j",
        "outputId": "277b321d-c7ad-4e47-d46e-94919b1cf16a"
      },
      "outputs": [
        {
          "output_type": "stream",
          "name": "stdout",
          "text": [
            "Epoch 1/10\n"
          ]
        },
        {
          "output_type": "stream",
          "name": "stderr",
          "text": [
            "/usr/local/lib/python3.11/dist-packages/keras/src/layers/core/dense.py:87: UserWarning: Do not pass an `input_shape`/`input_dim` argument to a layer. When using Sequential models, prefer using an `Input(shape)` object as the first layer in the model instead.\n",
            "  super().__init__(activity_regularizer=activity_regularizer, **kwargs)\n"
          ]
        },
        {
          "output_type": "stream",
          "name": "stdout",
          "text": [
            "\u001b[1m28/28\u001b[0m \u001b[32m━━━━━━━━━━━━━━━━━━━━\u001b[0m\u001b[37m\u001b[0m \u001b[1m1s\u001b[0m 3ms/step - accuracy: 0.6939 - loss: 4.3320\n",
            "Epoch 2/10\n",
            "\u001b[1m28/28\u001b[0m \u001b[32m━━━━━━━━━━━━━━━━━━━━\u001b[0m\u001b[37m\u001b[0m \u001b[1m0s\u001b[0m 3ms/step - accuracy: 0.6784 - loss: 1.1779\n",
            "Epoch 3/10\n",
            "\u001b[1m28/28\u001b[0m \u001b[32m━━━━━━━━━━━━━━━━━━━━\u001b[0m\u001b[37m\u001b[0m \u001b[1m0s\u001b[0m 3ms/step - accuracy: 0.7508 - loss: 0.7740\n",
            "Epoch 4/10\n",
            "\u001b[1m28/28\u001b[0m \u001b[32m━━━━━━━━━━━━━━━━━━━━\u001b[0m\u001b[37m\u001b[0m \u001b[1m0s\u001b[0m 3ms/step - accuracy: 0.7985 - loss: 0.5338\n",
            "Epoch 5/10\n",
            "\u001b[1m28/28\u001b[0m \u001b[32m━━━━━━━━━━━━━━━━━━━━\u001b[0m\u001b[37m\u001b[0m \u001b[1m0s\u001b[0m 4ms/step - accuracy: 0.8413 - loss: 0.3758\n",
            "Epoch 6/10\n",
            "\u001b[1m28/28\u001b[0m \u001b[32m━━━━━━━━━━━━━━━━━━━━\u001b[0m\u001b[37m\u001b[0m \u001b[1m0s\u001b[0m 4ms/step - accuracy: 0.8410 - loss: 0.3665\n",
            "Epoch 7/10\n",
            "\u001b[1m28/28\u001b[0m \u001b[32m━━━━━━━━━━━━━━━━━━━━\u001b[0m\u001b[37m\u001b[0m \u001b[1m0s\u001b[0m 3ms/step - accuracy: 0.8956 - loss: 0.2972\n",
            "Epoch 8/10\n",
            "\u001b[1m28/28\u001b[0m \u001b[32m━━━━━━━━━━━━━━━━━━━━\u001b[0m\u001b[37m\u001b[0m \u001b[1m0s\u001b[0m 3ms/step - accuracy: 0.8928 - loss: 0.2997\n",
            "Epoch 9/10\n",
            "\u001b[1m28/28\u001b[0m \u001b[32m━━━━━━━━━━━━━━━━━━━━\u001b[0m\u001b[37m\u001b[0m \u001b[1m0s\u001b[0m 4ms/step - accuracy: 0.8470 - loss: 0.3492\n",
            "Epoch 10/10\n",
            "\u001b[1m28/28\u001b[0m \u001b[32m━━━━━━━━━━━━━━━━━━━━\u001b[0m\u001b[37m\u001b[0m \u001b[1m0s\u001b[0m 3ms/step - accuracy: 0.8789 - loss: 0.2908\n",
            "\u001b[1m7/7\u001b[0m \u001b[32m━━━━━━━━━━━━━━━━━━━━\u001b[0m\u001b[37m\u001b[0m \u001b[1m0s\u001b[0m 5ms/step \n"
          ]
        }
      ],
      "source": [
        "# Definição do modelo DNN\n",
        "model = tf.keras.Sequential([\n",
        "    tf.keras.layers.Dense(64, activation='relu', input_shape=(X_train.shape[1],)),\n",
        "    tf.keras.layers.Dense(1, activation='sigmoid')\n",
        "])\n",
        "\n",
        "# Compilação e treinamento do modelo\n",
        "model.compile(optimizer='adam', loss='binary_crossentropy', metrics=['accuracy'])\n",
        "model.fit(X_train, y_train, epochs=10, batch_size=32)\n",
        "\n",
        "# Predições e métricas\n",
        "y_pred_proba = model.predict(X_test)  # Predições de probabilidade\n",
        "y_pred = (y_pred_proba > 0.5).astype(int)  # Converter para rótulos binários"
      ]
    },
    {
      "cell_type": "code",
      "execution_count": null,
      "metadata": {
        "colab": {
          "base_uri": "https://localhost:8080/"
        },
        "id": "h7jU9-lZ_b0l",
        "outputId": "487a77c2-3062-4a44-fb8a-9fba81677945"
      },
      "outputs": [
        {
          "output_type": "stream",
          "name": "stdout",
          "text": [
            "Acurácia: 0.87\n",
            "Precisão: 0.92\n",
            "Recall: 0.91\n",
            "F1-Score: 0.92\n"
          ]
        }
      ],
      "source": [
        "# Calculando as métricas de classificação\n",
        "accuracy = accuracy_score(y_test, y_pred)\n",
        "precision = precision_score(y_test, y_pred)\n",
        "recall = recall_score(y_test, y_pred)\n",
        "f1 = f1_score(y_test, y_pred)\n",
        "\n",
        "# Exibindo as métricas\n",
        "print(f\"Acurácia: {accuracy:.2f}\")\n",
        "print(f\"Precisão: {precision:.2f}\")\n",
        "print(f\"Recall: {recall:.2f}\")\n",
        "print(f\"F1-Score: {f1:.2f}\")"
      ]
    },
    {
      "cell_type": "code",
      "execution_count": null,
      "metadata": {
        "id": "7iuEO_5h_b0n"
      },
      "outputs": [],
      "source": [
        "# Treinando um modelo de regressão linear\n",
        "model = RandomForestClassifier()\n",
        "rfc = model.fit(X_train, y_train)\n",
        "\n",
        "# Fazendo previsões no conjunto de teste\n",
        "y_pred = rfc.predict(X_test)"
      ]
    },
    {
      "cell_type": "code",
      "execution_count": null,
      "metadata": {
        "colab": {
          "base_uri": "https://localhost:8080/"
        },
        "id": "fH2PtAkt_b0o",
        "outputId": "cf3371d1-3936-4079-9856-2aaddeef0e3b"
      },
      "outputs": [
        {
          "output_type": "stream",
          "name": "stdout",
          "text": [
            "Acurácia: 0.97\n",
            "Precisão: 0.97\n",
            "Recall: 0.99\n",
            "F1-Score: 0.98\n"
          ]
        }
      ],
      "source": [
        "# Calculando as métricas de classificação\n",
        "accuracy = accuracy_score(y_test, y_pred)\n",
        "precision = precision_score(y_test, y_pred)\n",
        "recall = recall_score(y_test, y_pred)\n",
        "f1 = f1_score(y_test, y_pred)\n",
        "\n",
        "# Exibindo as métricas\n",
        "print(f\"Acurácia: {accuracy:.2f}\")\n",
        "print(f\"Precisão: {precision:.2f}\")\n",
        "print(f\"Recall: {recall:.2f}\")\n",
        "print(f\"F1-Score: {f1:.2f}\")"
      ]
    },
    {
      "cell_type": "code",
      "execution_count": null,
      "metadata": {
        "id": "c4Kqx351_b0p"
      },
      "outputs": [],
      "source": [
        "# Treinando um modelo knc\n",
        "model = KNeighborsClassifier()\n",
        "knc = model.fit(X_train,y_train)\n",
        "\n",
        "# Fazendo previsões no conjunto de teste\n",
        "y_pred = knc.predict(X_test)"
      ]
    },
    {
      "cell_type": "code",
      "execution_count": null,
      "metadata": {
        "colab": {
          "base_uri": "https://localhost:8080/"
        },
        "id": "HRdjkqBI_b0q",
        "outputId": "970698c0-a337-47a5-c5f8-f4cb19517984"
      },
      "outputs": [
        {
          "output_type": "stream",
          "name": "stdout",
          "text": [
            "Acurácia: 0.89\n",
            "Precisão: 0.92\n",
            "Recall: 0.95\n",
            "F1-Score: 0.93\n"
          ]
        }
      ],
      "source": [
        "# Calculando as métricas de classificação\n",
        "accuracy = accuracy_score(y_test, y_pred)\n",
        "precision = precision_score(y_test, y_pred)\n",
        "recall = recall_score(y_test, y_pred)\n",
        "f1 = f1_score(y_test, y_pred)\n",
        "\n",
        "# Exibindo as métricas\n",
        "print(f\"Acurácia: {accuracy:.2f}\")\n",
        "print(f\"Precisão: {precision:.2f}\")\n",
        "print(f\"Recall: {recall:.2f}\")\n",
        "print(f\"F1-Score: {f1:.2f}\")"
      ]
    },
    {
      "cell_type": "code",
      "execution_count": null,
      "metadata": {
        "id": "fg5ZYCRO_b0q"
      },
      "outputs": [],
      "source": [
        "model = XGBClassifier()\n",
        "xgb = model.fit(X_train, y_train)\n",
        "\n",
        "# Fazendo previsões no conjunto de teste\n",
        "y_pred = xgb.predict(X_test)"
      ]
    },
    {
      "cell_type": "code",
      "execution_count": null,
      "metadata": {
        "colab": {
          "base_uri": "https://localhost:8080/"
        },
        "id": "kMB5ZQtP_b0r",
        "outputId": "cea55945-dde3-4e7b-ffdc-a9f02240e2ed"
      },
      "outputs": [
        {
          "output_type": "stream",
          "name": "stdout",
          "text": [
            "Acurácia: 0.98\n",
            "Precisão: 0.99\n",
            "Recall: 0.98\n",
            "F1-Score: 0.99\n"
          ]
        }
      ],
      "source": [
        "# Calculando as métricas de classificação\n",
        "accuracy = accuracy_score(y_test, y_pred)\n",
        "precision = precision_score(y_test, y_pred)\n",
        "recall = recall_score(y_test, y_pred)\n",
        "f1 = f1_score(y_test, y_pred)\n",
        "\n",
        "# Exibindo as métricas\n",
        "print(f\"Acurácia: {accuracy:.2f}\")\n",
        "print(f\"Precisão: {precision:.2f}\")\n",
        "print(f\"Recall: {recall:.2f}\")\n",
        "print(f\"F1-Score: {f1:.2f}\")"
      ]
    },
    {
      "cell_type": "code",
      "execution_count": null,
      "metadata": {
        "colab": {
          "base_uri": "https://localhost:8080/"
        },
        "id": "my_58mJZ_b0s",
        "outputId": "2260b2b5-b994-4709-fe70-f92ebf4ac646"
      },
      "outputs": [
        {
          "output_type": "stream",
          "name": "stdout",
          "text": [
            "[LightGBM] [Info] Number of positive: 720, number of negative: 174\n",
            "[LightGBM] [Info] Auto-choosing col-wise multi-threading, the overhead of testing was 0.000302 seconds.\n",
            "You can set `force_col_wise=true` to remove the overhead.\n",
            "[LightGBM] [Info] Total Bins 3308\n",
            "[LightGBM] [Info] Number of data points in the train set: 894, number of used features: 13\n",
            "[LightGBM] [Info] [binary:BoostFromScore]: pavg=0.805369 -> initscore=1.420196\n",
            "[LightGBM] [Info] Start training from score 1.420196\n",
            "[LightGBM] [Warning] No further splits with positive gain, best gain: -inf\n",
            "[LightGBM] [Warning] No further splits with positive gain, best gain: -inf\n"
          ]
        }
      ],
      "source": [
        "model = LGBMClassifier(n_estimators=100, learning_rate=0.1, num_leaves=31)\n",
        "LGBMC = model.fit(X_train, y_train)\n",
        "\n",
        "y_pred = LGBMC.predict(X_test)"
      ]
    },
    {
      "cell_type": "code",
      "execution_count": null,
      "metadata": {
        "colab": {
          "base_uri": "https://localhost:8080/"
        },
        "id": "0HEwmONf_b0t",
        "outputId": "17ead643-750d-4d03-d814-f00dd24a9042"
      },
      "outputs": [
        {
          "output_type": "stream",
          "name": "stdout",
          "text": [
            "Acurácia: 0.97\n",
            "Precisão: 0.99\n",
            "Recall: 0.97\n",
            "F1-Score: 0.98\n"
          ]
        }
      ],
      "source": [
        "# Calculando as métricas de classificação\n",
        "accuracy = accuracy_score(y_test, y_pred)\n",
        "precision = precision_score(y_test, y_pred)\n",
        "recall = recall_score(y_test, y_pred)\n",
        "f1 = f1_score(y_test, y_pred)\n",
        "\n",
        "# Exibindo as métricas\n",
        "print(f\"Acurácia: {accuracy:.2f}\")\n",
        "print(f\"Precisão: {precision:.2f}\")\n",
        "print(f\"Recall: {recall:.2f}\")\n",
        "print(f\"F1-Score: {f1:.2f}\")"
      ]
    },
    {
      "cell_type": "code",
      "execution_count": null,
      "metadata": {
        "colab": {
          "base_uri": "https://localhost:8080/"
        },
        "id": "_gNA8kXA_b0t",
        "outputId": "675e8822-8e24-4f14-9b76-196fc2b7b2db"
      },
      "outputs": [
        {
          "output_type": "stream",
          "name": "stdout",
          "text": [
            "Epoch 1/10\n"
          ]
        },
        {
          "output_type": "stream",
          "name": "stderr",
          "text": [
            "/usr/local/lib/python3.11/dist-packages/keras/src/layers/core/dense.py:87: UserWarning: Do not pass an `input_shape`/`input_dim` argument to a layer. When using Sequential models, prefer using an `Input(shape)` object as the first layer in the model instead.\n",
            "  super().__init__(activity_regularizer=activity_regularizer, **kwargs)\n"
          ]
        },
        {
          "output_type": "stream",
          "name": "stdout",
          "text": [
            "\u001b[1m28/28\u001b[0m \u001b[32m━━━━━━━━━━━━━━━━━━━━\u001b[0m\u001b[37m\u001b[0m \u001b[1m2s\u001b[0m 5ms/step - accuracy: 0.6689 - loss: 1.9423\n",
            "Epoch 2/10\n",
            "\u001b[1m28/28\u001b[0m \u001b[32m━━━━━━━━━━━━━━━━━━━━\u001b[0m\u001b[37m\u001b[0m \u001b[1m0s\u001b[0m 6ms/step - accuracy: 0.7034 - loss: 0.9793\n",
            "Epoch 3/10\n",
            "\u001b[1m28/28\u001b[0m \u001b[32m━━━━━━━━━━━━━━━━━━━━\u001b[0m\u001b[37m\u001b[0m \u001b[1m0s\u001b[0m 5ms/step - accuracy: 0.8100 - loss: 0.6144\n",
            "Epoch 4/10\n",
            "\u001b[1m28/28\u001b[0m \u001b[32m━━━━━━━━━━━━━━━━━━━━\u001b[0m\u001b[37m\u001b[0m \u001b[1m0s\u001b[0m 6ms/step - accuracy: 0.8444 - loss: 0.4144\n",
            "Epoch 5/10\n",
            "\u001b[1m28/28\u001b[0m \u001b[32m━━━━━━━━━━━━━━━━━━━━\u001b[0m\u001b[37m\u001b[0m \u001b[1m0s\u001b[0m 6ms/step - accuracy: 0.8318 - loss: 0.3998\n",
            "Epoch 6/10\n",
            "\u001b[1m28/28\u001b[0m \u001b[32m━━━━━━━━━━━━━━━━━━━━\u001b[0m\u001b[37m\u001b[0m \u001b[1m0s\u001b[0m 6ms/step - accuracy: 0.8818 - loss: 0.3405\n",
            "Epoch 7/10\n",
            "\u001b[1m28/28\u001b[0m \u001b[32m━━━━━━━━━━━━━━━━━━━━\u001b[0m\u001b[37m\u001b[0m \u001b[1m0s\u001b[0m 5ms/step - accuracy: 0.8467 - loss: 0.3661\n",
            "Epoch 8/10\n",
            "\u001b[1m28/28\u001b[0m \u001b[32m━━━━━━━━━━━━━━━━━━━━\u001b[0m\u001b[37m\u001b[0m \u001b[1m0s\u001b[0m 3ms/step - accuracy: 0.8800 - loss: 0.3132\n",
            "Epoch 9/10\n",
            "\u001b[1m28/28\u001b[0m \u001b[32m━━━━━━━━━━━━━━━━━━━━\u001b[0m\u001b[37m\u001b[0m \u001b[1m0s\u001b[0m 4ms/step - accuracy: 0.8659 - loss: 0.3460\n",
            "Epoch 10/10\n",
            "\u001b[1m28/28\u001b[0m \u001b[32m━━━━━━━━━━━━━━━━━━━━\u001b[0m\u001b[37m\u001b[0m \u001b[1m0s\u001b[0m 3ms/step - accuracy: 0.8642 - loss: 0.3354\n",
            "\u001b[1m7/7\u001b[0m \u001b[32m━━━━━━━━━━━━━━━━━━━━\u001b[0m\u001b[37m\u001b[0m \u001b[1m0s\u001b[0m 6ms/step \n"
          ]
        }
      ],
      "source": [
        "# Definição do modelo\n",
        "input_shape = (X_train.shape[1],)  # Número de colunas do conjunto de treino\n",
        "model = tf.keras.Sequential([\n",
        "    tf.keras.layers.Dense(64, activation='relu', input_shape=input_shape),\n",
        "    tf.keras.layers.Dense(1, activation='sigmoid')\n",
        "])\n",
        "\n",
        "# Compilação e treinamento\n",
        "model.compile(optimizer='adam', loss='binary_crossentropy', metrics=['accuracy'])\n",
        "model.fit(X_train, y_train, epochs=10, batch_size=32)\n",
        "\n",
        "# Predições e métricas\n",
        "y_pred_proba = model.predict(X_test)  # Predições de probabilidade\n",
        "y_pred = (y_pred_proba > 0.5).astype(int)  # Converter para rótulos binários"
      ]
    },
    {
      "cell_type": "code",
      "execution_count": null,
      "metadata": {
        "colab": {
          "base_uri": "https://localhost:8080/"
        },
        "id": "SZmT2PBt_b0u",
        "outputId": "98aba67a-72ed-4c4f-c20f-8a4c8ced056b"
      },
      "outputs": [
        {
          "output_type": "stream",
          "name": "stdout",
          "text": [
            "Acurácia: 0.85\n",
            "Precisão: 0.89\n",
            "Recall: 0.91\n",
            "F1-Score: 0.90\n"
          ]
        }
      ],
      "source": [
        "# Calculando as métricas de classificação\n",
        "accuracy = accuracy_score(y_test, y_pred)\n",
        "precision = precision_score(y_test, y_pred)\n",
        "recall = recall_score(y_test, y_pred)\n",
        "f1 = f1_score(y_test, y_pred)\n",
        "\n",
        "# Exibindo as métricas\n",
        "print(f\"Acurácia: {accuracy:.2f}\")\n",
        "print(f\"Precisão: {precision:.2f}\")\n",
        "print(f\"Recall: {recall:.2f}\")\n",
        "print(f\"F1-Score: {f1:.2f}\")"
      ]
    },
    {
      "cell_type": "code",
      "execution_count": null,
      "metadata": {
        "id": "Zf5xtqdP_b0u"
      },
      "outputs": [],
      "source": [
        "model = DecisionTreeClassifier(criterion='gini', random_state=42)\n",
        "DTC = model.fit(X_train, y_train)\n",
        "\n",
        "y_pred = DTC.predict(X_test)"
      ]
    },
    {
      "cell_type": "code",
      "execution_count": null,
      "metadata": {
        "colab": {
          "base_uri": "https://localhost:8080/"
        },
        "id": "ShgyB8hZ_b0v",
        "outputId": "a70e1fe2-5442-4597-c05e-a1305c2298c4"
      },
      "outputs": [
        {
          "output_type": "stream",
          "name": "stdout",
          "text": [
            "Acurácia: 0.96\n",
            "Precisão: 0.99\n",
            "Recall: 0.95\n",
            "F1-Score: 0.97\n"
          ]
        }
      ],
      "source": [
        "# Calculando as métricas de classificação\n",
        "accuracy = accuracy_score(y_test, y_pred)\n",
        "precision = precision_score(y_test, y_pred)\n",
        "recall = recall_score(y_test, y_pred)\n",
        "f1 = f1_score(y_test, y_pred)\n",
        "\n",
        "# Exibindo as métricas\n",
        "print(f\"Acurácia: {accuracy:.2f}\")\n",
        "print(f\"Precisão: {precision:.2f}\")\n",
        "print(f\"Recall: {recall:.2f}\")\n",
        "print(f\"F1-Score: {f1:.2f}\")"
      ]
    },
    {
      "cell_type": "code",
      "execution_count": null,
      "metadata": {
        "colab": {
          "base_uri": "https://localhost:8080/"
        },
        "id": "P1MwwN-5_b0v",
        "outputId": "b981dcb0-f6a1-4e06-9782-21610f585bfb"
      },
      "outputs": [
        {
          "output_type": "stream",
          "name": "stdout",
          "text": [
            "Epoch 1/10\n"
          ]
        },
        {
          "output_type": "stream",
          "name": "stderr",
          "text": [
            "/usr/local/lib/python3.11/dist-packages/keras/src/layers/convolutional/base_conv.py:107: UserWarning: Do not pass an `input_shape`/`input_dim` argument to a layer. When using Sequential models, prefer using an `Input(shape)` object as the first layer in the model instead.\n",
            "  super().__init__(activity_regularizer=activity_regularizer, **kwargs)\n"
          ]
        },
        {
          "output_type": "stream",
          "name": "stdout",
          "text": [
            "\u001b[1m28/28\u001b[0m \u001b[32m━━━━━━━━━━━━━━━━━━━━\u001b[0m\u001b[37m\u001b[0m \u001b[1m1s\u001b[0m 3ms/step - accuracy: 0.4051 - loss: 5.5424\n",
            "Epoch 2/10\n",
            "\u001b[1m28/28\u001b[0m \u001b[32m━━━━━━━━━━━━━━━━━━━━\u001b[0m\u001b[37m\u001b[0m \u001b[1m0s\u001b[0m 4ms/step - accuracy: 0.7768 - loss: 1.0690\n",
            "Epoch 3/10\n",
            "\u001b[1m28/28\u001b[0m \u001b[32m━━━━━━━━━━━━━━━━━━━━\u001b[0m\u001b[37m\u001b[0m \u001b[1m0s\u001b[0m 3ms/step - accuracy: 0.7973 - loss: 0.5383\n",
            "Epoch 4/10\n",
            "\u001b[1m28/28\u001b[0m \u001b[32m━━━━━━━━━━━━━━━━━━━━\u001b[0m\u001b[37m\u001b[0m \u001b[1m0s\u001b[0m 4ms/step - accuracy: 0.8280 - loss: 0.4084\n",
            "Epoch 5/10\n",
            "\u001b[1m28/28\u001b[0m \u001b[32m━━━━━━━━━━━━━━━━━━━━\u001b[0m\u001b[37m\u001b[0m \u001b[1m0s\u001b[0m 3ms/step - accuracy: 0.8142 - loss: 0.3937\n",
            "Epoch 6/10\n",
            "\u001b[1m28/28\u001b[0m \u001b[32m━━━━━━━━━━━━━━━━━━━━\u001b[0m\u001b[37m\u001b[0m \u001b[1m0s\u001b[0m 3ms/step - accuracy: 0.8513 - loss: 0.3354\n",
            "Epoch 7/10\n",
            "\u001b[1m28/28\u001b[0m \u001b[32m━━━━━━━━━━━━━━━━━━━━\u001b[0m\u001b[37m\u001b[0m \u001b[1m0s\u001b[0m 3ms/step - accuracy: 0.8524 - loss: 0.3165\n",
            "Epoch 8/10\n",
            "\u001b[1m28/28\u001b[0m \u001b[32m━━━━━━━━━━━━━━━━━━━━\u001b[0m\u001b[37m\u001b[0m \u001b[1m0s\u001b[0m 4ms/step - accuracy: 0.8867 - loss: 0.2880\n",
            "Epoch 9/10\n",
            "\u001b[1m28/28\u001b[0m \u001b[32m━━━━━━━━━━━━━━━━━━━━\u001b[0m\u001b[37m\u001b[0m \u001b[1m0s\u001b[0m 3ms/step - accuracy: 0.8498 - loss: 0.3129\n",
            "Epoch 10/10\n",
            "\u001b[1m28/28\u001b[0m \u001b[32m━━━━━━━━━━━━━━━━━━━━\u001b[0m\u001b[37m\u001b[0m \u001b[1m0s\u001b[0m 4ms/step - accuracy: 0.8855 - loss: 0.2832\n",
            "\u001b[1m7/7\u001b[0m \u001b[32m━━━━━━━━━━━━━━━━━━━━\u001b[0m\u001b[37m\u001b[0m \u001b[1m0s\u001b[0m 5ms/step \n"
          ]
        }
      ],
      "source": [
        "# Definição do modelo Conv1D\n",
        "input_shape = (X_train.shape[1], 1)  # Número de características e 1 canal\n",
        "model = tf.keras.Sequential([\n",
        "    tf.keras.layers.Conv1D(32, kernel_size=3, activation='relu', input_shape=input_shape),\n",
        "    tf.keras.layers.Flatten(),\n",
        "    tf.keras.layers.Dense(1, activation='sigmoid')\n",
        "])\n",
        "\n",
        "# Compilação e treinamento do modelo\n",
        "model.compile(optimizer='adam', loss='binary_crossentropy', metrics=['accuracy'])\n",
        "model.fit(X_train, y_train, epochs=10, batch_size=32)\n",
        "\n",
        "# Predições e métricas\n",
        "y_pred_proba = model.predict(X_test)  # Predições de probabilidade\n",
        "y_pred = (y_pred_proba > 0.5).astype(int)  # Converter para rótulos binários"
      ]
    },
    {
      "cell_type": "code",
      "execution_count": null,
      "metadata": {
        "colab": {
          "base_uri": "https://localhost:8080/"
        },
        "id": "s4irRvjZ_b0w",
        "outputId": "65630802-d089-4f53-d703-993b08b93694"
      },
      "outputs": [
        {
          "output_type": "stream",
          "name": "stdout",
          "text": [
            "Acurácia: 0.86\n",
            "Precisão: 0.87\n",
            "Recall: 0.97\n",
            "F1-Score: 0.91\n"
          ]
        }
      ],
      "source": [
        "# Calculando as métricas de classificação\n",
        "accuracy = accuracy_score(y_test, y_pred)\n",
        "precision = precision_score(y_test, y_pred)\n",
        "recall = recall_score(y_test, y_pred)\n",
        "f1 = f1_score(y_test, y_pred)\n",
        "\n",
        "# Exibindo as métricas\n",
        "print(f\"Acurácia: {accuracy:.2f}\")\n",
        "print(f\"Precisão: {precision:.2f}\")\n",
        "print(f\"Recall: {recall:.2f}\")\n",
        "print(f\"F1-Score: {f1:.2f}\")"
      ]
    }
  ],
  "metadata": {
    "colab": {
      "provenance": [],
      "authorship_tag": "ABX9TyMfTHiRbV1FJ0heXwIBUxwg"
    },
    "kernelspec": {
      "display_name": "Python 3",
      "name": "python3"
    },
    "language_info": {
      "name": "python"
    }
  },
  "nbformat": 4,
  "nbformat_minor": 0
}