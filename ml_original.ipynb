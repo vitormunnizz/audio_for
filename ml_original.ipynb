{
  "cells": [
    {
      "cell_type": "code",
      "execution_count": null,
      "metadata": {
        "id": "TlhRI6QcQdta"
      },
      "outputs": [],
      "source": [
        "import os\n",
        "import librosa\n",
        "import pandas as pd\n",
        "import numpy as np\n",
        "import matplotlib.pyplot as plt\n",
        "import seaborn as sns\n",
        "from sklearn.model_selection import train_test_split, StratifiedKFold\n",
        "from sklearn.ensemble import RandomForestClassifier\n",
        "from sklearn.naive_bayes import GaussianNB\n",
        "from sklearn.neighbors import KNeighborsClassifier\n",
        "from sklearn.preprocessing import StandardScaler\n",
        "from sklearn.metrics import accuracy_score, precision_score, recall_score, f1_score, classification_report\n",
        "import lightgbm as lgb\n",
        "from keras.models import Sequential\n",
        "from keras.layers import LSTM, Dense, Dropout\n",
        "from sklearn.decomposition import PCA\n",
        "import warnings\n",
        "warnings.filterwarnings(\"ignore\", category=UserWarning)\n",
        "from imblearn.over_sampling import SMOTE\n",
        "from imblearn.under_sampling import RandomUnderSampler\n",
        "from collections import Counter"
      ]
    },
    {
      "cell_type": "code",
      "execution_count": null,
      "metadata": {
        "colab": {
          "base_uri": "https://localhost:8080/"
        },
        "id": "SgdvMsciQlFK",
        "outputId": "ec496128-c74d-41c2-82f8-3c2826f4845b"
      },
      "outputs": [
        {
          "output_type": "stream",
          "name": "stdout",
          "text": [
            "Drive already mounted at /content/drive; to attempt to forcibly remount, call drive.mount(\"/content/drive\", force_remount=True).\n"
          ]
        }
      ],
      "source": [
        "# Montar o Google Drive\n",
        "from google.colab import drive\n",
        "drive.mount('/content/drive')"
      ]
    },
    {
      "cell_type": "code",
      "execution_count": null,
      "metadata": {
        "id": "lGbTzqvTQsR6"
      },
      "outputs": [],
      "source": [
        "# Caminho para os dados no Google Drive\n",
        "file_path_real = '/content/drive/MyDrive/audios_FOR/real'\n",
        "file_path_fake = '/content/drive/MyDrive/audios_FOR/fake'"
      ]
    },
    {
      "cell_type": "code",
      "execution_count": null,
      "metadata": {
        "id": "IomFCwBpQcNa"
      },
      "outputs": [],
      "source": [
        "# Função para extrair MFCCs de um arquivo\n",
        "def extract_features(file_path):\n",
        "    try:\n",
        "        y, sr = librosa.load(file_path, sr=None)\n",
        "        mfccs = librosa.feature.mfcc(y=y, sr=sr, n_mfcc=13)\n",
        "        return np.mean(mfccs.T, axis=0)  # Média dos coeficientes\n",
        "    except Exception as e:\n",
        "        print(f\"Erro ao processar {file_path}: {e}\")\n",
        "        return None\n",
        "\n",
        "# Carregar dados e rótulos\n",
        "data = []\n",
        "labels = []"
      ]
    },
    {
      "cell_type": "code",
      "execution_count": null,
      "metadata": {
        "id": "mEFJHtzmQvzS"
      },
      "outputs": [],
      "source": [
        "def load_data(folder_path, label):\n",
        "    global data, labels\n",
        "    for file_name in os.listdir(folder_path):\n",
        "        file_path = os.path.join(folder_path, file_name)\n",
        "        features = extract_features(file_path)\n",
        "        if features is not None:\n",
        "            data.append(features)\n",
        "            labels.append(label)\n",
        "\n",
        "# Criar as pastas 'real' e 'fake' caso não existam\n",
        "if not os.path.exists(file_path_real):\n",
        "    os.makedirs(file_path_real)\n",
        "if not os.path.exists(file_path_fake):\n",
        "    os.makedirs(file_path_fake)\n",
        "\n",
        "# Processar dados\n",
        "load_data(file_path_fake, 0)  # Rótulo 0 para Fake\n",
        "load_data(file_path_real, 1)  # Rótulo 1 para Real"
      ]
    },
    {
      "cell_type": "code",
      "execution_count": null,
      "metadata": {
        "id": "dXS1WqBsQzlJ"
      },
      "outputs": [],
      "source": [
        "# Remover dados faltantes\n",
        "data_filtered = []\n",
        "labels_filtered = []\n",
        "for i in range(len(data)):\n",
        "    if data[i] is not None:\n",
        "        data_filtered.append(data[i])\n",
        "        labels_filtered.append(labels[i])\n",
        "\n",
        "data = data_filtered\n",
        "labels = labels_filtered"
      ]
    },
    {
      "cell_type": "code",
      "execution_count": null,
      "metadata": {
        "id": "GWl90yvQQ4vS"
      },
      "outputs": [],
      "source": [
        "# Converter para DataFrame\n",
        "df = pd.DataFrame(data)\n",
        "df['label'] = labels\n",
        "\n",
        "# Contar as ocorrências de cada label\n",
        "label_counts = df['label'].value_counts()"
      ]
    },
    {
      "cell_type": "code",
      "source": [
        "df.head()"
      ],
      "metadata": {
        "colab": {
          "base_uri": "https://localhost:8080/",
          "height": 206
        },
        "id": "-yPCaJmGhEMZ",
        "outputId": "79e00993-0bfb-43a8-adc8-260bfe1651a6"
      },
      "execution_count": null,
      "outputs": [
        {
          "output_type": "execute_result",
          "data": {
            "text/plain": [
              "            0           1          2          3         4         5  \\\n",
              "0 -310.484985   79.589180  12.035122  21.775892  7.463613 -4.327323   \n",
              "1 -292.760193   85.521347 -18.103905  14.233822 -1.934288 -8.300287   \n",
              "2 -303.878540  105.934891  -3.688231   5.732779  1.719448 -2.468382   \n",
              "3 -265.122375   87.588463  -1.874141  16.973083 -1.371438  0.033756   \n",
              "4 -325.429871  100.738106 -11.456236   6.209788 -4.599088  2.979567   \n",
              "\n",
              "           6          7          8          9         10         11        12  \\\n",
              "0   1.702638   5.056441 -11.605008  -8.825641 -12.136454  -8.166679 -7.886450   \n",
              "1 -15.360986 -14.333099  -0.524541 -12.453050  -2.744914 -14.212177  0.993812   \n",
              "2   5.603399   0.252085  -7.885568  -9.464691 -10.469301  -6.294003 -3.919384   \n",
              "3   0.843064   0.461536  -6.470741  -7.077431 -11.979367 -11.889551 -3.221031   \n",
              "4   4.361889  -3.987939  -4.829633  -4.398507  -5.168960 -10.094461 -2.767697   \n",
              "\n",
              "   label  \n",
              "0      0  \n",
              "1      0  \n",
              "2      0  \n",
              "3      0  \n",
              "4      0  "
            ],
            "text/html": [
              "\n",
              "  <div id=\"df-f37f1016-8785-43ac-a52e-dbf00bc84e77\" class=\"colab-df-container\">\n",
              "    <div>\n",
              "<style scoped>\n",
              "    .dataframe tbody tr th:only-of-type {\n",
              "        vertical-align: middle;\n",
              "    }\n",
              "\n",
              "    .dataframe tbody tr th {\n",
              "        vertical-align: top;\n",
              "    }\n",
              "\n",
              "    .dataframe thead th {\n",
              "        text-align: right;\n",
              "    }\n",
              "</style>\n",
              "<table border=\"1\" class=\"dataframe\">\n",
              "  <thead>\n",
              "    <tr style=\"text-align: right;\">\n",
              "      <th></th>\n",
              "      <th>0</th>\n",
              "      <th>1</th>\n",
              "      <th>2</th>\n",
              "      <th>3</th>\n",
              "      <th>4</th>\n",
              "      <th>5</th>\n",
              "      <th>6</th>\n",
              "      <th>7</th>\n",
              "      <th>8</th>\n",
              "      <th>9</th>\n",
              "      <th>10</th>\n",
              "      <th>11</th>\n",
              "      <th>12</th>\n",
              "      <th>label</th>\n",
              "    </tr>\n",
              "  </thead>\n",
              "  <tbody>\n",
              "    <tr>\n",
              "      <th>0</th>\n",
              "      <td>-310.484985</td>\n",
              "      <td>79.589180</td>\n",
              "      <td>12.035122</td>\n",
              "      <td>21.775892</td>\n",
              "      <td>7.463613</td>\n",
              "      <td>-4.327323</td>\n",
              "      <td>1.702638</td>\n",
              "      <td>5.056441</td>\n",
              "      <td>-11.605008</td>\n",
              "      <td>-8.825641</td>\n",
              "      <td>-12.136454</td>\n",
              "      <td>-8.166679</td>\n",
              "      <td>-7.886450</td>\n",
              "      <td>0</td>\n",
              "    </tr>\n",
              "    <tr>\n",
              "      <th>1</th>\n",
              "      <td>-292.760193</td>\n",
              "      <td>85.521347</td>\n",
              "      <td>-18.103905</td>\n",
              "      <td>14.233822</td>\n",
              "      <td>-1.934288</td>\n",
              "      <td>-8.300287</td>\n",
              "      <td>-15.360986</td>\n",
              "      <td>-14.333099</td>\n",
              "      <td>-0.524541</td>\n",
              "      <td>-12.453050</td>\n",
              "      <td>-2.744914</td>\n",
              "      <td>-14.212177</td>\n",
              "      <td>0.993812</td>\n",
              "      <td>0</td>\n",
              "    </tr>\n",
              "    <tr>\n",
              "      <th>2</th>\n",
              "      <td>-303.878540</td>\n",
              "      <td>105.934891</td>\n",
              "      <td>-3.688231</td>\n",
              "      <td>5.732779</td>\n",
              "      <td>1.719448</td>\n",
              "      <td>-2.468382</td>\n",
              "      <td>5.603399</td>\n",
              "      <td>0.252085</td>\n",
              "      <td>-7.885568</td>\n",
              "      <td>-9.464691</td>\n",
              "      <td>-10.469301</td>\n",
              "      <td>-6.294003</td>\n",
              "      <td>-3.919384</td>\n",
              "      <td>0</td>\n",
              "    </tr>\n",
              "    <tr>\n",
              "      <th>3</th>\n",
              "      <td>-265.122375</td>\n",
              "      <td>87.588463</td>\n",
              "      <td>-1.874141</td>\n",
              "      <td>16.973083</td>\n",
              "      <td>-1.371438</td>\n",
              "      <td>0.033756</td>\n",
              "      <td>0.843064</td>\n",
              "      <td>0.461536</td>\n",
              "      <td>-6.470741</td>\n",
              "      <td>-7.077431</td>\n",
              "      <td>-11.979367</td>\n",
              "      <td>-11.889551</td>\n",
              "      <td>-3.221031</td>\n",
              "      <td>0</td>\n",
              "    </tr>\n",
              "    <tr>\n",
              "      <th>4</th>\n",
              "      <td>-325.429871</td>\n",
              "      <td>100.738106</td>\n",
              "      <td>-11.456236</td>\n",
              "      <td>6.209788</td>\n",
              "      <td>-4.599088</td>\n",
              "      <td>2.979567</td>\n",
              "      <td>4.361889</td>\n",
              "      <td>-3.987939</td>\n",
              "      <td>-4.829633</td>\n",
              "      <td>-4.398507</td>\n",
              "      <td>-5.168960</td>\n",
              "      <td>-10.094461</td>\n",
              "      <td>-2.767697</td>\n",
              "      <td>0</td>\n",
              "    </tr>\n",
              "  </tbody>\n",
              "</table>\n",
              "</div>\n",
              "    <div class=\"colab-df-buttons\">\n",
              "\n",
              "  <div class=\"colab-df-container\">\n",
              "    <button class=\"colab-df-convert\" onclick=\"convertToInteractive('df-f37f1016-8785-43ac-a52e-dbf00bc84e77')\"\n",
              "            title=\"Convert this dataframe to an interactive table.\"\n",
              "            style=\"display:none;\">\n",
              "\n",
              "  <svg xmlns=\"http://www.w3.org/2000/svg\" height=\"24px\" viewBox=\"0 -960 960 960\">\n",
              "    <path d=\"M120-120v-720h720v720H120Zm60-500h600v-160H180v160Zm220 220h160v-160H400v160Zm0 220h160v-160H400v160ZM180-400h160v-160H180v160Zm440 0h160v-160H620v160ZM180-180h160v-160H180v160Zm440 0h160v-160H620v160Z\"/>\n",
              "  </svg>\n",
              "    </button>\n",
              "\n",
              "  <style>\n",
              "    .colab-df-container {\n",
              "      display:flex;\n",
              "      gap: 12px;\n",
              "    }\n",
              "\n",
              "    .colab-df-convert {\n",
              "      background-color: #E8F0FE;\n",
              "      border: none;\n",
              "      border-radius: 50%;\n",
              "      cursor: pointer;\n",
              "      display: none;\n",
              "      fill: #1967D2;\n",
              "      height: 32px;\n",
              "      padding: 0 0 0 0;\n",
              "      width: 32px;\n",
              "    }\n",
              "\n",
              "    .colab-df-convert:hover {\n",
              "      background-color: #E2EBFA;\n",
              "      box-shadow: 0px 1px 2px rgba(60, 64, 67, 0.3), 0px 1px 3px 1px rgba(60, 64, 67, 0.15);\n",
              "      fill: #174EA6;\n",
              "    }\n",
              "\n",
              "    .colab-df-buttons div {\n",
              "      margin-bottom: 4px;\n",
              "    }\n",
              "\n",
              "    [theme=dark] .colab-df-convert {\n",
              "      background-color: #3B4455;\n",
              "      fill: #D2E3FC;\n",
              "    }\n",
              "\n",
              "    [theme=dark] .colab-df-convert:hover {\n",
              "      background-color: #434B5C;\n",
              "      box-shadow: 0px 1px 3px 1px rgba(0, 0, 0, 0.15);\n",
              "      filter: drop-shadow(0px 1px 2px rgba(0, 0, 0, 0.3));\n",
              "      fill: #FFFFFF;\n",
              "    }\n",
              "  </style>\n",
              "\n",
              "    <script>\n",
              "      const buttonEl =\n",
              "        document.querySelector('#df-f37f1016-8785-43ac-a52e-dbf00bc84e77 button.colab-df-convert');\n",
              "      buttonEl.style.display =\n",
              "        google.colab.kernel.accessAllowed ? 'block' : 'none';\n",
              "\n",
              "      async function convertToInteractive(key) {\n",
              "        const element = document.querySelector('#df-f37f1016-8785-43ac-a52e-dbf00bc84e77');\n",
              "        const dataTable =\n",
              "          await google.colab.kernel.invokeFunction('convertToInteractive',\n",
              "                                                    [key], {});\n",
              "        if (!dataTable) return;\n",
              "\n",
              "        const docLinkHtml = 'Like what you see? Visit the ' +\n",
              "          '<a target=\"_blank\" href=https://colab.research.google.com/notebooks/data_table.ipynb>data table notebook</a>'\n",
              "          + ' to learn more about interactive tables.';\n",
              "        element.innerHTML = '';\n",
              "        dataTable['output_type'] = 'display_data';\n",
              "        await google.colab.output.renderOutput(dataTable, element);\n",
              "        const docLink = document.createElement('div');\n",
              "        docLink.innerHTML = docLinkHtml;\n",
              "        element.appendChild(docLink);\n",
              "      }\n",
              "    </script>\n",
              "  </div>\n",
              "\n",
              "\n",
              "    <div id=\"df-168819ed-d4e2-43ff-9ff0-fa5daa92733f\">\n",
              "      <button class=\"colab-df-quickchart\" onclick=\"quickchart('df-168819ed-d4e2-43ff-9ff0-fa5daa92733f')\"\n",
              "                title=\"Suggest charts\"\n",
              "                style=\"display:none;\">\n",
              "\n",
              "<svg xmlns=\"http://www.w3.org/2000/svg\" height=\"24px\"viewBox=\"0 0 24 24\"\n",
              "     width=\"24px\">\n",
              "    <g>\n",
              "        <path d=\"M19 3H5c-1.1 0-2 .9-2 2v14c0 1.1.9 2 2 2h14c1.1 0 2-.9 2-2V5c0-1.1-.9-2-2-2zM9 17H7v-7h2v7zm4 0h-2V7h2v10zm4 0h-2v-4h2v4z\"/>\n",
              "    </g>\n",
              "</svg>\n",
              "      </button>\n",
              "\n",
              "<style>\n",
              "  .colab-df-quickchart {\n",
              "      --bg-color: #E8F0FE;\n",
              "      --fill-color: #1967D2;\n",
              "      --hover-bg-color: #E2EBFA;\n",
              "      --hover-fill-color: #174EA6;\n",
              "      --disabled-fill-color: #AAA;\n",
              "      --disabled-bg-color: #DDD;\n",
              "  }\n",
              "\n",
              "  [theme=dark] .colab-df-quickchart {\n",
              "      --bg-color: #3B4455;\n",
              "      --fill-color: #D2E3FC;\n",
              "      --hover-bg-color: #434B5C;\n",
              "      --hover-fill-color: #FFFFFF;\n",
              "      --disabled-bg-color: #3B4455;\n",
              "      --disabled-fill-color: #666;\n",
              "  }\n",
              "\n",
              "  .colab-df-quickchart {\n",
              "    background-color: var(--bg-color);\n",
              "    border: none;\n",
              "    border-radius: 50%;\n",
              "    cursor: pointer;\n",
              "    display: none;\n",
              "    fill: var(--fill-color);\n",
              "    height: 32px;\n",
              "    padding: 0;\n",
              "    width: 32px;\n",
              "  }\n",
              "\n",
              "  .colab-df-quickchart:hover {\n",
              "    background-color: var(--hover-bg-color);\n",
              "    box-shadow: 0 1px 2px rgba(60, 64, 67, 0.3), 0 1px 3px 1px rgba(60, 64, 67, 0.15);\n",
              "    fill: var(--button-hover-fill-color);\n",
              "  }\n",
              "\n",
              "  .colab-df-quickchart-complete:disabled,\n",
              "  .colab-df-quickchart-complete:disabled:hover {\n",
              "    background-color: var(--disabled-bg-color);\n",
              "    fill: var(--disabled-fill-color);\n",
              "    box-shadow: none;\n",
              "  }\n",
              "\n",
              "  .colab-df-spinner {\n",
              "    border: 2px solid var(--fill-color);\n",
              "    border-color: transparent;\n",
              "    border-bottom-color: var(--fill-color);\n",
              "    animation:\n",
              "      spin 1s steps(1) infinite;\n",
              "  }\n",
              "\n",
              "  @keyframes spin {\n",
              "    0% {\n",
              "      border-color: transparent;\n",
              "      border-bottom-color: var(--fill-color);\n",
              "      border-left-color: var(--fill-color);\n",
              "    }\n",
              "    20% {\n",
              "      border-color: transparent;\n",
              "      border-left-color: var(--fill-color);\n",
              "      border-top-color: var(--fill-color);\n",
              "    }\n",
              "    30% {\n",
              "      border-color: transparent;\n",
              "      border-left-color: var(--fill-color);\n",
              "      border-top-color: var(--fill-color);\n",
              "      border-right-color: var(--fill-color);\n",
              "    }\n",
              "    40% {\n",
              "      border-color: transparent;\n",
              "      border-right-color: var(--fill-color);\n",
              "      border-top-color: var(--fill-color);\n",
              "    }\n",
              "    60% {\n",
              "      border-color: transparent;\n",
              "      border-right-color: var(--fill-color);\n",
              "    }\n",
              "    80% {\n",
              "      border-color: transparent;\n",
              "      border-right-color: var(--fill-color);\n",
              "      border-bottom-color: var(--fill-color);\n",
              "    }\n",
              "    90% {\n",
              "      border-color: transparent;\n",
              "      border-bottom-color: var(--fill-color);\n",
              "    }\n",
              "  }\n",
              "</style>\n",
              "\n",
              "      <script>\n",
              "        async function quickchart(key) {\n",
              "          const quickchartButtonEl =\n",
              "            document.querySelector('#' + key + ' button');\n",
              "          quickchartButtonEl.disabled = true;  // To prevent multiple clicks.\n",
              "          quickchartButtonEl.classList.add('colab-df-spinner');\n",
              "          try {\n",
              "            const charts = await google.colab.kernel.invokeFunction(\n",
              "                'suggestCharts', [key], {});\n",
              "          } catch (error) {\n",
              "            console.error('Error during call to suggestCharts:', error);\n",
              "          }\n",
              "          quickchartButtonEl.classList.remove('colab-df-spinner');\n",
              "          quickchartButtonEl.classList.add('colab-df-quickchart-complete');\n",
              "        }\n",
              "        (() => {\n",
              "          let quickchartButtonEl =\n",
              "            document.querySelector('#df-168819ed-d4e2-43ff-9ff0-fa5daa92733f button');\n",
              "          quickchartButtonEl.style.display =\n",
              "            google.colab.kernel.accessAllowed ? 'block' : 'none';\n",
              "        })();\n",
              "      </script>\n",
              "    </div>\n",
              "\n",
              "    </div>\n",
              "  </div>\n"
            ],
            "application/vnd.google.colaboratory.intrinsic+json": {
              "type": "dataframe",
              "variable_name": "df",
              "summary": "{\n  \"name\": \"df\",\n  \"rows\": 720,\n  \"fields\": [\n    {\n      \"column\": 0,\n      \"properties\": {\n        \"dtype\": \"float32\",\n        \"num_unique_values\": 720,\n        \"samples\": [\n          -223.07595825195312,\n          -238.77587890625,\n          -416.4146728515625\n        ],\n        \"semantic_type\": \"\",\n        \"description\": \"\"\n      }\n    },\n    {\n      \"column\": 1,\n      \"properties\": {\n        \"dtype\": \"float32\",\n        \"num_unique_values\": 720,\n        \"samples\": [\n          94.61881256103516,\n          97.11392211914062,\n          74.76364135742188\n        ],\n        \"semantic_type\": \"\",\n        \"description\": \"\"\n      }\n    },\n    {\n      \"column\": 2,\n      \"properties\": {\n        \"dtype\": \"float32\",\n        \"num_unique_values\": 720,\n        \"samples\": [\n          12.501666069030762,\n          0.9961197376251221,\n          8.639180183410645\n        ],\n        \"semantic_type\": \"\",\n        \"description\": \"\"\n      }\n    },\n    {\n      \"column\": 3,\n      \"properties\": {\n        \"dtype\": \"float32\",\n        \"num_unique_values\": 720,\n        \"samples\": [\n          37.85380935668945,\n          42.31383514404297,\n          26.786827087402344\n        ],\n        \"semantic_type\": \"\",\n        \"description\": \"\"\n      }\n    },\n    {\n      \"column\": 4,\n      \"properties\": {\n        \"dtype\": \"float32\",\n        \"num_unique_values\": 720,\n        \"samples\": [\n          -24.55463409423828,\n          -17.035621643066406,\n          -15.054668426513672\n        ],\n        \"semantic_type\": \"\",\n        \"description\": \"\"\n      }\n    },\n    {\n      \"column\": 5,\n      \"properties\": {\n        \"dtype\": \"float32\",\n        \"num_unique_values\": 720,\n        \"samples\": [\n          2.3694512844085693,\n          -2.1764326095581055,\n          -0.816782534122467\n        ],\n        \"semantic_type\": \"\",\n        \"description\": \"\"\n      }\n    },\n    {\n      \"column\": 6,\n      \"properties\": {\n        \"dtype\": \"float32\",\n        \"num_unique_values\": 720,\n        \"samples\": [\n          -11.278448104858398,\n          -13.036795616149902,\n          -2.485870122909546\n        ],\n        \"semantic_type\": \"\",\n        \"description\": \"\"\n      }\n    },\n    {\n      \"column\": 7,\n      \"properties\": {\n        \"dtype\": \"float32\",\n        \"num_unique_values\": 720,\n        \"samples\": [\n          -21.036836624145508,\n          -21.63695526123047,\n          -3.7371461391448975\n        ],\n        \"semantic_type\": \"\",\n        \"description\": \"\"\n      }\n    },\n    {\n      \"column\": 8,\n      \"properties\": {\n        \"dtype\": \"float32\",\n        \"num_unique_values\": 720,\n        \"samples\": [\n          -13.259202003479004,\n          -6.672842979431152,\n          1.9339662790298462\n        ],\n        \"semantic_type\": \"\",\n        \"description\": \"\"\n      }\n    },\n    {\n      \"column\": 9,\n      \"properties\": {\n        \"dtype\": \"float32\",\n        \"num_unique_values\": 720,\n        \"samples\": [\n          -2.3530497550964355,\n          -4.950488567352295,\n          -5.562492370605469\n        ],\n        \"semantic_type\": \"\",\n        \"description\": \"\"\n      }\n    },\n    {\n      \"column\": 10,\n      \"properties\": {\n        \"dtype\": \"float32\",\n        \"num_unique_values\": 720,\n        \"samples\": [\n          -11.90987491607666,\n          -12.763422012329102,\n          -6.0560808181762695\n        ],\n        \"semantic_type\": \"\",\n        \"description\": \"\"\n      }\n    },\n    {\n      \"column\": 11,\n      \"properties\": {\n        \"dtype\": \"float32\",\n        \"num_unique_values\": 720,\n        \"samples\": [\n          5.206999778747559,\n          1.7878475189208984,\n          -1.2613577842712402\n        ],\n        \"semantic_type\": \"\",\n        \"description\": \"\"\n      }\n    },\n    {\n      \"column\": 12,\n      \"properties\": {\n        \"dtype\": \"float32\",\n        \"num_unique_values\": 720,\n        \"samples\": [\n          -9.113389015197754,\n          -12.14724349975586,\n          -4.119986534118652\n        ],\n        \"semantic_type\": \"\",\n        \"description\": \"\"\n      }\n    },\n    {\n      \"column\": \"label\",\n      \"properties\": {\n        \"dtype\": \"number\",\n        \"std\": 0,\n        \"min\": 0,\n        \"max\": 1,\n        \"num_unique_values\": 2,\n        \"samples\": [\n          1,\n          0\n        ],\n        \"semantic_type\": \"\",\n        \"description\": \"\"\n      }\n    }\n  ]\n}"
            }
          },
          "metadata": {},
          "execution_count": 205
        }
      ]
    },
    {
      "cell_type": "code",
      "execution_count": null,
      "metadata": {
        "colab": {
          "base_uri": "https://localhost:8080/"
        },
        "id": "vUPhBS7VS3FK",
        "outputId": "ed658bd8-6471-4182-d66c-0865f753ca8f"
      },
      "outputs": [
        {
          "output_type": "execute_result",
          "data": {
            "text/plain": [
              "(720, 14)"
            ]
          },
          "metadata": {},
          "execution_count": 206
        }
      ],
      "source": [
        "df.shape"
      ]
    },
    {
      "cell_type": "code",
      "source": [
        "# Separar características (X) e rótulos (y)\n",
        "X = df.drop(columns=['label'])\n",
        "y = df['label']"
      ],
      "metadata": {
        "id": "_v0oc81v5Kiq"
      },
      "execution_count": null,
      "outputs": []
    },
    {
      "cell_type": "code",
      "source": [
        "# UNDERSAMPLING\n",
        "under = RandomUnderSampler(random_state=42)\n",
        "X_under, y_under = under.fit_resample(X, y)\n",
        "print(\"Distribuição após undersampling:\", Counter(y_under))"
      ],
      "metadata": {
        "colab": {
          "base_uri": "https://localhost:8080/"
        },
        "id": "ekRlITWco9io",
        "outputId": "c00ceab7-9834-43fe-b3ad-d2f07db6f91d"
      },
      "execution_count": null,
      "outputs": [
        {
          "output_type": "stream",
          "name": "stdout",
          "text": [
            "Distribuição após undersampling: Counter({0: 205, 1: 205})\n"
          ]
        }
      ]
    },
    {
      "cell_type": "code",
      "source": [
        "# OVERSAMPLING (SMOTE)\n",
        "smote = SMOTE(random_state=42)\n",
        "X_over, y_over = smote.fit_resample(X, y)\n",
        "print(\"Distribuição após oversampling:\", Counter(y_over))"
      ],
      "metadata": {
        "colab": {
          "base_uri": "https://localhost:8080/"
        },
        "id": "Opq_hjL5pEln",
        "outputId": "e87476d2-fbba-4b57-cb7c-ad41de90df28"
      },
      "execution_count": null,
      "outputs": [
        {
          "output_type": "stream",
          "name": "stdout",
          "text": [
            "Distribuição após oversampling: Counter({0: 515, 1: 515})\n"
          ]
        }
      ]
    },
    {
      "cell_type": "code",
      "source": [
        "# Função para calcular e exibir as métricas\n",
        "def print_metrics(y_true, y_pred):\n",
        "    accuracy = accuracy_score(y_true, y_pred)\n",
        "    precision = precision_score(y_true, y_pred)\n",
        "    recall = recall_score(y_true, y_pred)\n",
        "    f1 = f1_score(y_true, y_pred)\n",
        "\n",
        "    print(f\"Acurácia: {accuracy:.2f}\")\n",
        "    print(f\"Precisão: {precision:.2f}\")\n",
        "    print(f\"Recall: {recall:.2f}\")\n",
        "    print(f\"F1-Score: {f1:.2f}\")\n",
        "    print(\"\\n\")"
      ],
      "metadata": {
        "id": "1u1JYEepqFCE"
      },
      "execution_count": null,
      "outputs": []
    },
    {
      "cell_type": "markdown",
      "metadata": {
        "id": "-GKaHiVdq_PI"
      },
      "source": [
        "### Random Forest"
      ]
    },
    {
      "cell_type": "code",
      "source": [
        "# Converter para arrays, se necessário\n",
        "X_array = X.values if hasattr(X, \"values\") else np.array(X)\n",
        "y_array = y.values if hasattr(y, \"values\") else np.array(y)\n",
        "\n",
        "# Inicializar K-Fold\n",
        "skf = StratifiedKFold(n_splits=10, shuffle=True, random_state=42)\n",
        "\n",
        "# Listas para armazenar métricas de todos os folds\n",
        "accs, precs, recalls, f1s = [], [], [], []\n",
        "\n",
        "# Loop pelos folds\n",
        "for fold, (train_idx, test_idx) in enumerate(skf.split(X_array, y_array)):\n",
        "    X_train, X_test = X_array[train_idx], X_array[test_idx]\n",
        "    y_train, y_test = y_array[train_idx], y_array[test_idx]\n",
        "\n",
        "    rf_model = RandomForestClassifier(n_estimators=1, max_features=1)\n",
        "    rf_model.fit(X_train, y_train)\n",
        "    y_pred = rf_model.predict(X_test)\n",
        "\n",
        "    acc = accuracy_score(y_test, y_pred)\n",
        "    prec = precision_score(y_test, y_pred)\n",
        "    rec = recall_score(y_test, y_pred)\n",
        "    f1 = f1_score(y_test, y_pred)\n",
        "\n",
        "    accs.append(acc)\n",
        "    precs.append(prec)\n",
        "    recalls.append(rec)\n",
        "    f1s.append(f1)\n",
        "\n",
        "# Mostrar médias e desvios padrão\n",
        "print(\"MÉDIAS FINAIS (± desvio padrão):\")\n",
        "print(f\"Acurácia média: {np.mean(accs):.2f} ± {np.std(accs):.2f}\")\n",
        "print(f\"Precisão média: {np.mean(precs):.2f} ± {np.std(precs):.2f}\")\n",
        "print(f\"Recall médio: {np.mean(recalls):.2f} ± {np.std(recalls):.2f}\")\n",
        "print(f\"F1-Score médio: {np.mean(f1s):.2f} ± {np.std(f1s):.2f}\")"
      ],
      "metadata": {
        "colab": {
          "base_uri": "https://localhost:8080/"
        },
        "id": "Be6bF4M6N0n_",
        "outputId": "82556599-e0ec-45a4-d318-7255cdceb464"
      },
      "execution_count": null,
      "outputs": [
        {
          "output_type": "stream",
          "name": "stdout",
          "text": [
            "MÉDIAS FINAIS (± desvio padrão):\n",
            "Acurácia média: 0.82 ± 0.06\n",
            "Precisão média: 0.87 ± 0.03\n",
            "Recall médio: 0.89 ± 0.06\n",
            "F1-Score médio: 0.87 ± 0.04\n"
          ]
        }
      ]
    },
    {
      "cell_type": "code",
      "source": [
        "# Converter para arrays, se necessário\n",
        "X_array_under = X_under.values if hasattr(X_under, \"values\") else np.array(X_under)\n",
        "y_array_under = y_under.values if hasattr(y_under, \"values\") else np.array(y_under)\n",
        "\n",
        "# Inicializar K-Fold\n",
        "skf_under = StratifiedKFold(n_splits=10, shuffle=True, random_state=42)\n",
        "\n",
        "# Listas para armazenar métricas de todos os folds\n",
        "accs_under, precs_under, recalls_under, f1s_under = [], [], [], []\n",
        "\n",
        "# Loop pelos folds\n",
        "for fold_under, (train_idx_under, test_idx_under) in enumerate(skf_under.split(X_array_under, y_array_under)):\n",
        "    X_train_under, X_test_under = X_array_under[train_idx_under], X_array_under[test_idx_under]\n",
        "    y_train_under, y_test_under = y_array_under[train_idx_under], y_array_under[test_idx_under]\n",
        "\n",
        "    rf_model_under = RandomForestClassifier(n_estimators=1, max_features=1)\n",
        "    rf_model_under.fit(X_train_under, y_train_under)\n",
        "    y_pred_under = rf_model_under.predict(X_test_under)\n",
        "\n",
        "    acc_under = accuracy_score(y_test_under, y_pred_under)\n",
        "    prec_under = precision_score(y_test_under, y_pred_under)\n",
        "    rec_under = recall_score(y_test_under, y_pred_under)\n",
        "    f1_under = f1_score(y_test_under, y_pred_under)\n",
        "\n",
        "    accs_under.append(acc_under)\n",
        "    precs_under.append(prec_under)\n",
        "    recalls_under.append(rec_under)\n",
        "    f1s_under.append(f1_under)\n",
        "\n",
        "# Mostrar médias e desvios padrão\n",
        "print(\"MÉDIAS FINAIS (± desvio padrão):\")\n",
        "print(f\"Acurácia média: {np.mean(accs_under):.2f} ± {np.std(accs_under):.2f}\")\n",
        "print(f\"Precisão média: {np.mean(precs_under):.2f} ± {np.std(precs_under):.2f}\")\n",
        "print(f\"Recall médio: {np.mean(recalls_under):.2f} ± {np.std(recalls_under):.2f}\")\n",
        "print(f\"F1-Score médio: {np.mean(f1s_under):.2f} ± {np.std(f1s_under):.2f}\")"
      ],
      "metadata": {
        "colab": {
          "base_uri": "https://localhost:8080/"
        },
        "id": "c-_gDON6pMv5",
        "outputId": "e20f7151-e9d3-42fc-c654-e871b413f0fb"
      },
      "execution_count": null,
      "outputs": [
        {
          "output_type": "stream",
          "name": "stdout",
          "text": [
            "MÉDIAS FINAIS (± desvio padrão):\n",
            "Acurácia média: 0.74 ± 0.06\n",
            "Precisão média: 0.75 ± 0.06\n",
            "Recall médio: 0.72 ± 0.11\n",
            "F1-Score médio: 0.73 ± 0.07\n"
          ]
        }
      ]
    },
    {
      "cell_type": "code",
      "source": [
        "# Converter para arrays, se necessário\n",
        "X_array_over = X_over.values if hasattr(X_over, \"values\") else np.array(X_over)\n",
        "y_array_over = y_over.values if hasattr(y_over, \"values\") else np.array(y_over)\n",
        "\n",
        "# Inicializar K-Fold\n",
        "skf_over = StratifiedKFold(n_splits=10, shuffle=True, random_state=42)\n",
        "\n",
        "# Listas para armazenar métricas de todos os folds\n",
        "accs_over, precs_over, recalls_over, f1s_over = [], [], [], []\n",
        "\n",
        "# Loop pelos folds\n",
        "for fold_over, (train_idx_over, test_idx_over) in enumerate(skf_over.split(X_array_over, y_array_over)):\n",
        "    X_train_over, X_test_over = X_array_over[train_idx_over], X_array_over[test_idx_over]\n",
        "    y_train_over, y_test_over = y_array_over[train_idx_over], y_array_over[test_idx_over]\n",
        "\n",
        "    rf_model_over = RandomForestClassifier(n_estimators=1, max_features=1)\n",
        "    rf_model_over.fit(X_train_over, y_train_over)\n",
        "    y_pred_over = rf_model_over.predict(X_test_over)\n",
        "\n",
        "    acc_over = accuracy_score(y_test_over, y_pred_over)\n",
        "    prec_over = precision_score(y_test_over, y_pred_over)\n",
        "    rec_over = recall_score(y_test_over, y_pred_over)\n",
        "    f1_over = f1_score(y_test_over, y_pred_over)\n",
        "\n",
        "    accs_over.append(acc_over)\n",
        "    precs_over.append(prec_over)\n",
        "    recalls_over.append(rec_over)\n",
        "    f1s_over.append(f1_over)\n",
        "\n",
        "# Mostrar médias e desvios padrão\n",
        "print(\"MÉDIAS FINAIS (± desvio padrão):\")\n",
        "print(f\"Acurácia média: {np.mean(accs_over):.2f} ± {np.std(accs_over):.2f}\")\n",
        "print(f\"Precisão média: {np.mean(precs_over):.2f} ± {np.std(precs_over):.2f}\")\n",
        "print(f\"Recall médio: {np.mean(recalls_over):.2f} ± {np.std(recalls_over):.2f}\")\n",
        "print(f\"F1-Score médio: {np.mean(f1s_over):.2f} ± {np.std(f1s_over):.2f}\")"
      ],
      "metadata": {
        "colab": {
          "base_uri": "https://localhost:8080/"
        },
        "id": "0EozJLCspNZy",
        "outputId": "81e18022-9294-44e2-f6c0-bebceea904c6"
      },
      "execution_count": null,
      "outputs": [
        {
          "output_type": "stream",
          "name": "stdout",
          "text": [
            "MÉDIAS FINAIS (± desvio padrão):\n",
            "Acurácia média: 0.83 ± 0.03\n",
            "Precisão média: 0.84 ± 0.03\n",
            "Recall médio: 0.81 ± 0.07\n",
            "F1-Score médio: 0.83 ± 0.04\n"
          ]
        }
      ]
    },
    {
      "cell_type": "markdown",
      "source": [
        "### LightGBM"
      ],
      "metadata": {
        "id": "-ICjIwjvrMoV"
      }
    },
    {
      "cell_type": "code",
      "source": [
        "# Converter para arrays, se necessário\n",
        "X_array = X.values if hasattr(X, \"values\") else np.array(X)\n",
        "y_array = y.values if hasattr(y, \"values\") else np.array(y)\n",
        "\n",
        "# Inicializar K-Fold\n",
        "skf = StratifiedKFold(n_splits=10, shuffle=True, random_state=42)\n",
        "\n",
        "# Listas para armazenar métricas de todos os folds\n",
        "accs, precs, recalls, f1s = [], [], [], []\n",
        "\n",
        "# Loop pelos folds\n",
        "for fold, (train_idx, test_idx) in enumerate(skf.split(X_array, y_array)):\n",
        "    X_train, X_test = X_array[train_idx], X_array[test_idx]\n",
        "    y_train, y_test = y_array[train_idx], y_array[test_idx]\n",
        "\n",
        "    lgb_model = lgb.LGBMClassifier(verbose=-1, n_estimators=1)\n",
        "    lgb_model.fit(X_train, y_train)\n",
        "    y_pred = lgb_model.predict(X_test)\n",
        "\n",
        "    acc = accuracy_score(y_test, y_pred)\n",
        "    prec = precision_score(y_test, y_pred)\n",
        "    rec = recall_score(y_test, y_pred)\n",
        "    f1 = f1_score(y_test, y_pred)\n",
        "\n",
        "    accs.append(acc)\n",
        "    precs.append(prec)\n",
        "    recalls.append(rec)\n",
        "    f1s.append(f1)\n",
        "\n",
        "# Mostrar médias e desvios padrão\n",
        "print(\"MÉDIAS FINAIS (± desvio padrão):\")\n",
        "print(f\"Acurácia média: {np.mean(accs):.2f} ± {np.std(accs):.2f}\")\n",
        "print(f\"Precisão média: {np.mean(precs):.2f} ± {np.std(precs):.2f}\")\n",
        "print(f\"Recall médio: {np.mean(recalls):.2f} ± {np.std(recalls):.2f}\")\n",
        "print(f\"F1-Score médio: {np.mean(f1s):.2f} ± {np.std(f1s):.2f}\")"
      ],
      "metadata": {
        "colab": {
          "base_uri": "https://localhost:8080/"
        },
        "outputId": "c03a059d-be42-473e-e19a-bc5417dff239",
        "id": "T1IyHfUGeEwv"
      },
      "execution_count": null,
      "outputs": [
        {
          "output_type": "stream",
          "name": "stdout",
          "text": [
            "MÉDIAS FINAIS (± desvio padrão):\n",
            "Acurácia média: 0.72 ± 0.01\n",
            "Precisão média: 0.72 ± 0.01\n",
            "Recall médio: 1.00 ± 0.00\n",
            "F1-Score médio: 0.83 ± 0.00\n"
          ]
        },
        {
          "output_type": "stream",
          "name": "stderr",
          "text": [
            "/usr/local/lib/python3.11/dist-packages/sklearn/utils/deprecation.py:151: FutureWarning: 'force_all_finite' was renamed to 'ensure_all_finite' in 1.6 and will be removed in 1.8.\n",
            "  warnings.warn(\n",
            "/usr/local/lib/python3.11/dist-packages/sklearn/utils/deprecation.py:151: FutureWarning: 'force_all_finite' was renamed to 'ensure_all_finite' in 1.6 and will be removed in 1.8.\n",
            "  warnings.warn(\n",
            "/usr/local/lib/python3.11/dist-packages/sklearn/utils/deprecation.py:151: FutureWarning: 'force_all_finite' was renamed to 'ensure_all_finite' in 1.6 and will be removed in 1.8.\n",
            "  warnings.warn(\n",
            "/usr/local/lib/python3.11/dist-packages/sklearn/utils/deprecation.py:151: FutureWarning: 'force_all_finite' was renamed to 'ensure_all_finite' in 1.6 and will be removed in 1.8.\n",
            "  warnings.warn(\n",
            "/usr/local/lib/python3.11/dist-packages/sklearn/utils/deprecation.py:151: FutureWarning: 'force_all_finite' was renamed to 'ensure_all_finite' in 1.6 and will be removed in 1.8.\n",
            "  warnings.warn(\n",
            "/usr/local/lib/python3.11/dist-packages/sklearn/utils/deprecation.py:151: FutureWarning: 'force_all_finite' was renamed to 'ensure_all_finite' in 1.6 and will be removed in 1.8.\n",
            "  warnings.warn(\n",
            "/usr/local/lib/python3.11/dist-packages/sklearn/utils/deprecation.py:151: FutureWarning: 'force_all_finite' was renamed to 'ensure_all_finite' in 1.6 and will be removed in 1.8.\n",
            "  warnings.warn(\n",
            "/usr/local/lib/python3.11/dist-packages/sklearn/utils/deprecation.py:151: FutureWarning: 'force_all_finite' was renamed to 'ensure_all_finite' in 1.6 and will be removed in 1.8.\n",
            "  warnings.warn(\n",
            "/usr/local/lib/python3.11/dist-packages/sklearn/utils/deprecation.py:151: FutureWarning: 'force_all_finite' was renamed to 'ensure_all_finite' in 1.6 and will be removed in 1.8.\n",
            "  warnings.warn(\n",
            "/usr/local/lib/python3.11/dist-packages/sklearn/utils/deprecation.py:151: FutureWarning: 'force_all_finite' was renamed to 'ensure_all_finite' in 1.6 and will be removed in 1.8.\n",
            "  warnings.warn(\n",
            "/usr/local/lib/python3.11/dist-packages/sklearn/utils/deprecation.py:151: FutureWarning: 'force_all_finite' was renamed to 'ensure_all_finite' in 1.6 and will be removed in 1.8.\n",
            "  warnings.warn(\n",
            "/usr/local/lib/python3.11/dist-packages/sklearn/utils/deprecation.py:151: FutureWarning: 'force_all_finite' was renamed to 'ensure_all_finite' in 1.6 and will be removed in 1.8.\n",
            "  warnings.warn(\n",
            "/usr/local/lib/python3.11/dist-packages/sklearn/utils/deprecation.py:151: FutureWarning: 'force_all_finite' was renamed to 'ensure_all_finite' in 1.6 and will be removed in 1.8.\n",
            "  warnings.warn(\n",
            "/usr/local/lib/python3.11/dist-packages/sklearn/utils/deprecation.py:151: FutureWarning: 'force_all_finite' was renamed to 'ensure_all_finite' in 1.6 and will be removed in 1.8.\n",
            "  warnings.warn(\n",
            "/usr/local/lib/python3.11/dist-packages/sklearn/utils/deprecation.py:151: FutureWarning: 'force_all_finite' was renamed to 'ensure_all_finite' in 1.6 and will be removed in 1.8.\n",
            "  warnings.warn(\n",
            "/usr/local/lib/python3.11/dist-packages/sklearn/utils/deprecation.py:151: FutureWarning: 'force_all_finite' was renamed to 'ensure_all_finite' in 1.6 and will be removed in 1.8.\n",
            "  warnings.warn(\n",
            "/usr/local/lib/python3.11/dist-packages/sklearn/utils/deprecation.py:151: FutureWarning: 'force_all_finite' was renamed to 'ensure_all_finite' in 1.6 and will be removed in 1.8.\n",
            "  warnings.warn(\n",
            "/usr/local/lib/python3.11/dist-packages/sklearn/utils/deprecation.py:151: FutureWarning: 'force_all_finite' was renamed to 'ensure_all_finite' in 1.6 and will be removed in 1.8.\n",
            "  warnings.warn(\n",
            "/usr/local/lib/python3.11/dist-packages/sklearn/utils/deprecation.py:151: FutureWarning: 'force_all_finite' was renamed to 'ensure_all_finite' in 1.6 and will be removed in 1.8.\n",
            "  warnings.warn(\n",
            "/usr/local/lib/python3.11/dist-packages/sklearn/utils/deprecation.py:151: FutureWarning: 'force_all_finite' was renamed to 'ensure_all_finite' in 1.6 and will be removed in 1.8.\n",
            "  warnings.warn(\n"
          ]
        }
      ]
    },
    {
      "cell_type": "code",
      "source": [
        "# Converter para arrays, se necessário\n",
        "X_array_under = X_under.values if hasattr(X_under, \"values\") else np.array(X_under)\n",
        "y_array_under = y_under.values if hasattr(y_under, \"values\") else np.array(y_under)\n",
        "\n",
        "# Inicializar K-Fold\n",
        "skf_under = StratifiedKFold(n_splits=10, shuffle=True, random_state=42)\n",
        "\n",
        "# Listas para armazenar métricas de todos os folds\n",
        "accs_under, precs_under, recalls_under, f1s_under = [], [], [], []\n",
        "\n",
        "# Loop pelos folds\n",
        "for fold_under, (train_idx_under, test_idx_under) in enumerate(skf_under.split(X_array_under, y_array_under)):\n",
        "    X_train_under, X_test_under = X_array_under[train_idx_under], X_array_under[test_idx_under]\n",
        "    y_train_under, y_test_under = y_array_under[train_idx_under], y_array_under[test_idx_under]\n",
        "\n",
        "    lgb_model_under = lgb.LGBMClassifier(verbose=-1, n_estimators=1)\n",
        "    lgb_model_under.fit(X_train_under, y_train_under)\n",
        "    y_pred_under = lgb_model_under.predict(X_test_under)\n",
        "\n",
        "    acc_under = accuracy_score(y_test_under, y_pred_under)\n",
        "    prec_under = precision_score(y_test_under, y_pred_under)\n",
        "    rec_under = recall_score(y_test_under, y_pred_under)\n",
        "    f1_under = f1_score(y_test_under, y_pred_under)\n",
        "\n",
        "    accs_under.append(acc_under)\n",
        "    precs_under.append(prec_under)\n",
        "    recalls_under.append(rec_under)\n",
        "    f1s_under.append(f1_under)\n",
        "\n",
        "# Mostrar médias e desvios padrão\n",
        "print(\"MÉDIAS FINAIS (± desvio padrão):\")\n",
        "print(f\"Acurácia média: {np.mean(accs_under):.2f} ± {np.std(accs_under):.2f}\")\n",
        "print(f\"Precisão média: {np.mean(precs_under):.2f} ± {np.std(precs_under):.2f}\")\n",
        "print(f\"Recall médio: {np.mean(recalls_under):.2f} ± {np.std(recalls_under):.2f}\")\n",
        "print(f\"F1-Score médio: {np.mean(f1s_under):.2f} ± {np.std(f1s_under):.2f}\")"
      ],
      "metadata": {
        "colab": {
          "base_uri": "https://localhost:8080/"
        },
        "outputId": "6ee6a511-16ac-49b2-fd6f-0a4dc3a864b5",
        "id": "HqXEbNN0eEw0"
      },
      "execution_count": null,
      "outputs": [
        {
          "output_type": "stream",
          "name": "stderr",
          "text": [
            "/usr/local/lib/python3.11/dist-packages/sklearn/utils/deprecation.py:151: FutureWarning: 'force_all_finite' was renamed to 'ensure_all_finite' in 1.6 and will be removed in 1.8.\n",
            "  warnings.warn(\n",
            "/usr/local/lib/python3.11/dist-packages/sklearn/utils/deprecation.py:151: FutureWarning: 'force_all_finite' was renamed to 'ensure_all_finite' in 1.6 and will be removed in 1.8.\n",
            "  warnings.warn(\n"
          ]
        },
        {
          "output_type": "stream",
          "name": "stdout",
          "text": [
            "MÉDIAS FINAIS (± desvio padrão):\n",
            "Acurácia média: 0.74 ± 0.07\n",
            "Precisão média: 0.75 ± 0.07\n",
            "Recall médio: 0.73 ± 0.10\n",
            "F1-Score médio: 0.73 ± 0.07\n"
          ]
        },
        {
          "output_type": "stream",
          "name": "stderr",
          "text": [
            "/usr/local/lib/python3.11/dist-packages/sklearn/utils/deprecation.py:151: FutureWarning: 'force_all_finite' was renamed to 'ensure_all_finite' in 1.6 and will be removed in 1.8.\n",
            "  warnings.warn(\n",
            "/usr/local/lib/python3.11/dist-packages/sklearn/utils/deprecation.py:151: FutureWarning: 'force_all_finite' was renamed to 'ensure_all_finite' in 1.6 and will be removed in 1.8.\n",
            "  warnings.warn(\n",
            "/usr/local/lib/python3.11/dist-packages/sklearn/utils/deprecation.py:151: FutureWarning: 'force_all_finite' was renamed to 'ensure_all_finite' in 1.6 and will be removed in 1.8.\n",
            "  warnings.warn(\n",
            "/usr/local/lib/python3.11/dist-packages/sklearn/utils/deprecation.py:151: FutureWarning: 'force_all_finite' was renamed to 'ensure_all_finite' in 1.6 and will be removed in 1.8.\n",
            "  warnings.warn(\n",
            "/usr/local/lib/python3.11/dist-packages/sklearn/utils/deprecation.py:151: FutureWarning: 'force_all_finite' was renamed to 'ensure_all_finite' in 1.6 and will be removed in 1.8.\n",
            "  warnings.warn(\n",
            "/usr/local/lib/python3.11/dist-packages/sklearn/utils/deprecation.py:151: FutureWarning: 'force_all_finite' was renamed to 'ensure_all_finite' in 1.6 and will be removed in 1.8.\n",
            "  warnings.warn(\n",
            "/usr/local/lib/python3.11/dist-packages/sklearn/utils/deprecation.py:151: FutureWarning: 'force_all_finite' was renamed to 'ensure_all_finite' in 1.6 and will be removed in 1.8.\n",
            "  warnings.warn(\n",
            "/usr/local/lib/python3.11/dist-packages/sklearn/utils/deprecation.py:151: FutureWarning: 'force_all_finite' was renamed to 'ensure_all_finite' in 1.6 and will be removed in 1.8.\n",
            "  warnings.warn(\n",
            "/usr/local/lib/python3.11/dist-packages/sklearn/utils/deprecation.py:151: FutureWarning: 'force_all_finite' was renamed to 'ensure_all_finite' in 1.6 and will be removed in 1.8.\n",
            "  warnings.warn(\n",
            "/usr/local/lib/python3.11/dist-packages/sklearn/utils/deprecation.py:151: FutureWarning: 'force_all_finite' was renamed to 'ensure_all_finite' in 1.6 and will be removed in 1.8.\n",
            "  warnings.warn(\n",
            "/usr/local/lib/python3.11/dist-packages/sklearn/utils/deprecation.py:151: FutureWarning: 'force_all_finite' was renamed to 'ensure_all_finite' in 1.6 and will be removed in 1.8.\n",
            "  warnings.warn(\n",
            "/usr/local/lib/python3.11/dist-packages/sklearn/utils/deprecation.py:151: FutureWarning: 'force_all_finite' was renamed to 'ensure_all_finite' in 1.6 and will be removed in 1.8.\n",
            "  warnings.warn(\n",
            "/usr/local/lib/python3.11/dist-packages/sklearn/utils/deprecation.py:151: FutureWarning: 'force_all_finite' was renamed to 'ensure_all_finite' in 1.6 and will be removed in 1.8.\n",
            "  warnings.warn(\n",
            "/usr/local/lib/python3.11/dist-packages/sklearn/utils/deprecation.py:151: FutureWarning: 'force_all_finite' was renamed to 'ensure_all_finite' in 1.6 and will be removed in 1.8.\n",
            "  warnings.warn(\n",
            "/usr/local/lib/python3.11/dist-packages/sklearn/utils/deprecation.py:151: FutureWarning: 'force_all_finite' was renamed to 'ensure_all_finite' in 1.6 and will be removed in 1.8.\n",
            "  warnings.warn(\n",
            "/usr/local/lib/python3.11/dist-packages/sklearn/utils/deprecation.py:151: FutureWarning: 'force_all_finite' was renamed to 'ensure_all_finite' in 1.6 and will be removed in 1.8.\n",
            "  warnings.warn(\n",
            "/usr/local/lib/python3.11/dist-packages/sklearn/utils/deprecation.py:151: FutureWarning: 'force_all_finite' was renamed to 'ensure_all_finite' in 1.6 and will be removed in 1.8.\n",
            "  warnings.warn(\n",
            "/usr/local/lib/python3.11/dist-packages/sklearn/utils/deprecation.py:151: FutureWarning: 'force_all_finite' was renamed to 'ensure_all_finite' in 1.6 and will be removed in 1.8.\n",
            "  warnings.warn(\n"
          ]
        }
      ]
    },
    {
      "cell_type": "code",
      "source": [
        "# Converter para arrays, se necessário\n",
        "X_array_over = X_over.values if hasattr(X_over, \"values\") else np.array(X_over)\n",
        "y_array_over = y_over.values if hasattr(y_over, \"values\") else np.array(y_over)\n",
        "\n",
        "# Inicializar K-Fold\n",
        "skf_over = StratifiedKFold(n_splits=10, shuffle=True, random_state=42)\n",
        "\n",
        "# Listas para armazenar métricas de todos os folds\n",
        "accs_over, precs_over, recalls_over, f1s_over = [], [], [], []\n",
        "\n",
        "# Loop pelos folds\n",
        "for fold_over, (train_idx_over, test_idx_over) in enumerate(skf_over.split(X_array_over, y_array_over)):\n",
        "    X_train_over, X_test_over = X_array_over[train_idx_over], X_array_over[test_idx_over]\n",
        "    y_train_over, y_test_over = y_array_over[train_idx_over], y_array_over[test_idx_over]\n",
        "\n",
        "    lgb_model_over = lgb.LGBMClassifier(verbose=-1, n_estimators=1)\n",
        "    lgb_model_over.fit(X_train_over, y_train_over)\n",
        "    y_pred_over = lgb_model_over.predict(X_test_over)\n",
        "\n",
        "    acc_over = accuracy_score(y_test_over, y_pred_over)\n",
        "    prec_over = precision_score(y_test_over, y_pred_over)\n",
        "    rec_over = recall_score(y_test_over, y_pred_over)\n",
        "    f1_over = f1_score(y_test_over, y_pred_over)\n",
        "\n",
        "    accs_over.append(acc_over)\n",
        "    precs_over.append(prec_over)\n",
        "    recalls_over.append(rec_over)\n",
        "    f1s_over.append(f1_over)\n",
        "\n",
        "# Mostrar médias e desvios padrão\n",
        "print(\"MÉDIAS FINAIS (± desvio padrão):\")\n",
        "print(f\"Acurácia média: {np.mean(accs_over):.2f} ± {np.std(accs_over):.2f}\")\n",
        "print(f\"Precisão média: {np.mean(precs_over):.2f} ± {np.std(precs_over):.2f}\")\n",
        "print(f\"Recall médio: {np.mean(recalls_over):.2f} ± {np.std(recalls_over):.2f}\")\n",
        "print(f\"F1-Score médio: {np.mean(f1s_over):.2f} ± {np.std(f1s_over):.2f}\")"
      ],
      "metadata": {
        "colab": {
          "base_uri": "https://localhost:8080/"
        },
        "outputId": "e4fb49d4-e764-48f9-d6db-ed8ddf42b0f3",
        "id": "l6zV3NhZeEw2"
      },
      "execution_count": null,
      "outputs": [
        {
          "output_type": "stream",
          "name": "stderr",
          "text": [
            "/usr/local/lib/python3.11/dist-packages/sklearn/utils/deprecation.py:151: FutureWarning: 'force_all_finite' was renamed to 'ensure_all_finite' in 1.6 and will be removed in 1.8.\n",
            "  warnings.warn(\n",
            "/usr/local/lib/python3.11/dist-packages/sklearn/utils/deprecation.py:151: FutureWarning: 'force_all_finite' was renamed to 'ensure_all_finite' in 1.6 and will be removed in 1.8.\n",
            "  warnings.warn(\n",
            "/usr/local/lib/python3.11/dist-packages/sklearn/utils/deprecation.py:151: FutureWarning: 'force_all_finite' was renamed to 'ensure_all_finite' in 1.6 and will be removed in 1.8.\n",
            "  warnings.warn(\n"
          ]
        },
        {
          "output_type": "stream",
          "name": "stdout",
          "text": [
            "MÉDIAS FINAIS (± desvio padrão):\n",
            "Acurácia média: 0.81 ± 0.05\n",
            "Precisão média: 0.83 ± 0.07\n",
            "Recall médio: 0.81 ± 0.08\n",
            "F1-Score médio: 0.81 ± 0.06\n"
          ]
        },
        {
          "output_type": "stream",
          "name": "stderr",
          "text": [
            "/usr/local/lib/python3.11/dist-packages/sklearn/utils/deprecation.py:151: FutureWarning: 'force_all_finite' was renamed to 'ensure_all_finite' in 1.6 and will be removed in 1.8.\n",
            "  warnings.warn(\n",
            "/usr/local/lib/python3.11/dist-packages/sklearn/utils/deprecation.py:151: FutureWarning: 'force_all_finite' was renamed to 'ensure_all_finite' in 1.6 and will be removed in 1.8.\n",
            "  warnings.warn(\n",
            "/usr/local/lib/python3.11/dist-packages/sklearn/utils/deprecation.py:151: FutureWarning: 'force_all_finite' was renamed to 'ensure_all_finite' in 1.6 and will be removed in 1.8.\n",
            "  warnings.warn(\n",
            "/usr/local/lib/python3.11/dist-packages/sklearn/utils/deprecation.py:151: FutureWarning: 'force_all_finite' was renamed to 'ensure_all_finite' in 1.6 and will be removed in 1.8.\n",
            "  warnings.warn(\n",
            "/usr/local/lib/python3.11/dist-packages/sklearn/utils/deprecation.py:151: FutureWarning: 'force_all_finite' was renamed to 'ensure_all_finite' in 1.6 and will be removed in 1.8.\n",
            "  warnings.warn(\n",
            "/usr/local/lib/python3.11/dist-packages/sklearn/utils/deprecation.py:151: FutureWarning: 'force_all_finite' was renamed to 'ensure_all_finite' in 1.6 and will be removed in 1.8.\n",
            "  warnings.warn(\n",
            "/usr/local/lib/python3.11/dist-packages/sklearn/utils/deprecation.py:151: FutureWarning: 'force_all_finite' was renamed to 'ensure_all_finite' in 1.6 and will be removed in 1.8.\n",
            "  warnings.warn(\n",
            "/usr/local/lib/python3.11/dist-packages/sklearn/utils/deprecation.py:151: FutureWarning: 'force_all_finite' was renamed to 'ensure_all_finite' in 1.6 and will be removed in 1.8.\n",
            "  warnings.warn(\n",
            "/usr/local/lib/python3.11/dist-packages/sklearn/utils/deprecation.py:151: FutureWarning: 'force_all_finite' was renamed to 'ensure_all_finite' in 1.6 and will be removed in 1.8.\n",
            "  warnings.warn(\n",
            "/usr/local/lib/python3.11/dist-packages/sklearn/utils/deprecation.py:151: FutureWarning: 'force_all_finite' was renamed to 'ensure_all_finite' in 1.6 and will be removed in 1.8.\n",
            "  warnings.warn(\n",
            "/usr/local/lib/python3.11/dist-packages/sklearn/utils/deprecation.py:151: FutureWarning: 'force_all_finite' was renamed to 'ensure_all_finite' in 1.6 and will be removed in 1.8.\n",
            "  warnings.warn(\n",
            "/usr/local/lib/python3.11/dist-packages/sklearn/utils/deprecation.py:151: FutureWarning: 'force_all_finite' was renamed to 'ensure_all_finite' in 1.6 and will be removed in 1.8.\n",
            "  warnings.warn(\n",
            "/usr/local/lib/python3.11/dist-packages/sklearn/utils/deprecation.py:151: FutureWarning: 'force_all_finite' was renamed to 'ensure_all_finite' in 1.6 and will be removed in 1.8.\n",
            "  warnings.warn(\n",
            "/usr/local/lib/python3.11/dist-packages/sklearn/utils/deprecation.py:151: FutureWarning: 'force_all_finite' was renamed to 'ensure_all_finite' in 1.6 and will be removed in 1.8.\n",
            "  warnings.warn(\n",
            "/usr/local/lib/python3.11/dist-packages/sklearn/utils/deprecation.py:151: FutureWarning: 'force_all_finite' was renamed to 'ensure_all_finite' in 1.6 and will be removed in 1.8.\n",
            "  warnings.warn(\n",
            "/usr/local/lib/python3.11/dist-packages/sklearn/utils/deprecation.py:151: FutureWarning: 'force_all_finite' was renamed to 'ensure_all_finite' in 1.6 and will be removed in 1.8.\n",
            "  warnings.warn(\n",
            "/usr/local/lib/python3.11/dist-packages/sklearn/utils/deprecation.py:151: FutureWarning: 'force_all_finite' was renamed to 'ensure_all_finite' in 1.6 and will be removed in 1.8.\n",
            "  warnings.warn(\n"
          ]
        }
      ]
    },
    {
      "cell_type": "markdown",
      "source": [
        "### Naïve Bayes"
      ],
      "metadata": {
        "id": "OyrCT5yyrfR1"
      }
    },
    {
      "cell_type": "code",
      "source": [
        "# Converter para arrays, se necessário\n",
        "X_array = X.values if hasattr(X, \"values\") else np.array(X)\n",
        "y_array = y.values if hasattr(y, \"values\") else np.array(y)\n",
        "\n",
        "# Inicializar K-Fold\n",
        "skf = StratifiedKFold(n_splits=10, shuffle=True, random_state=42)\n",
        "\n",
        "# Listas para armazenar métricas de todos os folds\n",
        "accs, precs, recalls, f1s = [], [], [], []\n",
        "\n",
        "# Loop pelos folds\n",
        "for fold, (train_idx, test_idx) in enumerate(skf.split(X_array, y_array)):\n",
        "    X_train, X_test = X_array[train_idx], X_array[test_idx]\n",
        "    y_train, y_test = y_array[train_idx], y_array[test_idx]\n",
        "\n",
        "    nb_model = GaussianNB()\n",
        "    nb_model.fit(X_train, y_train)\n",
        "    y_pred = nb_model.predict(X_test)\n",
        "\n",
        "    acc = accuracy_score(y_test, y_pred)\n",
        "    prec = precision_score(y_test, y_pred)\n",
        "    rec = recall_score(y_test, y_pred)\n",
        "    f1 = f1_score(y_test, y_pred)\n",
        "\n",
        "    accs.append(acc)\n",
        "    precs.append(prec)\n",
        "    recalls.append(rec)\n",
        "    f1s.append(f1)\n",
        "\n",
        "# Mostrar médias e desvios padrão\n",
        "print(\"MÉDIAS FINAIS (± desvio padrão):\")\n",
        "print(f\"Acurácia média: {np.mean(accs):.2f} ± {np.std(accs):.2f}\")\n",
        "print(f\"Precisão média: {np.mean(precs):.2f} ± {np.std(precs):.2f}\")\n",
        "print(f\"Recall médio: {np.mean(recalls):.2f} ± {np.std(recalls):.2f}\")\n",
        "print(f\"F1-Score médio: {np.mean(f1s):.2f} ± {np.std(f1s):.2f}\")"
      ],
      "metadata": {
        "colab": {
          "base_uri": "https://localhost:8080/"
        },
        "outputId": "dfbf2970-c8b3-42ae-d6de-f6f1ae5f316f",
        "id": "hivPcj1wetxf"
      },
      "execution_count": null,
      "outputs": [
        {
          "output_type": "stream",
          "name": "stdout",
          "text": [
            "MÉDIAS FINAIS (± desvio padrão):\n",
            "Acurácia média: 0.82 ± 0.06\n",
            "Precisão média: 0.88 ± 0.04\n",
            "Recall médio: 0.87 ± 0.08\n",
            "F1-Score médio: 0.87 ± 0.05\n"
          ]
        }
      ]
    },
    {
      "cell_type": "code",
      "source": [
        "# Converter para arrays, se necessário\n",
        "X_array_under = X_under.values if hasattr(X_under, \"values\") else np.array(X_under)\n",
        "y_array_under = y_under.values if hasattr(y_under, \"values\") else np.array(y_under)\n",
        "\n",
        "# Inicializar K-Fold\n",
        "skf_under = StratifiedKFold(n_splits=10, shuffle=True, random_state=42)\n",
        "\n",
        "# Listas para armazenar métricas de todos os folds\n",
        "accs_under, precs_under, recalls_under, f1s_under = [], [], [], []\n",
        "\n",
        "# Loop pelos folds\n",
        "for fold_under, (train_idx_under, test_idx_under) in enumerate(skf_under.split(X_array_under, y_array_under)):\n",
        "    X_train_under, X_test_under = X_array_under[train_idx_under], X_array_under[test_idx_under]\n",
        "    y_train_under, y_test_under = y_array_under[train_idx_under], y_array_under[test_idx_under]\n",
        "\n",
        "    nb_model_under = GaussianNB()\n",
        "    nb_model_under.fit(X_train_under, y_train_under)\n",
        "    y_pred_under = nb_model_under.predict(X_test_under)\n",
        "\n",
        "    acc_under = accuracy_score(y_test_under, y_pred_under)\n",
        "    prec_under = precision_score(y_test_under, y_pred_under)\n",
        "    rec_under = recall_score(y_test_under, y_pred_under)\n",
        "    f1_under = f1_score(y_test_under, y_pred_under)\n",
        "\n",
        "    accs_under.append(acc_under)\n",
        "    precs_under.append(prec_under)\n",
        "    recalls_under.append(rec_under)\n",
        "    f1s_under.append(f1_under)\n",
        "\n",
        "# Mostrar médias e desvios padrão\n",
        "print(\"MÉDIAS FINAIS (± desvio padrão):\")\n",
        "print(f\"Acurácia média: {np.mean(accs_under):.2f} ± {np.std(accs_under):.2f}\")\n",
        "print(f\"Precisão média: {np.mean(precs_under):.2f} ± {np.std(precs_under):.2f}\")\n",
        "print(f\"Recall médio: {np.mean(recalls_under):.2f} ± {np.std(recalls_under):.2f}\")\n",
        "print(f\"F1-Score médio: {np.mean(f1s_under):.2f} ± {np.std(f1s_under):.2f}\")"
      ],
      "metadata": {
        "colab": {
          "base_uri": "https://localhost:8080/"
        },
        "outputId": "267270f4-d7f4-4217-e3cc-12bdd7ca49cc",
        "id": "Nq7zxZD-etxk"
      },
      "execution_count": null,
      "outputs": [
        {
          "output_type": "stream",
          "name": "stdout",
          "text": [
            "MÉDIAS FINAIS (± desvio padrão):\n",
            "Acurácia média: 0.83 ± 0.06\n",
            "Precisão média: 0.85 ± 0.07\n",
            "Recall médio: 0.80 ± 0.07\n",
            "F1-Score médio: 0.82 ± 0.05\n"
          ]
        }
      ]
    },
    {
      "cell_type": "code",
      "source": [
        "# Converter para arrays, se necessário\n",
        "X_array_over = X_over.values if hasattr(X_over, \"values\") else np.array(X_over)\n",
        "y_array_over = y_over.values if hasattr(y_over, \"values\") else np.array(y_over)\n",
        "\n",
        "# Inicializar K-Fold\n",
        "skf_over = StratifiedKFold(n_splits=10, shuffle=True, random_state=42)\n",
        "\n",
        "# Listas para armazenar métricas de todos os folds\n",
        "accs_over, precs_over, recalls_over, f1s_over = [], [], [], []\n",
        "\n",
        "# Loop pelos folds\n",
        "for fold_over, (train_idx_over, test_idx_over) in enumerate(skf_over.split(X_array_over, y_array_over)):\n",
        "    X_train_over, X_test_over = X_array_over[train_idx_over], X_array_over[test_idx_over]\n",
        "    y_train_over, y_test_over = y_array_over[train_idx_over], y_array_over[test_idx_over]\n",
        "\n",
        "    nb_model_over = GaussianNB()\n",
        "    nb_model_over.fit(X_train_over, y_train_over)\n",
        "    y_pred_over = nb_model_over.predict(X_test_over)\n",
        "\n",
        "    acc_over = accuracy_score(y_test_over, y_pred_over)\n",
        "    prec_over = precision_score(y_test_over, y_pred_over)\n",
        "    rec_over = recall_score(y_test_over, y_pred_over)\n",
        "    f1_over = f1_score(y_test_over, y_pred_over)\n",
        "\n",
        "    accs_over.append(acc_over)\n",
        "    precs_over.append(prec_over)\n",
        "    recalls_over.append(rec_over)\n",
        "    f1s_over.append(f1_over)\n",
        "\n",
        "# Mostrar médias e desvios padrão\n",
        "print(\"MÉDIAS FINAIS (± desvio padrão):\")\n",
        "print(f\"Acurácia média: {np.mean(accs_over):.2f} ± {np.std(accs_over):.2f}\")\n",
        "print(f\"Precisão média: {np.mean(precs_over):.2f} ± {np.std(precs_over):.2f}\")\n",
        "print(f\"Recall médio: {np.mean(recalls_over):.2f} ± {np.std(recalls_over):.2f}\")\n",
        "print(f\"F1-Score médio: {np.mean(f1s_over):.2f} ± {np.std(f1s_over):.2f}\")"
      ],
      "metadata": {
        "colab": {
          "base_uri": "https://localhost:8080/"
        },
        "outputId": "21f0b8d6-e953-472d-f6b5-be41009716a5",
        "id": "49VkQxLFetxn"
      },
      "execution_count": null,
      "outputs": [
        {
          "output_type": "stream",
          "name": "stdout",
          "text": [
            "MÉDIAS FINAIS (± desvio padrão):\n",
            "Acurácia média: 0.83 ± 0.03\n",
            "Precisão média: 0.85 ± 0.04\n",
            "Recall médio: 0.81 ± 0.04\n",
            "F1-Score médio: 0.83 ± 0.03\n"
          ]
        }
      ]
    },
    {
      "cell_type": "markdown",
      "source": [
        "### LSTM"
      ],
      "metadata": {
        "id": "LQF4lmbHrwVE"
      }
    },
    {
      "cell_type": "code",
      "source": [
        "# Converter para arrays, se necessário\n",
        "X_array_lstm = X.values if hasattr(X, \"values\") else np.array(X)\n",
        "y_array_lstm = y.values if hasattr(y, \"values\") else np.array(y)\n",
        "\n",
        "# Inicializar o K-Fold\n",
        "skf_lstm = StratifiedKFold(n_splits=10, shuffle=True, random_state=42)\n",
        "\n",
        "# Listas para armazenar as métricas\n",
        "accs_lstm, precs_lstm, recalls_lstm, f1s_lstm = [], [], [], []\n",
        "\n",
        "for fold, (train_idx, test_idx) in enumerate(skf_lstm.split(X_array_lstm, y_array_lstm)):\n",
        "    X_train, X_test = X_array_lstm[train_idx], X_array_lstm[test_idx]\n",
        "    y_train, y_test = y_array_lstm[train_idx], y_array_lstm[test_idx]\n",
        "\n",
        "    # Padronização\n",
        "    scaler = StandardScaler()\n",
        "    X_train_scaled = scaler.fit_transform(X_train)\n",
        "    X_test_scaled = scaler.transform(X_test)\n",
        "\n",
        "    # Remodelar para [samples, timesteps, features]\n",
        "    X_train_lstm = X_train_scaled.reshape(-1, 1, X_train_scaled.shape[1])\n",
        "    X_test_lstm = X_test_scaled.reshape(-1, 1, X_test_scaled.shape[1])\n",
        "\n",
        "    # Criar e treinar o modelo\n",
        "    lstm_model = Sequential()\n",
        "    lstm_model.add(LSTM(units=1, input_shape=(X_train_lstm.shape[1], X_train_lstm.shape[2])))\n",
        "    lstm_model.add(Dense(1, activation='sigmoid'))\n",
        "    lstm_model.compile(optimizer='adam', loss='binary_crossentropy')\n",
        "    lstm_model.fit(X_train_lstm, y_train, epochs=10, verbose=0)\n",
        "\n",
        "    # Previsão\n",
        "    y_pred = (lstm_model.predict(X_test_lstm) > 0.5).astype(\"int64\")\n",
        "\n",
        "    # Métricas\n",
        "    accs.append(accuracy_score(y_test, y_pred))\n",
        "    precs.append(precision_score(y_test, y_pred))\n",
        "    recalls.append(recall_score(y_test, y_pred))\n",
        "    f1s.append(f1_score(y_test, y_pred))\n",
        "\n",
        "# Mostrar médias e desvios padrão\n",
        "print(\"MÉDIAS FINAIS (± desvio padrão):\")\n",
        "print(f\"Acurácia média: {np.mean(accs):.2f} ± {np.std(accs):.2f}\")\n",
        "print(f\"Precisão média: {np.mean(precs):.2f} ± {np.std(precs):.2f}\")\n",
        "print(f\"Recall médio: {np.mean(recalls):.2f} ± {np.std(recalls):.2f}\")\n",
        "print(f\"F1-Score médio: {np.mean(f1s):.2f} ± {np.std(f1s):.2f}\")"
      ],
      "metadata": {
        "colab": {
          "base_uri": "https://localhost:8080/"
        },
        "id": "gbIg7Sp6OC85",
        "outputId": "bbcae9e1-2e56-46c8-8cf5-b406b5432b2b"
      },
      "execution_count": null,
      "outputs": [
        {
          "output_type": "stream",
          "name": "stdout",
          "text": [
            "\u001b[1m3/3\u001b[0m \u001b[32m━━━━━━━━━━━━━━━━━━━━\u001b[0m\u001b[37m\u001b[0m \u001b[1m1s\u001b[0m 132ms/step\n",
            "\u001b[1m3/3\u001b[0m \u001b[32m━━━━━━━━━━━━━━━━━━━━\u001b[0m\u001b[37m\u001b[0m \u001b[1m1s\u001b[0m 157ms/step\n",
            "\u001b[1m3/3\u001b[0m \u001b[32m━━━━━━━━━━━━━━━━━━━━\u001b[0m\u001b[37m\u001b[0m \u001b[1m0s\u001b[0m 131ms/step\n",
            "\u001b[1m3/3\u001b[0m \u001b[32m━━━━━━━━━━━━━━━━━━━━\u001b[0m\u001b[37m\u001b[0m \u001b[1m1s\u001b[0m 132ms/step\n",
            "\u001b[1m3/3\u001b[0m \u001b[32m━━━━━━━━━━━━━━━━━━━━\u001b[0m\u001b[37m\u001b[0m \u001b[1m0s\u001b[0m 123ms/step\n",
            "\u001b[1m3/3\u001b[0m \u001b[32m━━━━━━━━━━━━━━━━━━━━\u001b[0m\u001b[37m\u001b[0m \u001b[1m0s\u001b[0m 123ms/step\n",
            "\u001b[1m3/3\u001b[0m \u001b[32m━━━━━━━━━━━━━━━━━━━━\u001b[0m\u001b[37m\u001b[0m \u001b[1m1s\u001b[0m 204ms/step\n",
            "\u001b[1m3/3\u001b[0m \u001b[32m━━━━━━━━━━━━━━━━━━━━\u001b[0m\u001b[37m\u001b[0m \u001b[1m0s\u001b[0m 123ms/step\n",
            "\u001b[1m3/3\u001b[0m \u001b[32m━━━━━━━━━━━━━━━━━━━━\u001b[0m\u001b[37m\u001b[0m \u001b[1m0s\u001b[0m 120ms/step\n",
            "\u001b[1m3/3\u001b[0m \u001b[32m━━━━━━━━━━━━━━━━━━━━\u001b[0m\u001b[37m\u001b[0m \u001b[1m1s\u001b[0m 171ms/step\n",
            "MÉDIAS FINAIS (± desvio padrão):\n",
            "Acurácia média: 0.75 ± 0.05\n",
            "Precisão média: 0.77 ± 0.05\n",
            "Recall médio: 0.94 ± 0.06\n",
            "F1-Score médio: 0.84 ± 0.03\n"
          ]
        }
      ]
    },
    {
      "cell_type": "code",
      "source": [
        "# Converter para arrays\n",
        "X_array_under = X_under.values if hasattr(X_under, \"values\") else np.array(X_under)\n",
        "y_array_under = y_under.values if hasattr(y_under, \"values\") else np.array(y_under)\n",
        "\n",
        "# Inicializar o K-Fold\n",
        "skf_under = StratifiedKFold(n_splits=10, shuffle=True, random_state=42)\n",
        "\n",
        "# Métricas\n",
        "accs_under, precs_under, recalls_under, f1s_under = [], [], [], []\n",
        "\n",
        "for fold, (train_idx, test_idx) in enumerate(skf_under.split(X_array_under, y_array_under)):\n",
        "    X_train_under, X_test_under = X_array_under[train_idx], X_array_under[test_idx]\n",
        "    y_train_under, y_test_under = y_array_under[train_idx], y_array_under[test_idx]\n",
        "\n",
        "    # Padronização\n",
        "    scaler_under = StandardScaler()\n",
        "    X_train_scaled_under = scaler_under.fit_transform(X_train_under)\n",
        "    X_test_scaled_under = scaler_under.transform(X_test_under)\n",
        "\n",
        "    # Remodelar para [samples, timesteps, features]\n",
        "    X_train_under = X_train_scaled_under.reshape(-1, 1, X_train_scaled_under.shape[1])\n",
        "    X_test_under = X_test_scaled_under.reshape(-1, 1, X_test_scaled_under.shape[1])\n",
        "\n",
        "    # Modelo LSTM\n",
        "    lstm_model_under = Sequential()\n",
        "    lstm_model_under.add(LSTM(units=1, input_shape=(X_train_under.shape[1], X_train_under.shape[2])))\n",
        "    lstm_model_under.add(Dense(1, activation='sigmoid'))\n",
        "    lstm_model_under.compile(optimizer='adam', loss='binary_crossentropy')\n",
        "    lstm_model_under.fit(X_train_under, y_train_under, epochs=10, verbose=0)\n",
        "\n",
        "    # Previsão\n",
        "    y_pred_under = (lstm_model_under.predict(X_test_under) > 0.5).astype(\"int64\")\n",
        "\n",
        "    # Métricas\n",
        "    accs_under.append(accuracy_score(y_test_under, y_pred_under))\n",
        "    precs_under.append(precision_score(y_test_under, y_pred_under))\n",
        "    recalls_under.append(recall_score(y_test_under, y_pred_under))\n",
        "    f1s_under.append(f1_score(y_test_under, y_pred_under))\n",
        "\n",
        "# Mostrar médias e desvios padrão\n",
        "print(\"MÉDIAS FINAIS (± desvio padrão):\")\n",
        "print(f\"Acurácia média: {np.mean(accs_under):.2f} ± {np.std(accs_under):.2f}\")\n",
        "print(f\"Precisão média: {np.mean(precs_under):.2f} ± {np.std(precs_under):.2f}\")\n",
        "print(f\"Recall médio: {np.mean(recalls_under):.2f} ± {np.std(recalls_under):.2f}\")\n",
        "print(f\"F1-Score médio: {np.mean(f1s_under):.2f} ± {np.std(f1s_under):.2f}\")"
      ],
      "metadata": {
        "colab": {
          "base_uri": "https://localhost:8080/"
        },
        "id": "1czZ3j2ar9MW",
        "outputId": "ce953627-8cec-4863-9f06-89013fd6981c"
      },
      "execution_count": null,
      "outputs": [
        {
          "output_type": "stream",
          "name": "stdout",
          "text": [
            "\u001b[1m2/2\u001b[0m \u001b[32m━━━━━━━━━━━━━━━━━━━━\u001b[0m\u001b[37m\u001b[0m \u001b[1m0s\u001b[0m 221ms/step\n",
            "\u001b[1m2/2\u001b[0m \u001b[32m━━━━━━━━━━━━━━━━━━━━\u001b[0m\u001b[37m\u001b[0m \u001b[1m0s\u001b[0m 218ms/step\n",
            "\u001b[1m2/2\u001b[0m \u001b[32m━━━━━━━━━━━━━━━━━━━━\u001b[0m\u001b[37m\u001b[0m \u001b[1m0s\u001b[0m 221ms/step\n",
            "\u001b[1m2/2\u001b[0m \u001b[32m━━━━━━━━━━━━━━━━━━━━\u001b[0m\u001b[37m\u001b[0m \u001b[1m1s\u001b[0m 329ms/step\n",
            "\u001b[1m2/2\u001b[0m \u001b[32m━━━━━━━━━━━━━━━━━━━━\u001b[0m\u001b[37m\u001b[0m \u001b[1m0s\u001b[0m 223ms/step\n",
            "\u001b[1m2/2\u001b[0m \u001b[32m━━━━━━━━━━━━━━━━━━━━\u001b[0m\u001b[37m\u001b[0m \u001b[1m0s\u001b[0m 196ms/step\n",
            "\u001b[1m2/2\u001b[0m \u001b[32m━━━━━━━━━━━━━━━━━━━━\u001b[0m\u001b[37m\u001b[0m \u001b[1m1s\u001b[0m 300ms/step\n",
            "\u001b[1m2/2\u001b[0m \u001b[32m━━━━━━━━━━━━━━━━━━━━\u001b[0m\u001b[37m\u001b[0m \u001b[1m0s\u001b[0m 225ms/step\n",
            "\u001b[1m2/2\u001b[0m \u001b[32m━━━━━━━━━━━━━━━━━━━━\u001b[0m\u001b[37m\u001b[0m \u001b[1m0s\u001b[0m 220ms/step\n",
            "\u001b[1m2/2\u001b[0m \u001b[32m━━━━━━━━━━━━━━━━━━━━\u001b[0m\u001b[37m\u001b[0m \u001b[1m6s\u001b[0m 6s/step\n",
            "MÉDIAS FINAIS (± desvio padrão):\n",
            "Acurácia média: 0.64 ± 0.08\n",
            "Precisão média: 0.65 ± 0.08\n",
            "Recall médio: 0.61 ± 0.12\n",
            "F1-Score médio: 0.63 ± 0.09\n"
          ]
        }
      ]
    },
    {
      "cell_type": "code",
      "source": [
        "# Converter para arrays\n",
        "X_array_over = X_over.values if hasattr(X_over, \"values\") else np.array(X_over)\n",
        "y_array_over = y_over.values if hasattr(y_over, \"values\") else np.array(y_over)\n",
        "\n",
        "# Inicializar o K-Fold\n",
        "skf_over = StratifiedKFold(n_splits=10, shuffle=True, random_state=42)\n",
        "\n",
        "# Métricas\n",
        "accs_over, precs_over, recalls_over, f1s_over = [], [], [], []\n",
        "\n",
        "for fold, (train_idx, test_idx) in enumerate(skf_over.split(X_array_over, y_array_over)):\n",
        "    X_train_over, X_test_over = X_array_over[train_idx], X_array_over[test_idx]\n",
        "    y_train_over, y_test_over = y_array_over[train_idx], y_array_over[test_idx]\n",
        "\n",
        "    # Padronização\n",
        "    scaler_over = StandardScaler()\n",
        "    X_train_scaled_over = scaler_over.fit_transform(X_train_over)\n",
        "    X_test_scaled_over = scaler_over.transform(X_test_over)\n",
        "\n",
        "    # Remodelar para [samples, timesteps, features]\n",
        "    X_train_over = X_train_scaled_over.reshape(-1, 1, X_train_scaled_over.shape[1])\n",
        "    X_test_over = X_test_scaled_over.reshape(-1, 1, X_test_scaled_over.shape[1])\n",
        "\n",
        "    # Modelo LSTM\n",
        "    lstm_model_over = Sequential()\n",
        "    lstm_model_over.add(LSTM(units=1, input_shape=(X_train_over.shape[1], X_train_over.shape[2])))\n",
        "    lstm_model_over.add(Dense(1, activation='sigmoid'))\n",
        "    lstm_model_over.compile(optimizer='adam', loss='binary_crossentropy')\n",
        "    lstm_model_over.fit(X_train_over, y_train_over, epochs=10, verbose=0)\n",
        "\n",
        "    # Previsão\n",
        "    y_pred_over = (lstm_model_over.predict(X_test_over) > 0.5).astype(\"int64\")\n",
        "\n",
        "    # Métricas\n",
        "    accs_over.append(accuracy_score(y_test_over, y_pred_over))\n",
        "    precs_over.append(precision_score(y_test_over, y_pred_over))\n",
        "    recalls_over.append(recall_score(y_test_over, y_pred_over))\n",
        "    f1s_over.append(f1_score(y_test_over, y_pred_over))\n",
        "\n",
        "# Mostrar médias e desvios padrão\n",
        "print(\"MÉDIAS FINAIS (± desvio padrão):\")\n",
        "print(f\"Acurácia média: {np.mean(accs_over):.2f} ± {np.std(accs_over):.2f}\")\n",
        "print(f\"Precisão média: {np.mean(precs_over):.2f} ± {np.std(precs_over):.2f}\")\n",
        "print(f\"Recall médio: {np.mean(recalls_over):.2f} ± {np.std(recalls_over):.2f}\")\n",
        "print(f\"F1-Score médio: {np.mean(f1s_over):.2f} ± {np.std(f1s_over):.2f}\")"
      ],
      "metadata": {
        "colab": {
          "base_uri": "https://localhost:8080/"
        },
        "id": "k_fRcZrrr2CM",
        "outputId": "71e49a92-4f75-4133-ca4f-6d54fb8a0794"
      },
      "execution_count": null,
      "outputs": [
        {
          "output_type": "stream",
          "name": "stdout",
          "text": [
            "\u001b[1m4/4\u001b[0m \u001b[32m━━━━━━━━━━━━━━━━━━━━\u001b[0m\u001b[37m\u001b[0m \u001b[1m1s\u001b[0m 216ms/step\n",
            "\u001b[1m4/4\u001b[0m \u001b[32m━━━━━━━━━━━━━━━━━━━━\u001b[0m\u001b[37m\u001b[0m \u001b[1m1s\u001b[0m 98ms/step\n",
            "\u001b[1m4/4\u001b[0m \u001b[32m━━━━━━━━━━━━━━━━━━━━\u001b[0m\u001b[37m\u001b[0m \u001b[1m1s\u001b[0m 104ms/step\n",
            "\u001b[1m4/4\u001b[0m \u001b[32m━━━━━━━━━━━━━━━━━━━━\u001b[0m\u001b[37m\u001b[0m \u001b[1m0s\u001b[0m 84ms/step\n",
            "\u001b[1m4/4\u001b[0m \u001b[32m━━━━━━━━━━━━━━━━━━━━\u001b[0m\u001b[37m\u001b[0m \u001b[1m0s\u001b[0m 86ms/step\n",
            "\u001b[1m4/4\u001b[0m \u001b[32m━━━━━━━━━━━━━━━━━━━━\u001b[0m\u001b[37m\u001b[0m \u001b[1m1s\u001b[0m 130ms/step\n",
            "\u001b[1m4/4\u001b[0m \u001b[32m━━━━━━━━━━━━━━━━━━━━\u001b[0m\u001b[37m\u001b[0m \u001b[1m0s\u001b[0m 87ms/step\n",
            "\u001b[1m4/4\u001b[0m \u001b[32m━━━━━━━━━━━━━━━━━━━━\u001b[0m\u001b[37m\u001b[0m \u001b[1m1s\u001b[0m 132ms/step\n",
            "\u001b[1m4/4\u001b[0m \u001b[32m━━━━━━━━━━━━━━━━━━━━\u001b[0m\u001b[37m\u001b[0m \u001b[1m0s\u001b[0m 82ms/step\n",
            "\u001b[1m4/4\u001b[0m \u001b[32m━━━━━━━━━━━━━━━━━━━━\u001b[0m\u001b[37m\u001b[0m \u001b[1m1s\u001b[0m 86ms/step\n",
            "MÉDIAS FINAIS (± desvio padrão):\n",
            "Acurácia média: 0.69 ± 0.07\n",
            "Precisão média: 0.69 ± 0.07\n",
            "Recall médio: 0.71 ± 0.12\n",
            "F1-Score médio: 0.70 ± 0.08\n"
          ]
        }
      ]
    },
    {
      "cell_type": "markdown",
      "source": [
        "### KNN"
      ],
      "metadata": {
        "id": "mxExBHbhsAZN"
      }
    },
    {
      "cell_type": "code",
      "source": [
        "# Converter para arrays, se necessário\n",
        "X_array = X.values if hasattr(X, \"values\") else np.array(X)\n",
        "y_array = y.values if hasattr(y, \"values\") else np.array(y)\n",
        "\n",
        "# Inicializar K-Fold\n",
        "skf = StratifiedKFold(n_splits=10, shuffle=True, random_state=42)\n",
        "\n",
        "# Listas para armazenar métricas de todos os folds\n",
        "accs, precs, recalls, f1s = [], [], [], []\n",
        "\n",
        "# Loop pelos folds\n",
        "for fold, (train_idx, test_idx) in enumerate(skf.split(X_array, y_array)):\n",
        "    X_train, X_test = X_array[train_idx], X_array[test_idx]\n",
        "    y_train, y_test = y_array[train_idx], y_array[test_idx]\n",
        "\n",
        "    knn_model = KNeighborsClassifier(n_neighbors=100)\n",
        "    knn_model.fit(X_train, y_train)\n",
        "    y_pred = knn_model.predict(X_test)\n",
        "\n",
        "    acc = accuracy_score(y_test, y_pred)\n",
        "    prec = precision_score(y_test, y_pred)\n",
        "    rec = recall_score(y_test, y_pred)\n",
        "    f1 = f1_score(y_test, y_pred)\n",
        "\n",
        "    accs.append(acc)\n",
        "    precs.append(prec)\n",
        "    recalls.append(rec)\n",
        "    f1s.append(f1)\n",
        "\n",
        "# Mostrar médias e desvios padrão\n",
        "print(\"MÉDIAS FINAIS (± desvio padrão):\")\n",
        "print(f\"Acurácia média: {np.mean(accs):.2f} ± {np.std(accs):.2f}\")\n",
        "print(f\"Precisão média: {np.mean(precs):.2f} ± {np.std(precs):.2f}\")\n",
        "print(f\"Recall médio: {np.mean(recalls):.2f} ± {np.std(recalls):.2f}\")\n",
        "print(f\"F1-Score médio: {np.mean(f1s):.2f} ± {np.std(f1s):.2f}\")"
      ],
      "metadata": {
        "colab": {
          "base_uri": "https://localhost:8080/"
        },
        "outputId": "76673bb9-bae6-4b11-ec43-f053160d177f",
        "id": "s9xIdIs6e167"
      },
      "execution_count": null,
      "outputs": [
        {
          "output_type": "stream",
          "name": "stdout",
          "text": [
            "MÉDIAS FINAIS (± desvio padrão):\n",
            "Acurácia média: 0.78 ± 0.06\n",
            "Precisão média: 0.81 ± 0.03\n",
            "Recall médio: 0.90 ± 0.06\n",
            "F1-Score médio: 0.85 ± 0.04\n"
          ]
        }
      ]
    },
    {
      "cell_type": "code",
      "source": [
        "# Converter para arrays, se necessário\n",
        "X_array_under = X_under.values if hasattr(X_under, \"values\") else np.array(X_under)\n",
        "y_array_under = y_under.values if hasattr(y_under, \"values\") else np.array(y_under)\n",
        "\n",
        "# Inicializar K-Fold\n",
        "skf_under = StratifiedKFold(n_splits=10, shuffle=True, random_state=42)\n",
        "\n",
        "# Listas para armazenar métricas de todos os folds\n",
        "accs_under, precs_under, recalls_under, f1s_under = [], [], [], []\n",
        "\n",
        "# Loop pelos folds\n",
        "for fold_under, (train_idx_under, test_idx_under) in enumerate(skf_under.split(X_array_under, y_array_under)):\n",
        "    X_train_under, X_test_under = X_array_under[train_idx_under], X_array_under[test_idx_under]\n",
        "    y_train_under, y_test_under = y_array_under[train_idx_under], y_array_under[test_idx_under]\n",
        "\n",
        "    knn_model_under = KNeighborsClassifier(n_neighbors=100)\n",
        "    knn_model_under.fit(X_train_under, y_train_under)\n",
        "    y_pred_under = knn_model_under.predict(X_test_under)\n",
        "\n",
        "    acc_under = accuracy_score(y_test_under, y_pred_under)\n",
        "    prec_under = precision_score(y_test_under, y_pred_under)\n",
        "    rec_under = recall_score(y_test_under, y_pred_under)\n",
        "    f1_under = f1_score(y_test_under, y_pred_under)\n",
        "\n",
        "    accs_under.append(acc_under)\n",
        "    precs_under.append(prec_under)\n",
        "    recalls_under.append(rec_under)\n",
        "    f1s_under.append(f1_under)\n",
        "\n",
        "# Mostrar médias e desvios padrão\n",
        "print(\"MÉDIAS FINAIS (± desvio padrão):\")\n",
        "print(f\"Acurácia média: {np.mean(accs_under):.2f} ± {np.std(accs_under):.2f}\")\n",
        "print(f\"Precisão média: {np.mean(precs_under):.2f} ± {np.std(precs_under):.2f}\")\n",
        "print(f\"Recall médio: {np.mean(recalls_under):.2f} ± {np.std(recalls_under):.2f}\")\n",
        "print(f\"F1-Score médio: {np.mean(f1s_under):.2f} ± {np.std(f1s_under):.2f}\")"
      ],
      "metadata": {
        "colab": {
          "base_uri": "https://localhost:8080/"
        },
        "outputId": "9200b2cc-2d5e-467a-f387-d24f912079ac",
        "id": "DvYOOarFe169"
      },
      "execution_count": null,
      "outputs": [
        {
          "output_type": "stream",
          "name": "stdout",
          "text": [
            "MÉDIAS FINAIS (± desvio padrão):\n",
            "Acurácia média: 0.76 ± 0.05\n",
            "Precisão média: 0.84 ± 0.06\n",
            "Recall médio: 0.65 ± 0.10\n",
            "F1-Score médio: 0.73 ± 0.07\n"
          ]
        }
      ]
    },
    {
      "cell_type": "code",
      "source": [
        "# Converter para arrays, se necessário\n",
        "X_array_over = X_over.values if hasattr(X_over, \"values\") else np.array(X_over)\n",
        "y_array_over = y_over.values if hasattr(y_over, \"values\") else np.array(y_over)\n",
        "\n",
        "# Inicializar K-Fold\n",
        "skf_over = StratifiedKFold(n_splits=10, shuffle=True, random_state=42)\n",
        "\n",
        "# Listas para armazenar métricas de todos os folds\n",
        "accs_over, precs_over, recalls_over, f1s_over = [], [], [], []\n",
        "\n",
        "# Loop pelos folds\n",
        "for fold_over, (train_idx_over, test_idx_over) in enumerate(skf_over.split(X_array_over, y_array_over)):\n",
        "    X_train_over, X_test_over = X_array_over[train_idx_over], X_array_over[test_idx_over]\n",
        "    y_train_over, y_test_over = y_array_over[train_idx_over], y_array_over[test_idx_over]\n",
        "\n",
        "    knn_model_over = KNeighborsClassifier(n_neighbors=100)\n",
        "    knn_model_over.fit(X_train_over, y_train_over)\n",
        "    y_pred_over = knn_model_over.predict(X_test_over)\n",
        "\n",
        "    acc_over = accuracy_score(y_test_over, y_pred_over)\n",
        "    prec_over = precision_score(y_test_over, y_pred_over)\n",
        "    rec_over = recall_score(y_test_over, y_pred_over)\n",
        "    f1_over = f1_score(y_test_over, y_pred_over)\n",
        "\n",
        "    accs_over.append(acc_over)\n",
        "    precs_over.append(prec_over)\n",
        "    recalls_over.append(rec_over)\n",
        "    f1s_over.append(f1_over)\n",
        "\n",
        "# Mostrar médias e desvios padrão\n",
        "print(\"MÉDIAS FINAIS (± desvio padrão):\")\n",
        "print(f\"Acurácia média: {np.mean(accs_over):.2f} ± {np.std(accs_over):.2f}\")\n",
        "print(f\"Precisão média: {np.mean(precs_over):.2f} ± {np.std(precs_over):.2f}\")\n",
        "print(f\"Recall médio: {np.mean(recalls_over):.2f} ± {np.std(recalls_over):.2f}\")\n",
        "print(f\"F1-Score médio: {np.mean(f1s_over):.2f} ± {np.std(f1s_over):.2f}\")"
      ],
      "metadata": {
        "colab": {
          "base_uri": "https://localhost:8080/"
        },
        "outputId": "5f37882b-9355-478f-8e99-cfef72f56642",
        "id": "df8M9wjRe16_"
      },
      "execution_count": null,
      "outputs": [
        {
          "output_type": "stream",
          "name": "stdout",
          "text": [
            "MÉDIAS FINAIS (± desvio padrão):\n",
            "Acurácia média: 0.80 ± 0.04\n",
            "Precisão média: 0.89 ± 0.05\n",
            "Recall médio: 0.69 ± 0.06\n",
            "F1-Score médio: 0.78 ± 0.05\n"
          ]
        }
      ]
    }
  ],
  "metadata": {
    "colab": {
      "provenance": [],
      "authorship_tag": "ABX9TyNDUQy3Ufi6/q7qVfCjxber"
    },
    "kernelspec": {
      "display_name": "Python 3",
      "name": "python3"
    },
    "language_info": {
      "name": "python"
    }
  },
  "nbformat": 4,
  "nbformat_minor": 0
}